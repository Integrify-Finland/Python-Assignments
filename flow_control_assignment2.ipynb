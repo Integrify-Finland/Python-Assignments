{
 "cells": [
  {
   "cell_type": "code",
   "execution_count": 6,
   "id": "8f90942a",
   "metadata": {},
   "outputs": [
    {
     "name": "stdout",
     "output_type": "stream",
     "text": [
      "Enter the radius of the circle: 8\n",
      "Do you want to calculate area or perimeter? (a/p): a\n",
      "The area of the circle with radius 8.0 is 201.06.\n"
     ]
    }
   ],
   "source": [
    "# Conditionals:\n",
    "# Get the radius value as input and calculate the area of the circle. \n",
    "# If the input is numeric, display the result otherwise display any other message.\n",
    "# If the user enters numeric value then ask user for either perimeter or area calculation and display accordingly.\n",
    "\n",
    "def circle_calc():\n",
    "    radius_input = input(\"Enter the radius of the circle: \")\n",
    "    if radius_input.isnumeric():\n",
    "        radius = float(radius_input)\n",
    "        calculation_type = input(\"Do you want to calculate area or perimeter? (a/p): \")\n",
    "        if calculation_type == 'a':\n",
    "            area = math.pi * radius ** 2\n",
    "            print(f\"The area of the circle with radius {radius} is {area:.2f}.\")\n",
    "        elif calculation_type == 'p':\n",
    "            perimeter = 2 * 22/7 * radius\n",
    "            print(f\"The perimeter of the circle with radius {radius} is {perimeter:.2f}.\")\n",
    "        else:\n",
    "            print(\"Invalid input. Please enter 'a' for area or 'p' for perimeter.\")\n",
    "    else:\n",
    "        print(\"Invalid input. Please enter a numeric value for the radius.\")\n",
    "\n",
    "circle_calc()"
   ]
  },
  {
   "cell_type": "code",
   "execution_count": 7,
   "id": "273d73a1",
   "metadata": {},
   "outputs": [
    {
     "name": "stdout",
     "output_type": "stream",
     "text": [
      "Removed 'ML' from Maria's courses.\n",
      "Enter a substring: hi\n",
      "Substring is present.\n"
     ]
    }
   ],
   "source": [
    "# {'Duy': ['Python', 'Database', 'ML'], 'Laxmi': ['Python', 'Database', 'ML'],\n",
    "# 'Antonio': ['Python', 'Database', 'ML'],'Maria': ['Python', 'Database', 'ML']}\n",
    "# Check if there is a student named 'Maria' in students_profile dictionary. \n",
    "# If exists remove 'ML' from her course.\n",
    "\n",
    "\n",
    "students_profile = {'Duy': ['Python', 'Database', 'ML'], \n",
    "                    'Laxmi': ['Python', 'Database', 'ML'],\n",
    "                    'Antonio': ['Python', 'Database', 'ML'],\n",
    "                    'Maria': ['Python', 'Database', 'ML']}\n",
    "if 'Maria' in students_profile:\n",
    "    students_profile['Maria'].remove('ML')\n",
    "    print(\"Removed 'ML' from Maria's courses.\")\n",
    "else:\n",
    "    print(\"Maria does not exist in the dictionary.\")\n",
    "\n",
    "\n",
    "# Take the input from the user as a substring. \n",
    "# If that substring is present in string then display substring is present otherwise substring is not present\n",
    "\n",
    "substring = input(\"Enter a substring: \")\n",
    "string = \"This is a sample string.\"\n",
    "if substring in string:\n",
    "    print(\"Substring is present.\")\n",
    "else:\n",
    "    print(\"Substring is not present.\")\n"
   ]
  },
  {
   "cell_type": "code",
   "execution_count": 8,
   "id": "25d7c5ef",
   "metadata": {},
   "outputs": [
    {
     "name": "stdout",
     "output_type": "stream",
     "text": [
      "Enter the order (1, 2, or 3): 3\n",
      "Minkowski distance with order 3 between the points is 4.3267487109222245\n"
     ]
    }
   ],
   "source": [
    "# Distance Metrics are important to calculate the similarity between the vectors. \n",
    "# They are used in both supervised and unsupervised machine learning problems. \n",
    "# Given the points (1,2,3) and (4,5,6), write a python conditional statement to print the distance for the order 1,2,3,4. \n",
    "# If the order is 1 then it is L1 norm(Manhattan distance), order 2 is L2 norm(Euclidean distance) and \n",
    "# the generalized distance is given by Minkowski equation.\n",
    "\n",
    "import math\n",
    "\n",
    "point1 = (1, 2, 3)\n",
    "point2 = (4, 5, 6)\n",
    "\n",
    "order = int(input(\"Enter the order (1, 2, or 3): \"))\n",
    "\n",
    "if order == 1:\n",
    "    distance = sum(abs(p1 - p2) for p1, p2 in zip(point1, point2))\n",
    "    print(\"L1 norm (Manhattan distance) between the points is\", distance)\n",
    "elif order == 2:\n",
    "    distance = math.sqrt(sum((p1 - p2) ** 2 for p1, p2 in zip(point1, point2)))\n",
    "    print(\"L2 norm (Euclidean distance) between the points is\", distance)\n",
    "elif order == 3:\n",
    "    distance = sum(abs(p1 - p2) ** 3 for p1, p2 in zip(point1, point2)) ** (1/3)\n",
    "    print(\"Minkowski distance with order 3 between the points is\", distance)\n",
    "else:\n",
    "    print(\"Invalid order. Please enter 1, 2, or 3.\")\n",
    "\n"
   ]
  },
  {
   "cell_type": "code",
   "execution_count": 14,
   "id": "9e13037c",
   "metadata": {},
   "outputs": [
    {
     "name": "stdout",
     "output_type": "stream",
     "text": [
      "Enter a number: 2\n",
      "2 x 1 = 2\n",
      "2 x 2 = 4\n",
      "2 x 3 = 6\n",
      "2 x 4 = 8\n",
      "2 x 5 = 10\n",
      "2 x 6 = 12\n",
      "2 x 7 = 14\n",
      "2 x 8 = 16\n",
      "2 x 9 = 18\n",
      "2 x 10 = 20\n"
     ]
    }
   ],
   "source": [
    "# Write a multiplication table for any given number using both for and while loop\n",
    "\n",
    "num = input(\"Enter a number: \")\n",
    "\n",
    "if num.isnumeric():\n",
    "    i = 1\n",
    "    while i <= 10:\n",
    "        product = int(num) * i\n",
    "        print(int(num), \"x\", i, \"=\", product)\n",
    "        i += 1\n",
    "else:\n",
    "    print(\"Non nuumeric value entered.\")\n"
   ]
  },
  {
   "cell_type": "code",
   "execution_count": 16,
   "id": "036b2dc2",
   "metadata": {},
   "outputs": [
    {
     "name": "stdout",
     "output_type": "stream",
     "text": [
      "T\n",
      "TT\n",
      "TTA\n",
      "TTAG\n",
      "TTAGG\n",
      "TTAGGC\n",
      "TTAGGCT\n",
      "TTAGGCTT\n",
      "TTAGGCTTT\n",
      "TTAGGCTTTT\n",
      "TTAGGCTTTTA\n",
      "TTAGGCTTTTAA\n",
      "TTAGGCTTTTAAG\n",
      "TTAGGCTTTTAAGC\n",
      "TTAGGCTTTTAAGCC\n",
      "TTAGGCTTTTAAGCCC\n",
      "TTAGGCTTTTAAGCCCT\n",
      "TTAGGCTTTTAAGCCCTT\n",
      "TTAGGCTTTTAAGCCCTTA\n",
      "TTAGGCTTTTAAGCCCTTAA\n",
      "TTAGGCTTTTAAGCCCTTAAA\n",
      "TTAGGCTTTTAAGCCCTTAAAA\n",
      "TTAGGCTTTTAAGCCCTTAAAAG\n",
      "TTAGGCTTTTAAGCCCTTAAAAGC\n",
      "TTAGGCTTTTAAGCCCTTAAAAGCG\n",
      "TTAGGCTTTTAAGCCCTTAAAAGCGC\n",
      "TTAGGCTTTTAAGCCCTTAAAAGCGCA\n"
     ]
    }
   ],
   "source": [
    "# DNA is coded using 4 nitrogen bases with the symbols A,T,G,C. \n",
    "# Given the template string dna_template='AATCCGAAAATTCGGGAATTTTCGCGT', \n",
    "# generate the complementary dna template with the mapping\n",
    "# mapper={\"T\":\"A\",\"A\":\"T\",\"G\":\"C\",\"C\":\"G\"}\n",
    "\n",
    "dna_template = 'AATCCGAAAATTCGGGAATTTTCGCGT'\n",
    "mapper = {\"T\": \"A\", \"A\": \"T\", \"G\": \"C\", \"C\": \"G\"}\n",
    "\n",
    "complementary_dna = \"\"\n",
    "for dna in dna_template:\n",
    "    complementary_dna += mapper[dna]\n",
    "    print(complementary_dna)\n",
    "\n"
   ]
  },
  {
   "cell_type": "code",
   "execution_count": 18,
   "id": "e56e057e",
   "metadata": {},
   "outputs": [
    {
     "name": "stdout",
     "output_type": "stream",
     "text": [
      "[0, 1, 1, 2, 3, 5, 8, 13, 21, 34, 55, 89, 144, 144]\n"
     ]
    }
   ],
   "source": [
    "# Generate the list f_series=x=[0,1,1,2,3,5,8,13,21,34,55,89,144]. \n",
    "# Looks Familiar? This is Fibonacci series where x[0]=0,x[1]=1, and x[n]=x[n-1]+x[n-2] for n>1\n",
    "\n",
    "f_series = x = [0, 1]\n",
    "for i in range (1,13):\n",
    "    x[i] = x[i-1]+x[i-2]\n",
    "    f_series.append(x[i])\n",
    "\n",
    "print(f_series)   "
   ]
  },
  {
   "cell_type": "code",
   "execution_count": 30,
   "id": "24fb9633",
   "metadata": {},
   "outputs": [
    {
     "name": "stdout",
     "output_type": "stream",
     "text": [
      "[1, 2, 3, 5, 7, 11, 13, 17, 19, 23, 29, 31, 37, 41, 43, 47, 53, 59, 61, 67, 71, 73, 79, 83, 89, 97]\n"
     ]
    }
   ],
   "source": [
    "# Generate a list of n numbers of prime numbers\n",
    "\n",
    "def find_prime():\n",
    "    prime_numbers = []\n",
    "    for x in range(1,100):\n",
    "        factors = []\n",
    "        for i in range(1, x + 1):\n",
    "            if x % i == 0:\n",
    "                factors.append(i)\n",
    "        if len(factors) < 3:\n",
    "            prime_numbers.append(x)\n",
    "    print(prime_numbers)\n",
    "\n",
    "find_prime()\n",
    "        \n"
   ]
  },
  {
   "cell_type": "code",
   "execution_count": 34,
   "id": "bcd4dde2",
   "metadata": {},
   "outputs": [
    {
     "name": "stdout",
     "output_type": "stream",
     "text": [
      "data1_normalized: \n",
      " [0.0, 0.17582417582417584, 0.12087912087912088, 0.15384615384615385, 0.31868131868131866, 0.6483516483516484, 0.5164835164835165, 0.5494505494505495, 0.967032967032967, 1.0, 0.5824175824175825, 0.07692307692307693]\n",
      "\n",
      "data2_normalized: \n",
      " [-0.2962962962962963, 0.2592592592592593, 0.14814814814814814, 0.4444444444444444, 1.0, -1.0, 0.37037037037037046, 0.7407407407407407, -0.14814814814814814, 0.6666666666666667, 0.2962962962962963, 0.11111111111111116]\n"
     ]
    }
   ],
   "source": [
    "# Perform the minmax normalization to the range [0,1] for the data1 and \n",
    "# minmax normalization to the range [-1,1] for the data2\n",
    "\n",
    "# data1=[1,17,12,15,30,60,48,51,89,92,54,8], use\n",
    "# X_scaled = (X - X_min) / (X_max - X_min)\n",
    "\n",
    "# data2=[-13,2,-1,7,22,-32,5,15,-9,13,3,-2], use\n",
    "# X_scaled = 2 * (X - X_min) / (X_max - X_min) - 1\n",
    "\n",
    "# The general formula for scaling in the range [a,b] is\n",
    "# X_scaled = (b-a) * (X - X_min) / (X_max - X_min) + a\n",
    "\n",
    "data1 = [1, 17, 12, 15, 30, 60, 48, 51, 89, 92, 54, 8]\n",
    "X_min = min(data1)\n",
    "X_max = max(data1)\n",
    "data1_normalized = [(x - X_min) / (X_max - X_min) for x in data1]\n",
    "print(f\"data1_normalized: \\n {data1_normalized}\\n\")\n",
    "\n",
    "data2 = [-13, 2, -1, 7, 22, -32, 5, 15, -9, 13, 3, -2]\n",
    "X_min = min(data2)\n",
    "X_max = max(data2)\n",
    "data2_normalized = [2 * (x - X_min) / (X_max - X_min) - 1 for x in data2]\n",
    "print(f\"data2_normalized: \\n {data2_normalized}\")\n",
    "\n"
   ]
  },
  {
   "cell_type": "code",
   "execution_count": 46,
   "id": "a4d0ebde",
   "metadata": {},
   "outputs": [
    {
     "name": "stdout",
     "output_type": "stream",
     "text": [
      "Bubble sort:\n",
      "Bubble sort works by repeatedly swapping the adjacent elements if they are in the wrong order.\n",
      "It passes through the list multiple times until no more swaps are required.\n",
      "\n",
      "Selection Sort:\n",
      "Selection sort works by repeatedly finding the minimum element from the unsorted part of the list and placing it at the beginning of the list.\n",
      "\n",
      "Insertion Sort:\n",
      "Insertion sort works by dividing the list into two parts: sorted and unsorted.\n",
      "It picks one element from the unsorted part and inserts it at the correct position in the sorted part.\n",
      "\n",
      "[1, 2, 3, 4, 6, 7, 9]\n",
      "[1, 2, 3, 4, 6, 7, 9]\n",
      "[1, 2, 3, 4, 6, 7, 9]\n",
      "Bubble Sort Time: 0.04297685623168945 seconds\n",
      "Selection Sort Time: 0.02633190155029297 seconds\n",
      "Insertion Sort Time: 0.0 seconds\n"
     ]
    }
   ],
   "source": [
    "# Understand how sorting algorithms work(bubble,selection,insertion). \n",
    "# Implement them of your own. \n",
    "# Also compare time complexities.\n",
    "\n",
    "print(\"Bubble sort:\")\n",
    "print(\"Bubble sort works by repeatedly swapping the adjacent elements if they are in the wrong order.\\nIt passes through the list multiple times until no more swaps are required.\\n\")\n",
    "def bubble_sort(arr):\n",
    "    n = len(arr)\n",
    "    for i in range(n):\n",
    "        for j in range(0, n-i-1):\n",
    "            if arr[j] > arr[j+1]:\n",
    "                arr[j], arr[j+1] = arr[j+1], arr[j]\n",
    "#                 print(arr)\n",
    "    return arr\n",
    "\n",
    "print(\"Selection Sort:\\nSelection sort works by repeatedly finding the minimum element from the unsorted part of the list and placing it at the beginning of the list.\\n\")\n",
    "def selection_sort(arr):\n",
    "    n = len(arr)\n",
    "    for i in range(n):\n",
    "        min_idx = i\n",
    "        for j in range(i+1, n):\n",
    "            if arr[j] < arr[min_idx]:\n",
    "                min_idx = j\n",
    "        arr[i], arr[min_idx] = arr[min_idx], arr[i]\n",
    "    return arr\n",
    "\n",
    "\n",
    "print(\"Insertion Sort:\\nInsertion sort works by dividing the list into two parts: sorted and unsorted.\\nIt picks one element from the unsorted part and inserts it at the correct position in the sorted part.\\n\")\n",
    "def insertion_sort(arr):\n",
    "    n = len(arr)\n",
    "    for i in range(1, n):\n",
    "        key = arr[i]\n",
    "        j = i-1\n",
    "        while j >= 0 and key < arr[j]:\n",
    "            arr[j+1] = arr[j]\n",
    "            j -= 1\n",
    "        arr[j+1] = key\n",
    "    return arr\n",
    "\n",
    "arr = [2,4,1,6,9,3,7]\n",
    "print(bubble_sort(arr))\n",
    "print(selection_sort(arr))\n",
    "print(insertion_sort(arr))\n",
    "\n",
    "import random\n",
    "import time\n",
    "\n",
    "arr = [random.randint(0, 1000) for _ in range(1000)]\n",
    "\n",
    "start_time = time.time()\n",
    "bubble_sort(arr)\n",
    "print(\"Bubble Sort Time: %s seconds\" % (time.time() - start_time))\n",
    "\n",
    "start_time = time.time()\n",
    "selection_sort(arr)\n",
    "print(\"Selection Sort Time: %s seconds\" % (time.time() - start_time))\n",
    "\n",
    "start_time = time.time()\n",
    "insertion_sort(arr)\n",
    "print(\"Insertion Sort Time: %s seconds\" % (time.time() - start_time))\n"
   ]
  },
  {
   "cell_type": "code",
   "execution_count": 53,
   "id": "1949a35b",
   "metadata": {},
   "outputs": [
    {
     "name": "stdout",
     "output_type": "stream",
     "text": [
      "120\n"
     ]
    },
    {
     "data": {
      "text/plain": [
       "'Calculates the factorial of a given number.'"
      ]
     },
     "execution_count": 53,
     "metadata": {},
     "output_type": "execute_result"
    }
   ],
   "source": [
    "# Write a function factorial of a given number\n",
    "\n",
    "def factorial(n):\n",
    "    \"\"\"Calculates the factorial of a given number.\"\"\"\n",
    "    if n < 0:\n",
    "        print(\"Factorial is not defined for negative numbers\")\n",
    "    elif n == 0:\n",
    "        return 1\n",
    "    else:\n",
    "        return n * factorial(n-1)\n",
    "\n",
    "\n",
    "print(factorial(5))\n",
    "factorial.__doc__\n",
    "\n"
   ]
  },
  {
   "cell_type": "code",
   "execution_count": 57,
   "id": "410fec73",
   "metadata": {},
   "outputs": [
    {
     "name": "stdout",
     "output_type": "stream",
     "text": [
      "0.5\n",
      "0\n",
      "3\n",
      "-0.2\n",
      "0.7615941559557649\n"
     ]
    }
   ],
   "source": [
    "# Write a function that takes two arguments: \n",
    "# activation_function name and value that returns the output of specific activation_function. \n",
    "# Implement for sigmoid, binary step function, relu, leaky rely, tanh.\n",
    "# Eg : activation_function('sigmoid',0) should return 0.5\n",
    "\n",
    "import math\n",
    "\n",
    "def activation_function(func_name, x):\n",
    "    \"\"\"Computes the output of the specified activation function for the given value.\n",
    "       func_name (str): The name of the activation function.\n",
    "       x (float): The input value to the activation function.\"\"\"\n",
    "    if func_name == \"sigmoid\":\n",
    "        return 1 / (1 + math.exp(-x))\n",
    "    elif func_name == \"binary_step\":\n",
    "        return 1 if x >= 0 else 0\n",
    "    elif func_name == \"relu\":\n",
    "        return max(0, x)\n",
    "    elif func_name == \"leaky_relu\":\n",
    "        return max(0.1 * x, x)\n",
    "    elif func_name == \"tanh\":\n",
    "        return math.tanh(x)\n",
    "    else:\n",
    "        print(\"Invalid activation function\")\n",
    "        \n",
    "print(activation_function(\"sigmoid\", 0))\n",
    "print(activation_function(\"binary_step\", -1))\n",
    "print(activation_function(\"relu\", 3))\n",
    "print(activation_function(\"leaky_relu\", -2))\n",
    "print(activation_function(\"tanh\", 1))\n",
    "\n"
   ]
  },
  {
   "cell_type": "code",
   "execution_count": 63,
   "id": "38b712df",
   "metadata": {},
   "outputs": [
    {
     "name": "stdout",
     "output_type": "stream",
     "text": [
      "60\n"
     ]
    }
   ],
   "source": [
    "# Write a function that returns permutation. \n",
    "# Permutation is the number of ways to arrange 'r' objects form a set of 'n' objects where order matters and the formula is\n",
    "# P(n, r) = n! / (n - r)!. Use the factorial function from above exercise.\n",
    "\n",
    "def permutation(n, r):\n",
    "    \"\"\"Calculates the number of permutations of 'r' objects from a set of 'n' objects, where order matters.\n",
    "    n : The total number of objects in the set.\n",
    "    r : The number of objects to arrange.\"\"\"\n",
    "    if n < 0 or r < 0 or r > n:\n",
    "        print(\"Invalid values for n and r\")\n",
    "    else:\n",
    "        return int(factorial(n) / factorial(n - r))\n",
    "\n",
    "print(permutation(5,3))"
   ]
  },
  {
   "cell_type": "code",
   "execution_count": 65,
   "id": "ced85866",
   "metadata": {},
   "outputs": [
    {
     "name": "stdout",
     "output_type": "stream",
     "text": [
      "360360\n",
      "120\n",
      "(30240, 252)\n"
     ]
    }
   ],
   "source": [
    "# Write a function that takes three arguments. \n",
    "# First arguments should determine whether to return permutation or combination or both. \n",
    "# Make the first argument optional and default is both if nothing is passed while calling the function.\n",
    "# The second argument is n, which is optional and default is 10. \n",
    "# Finally the third argument is r, which is also optional and default is 5.\n",
    "\n",
    "def perm_or_comb(p_or_c='both', n=10, r=5):\n",
    "    \"\"\"Calculates the number of permutations, combinations, or both, depending on the value of the first argument.\n",
    "    Args:\n",
    "        p_or_c (str, optional): Determines whether to return permutations ('P'), combinations ('C'), or both ('both').\n",
    "                                 Defaults to 'both'.\n",
    "        n (int, optional): The total number of objects in the set. Defaults to 10.\n",
    "        r (int, optional): The number of objects to arrange or choose. Defaults to 5.\"\"\"\n",
    "    if n < 0 or r < 0 or r > n:\n",
    "        raise ValueError(\"Invalid values for n and r\")\n",
    "    \n",
    "    if p_or_c == 'P':\n",
    "        return factorial(n) // factorial(n - r)\n",
    "    \n",
    "    elif p_or_c == 'C':\n",
    "        return factorial(n) // (factorial(n - r) * factorial(r))\n",
    "    \n",
    "    elif p_or_c == 'both':\n",
    "        num_permutations = factorial(n) // factorial(n - r)\n",
    "        num_combinations = factorial(n) // (factorial(n - r) * factorial(r))\n",
    "        return (num_permutations, num_combinations)\n",
    "    \n",
    "    else:\n",
    "        print(\"Invalid value for p_or_c\")\n",
    "\n",
    "        \n",
    "print(perm_or_comb('P', 15, 5) ) \n",
    "print(perm_or_comb('C', 10, 3) )\n",
    "print(perm_or_comb()  )\n",
    "\n"
   ]
  },
  {
   "cell_type": "code",
   "execution_count": 66,
   "id": "fb05a540",
   "metadata": {},
   "outputs": [
    {
     "name": "stdout",
     "output_type": "stream",
     "text": [
      "Positional arguments:\n",
      "1\n",
      "2\n",
      "3\n",
      "Keyword arguments:\n",
      "language: python\n",
      "week: 2\n"
     ]
    }
   ],
   "source": [
    "# Implement a function that takes any number of positional and keyword arguments.\n",
    "\n",
    "def my_function(*args, **kwargs):\n",
    "    print(\"Positional arguments:\")\n",
    "    for arg in args:\n",
    "        print(arg)\n",
    "        \n",
    "    print(\"Keyword arguments:\")\n",
    "    for key, value in kwargs.items():\n",
    "        print(f\"{key}: {value}\")\n",
    "\n",
    "my_function(1, 2, 3, language = 'python', week=2)\n"
   ]
  },
  {
   "cell_type": "code",
   "execution_count": null,
   "id": "806313b8",
   "metadata": {},
   "outputs": [],
   "source": [
    "# Understand scope of variables: LEGB Rule \n",
    "# 1. Local to the function eg. variable defined in the function \n",
    "# 2. Enclosing or nonlocal eg. variables defined in enclosing function in nested function \n",
    "# 3. Global eg. variables defined within main program or module \n",
    "# 4. Built-in eg. Python keywords\n",
    "\n",
    "x = 10 # global variable\n",
    "def outer():\n",
    "    y = 20 # enclosing variable\n",
    "    \n",
    "    def inner():\n",
    "        z = 30 # local variable\n",
    "        print(x, y, z)\n",
    "    \n",
    "    inner()\n",
    "\n",
    "outer()\n",
    "\n",
    "# In this example, x is a global variable that can be accessed from anywhere in the program. \n",
    "# y is a nonlocal (or enclosing) variable that is defined in the outer function and can be accessed within the inner function. \n",
    "# z is a local variable that is defined inside the inner function and can only be accessed within that function.\n"
   ]
  }
 ],
 "metadata": {
  "kernelspec": {
   "display_name": "Python 3 (ipykernel)",
   "language": "python",
   "name": "python3"
  },
  "language_info": {
   "codemirror_mode": {
    "name": "ipython",
    "version": 3
   },
   "file_extension": ".py",
   "mimetype": "text/x-python",
   "name": "python",
   "nbconvert_exporter": "python",
   "pygments_lexer": "ipython3",
   "version": "3.11.2"
  }
 },
 "nbformat": 4,
 "nbformat_minor": 5
}
