{
 "cells": [
  {
   "cell_type": "markdown",
   "id": "885c6579",
   "metadata": {},
   "source": [
    "<div style = \"text-align: left\"><font size = 8 color = \"#B22222\" face = \"verdana\"><b>Integrify</b></font></div>\n",
    "<div style = \"text-align: left\"><font size = 6 color = \"#00008B\" face = \"verdana\"><b>Home work_2</b></font></div>"
   ]
  },
  {
   "cell_type": "markdown",
   "id": "7db9554e",
   "metadata": {},
   "source": [
    "#### import libraries"
   ]
  },
  {
   "cell_type": "code",
   "execution_count": 31,
   "id": "03c318dc",
   "metadata": {},
   "outputs": [],
   "source": [
    "import numpy as np\n",
    "import pandas as pd\n",
    "import seaborn as sns\n",
    "import matplotlib.pyplot as plt"
   ]
  },
  {
   "cell_type": "markdown",
   "id": "0f351887",
   "metadata": {},
   "source": [
    "#### Data Ingestion"
   ]
  },
  {
   "cell_type": "code",
   "execution_count": 17,
   "id": "5d311e1a",
   "metadata": {},
   "outputs": [
    {
     "data": {
      "text/html": [
       "<div>\n",
       "<style scoped>\n",
       "    .dataframe tbody tr th:only-of-type {\n",
       "        vertical-align: middle;\n",
       "    }\n",
       "\n",
       "    .dataframe tbody tr th {\n",
       "        vertical-align: top;\n",
       "    }\n",
       "\n",
       "    .dataframe thead th {\n",
       "        text-align: right;\n",
       "    }\n",
       "</style>\n",
       "<table border=\"1\" class=\"dataframe\">\n",
       "  <thead>\n",
       "    <tr style=\"text-align: right;\">\n",
       "      <th></th>\n",
       "      <th>S1</th>\n",
       "      <th>S2</th>\n",
       "      <th>S3</th>\n",
       "    </tr>\n",
       "  </thead>\n",
       "  <tbody>\n",
       "    <tr>\n",
       "      <th>0</th>\n",
       "      <td>499.0</td>\n",
       "      <td>322.0</td>\n",
       "      <td>382.0</td>\n",
       "    </tr>\n",
       "    <tr>\n",
       "      <th>1</th>\n",
       "      <td>493.0</td>\n",
       "      <td>331.0</td>\n",
       "      <td>375.0</td>\n",
       "    </tr>\n",
       "    <tr>\n",
       "      <th>2</th>\n",
       "      <td>501.0</td>\n",
       "      <td>319.0</td>\n",
       "      <td>391.0</td>\n",
       "    </tr>\n",
       "    <tr>\n",
       "      <th>3</th>\n",
       "      <td>502.0</td>\n",
       "      <td>330.0</td>\n",
       "      <td>380.0</td>\n",
       "    </tr>\n",
       "    <tr>\n",
       "      <th>4</th>\n",
       "      <td>486.0</td>\n",
       "      <td>333.0</td>\n",
       "      <td>372.0</td>\n",
       "    </tr>\n",
       "  </tbody>\n",
       "</table>\n",
       "</div>"
      ],
      "text/plain": [
       "      S1     S2     S3\n",
       "0  499.0  322.0  382.0\n",
       "1  493.0  331.0  375.0\n",
       "2  501.0  319.0  391.0\n",
       "3  502.0  330.0  380.0\n",
       "4  486.0  333.0  372.0"
      ]
     },
     "execution_count": 17,
     "metadata": {},
     "output_type": "execute_result"
    }
   ],
   "source": [
    "data_df = pd.read_excel('integrify_data/Group4.xlsx')\n",
    "data_df.head()\n",
    "                        "
   ]
  },
  {
   "cell_type": "markdown",
   "id": "dc6fee92",
   "metadata": {},
   "source": [
    "#### Covariance of the three variables S1 S2 S3"
   ]
  },
  {
   "cell_type": "code",
   "execution_count": 20,
   "id": "b0b95ed8",
   "metadata": {},
   "outputs": [
    {
     "data": {
      "text/html": [
       "<div>\n",
       "<style scoped>\n",
       "    .dataframe tbody tr th:only-of-type {\n",
       "        vertical-align: middle;\n",
       "    }\n",
       "\n",
       "    .dataframe tbody tr th {\n",
       "        vertical-align: top;\n",
       "    }\n",
       "\n",
       "    .dataframe thead th {\n",
       "        text-align: right;\n",
       "    }\n",
       "</style>\n",
       "<table border=\"1\" class=\"dataframe\">\n",
       "  <thead>\n",
       "    <tr style=\"text-align: right;\">\n",
       "      <th></th>\n",
       "      <th>S1</th>\n",
       "      <th>S2</th>\n",
       "      <th>S3</th>\n",
       "    </tr>\n",
       "  </thead>\n",
       "  <tbody>\n",
       "    <tr>\n",
       "      <th>S1</th>\n",
       "      <td>244.786050</td>\n",
       "      <td>-2.948224</td>\n",
       "      <td>84.388746</td>\n",
       "    </tr>\n",
       "    <tr>\n",
       "      <th>S2</th>\n",
       "      <td>-2.948224</td>\n",
       "      <td>368.950956</td>\n",
       "      <td>-43.226885</td>\n",
       "    </tr>\n",
       "    <tr>\n",
       "      <th>S3</th>\n",
       "      <td>84.388746</td>\n",
       "      <td>-43.226885</td>\n",
       "      <td>341.582173</td>\n",
       "    </tr>\n",
       "  </tbody>\n",
       "</table>\n",
       "</div>"
      ],
      "text/plain": [
       "            S1          S2          S3\n",
       "S1  244.786050   -2.948224   84.388746\n",
       "S2   -2.948224  368.950956  -43.226885\n",
       "S3   84.388746  -43.226885  341.582173"
      ]
     },
     "execution_count": 20,
     "metadata": {},
     "output_type": "execute_result"
    }
   ],
   "source": [
    "data_df.cov()"
   ]
  },
  {
   "cell_type": "markdown",
   "id": "eab16a25",
   "metadata": {},
   "source": [
    "#### Correlation Coefficient between the three coefficient S1 S2 S3"
   ]
  },
  {
   "cell_type": "code",
   "execution_count": 22,
   "id": "89e6b22c",
   "metadata": {},
   "outputs": [
    {
     "data": {
      "text/html": [
       "<div>\n",
       "<style scoped>\n",
       "    .dataframe tbody tr th:only-of-type {\n",
       "        vertical-align: middle;\n",
       "    }\n",
       "\n",
       "    .dataframe tbody tr th {\n",
       "        vertical-align: top;\n",
       "    }\n",
       "\n",
       "    .dataframe thead th {\n",
       "        text-align: right;\n",
       "    }\n",
       "</style>\n",
       "<table border=\"1\" class=\"dataframe\">\n",
       "  <thead>\n",
       "    <tr style=\"text-align: right;\">\n",
       "      <th></th>\n",
       "      <th>S1</th>\n",
       "      <th>S2</th>\n",
       "      <th>S3</th>\n",
       "    </tr>\n",
       "  </thead>\n",
       "  <tbody>\n",
       "    <tr>\n",
       "      <th>S1</th>\n",
       "      <td>1.000000</td>\n",
       "      <td>-0.009810</td>\n",
       "      <td>0.291839</td>\n",
       "    </tr>\n",
       "    <tr>\n",
       "      <th>S2</th>\n",
       "      <td>-0.009810</td>\n",
       "      <td>1.000000</td>\n",
       "      <td>-0.121765</td>\n",
       "    </tr>\n",
       "    <tr>\n",
       "      <th>S3</th>\n",
       "      <td>0.291839</td>\n",
       "      <td>-0.121765</td>\n",
       "      <td>1.000000</td>\n",
       "    </tr>\n",
       "  </tbody>\n",
       "</table>\n",
       "</div>"
      ],
      "text/plain": [
       "          S1        S2        S3\n",
       "S1  1.000000 -0.009810  0.291839\n",
       "S2 -0.009810  1.000000 -0.121765\n",
       "S3  0.291839 -0.121765  1.000000"
      ]
     },
     "execution_count": 22,
     "metadata": {},
     "output_type": "execute_result"
    }
   ],
   "source": [
    "data_df.corr()"
   ]
  },
  {
   "cell_type": "markdown",
   "id": "bcafd47d",
   "metadata": {},
   "source": [
    "#### Plot of the relationship between the variables S1, S2, S3"
   ]
  },
  {
   "cell_type": "code",
   "execution_count": 63,
   "id": "4cd9ef51",
   "metadata": {},
   "outputs": [
    {
     "data": {
      "image/png": "[encoded data removed]",
      "text/plain": [
       "<Figure size 1008x576 with 2 Axes>"
      ]
     },
     "metadata": {},
     "output_type": "display_data"
    }
   ],
   "source": [
    "plt.figure(figsize=(14,8))\n",
    "sns.set_theme(style=\"white\")\n",
    "cov = data_df.cov()\n",
    "heatmap = sns.heatmap(cov, annot=True, cmap=\"Blues\", fmt='.1g')"
   ]
  },
  {
   "cell_type": "code",
   "execution_count": 26,
   "id": "bd30fec4",
   "metadata": {},
   "outputs": [
    {
     "data": {
      "image/png": "[encoded data removed]",
      "text/plain": [
       "<Figure size 540x540 with 12 Axes>"
      ]
     },
     "metadata": {
      "needs_background": "light"
     },
     "output_type": "display_data"
    }
   ],
   "source": [
    "sns.pairplot(data_df);"
   ]
  },
  {
   "cell_type": "code",
   "execution_count": 32,
   "id": "cc6cf66d",
   "metadata": {},
   "outputs": [
    {
     "data": {
      "image/png": "[encoded data removed]",
      "text/plain": [
       "<Figure size 1008x576 with 2 Axes>"
      ]
     },
     "metadata": {
      "needs_background": "light"
     },
     "output_type": "display_data"
    }
   ],
   "source": [
    "plt.figure(figsize=(14,8))\n",
    "sns.set_theme(style=\"white\")\n",
    "corr = data_df.corr()\n",
    "heatmap = sns.heatmap(corr, annot=True, cmap=\"Blues\", fmt='.1g')"
   ]
  },
  {
   "cell_type": "markdown",
   "id": "f82b08a0",
   "metadata": {},
   "source": [
    "#### To Generate a random sample of 50 observations for each sensor"
   ]
  },
  {
   "cell_type": "code",
   "execution_count": 35,
   "id": "fb4f6697",
   "metadata": {},
   "outputs": [
    {
     "name": "stdout",
     "output_type": "stream",
     "text": [
      "The shape of the sample data: (50, 3)\n"
     ]
    },
    {
     "data": {
      "text/html": [
       "<div>\n",
       "<style scoped>\n",
       "    .dataframe tbody tr th:only-of-type {\n",
       "        vertical-align: middle;\n",
       "    }\n",
       "\n",
       "    .dataframe tbody tr th {\n",
       "        vertical-align: top;\n",
       "    }\n",
       "\n",
       "    .dataframe thead th {\n",
       "        text-align: right;\n",
       "    }\n",
       "</style>\n",
       "<table border=\"1\" class=\"dataframe\">\n",
       "  <thead>\n",
       "    <tr style=\"text-align: right;\">\n",
       "      <th></th>\n",
       "      <th>S1</th>\n",
       "      <th>S2</th>\n",
       "      <th>S3</th>\n",
       "    </tr>\n",
       "  </thead>\n",
       "  <tbody>\n",
       "    <tr>\n",
       "      <th>91</th>\n",
       "      <td>512.0</td>\n",
       "      <td>332.0</td>\n",
       "      <td>362.0</td>\n",
       "    </tr>\n",
       "    <tr>\n",
       "      <th>204</th>\n",
       "      <td>453.0</td>\n",
       "      <td>366.0</td>\n",
       "      <td>379.0</td>\n",
       "    </tr>\n",
       "  </tbody>\n",
       "</table>\n",
       "</div>"
      ],
      "text/plain": [
       "        S1     S2     S3\n",
       "91   512.0  332.0  362.0\n",
       "204  453.0  366.0  379.0"
      ]
     },
     "execution_count": 35,
     "metadata": {},
     "output_type": "execute_result"
    }
   ],
   "source": [
    "sample_data_df = data_df.sample(50)\n",
    "print(f\"The shape of the sample data: {sample_data_df.shape}\")\n",
    "sample_data_df.head(2)"
   ]
  },
  {
   "cell_type": "code",
   "execution_count": 37,
   "id": "fbf4cd0b",
   "metadata": {},
   "outputs": [],
   "source": [
    "s1 = data_df['S1'].sample(50)\n",
    "s2 = data_df['S2'].sample(50)\n",
    "s3 = np.random.choice(data_df['S3'] ,50 , replace=False)"
   ]
  },
  {
   "cell_type": "markdown",
   "id": "3a82a5b9",
   "metadata": {},
   "source": [
    "#### Confifence level [90%, 95%, 99%]"
   ]
  },
  {
   "cell_type": "code",
   "execution_count": 39,
   "id": "e7b461a1",
   "metadata": {},
   "outputs": [
    {
     "data": {
      "text/plain": [
       "{'90%': 1.64, '95%': 1.96, '99%': 2.58}"
      ]
     },
     "execution_count": 39,
     "metadata": {},
     "output_type": "execute_result"
    }
   ],
   "source": [
    "# dictionary of z-values and its corresponding confidence level\n",
    "pctage_zvalue_dict = {'90%':1.64, '95%':1.96, '99%':2.58}\n",
    "pctage_zvalue_dict"
   ]
  },
  {
   "cell_type": "code",
   "execution_count": 53,
   "id": "2f2faceb",
   "metadata": {},
   "outputs": [
    {
     "name": "stdout",
     "output_type": "stream",
     "text": [
      "[1.64, 1.96, 2.58]\n",
      "[492.68, 348.04, 374.82]\n",
      "[13.716326038702933, 22.772755652314018, 18.16115635084947]\n"
     ]
    }
   ],
   "source": [
    "Z_value =list(pctage_zvalue_dict.values())\n",
    "mean_s1_s2_s3 = [np.mean(s1), np.mean(s2), np.mean(s3)]\n",
    "std_s1_s2_s3 = [np.std(s1), np.std(s2), np.std(s3)]\n",
    "\n",
    "print(Z_value)\n",
    "print(mean_s1_s2_s3)\n",
    "print(std_s1_s2_s3)"
   ]
  },
  {
   "cell_type": "code",
   "execution_count": 56,
   "id": "d4eadda1",
   "metadata": {},
   "outputs": [
    {
     "name": "stdout",
     "output_type": "stream",
     "text": [
      "[[489.4987584531822, 488.8780283952665, 487.67536390805486], [342.7582914570378, 341.7277141803622, 339.73097070680336], [370.60786440636105, 369.7859842905291, 368.1935915661046]]\n",
      "[[495.86124154681784, 496.48197160473353, 497.68463609194515], [353.32170854296226, 354.3522858196378, 356.3490292931967], [379.03213559363894, 379.8540157094709, 381.4464084338954]]\n"
     ]
    }
   ],
   "source": [
    "LCL = []\n",
    "UCL = []\n",
    "\n",
    "for i in range(3):\n",
    "    LCL_s = []\n",
    "    UCL_s = []\n",
    "    for j in range(3):\n",
    "        LCL_s.append(mean_s1_s2_s3[i]-Z_value[j]*(std_s1_s2_s3[i]/np.sqrt(50)))\n",
    "        UCL_s.append(mean_s1_s2_s3[i]+Z_value[j]*(std_s1_s2_s3[i]/np.sqrt(50)))\n",
    "    LCL.append(LCL_s)\n",
    "    UCL.append(UCL_s)    \n",
    "    \n",
    "print(LCL)\n",
    "print(UCL)                                                "
   ]
  },
  {
   "cell_type": "code",
   "execution_count": 60,
   "id": "865a4f97",
   "metadata": {},
   "outputs": [
    {
     "name": "stdout",
     "output_type": "stream",
     "text": [
      "sample_mean :  [492.68, 348.04, 374.82]\n",
      "population_mean :  [493.3157894736842, 347.246963562753, 374.914979757085]\n"
     ]
    }
   ],
   "source": [
    "sample_mean = [np.mean(s1), np.mean(s2), np.mean(s3)]\n",
    "population_mean = [np.mean(data_df['S1']), np.mean(data_df['S2']), np.mean(data_df['S3'])]\n",
    "print(\"sample_mean : \",sample_mean)\n",
    "print(\"population_mean : \",population_mean)"
   ]
  }
 ],
 "metadata": {
  "kernelspec": {
   "display_name": "Python 3 (ipykernel)",
   "language": "python",
   "name": "python3"
  },
  "language_info": {
   "codemirror_mode": {
    "name": "ipython",
    "version": 3
   },
   "file_extension": ".py",
   "mimetype": "text/x-python",
   "name": "python",
   "nbconvert_exporter": "python",
   "pygments_lexer": "ipython3",
   "version": "3.9.12"
  }
 },
 "nbformat": 4,
 "nbformat_minor": 5
}
