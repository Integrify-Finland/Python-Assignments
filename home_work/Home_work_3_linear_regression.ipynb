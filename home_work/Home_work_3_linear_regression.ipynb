{
 "cells": [
  {
   "cell_type": "markdown",
   "id": "590b019d",
   "metadata": {},
   "source": [
    "#### import libraries"
   ]
  },
  {
   "cell_type": "code",
   "execution_count": 149,
   "id": "f37aeed3",
   "metadata": {},
   "outputs": [],
   "source": [
    "import numpy as np\n",
    "import pandas as pd\n",
    "from scipy.stats import t\n",
    "import matplotlib.pyplot as plt\n",
    "from sklearn.linear_model import LinearRegression\n",
    "import seaborn as sns"
   ]
  },
  {
   "cell_type": "markdown",
   "id": "7e8f6cc8",
   "metadata": {},
   "source": [
    "#### Dataset"
   ]
  },
  {
   "cell_type": "code",
   "execution_count": 120,
   "id": "0c1256de",
   "metadata": {},
   "outputs": [],
   "source": [
    "Bedrooms = [1,1,1,2,2,2,2,3,3,3,3,3,3,3,4,4,4,5,5,6]\n",
    "Prices = [120,133,139,185,148,160,192,205,244,213,236,280,275,273,312,311,304,415,396,488]"
   ]
  },
  {
   "cell_type": "code",
   "execution_count": 121,
   "id": "4962269c",
   "metadata": {},
   "outputs": [
    {
     "data": {
      "text/html": [
       "<div>\n",
       "<style scoped>\n",
       "    .dataframe tbody tr th:only-of-type {\n",
       "        vertical-align: middle;\n",
       "    }\n",
       "\n",
       "    .dataframe tbody tr th {\n",
       "        vertical-align: top;\n",
       "    }\n",
       "\n",
       "    .dataframe thead th {\n",
       "        text-align: right;\n",
       "    }\n",
       "</style>\n",
       "<table border=\"1\" class=\"dataframe\">\n",
       "  <thead>\n",
       "    <tr style=\"text-align: right;\">\n",
       "      <th></th>\n",
       "      <th>Bedrooms</th>\n",
       "      <th>Prices</th>\n",
       "    </tr>\n",
       "  </thead>\n",
       "  <tbody>\n",
       "    <tr>\n",
       "      <th>0</th>\n",
       "      <td>1</td>\n",
       "      <td>120</td>\n",
       "    </tr>\n",
       "    <tr>\n",
       "      <th>4</th>\n",
       "      <td>2</td>\n",
       "      <td>148</td>\n",
       "    </tr>\n",
       "    <tr>\n",
       "      <th>18</th>\n",
       "      <td>5</td>\n",
       "      <td>396</td>\n",
       "    </tr>\n",
       "    <tr>\n",
       "      <th>3</th>\n",
       "      <td>2</td>\n",
       "      <td>185</td>\n",
       "    </tr>\n",
       "    <tr>\n",
       "      <th>8</th>\n",
       "      <td>3</td>\n",
       "      <td>244</td>\n",
       "    </tr>\n",
       "    <tr>\n",
       "      <th>11</th>\n",
       "      <td>3</td>\n",
       "      <td>280</td>\n",
       "    </tr>\n",
       "    <tr>\n",
       "      <th>1</th>\n",
       "      <td>1</td>\n",
       "      <td>133</td>\n",
       "    </tr>\n",
       "    <tr>\n",
       "      <th>6</th>\n",
       "      <td>2</td>\n",
       "      <td>192</td>\n",
       "    </tr>\n",
       "    <tr>\n",
       "      <th>14</th>\n",
       "      <td>4</td>\n",
       "      <td>312</td>\n",
       "    </tr>\n",
       "    <tr>\n",
       "      <th>2</th>\n",
       "      <td>1</td>\n",
       "      <td>139</td>\n",
       "    </tr>\n",
       "  </tbody>\n",
       "</table>\n",
       "</div>"
      ],
      "text/plain": [
       "    Bedrooms  Prices\n",
       "0          1     120\n",
       "4          2     148\n",
       "18         5     396\n",
       "3          2     185\n",
       "8          3     244\n",
       "11         3     280\n",
       "1          1     133\n",
       "6          2     192\n",
       "14         4     312\n",
       "2          1     139"
      ]
     },
     "execution_count": 121,
     "metadata": {},
     "output_type": "execute_result"
    }
   ],
   "source": [
    "# random sample size of 10\n",
    "bdrm_price_tuple = list(zip(Bedrooms,Prices))\n",
    "bdrm_price_df = pd.DataFrame(bdrm_price_tuple, columns =['Bedrooms', 'Prices'])\n",
    "bdrm_price_df_10 =bdrm_price_df.sample(10)\n",
    "bdrm_price_df_10"
   ]
  },
  {
   "cell_type": "code",
   "execution_count": 122,
   "id": "8f80375b",
   "metadata": {},
   "outputs": [
    {
     "name": "stdout",
     "output_type": "stream",
     "text": [
      "[1 2 5 2 3 3 1 2 4 1]\n",
      "[120 148 396 185 244 280 133 192 312 139]\n"
     ]
    }
   ],
   "source": [
    "Bedroom_xample_10 = np.array(bdrm_price_df_10['Bedrooms'])\n",
    "price_Xample_10 =np.array (bdrm_price_df_10['Prices'])\n",
    "print(Bedroom_xample_10)\n",
    "print(price_Xample_10)"
   ]
  },
  {
   "cell_type": "markdown",
   "id": "b99674bb",
   "metadata": {},
   "source": [
    "#### standard deviation and mean of the sample"
   ]
  },
  {
   "cell_type": "code",
   "execution_count": 123,
   "id": "7e3e5c90",
   "metadata": {},
   "outputs": [
    {
     "name": "stdout",
     "output_type": "stream",
     "text": [
      "mean of the sample is: 2.4\n",
      "Standard deviation of the sample is: 1.2806\n"
     ]
    }
   ],
   "source": [
    "#mean and standard deviation of the sample \n",
    "# mean of the sample\n",
    "xample_mean = np.mean(Bedroom_xample_10)\n",
    "print(f\"mean of the sample is: {np.mean(xample_mean)}\")\n",
    "\n",
    "# standard devition of the sample\n",
    "xample_std = np.std(Bedroom_xample_10)\n",
    "print(f\"Standard deviation of the sample is: {xample_std :.4f}\")"
   ]
  },
  {
   "cell_type": "markdown",
   "id": "a53466b9",
   "metadata": {},
   "source": [
    "#### mean  and standard deviation of the population"
   ]
  },
  {
   "cell_type": "code",
   "execution_count": 124,
   "id": "9c5c6526",
   "metadata": {},
   "outputs": [
    {
     "name": "stdout",
     "output_type": "stream",
     "text": [
      "mean of the population is: 3.0\n",
      "Standard deviation of the population is: 1.3416407864998738\n"
     ]
    }
   ],
   "source": [
    "# mean of the sample\n",
    "populatn_mean = np.mean(Bedrooms)\n",
    "print(f\"mean of the population is: {np.mean(Bedrooms)}\")\n",
    "\n",
    "# standard devition of the sample\n",
    "populatn_std = np.std(Bedrooms)\n",
    "print(f\"Standard deviation of the population is: {np.std(Bedrooms)}\") #:.4f"
   ]
  },
  {
   "cell_type": "markdown",
   "id": "8ca44054",
   "metadata": {},
   "source": [
    "#### confidence interval of 95% using the sample\n",
    "#### Note: Z_value for a confidence interval of 95% is 1.96"
   ]
  },
  {
   "cell_type": "code",
   "execution_count": 125,
   "id": "79f2da0c",
   "metadata": {},
   "outputs": [],
   "source": [
    "z_value = 1.95"
   ]
  },
  {
   "cell_type": "code",
   "execution_count": 126,
   "id": "4566f797",
   "metadata": {},
   "outputs": [
    {
     "name": "stdout",
     "output_type": "stream",
     "text": [
      "The lower class limit of CI for the sample is: 1.6103\n",
      "The upper class limit of CI for the sample is: 3.1897\n"
     ]
    }
   ],
   "source": [
    "LCL_s = xample_mean-z_value*(xample_std/np.sqrt(10))\n",
    "UCL_s = xample_mean+z_value*(xample_std/np.sqrt(10))\n",
    "print(f\"The lower class limit of CI for the sample is: {LCL_s :.4f}\")\n",
    "print(f\"The upper class limit of CI for the sample is: {UCL_s :.4f}\")"
   ]
  },
  {
   "cell_type": "markdown",
   "id": "1abe521f",
   "metadata": {},
   "source": [
    "Observation:\n",
    "    The population mean = 3.0 lies between the UCL_s and the LCL_s which is 3.46 and 2.14 respectively"
   ]
  },
  {
   "cell_type": "markdown",
   "id": "eecf19e8",
   "metadata": {},
   "source": [
    "#### Compute the Covariance and the correlation between the two variables"
   ]
  },
  {
   "cell_type": "code",
   "execution_count": 127,
   "id": "741115f9",
   "metadata": {},
   "outputs": [
    {
     "name": "stdout",
     "output_type": "stream",
     "text": [
      "(20, 2)\n"
     ]
    },
    {
     "data": {
      "text/html": [
       "<div>\n",
       "<style scoped>\n",
       "    .dataframe tbody tr th:only-of-type {\n",
       "        vertical-align: middle;\n",
       "    }\n",
       "\n",
       "    .dataframe tbody tr th {\n",
       "        vertical-align: top;\n",
       "    }\n",
       "\n",
       "    .dataframe thead th {\n",
       "        text-align: right;\n",
       "    }\n",
       "</style>\n",
       "<table border=\"1\" class=\"dataframe\">\n",
       "  <thead>\n",
       "    <tr style=\"text-align: right;\">\n",
       "      <th></th>\n",
       "      <th>Bedrooms</th>\n",
       "      <th>Prices</th>\n",
       "    </tr>\n",
       "  </thead>\n",
       "  <tbody>\n",
       "    <tr>\n",
       "      <th>0</th>\n",
       "      <td>1</td>\n",
       "      <td>120</td>\n",
       "    </tr>\n",
       "    <tr>\n",
       "      <th>1</th>\n",
       "      <td>1</td>\n",
       "      <td>133</td>\n",
       "    </tr>\n",
       "    <tr>\n",
       "      <th>2</th>\n",
       "      <td>1</td>\n",
       "      <td>139</td>\n",
       "    </tr>\n",
       "    <tr>\n",
       "      <th>3</th>\n",
       "      <td>2</td>\n",
       "      <td>185</td>\n",
       "    </tr>\n",
       "    <tr>\n",
       "      <th>4</th>\n",
       "      <td>2</td>\n",
       "      <td>148</td>\n",
       "    </tr>\n",
       "  </tbody>\n",
       "</table>\n",
       "</div>"
      ],
      "text/plain": [
       "   Bedrooms  Prices\n",
       "0         1     120\n",
       "1         1     133\n",
       "2         1     139\n",
       "3         2     185\n",
       "4         2     148"
      ]
     },
     "execution_count": 127,
     "metadata": {},
     "output_type": "execute_result"
    }
   ],
   "source": [
    "print(bdrm_price_df.shape)\n",
    "bdrm_price_df.head()"
   ]
  },
  {
   "cell_type": "code",
   "execution_count": 128,
   "id": "234b7bad",
   "metadata": {
    "scrolled": true
   },
   "outputs": [
    {
     "data": {
      "text/html": [
       "<div>\n",
       "<style scoped>\n",
       "    .dataframe tbody tr th:only-of-type {\n",
       "        vertical-align: middle;\n",
       "    }\n",
       "\n",
       "    .dataframe tbody tr th {\n",
       "        vertical-align: top;\n",
       "    }\n",
       "\n",
       "    .dataframe thead th {\n",
       "        text-align: right;\n",
       "    }\n",
       "</style>\n",
       "<table border=\"1\" class=\"dataframe\">\n",
       "  <thead>\n",
       "    <tr style=\"text-align: right;\">\n",
       "      <th></th>\n",
       "      <th>Bedrooms</th>\n",
       "      <th>Prices</th>\n",
       "    </tr>\n",
       "  </thead>\n",
       "  <tbody>\n",
       "    <tr>\n",
       "      <th>Bedrooms</th>\n",
       "      <td>1.894737</td>\n",
       "      <td>133.894737</td>\n",
       "    </tr>\n",
       "    <tr>\n",
       "      <th>Prices</th>\n",
       "      <td>133.894737</td>\n",
       "      <td>10016.155263</td>\n",
       "    </tr>\n",
       "  </tbody>\n",
       "</table>\n",
       "</div>"
      ],
      "text/plain": [
       "            Bedrooms        Prices\n",
       "Bedrooms    1.894737    133.894737\n",
       "Prices    133.894737  10016.155263"
      ]
     },
     "execution_count": 128,
     "metadata": {},
     "output_type": "execute_result"
    }
   ],
   "source": [
    "bdrm_price_df.cov() # covariance matrix"
   ]
  },
  {
   "cell_type": "code",
   "execution_count": 129,
   "id": "5ef0a048",
   "metadata": {},
   "outputs": [
    {
     "data": {
      "text/html": [
       "<div>\n",
       "<style scoped>\n",
       "    .dataframe tbody tr th:only-of-type {\n",
       "        vertical-align: middle;\n",
       "    }\n",
       "\n",
       "    .dataframe tbody tr th {\n",
       "        vertical-align: top;\n",
       "    }\n",
       "\n",
       "    .dataframe thead th {\n",
       "        text-align: right;\n",
       "    }\n",
       "</style>\n",
       "<table border=\"1\" class=\"dataframe\">\n",
       "  <thead>\n",
       "    <tr style=\"text-align: right;\">\n",
       "      <th></th>\n",
       "      <th>Bedrooms</th>\n",
       "      <th>Prices</th>\n",
       "    </tr>\n",
       "  </thead>\n",
       "  <tbody>\n",
       "    <tr>\n",
       "      <th>Bedrooms</th>\n",
       "      <td>1.000000</td>\n",
       "      <td>0.971938</td>\n",
       "    </tr>\n",
       "    <tr>\n",
       "      <th>Prices</th>\n",
       "      <td>0.971938</td>\n",
       "      <td>1.000000</td>\n",
       "    </tr>\n",
       "  </tbody>\n",
       "</table>\n",
       "</div>"
      ],
      "text/plain": [
       "          Bedrooms    Prices\n",
       "Bedrooms  1.000000  0.971938\n",
       "Prices    0.971938  1.000000"
      ]
     },
     "execution_count": 129,
     "metadata": {},
     "output_type": "execute_result"
    }
   ],
   "source": [
    "bdrm_price_df.corr() # Correlation matrix"
   ]
  },
  {
   "cell_type": "markdown",
   "id": "b1dd3780",
   "metadata": {},
   "source": [
    "#### Covariance heat map"
   ]
  },
  {
   "cell_type": "code",
   "execution_count": 138,
   "id": "43053ac9",
   "metadata": {},
   "outputs": [
    {
     "data": {
      "image/png": "[encoded data removed]",
      "text/plain": [
       "<Figure size 864x432 with 2 Axes>"
      ]
     },
     "metadata": {},
     "output_type": "display_data"
    }
   ],
   "source": [
    "figure = plt.figure(figsize=(12, 6))\n",
    "sns.heatmap(bdrm_price_df.cov(), annot=True,cmap=plt.cm.cool)\n",
    "#plt.tight_layout()\n",
    "plt.xlabel('cov')\n",
    "plt.show()"
   ]
  },
  {
   "cell_type": "markdown",
   "id": "e9dba15b",
   "metadata": {},
   "source": [
    "#### Correlation heat map"
   ]
  },
  {
   "cell_type": "code",
   "execution_count": 137,
   "id": "c7f2017d",
   "metadata": {},
   "outputs": [
    {
     "data": {
      "image/png": "[encoded data removed]",
      "text/plain": [
       "<Figure size 864x432 with 2 Axes>"
      ]
     },
     "metadata": {},
     "output_type": "display_data"
    }
   ],
   "source": [
    "figure = plt.figure(figsize=(12, 6))\n",
    "sns.heatmap(bdrm_price_df.corr(), annot=True,cmap=plt.cm.cool)\n",
    "#plt.tight_layout()\n",
    "plt.xlabel('Corr')\n",
    "plt.show()"
   ]
  },
  {
   "cell_type": "code",
   "execution_count": 140,
   "id": "2404ce31",
   "metadata": {},
   "outputs": [
    {
     "data": {
      "text/html": [
       "<style type=\"text/css\">\n",
       "#T_12570_row0_col0, #T_12570_row0_col1 {\n",
       "  background-color: #3b4cc0;\n",
       "  color: #f1f1f1;\n",
       "}\n",
       "#T_12570_row1_col0, #T_12570_row1_col1 {\n",
       "  background-color: #b40426;\n",
       "  color: #f1f1f1;\n",
       "}\n",
       "</style>\n",
       "<table id=\"T_12570\">\n",
       "  <thead>\n",
       "    <tr>\n",
       "      <th class=\"blank level0\" >&nbsp;</th>\n",
       "      <th id=\"T_12570_level0_col0\" class=\"col_heading level0 col0\" >Bedrooms</th>\n",
       "      <th id=\"T_12570_level0_col1\" class=\"col_heading level0 col1\" >Prices</th>\n",
       "    </tr>\n",
       "  </thead>\n",
       "  <tbody>\n",
       "    <tr>\n",
       "      <th id=\"T_12570_level0_row0\" class=\"row_heading level0 row0\" >Bedrooms</th>\n",
       "      <td id=\"T_12570_row0_col0\" class=\"data row0 col0\" >1.89</td>\n",
       "      <td id=\"T_12570_row0_col1\" class=\"data row0 col1\" >133.89</td>\n",
       "    </tr>\n",
       "    <tr>\n",
       "      <th id=\"T_12570_level0_row1\" class=\"row_heading level0 row1\" >Prices</th>\n",
       "      <td id=\"T_12570_row1_col0\" class=\"data row1 col0\" >133.89</td>\n",
       "      <td id=\"T_12570_row1_col1\" class=\"data row1 col1\" >10016.16</td>\n",
       "    </tr>\n",
       "  </tbody>\n",
       "</table>\n"
      ],
      "text/plain": [
       "<pandas.io.formats.style.Styler at 0x1b53d537fa0>"
      ]
     },
     "execution_count": 140,
     "metadata": {},
     "output_type": "execute_result"
    }
   ],
   "source": [
    "covr = bdrm_price_df.cov()\n",
    "covr.style.background_gradient(cmap='coolwarm').format(precision=2)"
   ]
  },
  {
   "cell_type": "markdown",
   "id": "e70bd28d",
   "metadata": {},
   "source": [
    "#### Build a regression model "
   ]
  },
  {
   "cell_type": "code",
   "execution_count": 14,
   "id": "4c55a0ad",
   "metadata": {},
   "outputs": [],
   "source": [
    "x = np.array(Bedrooms).reshape(-1, 1)\n",
    "y = np.array(Prices)"
   ]
  },
  {
   "cell_type": "code",
   "execution_count": 92,
   "id": "c741d439",
   "metadata": {},
   "outputs": [
    {
     "data": {
      "text/plain": [
       "251.45"
      ]
     },
     "execution_count": 92,
     "metadata": {},
     "output_type": "execute_result"
    }
   ],
   "source": [
    "y_mean=np.mean(y)\n",
    "y_mean"
   ]
  },
  {
   "cell_type": "code",
   "execution_count": 15,
   "id": "772eefa0",
   "metadata": {},
   "outputs": [],
   "source": [
    "model = LinearRegression().fit(x,y)"
   ]
  },
  {
   "cell_type": "code",
   "execution_count": 16,
   "id": "19e83b81",
   "metadata": {},
   "outputs": [
    {
     "name": "stdout",
     "output_type": "stream",
     "text": [
      "The coefficient of determination is: 0.9447\n",
      "The intercept of the model is: 39.4500\n",
      "The slope of the model is: 70.6667\n",
      "the predicted prices by the model is: [110.1167 110.1167 110.1167 180.7833 180.7833 180.7833 180.7833 251.45\n",
      " 251.45   251.45   251.45   251.45   251.45   251.45   322.1167 322.1167\n",
      " 322.1167 392.7833 392.7833 463.45  ]\n",
      "the true price of the house is: [120 133 139 185 148 160 192 205 244 213 236 280 275 273 312 311 304 415\n",
      " 396 488]\n"
     ]
    }
   ],
   "source": [
    "coeff_det = model.score(x,y)\n",
    "print(f\"The coefficient of determination is: {coeff_det :.4f}\")\n",
    "\n",
    "model_intcpt = round(model.intercept_, 4)\n",
    "print(f\"The intercept of the model is: {model_intcpt :.4f}\")\n",
    "\n",
    "model_slope = round(model.coef_[0], 4)\n",
    "print(f\"The slope of the model is: {model_slope :.4f}\")\n",
    "\n",
    "y_hat = model.predict(x).round(4)\n",
    "print(f\"the predicted prices by the model is: {y_hat}\")\n",
    "print(f\"the true price of the house is: {y}\")"
   ]
  },
  {
   "cell_type": "code",
   "execution_count": 64,
   "id": "c457f93e",
   "metadata": {},
   "outputs": [
    {
     "data": {
      "text/html": [
       "<div>\n",
       "<style scoped>\n",
       "    .dataframe tbody tr th:only-of-type {\n",
       "        vertical-align: middle;\n",
       "    }\n",
       "\n",
       "    .dataframe tbody tr th {\n",
       "        vertical-align: top;\n",
       "    }\n",
       "\n",
       "    .dataframe thead th {\n",
       "        text-align: right;\n",
       "    }\n",
       "</style>\n",
       "<table border=\"1\" class=\"dataframe\">\n",
       "  <thead>\n",
       "    <tr style=\"text-align: right;\">\n",
       "      <th></th>\n",
       "      <th>Bedrooms</th>\n",
       "      <th>Prices</th>\n",
       "      <th>price_pred</th>\n",
       "    </tr>\n",
       "  </thead>\n",
       "  <tbody>\n",
       "    <tr>\n",
       "      <th>0</th>\n",
       "      <td>1</td>\n",
       "      <td>120</td>\n",
       "      <td>110.1167</td>\n",
       "    </tr>\n",
       "    <tr>\n",
       "      <th>1</th>\n",
       "      <td>1</td>\n",
       "      <td>133</td>\n",
       "      <td>110.1167</td>\n",
       "    </tr>\n",
       "    <tr>\n",
       "      <th>2</th>\n",
       "      <td>1</td>\n",
       "      <td>139</td>\n",
       "      <td>110.1167</td>\n",
       "    </tr>\n",
       "    <tr>\n",
       "      <th>3</th>\n",
       "      <td>2</td>\n",
       "      <td>185</td>\n",
       "      <td>180.7833</td>\n",
       "    </tr>\n",
       "    <tr>\n",
       "      <th>4</th>\n",
       "      <td>2</td>\n",
       "      <td>148</td>\n",
       "      <td>180.7833</td>\n",
       "    </tr>\n",
       "    <tr>\n",
       "      <th>5</th>\n",
       "      <td>2</td>\n",
       "      <td>160</td>\n",
       "      <td>180.7833</td>\n",
       "    </tr>\n",
       "    <tr>\n",
       "      <th>6</th>\n",
       "      <td>2</td>\n",
       "      <td>192</td>\n",
       "      <td>180.7833</td>\n",
       "    </tr>\n",
       "    <tr>\n",
       "      <th>7</th>\n",
       "      <td>3</td>\n",
       "      <td>205</td>\n",
       "      <td>251.4500</td>\n",
       "    </tr>\n",
       "    <tr>\n",
       "      <th>8</th>\n",
       "      <td>3</td>\n",
       "      <td>244</td>\n",
       "      <td>251.4500</td>\n",
       "    </tr>\n",
       "    <tr>\n",
       "      <th>9</th>\n",
       "      <td>3</td>\n",
       "      <td>213</td>\n",
       "      <td>251.4500</td>\n",
       "    </tr>\n",
       "    <tr>\n",
       "      <th>10</th>\n",
       "      <td>3</td>\n",
       "      <td>236</td>\n",
       "      <td>251.4500</td>\n",
       "    </tr>\n",
       "    <tr>\n",
       "      <th>11</th>\n",
       "      <td>3</td>\n",
       "      <td>280</td>\n",
       "      <td>251.4500</td>\n",
       "    </tr>\n",
       "    <tr>\n",
       "      <th>12</th>\n",
       "      <td>3</td>\n",
       "      <td>275</td>\n",
       "      <td>251.4500</td>\n",
       "    </tr>\n",
       "    <tr>\n",
       "      <th>13</th>\n",
       "      <td>3</td>\n",
       "      <td>273</td>\n",
       "      <td>251.4500</td>\n",
       "    </tr>\n",
       "    <tr>\n",
       "      <th>14</th>\n",
       "      <td>4</td>\n",
       "      <td>312</td>\n",
       "      <td>322.1167</td>\n",
       "    </tr>\n",
       "    <tr>\n",
       "      <th>15</th>\n",
       "      <td>4</td>\n",
       "      <td>311</td>\n",
       "      <td>322.1167</td>\n",
       "    </tr>\n",
       "    <tr>\n",
       "      <th>16</th>\n",
       "      <td>4</td>\n",
       "      <td>304</td>\n",
       "      <td>322.1167</td>\n",
       "    </tr>\n",
       "    <tr>\n",
       "      <th>17</th>\n",
       "      <td>5</td>\n",
       "      <td>415</td>\n",
       "      <td>392.7833</td>\n",
       "    </tr>\n",
       "    <tr>\n",
       "      <th>18</th>\n",
       "      <td>5</td>\n",
       "      <td>396</td>\n",
       "      <td>392.7833</td>\n",
       "    </tr>\n",
       "    <tr>\n",
       "      <th>19</th>\n",
       "      <td>6</td>\n",
       "      <td>488</td>\n",
       "      <td>463.4500</td>\n",
       "    </tr>\n",
       "  </tbody>\n",
       "</table>\n",
       "</div>"
      ],
      "text/plain": [
       "    Bedrooms  Prices  price_pred\n",
       "0          1     120    110.1167\n",
       "1          1     133    110.1167\n",
       "2          1     139    110.1167\n",
       "3          2     185    180.7833\n",
       "4          2     148    180.7833\n",
       "5          2     160    180.7833\n",
       "6          2     192    180.7833\n",
       "7          3     205    251.4500\n",
       "8          3     244    251.4500\n",
       "9          3     213    251.4500\n",
       "10         3     236    251.4500\n",
       "11         3     280    251.4500\n",
       "12         3     275    251.4500\n",
       "13         3     273    251.4500\n",
       "14         4     312    322.1167\n",
       "15         4     311    322.1167\n",
       "16         4     304    322.1167\n",
       "17         5     415    392.7833\n",
       "18         5     396    392.7833\n",
       "19         6     488    463.4500"
      ]
     },
     "execution_count": 64,
     "metadata": {},
     "output_type": "execute_result"
    }
   ],
   "source": [
    "y_hat_series = pd.Series(list(y_hat))\n",
    "predictn_check_df = pd.concat([bdrm_price_df,y_hat_series], axis = 1)\n",
    "predictn_check_df.rename(columns={0: 'price_pred'}, inplace = True)\n",
    "predictn_check_df"
   ]
  },
  {
   "cell_type": "markdown",
   "id": "21de7dd9",
   "metadata": {},
   "source": [
    "#### The Price for a house with 7 rooms"
   ]
  },
  {
   "cell_type": "code",
   "execution_count": 26,
   "id": "1b0be697",
   "metadata": {},
   "outputs": [
    {
     "name": "stdout",
     "output_type": "stream",
     "text": [
      "The predicted price of a house with 7 rooms is: 534.1169\n"
     ]
    }
   ],
   "source": [
    "No_of_rooms = new_value = 7\n",
    "Price_7_rooms = model_slope* No_of_rooms + model_intcpt\n",
    "print(f\"The predicted price of a house with 7 rooms is: {Price_7_rooms :.4f}\")"
   ]
  },
  {
   "cell_type": "markdown",
   "id": "6a23b2e0",
   "metadata": {},
   "source": [
    "#### Compute the upper and lower bound of the prediction interval of a house with 7 rooms"
   ]
  },
  {
   "cell_type": "code",
   "execution_count": 118,
   "id": "9315daf9",
   "metadata": {},
   "outputs": [
    {
     "name": "stdout",
     "output_type": "stream",
     "text": [
      "the prediction 534.116700 with 95 confidence lies between [447.775500, 620.457900]\n"
     ]
    }
   ],
   "source": [
    "alpha=0.1\n",
    "n = len(x)\n",
    "df=2\n",
    "\n",
    "re = np.sqrt(np.square(y-y_hat).sum()/(n-2))  \n",
    "se = re * np.sqrt((1+(1/n)+((np.square(new_value-x.mean()))/(np.square(x-x.mean()).sum()))))\n",
    "\n",
    "t_value = t.ppf(1-alpha/2, df=df)\n",
    "interval = t_value * se\n",
    "\n",
    "y_pred = model.predict(np.array([[new_value]]))[0].round(4)\n",
    "LCL =  round(y_pred - interval, 4)\n",
    "UCL =  round(y_pred + interval, 4)\n",
    "\n",
    "print('the prediction %f with %d confidence lies between [%f, %f]'%(y_pred, (1-alpha/2)*100, LCL, UCL))"
   ]
  },
  {
   "cell_type": "markdown",
   "id": "65d6a525",
   "metadata": {},
   "source": [
    "#### Get the sample of houses with 3 Bedroom"
   ]
  },
  {
   "cell_type": "code",
   "execution_count": 65,
   "id": "5be71067",
   "metadata": {},
   "outputs": [
    {
     "data": {
      "text/html": [
       "<div>\n",
       "<style scoped>\n",
       "    .dataframe tbody tr th:only-of-type {\n",
       "        vertical-align: middle;\n",
       "    }\n",
       "\n",
       "    .dataframe tbody tr th {\n",
       "        vertical-align: top;\n",
       "    }\n",
       "\n",
       "    .dataframe thead th {\n",
       "        text-align: right;\n",
       "    }\n",
       "</style>\n",
       "<table border=\"1\" class=\"dataframe\">\n",
       "  <thead>\n",
       "    <tr style=\"text-align: right;\">\n",
       "      <th></th>\n",
       "      <th>Bedrooms</th>\n",
       "      <th>Prices</th>\n",
       "      <th>price_pred</th>\n",
       "    </tr>\n",
       "  </thead>\n",
       "  <tbody>\n",
       "    <tr>\n",
       "      <th>7</th>\n",
       "      <td>3</td>\n",
       "      <td>205</td>\n",
       "      <td>251.45</td>\n",
       "    </tr>\n",
       "    <tr>\n",
       "      <th>8</th>\n",
       "      <td>3</td>\n",
       "      <td>244</td>\n",
       "      <td>251.45</td>\n",
       "    </tr>\n",
       "    <tr>\n",
       "      <th>9</th>\n",
       "      <td>3</td>\n",
       "      <td>213</td>\n",
       "      <td>251.45</td>\n",
       "    </tr>\n",
       "    <tr>\n",
       "      <th>10</th>\n",
       "      <td>3</td>\n",
       "      <td>236</td>\n",
       "      <td>251.45</td>\n",
       "    </tr>\n",
       "    <tr>\n",
       "      <th>11</th>\n",
       "      <td>3</td>\n",
       "      <td>280</td>\n",
       "      <td>251.45</td>\n",
       "    </tr>\n",
       "    <tr>\n",
       "      <th>12</th>\n",
       "      <td>3</td>\n",
       "      <td>275</td>\n",
       "      <td>251.45</td>\n",
       "    </tr>\n",
       "    <tr>\n",
       "      <th>13</th>\n",
       "      <td>3</td>\n",
       "      <td>273</td>\n",
       "      <td>251.45</td>\n",
       "    </tr>\n",
       "  </tbody>\n",
       "</table>\n",
       "</div>"
      ],
      "text/plain": [
       "    Bedrooms  Prices  price_pred\n",
       "7          3     205      251.45\n",
       "8          3     244      251.45\n",
       "9          3     213      251.45\n",
       "10         3     236      251.45\n",
       "11         3     280      251.45\n",
       "12         3     275      251.45\n",
       "13         3     273      251.45"
      ]
     },
     "execution_count": 65,
     "metadata": {},
     "output_type": "execute_result"
    }
   ],
   "source": [
    "three_bedrm_df = predictn_check_df[predictn_check_df['Bedrooms']==3]\n",
    "three_bedrm_df"
   ]
  },
  {
   "cell_type": "code",
   "execution_count": 63,
   "id": "dd3d8aca",
   "metadata": {},
   "outputs": [
    {
     "name": "stdout",
     "output_type": "stream",
     "text": [
      "[3, 3, 3, 3, 3, 3, 3]\n"
     ]
    },
    {
     "data": {
      "text/plain": [
       "[205, 244, 213, 236, 280, 275, 273]"
      ]
     },
     "execution_count": 63,
     "metadata": {},
     "output_type": "execute_result"
    }
   ],
   "source": [
    "three_bedrm_list = three_bedrm_df['Bedrooms'].to_list()\n",
    "three_bedrm_price = three_bedrm_df['Prices'].to_list()\n",
    "print(three_bedrm_list)\n",
    "three_bedrm_price"
   ]
  },
  {
   "cell_type": "markdown",
   "id": "da7caf4b",
   "metadata": {},
   "source": [
    "#### To Evaluate the lowest price that can be paid for a 3 bedroom using TI"
   ]
  },
  {
   "cell_type": "code",
   "execution_count": 162,
   "id": "5fa1b1d6",
   "metadata": {},
   "outputs": [],
   "source": [
    "from scipy.stats import chi2\n",
    "from scipy.stats import norm"
   ]
  },
  {
   "cell_type": "code",
   "execution_count": 163,
   "id": "1c1f5e6a",
   "metadata": {},
   "outputs": [
    {
     "name": "stdout",
     "output_type": "stream",
     "text": [
      "Gaussian critical value (z-Value): 1.960 (coverage=95%)\n",
      "Chi-Squared critical value (confidence interval): 0.554 (prob=99%, dof=5)\n"
     ]
    },
    {
     "ename": "NameError",
     "evalue": "name 'sqrt' is not defined",
     "output_type": "error",
     "traceback": [
      "\u001b[1;31m---------------------------------------------------------------------------\u001b[0m",
      "\u001b[1;31mNameError\u001b[0m                                 Traceback (most recent call last)",
      "Input \u001b[1;32mIn [163]\u001b[0m, in \u001b[0;36m<cell line: 16>\u001b[1;34m()\u001b[0m\n\u001b[0;32m     13\u001b[0m \u001b[38;5;28mprint\u001b[39m(\u001b[38;5;124m'\u001b[39m\u001b[38;5;124mChi-Squared critical value (confidence interval): \u001b[39m\u001b[38;5;132;01m%.3f\u001b[39;00m\u001b[38;5;124m (prob=\u001b[39m\u001b[38;5;132;01m%d\u001b[39;00m\u001b[38;5;132;01m%%\u001b[39;00m\u001b[38;5;124m, dof=\u001b[39m\u001b[38;5;132;01m%d\u001b[39;00m\u001b[38;5;124m)\u001b[39m\u001b[38;5;124m'\u001b[39m \u001b[38;5;241m%\u001b[39m (chi_critical, prob_c\u001b[38;5;241m*\u001b[39m\u001b[38;5;241m100\u001b[39m, dof))\n\u001b[0;32m     15\u001b[0m \u001b[38;5;66;03m#tolerance\u001b[39;00m\n\u001b[1;32m---> 16\u001b[0m tolerance_interval \u001b[38;5;241m=\u001b[39m \u001b[43msqrt\u001b[49m((dof \u001b[38;5;241m*\u001b[39m (\u001b[38;5;241m1\u001b[39m \u001b[38;5;241m+\u001b[39m (\u001b[38;5;241m1\u001b[39m\u001b[38;5;241m/\u001b[39mn)) \u001b[38;5;241m*\u001b[39m gauss_critical\u001b[38;5;241m*\u001b[39m\u001b[38;5;241m*\u001b[39m\u001b[38;5;241m2\u001b[39m) \u001b[38;5;241m/\u001b[39m chi_critical)\n\u001b[0;32m     17\u001b[0m \u001b[38;5;28mprint\u001b[39m(\u001b[38;5;124m'\u001b[39m\u001b[38;5;124mTolerance Interval: \u001b[39m\u001b[38;5;132;01m%.3f\u001b[39;00m\u001b[38;5;124m'\u001b[39m \u001b[38;5;241m%\u001b[39m tolerance_interval)\n\u001b[0;32m     19\u001b[0m \u001b[38;5;66;03m#summarize\u001b[39;00m\n",
      "\u001b[1;31mNameError\u001b[0m: name 'sqrt' is not defined"
     ]
    }
   ],
   "source": [
    "x0 = 3\n",
    "n3 = len(three_bedrm_list)\n",
    "dof = n3-2\n",
    "\n",
    "prop_d = 0.95\n",
    "prop_inv = (1.0-prop_d) / 2.0\n",
    "gauss_critical = norm.isf(prop_inv)\n",
    "print('Gaussian critical value (z-Value): %.3f (coverage=%d%%)' % (gauss_critical, prop_d*100))\n",
    "\n",
    "#specify confidence\n",
    "prob_c = 0.99\n",
    "chi_critical = chi2.isf(q=prob_c, df=dof)\n",
    "print('Chi-Squared critical value (confidence interval): %.3f (prob=%d%%, dof=%d)' % (chi_critical, prob_c*100, dof))\n",
    "\n",
    "#tolerance\n",
    "tolerance_interval = sqrt((dof * (1 + (1/n)) * gauss_critical**2) / chi_critical)\n",
    "print('Tolerance Interval: %.3f' % tolerance_interval)\n",
    "\n",
    "#summarize\n",
    "data_mean = mean(three_bedrm_price)\n",
    "lb_price, ub_price = data_mean-tolerance_interval3,data_mean+tolerance_interval3\n",
    "print('I am %d%% confidence that %d%% of data lies between %.2f to %.2f' % (prob_c*100, prop_d*100, lb_price, ub_price))"
   ]
  },
  {
   "cell_type": "markdown",
   "id": "32f0c3ca",
   "metadata": {},
   "source": [
    "#### Extra Stuff"
   ]
  },
  {
   "cell_type": "code",
   "execution_count": 165,
   "id": "bf57d82b",
   "metadata": {},
   "outputs": [
    {
     "name": "stdout",
     "output_type": "stream",
     "text": [
      "Lower bound of the prediction interval: 174.494\n",
      "Upper bound of the prediction interval: 318.649\n"
     ]
    }
   ],
   "source": [
    "import numpy as np\n",
    "from scipy.stats import t\n",
    "\n",
    "# Sample data\n",
    "bedrooms = np.array([1, 1, 1, 2, 2, 2, 2, 3, 3, 3, 3, 3, 3, 3, 4, 4, 4, 5, 5, 6])\n",
    "prices = np.array([120, 133, 139, 185, 148, 160, 192, 205, 244, 213, 236, 280, 275, 273, 312, 311, 304, 415, 396, 488])\n",
    "x0 = 3  # Specific value of predictor variable\n",
    "\n",
    "# Extract a sample of houses with 3 bedrooms\n",
    "sample = prices[bedrooms == x0]\n",
    "n = len(sample)\n",
    "\n",
    "# Compute mean and standard deviation of the sample\n",
    "sample_mean = np.mean(sample)\n",
    "sample_std = np.std(sample, ddof=1)\n",
    "\n",
    "# Compute sum of squares for predictor variable\n",
    "SSx = np.sum((bedrooms - np.mean(bedrooms))**2)\n",
    "\n",
    "# Compute standard error of response variable\n",
    "Syx = np.sqrt(np.sum((sample - sample_mean)**2)/(n-2))\n",
    "\n",
    "# Compute t-critical value\n",
    "alpha = 0.1\n",
    "df = n-2\n",
    "t_crit = t.ppf(1-alpha/2, df)\n",
    "\n",
    "# Compute prediction interval\n",
    "x_bar = np.mean(bedrooms)\n",
    "SE_pred = Syx*np.sqrt((x0 - x_bar)**2/SSx + 1/n + 1)\n",
    "lower_bound = sample_mean - t_crit*SE_pred\n",
    "upper_bound = sample_mean + t_crit*SE_pred\n",
    "print(\"Lower bound of the prediction interval: %.3f\" % lower_bound)\n",
    "print(\"Upper bound of the prediction interval: %.3f\" % upper_bound)"
   ]
  }
 ],
 "metadata": {
  "kernelspec": {
   "display_name": "Python 3 (ipykernel)",
   "language": "python",
   "name": "python3"
  },
  "language_info": {
   "codemirror_mode": {
    "name": "ipython",
    "version": 3
   },
   "file_extension": ".py",
   "mimetype": "text/x-python",
   "name": "python",
   "nbconvert_exporter": "python",
   "pygments_lexer": "ipython3",
   "version": "3.9.12"
  }
 },
 "nbformat": 4,
 "nbformat_minor": 5
}
