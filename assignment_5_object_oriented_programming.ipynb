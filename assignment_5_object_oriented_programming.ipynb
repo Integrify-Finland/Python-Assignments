{
 "cells": [
  {
   "cell_type": "markdown",
   "id": "ac7b2f6c",
   "metadata": {},
   "source": [
    "<div style = \"text-align: left\"><font size = 8 color = \"#B22222\" face = \"verdana\"><b>Integrify</b></font></div>\n",
    "<div style = \"text-align: left\"><font size = 6 color = \"#00008B\" face = \"verdana\"><b>Assignment_5_OOP</b></font></div>\n",
    "<div style = \"text-align: leftt\"><font><i>By Aremu Jeremiah</i></font></div>\n",
    "<div style = \"text-align: leftt\"><font>03 March 2023</font></div>"
   ]
  },
  {
   "cell_type": "code",
   "execution_count": 23,
   "id": "97f5bcae",
   "metadata": {},
   "outputs": [],
   "source": [
    "import pandas as pd\n",
    "import numpy as np\n",
    "import warnings\n",
    "from IPython.display import display, HTML"
   ]
  },
  {
   "cell_type": "code",
   "execution_count": 24,
   "id": "f2a6fb35",
   "metadata": {},
   "outputs": [
    {
     "data": {
      "text/html": [
       "<style>.container { width:100% !important; }</style>"
      ],
      "text/plain": [
       "<IPython.core.display.HTML object>"
      ]
     },
     "metadata": {},
     "output_type": "display_data"
    }
   ],
   "source": [
    "\n",
    "warnings.simplefilter(action='ignore', category=RuntimeWarning)\n",
    "warnings.simplefilter(action='ignore', category=FutureWarning)\n",
    "warnings.simplefilter(action='ignore', category=UserWarning)\n",
    "warnings.simplefilter(action='ignore', category=DeprecationWarning)\n",
    "pd.set_option(\"display.max_columns\", None)\n",
    "pd.set_option(\"display.max_rows\", None)\n",
    "pd.options.display.max_colwidth = None\n",
    "pd.set_option(\"display.float_format\", lambda x: '%.2f' % x)\n",
    "display(HTML(\"<style>.container { width:100% !important; }</style>\"))"
   ]
  },
  {
   "cell_type": "markdown",
   "id": "1ecb8c16",
   "metadata": {},
   "source": [
    "#### 1."
   ]
  },
  {
   "cell_type": "code",
   "execution_count": 25,
   "id": "48303f2e",
   "metadata": {},
   "outputs": [
    {
     "name": "stdout",
     "output_type": "stream",
     "text": [
      "<class 'int'> <class 'str'>\n"
     ]
    }
   ],
   "source": [
    "a = 5\n",
    "b = \"some string\"\n",
    "print(type(a), type(b))"
   ]
  },
  {
   "cell_type": "code",
   "execution_count": 26,
   "id": "be9ccb7e",
   "metadata": {},
   "outputs": [],
   "source": [
    "def someFunction():\n",
    "    return"
   ]
  },
  {
   "cell_type": "code",
   "execution_count": 27,
   "id": "e43771ca",
   "metadata": {},
   "outputs": [],
   "source": [
    "class Someclass:\n",
    "    pass    "
   ]
  },
  {
   "cell_type": "code",
   "execution_count": 28,
   "id": "8c25cc8e",
   "metadata": {},
   "outputs": [
    {
     "name": "stdout",
     "output_type": "stream",
     "text": [
      "<class 'type'>\n",
      "<class 'type'>\n",
      "<class 'type'>\n",
      "<class 'type'>\n",
      "<class 'type'>\n",
      "<class 'builtin_function_or_method'>\n",
      "<class 'function'>\n",
      "<class 'type'>\n"
     ]
    }
   ],
   "source": [
    "someList = [int,str,tuple,dict,list,print,someFunction, Someclass]\n",
    "for item in someList:\n",
    "    print(type(item))"
   ]
  },
  {
   "cell_type": "markdown",
   "id": "68929db5",
   "metadata": {},
   "source": [
    "#### 2."
   ]
  },
  {
   "cell_type": "code",
   "execution_count": 29,
   "id": "853b4f08",
   "metadata": {},
   "outputs": [
    {
     "name": "stdout",
     "output_type": "stream",
     "text": [
      "\n",
      "<class 'int'>\n",
      "<class 'str'>\n",
      "<class 'tuple'>\n",
      "<class 'dict'>\n",
      "<class 'list'>\n",
      "<class 'NoneType'>\n"
     ]
    }
   ],
   "source": [
    "anotherList = [int(), str(), tuple(), dict(), list(), print()]#funct(), #Myclass()\n",
    "for item in anotherList:\n",
    "    print(type(item))"
   ]
  },
  {
   "cell_type": "markdown",
   "id": "3b07aa16",
   "metadata": {},
   "source": [
    "#### 3"
   ]
  },
  {
   "cell_type": "code",
   "execution_count": 30,
   "id": "29f1feb7",
   "metadata": {},
   "outputs": [],
   "source": [
    "class Pet: \n",
    "    pet_population = 0\n",
    "    pet_instance = []\n",
    "    current_year = 0\n",
    "    \n",
    "    def __init__(self, name, category, age):\n",
    "        self.name = name\n",
    "        self.category = category\n",
    "        self.age = age\n",
    "        Pet.pet_population+=1\n",
    "        Pet.pet_instance.append(self)\n",
    "        \n",
    "    def hellofrompet(self):\n",
    "        print(f\"Hello my name is {self.name}\") \n",
    "        \n",
    "    @classmethod   \n",
    "    def timepassedby(cls, years):\n",
    "        for item in Pet.pet_instance:     \n",
    "            print(f\"the age of the pet {item.name} is {item.age + years}\")   \n",
    "           \n",
    "        \n",
    "class Dog(Pet):\n",
    "    \n",
    "    def __init__(self,name, category, age, breed):\n",
    "        super().__init__(name, category, age)\n",
    "        self.breed = breed\n",
    "        \n",
    "        \n",
    "    def barks(self):\n",
    "        print(f\"{self.breed} does woof woof\")\n",
    "          "
   ]
  },
  {
   "cell_type": "code",
   "execution_count": 31,
   "id": "861f663a",
   "metadata": {},
   "outputs": [],
   "source": [
    "# create the Pet instance \n",
    "instance1 = Pet(\"Micky\", \"Cat\", 1 )\n",
    "instance2 = Dog(\"Saphie\", \"dog\", 2, \"German Shepherd\")"
   ]
  },
  {
   "cell_type": "code",
   "execution_count": 32,
   "id": "e30c873e",
   "metadata": {
    "scrolled": true
   },
   "outputs": [
    {
     "name": "stdout",
     "output_type": "stream",
     "text": [
      "2\n",
      "2\n"
     ]
    }
   ],
   "source": [
    "# Validation 1\n",
    "print(Pet.pet_population)\n",
    "print(Dog.pet_population)"
   ]
  },
  {
   "cell_type": "code",
   "execution_count": 33,
   "id": "045c640f",
   "metadata": {
    "scrolled": true
   },
   "outputs": [
    {
     "name": "stdout",
     "output_type": "stream",
     "text": [
      "Micky\n",
      "Saphie\n"
     ]
    }
   ],
   "source": [
    "# Validation 2 display all the names of the pet\n",
    "\n",
    "for item in Pet.pet_instance:\n",
    "    print(item.name)   "
   ]
  },
  {
   "cell_type": "code",
   "execution_count": 34,
   "id": "87058bfd",
   "metadata": {
    "scrolled": false
   },
   "outputs": [
    {
     "name": "stdout",
     "output_type": "stream",
     "text": [
      "the age of the pet Micky is 6\n",
      "the age of the pet Saphie is 7\n"
     ]
    }
   ],
   "source": [
    "Pet.timepassedby(5)\n"
   ]
  },
  {
   "cell_type": "code",
   "execution_count": 35,
   "id": "b02bc79e",
   "metadata": {},
   "outputs": [
    {
     "name": "stdout",
     "output_type": "stream",
     "text": [
      "1\n",
      "2\n"
     ]
    }
   ],
   "source": [
    "print(instance1.age)\n",
    "print(instance2.age)"
   ]
  },
  {
   "cell_type": "code",
   "execution_count": 36,
   "id": "5769b4a9",
   "metadata": {},
   "outputs": [
    {
     "ename": "AttributeError",
     "evalue": "'Pet' object has no attribute 'barks'",
     "output_type": "error",
     "traceback": [
      "\u001b[1;31m---------------------------------------------------------------------------\u001b[0m",
      "\u001b[1;31mAttributeError\u001b[0m                            Traceback (most recent call last)",
      "Input \u001b[1;32mIn [36]\u001b[0m, in \u001b[0;36m<cell line: 1>\u001b[1;34m()\u001b[0m\n\u001b[1;32m----> 1\u001b[0m \u001b[43minstance1\u001b[49m\u001b[38;5;241;43m.\u001b[39;49m\u001b[43mbarks\u001b[49m()\n",
      "\u001b[1;31mAttributeError\u001b[0m: 'Pet' object has no attribute 'barks'"
     ]
    }
   ],
   "source": [
    "instance1.barks()"
   ]
  },
  {
   "cell_type": "code",
   "execution_count": 37,
   "id": "bdf22bd6",
   "metadata": {},
   "outputs": [
    {
     "name": "stdout",
     "output_type": "stream",
     "text": [
      "German Shepherd does woof woof\n"
     ]
    }
   ],
   "source": [
    "instance2.barks()"
   ]
  }
 ],
 "metadata": {
  "kernelspec": {
   "display_name": "Python 3 (ipykernel)",
   "language": "python",
   "name": "python3"
  },
  "language_info": {
   "codemirror_mode": {
    "name": "ipython",
    "version": 3
   },
   "file_extension": ".py",
   "mimetype": "text/x-python",
   "name": "python",
   "nbconvert_exporter": "python",
   "pygments_lexer": "ipython3",
   "version": "3.9.12"
  }
 },
 "nbformat": 4,
 "nbformat_minor": 5
}
