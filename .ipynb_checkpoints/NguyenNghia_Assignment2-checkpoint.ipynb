{
 "cells": [
  {
   "cell_type": "code",
   "execution_count": 6,
   "id": "a6ce392c",
   "metadata": {},
   "outputs": [],
   "source": [
    "import math "
   ]
  },
  {
   "cell_type": "code",
   "execution_count": 7,
   "id": "39a0fb0c",
   "metadata": {},
   "outputs": [
    {
     "name": "stdout",
     "output_type": "stream",
     "text": [
      "Please input the radius value: 5\n",
      "The area of circle is 78.54\n",
      "The perimeter of circle is 31.42\n"
     ]
    }
   ],
   "source": [
    "## Conditionals\n",
    "\n",
    "# Task 1 and 2\n",
    "\"\"\"\n",
    "Get the radius value as input and calculate the area of the circle. If the input is numeric, display the result otherwise display any other message.\n",
    "If the user enters numeric value then asks user to for either perimeter or area calculation and display accordingly\n",
    "\"\"\"\n",
    "radius_input = float(input(\"Please input the radius value: \"))\n",
    "if isinstance(radius_input, (int,float)):\n",
    "    circle_area = math.pi * (radius_input ** 2)\n",
    "    perimeter = math.pi * radius_input * 2\n",
    "    print(f\"The area of circle is {circle_area:.2f}\")\n",
    "    print(f\"The perimeter of circle is {perimeter:.2f}\")\n",
    "\n",
    "else:\n",
    "    print(\"The radius input should be int or float type\")\n",
    "    \n",
    "# Task 3\n",
    "# Check if there is a student named 'Maria' in students_profile dictionary. If exists remove 'ML' from her course\n",
    "\n",
    "\n",
    "students_profile = {'Duy': ['Python', 'Database', 'ML'],\n",
    "                   'Laxmi': ['Python', 'Database', 'ML'],\n",
    "                   'Antonio': ['Python', 'Database', 'ML'],\n",
    "                   'Maria': ['Python', 'Database', 'ML']}\n",
    "\n",
    "if \"Maria\" in students_profile.keys():\n",
    "    students_profile[\"Maria\"].pop()\n",
    "\n",
    "students_profile[\"Maria\"]"
   ]
  },
  {
   "cell_type": "code",
   "execution_count": 9,
   "id": "27bb9eb3",
   "metadata": {},
   "outputs": [
    {
     "name": "stdout",
     "output_type": "stream",
     "text": [
      "Enter a string: hello world\n",
      "Enter a substring: hello\n",
      "Substring is present in the string\n"
     ]
    }
   ],
   "source": [
    "# Task 1\n",
    "\"\"\"\n",
    "Take the input from the user as a substring. If that substring is present in string then display substring\n",
    "is present otherwise substring is not present\n",
    "\"\"\"\n",
    "\n",
    "string = input(\"Enter a string: \")\n",
    "substring = input(\"Enter a substring: \")\n",
    "\n",
    "if substring in string:\n",
    "    print(\"Substring is present in the string\")\n",
    "else:\n",
    "    print(\"Substring is not present in the string\")"
   ]
  },
  {
   "cell_type": "code",
   "execution_count": 11,
   "id": "8774c0f9",
   "metadata": {},
   "outputs": [
    {
     "name": "stdout",
     "output_type": "stream",
     "text": [
      "Enter the order of the distance metric (1, 2, or 3): 2\n",
      "L2 norm (Euclidean distance) between (1, 2, 3) and (4, 5, 6) is 5.20\n"
     ]
    }
   ],
   "source": [
    "# Task 2\n",
    "# Define the points\n",
    "p1 = (1, 2, 3)\n",
    "p2 = (4, 5, 6)\n",
    "\n",
    "# Take user input for the order of distance metric\n",
    "order = int(input(\"Enter the order of the distance metric (1, 2, or 3): \"))\n",
    "\n",
    "# Calculate the distance based on the user's input\n",
    "if order == 1:\n",
    "    distance = sum(abs(a-b) for a, b in zip(p1, p2))\n",
    "    print(f\"L1 norm (Manhattan distance) between {p1} and {p2} is {distance:.2f}\")\n",
    "elif order == 2:\n",
    "    distance = sum((a-b)**2 for a, b in zip(p1, p2))**0.5\n",
    "    print(f\"L2 norm (Euclidean distance) between {p1} and {p2} is {distance:.2f}\")\n",
    "elif order == 3:\n",
    "    distance = sum(abs(a-b)**3 for a, b in zip(p1, p2))**(1/3)\n",
    "    print(f\"Minkowski distance with order 3 between {p1} and {p2} is {distance:.2f}\")\n",
    "else:\n",
    "    print(\"Invalid order. Please enter 1, 2, or 3.\") \n"
   ]
  },
  {
   "cell_type": "code",
   "execution_count": 14,
   "id": "69a81e86",
   "metadata": {},
   "outputs": [
    {
     "name": "stdout",
     "output_type": "stream",
     "text": [
      "Input the number you want: 5\n",
      "Welcome to Integrify\n",
      "Welcome to Integrify\n",
      "Welcome to Integrify\n",
      "Welcome to Integrify\n",
      "Welcome to Integrify\n",
      "Welcome to Machine Learning\n",
      "Welcome to Machine Learning\n",
      "Welcome to Machine Learning\n",
      "Welcome to Machine Learning\n"
     ]
    }
   ],
   "source": [
    "## Loops\n",
    "# Task 1\n",
    "\"\"\"\n",
    "Write a multiplication table for any given number using both for and while loop\n",
    "\"\"\"\n",
    "\n",
    "num = int(input(\"Input the number you want: \"))\n",
    "for i in range(num):\n",
    "    print(\"Welcome to Integrify\")\n",
    "\n",
    "i = 1\n",
    "while i < num:\n",
    "    i  += 1\n",
    "    print(\"Welcome to Machine Learning\")"
   ]
  },
  {
   "cell_type": "code",
   "execution_count": null,
   "id": "19c098df",
   "metadata": {},
   "outputs": [],
   "source": [
    "mapper={\"T\":\"A\",\"A\":\"T\",\"G\":\"C\",\"C\":\"G\"}\n",
    "dna_template='AATCCGAAAATTCGGGAATTTTCGCGT'\n",
    "\n",
    "for i in dna"
   ]
  }
 ],
 "metadata": {
  "kernelspec": {
   "display_name": "Python 3 (ipykernel)",
   "language": "python",
   "name": "python3"
  },
  "language_info": {
   "codemirror_mode": {
    "name": "ipython",
    "version": 3
   },
   "file_extension": ".py",
   "mimetype": "text/x-python",
   "name": "python",
   "nbconvert_exporter": "python",
   "pygments_lexer": "ipython3",
   "version": "3.9.13"
  }
 },
 "nbformat": 4,
 "nbformat_minor": 5
}
