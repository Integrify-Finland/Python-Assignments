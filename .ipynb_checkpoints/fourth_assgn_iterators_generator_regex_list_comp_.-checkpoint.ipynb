{
 "cells": [
  {
   "cell_type": "markdown",
   "id": "68e3f588",
   "metadata": {},
   "source": [
    "<div style = \"text-align: left\"><font size = 8 color = \"#B22222\" face = \"verdana\"><b>Integrify</b></font></div>\n",
    "<div style = \"text-align: left\"><font size = 5 color = \"#00008B\" face = \"verdana\"><b>iterators_generator_regex_list_comp_assignment_4</b></font></div>\n",
    "<div style = \"text-align: leftt\"><font><i>By Jeremiah Aremu</i></font></div>\n",
    "<div style = \"text-align: leftt\"><font>24th March 2023</font></div>\n"
   ]
  },
  {
   "cell_type": "code",
   "execution_count": 16,
   "id": "a29074df",
   "metadata": {},
   "outputs": [
    {
     "data": {
      "text/html": [
       "<style>.container { width:100% !important; }</style>"
      ],
      "text/plain": [
       "<IPython.core.display.HTML object>"
      ]
     },
     "metadata": {},
     "output_type": "display_data"
    }
   ],
   "source": [
    "#Code space custom format \n",
    "import warnings\n",
    "import pandas as pd\n",
    "warnings.simplefilter(action='ignore', category=RuntimeWarning)\n",
    "warnings.simplefilter(action='ignore', category=FutureWarning)\n",
    "warnings.simplefilter(action='ignore', category=UserWarning)\n",
    "warnings.simplefilter(action='ignore', category=DeprecationWarning)\n",
    "pd.set_option(\"display.max_columns\", None)\n",
    "pd.set_option(\"display.max_rows\", None)\n",
    "pd.options.display.max_colwidth = None\n",
    "pd.set_option(\"display.float_format\", lambda x: '%.2f' % x)\n",
    "from IPython.display import display, HTML\n",
    "display(HTML(\"<style>.container { width:100% !important; }</style>\"))"
   ]
  },
  {
   "cell_type": "markdown",
   "id": "ab960d3f",
   "metadata": {},
   "source": [
    "#### Import libraries"
   ]
  },
  {
   "cell_type": "code",
   "execution_count": 17,
   "id": "2f2721c3",
   "metadata": {},
   "outputs": [],
   "source": [
    "import itertools\n",
    "# itertools was a bit tricky to install depending on the version of python installed \n",
    "# the comman below worked evetually \n",
    "#  conda install -c conda-forge more-itertools #"
   ]
  },
  {
   "cell_type": "markdown",
   "id": "c73f1f91",
   "metadata": {},
   "source": [
    "#### 1.\n",
    "Create a list apply iter method to it and run next method until you get Stop Iteration error"
   ]
  },
  {
   "cell_type": "code",
   "execution_count": 18,
   "id": "3d41d22b",
   "metadata": {},
   "outputs": [],
   "source": [
    "iter_list = ['apple','banana2','cherry', 'grape']\n",
    "itr_iter_list = iter(iter_list)"
   ]
  },
  {
   "cell_type": "code",
   "execution_count": 19,
   "id": "43638b93",
   "metadata": {},
   "outputs": [
    {
     "name": "stdout",
     "output_type": "stream",
     "text": [
      "apple\n"
     ]
    }
   ],
   "source": [
    "print(next(itr_iter_list))"
   ]
  },
  {
   "cell_type": "code",
   "execution_count": 20,
   "id": "2d907021",
   "metadata": {},
   "outputs": [
    {
     "name": "stdout",
     "output_type": "stream",
     "text": [
      "banana2\n"
     ]
    }
   ],
   "source": [
    "print(next(itr_iter_list))"
   ]
  },
  {
   "cell_type": "code",
   "execution_count": 21,
   "id": "77ea4830",
   "metadata": {},
   "outputs": [
    {
     "name": "stdout",
     "output_type": "stream",
     "text": [
      "cherry\n"
     ]
    }
   ],
   "source": [
    "print(next(itr_iter_list))"
   ]
  },
  {
   "cell_type": "code",
   "execution_count": 22,
   "id": "130c8d0b",
   "metadata": {},
   "outputs": [
    {
     "name": "stdout",
     "output_type": "stream",
     "text": [
      "grape\n"
     ]
    }
   ],
   "source": [
    "print(next(itr_iter_list))"
   ]
  },
  {
   "cell_type": "code",
   "execution_count": 23,
   "id": "53a7a82b",
   "metadata": {},
   "outputs": [
    {
     "ename": "StopIteration",
     "evalue": "",
     "output_type": "error",
     "traceback": [
      "\u001b[1;31m---------------------------------------------------------------------------\u001b[0m",
      "\u001b[1;31mStopIteration\u001b[0m                             Traceback (most recent call last)",
      "Input \u001b[1;32mIn [23]\u001b[0m, in \u001b[0;36m<cell line: 1>\u001b[1;34m()\u001b[0m\n\u001b[1;32m----> 1\u001b[0m \u001b[38;5;28mprint\u001b[39m(\u001b[38;5;28;43mnext\u001b[39;49m\u001b[43m(\u001b[49m\u001b[43mitr_iter_list\u001b[49m\u001b[43m)\u001b[49m)\n",
      "\u001b[1;31mStopIteration\u001b[0m: "
     ]
    }
   ],
   "source": [
    "print(next(itr_iter_list))"
   ]
  },
  {
   "cell_type": "markdown",
   "id": "f83a19ea",
   "metadata": {},
   "source": [
    "#### 2.\n",
    "Import itertools in your notebook and create infinite iterators using count,cycle and and repeat methods. Refer https://docs.python.org/3/library/itertools.html"
   ]
  },
  {
   "cell_type": "code",
   "execution_count": 24,
   "id": "9b855688",
   "metadata": {},
   "outputs": [],
   "source": [
    "import itertools"
   ]
  },
  {
   "cell_type": "code",
   "execution_count": 25,
   "id": "96f98bbc",
   "metadata": {},
   "outputs": [
    {
     "name": "stdout",
     "output_type": "stream",
     "text": [
      "5 10 15 20 25 30 35 40 45 "
     ]
    }
   ],
   "source": [
    "# infinite itertor using cycle()\n",
    "count_iter = 0\n",
    "for i in itertools.count(5,5):\n",
    "    if i == 50: # introduced to stop it from going to infinity\n",
    "        break\n",
    "    else:\n",
    "    \n",
    "        print(i, end = \" \")"
   ]
  },
  {
   "cell_type": "code",
   "execution_count": 26,
   "id": "1bad4166",
   "metadata": {},
   "outputs": [
    {
     "name": "stdout",
     "output_type": "stream",
     "text": [
      "A B C A B C A B "
     ]
    }
   ],
   "source": [
    "# infinite itertor using cycle()\n",
    "counter = 0\n",
    "for j in itertools.cycle('ABC'):\n",
    "    if counter > 7: # also introduced to abort counting to infinity\n",
    "        break\n",
    "    else:\n",
    "        print(j, end = \" \")\n",
    "        counter+=1"
   ]
  },
  {
   "cell_type": "code",
   "execution_count": 27,
   "id": "9adcb9c5",
   "metadata": {},
   "outputs": [
    {
     "name": "stdout",
     "output_type": "stream",
     "text": [
      "[25, 25, 25, 25, 25, 25, 25, 25, 25, 25]\n"
     ]
    }
   ],
   "source": [
    "# infinite itertor using repeat()\n",
    "print(list(itertools.repeat(25, 10))) # removing the second arg \"10\" python will print infinitely\n"
   ]
  },
  {
   "cell_type": "code",
   "execution_count": 28,
   "id": "901005dd",
   "metadata": {},
   "outputs": [
    {
     "name": "stdout",
     "output_type": "stream",
     "text": [
      "[25, 25, 25, 25, 25, 25, 25, 25, 25, 25, 25, 25, 25, 25, 25]\n"
     ]
    }
   ],
   "source": [
    "# infinite itertor using repeat()\n",
    "print(list(itertools.repeat(25, 15))) # removing the second arg \"10\" python will print infinitely\n"
   ]
  },
  {
   "cell_type": "markdown",
   "id": "bb5bee4e",
   "metadata": {},
   "source": [
    "#### 3.\n",
    "Use methods from Iterators terminating on the shortest input sequence"
   ]
  },
  {
   "cell_type": "markdown",
   "id": "96354d4f",
   "metadata": {},
   "source": [
    "#### accumulate"
   ]
  },
  {
   "cell_type": "code",
   "execution_count": 29,
   "id": "a8dcdc34",
   "metadata": {},
   "outputs": [],
   "source": [
    "from itertools import accumulate"
   ]
  },
  {
   "cell_type": "code",
   "execution_count": 30,
   "id": "c8847e73",
   "metadata": {},
   "outputs": [
    {
     "name": "stdout",
     "output_type": "stream",
     "text": [
      "[1, 3, 6]\n"
     ]
    }
   ],
   "source": [
    "# accumulate\n",
    "# p0, p0 + p1, p0+p1+p2\n",
    "print(list(accumulate([1,2,3])))"
   ]
  },
  {
   "cell_type": "markdown",
   "id": "de8f4dae",
   "metadata": {},
   "source": [
    "#### chain"
   ]
  },
  {
   "cell_type": "code",
   "execution_count": 31,
   "id": "3c1e56a2",
   "metadata": {},
   "outputs": [],
   "source": [
    "from itertools import chain"
   ]
  },
  {
   "cell_type": "code",
   "execution_count": 32,
   "id": "6a8dbb17",
   "metadata": {
    "scrolled": true
   },
   "outputs": [
    {
     "name": "stdout",
     "output_type": "stream",
     "text": [
      "['A', 'B', 'C', 'D', 'E', 'F', 'G', 'H', 'I']\n"
     ]
    }
   ],
   "source": [
    "#chain\n",
    "print(list(chain('ABC', 'DEF', 'GHI')))"
   ]
  },
  {
   "cell_type": "markdown",
   "id": "0d23499b",
   "metadata": {},
   "source": [
    "#### compress"
   ]
  },
  {
   "cell_type": "code",
   "execution_count": 33,
   "id": "aa313123",
   "metadata": {},
   "outputs": [],
   "source": [
    "from itertools import compress # data selectors"
   ]
  },
  {
   "cell_type": "code",
   "execution_count": 34,
   "id": "f5e725c7",
   "metadata": {},
   "outputs": [
    {
     "name": "stdout",
     "output_type": "stream",
     "text": [
      "['A', 'C', 'E', 'F']\n"
     ]
    }
   ],
   "source": [
    "print(list(compress('ABCDEF', [1,0,1,0,1,1])))"
   ]
  },
  {
   "cell_type": "markdown",
   "id": "7acf538f",
   "metadata": {},
   "source": [
    "#### dropwhile"
   ]
  },
  {
   "cell_type": "code",
   "execution_count": 21,
   "id": "89dde789",
   "metadata": {},
   "outputs": [],
   "source": [
    "from itertools import dropwhile"
   ]
  },
  {
   "cell_type": "code",
   "execution_count": 22,
   "id": "7e7408de",
   "metadata": {},
   "outputs": [
    {
     "name": "stdout",
     "output_type": "stream",
     "text": [
      "[6, 4, 1]\n"
     ]
    }
   ],
   "source": [
    "print(list(dropwhile(lambda x: x<5, [1,4,6,4,1])))"
   ]
  },
  {
   "cell_type": "code",
   "execution_count": 23,
   "id": "e34f5800",
   "metadata": {},
   "outputs": [
    {
     "name": "stdout",
     "output_type": "stream",
     "text": [
      "[4, 6, 4, 1]\n"
     ]
    }
   ],
   "source": [
    "print(list(dropwhile(lambda x: x<3, [1,2,1,2,0,4,6,4,1])))"
   ]
  },
  {
   "cell_type": "markdown",
   "id": "fccf2205",
   "metadata": {},
   "source": [
    "#### filterfalse"
   ]
  },
  {
   "cell_type": "code",
   "execution_count": 36,
   "id": "b170536d",
   "metadata": {},
   "outputs": [],
   "source": [
    "from itertools import filterfalse"
   ]
  },
  {
   "cell_type": "code",
   "execution_count": 37,
   "id": "9a93f002",
   "metadata": {},
   "outputs": [
    {
     "name": "stdout",
     "output_type": "stream",
     "text": [
      "[0, 2, 4, 6, 8]\n"
     ]
    }
   ],
   "source": [
    "filter_var = filterfalse(lambda x: x%2, range(10))\n",
    "print(list(filter_var))"
   ]
  },
  {
   "cell_type": "code",
   "execution_count": 38,
   "id": "ac595d96",
   "metadata": {},
   "outputs": [
    {
     "name": "stdout",
     "output_type": "stream",
     "text": [
      "[0, 2, 3, 5, 7, 8, 9]\n"
     ]
    }
   ],
   "source": [
    "filter_var2 = filterfalse(lambda x: x in [1,4,6], range(10))\n",
    "print(list(filter_var2))"
   ]
  },
  {
   "cell_type": "markdown",
   "id": "5d2256d8",
   "metadata": {},
   "source": [
    "#### groupby"
   ]
  },
  {
   "cell_type": "markdown",
   "id": "07391834",
   "metadata": {},
   "source": [
    "#### islice"
   ]
  },
  {
   "cell_type": "code",
   "execution_count": 39,
   "id": "8e579998",
   "metadata": {},
   "outputs": [],
   "source": [
    "from itertools import islice"
   ]
  },
  {
   "cell_type": "code",
   "execution_count": 40,
   "id": "00346519",
   "metadata": {},
   "outputs": [
    {
     "name": "stdout",
     "output_type": "stream",
     "text": [
      "['C', 'D', 'E', 'F', 'G']\n"
     ]
    }
   ],
   "source": [
    "islice_sample = islice('ABCDEFG', 2, None)\n",
    "print(list(islice_sample))"
   ]
  },
  {
   "cell_type": "code",
   "execution_count": 41,
   "id": "05a436bf",
   "metadata": {},
   "outputs": [
    {
     "name": "stdout",
     "output_type": "stream",
     "text": [
      "['D', 'E', 'F', 'G']\n"
     ]
    }
   ],
   "source": [
    "islice_sample2 = islice('ABCDEFG', 3, None)\n",
    "print(list(islice_sample2))"
   ]
  },
  {
   "cell_type": "markdown",
   "id": "76fc36c1",
   "metadata": {},
   "source": [
    "#### pairwise"
   ]
  },
  {
   "cell_type": "code",
   "execution_count": 43,
   "id": "46e3a799",
   "metadata": {},
   "outputs": [
    {
     "name": "stdout",
     "output_type": "stream",
     "text": [
      "Python 3.9.16\n"
     ]
    }
   ],
   "source": [
    "! python --version "
   ]
  },
  {
   "cell_type": "code",
   "execution_count": 2,
   "id": "12b85671",
   "metadata": {
    "scrolled": true
   },
   "outputs": [
    {
     "ename": "ImportError",
     "evalue": "cannot import name 'pairwise' from 'itertools' (unknown location)",
     "output_type": "error",
     "traceback": [
      "\u001b[1;31m---------------------------------------------------------------------------\u001b[0m",
      "\u001b[1;31mImportError\u001b[0m                               Traceback (most recent call last)",
      "Input \u001b[1;32mIn [2]\u001b[0m, in \u001b[0;36m<cell line: 1>\u001b[1;34m()\u001b[0m\n\u001b[1;32m----> 1\u001b[0m \u001b[38;5;28;01mfrom\u001b[39;00m \u001b[38;5;21;01mitertools\u001b[39;00m \u001b[38;5;28;01mimport\u001b[39;00m pairwise\n",
      "\u001b[1;31mImportError\u001b[0m: cannot import name 'pairwise' from 'itertools' (unknown location)"
     ]
    }
   ],
   "source": [
    "from itertools import pairwise\n",
    "#seem like you need python 3.10 to be able to run this"
   ]
  },
  {
   "cell_type": "code",
   "execution_count": 44,
   "id": "44510429",
   "metadata": {},
   "outputs": [],
   "source": [
    "# pairwise('ABCDEFG') "
   ]
  },
  {
   "cell_type": "markdown",
   "id": "6929d1ee",
   "metadata": {},
   "source": [
    "#### starmap"
   ]
  },
  {
   "cell_type": "code",
   "execution_count": 13,
   "id": "2ff818a1",
   "metadata": {},
   "outputs": [],
   "source": [
    "from itertools import starmap\n",
    "# this raises the power of the the first element in the tuple to that of the second element"
   ]
  },
  {
   "cell_type": "code",
   "execution_count": 14,
   "id": "4a477b64",
   "metadata": {},
   "outputs": [
    {
     "data": {
      "text/plain": [
       "[32, 9, 64]"
      ]
     },
     "execution_count": 14,
     "metadata": {},
     "output_type": "execute_result"
    }
   ],
   "source": [
    "check_it = list(starmap(pow, [(2,5), (3,2), (4,3)]))\n",
    "check_it"
   ]
  },
  {
   "cell_type": "markdown",
   "id": "62d15701",
   "metadata": {},
   "source": [
    "#### takewhile"
   ]
  },
  {
   "cell_type": "code",
   "execution_count": 34,
   "id": "df532333",
   "metadata": {},
   "outputs": [],
   "source": [
    "from itertools import takewhile"
   ]
  },
  {
   "cell_type": "code",
   "execution_count": 35,
   "id": "99e0fb5b",
   "metadata": {},
   "outputs": [
    {
     "name": "stdout",
     "output_type": "stream",
     "text": [
      "[1, 4]\n"
     ]
    }
   ],
   "source": [
    "print(list(takewhile(lambda x: x<5, [1,4,6,4,1])))"
   ]
  },
  {
   "cell_type": "code",
   "execution_count": 36,
   "id": "a22eb396",
   "metadata": {},
   "outputs": [
    {
     "name": "stdout",
     "output_type": "stream",
     "text": [
      "[1, 2]\n"
     ]
    }
   ],
   "source": [
    "print(list(takewhile(lambda x: x < 5, [1, 2, 21, 11, 15, 7, 2, 2, 3, 4, 5, 6])))"
   ]
  },
  {
   "cell_type": "markdown",
   "id": "a9b5a637",
   "metadata": {},
   "source": [
    "#### tee"
   ]
  },
  {
   "cell_type": "code",
   "execution_count": 37,
   "id": "b14de190",
   "metadata": {},
   "outputs": [],
   "source": [
    "from itertools import tee"
   ]
  },
  {
   "cell_type": "code",
   "execution_count": 38,
   "id": "8b0b5d88",
   "metadata": {},
   "outputs": [],
   "source": [
    "my_iterable = [1,2, 3, 4, 5, 6]\n",
    "\n",
    "iter1, iter2 = tee(my_iterable)"
   ]
  },
  {
   "cell_type": "code",
   "execution_count": 39,
   "id": "7df64d96",
   "metadata": {},
   "outputs": [
    {
     "data": {
      "text/plain": [
       "[1, 2, 3, 4, 5, 6]"
      ]
     },
     "execution_count": 39,
     "metadata": {},
     "output_type": "execute_result"
    }
   ],
   "source": [
    "list_iter1 = list(iter1)\n",
    "list_iter1"
   ]
  },
  {
   "cell_type": "code",
   "execution_count": 40,
   "id": "04bc17a0",
   "metadata": {},
   "outputs": [
    {
     "data": {
      "text/plain": [
       "[1, 2, 3, 4, 5, 6]"
      ]
     },
     "execution_count": 40,
     "metadata": {},
     "output_type": "execute_result"
    }
   ],
   "source": [
    "list_iter2 = list(iter2)\n",
    "list_iter2"
   ]
  },
  {
   "cell_type": "code",
   "execution_count": 41,
   "id": "b6b42cf7",
   "metadata": {},
   "outputs": [
    {
     "name": "stdout",
     "output_type": "stream",
     "text": [
      "1 2 3 4 5 6 "
     ]
    }
   ],
   "source": [
    "for a in list_iter1:\n",
    "    print (a, end = \" \")"
   ]
  },
  {
   "cell_type": "code",
   "execution_count": 42,
   "id": "f968b96f",
   "metadata": {},
   "outputs": [
    {
     "name": "stdout",
     "output_type": "stream",
     "text": [
      "1 2 3 4 5 6 "
     ]
    }
   ],
   "source": [
    "for b in list_iter2:\n",
    "    print (b, end = \" \")"
   ]
  },
  {
   "cell_type": "code",
   "execution_count": 43,
   "id": "3f2ce165",
   "metadata": {},
   "outputs": [],
   "source": [
    "it_iter = [1,2,3]"
   ]
  },
  {
   "cell_type": "code",
   "execution_count": 44,
   "id": "9819de3d",
   "metadata": {},
   "outputs": [],
   "source": [
    "# use tee() to create three independent iterators\n",
    "it1, it2, it3 = tee(it_iter, 3)"
   ]
  },
  {
   "cell_type": "code",
   "execution_count": 45,
   "id": "e71475da",
   "metadata": {},
   "outputs": [
    {
     "name": "stdout",
     "output_type": "stream",
     "text": [
      "[1, 2, 3]\n"
     ]
    }
   ],
   "source": [
    "print(list(it3))"
   ]
  },
  {
   "cell_type": "markdown",
   "id": "98355029",
   "metadata": {},
   "source": [
    "#### zip_longest"
   ]
  },
  {
   "cell_type": "code",
   "execution_count": 46,
   "id": "e08e9c3b",
   "metadata": {},
   "outputs": [],
   "source": [
    "from itertools import zip_longest"
   ]
  },
  {
   "cell_type": "code",
   "execution_count": 47,
   "id": "df93b15e",
   "metadata": {},
   "outputs": [
    {
     "name": "stdout",
     "output_type": "stream",
     "text": [
      "[('A', 'x'), ('B', 'y'), ('C', 'z'), ('D', 'x')]\n"
     ]
    }
   ],
   "source": [
    "zip_sample = zip_longest('ABCD', 'xyzx', fillvalue='-')\n",
    "print(list(zip_sample))"
   ]
  },
  {
   "cell_type": "code",
   "execution_count": 48,
   "id": "2d8fab58",
   "metadata": {},
   "outputs": [
    {
     "name": "stdout",
     "output_type": "stream",
     "text": [
      "[('A', 'x'), ('B', 'y'), ('C', 'z'), ('D', 'x'), ('E', '*'), ('F', '*')]\n"
     ]
    }
   ],
   "source": [
    "zip_sample = zip_longest('ABCDEF', 'xyzx', fillvalue='*')\n",
    "print(list(zip_sample))"
   ]
  },
  {
   "cell_type": "markdown",
   "id": "ba7137d4",
   "metadata": {},
   "source": [
    "#### 3.\n",
    "combinatorial iterators"
   ]
  },
  {
   "cell_type": "markdown",
   "id": "c4c521af",
   "metadata": {},
   "source": [
    "#### product"
   ]
  },
  {
   "cell_type": "code",
   "execution_count": 49,
   "id": "d7477bc0",
   "metadata": {},
   "outputs": [],
   "source": [
    "from itertools import product"
   ]
  },
  {
   "cell_type": "code",
   "execution_count": 50,
   "id": "52445e38",
   "metadata": {},
   "outputs": [
    {
     "name": "stdout",
     "output_type": "stream",
     "text": [
      "[('A', 'A'), ('A', 'B'), ('A', 'C'), ('A', 'D'), ('B', 'A'), ('B', 'B'), ('B', 'C'), ('B', 'D'), ('C', 'A'), ('C', 'B'), ('C', 'C'), ('C', 'D'), ('D', 'A'), ('D', 'B'), ('D', 'C'), ('D', 'D')]\n"
     ]
    }
   ],
   "source": [
    "product_xample = product('ABCD', repeat =2)\n",
    "print(list(product_xample))"
   ]
  },
  {
   "cell_type": "markdown",
   "id": "eb6c0762",
   "metadata": {},
   "source": [
    "#### permutations"
   ]
  },
  {
   "cell_type": "code",
   "execution_count": 51,
   "id": "a4ac8142",
   "metadata": {},
   "outputs": [],
   "source": [
    "from itertools import permutations"
   ]
  },
  {
   "cell_type": "code",
   "execution_count": 52,
   "id": "8455d896",
   "metadata": {},
   "outputs": [
    {
     "name": "stdout",
     "output_type": "stream",
     "text": [
      "[('A', 'B'), ('A', 'C'), ('A', 'D'), ('B', 'A'), ('B', 'C'), ('B', 'D'), ('C', 'A'), ('C', 'B'), ('C', 'D'), ('D', 'A'), ('D', 'B'), ('D', 'C')]\n"
     ]
    }
   ],
   "source": [
    "permt_xample = permutations('ABCD', 2)\n",
    "print(list(permt_xample))"
   ]
  },
  {
   "cell_type": "markdown",
   "id": "530c8f9e",
   "metadata": {},
   "source": [
    "#### combinations"
   ]
  },
  {
   "cell_type": "code",
   "execution_count": 53,
   "id": "b7e88cad",
   "metadata": {},
   "outputs": [],
   "source": [
    "from itertools import combinations"
   ]
  },
  {
   "cell_type": "code",
   "execution_count": 54,
   "id": "52b745ec",
   "metadata": {},
   "outputs": [
    {
     "name": "stdout",
     "output_type": "stream",
     "text": [
      "[('A', 'B'), ('A', 'C'), ('A', 'D'), ('B', 'C'), ('B', 'D'), ('C', 'D')]\n"
     ]
    }
   ],
   "source": [
    "comb_xample = combinations('ABCD', 2)\n",
    "print(list(comb_xample))"
   ]
  },
  {
   "cell_type": "markdown",
   "id": "77bdc9ae",
   "metadata": {},
   "source": [
    "#### combinations_with_replacement"
   ]
  },
  {
   "cell_type": "code",
   "execution_count": 55,
   "id": "9886578a",
   "metadata": {},
   "outputs": [],
   "source": [
    "from itertools import combinations_with_replacement"
   ]
  },
  {
   "cell_type": "code",
   "execution_count": 56,
   "id": "0bf467ce",
   "metadata": {},
   "outputs": [
    {
     "name": "stdout",
     "output_type": "stream",
     "text": [
      "[('A', 'A'), ('A', 'B'), ('A', 'C'), ('A', 'D'), ('B', 'B'), ('B', 'C'), ('B', 'D'), ('C', 'C'), ('C', 'D'), ('D', 'D')]\n"
     ]
    }
   ],
   "source": [
    "con_re_xample = combinations_with_replacement('ABCD', 2)\n",
    "print(list(con_re_xample))"
   ]
  },
  {
   "cell_type": "markdown",
   "id": "c54fd497",
   "metadata": {},
   "source": [
    "4.\n",
    "\n",
    "#### Create an infinite generator that generates the fibonacci series\n",
    "    "
   ]
  },
  {
   "cell_type": "code",
   "execution_count": null,
   "id": "348dfbfd",
   "metadata": {},
   "outputs": [],
   "source": []
  },
  {
   "cell_type": "markdown",
   "id": "693af935",
   "metadata": {},
   "source": [
    "#### 5.\n",
    "#### Regex (Regular expressions)"
   ]
  },
  {
   "cell_type": "markdown",
   "id": "37cb7290",
   "metadata": {},
   "source": [
    "5a. Write a Python program to check that a string contains only a certain set of characters (in this case a-z, A-Z and 0-9)"
   ]
  },
  {
   "cell_type": "code",
   "execution_count": 3,
   "id": "8eb17bf7",
   "metadata": {},
   "outputs": [],
   "source": [
    "import re"
   ]
  },
  {
   "cell_type": "code",
   "execution_count": 4,
   "id": "68cfe687",
   "metadata": {},
   "outputs": [],
   "source": [
    "string_to_check = (\"ABCDEFabcdef123450\")\n",
    "string_to_check2 = (\"*&%@#!}{\")"
   ]
  },
  {
   "cell_type": "code",
   "execution_count": 5,
   "id": "208f5399",
   "metadata": {},
   "outputs": [],
   "source": [
    "def check_character_string(string):\n",
    "    chr_to_check = re.compile(r'[^a-zA-Z0-9]')\n",
    "    search_str = chr_to_check.search(string)\n",
    "    return bool(string)"
   ]
  },
  {
   "cell_type": "code",
   "execution_count": 6,
   "id": "56e5f5be",
   "metadata": {},
   "outputs": [
    {
     "name": "stdout",
     "output_type": "stream",
     "text": [
      "True True\n"
     ]
    }
   ],
   "source": [
    "print(check_character_string(string_to_check), check_character_string(string_to_check2))"
   ]
  },
  {
   "cell_type": "markdown",
   "id": "3b424b3c",
   "metadata": {},
   "source": [
    "5b. Write a Python program that matches a string that has an \"a\" followed by zero or more \"b\"s."
   ]
  },
  {
   "cell_type": "code",
   "execution_count": 7,
   "id": "a1baec02",
   "metadata": {},
   "outputs": [],
   "source": [
    "text1 = \"ac\"\n",
    "text2 = \"abc\"\n",
    "text3 = \"a\"\n",
    "text4 = \"ab\"\n",
    "text5 = \"abb\""
   ]
  },
  {
   "cell_type": "code",
   "execution_count": 8,
   "id": "d6e0c58a",
   "metadata": {},
   "outputs": [
    {
     "name": "stdout",
     "output_type": "stream",
     "text": [
      "not matched!\n",
      "not matched!\n",
      "found a match\n",
      "found a match\n",
      "found a match\n"
     ]
    }
   ],
   "source": [
    "def text_match(text):\n",
    "    patterns = '^a(b*)$'\n",
    "    if re.search(patterns, text):\n",
    "        return 'found a match'\n",
    "    else:\n",
    "        return ('not matched!')\n",
    "    \n",
    "print(text_match(\"ac\"))\n",
    "print(text_match(\"abc\"))\n",
    "print(text_match(\"a\"))\n",
    "print(text_match(\"ab\"))\n",
    "print(text_match(\"abb\"))"
   ]
  },
  {
   "cell_type": "markdown",
   "id": "16ee9dda",
   "metadata": {},
   "source": [
    "5c. Write a Python program that matches a string that has an a followed by one or more b's."
   ]
  },
  {
   "cell_type": "code",
   "execution_count": 9,
   "id": "0a12f8bb",
   "metadata": {},
   "outputs": [
    {
     "name": "stdout",
     "output_type": "stream",
     "text": [
      "match found!\n",
      "matct not found\n"
     ]
    }
   ],
   "source": [
    "def func_match(text1):\n",
    "    patterns = 'ab+?'\n",
    "    if re.search(patterns, text1):\n",
    "        return 'match found!'\n",
    "    else:\n",
    "        return 'matct not found'\n",
    "    \n",
    "print(func_match(\"ab\"))\n",
    "print(func_match(\"axb\"))"
   ]
  },
  {
   "cell_type": "markdown",
   "id": "3c06e43b",
   "metadata": {},
   "source": [
    "5d. Write a Python program that matches a word at the beginning of a string."
   ]
  },
  {
   "cell_type": "code",
   "execution_count": 10,
   "id": "58651397",
   "metadata": {},
   "outputs": [
    {
     "name": "stdout",
     "output_type": "stream",
     "text": [
      "Found a match\n",
      "Not matched\n"
     ]
    }
   ],
   "source": [
    "def word_at_beginning(text2):\n",
    "    patterns = '^\\w+'\n",
    "    if re.search(patterns, text2):\n",
    "        return 'Found a match'\n",
    "    else:\n",
    "        return('Not matched')\n",
    "    \n",
    "print(word_at_beginning(\"The quick brown fox jumps over the lazy dog\"))\n",
    "print(word_at_beginning(\" The quick brown fox jumps over the lazy dog\"))"
   ]
  },
  {
   "cell_type": "markdown",
   "id": "1bf9aacd",
   "metadata": {},
   "source": [
    "5e. Write a Python program to remove leading zeros from an IP address."
   ]
  },
  {
   "cell_type": "code",
   "execution_count": 11,
   "id": "069be965",
   "metadata": {},
   "outputs": [
    {
     "name": "stdout",
     "output_type": "stream",
     "text": [
      "216.8.94.196\n"
     ]
    }
   ],
   "source": [
    "ip = \"216.08.094.196\"\n",
    "string2 = re.sub('\\.[0]*', '.', ip)\n",
    "print(string2)"
   ]
  },
  {
   "cell_type": "markdown",
   "id": "b6a7ac29",
   "metadata": {},
   "source": [
    "5f. Write a Python program that matches a string that has an a followed by zero or one 'b'."
   ]
  },
  {
   "cell_type": "code",
   "execution_count": 12,
   "id": "538907de",
   "metadata": {},
   "outputs": [
    {
     "data": {
      "text/plain": [
       "'Found a match'"
      ]
     },
     "execution_count": 12,
     "metadata": {},
     "output_type": "execute_result"
    }
   ],
   "source": [
    "def text_match(text):\n",
    "    pattern = 'ab?'\n",
    "    if re.search(pattern, text):\n",
    "        return 'Found a match'\n",
    "    else:\n",
    "        return('Not matched!')\n",
    "text_match(\"ab\")   "
   ]
  },
  {
   "cell_type": "markdown",
   "id": "797ac7f5",
   "metadata": {},
   "source": [
    "Write a Python program that matches a string that has an 'a' followed by three 'b'"
   ]
  },
  {
   "cell_type": "code",
   "execution_count": 16,
   "id": "3390e3ce",
   "metadata": {},
   "outputs": [
    {
     "name": "stdout",
     "output_type": "stream",
     "text": [
      "Found a match\n",
      "Found a match\n"
     ]
    }
   ],
   "source": [
    "def text_match(text):\n",
    "    patterns = 'ab{3}?'\n",
    "    if re.search(patterns, text):\n",
    "        return 'Found a match'\n",
    "    else:\n",
    "        return('Not matched')\n",
    "    \n",
    "print(text_match(\"abbb\"))\n",
    "print(text_match(\"abbbbbc\"))"
   ]
  },
  {
   "cell_type": "markdown",
   "id": "92de279a",
   "metadata": {},
   "source": [
    "Write a Python program that matches a string that has an a followed by two to three 'b'."
   ]
  },
  {
   "cell_type": "code",
   "execution_count": 17,
   "id": "1e42eaf5",
   "metadata": {},
   "outputs": [
    {
     "name": "stdout",
     "output_type": "stream",
     "text": [
      "Not matched!\n",
      "Found a match!\n"
     ]
    }
   ],
   "source": [
    "def text_match(text):\n",
    "        patterns = 'ab{2,3}'\n",
    "        if re.search(patterns,  text):\n",
    "                return 'Found a match!'\n",
    "        else:\n",
    "                return('Not matched!')\n",
    "print(text_match(\"ab\"))\n",
    "print(text_match(\"aabbbbbc\"))"
   ]
  },
  {
   "cell_type": "markdown",
   "id": "087a2bd6",
   "metadata": {},
   "source": [
    "#### 6.\n",
    "#### Comprehension"
   ]
  },
  {
   "cell_type": "markdown",
   "id": "4f306fca",
   "metadata": {},
   "source": [
    "#### List comprehension"
   ]
  },
  {
   "cell_type": "code",
   "execution_count": 57,
   "id": "5bc94f56",
   "metadata": {},
   "outputs": [],
   "source": [
    "# list comprehension for constructing output list\n",
    "# from the input list construct list of items divisible by 2\n",
    "input_list = [1, 2, 3, 4, 4, 5, 6, 7, 7]"
   ]
  },
  {
   "cell_type": "code",
   "execution_count": 58,
   "id": "9c279d7c",
   "metadata": {},
   "outputs": [
    {
     "data": {
      "text/plain": [
       "[2, 4, 4, 6]"
      ]
     },
     "execution_count": 58,
     "metadata": {},
     "output_type": "execute_result"
    }
   ],
   "source": [
    "output_list = [x for x in input_list if x%2==0]\n",
    "output_list"
   ]
  },
  {
   "cell_type": "code",
   "execution_count": 59,
   "id": "4768e671",
   "metadata": {},
   "outputs": [
    {
     "data": {
      "text/plain": [
       "[1, 2, 3, 4, 5, 6, 7, 8, 9]"
      ]
     },
     "execution_count": 59,
     "metadata": {},
     "output_type": "execute_result"
    }
   ],
   "source": [
    "# list of all the squares of number between 1 and 9\n",
    "input_list2 = list(range(1,10))\n",
    "input_list2"
   ]
  },
  {
   "cell_type": "code",
   "execution_count": 60,
   "id": "ee018faa",
   "metadata": {},
   "outputs": [
    {
     "data": {
      "text/plain": [
       "[1, 4, 9, 16, 25, 36, 49, 64, 81]"
      ]
     },
     "execution_count": 60,
     "metadata": {},
     "output_type": "execute_result"
    }
   ],
   "source": [
    "output_list2 = [i**2 for i in input_list2 ]\n",
    "output_list2"
   ]
  },
  {
   "cell_type": "markdown",
   "id": "31655a99",
   "metadata": {},
   "source": [
    "#### dictionary comprehension"
   ]
  },
  {
   "cell_type": "markdown",
   "id": "00e649d4",
   "metadata": {},
   "source": [
    "Suppose we want to create an output dictionary which contains only the odd numbers that are present in the input_list3 as keys and their cubes as values. Let’s see how to do this using for loops and dictionary comprehension.\n",
    "\n",
    "input_list3 = [1,2,3,4,5,6,7]\n"
   ]
  },
  {
   "cell_type": "code",
   "execution_count": 61,
   "id": "9c3e1fbc",
   "metadata": {},
   "outputs": [],
   "source": [
    "input_list3 = [1,2,3,4,5,6,7]"
   ]
  },
  {
   "cell_type": "code",
   "execution_count": 62,
   "id": "7c56bc9c",
   "metadata": {},
   "outputs": [
    {
     "data": {
      "text/plain": [
       "{1: 1, 3: 27, 5: 125, 7: 343}"
      ]
     },
     "execution_count": 62,
     "metadata": {},
     "output_type": "execute_result"
    }
   ],
   "source": [
    "output_dict = {q:q **3 for q in input_list3 if q%2 !=0}\n",
    "output_dict"
   ]
  },
  {
   "cell_type": "markdown",
   "id": "d1fce84c",
   "metadata": {},
   "source": [
    "Given two lists containing the names of states and their corresponding capitals, construct a dictionary which maps the states with their respective capitals. Let’s see how to do this using for loops and dictionary comprehension."
   ]
  },
  {
   "cell_type": "code",
   "execution_count": 63,
   "id": "2bf2ca50",
   "metadata": {},
   "outputs": [],
   "source": [
    "state = ['Gujarat', 'Maharashtra', 'Rajasthan']\n",
    "capital = ['Gandhinagar', 'Mumbai', 'Jaipur']"
   ]
  },
  {
   "cell_type": "code",
   "execution_count": 64,
   "id": "c6f4bb54",
   "metadata": {},
   "outputs": [
    {
     "data": {
      "text/plain": [
       "{'Gujarat': 'Gandhinagar', 'Maharashtra': 'Mumbai', 'Rajasthan': 'Jaipur'}"
      ]
     },
     "execution_count": 64,
     "metadata": {},
     "output_type": "execute_result"
    }
   ],
   "source": [
    "output_dict2 = {key:val for (key,val) in zip(state,capital)}\n",
    "output_dict2"
   ]
  },
  {
   "cell_type": "markdown",
   "id": "36d5bfab",
   "metadata": {},
   "source": [
    "#### set comprehension\n",
    "\n",
    "**Note:** set discard duplicate values\n",
    "\n",
    "Suppose we want to create an output set which contains only the even numbers that are present in the input list. Note that set will discard all the duplicate values. Let’s see how we can do this using for loops and set comprehension."
   ]
  },
  {
   "cell_type": "code",
   "execution_count": 65,
   "id": "e65d30c6",
   "metadata": {},
   "outputs": [
    {
     "data": {
      "text/plain": [
       "[1, 2, 3, 4, 4, 5, 6, 7, 7]"
      ]
     },
     "execution_count": 65,
     "metadata": {},
     "output_type": "execute_result"
    }
   ],
   "source": [
    "input_list"
   ]
  },
  {
   "cell_type": "code",
   "execution_count": 66,
   "id": "84352457",
   "metadata": {},
   "outputs": [
    {
     "data": {
      "text/plain": [
       "{2, 4, 6}"
      ]
     },
     "execution_count": 66,
     "metadata": {},
     "output_type": "execute_result"
    }
   ],
   "source": [
    "set_output = {ele for ele in input_list if ele%2 == 0}\n",
    "set_output"
   ]
  },
  {
   "cell_type": "markdown",
   "id": "79dcad55",
   "metadata": {},
   "source": [
    "#### Generator comprehension\n",
    "**Note:** They do not allocate memory for the whole list hence they are memory efficient and are generated in circular brackets unlike list comprehension"
   ]
  },
  {
   "cell_type": "code",
   "execution_count": 76,
   "id": "a23bf96f",
   "metadata": {},
   "outputs": [
    {
     "data": {
      "text/plain": [
       "[1, 2, 3, 4, 4, 5, 6, 7, 7]"
      ]
     },
     "execution_count": 76,
     "metadata": {},
     "output_type": "execute_result"
    }
   ],
   "source": [
    "input_list"
   ]
  },
  {
   "cell_type": "code",
   "execution_count": 100,
   "id": "a6802e85",
   "metadata": {
    "scrolled": true
   },
   "outputs": [
    {
     "data": {
      "text/plain": [
       "[2, 4, 4, 6]"
      ]
     },
     "execution_count": 100,
     "metadata": {},
     "output_type": "execute_result"
    }
   ],
   "source": [
    "\n",
    "\n",
    "output_gen = (v for v in input_list if v % 2 == 0)\n",
    "\n",
    "overall_output = []\n",
    "for v in output_gen:\n",
    "    overall_output.append(v)\n",
    "overall_output    \n",
    "  "
   ]
  },
  {
   "cell_type": "markdown",
   "id": "b595b8d6",
   "metadata": {},
   "source": [
    "Write a multiplication table of any given number in a list using list comprehension"
   ]
  },
  {
   "cell_type": "code",
   "execution_count": 70,
   "id": "118d8932",
   "metadata": {},
   "outputs": [
    {
     "data": {
      "text/plain": [
       "[5, 10, 15, 20, 25, 30, 35, 40, 45, 50, 55, 60]"
      ]
     },
     "execution_count": 70,
     "metadata": {},
     "output_type": "execute_result"
    }
   ],
   "source": [
    "number = 5\n",
    "multp_tab_5 = [number* i for i in range(1, 13)]\n",
    "multp_tab_5"
   ]
  },
  {
   "cell_type": "markdown",
   "id": "05a611d2",
   "metadata": {},
   "source": [
    "Find all numbers from 1 to 500 that has 5 in them"
   ]
  },
  {
   "cell_type": "code",
   "execution_count": 81,
   "id": "272f55d3",
   "metadata": {},
   "outputs": [
    {
     "name": "stdout",
     "output_type": "stream",
     "text": [
      "[5, 15, 25, 35, 45, 50, 51, 52, 53, 54, 55, 56, 57, 58, 59, 65, 75, 85, 95, 105, 115, 125, 135, 145, 150, 151, 152, 153, 154, 155, 156, 157, 158, 159, 165, 175, 185, 195, 205, 215, 225, 235, 245, 250, 251, 252, 253, 254, 255, 256, 257, 258, 259, 265, 275, 285, 295, 305, 315, 325, 335, 345, 350, 351, 352, 353, 354, 355, 356, 357, 358, 359, 365, 375, 385, 395, 405, 415, 425, 435, 445, 450, 451, 452, 453, 454, 455, 456, 457, 458, 459, 465, 475, 485, 495, 500]\n"
     ]
    }
   ],
   "source": [
    "numbers_with_5 = [z for z in range(1, 501) if '5' in str(z)]\n",
    "print(numbers_with_5)"
   ]
  },
  {
   "cell_type": "markdown",
   "id": "0357c672",
   "metadata": {},
   "source": [
    "generate the list of non-string values"
   ]
  },
  {
   "cell_type": "code",
   "execution_count": 56,
   "id": "152da0f6",
   "metadata": {},
   "outputs": [],
   "source": [
    "list_items = [\"apple\",True,10,\"banana\",20,30,4.0,\"grapes\",\"laptop\",\"phone\", False,0]"
   ]
  },
  {
   "cell_type": "code",
   "execution_count": 57,
   "id": "ca8da8ca",
   "metadata": {},
   "outputs": [
    {
     "name": "stdout",
     "output_type": "stream",
     "text": [
      "[True, 10, 20, 30, 4.0, False, 0] "
     ]
    }
   ],
   "source": [
    "non_string_outpt = (s for s in list_items if type(s) != str)\n",
    "\n",
    "\n",
    "overall_output2 = []\n",
    "for s in non_string_outpt:\n",
    "    overall_output2.append(s)\n",
    "print(overall_output2, end = \" \")   "
   ]
  },
  {
   "cell_type": "markdown",
   "id": "dc981288",
   "metadata": {},
   "source": [
    "Generate the boolean True for numeric and False for non-numeric in above items list"
   ]
  },
  {
   "cell_type": "code",
   "execution_count": 60,
   "id": "b4bd09a8",
   "metadata": {},
   "outputs": [
    {
     "name": "stdout",
     "output_type": "stream",
     "text": [
      "True\n"
     ]
    }
   ],
   "source": [
    "numbers = [1, 2, 3, 4, 2, 5]\n",
    "\n",
    "# check if numbers is instance of list\n",
    "result = isinstance(numbers, list)\n",
    "print(result)"
   ]
  },
  {
   "cell_type": "code",
   "execution_count": 59,
   "id": "b27241b2",
   "metadata": {},
   "outputs": [
    {
     "data": {
      "text/plain": [
       "[False, True, True, False, True, True, True, False, False, False, True, True]"
      ]
     },
     "execution_count": 59,
     "metadata": {},
     "output_type": "execute_result"
    }
   ],
   "source": [
    "numeric_true_false = [isinstance(item, (int, float)) for item in list_items]\n",
    "numeric_true_false"
   ]
  },
  {
   "cell_type": "markdown",
   "id": "49c86269",
   "metadata": {},
   "source": [
    "[\"cat1.png\",\"dog1.png\",\"cat2.png\",\"cat3.png\",\"cat4.png\",\"dog2.png\",\"cat5.png\",\"cat6.png\",\"dog3.png\"], generate two lists of cat and dog image files"
   ]
  },
  {
   "cell_type": "code",
   "execution_count": 125,
   "id": "ad9285ea",
   "metadata": {},
   "outputs": [
    {
     "name": "stdout",
     "output_type": "stream",
     "text": [
      "['cat1.png', 'cat2.png', 'cat3.png', 'cat4.png', 'cat5.png', 'cat6.png']\n",
      "['dog1.png', 'dog2.png', 'dog3.png']\n"
     ]
    }
   ],
   "source": [
    "files=[\"cat1.png\",\"dog1.png\",\"cat2.png\",\"cat3.png\",\"cat4.png\",\"dog2.png\",\"cat5.png\",\"cat6.png\",\"dog3.png\"]\n",
    "cat_list = [filename for filename in files if filename.startswith('cat')]\n",
    "dog_list = [filename for filename in files if filename.startswith('dog')]\n",
    "print(cat_list)\n",
    "print(dog_list)"
   ]
  },
  {
   "cell_type": "markdown",
   "id": "b12a51ee",
   "metadata": {},
   "source": [
    "DNA is coded using 4 nitrogen bases with the symbols A,T,G,C. Given the template string dna_template='AATCCGAAAATTCGGGAATTTTCGCGT'\n",
    "\n",
    "\n",
    "generate the complementary dna template with the mapping\n",
    "\n",
    "mapper={\"T\":\"A\",\"A\":\"T\",\"G\":\"C\",\"C\":\"G\"}"
   ]
  },
  {
   "cell_type": "code",
   "execution_count": 128,
   "id": "347eead9",
   "metadata": {},
   "outputs": [
    {
     "name": "stdout",
     "output_type": "stream",
     "text": [
      "['A', 'A', 'T', 'C', 'C', 'G', 'A', 'A', 'A', 'A', 'T', 'T', 'C', 'G', 'G', 'G', 'A', 'A', 'T', 'T', 'T', 'T', 'C', 'G', 'C', 'G', 'T'] "
     ]
    }
   ],
   "source": [
    "dna_template='AATCCGAAAATTCGGGAATTTTCGCGT' \n",
    "dna_template_list = list('AATCCGAAAATTCGGGAATTTTCGCGT')\n",
    "print(dna_template_list, end=\" \")"
   ]
  },
  {
   "cell_type": "code",
   "execution_count": 133,
   "id": "aadd442b",
   "metadata": {},
   "outputs": [
    {
     "name": "stdout",
     "output_type": "stream",
     "text": [
      "['T', 'T', 'A', 'G', 'G', 'C', 'T', 'T', 'T', 'T', 'A', 'A', 'G', 'C', 'C', 'C', 'T', 'T', 'A', 'A', 'A', 'A', 'G', 'C', 'G', 'C', 'A'] "
     ]
    }
   ],
   "source": [
    "mapper={\"T\":\"A\",\"A\":\"T\",\"G\":\"C\",\"C\":\"G\"}\n",
    "\n",
    "complementary_dna = [mapper[i] for i in dna_template_list]\n",
    "print(complementary_dna, end = \" \")"
   ]
  },
  {
   "cell_type": "code",
   "execution_count": 47,
   "id": "73080690",
   "metadata": {},
   "outputs": [],
   "source": [
    "import time "
   ]
  },
  {
   "cell_type": "code",
   "execution_count": 53,
   "id": "ec05b6a6",
   "metadata": {},
   "outputs": [
    {
     "data": {
      "text/plain": [
       "2.7856972217559814"
      ]
     },
     "execution_count": 53,
     "metadata": {},
     "output_type": "execute_result"
    }
   ],
   "source": [
    "# using for loop\n",
    "start_time = time.time()\n",
    "nums = []\n",
    "for i in range(1,10000001):\n",
    "    nums.append(i**2)\n",
    "end_time = time.time()\n",
    "for_loop_time = end_time - start_time\n",
    "for_loop_time"
   ]
  },
  {
   "cell_type": "code",
   "execution_count": 51,
   "id": "17f2c9aa",
   "metadata": {},
   "outputs": [
    {
     "data": {
      "text/plain": [
       "2.3770503997802734"
      ]
     },
     "execution_count": 51,
     "metadata": {},
     "output_type": "execute_result"
    }
   ],
   "source": [
    "# using list comprehension\n",
    "start_time2 = time.time()\n",
    "nums = [i**2 for i in range(1 , 10000001)]\n",
    "end_time2 = time.time()\n",
    "list_comp_time= end_time2 - start_time2\n",
    "list_comp_time"
   ]
  },
  {
   "cell_type": "markdown",
   "id": "f4956093",
   "metadata": {},
   "source": [
    "**Observation**: The list_comprehension is obviously shorter than that of for loop"
   ]
  },
  {
   "cell_type": "code",
   "execution_count": null,
   "id": "d0057ce3",
   "metadata": {},
   "outputs": [],
   "source": []
  }
 ],
 "metadata": {
  "kernelspec": {
   "display_name": "Python 3 (ipykernel)",
   "language": "python",
   "name": "python3"
  },
  "language_info": {
   "codemirror_mode": {
    "name": "ipython",
    "version": 3
   },
   "file_extension": ".py",
   "mimetype": "text/x-python",
   "name": "python",
   "nbconvert_exporter": "python",
   "pygments_lexer": "ipython3",
   "version": "3.9.12"
  }
 },
 "nbformat": 4,
 "nbformat_minor": 5
}
