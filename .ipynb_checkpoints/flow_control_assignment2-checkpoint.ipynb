{
 "cells": [
  {
   "cell_type": "code",
   "execution_count": null,
   "id": "ebf44052",
   "metadata": {},
   "outputs": [],
   "source": [
    "# Conditionals:\n",
    "# Get the radius value as input and calculate the area of the circle. \n",
    "# If the input is numeric, display the result otherwise display any other message.\n",
    "# If the user enters numeric value then ask user for either perimeter or area calculation and display accordingly.\n",
    "\n",
    "def circle_calc():\n",
    "    radius_input = input(\"Enter the radius of the circle: \")\n",
    "    \n",
    "\n",
    "    if radius_input.isnumeric():\n",
    "\n",
    "        radius = float(radius_input)\n",
    "\n",
    "\n",
    "        calculation_type = input(\"Do you want to calculate area or perimeter? (a/p): \")\n",
    "\n",
    "        if calculation_type == 'a':\n",
    "\n",
    "            area = math.pi * radius ** 2\n",
    "            print(f\"The area of the circle with radius {radius} is {area:.2f}.\")\n",
    "        elif calculation_type == 'p':\n",
    "            perimeter = 2 * math.pi * radius\n",
    "            print(f\"The perimeter of the circle with radius {radius} is {perimeter:.2f}.\")\n",
    "        else:\n",
    "            print(\"Invalid input. Please enter 'a' for area or 'p' for perimeter.\")\n",
    "    else:\n",
    "        print(\"Invalid input. Please enter a numeric value for the radius.\")"
   ]
  }
 ],
 "metadata": {
  "kernelspec": {
   "display_name": "Python 3 (ipykernel)",
   "language": "python",
   "name": "python3"
  },
  "language_info": {
   "codemirror_mode": {
    "name": "ipython",
    "version": 3
   },
   "file_extension": ".py",
   "mimetype": "text/x-python",
   "name": "python",
   "nbconvert_exporter": "python",
   "pygments_lexer": "ipython3",
   "version": "3.11.2"
  }
 },
 "nbformat": 4,
 "nbformat_minor": 5
}
