{
 "cells": [
  {
   "cell_type": "code",
   "execution_count": 20,
   "id": "d24876d9",
   "metadata": {},
   "outputs": [],
   "source": [
    "# Your task is to write unit tests for a Python function that checks whether a given number is prime or not. \n",
    "# The function takes an integer as input and returns a boolean value indicating whether the number is prime or not.\n",
    "\n",
    "import unittest\n",
    "\n",
    "def is_prime(n:int):\n",
    "    if n <= 1:\n",
    "        return False\n",
    "    for i in range (2, int(n**0.5)+1):\n",
    "        if n % i == 0:\n",
    "            return False\n",
    "    return True\n",
    "\n",
    "class TestIsPrime(unittest.TestCase):\n",
    "    \n",
    "    def test_negative_numbers(self):\n",
    "        self.assertFalse(is_prime(-5))\n",
    "        self.assertFalse(is_prime(-10))\n",
    "        \n",
    "    def test_zero_and_one(self):\n",
    "        self.assertFalse(is_prime(0))\n",
    "        self.assertFalse(is_prime(1))\n",
    "        \n",
    "    def test_small_primes(self):\n",
    "        self.assertTrue(is_prime(2))\n",
    "        self.assertTrue(is_prime(3))\n",
    "        self.assertTrue(is_prime(5))\n",
    "        self.assertTrue(is_prime(7))\n",
    "        \n",
    "    def test_small_composites(self):\n",
    "        self.assertFalse(is_prime(4))\n",
    "        self.assertFalse(is_prime(6))\n",
    "        self.assertFalse(is_prime(8))\n",
    "        self.assertFalse(is_prime(9))\n",
    "        \n",
    "    def test_large_primes(self):\n",
    "        self.assertTrue(is_prime(103))\n",
    "        self.assertTrue(is_prime(107))\n",
    "        self.assertTrue(is_prime(109))\n",
    "        \n",
    "    def test_large_composites(self):\n",
    "        self.assertFalse(is_prime(100))\n",
    "        self.assertFalse(is_prime(200))\n",
    "        self.assertFalse(is_prime(300))\n",
    "        \n",
    "if __name__ == '__main__':\n",
    "    unittest.main()\n",
    "\n"
   ]
  }
 ],
 "metadata": {
  "kernelspec": {
   "display_name": "Python 3 (ipykernel)",
   "language": "python",
   "name": "python3"
  },
  "language_info": {
   "codemirror_mode": {
    "name": "ipython",
    "version": 3
   },
   "file_extension": ".py",
   "mimetype": "text/x-python",
   "name": "python",
   "nbconvert_exporter": "python",
   "pygments_lexer": "ipython3",
   "version": "3.11.2"
  }
 },
 "nbformat": 4,
 "nbformat_minor": 5
}
