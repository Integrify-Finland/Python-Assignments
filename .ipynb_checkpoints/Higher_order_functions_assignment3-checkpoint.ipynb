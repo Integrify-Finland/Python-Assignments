{
 "cells": [
  {
   "cell_type": "code",
   "execution_count": 8,
   "id": "c0986d3a",
   "metadata": {},
   "outputs": [
    {
     "name": "stdout",
     "output_type": "stream",
     "text": [
      "Original list: [1, 2, 3, 4, 5, 6, 7, 8, 9, 10]\n",
      "Squared list: [1, 4, 9, 16, 25, 36, 49, 64, 81, 100]\n",
      "Even numbers: [2, 4, 6, 8, 10]\n",
      "Product of even numbers: 3840\n"
     ]
    }
   ],
   "source": [
    "# Write a Python script to implement the map(), filter(), and reduce() functions on a list of integers.\n",
    "# The map() function should square each element of the list,\n",
    "# The filter() function should remove all odd numbers from the list.\n",
    "# The reduce() function should find the product of all the even numbers in the list.\n",
    "\n",
    "from functools import reduce\n",
    "\n",
    "\n",
    "numbers = [1, 2, 3, 4, 5, 6, 7, 8, 9, 10]\n",
    "\n",
    "squared_numbers = list(map(lambda x: x**2, numbers))\n",
    "\n",
    "even_numbers = list(filter(lambda x: x%2 == 0, numbers))\n",
    "\n",
    "# Use reduce() to find the product of all the even numbers in the list\n",
    "product = reduce(lambda x, y: x*y, even_numbers)\n",
    "\n",
    "print(\"Original list:\", numbers)\n",
    "print(\"Squared list:\", squared_numbers)\n",
    "print(\"Even numbers:\", even_numbers)\n",
    "print(\"Product of even numbers:\", product)\n"
   ]
  }
 ],
 "metadata": {
  "kernelspec": {
   "display_name": "Python 3 (ipykernel)",
   "language": "python",
   "name": "python3"
  },
  "language_info": {
   "codemirror_mode": {
    "name": "ipython",
    "version": 3
   },
   "file_extension": ".py",
   "mimetype": "text/x-python",
   "name": "python",
   "nbconvert_exporter": "python",
   "pygments_lexer": "ipython3",
   "version": "3.11.2"
  }
 },
 "nbformat": 4,
 "nbformat_minor": 5
}
