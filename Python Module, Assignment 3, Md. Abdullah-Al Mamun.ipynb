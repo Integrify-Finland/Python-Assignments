{
 "cells": [
  {
   "cell_type": "markdown",
   "id": "b1253b84",
   "metadata": {},
   "source": [
    "# <center>Assignment 3</center>\n",
    "# <center>Higher order functions Python</center>\n",
    "\n",
    "### <center>Md. Abdullah-Al Mamun</center>\n",
    "\n",
    "\n",
    "## Write a Python script to implement the map(), filter(), and reduce() functions on a list of integers.      \n",
    "### 1. The map() function should square each element of the list,\n"
   ]
  },
  {
   "cell_type": "code",
   "execution_count": 1,
   "id": "4fcdfe64",
   "metadata": {},
   "outputs": [
    {
     "name": "stdout",
     "output_type": "stream",
     "text": [
      "[1, 4, 9, 16, 25, 36, 49, 64, 81, 100, 121, 144, 169, 196]\n"
     ]
    }
   ],
   "source": [
    "Lists=[i for i in range(1,15)]\n",
    "\n",
    "def squire(n):\n",
    "    return n**2\n",
    "\n",
    "result=list(map(squire, Lists))\n",
    "print(result)"
   ]
  },
  {
   "cell_type": "markdown",
   "id": "7804e3c3",
   "metadata": {},
   "source": [
    "### 2. The filter() function should remove all odd numbers from the list.\n"
   ]
  },
  {
   "cell_type": "code",
   "execution_count": 2,
   "id": "1d014ab8",
   "metadata": {},
   "outputs": [
    {
     "name": "stdout",
     "output_type": "stream",
     "text": [
      "[1, 3, 5, 7, 9, 11, 13]\n"
     ]
    }
   ],
   "source": [
    "Lists=[i for i in range(1,15)]\n",
    "\n",
    "def remove_odd(n):\n",
    "    if n%2!=0:\n",
    "        return n\n",
    "\n",
    "result=list(filter(remove_odd, Lists))\n",
    "print(result)"
   ]
  },
  {
   "cell_type": "markdown",
   "id": "4617c463",
   "metadata": {},
   "source": [
    "### 3. The reduce() function should find the product of all the even numbers in the list."
   ]
  },
  {
   "cell_type": "code",
   "execution_count": 3,
   "id": "dff4ab9b",
   "metadata": {},
   "outputs": [
    {
     "name": "stdout",
     "output_type": "stream",
     "text": [
      "645120\n"
     ]
    }
   ],
   "source": [
    "from functools import reduce\n",
    "\n",
    "Lists = [i for i in range(1, 15)]\n",
    "\n",
    "def reduce_product(a, b):\n",
    "    if b % 2 == 0:\n",
    "        return a * b\n",
    "    else:\n",
    "        return a\n",
    "\n",
    "result = reduce(reduce_product, Lists, 1)\n",
    "\n",
    "print(result)\n"
   ]
  },
  {
   "cell_type": "markdown",
   "id": "d41aa9d1",
   "metadata": {},
   "source": [
    "# The script should follow Python syntax and conventions.\n",
    "In this solution, we define two helper functions: square() and product(). The square() function takes a number and returns its square, and the product() function takes two numbers and returns their product.\n",
    "\n",
    "We then define a list of integers called numbers. We use the map() function to square each element of the list by passing the square() function as an argument to map(). We convert the resulting map object to a list using the list() function, and print it to the console.\n",
    "\n",
    "We use the filter() function to remove all odd numbers from the list by passing a lambda function as an argument to filter() that checks whether each number is even. We convert the resulting filter object to a list using the list() function, and print it to the console.\n",
    "\n",
    "Finally, we use the reduce() function to find the product of all even numbers in the list by passing the product() function and the evens list as arguments to reduce(). We print the resulting product to the console.\n",
    "\n",
    "The solution follows Python syntax and conventions by using docstrings to document the functions, using meaningful function and variable names, and following the PEP 8 style guide for formatting the code."
   ]
  },
  {
   "cell_type": "code",
   "execution_count": 4,
   "id": "7869efdc",
   "metadata": {},
   "outputs": [
    {
     "name": "stdout",
     "output_type": "stream",
     "text": [
      "[1, 4, 9, 16, 25, 36, 49, 64, 81]\n",
      "[2, 4, 6, 8]\n",
      "384\n"
     ]
    }
   ],
   "source": [
    "from functools import reduce\n",
    "\n",
    "def square(x):\n",
    "    \"\"\"Return the square of a number.\"\"\"\n",
    "    return x ** 2\n",
    "\n",
    "def product(x, y):\n",
    "    \"\"\"Return the product of two numbers.\"\"\" \n",
    "    return x * y\n",
    "\n",
    "if __name__ == '__main__':\n",
    "    numbers = [1, 2, 3, 4, 5, 6, 7, 8, 9]\n",
    "    # Using map() to square each element of the list \n",
    "    squares = list(map(square, numbers))    \n",
    "    print(squares)\n",
    "    \n",
    "    #Using filter() to remove odd numbers from the list \n",
    "    evens = list(filter(lambda x: x % 2 == 0, numbers)) \n",
    "    print(evens)\n",
    "    \n",
    "    # Using reduce() to find the product\n",
    "    # of all even numbers in the list\n",
    "    product = reduce(product, evens)\n",
    "    print(product)"
   ]
  },
  {
   "cell_type": "code",
   "execution_count": null,
   "id": "23eede60",
   "metadata": {},
   "outputs": [],
   "source": []
  }
 ],
 "metadata": {
  "kernelspec": {
   "display_name": "Python 3 (ipykernel)",
   "language": "python",
   "name": "python3"
  },
  "language_info": {
   "codemirror_mode": {
    "name": "ipython",
    "version": 3
   },
   "file_extension": ".py",
   "mimetype": "text/x-python",
   "name": "python",
   "nbconvert_exporter": "python",
   "pygments_lexer": "ipython3",
   "version": "3.9.13"
  }
 },
 "nbformat": 4,
 "nbformat_minor": 5
}
