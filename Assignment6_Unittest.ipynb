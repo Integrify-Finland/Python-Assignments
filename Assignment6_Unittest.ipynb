{
 "cells": [
  {
   "cell_type": "markdown",
   "id": "dd4388fa",
   "metadata": {},
   "source": [
    "Unit Test Python:\n",
    "\n",
    "Your task is to write unit tests for a Python function that checks whether a given number is prime or not. The function takes an integer as input and returns a boolean value indicating whether the number is prime or not.\n",
    "\n",
    "\n",
    "\n",
    "Your tests should cover various cases such as:\n",
    "\n",
    "Test for negative numbers\n",
    "Test for 0 and 1\n",
    "Test for small prime numbers (e.g., 2, 3, 5, 7)\n",
    "Test for small composite numbers (e.g., 4, 6, 8, 9)\n",
    "Test for large prime numbers (e.g., 103, 107, 109)\n",
    "Test for large composite numbers (e.g., 100, 200, 300)\n",
    "In the TestIsPrime class, we define several test methods, each testing a specific case. In each test method, we use the assert statements to check whether the output of the is_prime() function matches the expected output. If the output does not match, the test fails and the test runner reports the failure.\n",
    "\n",
    "To run the tests, we simply run the script. The test runner will discover and run all the test methods defined in the TestIsPrime class.\n",
    "\n",
    "We can also run the tests using a command-line test runner such as pytest. To do this, we need to install pytest by running pip install pytest and then run the tests using the pytest command. The test runner will discover and run all the test methods defined in the script."
   ]
  },
  {
   "cell_type": "code",
   "execution_count": 14,
   "id": "000116d9",
   "metadata": {},
   "outputs": [
    {
     "name": "stderr",
     "output_type": "stream",
     "text": [
      "test_large_composite_numbers (__main__.TestIsPrime) ... ok\n",
      "test_large_prime_numbers (__main__.TestIsPrime) ... ok\n",
      "test_negative_numbers (__main__.TestIsPrime) ... ok\n",
      "test_small_composite_numbers (__main__.TestIsPrime) ... ok\n",
      "test_small_prime_numbers (__main__.TestIsPrime) ... ok\n",
      "test_zero_and_one (__main__.TestIsPrime) ... ok\n",
      "\n",
      "----------------------------------------------------------------------\n",
      "Ran 6 tests in 0.021s\n",
      "\n",
      "OK\n"
     ]
    },
    {
     "data": {
      "text/plain": [
       "<unittest.main.TestProgram at 0x1a4a0378040>"
      ]
     },
     "execution_count": 14,
     "metadata": {},
     "output_type": "execute_result"
    }
   ],
   "source": [
    "# function to find if given number is prime\n",
    "# #import unittest\n",
    "# #def is_prime(n):\n",
    "#     if n <= 1:\n",
    "#         return False\n",
    "#     for i in range (2, int(n**0.5)+1):\n",
    "#         if n % i == 0:\n",
    "#             return False\n",
    "#     return True\n",
    "\n",
    "## Unittest for different cases \n",
    "import math\n",
    "import unittest\n",
    "\n",
    "def is_prime(n):\n",
    "    \"\"\"\n",
    "    Check if a given number is prime or not.\n",
    "    \"\"\"\n",
    "    if n <= 1:\n",
    "        return False\n",
    "    for i in range(2, int(math.sqrt(n))+1):\n",
    "        if n % i == 0:\n",
    "            return False\n",
    "    return True\n",
    "\n",
    "class TestIsPrime(unittest.TestCase):\n",
    "    def test_negative_numbers(self):\n",
    "        self.assertFalse(is_prime(-1))\n",
    "        self.assertFalse(is_prime(-10))\n",
    "    \n",
    "    def test_zero_and_one(self):\n",
    "        self.assertFalse(is_prime(0))\n",
    "        self.assertFalse(is_prime(1))\n",
    "    \n",
    "    def test_small_prime_numbers(self):\n",
    "        self.assertTrue(is_prime(2))\n",
    "        self.assertTrue(is_prime(3))\n",
    "        self.assertTrue(is_prime(5))\n",
    "        self.assertTrue(is_prime(7))\n",
    "    \n",
    "    def test_small_composite_numbers(self):\n",
    "        self.assertFalse(is_prime(4))\n",
    "        self.assertFalse(is_prime(6))\n",
    "        self.assertFalse(is_prime(8))\n",
    "        self.assertFalse(is_prime(9))\n",
    "    \n",
    "    def test_large_prime_numbers(self):\n",
    "        self.assertTrue(is_prime(103))\n",
    "        self.assertTrue(is_prime(107))\n",
    "        self.assertTrue(is_prime(109))\n",
    "    \n",
    "    def test_large_composite_numbers(self):\n",
    "        self.assertFalse(is_prime(100))\n",
    "        self.assertFalse(is_prime(200))\n",
    "        self.assertFalse(is_prime(300))\n",
    "        \n",
    "unittest.main(argv=[''], verbosity=2, exit=False)\n"
   ]
  },
  {
   "cell_type": "code",
   "execution_count": null,
   "id": "59a668fe",
   "metadata": {},
   "outputs": [],
   "source": [
    "\n"
   ]
  },
  {
   "cell_type": "code",
   "execution_count": null,
   "id": "367ecf88",
   "metadata": {},
   "outputs": [],
   "source": []
  },
  {
   "cell_type": "code",
   "execution_count": null,
   "id": "c6e48d7c",
   "metadata": {},
   "outputs": [],
   "source": []
  }
 ],
 "metadata": {
  "kernelspec": {
   "display_name": "Python 3 (ipykernel)",
   "language": "python",
   "name": "python3"
  },
  "language_info": {
   "codemirror_mode": {
    "name": "ipython",
    "version": 3
   },
   "file_extension": ".py",
   "mimetype": "text/x-python",
   "name": "python",
   "nbconvert_exporter": "python",
   "pygments_lexer": "ipython3",
   "version": "3.9.13"
  }
 },
 "nbformat": 4,
 "nbformat_minor": 5
}
