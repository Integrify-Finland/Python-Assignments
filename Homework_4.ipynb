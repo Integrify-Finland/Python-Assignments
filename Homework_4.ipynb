{
 "cells": [
  {
   "cell_type": "markdown",
   "id": "e9908b97",
   "metadata": {},
   "source": [
    "## 1. Suppose we want to test whether the mean weight of apples in a grocery store is 150 grams. We randomly sample 20 apples from the store and measure their weights, getting the following data:"
   ]
  },
  {
   "cell_type": "markdown",
   "id": "0f7b5d22",
   "metadata": {},
   "source": [
    "What test should we use and why?\n",
    "\n",
    "**- One sample t-test**\n",
    "\n",
    "State the null and alternative hypotheses.\n",
    "\n",
    "**- H0 is the mean weight of apples in grocery is 150 grams, H1 is the mean weight of apples in grocery isn’t 150 grams**\n",
    "\n",
    "Choose a significance level (α) (the probability of rejecting the null hypothesis when it is actually true).\n",
    "\n",
    "**- Alpha is 0.05**\n",
    "\n",
    "Determine the degrees of freedom (df) of the sample.\n",
    "\n",
    "**- N-1, when N is 20**\n",
    "\n",
    "Determine the critical value of t based on the significance level and degrees of freedom. For a two-tailed test - with α = 0.05 and df = 19, the critical values are -2.093 and 2.093.\n",
    "\n",
    "Compare and interpret the results of the test to the critical value "
   ]
  },
  {
   "cell_type": "code",
   "execution_count": 14,
   "id": "939d24f7",
   "metadata": {},
   "outputs": [
    {
     "name": "stdout",
     "output_type": "stream",
     "text": [
      "sample mean is : 150.05\n",
      "sample st.d. is : 4.26\n",
      "t-value is : -0.0525\n"
     ]
    }
   ],
   "source": [
    "import numpy as np\n",
    "\n",
    "Apple_weights = np.array([145, 155, 160, 146, 142, 152,\n",
    "                150, 147, 148, 149, 148, 152, 153, 155,\n",
    "                154, 148, 151, 147, 153, 146])\n",
    "\n",
    "t_value = (150 - Apple_weights.mean()) / (Apple_weights.std(ddof=1) / Apple_weights.size ** 0.5)\n",
    "print('sample mean is :', round(Apple_weights.mean(), 2))\n",
    "print('sample st.d. is :', round(Apple_weights.std(ddof=1), 2))\n",
    "print('t-value is :', round(t_value, 4))"
   ]
  },
  {
   "cell_type": "markdown",
   "id": "965ce213",
   "metadata": {},
   "source": [
    "### **t-value is between and quite far from its' critical values. It means, that we fail to reject H0.**"
   ]
  },
  {
   "cell_type": "markdown",
   "id": "46e88589",
   "metadata": {},
   "source": [
    "## 2. Suppose we want to test whether the mean height of all men in a population is 180 cm assuming that the population standard deviation = 2. We randomly sample 50 men from the population and measure their heights, getting the following data:"
   ]
  },
  {
   "cell_type": "markdown",
   "id": "21028bda",
   "metadata": {},
   "source": [
    "What test should we use and why?\n",
    "\n",
    "**- two-tailed z-test**\n",
    "\n",
    "State the null and alternative hypotheses.\n",
    "\n",
    "**- H0 is the mean weight of the sampled cats isn't significantly different from 180 cm, H1 is the mean weight of the sampled cats is significantly different from 180 cm**\n",
    "\n",
    "Choose a significance level (α) (the probability of rejecting the null hypothesis when it is actually true).\n",
    "\n",
    "**- Alpha is 0.05**\n",
    "\n",
    "<!-- Determine the degrees of freedom (df) of the sample. \n",
    "\n",
    "**- N-1, when N is 50** -->\n",
    "\n",
    "Determine the critical value of t based on the significance level and degrees of freedom. For a two-tailed test with α = 0.05 and df = 49, the critical values are -1.96 and 1.96.\n",
    "\n",
    "Compare and interpret the results of the test to the critical value\n"
   ]
  },
  {
   "cell_type": "code",
   "execution_count": 18,
   "id": "b84f915d",
   "metadata": {},
   "outputs": [
    {
     "name": "stdout",
     "output_type": "stream",
     "text": [
      "sample mean is : 179.84\n",
      "sample st.d. is : 1.87\n",
      "z-score is : 0.5657\n"
     ]
    }
   ],
   "source": [
    "Men_height = np.array([177, 180, 182, 179, 178, 181, 176,\n",
    "                       183, 179, 180, 178, 181, 177, 178, \n",
    "                       180, 179, 182, 180, 183, 181, 179, \n",
    "                       177, 180, 181, 178, 180, 182, 179, \n",
    "                       177, 182, 178, 181, 183, 179, 180, \n",
    "                       181, 183, 178, 177, 181, 179, 182, \n",
    "                       180, 181, 178, 180, 179, 181, 183, 179])\n",
    "\n",
    "z_score = (180 - Men_height.mean()) / (2 / Men_height.size ** 0.5)\n",
    "\n",
    "print('sample mean is :', round(Men_height.mean(), 2))\n",
    "print('sample st.d. is :', round(Men_height.std(ddof=1), 2))\n",
    "print('z-score is :', round(z_score, 4))"
   ]
  },
  {
   "cell_type": "markdown",
   "id": "4b01497b",
   "metadata": {},
   "source": [
    "### **z-value is between and far from its' critical values +-1.96. It means, that we fail to reject H0.**"
   ]
  },
  {
   "cell_type": "markdown",
   "id": "9a7955ca",
   "metadata": {},
   "source": [
    "## 3. Suppose we want to test whether the mean weight of a population of cats is different from 4 kg. We randomly sample 50 cats from the population and measure their weights, getting the following data:"
   ]
  },
  {
   "cell_type": "markdown",
   "id": "be44d72a",
   "metadata": {},
   "source": [
    "Perform one sample two tailed Z-Test to determine whether the mean weight of the sampled cats is significantly different from 4 kg.\n",
    "\n",
    "State the null and alternative hypotheses.\n",
    "\n",
    "**- H0 is the mean weight of the sampled cats isn't significantly different from 180 cm, H1 is the mean weight of the sampled cats is significantly different from 180 cm**\n",
    "\n",
    "Choose a significance level (α) (the probability of rejecting the null hypothesis when it is actually true).\n",
    "\n",
    "**- Alpha is 0.05**\n",
    "\n",
    "Calculate the z-score using the formula:\n",
    "\n",
    "**- z-score is : 5.2336**\n",
    "\n",
    "Assuming that the standard deviation is equal to the sample mean\n",
    "\n",
    "Look up the critical z-value at the chosen significance level (α) using a z-table.\n",
    "\n",
    "**- critical z-value for 0.05 alpha for two-tailed is -1.96, 1.96**\n",
    "\n",
    "Compare the calculated z-score to the critical z-values. If the calculated z-score falls outside the range between the critical z-values, we reject the null hypothesis in favor of the alternative hypothesis.\n"
   ]
  },
  {
   "cell_type": "code",
   "execution_count": 22,
   "id": "b387336a",
   "metadata": {},
   "outputs": [
    {
     "name": "stdout",
     "output_type": "stream",
     "text": [
      "sample mean is : 4.17\n",
      "sample st.d. is : 0.23\n",
      "z-score is : 5.2336\n"
     ]
    }
   ],
   "source": [
    "Cats_weights = np.array([3.9, 4.2, 4.5, 4.1, 4.3, 3.8, 4.6,\n",
    "                         4.2, 3.7, 4.3, 3.9, 4.0, 4.1, 4.5, \n",
    "                         4.2, 3.8, 3.9, 4.3, 4.1, 4.0, 4.4, \n",
    "                         4.2, 4.1, 4.6, 4.4, 4.2, 4.1, 4.3, \n",
    "                         4.0, 4.4, 4.3, 3.8, 4.1, 4.5, 4.2, \n",
    "                         4.3, 4.0, 4.1, 4.2, 3.9, 4.3, 3.7, \n",
    "                         4.1, 4.5, 4.2, 4.0, 4.2, 4.4, 4.1, 4.5])\n",
    "\n",
    "z_score = (Cats_weights.mean() - 4) / (Cats_weights.std(ddof=1) / Cats_weights.size ** 0.5)\n",
    "\n",
    "print('sample mean is :', round(Cats_weights.mean(), 2))\n",
    "print('sample st.d. is :', round(Cats_weights.std(ddof=1), 2))\n",
    "print('z-score is :', round(z_score, 4))"
   ]
  },
  {
   "cell_type": "markdown",
   "id": "31d4cd87",
   "metadata": {},
   "source": [
    "### **Z-score is outside the critical range, so we reject H0**"
   ]
  }
 ],
 "metadata": {
  "kernelspec": {
   "display_name": "Python 3 (ipykernel)",
   "language": "python",
   "name": "python3"
  },
  "language_info": {
   "codemirror_mode": {
    "name": "ipython",
    "version": 3
   },
   "file_extension": ".py",
   "mimetype": "text/x-python",
   "name": "python",
   "nbconvert_exporter": "python",
   "pygments_lexer": "ipython3",
   "version": "3.9.10"
  }
 },
 "nbformat": 4,
 "nbformat_minor": 5
}
