{
 "cells": [
  {
   "cell_type": "code",
   "execution_count": 7,
   "id": "dcb05413",
   "metadata": {},
   "outputs": [
    {
     "name": "stdout",
     "output_type": "stream",
     "text": [
      "[1, 4, 9, 16, 25, 36, 49, 64, 81]\n",
      "[2, 4, 6, 8]\n",
      "384\n"
     ]
    }
   ],
   "source": [
    "from functools import reduce\n",
    "\n",
    "def square(x):\n",
    "    \"\"\" Return the squar of a number\"\"\"\n",
    "    return x**2\n",
    "\n",
    "\n",
    "def product(x,y):\n",
    "    \"\"\" Return the product of two numbers\"\"\"\n",
    "    return x*y\n",
    "\n",
    "\n",
    "if __name__=='__main__':\n",
    "    numbers=[1,2,3,4,5,6,7,8,9]\n",
    "    \n",
    "    #using map() to square each elemnt of the list\n",
    "    squares=list(map(square,numbers))\n",
    "    print(squares)\n",
    "    \n",
    "    #using filter() to remove odd numbers from the list\n",
    "    evens=list(filter(lambda x:x%2==0,numbers))\n",
    "    print(evens)\n",
    "    \n",
    "    #using reduce to find the product of all even numbers in the list\n",
    "    product=reduce(product,evens)\n",
    "    print(product)"
   ]
  },
  {
   "cell_type": "code",
   "execution_count": null,
   "id": "a242c33d",
   "metadata": {},
   "outputs": [],
   "source": []
  }
 ],
 "metadata": {
  "kernelspec": {
   "display_name": "Python 3 (ipykernel)",
   "language": "python",
   "name": "python3"
  },
  "language_info": {
   "codemirror_mode": {
    "name": "ipython",
    "version": 3
   },
   "file_extension": ".py",
   "mimetype": "text/x-python",
   "name": "python",
   "nbconvert_exporter": "python",
   "pygments_lexer": "ipython3",
   "version": "3.9.0"
  }
 },
 "nbformat": 4,
 "nbformat_minor": 5
}
