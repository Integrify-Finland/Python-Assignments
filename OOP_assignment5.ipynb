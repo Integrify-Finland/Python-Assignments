{
 "cells": [
  {
   "cell_type": "code",
   "execution_count": 7,
   "id": "b46a568f",
   "metadata": {},
   "outputs": [
    {
     "name": "stdout",
     "output_type": "stream",
     "text": [
      "<class 'int'> <class 'str'>\n",
      "\n",
      "<class 'type'>\n",
      "<class 'type'>\n",
      "<class 'type'>\n",
      "<class 'type'>\n",
      "<class 'type'>\n",
      "<class 'builtin_function_or_method'>\n",
      "<class 'function'>\n",
      "<class 'type'>\n",
      "**********************\n",
      "<class 'int'>\n",
      "<class 'str'>\n",
      "<class 'tuple'>\n",
      "<class 'dict'>\n",
      "<class 'list'>\n",
      "<class 'NoneType'>\n",
      "<class 'NoneType'>\n",
      "<class '__main__.Someclass'>\n"
     ]
    }
   ],
   "source": [
    "a = 5\n",
    "b = 'some string'\n",
    "print(type(a),type(b))\n",
    "\n",
    "def somefunction():\n",
    "    return\n",
    "\n",
    "class Someclass:\n",
    "    pass\n",
    "\n",
    "someList = [int, str, tuple, dict, list, print, somefunction, Someclass]\n",
    "anotherList = [int(), str(), tuple(), dict(), list(), print(), somefunction(), Someclass()]\n",
    "\n",
    "for item in someList:\n",
    "    print(type(item))\n",
    "\n",
    "print('**********************')    \n",
    "\n",
    "for item in anotherList:\n",
    "    print(type(item))"
   ]
  },
  {
   "cell_type": "code",
   "execution_count": 16,
   "id": "1513574d",
   "metadata": {},
   "outputs": [
    {
     "name": "stdout",
     "output_type": "stream",
     "text": [
      "3\n",
      "3\n",
      "Max\n",
      "Kitty\n",
      "Buddy\n",
      "10\n",
      "9\n",
      "12\n",
      "Labrador Retriever does woof woof\n"
     ]
    }
   ],
   "source": [
    "class Pet:\n",
    "    pet_population = 0\n",
    "    pet_instance = []\n",
    "    current_year = 2023\n",
    "\n",
    "    def __init__(self, name, category, age):\n",
    "        self.name = name\n",
    "        self.category = category\n",
    "        self.age = age\n",
    "        Pet.pet_population += 1\n",
    "        Pet.pet_instance.append(self)\n",
    "\n",
    "    def hellofrompet(self):\n",
    "        print(\"Hello from\", self.name)\n",
    "\n",
    "    @classmethod\n",
    "    def timepassedby(cls, years):\n",
    "        for pet in cls.pet_instance:\n",
    "            pet.age += years\n",
    "\n",
    "class Dog(Pet):\n",
    "    def __init__(self, name, breed, age):\n",
    "        super().__init__(name, 'dog', age)\n",
    "        self.breed = breed\n",
    "\n",
    "    def barks(self):\n",
    "        print(self.breed, \"does woof woof\")\n",
    "\n",
    "        \n",
    "p1 = Pet(\"Max\", \"dog\", 3)\n",
    "p2 = Pet(\"Kitty\", \"cat\", 2)\n",
    "\n",
    "\n",
    "d1 = Dog(\"Buddy\", \"Labrador Retriever\", 5)\n",
    "\n",
    "Pet.timepassedby(2)\n",
    "\n",
    "print(Pet.pet_population)\n",
    "print(Dog.pet_population)\n",
    "\n",
    "for item in Pet.pet_instance:\n",
    "    print(item.name)\n",
    "Pet.timepassedby(5)\n",
    "print(p1.age)\n",
    "print(p2.age)\n",
    "print(d1.age)\n",
    "\n",
    "d1.barks()\n"
   ]
  }
 ],
 "metadata": {
  "kernelspec": {
   "display_name": "Python 3 (ipykernel)",
   "language": "python",
   "name": "python3"
  },
  "language_info": {
   "codemirror_mode": {
    "name": "ipython",
    "version": 3
   },
   "file_extension": ".py",
   "mimetype": "text/x-python",
   "name": "python",
   "nbconvert_exporter": "python",
   "pygments_lexer": "ipython3",
   "version": "3.11.2"
  }
 },
 "nbformat": 4,
 "nbformat_minor": 5
}
