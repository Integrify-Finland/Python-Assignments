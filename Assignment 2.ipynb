{
 "cells": [
  {
   "cell_type": "markdown",
   "id": "fbda3f25",
   "metadata": {},
   "source": [
    "# Python Basics: Flow Control, Loops, Functions\n"
   ]
  },
  {
   "cell_type": "markdown",
   "id": "fb7cc1ef",
   "metadata": {},
   "source": [
    "#### 1) Get the radius value as input and calculate the area of the circle. If the input is numeric, display the result otherwise display any other message.\n"
   ]
  },
  {
   "cell_type": "code",
   "execution_count": 37,
   "id": "77e6c5d0",
   "metadata": {},
   "outputs": [
    {
     "name": "stdout",
     "output_type": "stream",
     "text": [
      "Pease enter radius?\n",
      "5\n",
      "78.57142857142857\n"
     ]
    }
   ],
   "source": [
    "#solution number1-using isnumeric function\n",
    "\n",
    "number = input('Pease enter radius?\\n')\n",
    "\n",
    "pi=22/7\n",
    "\n",
    "if number.isnumeric() == True:\n",
    "    radius=int(number)\n",
    "    area=radius*radius*pi\n",
    "    print(area)\n",
    "else:\n",
    "    print('you didn''t enter a  number')\n"
   ]
  },
  {
   "cell_type": "code",
   "execution_count": 39,
   "id": "529abcb7",
   "metadata": {},
   "outputs": [
    {
     "name": "stdout",
     "output_type": "stream",
     "text": [
      "Pease enter radius?\n",
      "5\n",
      "78.57142857142857\n"
     ]
    }
   ],
   "source": [
    "#solution number2- using try-except\n",
    "try:\n",
    "    radius = float(input('Pease enter radius?\\n'))\n",
    "    pi=22/7\n",
    "    area=radius*radius*pi\n",
    "    print(area)\n",
    "    \n",
    "except ValueError as err:\n",
    "    print('you didn''t enter a integer number')"
   ]
  },
  {
   "cell_type": "markdown",
   "id": "b39583b8",
   "metadata": {},
   "source": [
    "#### 2) If the user enters numeric value then asks user to for either perimeter or area calculation and display accordingly"
   ]
  },
  {
   "cell_type": "code",
   "execution_count": 40,
   "id": "83ccbefe",
   "metadata": {},
   "outputs": [
    {
     "name": "stdout",
     "output_type": "stream",
     "text": [
      "Pease enter radius?\n",
      "4\n",
      "Select calculation type: Enter 1 for Area/ Enter 2 for perimeter: 1\n",
      "50.285714285714285\n"
     ]
    }
   ],
   "source": [
    "\n",
    "try:\n",
    "    radius = float(input('Pease enter radius?\\n'))\n",
    "    cal = \"\"\n",
    "    pi=22/7\n",
    "    while cal != \"1\" and cal != \"2\":\n",
    "        cal = input(\"Select calculation type: Enter 1 for Area/ Enter 2 for perimeter: \")\n",
    "        if cal != \"1\" and cal != \"2\":\n",
    "            print(\"Please Enter 1 or 2\")\n",
    "    if cal == \"1\":\n",
    "        area=radius*radius*pi\n",
    "        print(area)\n",
    "    else:\n",
    "        perimeter=2*pi*radius\n",
    "        print(perimeter)\n",
    "    \n",
    "except ValueError as err:\n",
    "    print('you didn''t enter a  number')\n",
    "\n"
   ]
  },
  {
   "cell_type": "markdown",
   "id": "e94b12e6",
   "metadata": {},
   "source": [
    "#### 4) students_profile"
   ]
  },
  {
   "cell_type": "code",
   "execution_count": 41,
   "id": "b8aa9562",
   "metadata": {},
   "outputs": [
    {
     "name": "stdout",
     "output_type": "stream",
     "text": [
      "{'Duy': ['Python', 'Database', 'ML'], 'Laxmi': ['Python', 'Database', 'ML'], 'Antonio': ['Python', 'Database', 'ML'], 'Maria': ['Python', 'Database', 'ML']}\n",
      "{'Duy': ['Python', 'Database'], 'Laxmi': ['Python', 'Database'], 'Antonio': ['Python', 'Database'], 'Maria': ['Python', 'Database']}\n"
     ]
    }
   ],
   "source": [
    "#Take the input from the user as a substring. If that substring is present in string then display substring is present otherwise substring is not present\n",
    "Students=[\"Duy\", \"Laxmi\",\"Antonio\",\"Maria\"]\n",
    "Course1=[\"Python\",\"Database\",\"ML\"] \n",
    "students_profile={}\n",
    "for i in Students:\n",
    "    students_profile[i]=Course1\n",
    "    \n",
    "print(students_profile)\n",
    "\n",
    "name = students_profile.setdefault(\"Maria\")\n",
    "if name!='':\n",
    "    students_profile['Maria'].remove('ML')\n",
    "print(students_profile)\n"
   ]
  },
  {
   "cell_type": "markdown",
   "id": "a0831100",
   "metadata": {},
   "source": [
    "#### Take the input from the user as a substring. If that substring is present in string then display substring is present otherwise substring is not present"
   ]
  },
  {
   "cell_type": "code",
   "execution_count": 42,
   "id": "053c4954",
   "metadata": {},
   "outputs": [
    {
     "name": "stdout",
     "output_type": "stream",
     "text": [
      "Please input a stringpython\n",
      "python is present\n"
     ]
    }
   ],
   "source": [
    "str='I am doing python excercises'\n",
    "substr = input(\"Please input a string\")\n",
    "\n",
    "if substr in str:\n",
    "    print(substr +' is present')\n",
    "else:\n",
    "    print(substr +' is not present')"
   ]
  },
  {
   "cell_type": "markdown",
   "id": "fe0799f5",
   "metadata": {},
   "source": [
    "#### Distance Metrics \n",
    "Given the points (1,2,3) and (4,5,6), write a python conditional statement to print the distance for the order 1,2,3. If the order is 1 then it is  **L1 norm(Manhattan distance)**, order 2 is  **L2 norm(Euclidean distance)** and the generalized distance is given by  **Minkowski equation**."
   ]
  },
  {
   "cell_type": "code",
   "execution_count": 46,
   "id": "a917614f",
   "metadata": {},
   "outputs": [
    {
     "name": "stdout",
     "output_type": "stream",
     "text": [
      "Select order type: Enter 1 for Manhattan distance/ Enter 2 for Euclidean distance/Enter 3 for Minkowski equation: 2\n",
      "Euclidean distance:5.196152422706632\n"
     ]
    }
   ],
   "source": [
    "import math\n",
    "from scipy.spatial import distance\n",
    "\n",
    "a = (1,2,3)\n",
    "b = (4,5,6)\n",
    "\n",
    "order = input(\"Select order type: Enter 1 for Manhattan distance/ Enter 2 for Euclidean distance/Enter 3 for Minkowski equation: \")\n",
    "while order != \"1\" and order != \"2\" and order!= \"3\":\n",
    "    order = input(\"Select order type: Enter 1 for Manhattan distance/ Enter 2 for Euclidean distance/Enter 3 for Minkowski equation: \")\n",
    "    if order!= \"1\" and order!= \"2\" and order!= \"3\":\n",
    "        print(\"Please Enter 1 or 2 or 3\")\n",
    "    \n",
    "if order == \"1\":\n",
    "    md=sum([abs(i - j) for i, j in zip(a, b)])\n",
    "\n",
    "    print(f'Manhattan distance:{md}') \n",
    "     \n",
    "\n",
    "elif order == \"2\":\n",
    "    ed=math.sqrt((a[0] - b[0])**2 + (a[1] - b[1])**2 + (a[2] - b[2])**2)\n",
    "    print(f'Euclidean distance:{ed}')\n",
    "      \n",
    "elif order == \"3\":\n",
    "    me = distance.minkowski(a, b, p=3)\n",
    "    me2=((abs(a[0] - b[0])**3 + abs(a[1] - b[1])**3 + abs(a[2] - b[2])**3))**(1/3)\n",
    "    print(f'Minkowski equation(p=3):{me}')\n",
    "    print(f'Minkowski equation(p=3):{me2}')"
   ]
  },
  {
   "cell_type": "markdown",
   "id": "d3939b06",
   "metadata": {},
   "source": [
    "#### Write a multiplication table for any given number using both for and while loop"
   ]
  },
  {
   "cell_type": "code",
   "execution_count": 47,
   "id": "ee69f6dc",
   "metadata": {},
   "outputs": [
    {
     "name": "stdout",
     "output_type": "stream",
     "text": [
      "Enter a number for multiplication: 5\n",
      "5 x 1 = 5\n",
      "5 x 2 = 10\n",
      "5 x 3 = 15\n",
      "5 x 4 = 20\n",
      "5 x 5 = 25\n",
      "5 x 6 = 30\n",
      "5 x 7 = 35\n",
      "5 x 8 = 40\n",
      "5 x 9 = 45\n",
      "5 x 10 = 50\n",
      "-------------------------------\n",
      "5 x 1 = 5\n",
      "5 x 2 = 10\n",
      "5 x 3 = 15\n",
      "5 x 4 = 20\n",
      "5 x 5 = 25\n",
      "5 x 6 = 30\n",
      "5 x 7 = 35\n",
      "5 x 8 = 40\n",
      "5 x 9 = 45\n",
      "5 x 10 = 50\n"
     ]
    }
   ],
   "source": [
    "x = int(input(\"Enter a number for multiplication: \"))\n",
    "\n",
    "# Using  for-loop\n",
    "for i in range(1, 11):\n",
    "    print(f\"{x} x {i} = {x*i}\")\n",
    "\n",
    "print('-------------------------------')\n",
    "# Using  while-loop  \n",
    "i = 1\n",
    "while i <= 10:\n",
    "    print(f\"{x} x {i} = {x*i}\")\n",
    "    i += 1\n"
   ]
  },
  {
   "cell_type": "markdown",
   "id": "064c8281",
   "metadata": {},
   "source": [
    "#### DNA is coded using 4 nitrogen bases with the symbols A,T,G,C. Given the template string dna_template='AATCCGAAAATTCGGGAATTTTCGCGT' , generate the complementary dna template with the mapping"
   ]
  },
  {
   "cell_type": "code",
   "execution_count": 49,
   "id": "a9974895",
   "metadata": {},
   "outputs": [
    {
     "name": "stdout",
     "output_type": "stream",
     "text": [
      "TTTGGGTTTTTTGGGGTTTTTTGGGGT\n"
     ]
    }
   ],
   "source": [
    "mapper = {\"T\": \"A\", \"A\": \"T\", \"G\": \"C\", \"C\": \"G\"}\n",
    "\n",
    "dna_template ='AATCCGAAAATTCGGGAATTTTCGCGT'\n",
    "\n",
    "for k,j in mapper.items():\n",
    "    dna_template= dna_template.replace(k,j)\n",
    "print(dna_template)\n"
   ]
  },
  {
   "cell_type": "markdown",
   "id": "c0b2f00f",
   "metadata": {},
   "source": [
    "#### Generate the list f_series=x=[0,1,1,2,3,5,8,13,21,34,55,89,144]. Looks Familiar? This is Fibonacci series where x[0]=0,x[1]=1, and x[n]=x[n-1]+x[n-2] for n>1"
   ]
  },
  {
   "cell_type": "code",
   "execution_count": 58,
   "id": "30e31e1d",
   "metadata": {},
   "outputs": [
    {
     "name": "stdout",
     "output_type": "stream",
     "text": [
      "0\n",
      "1\n",
      "1\n",
      "2\n",
      "3\n",
      "5\n",
      "8\n",
      "13\n",
      "21\n",
      "34\n",
      "55\n",
      "89\n",
      "144\n"
     ]
    }
   ],
   "source": [
    "def fibonacci(n):\n",
    "    \"\"\"\n",
    "    Computing the Fibonacci numbers:\n",
    "\n",
    "    Parameters:\n",
    "        n (int): An integer greater than or equal to 0.\n",
    "\n",
    "    Returns:\n",
    "        int: The n-th Fibonacci number.\n",
    "\n",
    "    \"\"\"\n",
    "    if n <= 1:\n",
    "        return n\n",
    "    else:\n",
    "        return fibonacci(n-1) + fibonacci(n-2)\n",
    "\n",
    "for i in range(13):\n",
    "    print(fibonacci(i))"
   ]
  },
  {
   "cell_type": "markdown",
   "id": "8cf584ee",
   "metadata": {},
   "source": [
    "#### Generate a list of n numbers of prime numbers"
   ]
  },
  {
   "cell_type": "code",
   "execution_count": 59,
   "id": "0c52444a",
   "metadata": {},
   "outputs": [
    {
     "name": "stdout",
     "output_type": "stream",
     "text": [
      "Please, Enter n: 10\n",
      "The Prime Numbers are: \n",
      "2\n",
      "3\n",
      "5\n",
      "7\n"
     ]
    }
   ],
   "source": [
    "n = int(input (\"Please, Enter n: \"))\n",
    "primes = []\n",
    "print (\"The Prime Numbers are: \")  \n",
    "for num in range (2, n+ 1):  \n",
    "    if num > 1:  \n",
    "        for i in range (2, num):  \n",
    "            if (num % i) == 0:  \n",
    "                break  \n",
    "        else:  \n",
    "            print (num)  "
   ]
  },
  {
   "cell_type": "code",
   "execution_count": 62,
   "id": "0b98cb0d",
   "metadata": {},
   "outputs": [
    {
     "name": "stdout",
     "output_type": "stream",
     "text": [
      "Please, Enter n: 10\n",
      "[2, 3, 5, 7, 11, 13, 17, 19, 23, 29]\n"
     ]
    }
   ],
   "source": [
    "def is_prime(num):\n",
    "    \"\"\"\n",
    "    Computing the prime numbers:\n",
    "\n",
    "    Parameters:\n",
    "        n (int): An integer number.\n",
    "\n",
    "    Returns:\n",
    "        bool: True if the number is prime, False if the number is not prime.\n",
    "\n",
    "    \"\"\"\n",
    "    if num <= 1:\n",
    "        return False\n",
    "    for i in range(2, num):\n",
    "        if num % i == 0:\n",
    "            return False\n",
    "    return True\n",
    "\n",
    "def generate_primes(n):\n",
    "    \"\"\"\n",
    "    Computing the list of prime numbers\n",
    "    \n",
    "    Parameters:\n",
    "        n (int): An integer number.\n",
    "\n",
    "    Returns:\n",
    "        print prime numbers between 2 to n\n",
    "    \n",
    "   \"\"\"\n",
    "    primes = []\n",
    "    i = 2\n",
    "    while len(primes) < n:\n",
    "        if is_prime(i):\n",
    "            primes.append(i)\n",
    "        i += 1\n",
    "    return primes\n",
    "\n",
    "\n",
    "inp = int(input (\"Please, Enter n: \"))\n",
    "print(generate_primes(inp))"
   ]
  },
  {
   "cell_type": "markdown",
   "id": "b821d852",
   "metadata": {},
   "source": [
    "#### Perform the minmax normalization"
   ]
  },
  {
   "cell_type": "code",
   "execution_count": 63,
   "id": "7ae65da3",
   "metadata": {},
   "outputs": [
    {
     "name": "stdout",
     "output_type": "stream",
     "text": [
      "[0.0, 0.17582417582417584, 0.12087912087912088, 0.15384615384615385, 0.31868131868131866, 0.6483516483516484, 0.5164835164835165, 0.5494505494505495, 0.967032967032967, 1.0, 0.5824175824175825, 0.07692307692307693]\n",
      "-------------------------------------------------\n",
      "[-0.2962962962962963, 0.2592592592592593, 0.14814814814814814, 0.4444444444444444, 1.0, -1.0, 0.37037037037037046, 0.7407407407407407, -0.14814814814814814, 0.6666666666666667, 0.2962962962962963, 0.11111111111111116]\n"
     ]
    }
   ],
   "source": [
    "data1 = [1, 17, 12, 15, 30, 60, 48, 51, 89, 92, 54, 8]\n",
    "X_min = min(data1)\n",
    "X_max = max(data1)\n",
    "data1_scaled = [(x - X_min) / (X_max - X_min) for x in data1]\n",
    "print(data1_normalized)\n",
    "\n",
    "print('-------------------------------------------------')\n",
    "\n",
    "data2 = [-13, 2, -1, 7, 22, -32, 5, 15, -9, 13, 3, -2]\n",
    "X_min = min(data2)\n",
    "X_max = max(data2)\n",
    "data2_scaled = [(2 * (x - X_min) / (X_max - X_min) - 1) for x in data2]\n",
    "print(data2_scaled)"
   ]
  },
  {
   "cell_type": "markdown",
   "id": "03cd43e6",
   "metadata": {},
   "source": [
    "#### Understand how sorting algorithms work(bubble,selection,insertion). Implement them of your own. Also compare time complexities."
   ]
  },
  {
   "cell_type": "code",
   "execution_count": 66,
   "id": "82b734ff",
   "metadata": {},
   "outputs": [
    {
     "name": "stdout",
     "output_type": "stream",
     "text": [
      "[10, 14, 18, 27, 33, 46, 85]\n"
     ]
    }
   ],
   "source": [
    "def bubble_sort(arr):\n",
    "    \"\"\"\n",
    "    Python function for implementation of Bubble Sort\n",
    "    \n",
    "    Parameters:\n",
    "        arr (array): list of unsorted number as a array.\n",
    "\n",
    "    Returns:\n",
    "         arr(array): a sortet array\n",
    "    \"\"\" \n",
    "    n = len(arr)\n",
    "    for i in range(n):\n",
    "        for j in range(n-i-1):\n",
    "            if arr[j] > arr[j+1]:\n",
    "                arr[j], arr[j+1] = arr[j+1], arr[j]\n",
    "    return arr\n",
    "\n",
    "arr = [14, 46, 27, 10, 18, 85, 33]\n",
    "sorted_arr = bubble_sort(arr)\n",
    "print(sorted_arr)"
   ]
  },
  {
   "cell_type": "code",
   "execution_count": 67,
   "id": "7eb0a21b",
   "metadata": {},
   "outputs": [
    {
     "name": "stdout",
     "output_type": "stream",
     "text": [
      "[10, 14, 18, 27, 33, 46, 85]\n"
     ]
    }
   ],
   "source": [
    "def selection_sort(arr):\n",
    "    \"\"\"\n",
    "    Python function for implementation of Selection sort\n",
    "    \n",
    "    Parameters:\n",
    "        arr (array): list of unsorted number as a array.\n",
    "\n",
    "    Returns:\n",
    "         arr(array): a sortet array\n",
    "    \"\"\" \n",
    "    n = len(arr)\n",
    "    for i in range(n):\n",
    "        min_idx = i\n",
    "        for j in range(i+1, n):\n",
    "            if arr[min_idx] > arr[j]:\n",
    "                min_idx = j\n",
    "        arr[i], arr[min_idx] = arr[min_idx], arr[i]\n",
    "    return arr\n",
    "\n",
    "arr = [14, 46, 27, 10, 18, 85, 33]\n",
    "sorted_arr = selection_sort(arr)\n",
    "print(sorted_arr)"
   ]
  },
  {
   "cell_type": "code",
   "execution_count": 33,
   "id": "41819816",
   "metadata": {},
   "outputs": [
    {
     "name": "stdout",
     "output_type": "stream",
     "text": [
      "[10, 14, 18, 27, 33, 46, 85]\n"
     ]
    }
   ],
   "source": [
    "def insertion_sort(arr):\n",
    "    \"\"\"\n",
    "    Python function for implementation of insertion sort\n",
    "    \n",
    "    Parameters:\n",
    "        arr (array): list of unsorted number as a array.\n",
    "\n",
    "    Returns:\n",
    "         arr(array): a sortet array\n",
    "    \"\"\" \n",
    "    n = len(arr)\n",
    "    for i in range(1, n):\n",
    "        key = arr[i]\n",
    "        j = i-1\n",
    "        while j >=0 and key < arr[j] :\n",
    "                arr[j+1] = arr[j]\n",
    "                j -= 1\n",
    "        arr[j+1] = key\n",
    "    return arr\n",
    "\n",
    "arr = [14, 46, 27, 10, 18, 85, 33]\n",
    "sorted_arr = insertion_sort(arr)\n",
    "print(sorted_arr)"
   ]
  },
  {
   "cell_type": "code",
   "execution_count": 68,
   "id": "65468235",
   "metadata": {},
   "outputs": [
    {
     "name": "stdout",
     "output_type": "stream",
     "text": [
      "\n",
      "    Python function for implementation of insertion sort\n",
      "    \n",
      "    Parameters:\n",
      "        arr (array): list of unsorted number as a array.\n",
      "\n",
      "    Returns:\n",
      "         arr(array): a sortet array\n",
      "    \n"
     ]
    }
   ],
   "source": [
    "print(insertion_sort.__doc__)"
   ]
  },
  {
   "cell_type": "markdown",
   "id": "2df9e568",
   "metadata": {},
   "source": [
    "#### Write a function factorial with docstrings"
   ]
  },
  {
   "cell_type": "code",
   "execution_count": 2,
   "id": "010713a2",
   "metadata": {},
   "outputs": [
    {
     "name": "stdout",
     "output_type": "stream",
     "text": [
      "120\n"
     ]
    }
   ],
   "source": [
    "def factorial(n):\n",
    "    \"\"\"\n",
    "    Computing the factorial:\n",
    "\n",
    "    Parameters:\n",
    "        n (int): A non-negative integer.\n",
    "\n",
    "    Returns:\n",
    "        int: The factorial of n.\n",
    "\n",
    "    \"\"\"\n",
    "    if n < 0:\n",
    "        raise ValueError(\"n must be a non-negative integer\")\n",
    "    elif n == 0:\n",
    "        return 1\n",
    "    else:\n",
    "        return n * factorial(n-1)\n",
    "\n",
    "print(factorial(5))"
   ]
  },
  {
   "cell_type": "code",
   "execution_count": 3,
   "id": "dc7d70a6",
   "metadata": {},
   "outputs": [
    {
     "name": "stdout",
     "output_type": "stream",
     "text": [
      "\n",
      "    Computing the factorial:\n",
      "\n",
      "    Parameters:\n",
      "        n (int): A non-negative integer.\n",
      "\n",
      "    Returns:\n",
      "        int: The factorial of n.\n",
      "\n",
      "    \n"
     ]
    }
   ],
   "source": [
    "print(factorial.__doc__)\n",
    "\n"
   ]
  },
  {
   "cell_type": "markdown",
   "id": "bba87d4f",
   "metadata": {},
   "source": [
    "####  Implement for sigmoid, binary step function, relu, leaky rely, tanh"
   ]
  },
  {
   "cell_type": "code",
   "execution_count": 6,
   "id": "7da8ede5",
   "metadata": {},
   "outputs": [
    {
     "name": "stdout",
     "output_type": "stream",
     "text": [
      "Please Enter function name relu\n",
      "Please Enter the value 5\n",
      "5\n"
     ]
    }
   ],
   "source": [
    "import math\n",
    "\n",
    "def activation_fun(func_name, value):\n",
    "    value=int(value)\n",
    "    if func_name == \"sigmoid\":\n",
    "        return 1 / (1 + math.exp(value))\n",
    "    elif func_name == \"binary step\":\n",
    "        return 1 if value >= 0 else 0\n",
    "    elif func_name == \"relu\":\n",
    "        return max(0, value)\n",
    "    elif func_name == \"leaky relu\":\n",
    "        return max(0.01*value, value)\n",
    "    elif func_name == \"tanh\":\n",
    "        return math.tanh(value)\n",
    "    else:\n",
    "        raise ValueError(\"Invalid activation function name\")\n",
    "\n",
    "fun=(input (\"Please Enter function name \"))\n",
    "val=(input (\"Please Enter the value \"))\n",
    "print(activation_fun(fun, val))\n",
    "\n"
   ]
  },
  {
   "cell_type": "markdown",
   "id": "10309846",
   "metadata": {},
   "source": [
    "#### Write a function that returns permutation. Permutation is the number of ways to arrange 'r' objects form a set of 'n' objects where order matters and the formula is"
   ]
  },
  {
   "cell_type": "code",
   "execution_count": 8,
   "id": "0030039d",
   "metadata": {},
   "outputs": [
    {
     "name": "stdout",
     "output_type": "stream",
     "text": [
      "840.0\n"
     ]
    }
   ],
   "source": [
    "def permutation(n, r):\n",
    "    \"\"\"\n",
    "    This function returns the permutation of 'r' objects from a set of 'n' objects\n",
    "    \"\"\"\n",
    "    if n < r:\n",
    "        raise ValueError(\"n must be greater than or equal to r\")\n",
    "    else:\n",
    "        n1 = factorial(n)\n",
    "        n2 = factorial(n-r)\n",
    "        \n",
    "        return n1 / n2\n",
    "\n",
    "print(permutation(7, 4))"
   ]
  },
  {
   "cell_type": "markdown",
   "id": "83771b26",
   "metadata": {},
   "source": [
    "#### Write a function that takes three arguments. First arguments should determine whether to return permutation or combination or both."
   ]
  },
  {
   "cell_type": "code",
   "execution_count": 14,
   "id": "1f6b241c",
   "metadata": {},
   "outputs": [
    {
     "name": "stdout",
     "output_type": "stream",
     "text": [
      "210.0\n",
      "10.0\n",
      "6720.0\n",
      "(90.0, 45.0)\n",
      "(30240.0, 252.0)\n"
     ]
    }
   ],
   "source": [
    "def combination(n, r):\n",
    "    \"\"\"\n",
    "    This function returns the combination of 'r' objects from a set of 'n' objects\n",
    "    \"\"\"\n",
    "    if n < r:\n",
    "        raise ValueError(\"n must be greater than or equal to r\")\n",
    "    else:\n",
    "        n1 = factorial(n)\n",
    "        n2 = factorial(n-r)\n",
    "        r1=factorial(r)\n",
    "        \n",
    "        return n1 / (n2*r1)\n",
    "\n",
    "\n",
    "def per_comb_both(args, n=10, r=5):\n",
    "    \"\"\"\n",
    "    This function returns the permutation and combination of 'r' objects from a set of 'n' objects.\n",
    "    \n",
    "    Parameters:\n",
    "        arg (str): select calculation type , can be permutation , combination or both\n",
    "        n(int):default 10\n",
    "        r(int):default 5\n",
    "\n",
    "    Returns:\n",
    "          returns the permutation , combination or both base of first argument\n",
    "    \"\"\"\n",
    "    if args == 'permutation':\n",
    "        return permutation(n, r)\n",
    "    elif args == 'combination':\n",
    "        return combination(n, r)\n",
    "    elif args == 'both':\n",
    "        return (permutation(n, r), combination(n, r))\n",
    "    else:\n",
    "        raise ValueError(\"Choose  permutation, combination, or both for the first argument\")\n",
    "        \n",
    "print( per_comb_both('permutation',7, 3))\n",
    "print( per_comb_both('combination', 5, 2))\n",
    "print( per_comb_both('permutation', n=8))\n",
    "print( per_comb_both('both', r=2))\n",
    "print( per_comb_both('both'))"
   ]
  },
  {
   "cell_type": "markdown",
   "id": "f3f7b6ec",
   "metadata": {},
   "source": [
    "#### Implement a function that takes any number of positional and keyword arguments."
   ]
  },
  {
   "cell_type": "code",
   "execution_count": 3,
   "id": "ffb9d5bb",
   "metadata": {},
   "outputs": [
    {
     "name": "stdout",
     "output_type": "stream",
     "text": [
      "Hi, I am Prince\n",
      "My age is  20\n",
      "Hi, I am Prince\n",
      "My age is  20\n",
      "--------------------------\n",
      "Case-1:\n",
      "Hi, I am Prince\n",
      "My age is  20\n",
      "\n",
      "Case-2:\n",
      "Hi, I am 20\n",
      "My age is  Prince\n"
     ]
    }
   ],
   "source": [
    "#Keyword-Only Arguments\n",
    "#we will call the function by using the keyword-only arguments in two ways and In both cases, we will be getting the correct output \n",
    "def nameAge(name, age):\n",
    "    print(\"Hi, I am\", name)\n",
    "    print(\"My age is \", age)\n",
    "\n",
    "nameAge(name=\"Prince\", age=20)\n",
    "nameAge(age=20, name=\"Prince\")\n",
    "\n",
    "print('--------------------------')\n",
    "\n",
    "def nameAge(name, age):\n",
    "    print(\"Hi, I am\", name)\n",
    "    print(\"My age is \", age)\n",
    "    \n",
    "#Positional-Only Arguments\n",
    "\n",
    "#You will get correct output because argument is given in order\n",
    "print(\"Case-1:\")\n",
    "nameAge(\"Prince\", 20)\n",
    "# You will get incorrect output because argument is not in order\n",
    "print(\"\\nCase-2:\")\n",
    "nameAge(20, \"Prince\")"
   ]
  },
  {
   "cell_type": "markdown",
   "id": "0e4ac288",
   "metadata": {},
   "source": [
    "#### Understand scope of variables: LEGB Rule 1. Local to the function eg. variable defined in the function 2. Enclosing or nonlocal eg. variables defined in enclosing function in nested function 3. Global eg. variables defined within main program or module 4. Built-in eg. Python keyword"
   ]
  },
  {
   "cell_type": "code",
   "execution_count": 7,
   "id": "6d78d68d",
   "metadata": {},
   "outputs": [
    {
     "name": "stdout",
     "output_type": "stream",
     "text": [
      "Hello, John! I am learning Python.\n",
      "6\n"
     ]
    }
   ],
   "source": [
    "# 'language' is a global variable defined outside of the function\n",
    "# 'message' is a local variable within the greet() function.\n",
    "# 'name' is an enclosing variable within the inner_greet() function. It can be accessed by the nested inner_greet() function\n",
    "# 'len' is a built-in function that can be used from anywhere in the program.\n",
    "\n",
    "\n",
    "\n",
    "# Global variable\n",
    "language = \"Python\"\n",
    "\n",
    "def greet():\n",
    "    # Local variable\n",
    "    message = \"Hello\"\n",
    "    \n",
    "    def inner_greet():\n",
    "        # Enclosing variable\n",
    "        name = \"John\"\n",
    "        print(f\"{message}, {name}! I am learning {language}.\")\n",
    "    \n",
    "    inner_greet()\n",
    "\n",
    "greet()\n",
    "print(len(language))"
   ]
  },
  {
   "cell_type": "code",
   "execution_count": null,
   "id": "44e6cdb4",
   "metadata": {},
   "outputs": [],
   "source": []
  }
 ],
 "metadata": {
  "kernelspec": {
   "display_name": "Python 3 (ipykernel)",
   "language": "python",
   "name": "python3"
  },
  "language_info": {
   "codemirror_mode": {
    "name": "ipython",
    "version": 3
   },
   "file_extension": ".py",
   "mimetype": "text/x-python",
   "name": "python",
   "nbconvert_exporter": "python",
   "pygments_lexer": "ipython3",
   "version": "3.9.0"
  }
 },
 "nbformat": 4,
 "nbformat_minor": 5
}
