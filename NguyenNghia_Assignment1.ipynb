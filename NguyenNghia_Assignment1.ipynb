{
  "metadata": {
    "language_info": {
      "codemirror_mode": {
        "name": "python",
        "version": 3
      },
      "file_extension": ".py",
      "mimetype": "text/x-python",
      "name": "python",
      "nbconvert_exporter": "python",
      "pygments_lexer": "ipython3",
      "version": "3.8"
    },
    "kernelspec": {
      "name": "python",
      "display_name": "Python (Pyodide)",
      "language": "python"
    }
  },
  "nbformat_minor": 4,
  "nbformat": 4,
  "cells": [
    {
      "cell_type": "code",
      "source": "# Task 1\n\n# Integer\nx = int(7)\nprint(x)\n\n# Using object literal\ny = 10\ny",
      "metadata": {
        "trusted": true
      },
      "execution_count": 33,
      "outputs": [
        {
          "name": "stdout",
          "text": "7\n",
          "output_type": "stream"
        },
        {
          "execution_count": 33,
          "output_type": "execute_result",
          "data": {
            "text/plain": "10"
          },
          "metadata": {}
        }
      ]
    },
    {
      "cell_type": "code",
      "source": "# set\nx = set((\"apple\", \"banana\", \"cherry\"))\nprint(x)\n\n# Using object literal\ny = {\"dog\", \"cat\", \"bird\"}\ny",
      "metadata": {
        "trusted": true
      },
      "execution_count": 34,
      "outputs": [
        {
          "name": "stdout",
          "text": "{'apple', 'banana', 'cherry'}\n",
          "output_type": "stream"
        },
        {
          "execution_count": 34,
          "output_type": "execute_result",
          "data": {
            "text/plain": "{'bird', 'cat', 'dog'}"
          },
          "metadata": {}
        }
      ]
    },
    {
      "cell_type": "code",
      "source": "# dictionary\nx = dict(datascientist = \"ML\", name = \"Integrify\", members = 36)\nprint(x)\n\n# Using object literal\ny = {\"datascientist\":\"ML\", \"name\":\"Integrify\", \"member\":36}\ny",
      "metadata": {
        "trusted": true
      },
      "execution_count": 35,
      "outputs": [
        {
          "name": "stdout",
          "text": "{'datascientist': 'ML', 'name': 'Integrify', 'members': 36}\n",
          "output_type": "stream"
        },
        {
          "execution_count": 35,
          "output_type": "execute_result",
          "data": {
            "text/plain": "{'datascientist': 'ML', 'name': 'Integrify', 'member': 36}"
          },
          "metadata": {}
        }
      ]
    },
    {
      "cell_type": "code",
      "source": "# tuple\nx = tuple((\"apple\", \"banana\", \"cherry\"))\nprint(x)\n\n# Using object literal\ny = (\"apple\", \"banana\", \"cherry\")\ny",
      "metadata": {
        "trusted": true
      },
      "execution_count": 36,
      "outputs": [
        {
          "name": "stdout",
          "text": "('apple', 'banana', 'cherry')\n",
          "output_type": "stream"
        },
        {
          "execution_count": 36,
          "output_type": "execute_result",
          "data": {
            "text/plain": "('apple', 'banana', 'cherry')"
          },
          "metadata": {}
        }
      ]
    },
    {
      "cell_type": "code",
      "source": "# list\nx = list((7, 10, \"Integrify\", \"ML\"))\nprint(x)\n\n# Using object literal\ny = [7, 10, \"Integrify\", \"ML\"]\ny",
      "metadata": {
        "trusted": true
      },
      "execution_count": 37,
      "outputs": [
        {
          "name": "stdout",
          "text": "[7, 10, 'Integrify', 'ML']\n",
          "output_type": "stream"
        },
        {
          "execution_count": 37,
          "output_type": "execute_result",
          "data": {
            "text/plain": "[7, 10, 'Integrify', 'ML']"
          },
          "metadata": {}
        }
      ]
    },
    {
      "cell_type": "code",
      "source": "# float\nx = float(7.7)\nprint(x)\n\n# Using object literal\ny = 10.7\ny",
      "metadata": {
        "trusted": true
      },
      "execution_count": 38,
      "outputs": [
        {
          "name": "stdout",
          "text": "7.7\n",
          "output_type": "stream"
        },
        {
          "execution_count": 38,
          "output_type": "execute_result",
          "data": {
            "text/plain": "10.7"
          },
          "metadata": {}
        }
      ]
    },
    {
      "cell_type": "code",
      "source": "# string\nx = str(\"hello world\")\nprint(x)\n\n# Using object literal\ny = \"Welcome to Integrify\"\ny",
      "metadata": {
        "trusted": true
      },
      "execution_count": 39,
      "outputs": [
        {
          "name": "stdout",
          "text": "hello world\n",
          "output_type": "stream"
        },
        {
          "execution_count": 39,
          "output_type": "execute_result",
          "data": {
            "text/plain": "'Welcome to Integrify'"
          },
          "metadata": {}
        }
      ]
    },
    {
      "cell_type": "code",
      "source": "# Task 2\na = 10\nb = 5\n\n# addition operator\nprint(a + b)  # Output: 15\n\n# subtraction operator\nprint(a - b)  # Output: 5\n\n# multiplication operator\nprint(a * b)  # Output: 50\n\n# division operator\nprint(a / b)  # Output: 2.0\n\n# modulus operator\nprint(a % b)  # Output: 0\n\n# exponentiation operator\nprint(a ** b)  # Output: 100000\n\n# floor division operator\nprint(a // b)  # Output: 2\n",
      "metadata": {
        "trusted": true
      },
      "execution_count": 40,
      "outputs": [
        {
          "name": "stdout",
          "text": "15\n5\n50\n2.0\n0\n100000\n2\n",
          "output_type": "stream"
        }
      ]
    },
    {
      "cell_type": "code",
      "source": "# Task 3\na = 7\nprint(dir(a))\n\nprint(a.__add__(10))\nprint(type(a)) \nprint(isinstance(a, int))\n\n# String object\nb = \"Welcome to Integrify\"\nprint(dir(b))\n\nprint(b.capitalize())  \nprint(b.upper()) \nprint(type(b)) \nprint(isinstance(b, str))  \n\n# List object\nc = [1, 2, 3, 4]\nprint(dir(c))\n\nc.append(5) \nprint(c)\nc.reverse() \nprint(c)\nprint(type(c))  \nprint(isinstance(c, list)) \n\n# Dictionary object\nd = {'a': 1, 'b': 2, 'c': 3}\nprint(dir(d))\n\nprint(d.keys()) \nprint(d.values()) \nprint(type(d))  \nprint(isinstance(d, dict))  ",
      "metadata": {
        "trusted": true
      },
      "execution_count": 41,
      "outputs": [
        {
          "name": "stdout",
          "text": "['__abs__', '__add__', '__and__', '__bool__', '__ceil__', '__class__', '__delattr__', '__dir__', '__divmod__', '__doc__', '__eq__', '__float__', '__floor__', '__floordiv__', '__format__', '__ge__', '__getattribute__', '__getnewargs__', '__gt__', '__hash__', '__index__', '__init__', '__init_subclass__', '__int__', '__invert__', '__le__', '__lshift__', '__lt__', '__mod__', '__mul__', '__ne__', '__neg__', '__new__', '__or__', '__pos__', '__pow__', '__radd__', '__rand__', '__rdivmod__', '__reduce__', '__reduce_ex__', '__repr__', '__rfloordiv__', '__rlshift__', '__rmod__', '__rmul__', '__ror__', '__round__', '__rpow__', '__rrshift__', '__rshift__', '__rsub__', '__rtruediv__', '__rxor__', '__setattr__', '__sizeof__', '__str__', '__sub__', '__subclasshook__', '__truediv__', '__trunc__', '__xor__', 'as_integer_ratio', 'bit_count', 'bit_length', 'conjugate', 'denominator', 'from_bytes', 'imag', 'numerator', 'real', 'to_bytes']\n17\n<class 'int'>\nTrue\n['__add__', '__class__', '__contains__', '__delattr__', '__dir__', '__doc__', '__eq__', '__format__', '__ge__', '__getattribute__', '__getitem__', '__getnewargs__', '__gt__', '__hash__', '__init__', '__init_subclass__', '__iter__', '__le__', '__len__', '__lt__', '__mod__', '__mul__', '__ne__', '__new__', '__reduce__', '__reduce_ex__', '__repr__', '__rmod__', '__rmul__', '__setattr__', '__sizeof__', '__str__', '__subclasshook__', 'capitalize', 'casefold', 'center', 'count', 'encode', 'endswith', 'expandtabs', 'find', 'format', 'format_map', 'index', 'isalnum', 'isalpha', 'isascii', 'isdecimal', 'isdigit', 'isidentifier', 'islower', 'isnumeric', 'isprintable', 'isspace', 'istitle', 'isupper', 'join', 'ljust', 'lower', 'lstrip', 'maketrans', 'partition', 'removeprefix', 'removesuffix', 'replace', 'rfind', 'rindex', 'rjust', 'rpartition', 'rsplit', 'rstrip', 'split', 'splitlines', 'startswith', 'strip', 'swapcase', 'title', 'translate', 'upper', 'zfill']\nWelcome to integrify\nWELCOME TO INTEGRIFY\n<class 'str'>\nTrue\n['__add__', '__class__', '__class_getitem__', '__contains__', '__delattr__', '__delitem__', '__dir__', '__doc__', '__eq__', '__format__', '__ge__', '__getattribute__', '__getitem__', '__gt__', '__hash__', '__iadd__', '__imul__', '__init__', '__init_subclass__', '__iter__', '__le__', '__len__', '__lt__', '__mul__', '__ne__', '__new__', '__reduce__', '__reduce_ex__', '__repr__', '__reversed__', '__rmul__', '__setattr__', '__setitem__', '__sizeof__', '__str__', '__subclasshook__', 'append', 'clear', 'copy', 'count', 'extend', 'index', 'insert', 'pop', 'remove', 'reverse', 'sort']\n[1, 2, 3, 4, 5]\n[5, 4, 3, 2, 1]\n<class 'list'>\nTrue\n['__class__', '__class_getitem__', '__contains__', '__delattr__', '__delitem__', '__dir__', '__doc__', '__eq__', '__format__', '__ge__', '__getattribute__', '__getitem__', '__gt__', '__hash__', '__init__', '__init_subclass__', '__ior__', '__iter__', '__le__', '__len__', '__lt__', '__ne__', '__new__', '__or__', '__reduce__', '__reduce_ex__', '__repr__', '__reversed__', '__ror__', '__setattr__', '__setitem__', '__sizeof__', '__str__', '__subclasshook__', 'clear', 'copy', 'fromkeys', 'get', 'items', 'keys', 'pop', 'popitem', 'setdefault', 'update', 'values']\ndict_keys(['a', 'b', 'c'])\ndict_values([1, 2, 3])\n<class 'dict'>\nTrue\n",
          "output_type": "stream"
        }
      ]
    },
    {
      "cell_type": "code",
      "source": "# task 4\nprint(\"Welcome to\", \"Integrify\")\nprint(\"Welcome to\"+ \" Integrify\")\ninfo = {\"pl\":\"python\", \"version\":3.10}\nprint(f\"I love {info.get('pl')} version {info.get('version'):.2f}\")\nprint(f'I love {info[\"pl\"]} version {info[\"version\"]:.2f}')\n",
      "metadata": {
        "trusted": true
      },
      "execution_count": 60,
      "outputs": [
        {
          "name": "stdout",
          "text": "Welcome to Integrify\nWelcome to Integrify\nI love python version 3.10\nI love python version 3.10\n",
          "output_type": "stream"
        }
      ]
    },
    {
      "cell_type": "code",
      "source": "# task 5\n# a.\ncountries = [\"Finland\",\"Sweden\",\"Denmark\",\"Netherlands\",\"Germany\",\"Norway\",\"Iceland\"]\n\n# b.\nprint(countries.index(\"Sweden\"))\n\n# c.\nprint(countries[1::])\n\n# d.\nprint(countries[:-1])\n\n# e.\nprint(countries[-1])\n\n# f.\nprint(countries[-3:])\n\n# g.\nprint(countries[::2])\n\n# h.\nprint(countries[::len(countries)-1])\n\n# i.\nprint(countries[-4:-1])\n\n# j.\nprint(countries[::-1])\n\n# k.\nprint(countries[::-2])\n\n# l.\nprint(countries[1:100:2])\n\n# m.\nprint(countries[len(countries)-1:0:2])\n\n# n.\nprint(countries[4:1:-1])\n\n# o.\nprint(list(enumerate(countries)))",
      "metadata": {
        "trusted": true
      },
      "execution_count": 103,
      "outputs": [
        {
          "name": "stdout",
          "text": "1\n['Sweden', 'Denmark', 'Netherlands', 'Germany', 'Norway', 'Iceland']\n['Finland', 'Sweden', 'Denmark', 'Netherlands', 'Germany', 'Norway']\nIceland\n['Germany', 'Norway', 'Iceland']\n['Finland', 'Denmark', 'Germany', 'Iceland']\n['Finland', 'Iceland']\n['Netherlands', 'Germany', 'Norway']\n['Iceland', 'Norway', 'Germany', 'Netherlands', 'Denmark', 'Sweden', 'Finland']\n['Iceland', 'Germany', 'Denmark', 'Finland']\n['Sweden', 'Netherlands', 'Norway']\n[]\n['Germany', 'Netherlands', 'Denmark']\n[(0, 'Finland'), (1, 'Sweden'), (2, 'Denmark'), (3, 'Netherlands'), (4, 'Germany'), (5, 'Norway'), (6, 'Iceland')]\n",
          "output_type": "stream"
        }
      ]
    },
    {
      "cell_type": "code",
      "source": "# Task 6\n# a\nx =  [\"a\",\"b\",\"c\",\"d\"]\ny = [1, 2, 3, 4]\nnew_dict = dict(zip(x,y))\nprint(new_dict)\n\n# b\ninfo = {\"pl\":\"python\", \"version\":3.10}\nnew_dict.update(info)\nprint(new_dict)\n\n# c\nStudents=[\"Duy\", \"Laxmi\",\"Antonio\",\"Maria\"]\nCourse = [\"Python\",\"Database\",\"ML\"] \ntask_c = dict()\n# solution 1\nfor i in Students:\n    task_c[i] = Course\nprint(task_c)\n\n# Solution 2\ntask_c1 = lambda: {student: Course for student in Students}\nprint(task_c1())\n\n# d\ntask_c[\"Antonio\"] = [\"JavaScript\",\"Database\",\"NodeJS\"]\nprint(task_c)\n\n# e\ntask_c[\"Antonio\"].append(\"ReactJs\")\nprint(task_c)\n\n# f\ntask_c[\"Antonio\"][-1] = \"Vuejs\"\nprint(task_c)\n\n# g\ndel task_c[\"Maria\"]   # solution 1\n# task_c.pop(\"Maria\") # solution 2\n# task_c.popitem()    # solution 3\nprint(task_c)\n",
      "metadata": {
        "trusted": true
      },
      "execution_count": 125,
      "outputs": [
        {
          "name": "stdout",
          "text": "{'a': 1, 'b': 2, 'c': 3, 'd': 4}\n{'a': 1, 'b': 2, 'c': 3, 'd': 4, 'pl': 'python', 'version': 3.1}\n{'Duy': ['Python', 'Database', 'ML'], 'Laxmi': ['Python', 'Database', 'ML'], 'Antonio': ['Python', 'Database', 'ML'], 'Maria': ['Python', 'Database', 'ML']}\n{'Duy': ['Python', 'Database', 'ML'], 'Laxmi': ['Python', 'Database', 'ML'], 'Antonio': ['Python', 'Database', 'ML'], 'Maria': ['Python', 'Database', 'ML']}\n{'Duy': ['Python', 'Database', 'ML'], 'Laxmi': ['Python', 'Database', 'ML'], 'Antonio': ['JavaScript', 'Database', 'NodeJS'], 'Maria': ['Python', 'Database', 'ML']}\n{'Duy': ['Python', 'Database', 'ML'], 'Laxmi': ['Python', 'Database', 'ML'], 'Antonio': ['JavaScript', 'Database', 'NodeJS', 'ReactJs'], 'Maria': ['Python', 'Database', 'ML']}\n{'Duy': ['Python', 'Database', 'ML'], 'Laxmi': ['Python', 'Database', 'ML'], 'Antonio': ['JavaScript', 'Database', 'NodeJS', 'Vuejs'], 'Maria': ['Python', 'Database', 'ML']}\n{'Duy': ['Python', 'Database', 'ML'], 'Laxmi': ['Python', 'Database', 'ML'], 'Antonio': ['JavaScript', 'Database', 'NodeJS', 'Vuejs']}\n",
          "output_type": "stream"
        }
      ]
    },
    {
      "cell_type": "code",
      "source": "",
      "metadata": {},
      "execution_count": null,
      "outputs": []
    }
  ]
}