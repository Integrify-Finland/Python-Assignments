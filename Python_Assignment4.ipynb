{
  "nbformat": 4,
  "nbformat_minor": 0,
  "metadata": {
    "colab": {
      "provenance": [],
      "authorship_tag": "ABX9TyP+otSi1cSpQz09t+FvwoiF",
      "include_colab_link": true
    },
    "kernelspec": {
      "name": "python3",
      "display_name": "Python 3"
    },
    "language_info": {
      "name": "python"
    }
  },
  "cells": [
    {
      "cell_type": "markdown",
      "metadata": {
        "id": "view-in-github",
        "colab_type": "text"
      },
      "source": [
        "<a href=\"https://colab.research.google.com/github/afshari-maryam/Python-Assignment1/blob/main/Python_Assignment4.ipynb\" target=\"_parent\"><img src=\"https://colab.research.google.com/assets/colab-badge.svg\" alt=\"Open In Colab\"/></a>"
      ]
    },
    {
      "cell_type": "markdown",
      "source": [
        "#**Python Basics: Iters and generators,regex, comprehension**"
      ],
      "metadata": {
        "id": "-RUlQUCDXYR6"
      }
    },
    {
      "cell_type": "markdown",
      "source": [
        "#Iterator and generator: (For advanced learners, read from the links ) \n",
        "\n",
        "https://realpython.com/python-iterators-iterables/\n",
        "\n",
        "https://realpython.com/introduction-to-python-generators/\n",
        "\n",
        "#**1.**\n",
        " As you have already known, the iterables objects are the stream of data like string,list, dict, set etc which can be looped over or iterated. Since you have also known that you can convert an iterable into an iterator using iter method and iterators have next method, it's time to play around with the builtin itertools module.\n",
        "\n",
        "**A.** Create a list apply iter method to it and run next method until you get StopIteration error\n"
      ],
      "metadata": {
        "id": "0eEdyaqSXZ1c"
      }
    },
    {
      "cell_type": "code",
      "execution_count": 1,
      "metadata": {
        "colab": {
          "base_uri": "https://localhost:8080/"
        },
        "id": "mh_kYwn2XPCL",
        "outputId": "171cbb4f-8b4d-4fda-860b-188f4f4ee535"
      },
      "outputs": [
        {
          "output_type": "stream",
          "name": "stdout",
          "text": [
            "1\n",
            "2\n",
            "3\n",
            "4\n",
            "5\n"
          ]
        }
      ],
      "source": [
        "import itertools\n",
        "\n",
        "# Create a list\n",
        "my_list = [1, 2, 3, 4, 5]\n",
        "\n",
        "# Convert the list into an iterator\n",
        "my_iterator = iter(my_list)\n",
        "\n",
        "# Loop through the iterator using the next() function\n",
        "try:\n",
        "    while True:\n",
        "        value = next(my_iterator)\n",
        "        print(value)\n",
        "except StopIteration:\n",
        "    pass"
      ]
    },
    {
      "cell_type": "markdown",
      "source": [
        "**B.** Import itertools in your notebook and create infinite iterators using count,cycle and and repeat methods. Refer https://docs.python.org/3/library/itertools.html\n"
      ],
      "metadata": {
        "id": "iVGjd09_YVQx"
      }
    },
    {
      "cell_type": "markdown",
      "source": [
        "let's create some infinite iterators using the count(), cycle(), and repeat() methods:"
      ],
      "metadata": {
        "id": "ahuYq2aIaOeV"
      }
    },
    {
      "cell_type": "code",
      "source": [
        "import itertools\n",
        "# Create an infinite iterator using count()\n",
        "for value in itertools.count():\n",
        "    print(value)\n",
        "    if value > 10:\n",
        "        break"
      ],
      "metadata": {
        "colab": {
          "base_uri": "https://localhost:8080/"
        },
        "id": "n7ROuJbVYYVy",
        "outputId": "35f5a536-2ff4-405d-904d-408d46eb8cd0"
      },
      "execution_count": 5,
      "outputs": [
        {
          "output_type": "stream",
          "name": "stdout",
          "text": [
            "0\n",
            "1\n",
            "2\n",
            "3\n",
            "4\n",
            "5\n",
            "6\n",
            "7\n",
            "8\n",
            "9\n",
            "10\n",
            "11\n"
          ]
        }
      ]
    },
    {
      "cell_type": "code",
      "source": [
        "# Create an infinite iterator using cycle()\n",
        "my_list = [1, 2, 3]\n",
        "for value in itertools.cycle(my_list):\n",
        "    print(value)\n",
        "    if value == 3:\n",
        "        break\n"
      ],
      "metadata": {
        "colab": {
          "base_uri": "https://localhost:8080/"
        },
        "id": "1IGBAR4OaUhy",
        "outputId": "afe7399f-9293-4780-899b-0c1781b94ef0"
      },
      "execution_count": 6,
      "outputs": [
        {
          "output_type": "stream",
          "name": "stdout",
          "text": [
            "1\n",
            "2\n",
            "3\n"
          ]
        }
      ]
    },
    {
      "cell_type": "code",
      "source": [
        "# Create an iterator that repeats a value infinitely\n",
        "for value in itertools.repeat('Hello', 3):\n",
        "    print(value)"
      ],
      "metadata": {
        "colab": {
          "base_uri": "https://localhost:8080/"
        },
        "id": "R_2ooOAaabnb",
        "outputId": "a3aba437-9f34-4525-af90-7116937f6978"
      },
      "execution_count": 7,
      "outputs": [
        {
          "output_type": "stream",
          "name": "stdout",
          "text": [
            "Hello\n",
            "Hello\n",
            "Hello\n"
          ]
        }
      ]
    },
    {
      "cell_type": "markdown",
      "source": [
        "**C.** Use methods from I terators terminating on the shortest input sequence\n",
        "User methods from Combinatoric iterator b."
      ],
      "metadata": {
        "id": "y2VFEgOOYXay"
      }
    },
    {
      "cell_type": "markdown",
      "source": [
        "There are several methods from the itertools module that terminate on the shortest input sequence. These include:"
      ],
      "metadata": {
        "id": "QLIecmsUc7oq"
      }
    },
    {
      "cell_type": "markdown",
      "source": [
        "**zip:** This function takes multiple iterables as arguments and returns an iterator that aggregates elements from each of the iterables. The iterator stops when the shortest input iterable is exhausted. For example:"
      ],
      "metadata": {
        "id": "c2PBYDf9c-k7"
      }
    },
    {
      "cell_type": "code",
      "source": [
        "numbers = [1, 2, 3]\n",
        "letters = ['a', 'b', 'c']\n",
        "zipped = zip(numbers, letters)\n",
        "print(list(zipped))  # [(1, 'a'), (2, 'b'), (3, 'c')]\n"
      ],
      "metadata": {
        "colab": {
          "base_uri": "https://localhost:8080/"
        },
        "id": "LP3V8oVwc8bZ",
        "outputId": "8f6c3d91-9157-401d-d677-e9e1b6a2c38f"
      },
      "execution_count": 15,
      "outputs": [
        {
          "output_type": "stream",
          "name": "stdout",
          "text": [
            "[(1, 'a'), (2, 'b'), (3, 'c')]\n"
          ]
        }
      ]
    },
    {
      "cell_type": "markdown",
      "source": [
        "**map:** This function applies a function to each element of an iterable and returns an iterator that yields the results. The iterator stops when the shortest input iterable is exhausted. For example:"
      ],
      "metadata": {
        "id": "dJSlvWoQdO-7"
      }
    },
    {
      "cell_type": "code",
      "source": [
        "numbers = [1, 2, 3]\n",
        "squared = map(lambda x: x**2, numbers)\n",
        "print(list(squared))  # [1, 4, 9]\n"
      ],
      "metadata": {
        "colab": {
          "base_uri": "https://localhost:8080/"
        },
        "id": "zpd-I_sJdS1K",
        "outputId": "e024af0d-cab7-4a83-cde0-02b3eb0335d2"
      },
      "execution_count": 16,
      "outputs": [
        {
          "output_type": "stream",
          "name": "stdout",
          "text": [
            "[1, 4, 9]\n"
          ]
        }
      ]
    },
    {
      "cell_type": "markdown",
      "source": [
        "**filter:** This function returns an iterator that yields the elements of an iterable for which a function returns True. The iterator stops when the shortest input iterable is exhausted. For example:"
      ],
      "metadata": {
        "id": "E58jM_B2dVHT"
      }
    },
    {
      "cell_type": "code",
      "source": [
        "numbers = [1, 2, 3, 4, 5]\n",
        "evens = filter(lambda x: x % 2 == 0, numbers)\n",
        "print(list(evens))  # [2, 4]\n"
      ],
      "metadata": {
        "colab": {
          "base_uri": "https://localhost:8080/"
        },
        "id": "jGOW3BM-dbUR",
        "outputId": "406a8375-35c9-4d86-d724-46cb83992d22"
      },
      "execution_count": 17,
      "outputs": [
        {
          "output_type": "stream",
          "name": "stdout",
          "text": [
            "[2, 4]\n"
          ]
        }
      ]
    },
    {
      "cell_type": "markdown",
      "source": [
        "**islice:** This function returns an iterator that yields selected elements from an iterable. The arguments are start, stop, and step, which work like the corresponding arguments to a slice. The iterator stops when the stop value is reached. For example:"
      ],
      "metadata": {
        "id": "MGJrWItgddeL"
      }
    },
    {
      "cell_type": "code",
      "source": [
        "import itertools\n",
        "numbers = [1, 2, 3, 4, 5]\n",
        "sliced = itertools.islice(numbers, 2, 4)\n",
        "print(list(sliced))  # [3, 4]\n"
      ],
      "metadata": {
        "colab": {
          "base_uri": "https://localhost:8080/"
        },
        "id": "5GdDL-xIdgbz",
        "outputId": "bf3540ac-b486-4899-aedb-b71f63f95a2c"
      },
      "execution_count": 18,
      "outputs": [
        {
          "output_type": "stream",
          "name": "stdout",
          "text": [
            "[3, 4]\n"
          ]
        }
      ]
    },
    {
      "cell_type": "markdown",
      "source": [
        "Let's use some methods from the itertools module that terminate on the shortest input sequence. These methods include zip(), map(), and filter()."
      ],
      "metadata": {
        "id": "Q214snhia6bz"
      }
    },
    {
      "cell_type": "code",
      "source": [
        "# Create two lists\n",
        "list1 = [1, 2, 3]\n",
        "list2 = ['a', 'b', 'c']\n",
        "\n",
        "# Use the zip() method to combine the lists\n",
        "zipped = zip(list1, list2)\n",
        "\n",
        "# Loop through the zipped iterator and print each value\n",
        "for value in zipped:\n",
        "    print(value)\n"
      ],
      "metadata": {
        "colab": {
          "base_uri": "https://localhost:8080/"
        },
        "id": "aWZ4Xz6ra73z",
        "outputId": "c543faed-d06a-4c73-ef20-5f2f4764bdfa"
      },
      "execution_count": 10,
      "outputs": [
        {
          "output_type": "stream",
          "name": "stdout",
          "text": [
            "(1, 'a')\n",
            "(2, 'b')\n",
            "(3, 'c')\n"
          ]
        }
      ]
    },
    {
      "cell_type": "markdown",
      "source": [
        "Now let's use some methods from the combinatoric iterator category. These methods include product(), permutations(), and combinations(). "
      ],
      "metadata": {
        "id": "rxQyhAEtbCYa"
      }
    },
    {
      "cell_type": "code",
      "source": [
        "# Import the itertools module\n",
        "import itertools\n",
        "\n",
        "# Create two lists\n",
        "list1 = [1, 2, 3]\n",
        "list2 = ['a', 'b', 'c']\n",
        "\n",
        "# Use the product() method to generate the Cartesian product of the two lists\n",
        "product = itertools.product(list1, list2)\n",
        "\n",
        "# Loop through the product iterator and print each value\n",
        "for value in product:\n",
        "    print(value)\n"
      ],
      "metadata": {
        "colab": {
          "base_uri": "https://localhost:8080/"
        },
        "id": "wtmQkf3ubEPy",
        "outputId": "0a72a070-e47e-4f73-ec66-55fd9f723270"
      },
      "execution_count": 11,
      "outputs": [
        {
          "output_type": "stream",
          "name": "stdout",
          "text": [
            "(1, 'a')\n",
            "(1, 'b')\n",
            "(1, 'c')\n",
            "(2, 'a')\n",
            "(2, 'b')\n",
            "(2, 'c')\n",
            "(3, 'a')\n",
            "(3, 'b')\n",
            "(3, 'c')\n"
          ]
        }
      ]
    },
    {
      "cell_type": "markdown",
      "source": [
        "**D.** Create an infinite generator that generates the fibonacci series"
      ],
      "metadata": {
        "id": "MRaGQU6Ib3Iz"
      }
    },
    {
      "cell_type": "code",
      "source": [
        "def fibonacci():\n",
        "    a, b = 0, 1\n",
        "    while True:\n",
        "        yield a\n",
        "        a, b = b, a + b\n",
        "\n",
        "# Create an iterator for the Fibonacci series generator and print the first 10 values\n",
        "fib_iter = fibonacci()\n",
        "for i in range(10):\n",
        "    print(next(fib_iter))"
      ],
      "metadata": {
        "colab": {
          "base_uri": "https://localhost:8080/"
        },
        "id": "Hp8PQQFLcB-z",
        "outputId": "6fd0e38f-01cd-4122-f7f1-61d49a134b8e"
      },
      "execution_count": 12,
      "outputs": [
        {
          "output_type": "stream",
          "name": "stdout",
          "text": [
            "0\n",
            "1\n",
            "1\n",
            "2\n",
            "3\n",
            "5\n",
            "8\n",
            "13\n",
            "21\n",
            "34\n"
          ]
        }
      ]
    },
    {
      "cell_type": "code",
      "source": [
        "fib_iter = fibonacci()\n",
        "print(next(fib_iter))  # 0\n",
        "print(next(fib_iter))  # 1\n",
        "print(next(fib_iter))  # 1\n",
        "print(next(fib_iter))  # 2\n",
        "print(next(fib_iter))  # 3\n"
      ],
      "metadata": {
        "colab": {
          "base_uri": "https://localhost:8080/"
        },
        "id": "XrlO6c5ucrD1",
        "outputId": "7963be97-21c0-4baa-cfd2-909b65982011"
      },
      "execution_count": 14,
      "outputs": [
        {
          "output_type": "stream",
          "name": "stdout",
          "text": [
            "0\n",
            "1\n",
            "1\n",
            "2\n",
            "3\n"
          ]
        }
      ]
    },
    {
      "cell_type": "markdown",
      "source": [
        "# **Regular expression:**"
      ],
      "metadata": {
        "id": "a-3nmre0d4D2"
      }
    },
    {
      "cell_type": "markdown",
      "source": [
        "#2. \n",
        "Read and practices more on regex\n",
        " https://www.w3resource.com/python-exercises/re/"
      ],
      "metadata": {
        "id": "98iSHprHd-Ry"
      }
    },
    {
      "cell_type": "markdown",
      "source": [
        " some resources and tips for learning and practicing regular expressions (regex) in Python.\n",
        "\n",
        "The official Python documentation on regex: https://docs.python.org/3/library/re.html\n",
        "This is a comprehensive guide to using regex in Python, including syntax, patterns, flags, and examples.\n",
        "\n",
        "Regular expressions 101: https://regex101.com/\n",
        "This website provides a visual and interactive interface for testing and debugging regex patterns in various programming languages, including Python.\n",
        "\n",
        "Python regex cheatsheet: https://www.debuggex.com/cheatsheet/regex/python\n",
        "This is a quick reference guide for commonly used regex patterns and functions in Python.\n",
        "\n",
        "Practice exercises:\n",
        "\n",
        "https://www.hackerrank.com/domains/python/py-regex\n",
        "https://www.practicepython.org/tag/regex/\n",
        "When practicing regex, it can be helpful to start with simple patterns and work your way up to more complex ones. It's also a good idea to test your patterns with a variety of input data to ensure they are capturing the desired matches.\n",
        "\n",
        "Remember that regex is a powerful tool, but it can also be complex and tricky to use effectively. Don't be discouraged if you encounter difficulties or errors - with practice and perseverance, you can become proficient in using regex in Python.\n",
        "\n",
        "\n",
        "\n",
        "\n",
        "\n",
        "Regenerate response"
      ],
      "metadata": {
        "id": "KrejgNLseol9"
      }
    },
    {
      "cell_type": "markdown",
      "source": [
        "**A.** Here's a Python program to check if a string contains only a certain set of characters:"
      ],
      "metadata": {
        "id": "Guj2oJZHgP_W"
      }
    },
    {
      "cell_type": "code",
      "source": [
        "import re\n",
        "\n",
        "def check_string(string):\n",
        "    pattern = re.compile(r'^[a-zA-Z0-9]+$')\n",
        "    if pattern.match(string):\n",
        "        return True\n",
        "    return False\n",
        "\n",
        "# Example usage\n",
        "string1 = \"HelloWorld123\"\n",
        "string2 = \"Hello_World_123\"\n",
        "print(check_string(string1)) # True\n",
        "print(check_string(string2)) # False\n"
      ],
      "metadata": {
        "colab": {
          "base_uri": "https://localhost:8080/"
        },
        "id": "keUOTApld5R0",
        "outputId": "b29f1d04-da03-40a2-d6b0-f50a5b05eeb7"
      },
      "execution_count": 19,
      "outputs": [
        {
          "output_type": "stream",
          "name": "stdout",
          "text": [
            "True\n",
            "False\n"
          ]
        }
      ]
    },
    {
      "cell_type": "markdown",
      "source": [
        "**B.** Here's a Python program to match a string that has an 'a' followed by zero or more 'b's:"
      ],
      "metadata": {
        "id": "uFn2BbGGgZEH"
      }
    },
    {
      "cell_type": "code",
      "source": [
        "import re\n",
        "\n",
        "def match_string(string):\n",
        "    pattern = re.compile(r'^a(b*)$')\n",
        "    if pattern.match(string):\n",
        "        return True\n",
        "    return False\n",
        "\n",
        "# Example usage\n",
        "string1 = \"ab\"\n",
        "string2 = \"abb\"\n",
        "string3 = \"ac\"\n",
        "print(match_string(string1)) # True\n",
        "print(match_string(string2)) # True\n",
        "print(match_string(string3)) # False\n"
      ],
      "metadata": {
        "colab": {
          "base_uri": "https://localhost:8080/"
        },
        "id": "HyPqp2b3gdTx",
        "outputId": "3f2785b0-9856-4a12-be54-18614351652a"
      },
      "execution_count": 22,
      "outputs": [
        {
          "output_type": "stream",
          "name": "stdout",
          "text": [
            "True\n",
            "True\n",
            "False\n"
          ]
        }
      ]
    },
    {
      "cell_type": "markdown",
      "source": [
        "**C.** Here's a Python program to match a string that has an 'a' followed by one or more 'b's:"
      ],
      "metadata": {
        "id": "zAi-jBMUgnHW"
      }
    },
    {
      "cell_type": "code",
      "source": [
        "import re\n",
        "\n",
        "def match_string(string):\n",
        "    pattern = re.compile(r'^a(b+)$')\n",
        "    if pattern.match(string):\n",
        "        return True\n",
        "    return False\n",
        "\n",
        "# Example usage\n",
        "string1 = \"ab\"\n",
        "string2 = \"abb\"\n",
        "string3 = \"ac\"\n",
        "print(match_string(string1)) # True\n",
        "print(match_string(string2)) # True\n",
        "print(match_string(string3)) # False\n"
      ],
      "metadata": {
        "colab": {
          "base_uri": "https://localhost:8080/"
        },
        "id": "1kDTKg4xjIQW",
        "outputId": "274da89b-fcf3-425b-8105-09b3002410d3"
      },
      "execution_count": 21,
      "outputs": [
        {
          "output_type": "stream",
          "name": "stdout",
          "text": [
            "True\n",
            "True\n",
            "False\n"
          ]
        }
      ]
    },
    {
      "cell_type": "markdown",
      "source": [
        "#**Comprehension:**"
      ],
      "metadata": {
        "id": "69YORJFVjmo-"
      }
    },
    {
      "cell_type": "markdown",
      "source": [
        "**A.** \n",
        "Read different types of comprehension in python\n",
        " https://www.geeksforgeeks.org/comprehensions-in-python/"
      ],
      "metadata": {
        "id": "GqGhDNiVju8e"
      }
    },
    {
      "cell_type": "markdown",
      "source": [
        "**B.** \n",
        "Write a multiplication table of any given number in a list using list comprehension"
      ],
      "metadata": {
        "id": "LmOAxHyuj20u"
      }
    },
    {
      "cell_type": "code",
      "source": [
        "num = 7  # the number whose multiplication table we want to create\n",
        "table = [num*i for i in range(1, 11)]  # list comprehension to generate multiplication table\n",
        "print(table)"
      ],
      "metadata": {
        "colab": {
          "base_uri": "https://localhost:8080/"
        },
        "id": "JojCzmoEjua2",
        "outputId": "fd5e9976-faf3-4192-f4e4-097855079dc4"
      },
      "execution_count": 23,
      "outputs": [
        {
          "output_type": "stream",
          "name": "stdout",
          "text": [
            "[7, 14, 21, 28, 35, 42, 49, 56, 63, 70]\n"
          ]
        }
      ]
    },
    {
      "cell_type": "markdown",
      "source": [
        "**C.** \n",
        "Find all numbers from 1 to 500 that has 5 in them"
      ],
      "metadata": {
        "id": "HoL3immike2t"
      }
    },
    {
      "cell_type": "code",
      "source": [
        "result = [x for x in range(1, 501) if '5' in str(x)]\n",
        "print(result)"
      ],
      "metadata": {
        "colab": {
          "base_uri": "https://localhost:8080/"
        },
        "id": "6EnLGfopkfJ3",
        "outputId": "96759f43-e337-43e6-ccc9-b4b315f825fc"
      },
      "execution_count": 24,
      "outputs": [
        {
          "output_type": "stream",
          "name": "stdout",
          "text": [
            "[5, 15, 25, 35, 45, 50, 51, 52, 53, 54, 55, 56, 57, 58, 59, 65, 75, 85, 95, 105, 115, 125, 135, 145, 150, 151, 152, 153, 154, 155, 156, 157, 158, 159, 165, 175, 185, 195, 205, 215, 225, 235, 245, 250, 251, 252, 253, 254, 255, 256, 257, 258, 259, 265, 275, 285, 295, 305, 315, 325, 335, 345, 350, 351, 352, 353, 354, 355, 356, 357, 358, 359, 365, 375, 385, 395, 405, 415, 425, 435, 445, 450, 451, 452, 453, 454, 455, 456, 457, 458, 459, 465, 475, 485, 495, 500]\n"
          ]
        }
      ]
    },
    {
      "cell_type": "markdown",
      "source": [
        "**D.**\n",
        " Given the list of \n",
        "items=[\"apple\",True,10,\"banana\",20,30,4.0,\"grapes\",\"laptop\",\"phone\", False,0], \n",
        "generate the list of non-string values"
      ],
      "metadata": {
        "id": "OxC--UOukusw"
      }
    },
    {
      "cell_type": "code",
      "source": [
        "items = [\"apple\", True, 10, \"banana\", 20, 30, 4.0, \"grapes\", \"laptop\", \"phone\", False, 0]\n",
        "\n",
        "non_string_values = [item for item in items if not isinstance(item, str)]\n",
        "\n",
        "print(non_string_values)\n"
      ],
      "metadata": {
        "colab": {
          "base_uri": "https://localhost:8080/"
        },
        "id": "FponYg6yku8-",
        "outputId": "670c0eae-36f5-45f2-f9be-cdd858e4bf14"
      },
      "execution_count": 25,
      "outputs": [
        {
          "output_type": "stream",
          "name": "stdout",
          "text": [
            "[True, 10, 20, 30, 4.0, False, 0]\n"
          ]
        }
      ]
    },
    {
      "cell_type": "markdown",
      "source": [
        "**E.** \n",
        "Generate the boolean True for numeric and False for non-numeric in above items list"
      ],
      "metadata": {
        "id": "SMdfFZ0tlCJ1"
      }
    },
    {
      "cell_type": "code",
      "source": [
        "items = [\"apple\", True, 10, \"banana\", 20, 30, 4.0, \"grapes\", \"laptop\", \"phone\", False, 0]\n",
        "\n",
        "is_numeric = [isinstance(item, (int, float)) for item in items]\n",
        "print(is_numeric)\n"
      ],
      "metadata": {
        "colab": {
          "base_uri": "https://localhost:8080/"
        },
        "id": "LhGcX3nWlIUd",
        "outputId": "a057117f-5de6-4d73-92e4-e7887a26a4a9"
      },
      "execution_count": 26,
      "outputs": [
        {
          "output_type": "stream",
          "name": "stdout",
          "text": [
            "[False, True, True, False, True, True, True, False, False, False, True, True]\n"
          ]
        }
      ]
    },
    {
      "cell_type": "code",
      "source": [
        "items = [\"apple\", True, 10, \"banana\", 20, 30, 4.0, \"grapes\", \"laptop\", \"phone\", False, 0]\n",
        "\n",
        "result = [True if isinstance(item, (int, float)) else False for item in items]\n",
        "\n",
        "print(result)\n"
      ],
      "metadata": {
        "colab": {
          "base_uri": "https://localhost:8080/"
        },
        "id": "MSvoPOBqlWZn",
        "outputId": "a54d140b-b713-4fa9-f2c6-bc07ed56d60b"
      },
      "execution_count": 28,
      "outputs": [
        {
          "output_type": "stream",
          "name": "stdout",
          "text": [
            "[False, True, True, False, True, True, True, False, False, False, True, True]\n"
          ]
        }
      ]
    },
    {
      "cell_type": "markdown",
      "source": [
        "**F.**  \n",
        "files=[\"cat1.png\",\"dog1.png\",\"cat2.png\",\"cat3.png\",\"cat4.png\",\"dog2.png\",\"cat5.png\",\"cat6.png\",\"dog3.png\"],\n",
        "\n",
        " generate two lists of cat and dog image files"
      ],
      "metadata": {
        "id": "1o5tANb6lVwY"
      }
    },
    {
      "cell_type": "code",
      "source": [
        "files=[\"cat1.png\",\"dog1.png\",\"cat2.png\",\"cat3.png\",\"cat4.png\",\"dog2.png\",\"cat5.png\",\"cat6.png\",\"dog3.png\"]\n",
        "\n",
        "cat_files = [file for file in files if 'cat' in file]\n",
        "dog_files = [file for file in files if 'dog' in file]\n",
        "\n",
        "print(\"Cat files:\", cat_files)\n",
        "print(\"Dog files:\", dog_files)\n"
      ],
      "metadata": {
        "colab": {
          "base_uri": "https://localhost:8080/"
        },
        "id": "caWNvKEyltiG",
        "outputId": "647fe32d-2c66-454b-983e-1d52b1ed63a8"
      },
      "execution_count": 29,
      "outputs": [
        {
          "output_type": "stream",
          "name": "stdout",
          "text": [
            "Cat files: ['cat1.png', 'cat2.png', 'cat3.png', 'cat4.png', 'cat5.png', 'cat6.png']\n",
            "Dog files: ['dog1.png', 'dog2.png', 'dog3.png']\n"
          ]
        }
      ]
    },
    {
      "cell_type": "code",
      "source": [
        "files=[\"cat1.png\",\"dog1.png\",\"cat2.png\",\"cat3.png\",\"cat4.png\",\"dog2.png\",\"cat5.png\",\"cat6.png\",\"dog3.png\"]\n",
        "\n",
        "cat_files = []\n",
        "dog_files = []\n",
        "\n",
        "for file in files:\n",
        "    if 'cat' in file:\n",
        "        cat_files.append(file)\n",
        "    elif 'dog' in file:\n",
        "        dog_files.append(file)\n",
        "\n",
        "print(\"List of cat image files:\", cat_files)\n",
        "print(\"List of dog image files:\", dog_files)\n"
      ],
      "metadata": {
        "colab": {
          "base_uri": "https://localhost:8080/"
        },
        "id": "MvkS-V4VmTdP",
        "outputId": "5d06829c-fee3-44e2-da76-519d6c338744"
      },
      "execution_count": 30,
      "outputs": [
        {
          "output_type": "stream",
          "name": "stdout",
          "text": [
            "List of cat image files: ['cat1.png', 'cat2.png', 'cat3.png', 'cat4.png', 'cat5.png', 'cat6.png']\n",
            "List of dog image files: ['dog1.png', 'dog2.png', 'dog3.png']\n"
          ]
        }
      ]
    },
    {
      "cell_type": "markdown",
      "source": [
        "**G.** Use appropriate comprehension method to generate the complementary dna template using information form 8.b"
      ],
      "metadata": {
        "id": "fUXr9hY-msOu"
      }
    },
    {
      "cell_type": "code",
      "source": [
        "dna_template = 'AATCCGAAAATTCGGGAATTTTCGCGT'\n",
        "\n",
        "# define a dictionary to map each nucleotide to its complement\n",
        "complement = {'A': 'T', 'T': 'A', 'C': 'G', 'G': 'C'}\n",
        "\n",
        "# use a list comprehension to generate the complementary DNA template\n",
        "complementary_template = ''.join([complement[base] for base in dna_template])\n",
        "\n",
        "# print the result\n",
        "print(complementary_template)\n"
      ],
      "metadata": {
        "colab": {
          "base_uri": "https://localhost:8080/"
        },
        "id": "J2JA0RBWqXOu",
        "outputId": "b053cbaa-86ab-4166-cf55-210c6985dd08"
      },
      "execution_count": 35,
      "outputs": [
        {
          "output_type": "stream",
          "name": "stdout",
          "text": [
            "TTAGGCTTTTAAGCCCTTAAAAGCGCA\n"
          ]
        }
      ]
    },
    {
      "cell_type": "markdown",
      "source": [
        "**H.** Run the following command in your notebook. What could be the reason the list comprehension is more elegant?"
      ],
      "metadata": {
        "id": "fSGq8o4SpLa-"
      }
    },
    {
      "cell_type": "code",
      "source": [
        "# Using for loop\n",
        "import time\n",
        "start_time= time.time()\n",
        "nums = []\n",
        "for i in range(1, 10000001):\n",
        "  nums.append(i**2)\n",
        "\n",
        "end_time= time.time()\n",
        "\n",
        "for_loop_time = end_time - start_time\n",
        "\n",
        "# Using list comprehenston\n",
        "start_time = time.time()\n",
        "\n",
        "nums = [i**2 for i in range(1, 10000001)]\n",
        "\n",
        "end_time= time.time()\n",
        "list_comp_item = end_time - start_time\n",
        "\n",
        "print(\"For Loop time:\",for_loop_time)\n",
        "print(\"List Comprehension time:\", list_comp_item)"
      ],
      "metadata": {
        "colab": {
          "base_uri": "https://localhost:8080/"
        },
        "id": "BpPeFYXCqkh2",
        "outputId": "fd3087e8-7550-4619-92ce-1a1baf6a4985"
      },
      "execution_count": 36,
      "outputs": [
        {
          "output_type": "stream",
          "name": "stdout",
          "text": [
            "For Loop time: 3.861538887023926\n",
            "List Comprehension time: 2.711280584335327\n"
          ]
        }
      ]
    },
    {
      "cell_type": "markdown",
      "source": [
        "The reason the list comprehension is more elegant is that:\n",
        "1. **it simplifies the code** and makes it more readable. \n",
        "2. It also allows you to create a list in a **single line of code**, rather than having to create an empty list and then append to it using a for loop.\n",
        "3. Additionally, list comprehensions are faster than for loops for **simple operations** like this because they **are optimized for performance**.\n",
        " This is why the list comprehension runs faster than the for loop in the code example given."
      ],
      "metadata": {
        "id": "V-Ji3hUct1L3"
      }
    }
  ]
}