{
  "nbformat": 4,
  "nbformat_minor": 0,
  "metadata": {
    "colab": {
      "provenance": []
    },
    "kernelspec": {
      "name": "python3",
      "display_name": "Python 3"
    },
    "language_info": {
      "name": "python"
    }
  },
  "cells": [
    {
      "cell_type": "markdown",
      "source": [
        "#Python Basics: Iters and generators,regex, comprehension\n"
      ],
      "metadata": {
        "id": "hho-Ti2ZVnf0"
      }
    },
    {
      "cell_type": "markdown",
      "source": [
        "#Iterators"
      ],
      "metadata": {
        "id": "Tcm918-Heha2"
      }
    },
    {
      "cell_type": "code",
      "execution_count": null,
      "metadata": {
        "colab": {
          "base_uri": "https://localhost:8080/",
          "height": 287
        },
        "id": "f1vTGzo3KNoQ",
        "outputId": "25f59075-5184-4e98-8a1d-56bdb1d8d2c8"
      },
      "outputs": [
        {
          "output_type": "stream",
          "name": "stdout",
          "text": [
            "5\n",
            "6\n",
            "4\n",
            "10\n"
          ]
        },
        {
          "output_type": "error",
          "ename": "StopIteration",
          "evalue": "ignored",
          "traceback": [
            "\u001b[0;31m---------------------------------------------------------------------------\u001b[0m",
            "\u001b[0;31mStopIteration\u001b[0m                             Traceback (most recent call last)",
            "\u001b[0;32m<ipython-input-2-ed9022498291>\u001b[0m in \u001b[0;36m<module>\u001b[0;34m\u001b[0m\n\u001b[1;32m     11\u001b[0m \u001b[0;31m#Fourth element\u001b[0m\u001b[0;34m\u001b[0m\u001b[0;34m\u001b[0m\u001b[0m\n\u001b[1;32m     12\u001b[0m \u001b[0mprint\u001b[0m\u001b[0;34m(\u001b[0m\u001b[0mnext\u001b[0m\u001b[0;34m(\u001b[0m\u001b[0miterator\u001b[0m\u001b[0;34m)\u001b[0m\u001b[0;34m)\u001b[0m\u001b[0;34m\u001b[0m\u001b[0;34m\u001b[0m\u001b[0m\n\u001b[0;32m---> 13\u001b[0;31m \u001b[0mprint\u001b[0m\u001b[0;34m(\u001b[0m\u001b[0mnext\u001b[0m\u001b[0;34m(\u001b[0m\u001b[0miterator\u001b[0m\u001b[0;34m)\u001b[0m\u001b[0;34m)\u001b[0m\u001b[0;34m\u001b[0m\u001b[0;34m\u001b[0m\u001b[0m\n\u001b[0m\u001b[1;32m     14\u001b[0m \u001b[0;34m\u001b[0m\u001b[0m\n",
            "\u001b[0;31mStopIteration\u001b[0m: "
          ]
        }
      ],
      "source": [
        "#define a list\n",
        "my_list = [5,6,4,10]\n",
        "#create an iterator from the list \n",
        "iterator = iter(my_list)\n",
        "#First element of the iterator\n",
        "print(next(iterator))\n",
        "# second element\n",
        "print(next(iterator))\n",
        "# Third element\n",
        "print(next(iterator))\n",
        "#Fourth element\n",
        "print(next(iterator))\n",
        "print(next(iterator)) # since no data it will raise a StopIteration\n",
        "\n"
      ]
    },
    {
      "cell_type": "code",
      "source": [
        "import itertools\n",
        "from itertools import count\n",
        "#infinite Iterators\n",
        "# 1. Count\n",
        "#creating an infinite iterator\n",
        "infinite_iterator = count(1)\n",
        "#print 5 elements of the infinite iterator\n",
        "for i in range(5):\n",
        "  print((next)(infinite_iterator))"
      ],
      "metadata": {
        "colab": {
          "base_uri": "https://localhost:8080/"
        },
        "id": "1sw2H2ZUYASS",
        "outputId": "54d24981-6f6d-43b0-ee8c-305cadd79c44"
      },
      "execution_count": null,
      "outputs": [
        {
          "output_type": "stream",
          "name": "stdout",
          "text": [
            "1\n",
            "2\n",
            "3\n",
            "4\n",
            "5\n"
          ]
        }
      ]
    },
    {
      "cell_type": "code",
      "source": [
        "#cycle\n",
        "count =0\n",
        "for i in itertools.cycle('AB'):\n",
        "  if count >7:\n",
        "    break\n",
        "  else:\n",
        "    print(i,end =\" \")\n",
        "    count =count+1\n",
        "\n",
        "    "
      ],
      "metadata": {
        "colab": {
          "base_uri": "https://localhost:8080/"
        },
        "id": "QcUQcZinZZvB",
        "outputId": "343c5cec-c672-49df-8c78-84d5bc9cdbf7"
      },
      "execution_count": null,
      "outputs": [
        {
          "output_type": "stream",
          "name": "stdout",
          "text": [
            "A B A B A B A B "
          ]
        }
      ]
    },
    {
      "cell_type": "code",
      "source": [
        "# repeat\n",
        "#repeatdly prinitng the number\n",
        "print(\"printing the number repeatdly\")\n",
        "print(list(itertools.repeat(100,10)))\n"
      ],
      "metadata": {
        "colab": {
          "base_uri": "https://localhost:8080/"
        },
        "id": "0i2aKj6ddBgA",
        "outputId": "14aaba88-6e9b-4892-ee07-50809d0f4fc1"
      },
      "execution_count": null,
      "outputs": [
        {
          "output_type": "stream",
          "name": "stdout",
          "text": [
            "printing the number repeatdly\n",
            "[100, 100, 100, 100, 100, 100, 100, 100, 100, 100]\n"
          ]
        }
      ]
    },
    {
      "cell_type": "markdown",
      "source": [
        "Terminating iterators\n"
      ],
      "metadata": {
        "id": "mRaeDzx7eciZ"
      }
    },
    {
      "cell_type": "code",
      "source": [
        "#accumulate(iter,func)\n",
        "import operator\n",
        "#intialize\n",
        "my_list1 = [1,10,15,2]\n",
        "#using accumlate(), we print the successive summation of elements\n",
        "print(\"The sum  after each iteration is:\",end =\"\")\n",
        "print(list(itertools.accumulate(my_list1))) # if no function is passed addition takepalce as default\n",
        "#using accumlate(),we print the successive multiplication of elements\n",
        "print(\"The product after each iteration is:\",end =\"\")\n",
        "print(list(itertools.accumulate(my_list1,operator.mul)))\n"
      ],
      "metadata": {
        "colab": {
          "base_uri": "https://localhost:8080/"
        },
        "id": "B-ftjiaeepr1",
        "outputId": "6f98560b-0f63-4871-e1f9-c192c75e3bcc"
      },
      "execution_count": null,
      "outputs": [
        {
          "output_type": "stream",
          "name": "stdout",
          "text": [
            "The sum  after each iteration is:[1, 11, 26, 28]\n",
            "The product after each iteration is:[1, 10, 150, 300]\n"
          ]
        }
      ]
    },
    {
      "cell_type": "code",
      "source": [
        "#chain(iter1,iter2..)\n",
        "#intializing lists\n",
        "list2 = [1,10,15,2]\n",
        "list3 = [20,2,10,5]\n",
        "list4 = [11,3,4,5]\n",
        "#use of chain() we are prinitng all elements in the lists\n",
        "print(\"All the values in chain are:\",end =\"\")\n",
        "print(list(itertools.chain(list2,list3,list4)))\n",
        "\n"
      ],
      "metadata": {
        "colab": {
          "base_uri": "https://localhost:8080/"
        },
        "id": "sEvVa5Lggttz",
        "outputId": "6358fdcc-e61f-447e-bd7b-c67af34270ef"
      },
      "execution_count": null,
      "outputs": [
        {
          "output_type": "stream",
          "name": "stdout",
          "text": [
            "All the values in chain are:[1, 10, 15, 2, 20, 2, 10, 5, 11, 3, 4, 5]\n"
          ]
        }
      ]
    },
    {
      "cell_type": "code",
      "source": [
        "# chain.from_iterable()\n",
        "#intializing lists\n",
        "list2 = [1,10,15,2]\n",
        "list3 = [20,2,10,5]\n",
        "list4 = [11,3,4,5]\n",
        "list5 = [list2,list3,list4]\n",
        "#use chain.from_iterable() to print all elements of lists\n",
        "print(\"All the values in mentioned chain are:\",end =\"\")\n",
        "print (list(itertools.chain.from_iterable(list5)))\n",
        "\n"
      ],
      "metadata": {
        "colab": {
          "base_uri": "https://localhost:8080/"
        },
        "id": "SD_pi8TakIVU",
        "outputId": "3715fe69-362e-4f2d-a3bb-bd2d9fc0cf84"
      },
      "execution_count": null,
      "outputs": [
        {
          "output_type": "stream",
          "name": "stdout",
          "text": [
            "All the values in mentioned chain are:[1, 10, 15, 2, 20, 2, 10, 5, 11, 3, 4, 5]\n"
          ]
        }
      ]
    },
    {
      "cell_type": "code",
      "source": [
        "#compress(iter,selector)\n",
        "#using compress () selectively print data values\n",
        "print (\"The compressed values in string are :\",end =\"\")\n",
        "print (list(itertools.compress('BLUELIGHTREDLIGHT',[1,0,0,1,0,0,0,1,0,0,0,1,0,0,1,0,0,0])))"
      ],
      "metadata": {
        "colab": {
          "base_uri": "https://localhost:8080/"
        },
        "id": "demlm-DLyo_t",
        "outputId": "4cd72329-dc66-4e35-f8fb-6f3579c9b2ef"
      },
      "execution_count": null,
      "outputs": [
        {
          "output_type": "stream",
          "name": "stdout",
          "text": [
            "The compressed values in string are :['B', 'E', 'H', 'D', 'G']\n"
          ]
        }
      ]
    },
    {
      "cell_type": "code",
      "source": [
        "#dropwhile(func,seq)\n",
        "list3 = [10,2,7,80]\n",
        "#using dropwhile() to start displaying after condition is false\n",
        "print(\"The values after condition return false :\",end =\"\")\n",
        "print(list(itertools.dropwhile(lambda x: x % 2 == 0,list3)))\n"
      ],
      "metadata": {
        "colab": {
          "base_uri": "https://localhost:8080/"
        },
        "id": "OsuFaTNE0YBL",
        "outputId": "adefc302-470f-4c92-fb9c-92ef91f9ba7a"
      },
      "execution_count": null,
      "outputs": [
        {
          "output_type": "stream",
          "name": "stdout",
          "text": [
            "The values after condition return false :[7, 80]\n"
          ]
        }
      ]
    },
    {
      "cell_type": "code",
      "source": [
        "#filterfalse(func,seq)\n",
        "list3 = [10,2,7,80]\n",
        "#using filterfalse() to print  false values\n",
        "print(\"The values that return false to function are:\",end =\"\")\n",
        "print (list(itertools.filterfalse(lambda x : x %2 == 0, list3)))\n"
      ],
      "metadata": {
        "colab": {
          "base_uri": "https://localhost:8080/"
        },
        "id": "MpSBqBES0YEE",
        "outputId": "ba7f4467-8145-4bd8-b753-790eae737c41"
      },
      "execution_count": null,
      "outputs": [
        {
          "output_type": "stream",
          "name": "stdout",
          "text": [
            "The values that return false to function are:[7]\n"
          ]
        }
      ]
    },
    {
      "cell_type": "code",
      "source": [
        "#islice(iterable,start,stop,step)\n",
        "my_l = [2, 4, 5, 7, 8, 10, 20]\n",
        "# starts printing from 2nd index till 6th skiping 2\n",
        "print(\"The sliced value are:\",end =\"\")\n",
        "print (list(itertools.islice(my_l,1,6,2)))\n",
        "\n",
        "\n"
      ],
      "metadata": {
        "colab": {
          "base_uri": "https://localhost:8080/"
        },
        "id": "56BYS_ht0YHm",
        "outputId": "bdfe7125-3178-4cdc-d8c1-abc340bd770d"
      },
      "execution_count": null,
      "outputs": [
        {
          "output_type": "stream",
          "name": "stdout",
          "text": [
            "The sliced value are:[4, 7, 10]\n"
          ]
        }
      ]
    },
    {
      "cell_type": "code",
      "source": [
        "#starmap(func.,tuple list)\n",
        "#intialize the tuple list\n",
        "my_l1 = [ (1, 10, 5), (8, 4, 1), (5, 4, 9), (11, 10, 1) ]\n",
        "#using starmap() for selection value acc, to fucntion\n",
        "print(\"Values according to the given function are\",end=\"\")\n",
        "print(list(itertools.starmap(min,my_l1)))\n"
      ],
      "metadata": {
        "colab": {
          "base_uri": "https://localhost:8080/"
        },
        "id": "LMQp3FaICFyU",
        "outputId": "4ea32cbd-abc5-4b85-9215-26a070de9e13"
      },
      "execution_count": null,
      "outputs": [
        {
          "output_type": "stream",
          "name": "stdout",
          "text": [
            "Values according to the given function are[1, 1, 4, 1]\n"
          ]
        }
      ]
    },
    {
      "cell_type": "code",
      "source": [
        "#takewhile(func,iterable)\n",
        "my_l = [2, 4, 5, 7, 8, 10, 20]\n",
        "#using takewhile() to print values till the condition is false\n",
        "print(\"The list of values till 1st false value are:\",end=\"\")\n",
        "print(list(itertools.takewhile(lambda x:x%2 ==0,my_l)))\n"
      ],
      "metadata": {
        "colab": {
          "base_uri": "https://localhost:8080/"
        },
        "id": "2jdIIb_FDHNi",
        "outputId": "097ac17b-a70a-4b8f-bc6b-05cdd1c973bc"
      },
      "execution_count": null,
      "outputs": [
        {
          "output_type": "stream",
          "name": "stdout",
          "text": [
            "The list of values till 1st false value are:[2, 4]\n"
          ]
        }
      ]
    },
    {
      "cell_type": "code",
      "source": [
        "#tee(iterator,count)\n",
        "my_l = [2, 4, 5, 7, 8, 10, 20]\n",
        "#storing list in iterator\n",
        "iti = iter(my_l)\n",
        "#using tee() to make a list of iterators\n",
        "#making a list of 3 iterators having same values\n",
        "it = itertools.tee(iti,4)\n",
        "#printing the values of iterators\n",
        "print(\"The iterators are:\")\n",
        "for i in range (0,4):\n",
        "  print(list(it[i]))\n",
        "\n"
      ],
      "metadata": {
        "colab": {
          "base_uri": "https://localhost:8080/"
        },
        "id": "3Mru7_XOD5z5",
        "outputId": "0b5525b1-9afe-4292-b0e5-e870b0b443fe"
      },
      "execution_count": null,
      "outputs": [
        {
          "output_type": "stream",
          "name": "stdout",
          "text": [
            "The iterators are:\n",
            "[2, 4, 5, 7, 8, 10, 20]\n",
            "[2, 4, 5, 7, 8, 10, 20]\n",
            "[2, 4, 5, 7, 8, 10, 20]\n",
            "[2, 4, 5, 7, 8, 10, 20]\n"
          ]
        }
      ]
    },
    {
      "cell_type": "code",
      "source": [
        "#zip_longest(iterable1,iterable2,fillval)\n",
        "#using zip_longest to combine two iterables\n",
        "print(\"The combined values of iterable is:\")\n",
        "print(*(itertools.zip_longest(\"Sun shines\",\"Moon smiles\",fillvalue='_')))\n"
      ],
      "metadata": {
        "colab": {
          "base_uri": "https://localhost:8080/"
        },
        "id": "__2VLP6_FP8u",
        "outputId": "9b1d436a-5941-4a27-ac11-3b889f583f92"
      },
      "execution_count": null,
      "outputs": [
        {
          "output_type": "stream",
          "name": "stdout",
          "text": [
            "The combined values of iterable is:\n",
            "('S', 'M') ('u', 'o') ('n', 'o') (' ', 'n') ('s', ' ') ('h', 's') ('i', 'm') ('n', 'i') ('e', 'l') ('s', 'e') ('_', 's')\n"
          ]
        }
      ]
    },
    {
      "cell_type": "markdown",
      "source": [
        "combinatoric iterators.\n"
      ],
      "metadata": {
        "id": "F6OeEijVIMp5"
      }
    },
    {
      "cell_type": "code",
      "source": [
        "#product\n",
        "#product(iterables*, repeat=1)\n",
        "from itertools import product\n",
        "print(\"The cartesian product using repeat:\")\n",
        "print(list(product([1,2],repeat=2)))\n",
        "print()\n",
        "print(\"The cartesian product using repeat:\")\n",
        "print(list(product('AB',[1,2])))\n",
        "print()\n"
      ],
      "metadata": {
        "colab": {
          "base_uri": "https://localhost:8080/"
        },
        "id": "PC8dfS30D53a",
        "outputId": "85b53b74-3c40-4d61-fc6b-e49e6bf436dc"
      },
      "execution_count": null,
      "outputs": [
        {
          "output_type": "stream",
          "name": "stdout",
          "text": [
            "The cartesian product using repeat:\n",
            "[(1, 1), (1, 2), (2, 1), (2, 2)]\n",
            "\n",
            "The cartesian product using repeat:\n",
            "[('A', 1), ('A', 2), ('B', 1), ('B', 2)]\n",
            "\n"
          ]
        }
      ]
    },
    {
      "cell_type": "code",
      "source": [
        "#permutations\n",
        "#permutations(iterables*, group_size=None)\n",
        "from itertools import permutations\n",
        "print(\"All the permutations of the given list is:\")\n",
        "print(list(permutations([1,\"primi\"],2)))\n",
        "print()\n",
        "print(\"All the permutations of the given container is:\")\n",
        "print(list(permutations(range(3),2)))\n",
        "print()\n"
      ],
      "metadata": {
        "colab": {
          "base_uri": "https://localhost:8080/"
        },
        "id": "_IBIH7uwJgDx",
        "outputId": "08ddcdb2-1fcb-461c-fb80-5db95e716e87"
      },
      "execution_count": null,
      "outputs": [
        {
          "output_type": "stream",
          "name": "stdout",
          "text": [
            "All the permutations of the given list is:\n",
            "[(1, 'primi'), ('primi', 1)]\n",
            "\n",
            "All the permutations of the given container is:\n",
            "[(0, 1), (0, 2), (1, 0), (1, 2), (2, 0), (2, 1)]\n",
            "\n"
          ]
        }
      ]
    },
    {
      "cell_type": "code",
      "source": [
        "#Combinations():\n",
        "#combinations(iterables*, group_size)\n",
        "from itertools import combinations\n",
        "print(\"all the combination of list in sorted order without replacement:\")\n",
        "print(list(combinations(['A',2],2)))\n",
        "print()\n",
        "print(\"all the combination of list in sorted order without replacement:\")\n",
        "print(list(combinations(range(2),1)))"
      ],
      "metadata": {
        "colab": {
          "base_uri": "https://localhost:8080/"
        },
        "id": "gpCRlrEKJgF9",
        "outputId": "5f8afbed-6f99-48cb-cd40-a50fe0948be7"
      },
      "execution_count": null,
      "outputs": [
        {
          "output_type": "stream",
          "name": "stdout",
          "text": [
            "all the combination of list in sorted order without replacement:\n",
            "[('A', 2)]\n",
            "\n",
            "all the combination of list in sorted order without replacement:\n",
            "[(0,), (1,)]\n"
          ]
        }
      ]
    },
    {
      "cell_type": "code",
      "source": [
        "#combinations_with_replacement\n",
        "#combinations_with_replacement(iterables*, n=None)\n",
        "from itertools import combinations_with_replacement\n",
        "print(\"all the combination of list in sorted order with replacement:\")\n",
        "print(list(combinations_with_replacement(['A',2],2)))\n",
        "print()\n",
        "print(\"all the combination of list in sorted order with replacement:\")\n",
        "print(list(combinations_with_replacement(range(2),1)))\n",
        "print()\n",
        "\n"
      ],
      "metadata": {
        "colab": {
          "base_uri": "https://localhost:8080/"
        },
        "id": "89_eYpuUJgJS",
        "outputId": "9b6bb81b-3a9f-4dfe-f4e7-bbfb4a2e0703"
      },
      "execution_count": null,
      "outputs": [
        {
          "output_type": "stream",
          "name": "stdout",
          "text": [
            "all the combination of list in sorted order with replacement:\n",
            "[('A', 'A'), ('A', 2), (2, 2)]\n",
            "\n",
            "all the combination of list in sorted order with replacement:\n",
            "[(0,), (1,)]\n",
            "\n"
          ]
        }
      ]
    },
    {
      "cell_type": "code",
      "source": [
        "\n",
        "# Create an infinite generator that generates the fibonacci series\n",
        "#define a function \n",
        "def fib_series():\n",
        "  n1,n2 = 0,1 # current and the nesxt numbers in series\n",
        "  # generate series\n",
        "  while True:\n",
        "    yield n1 # returns each number in the series\n",
        "    n1 = n2\n",
        "    n2 = n1+n2\n",
        "f = fib_series()\n",
        "#printing the first 10 number in the series\n",
        "for i in range(10):\n",
        "  print(next(f))\n"
      ],
      "metadata": {
        "colab": {
          "base_uri": "https://localhost:8080/"
        },
        "id": "tr5VISHkJSje",
        "outputId": "39939e24-271e-439f-a4ed-b9005be5884e"
      },
      "execution_count": null,
      "outputs": [
        {
          "output_type": "stream",
          "name": "stdout",
          "text": [
            "0\n",
            "1\n",
            "2\n",
            "4\n",
            "8\n",
            "16\n",
            "32\n",
            "64\n",
            "128\n",
            "256\n"
          ]
        }
      ]
    },
    {
      "cell_type": "markdown",
      "source": [
        "# Regular expression:"
      ],
      "metadata": {
        "id": "vpvbyqD8VOn-"
      }
    },
    {
      "cell_type": "code",
      "source": [
        "#program to check that a string contains only a certain set of characters (in this case a-z, A-Z and 0-9)\n",
        "import re\n",
        "def is_allowed_specific_char(string):\n",
        "    charRe = re.compile(r'[^a-zA-Z0-9]')\n",
        "    string = charRe.search(string)\n",
        "    return not bool(string)\n",
        "\n",
        "print(is_allowed_specific_char(\"ABCDEFabcdef123450\")) \n",
        "print(is_allowed_specific_char(\"*&%@#!}{\"))\n",
        "\n",
        "\n"
      ],
      "metadata": {
        "id": "_VdheInhVptd",
        "colab": {
          "base_uri": "https://localhost:8080/"
        },
        "outputId": "10cdc1d7-584c-4c9b-bd93-d7964f55e98d"
      },
      "execution_count": 6,
      "outputs": [
        {
          "output_type": "stream",
          "name": "stdout",
          "text": [
            "True\n",
            "False\n"
          ]
        }
      ]
    },
    {
      "cell_type": "code",
      "source": [
        "#program that matches a word containing 'z\n",
        "import re\n",
        "def text_match(text):\n",
        "      patterns = '\\w*z.\\w*'\n",
        "      if re.search(patterns,text):\n",
        "           return 'Found a match'\n",
        "      else:\n",
        "           return ('Not matched')\n",
        "print(text_match(\"The quick brown for jumps over the lazy dog. \"))\n",
        "print(text_match(\"Python Excercises.\"))\n",
        "\n"
      ],
      "metadata": {
        "colab": {
          "base_uri": "https://localhost:8080/"
        },
        "id": "j04H_ev6WIqd",
        "outputId": "8229eba3-4257-4a2c-9fd4-9703642a5a42"
      },
      "execution_count": 7,
      "outputs": [
        {
          "output_type": "stream",
          "name": "stdout",
          "text": [
            "Found a match\n",
            "Not matched\n"
          ]
        }
      ]
    },
    {
      "cell_type": "code",
      "source": [
        "#program that matches a string that has an 'a' followed by anything ending in 'b'.\n",
        "import re\n",
        "def text_match(text):\n",
        "    patterns = 'a.*?b$'\n",
        "    if re.search(patterns,text):\n",
        "       return 'Found a match!'\n",
        "    else:\n",
        "        return('Not matched')\n",
        "print(text_match(\"aabbbbd\")) \n",
        "print(text_match(\"aabAbbbc\"))\n",
        "print(text_match(\"accddbbjjjb\"))\n"
      ],
      "metadata": {
        "id": "Xta2P5uTVpwW",
        "colab": {
          "base_uri": "https://localhost:8080/"
        },
        "outputId": "17f56cae-8d5f-4a87-af9f-e369544d4f3f"
      },
      "execution_count": 8,
      "outputs": [
        {
          "output_type": "stream",
          "name": "stdout",
          "text": [
            "Not matched\n",
            "Not matched\n",
            "Found a match!\n"
          ]
        }
      ]
    },
    {
      "cell_type": "code",
      "source": [
        "# program to find sequences of lowercase letters joined by an underscore.\n",
        "import re\n",
        "def text_match(text):\n",
        "   patterns = '^[a-z]+_[a-z]+$'\n",
        "   if re.search(patterns,text):\n",
        "       return 'Found a match!'\n",
        "   else :\n",
        "       return ('Not matched')\n",
        "print(text_match(\"aab_cbbbc\"))\n",
        "print(text_match(\"aab_Abbbc\"))\n",
        "print(text_match(\"Aaab_abbbc\"))\n"
      ],
      "metadata": {
        "id": "IKqV3o3WVpzG",
        "colab": {
          "base_uri": "https://localhost:8080/"
        },
        "outputId": "1dba8d69-87ba-428e-ad4b-a1e0a5a36e13"
      },
      "execution_count": 9,
      "outputs": [
        {
          "output_type": "stream",
          "name": "stdout",
          "text": [
            "Found a match!\n",
            "Not matched\n",
            "Not matched\n"
          ]
        }
      ]
    },
    {
      "cell_type": "code",
      "source": [
        "#Python program to separate and print the numbers and their position in a given string.\n",
        "import re\n",
        "#input a text\n",
        "text = \"The following example creates an Arraylist with a capacity of 50 elements.Four elements are then added to the ArrayList and the ArrayList is trimmed accordingly.\"\n",
        "for m in re.finditer(\"\\d+\",text):\n",
        "  print(m.group(0))\n",
        "  print(\"Index position :\",m.start())\n"
      ],
      "metadata": {
        "id": "OmkkE36AVp1u",
        "colab": {
          "base_uri": "https://localhost:8080/"
        },
        "outputId": "25fe018a-3f8c-4457-a0ab-e14c9322ff45"
      },
      "execution_count": 10,
      "outputs": [
        {
          "output_type": "stream",
          "name": "stdout",
          "text": [
            "50\n",
            "Index position : 62\n"
          ]
        }
      ]
    },
    {
      "cell_type": "code",
      "source": [
        "#program to remove words from a string of length between 1 and a given number.\n",
        "import re\n",
        "text = \"The quick brown fox jumps over the lazy dog.\"\n",
        "# remove words between 1 and 3\n",
        "shortword = re.compile(r'\\W*\\b\\w{1,3}\\b')\n",
        "print(shortword.sub('', text))\n",
        "\n"
      ],
      "metadata": {
        "colab": {
          "base_uri": "https://localhost:8080/"
        },
        "id": "UoigeLAsa_Ep",
        "outputId": "9c66af39-38b7-4d03-ec6b-6484d0317050"
      },
      "execution_count": 12,
      "outputs": [
        {
          "output_type": "stream",
          "name": "stdout",
          "text": [
            " quick brown jumps over lazy.\n"
          ]
        }
      ]
    },
    {
      "cell_type": "code",
      "source": [],
      "metadata": {
        "id": "6o4UR0c3Vp5O"
      },
      "execution_count": null,
      "outputs": []
    },
    {
      "cell_type": "markdown",
      "source": [
        "# Comprehension:"
      ],
      "metadata": {
        "id": "oWtyLLg5nrHJ"
      }
    },
    {
      "cell_type": "code",
      "source": [
        "#\tWrite a multiplication table of any given number in a list using list comprehension\n",
        "n = int(input(\"Enter a number\"))\n",
        "mul_tab = [n*i for i in range(1,11)]\n",
        "print(mul_tab)"
      ],
      "metadata": {
        "colab": {
          "base_uri": "https://localhost:8080/"
        },
        "id": "q7LQIC_PnDhJ",
        "outputId": "0bd94efb-3159-45a5-bf07-6921e3fe5fae"
      },
      "execution_count": null,
      "outputs": [
        {
          "output_type": "stream",
          "name": "stdout",
          "text": [
            "Enter a number2\n",
            "[2, 4, 6, 8, 10, 12, 14, 16, 18, 20]\n"
          ]
        }
      ]
    },
    {
      "cell_type": "code",
      "source": [
        "# Find all numbers from 1 to 500 that has 5 in them\n",
        "result = [x for x in range(0,500) if '5' in str(x)]\n",
        "print(result)"
      ],
      "metadata": {
        "colab": {
          "base_uri": "https://localhost:8080/"
        },
        "id": "qCswEiNf8Txy",
        "outputId": "7abccba1-8723-4597-f789-37252ef34a10"
      },
      "execution_count": null,
      "outputs": [
        {
          "output_type": "stream",
          "name": "stdout",
          "text": [
            "[5, 15, 25, 35, 45, 50, 51, 52, 53, 54, 55, 56, 57, 58, 59, 65, 75, 85, 95, 105, 115, 125, 135, 145, 150, 151, 152, 153, 154, 155, 156, 157, 158, 159, 165, 175, 185, 195, 205, 215, 225, 235, 245, 250, 251, 252, 253, 254, 255, 256, 257, 258, 259, 265, 275, 285, 295, 305, 315, 325, 335, 345, 350, 351, 352, 353, 354, 355, 356, 357, 358, 359, 365, 375, 385, 395, 405, 415, 425, 435, 445, 450, 451, 452, 453, 454, 455, 456, 457, 458, 459, 465, 475, 485, 495]\n"
          ]
        }
      ]
    },
    {
      "cell_type": "code",
      "source": [
        "# generate the list of non-string values\n",
        "items = [\"apple\",True,10,\"banana\",20,30,4.0,\"grapes\",\"laptop\",\"phone\", False,0]\n",
        "items\n",
        "new_items = [x for x in items if type(x)!= str]\n",
        "print(new_items)"
      ],
      "metadata": {
        "id": "N6IbqDpR8UB9",
        "colab": {
          "base_uri": "https://localhost:8080/"
        },
        "outputId": "973067b4-08f2-432e-d102-2507637675c6"
      },
      "execution_count": null,
      "outputs": [
        {
          "output_type": "stream",
          "name": "stdout",
          "text": [
            "[True, 10, 20, 30, 4.0, False, 0]\n"
          ]
        }
      ]
    },
    {
      "cell_type": "code",
      "source": [
        "#Generate the boolean True for numeric and False for non-numeric in above items list\n",
        "items = [\"apple\",True,10,\"banana\",20,30,4.0,\"grapes\",\"laptop\",\"phone\", False,0]\n",
        "items\n",
        "new_items = [True if isinstance(i,str) else False for i in items ] \n",
        "new_items"
      ],
      "metadata": {
        "id": "xF51dG638UFL",
        "colab": {
          "base_uri": "https://localhost:8080/"
        },
        "outputId": "653117da-d3d2-4c50-fc93-c515a4620e73"
      },
      "execution_count": null,
      "outputs": [
        {
          "output_type": "execute_result",
          "data": {
            "text/plain": [
              "[True, False, False, True, False, False, False, True, True, True, False, False]"
            ]
          },
          "metadata": {},
          "execution_count": 13
        }
      ]
    },
    {
      "cell_type": "code",
      "source": [
        "#generate two lists of cat and dog image files\n",
        "files=[\"cat1.png\",\"dog1.png\",\"cat2.png\",\"cat3.png\",\"cat4.png\",\"dog2.png\",\"cat5.png\",\"cat6.png\",\"dog3.png\"]\n",
        "cat_list =[x for x in files if \"cat\" in x ]\n",
        "dog_list = [x for x in files if \"dog\" in x]\n",
        "print(cat_list)\n",
        "print(dog_list)\n"
      ],
      "metadata": {
        "colab": {
          "base_uri": "https://localhost:8080/"
        },
        "id": "Aqlfcip2yr3C",
        "outputId": "8d4374b2-f300-4402-8bb6-58afe99f433b"
      },
      "execution_count": null,
      "outputs": [
        {
          "output_type": "stream",
          "name": "stdout",
          "text": [
            "['cat1.png', 'cat2.png', 'cat3.png', 'cat4.png', 'cat5.png', 'cat6.png']\n",
            "['dog1.png', 'dog2.png', 'dog3.png']\n"
          ]
        }
      ]
    },
    {
      "cell_type": "code",
      "source": [
        "#Use appropriate comprehension method to generate the complementary dna template \n",
        "# define the template and the mapping\n",
        "dna_template='AATCCGAAAATTCGGGAATTTTCGCGT'\n",
        "#dna_template\n",
        "mapper={\"T\":\"A\",\"A\":\"T\",\"G\":\"C\",\"C\":\"G\"}\n",
        "# mapping each base in the dna_template to comp_dna and iterates over each character in the dna_template\n",
        "comp_dna = ''.join([mapper[i] for i in dna_template])# join method helps to join list into  a string string\n",
        "print(comp_dna)"
      ],
      "metadata": {
        "colab": {
          "base_uri": "https://localhost:8080/"
        },
        "id": "srgBQgeNysD9",
        "outputId": "95fd92d0-eac8-490c-c7d2-7785fcb4ec05"
      },
      "execution_count": null,
      "outputs": [
        {
          "output_type": "stream",
          "name": "stdout",
          "text": [
            "TTAGGCTTTTAAGCCCTTAAAAGCGCA\n"
          ]
        }
      ]
    },
    {
      "cell_type": "code",
      "source": [
        "import time\n",
        "#using for loop\n",
        "start_time = time.time()\n",
        "nums = []\n",
        "for i in range (1,10000001):\n",
        "  nums.append(i**2)\n",
        "end_time = time.time()\n",
        "for_loop_time = end_time - start_time\n",
        "#using list comprehension\n",
        "start_time = time.time()\n",
        "nums =[i**2 for i in range(1,10000001)]\n",
        "end_time = time.time()\n",
        "list_comp_time = end_time - start_time\n",
        "print(\"For Loop time:\", for_loop_time)\n",
        "print(\"List comprehension\",list_comp_time)"
      ],
      "metadata": {
        "colab": {
          "base_uri": "https://localhost:8080/"
        },
        "id": "56pH9T0jysHh",
        "outputId": "2eafbc5b-70a7-4390-e8e2-d35170bc9639"
      },
      "execution_count": null,
      "outputs": [
        {
          "output_type": "stream",
          "name": "stdout",
          "text": [
            "For Loop time: 4.2482194900512695\n",
            "List comprehension 3.5263712406158447\n"
          ]
        }
      ]
    },
    {
      "cell_type": "markdown",
      "source": [
        "As it is clear that list comprehension is more efficient in both computation as well in the coding space,Also from the above we could analyze the time and it is clear that list comprehension is quite faster than the loop.\n"
      ],
      "metadata": {
        "id": "mGD-cD1M_LHv"
      }
    }
  ]
}