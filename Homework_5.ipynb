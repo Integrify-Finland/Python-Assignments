{
 "cells": [
  {
   "cell_type": "markdown",
   "id": "7e9be800",
   "metadata": {},
   "source": [
    "## 1. Create a class and name it Z-test: "
   ]
  },
  {
   "cell_type": "code",
   "execution_count": 1,
   "id": "da36de0d",
   "metadata": {},
   "outputs": [],
   "source": [
    "import numpy as np\n",
    "import scipy.stats as st\n",
    "\n",
    "class Z_test:\n",
    "    def __init__(self, sample=[1], pop_mean=1, pop_std=1, alpha=0.05):\n",
    "        self.sample = np.array(sample)\n",
    "        self.pop_mean = pop_mean\n",
    "        self.pop_std = pop_std\n",
    "        self.alpha = alpha\n",
    "        \n",
    "#     def __str__(self):\n",
    "#         return 'one sample z-test'\n",
    "        \n",
    "#     def set_sample(self, sample: iter):\n",
    "#         self.sample = np.array(sample)\n",
    "        \n",
    "#     def set_population(self, pop_mean, pop_std):\n",
    "#         self.pop_mean = pop_mean\n",
    "#         self.pop_std = pop_std\n",
    "    \n",
    "#     def set_alpha(self, alpha):\n",
    "#         self.alpha = alpha\n",
    "        \n",
    "    def get_statistic(self):\n",
    "        return (np.mean(self.sample) - self.pop_mean) / (self.pop_std / self.sample.size ** 0.5)\n",
    "    \n",
    "    def get_critical_values(self):\n",
    "        return {'left':st.norm.ppf(self.alpha), \n",
    "                'right':st.norm.ppf(1 - self.alpha), \n",
    "                'two-tailed':st.norm.ppf(1 - self.alpha / 2)}\n",
    "    "
   ]
  },
  {
   "cell_type": "markdown",
   "id": "84568e44",
   "metadata": {},
   "source": [
    "## 2. Create a class and name it T-test this class includes:\n",
    "- One-sample: df = n - 1\n",
    "- Two-sample: df = n1 + n2 - 2\n",
    "- Paired t-test: df = n - 1\n",
    "(d bar: is the difference between the two samples\n",
    "Sd is the standard deviation of the difference between samples)"
   ]
  },
  {
   "cell_type": "code",
   "execution_count": 2,
   "id": "ca40caae",
   "metadata": {},
   "outputs": [],
   "source": [
    "class T_test:\n",
    "    def __init__(self, sample1=[1], sample2=[1], pop_mean=1, alpha=0.05):\n",
    "        self.sample1 = np.array(sample1)\n",
    "        self.sample2 = np.array(sample2)\n",
    "        self.pop_mean = pop_mean\n",
    "        self.alpha = alpha\n",
    "        \n",
    "#     def __str__(self):\n",
    "#         return 't-tests: one-sample, two-samples and paired'\n",
    "        \n",
    "#     def set_sample(self, sample: iter):\n",
    "#         self.sample = np.array(sample)\n",
    "        \n",
    "#     def set_population(self, pop_mean):\n",
    "#         self.pop_mean = pop_mean\n",
    "    \n",
    "#     def set_alpha(self, alpha):\n",
    "#         self.alpha = alpha\n",
    "        \n",
    "    def get_statistic_one_sample(self):\n",
    "        return (np.mean(self.sample1) - self.pop_mean) / (np.std(self.sample1) / self.sample1.size ** 0.5)\n",
    "    \n",
    "    def get_statistic_two_samples(self):\n",
    "        return (np.mean(self.sample1) - np.mean(self.sample2)) / ((np.std(self.sample1, ddof=1) ** 2 / self.sample1.size + np.std(self.sample2, ddof=1) ** 2 / self.sample2.size) ** 0.5)\n",
    "    \n",
    "    def get_statistic_paired(self):\n",
    "        d_bar = self.sample1 - self.sample2\n",
    "        return np.mean(d_bar) / (np.std(d_bar, ddof=1) / self.sample1.size ** 0.5)\n",
    "    \n",
    "    def get_critical_values(self, test_type):\n",
    "        '''there are 3 test types: \"one-sample\", \"two-samples\" and \"paired\"'''\n",
    "        if test_type == \"two-samples\":\n",
    "            df = self.sample1.size + self.sample2.size - 2\n",
    "        else:\n",
    "            df = self.sample1.size - 1\n",
    "            \n",
    "        return {'left':st.t.ppf(self.alpha, df), \n",
    "                'right':st.t.ppf(1 - self.alpha, df), \n",
    "                'two-tailed':st.t.ppf(1 - self.alpha / 2, df)}"
   ]
  },
  {
   "cell_type": "markdown",
   "id": "67dfb8fa",
   "metadata": {},
   "source": [
    "## 3. Create a class and name it ANOVA it includes \n",
    "- One way \n",
    "- Two ways Using the scipy library"
   ]
  },
  {
   "cell_type": "code",
   "execution_count": 3,
   "id": "b48e51f7",
   "metadata": {},
   "outputs": [],
   "source": [
    "import pandas as pd\n",
    "import statsmodels.api as sm\n",
    "from statsmodels.formula.api import ols\n",
    "\n",
    "\n",
    "class ANOVA:\n",
    "    def __init__(self, *args, alpha=0.05):\n",
    "        self.samples = np.array(args)\n",
    "        self.alpha = alpha\n",
    "    \n",
    "#     def __str__(self):\n",
    "#         return 'ANOVA test: one-way and two-ways'\n",
    "        \n",
    "#     def set_alpha(self, alpha):\n",
    "#         self.alpha = alpha\n",
    "    \n",
    "    def get_one_way_statistic(self):\n",
    "        k = self.samples.shape[0]\n",
    "        n_T = self.samples.size\n",
    "        \n",
    "        SS_B = sum(np.sum(np.square(row.mean() - self.samples.mean()) * row.size) for row in self.samples)\n",
    "        df_B = k - 1\n",
    "        MS_B = SS_B / df_B\n",
    "        \n",
    "        SS_W = sum(np.sum(np.square(row - row.mean())) for row in self.samples)\n",
    "        df_W = n_T - k\n",
    "        MS_W = SS_W / df_W\n",
    "        \n",
    "        return MS_B / MS_W\n",
    "    \n",
    "    def get_critical_value(self):\n",
    "        k = self.samples.shape[0]\n",
    "        n_T = self.samples.size\n",
    "        return st.f.ppf(1-self.alpha, k-1, n_T-k)\n",
    "    \n",
    "    def get_two_way_statistics(self, keywords):\n",
    "        '''keys is the dictionary of following format{'var1':['A','B',..], \n",
    "            'var2':['A','B',..], 'var_independent':''}'''\n",
    "        \n",
    "        keys, values = zip(*keywords.items())\n",
    "        N = self.samples.size\n",
    "        df = pd.DataFrame({keys[0]: np.repeat(values[0], int(N / len(values[0]))),\n",
    "                   keys[1]: np.tile(np.repeat(values[1], int(N / len(values[0]) / len(values[1]))), len(values[0])),\n",
    "                   keys[2]: self.samples.flatten()})\n",
    "        \n",
    "        string = '{} ~ C({}) + C({}) + C({}):C({})'.format(keys[2], keys[0], keys[1], keys[0], keys[1])\n",
    "        model = ols(string, data=df).fit()\n",
    "        return sm.stats.anova_lm(model, typ=2)\n"
   ]
  },
  {
   "cell_type": "markdown",
   "id": "9bbd6af2",
   "metadata": {},
   "source": [
    "## 4. Create a class and name it Chi-Square"
   ]
  },
  {
   "cell_type": "code",
   "execution_count": 4,
   "id": "6a0da276",
   "metadata": {},
   "outputs": [],
   "source": [
    "class Chi_Square:\n",
    "    def __init__(self, sample, expected_ratio=None, alpha=0.05):\n",
    "        self.sample = np.array(sample)\n",
    "        self.alpha = alpha\n",
    "        if expected_ratio == None:\n",
    "            self.expected_ratio = np.array([np.sum(self.sample) / self.sample.size])\n",
    "        else: \n",
    "            self.expected_ratio = expected_ratio / np.sum(expected_ratio) * np.sum(self.sample)\n",
    "    \n",
    "    def get_statistic(self):\n",
    "        return sum(np.square(self.sample - self.expected_ratio) / self.expected_ratio)\n",
    "    \n",
    "    def get_critical_value(self):\n",
    "        return st.chi2.ppf(1-self.alpha, df=self.sample.size-1)\n",
    "            "
   ]
  },
  {
   "cell_type": "markdown",
   "id": "573a264d",
   "metadata": {},
   "source": [
    "## 5. Create a class and name it AB testing that inherits the two sample t-test  from the class T-test  "
   ]
  },
  {
   "cell_type": "code",
   "execution_count": 5,
   "id": "f88f27ae",
   "metadata": {},
   "outputs": [],
   "source": [
    "class AB:\n",
    "    def __init__(self, sample1, sample2):\n",
    "        self.t_test = T_test(sample1=sample1, sample2=sample2)\n",
    "    \n",
    "    def get_statistic(self):\n",
    "        return self.t_test.get_statistic_two_samples()\n",
    "    \n",
    "    def get_critical_values(self):\n",
    "        return self.t_test.get_critical_values(test_type=\"two-samples\")"
   ]
  },
  {
   "cell_type": "markdown",
   "id": "813970ed",
   "metadata": {},
   "source": [
    "# Use these classes to solve the following problems:\n"
   ]
  },
  {
   "cell_type": "markdown",
   "id": "18bcdacd",
   "metadata": {},
   "source": [
    "## 1. Z-test:\n",
    "Suppose we are testing a new model of cell-phone and want to compare its bandwidth to the previous model.\n",
    "\n",
    "Sample = [4.186, 4.439, 4.781, 4.388, 4.947, 4.853, 4.889, 4.682, 4.428,  4.533, 4.557, 4.761, 4.491, 4.334, 4.83 , 4.268, 4.68 , 4.437, 5.382, 5.111, 5.096, 5.232, 5.033, 5.57 , 4.474, 4.789, 4.725, 4.84 , 4.817, 4.438, 4.754, 4.966, 4.285, 4.482, 4.396, 4.418, 4.514, 5.383, 5.264, 4.309, 5.058, 4.392, 4.788, 4.934, 4.967, 4.554, 4.42 , 5. , 5.126, 5.082, 4.944, 4.658]\n",
    "\n",
    "- State the null and alternative hypotheses.\n",
    "- Use the Z-test to determine whether the new model has a significantly different bandwidth 4.5 GHz from the previous model with a standard deviation of 0.6 GHz, using a significance level of 0.05.\n",
    "- Interpret the results\n"
   ]
  },
  {
   "cell_type": "code",
   "execution_count": 6,
   "id": "de0dfb6a",
   "metadata": {},
   "outputs": [
    {
     "name": "stdout",
     "output_type": "stream",
     "text": [
      "z statistic : 2.9318216621320863\n",
      "z critical value two-tailed : 1.959963984540054\n",
      "H1 : New model cell phone bandwith is different from the old one\n"
     ]
    }
   ],
   "source": [
    "Sample = [4.186, 4.439, 4.781, 4.388, 4.947, 4.853, 4.889, 4.682, 4.428, 4.533, 4.557, 4.761, 4.491, 4.334, 4.83 , 4.268, 4.68 , 4.437, 5.382, 5.111, 5.096, 5.232, 5.033, 5.57 , 4.474, 4.789, 4.725, 4.84 , 4.817, 4.438, 4.754, 4.966, 4.285, 4.482, 4.396, 4.418, 4.514, 5.383, 5.264, 4.309, 5.058, 4.392, 4.788, 4.934, 4.967, 4.554, 4.42 , 5. , 5.126, 5.082, 4.944, 4.658]\n",
    "H0 = 'New model cell phone bandwith is the same with the old one'\n",
    "H1 = 'New model cell phone bandwith is different from the old one'\n",
    "\n",
    "z_test1 = Z_test(sample=Sample, pop_mean=4.5, pop_std=0.6, alpha=0.05)\n",
    "statistic = z_test1.get_statistic()\n",
    "critical_2t = z_test1.get_critical_values()['two-tailed']\n",
    "print('z statistic :', statistic)\n",
    "print('z critical value two-tailed :', critical_2t)\n",
    "if statistic < critical_2t:\n",
    "    print('H0 :', H0)\n",
    "else:\n",
    "    print('H1 :', H1)\n"
   ]
  },
  {
   "cell_type": "markdown",
   "id": "e8118577",
   "metadata": {},
   "source": [
    "## 2. T-test\n",
    "### A\n",
    "**One sample T-test:** Suppose we have a new manufacturing process for producing aluminum cans, and we want to test whether the mean weight of the cans produced using this new process is significantly different from the target weight of 15 grams. We randomly sample 30 cans produced using the new process and measure their weights in grams. We obtain the following data: \n",
    "\n",
    "Sample = [14.8, 15.2, 15.1, 15.3, 15.0, 14.9, 15.2, 14.8, 15.1, 15.0, 14.9, 14.8, 15.2, 14.9, 15.0, 14.9, 15.1, 15.3, 15.0, 15.1, 14.8, 15.0, 15.2, 15.1, 15.3, 15.1, 15.0, 14.8, 15.2, 15.0]\n",
    "\n",
    "- State the null and alternative hypotheses.\n",
    "- Use the appropriate T-test to determine whether the mean weight of the produced cans is equal to the target weight of 15 grams, using a significance level of 0.05.\n",
    "- Interpret the results\n"
   ]
  },
  {
   "cell_type": "code",
   "execution_count": 7,
   "id": "a6d83858",
   "metadata": {},
   "outputs": [
    {
     "name": "stdout",
     "output_type": "stream",
     "text": [
      "one sample t statistic : 1.287746658813943\n",
      "one sample t critical value two-tailed : 2.0452296421327034\n",
      "H0 : Mean weight of the cans produced using this new process is NOT significantly different from 15\n"
     ]
    }
   ],
   "source": [
    "Sample = [14.8, 15.2, 15.1, 15.3, 15.0, 14.9, 15.2, 14.8, 15.1, 15.0, 14.9, 14.8, 15.2, 14.9, 15.0, 14.9, 15.1, 15.3, 15.0, 15.1, 14.8, 15.0, 15.2, 15.1, 15.3, 15.1, 15.0, 14.8, 15.2, 15.0]\n",
    "\n",
    "H0 = 'Mean weight of the cans produced using this new process is NOT significantly different from 15'\n",
    "H1 = 'Mean weight of the cans produced using this new process is significantly different from 15'\n",
    "\n",
    "t_test1 = T_test(sample1=Sample, pop_mean=15, alpha=0.05)\n",
    "\n",
    "statistic = t_test1.get_statistic_one_sample()\n",
    "critical_1s = t_test1.get_critical_values('one-sample')['two-tailed']\n",
    "print('one sample t statistic :', statistic)\n",
    "print('one sample t critical value two-tailed :', critical_1s)\n",
    "if -1 * critical_1s < statistic < critical_1s:\n",
    "    print('H0 :', H0)\n",
    "else:\n",
    "    print('H1 :', H1)"
   ]
  },
  {
   "cell_type": "markdown",
   "id": "f2dbc5b8",
   "metadata": {},
   "source": [
    "### B\n",
    "**Two Sample T-test:** Suppose a food company has developed a new flavor of potato chips and wants to compare it to the current best-selling flavor. The company randomly selects two groups of 20 customers each. The first group is given the new flavor of potato chips, while the second group is given the best-selling flavor. After trying the potato chips, each customer rates the flavor on a scale of 1 to 10. The following are the flavor ratings for the two groups:\n",
    "\n",
    "New flavor = [8, 7, 9, 6, 7, 8, 9, 7, 8, 7, 6, 8, 7, 9, 8, 7, 6, 9, 8, 7]\n",
    "Best selling flavor = [6, 7, 8, 6, 7, 6, 7, 6, 8, 7, 6, 7, 6, 8, 7, 6, 7, 8, 6, 7]\n",
    "\n",
    "- State the null and alternative hypotheses.\n",
    "- Use the appropriate T-test to determine whether there is a significant difference between the two groups or not, using a significance level of 0.05.\n",
    "- Interpret the results\n"
   ]
  },
  {
   "cell_type": "code",
   "execution_count": 8,
   "id": "eae2fbff",
   "metadata": {},
   "outputs": [
    {
     "name": "stdout",
     "output_type": "stream",
     "text": [
      "two samples t statistic : 2.6626213096882494\n",
      "two samples t critical value two-tailed : 2.024394164575136\n",
      "H1 : A new flavor of potato chips mean rating IS significantly different from current best-seller\n"
     ]
    }
   ],
   "source": [
    "New_flavor = [8, 7, 9, 6, 7, 8, 9, 7, 8, 7, 6, 8, 7, 9, 8, 7, 6, 9, 8, 7]\n",
    "Best_selling_flavor = [6, 7, 8, 6, 7, 6, 7, 6, 8, 7, 6, 7, 6, 8, 7, 6, 7, 8, 6, 7]\n",
    "\n",
    "H0 = 'A new flavor of potato chips mean rating IS NOT significantly different from current best-seller'\n",
    "H1 = 'A new flavor of potato chips mean rating IS significantly different from current best-seller'\n",
    "t_test2 = T_test(sample1=New_flavor, sample2=Best_selling_flavor, alpha=0.05)\n",
    "\n",
    "statistic = t_test2.get_statistic_two_samples()\n",
    "critical_2s = t_test2.get_critical_values('two-samples')['two-tailed']\n",
    "print('two samples t statistic :', statistic)\n",
    "print('two samples t critical value two-tailed :', critical_2s)\n",
    "if -1 * critical_2s < statistic < critical_2s:\n",
    "    print('H0 :', H0)\n",
    "else:\n",
    "    print('H1 :', H1)"
   ]
  },
  {
   "cell_type": "markdown",
   "id": "bb020d3d",
   "metadata": {},
   "source": [
    "### C\n",
    "**Paired T-test:** Suppose a company wants to evaluate a new training program for its employees. The company selects 20 employees and measures their productivity before and after the training program. The following are the productivity scores (number of tasks completed per hour) for each employee before and after the training:\n",
    "\n",
    "Before = [15, 18, 12, 10, 17, 16, 12, 14, 19, 18, 11, 13, 16, 17, 19, 14, 16, 13, 15, 12]\n",
    "After = [18, 20, 15, 13, 19, 18, 14, 16, 21, 20, 14, 16, 19, 20, 22, 16, 18, 15, 17, 14]\n",
    "\n",
    "- State the null and alternative hypotheses.\n",
    "- Use the appropriate T-test to determine whether the new training program has had an effect on employee productivity, with a significance level of 0.05."
   ]
  },
  {
   "cell_type": "code",
   "execution_count": 9,
   "id": "0a3ee8ce",
   "metadata": {},
   "outputs": [
    {
     "name": "stdout",
     "output_type": "stream",
     "text": [
      "paired t statistic : 21.354156504062622\n",
      "paired t critical value two-tailed : 2.093024054408263\n",
      "H1 : The mean of scores after IS significantly different from the mean of scores before\n"
     ]
    }
   ],
   "source": [
    "Before = [15, 18, 12, 10, 17, 16, 12, 14, 19, 18, 11, 13, 16, 17, 19, 14, 16, 13, 15, 12]\n",
    "After = [18, 20, 15, 13, 19, 18, 14, 16, 21, 20, 14, 16, 19, 20, 22, 16, 18, 15, 17, 14]\n",
    "\n",
    "H0 = 'The mean of scores after IS NOT significantly different from the mean of scores before'\n",
    "H1 = 'The mean of scores after IS significantly different from the mean of scores before'\n",
    "t_test3 = T_test(sample1=After, sample2=Before, alpha=0.05)\n",
    "\n",
    "statistic = t_test3.get_statistic_paired()\n",
    "critical_p = t_test3.get_critical_values('paired')['two-tailed']\n",
    "print('paired t statistic :', statistic)\n",
    "print('paired t critical value two-tailed :', critical_p)\n",
    "if -1 * critical_p < statistic < critical_p:\n",
    "    print('H0 :', H0)\n",
    "else:\n",
    "    print('H1 :', H1)"
   ]
  },
  {
   "cell_type": "markdown",
   "id": "0a70a48e",
   "metadata": {},
   "source": [
    "## 3. ANOVA Test\n",
    "### A\n",
    "**One-Way:** Suppose a company has three departments (A, B, and C) and wants to test whether there is a significant difference in salaries between the departments. The company selects 10 employees randomly from each department and records their salaries.\n",
    "\n",
    "Department A = [55, 60, 50, 58, 63, 62, 57, 56, 61, 59]\n",
    "Department B = [50, 52, 48, 49, 55, 53, 51, 54, 47, 50]\n",
    "Department C = [45, 43, 48, 50, 42, 47, 49, 46, 44, 48]\n",
    "\n",
    "- State the null and alternative hypotheses.\n",
    "- Use One-Way ANOVA-test to determine whether there is a significant difference in salaries between the three departments.\n",
    "- Interpret the results\n",
    "\n"
   ]
  },
  {
   "cell_type": "code",
   "execution_count": 10,
   "id": "e72f3f09",
   "metadata": {},
   "outputs": [
    {
     "name": "stdout",
     "output_type": "stream",
     "text": [
      "ANOVA 1-way statistic : 37.68181818181818\n",
      "ANOVA 1-way critical value : 3.3541308285291986\n",
      "H1 : One of the department means IS significantly different from the others\n"
     ]
    }
   ],
   "source": [
    "Department_A = [55, 60, 50, 58, 63, 62, 57, 56, 61, 59]\n",
    "Department_B = [50, 52, 48, 49, 55, 53, 51, 54, 47, 50]\n",
    "Department_C = [45, 43, 48, 50, 42, 47, 49, 46, 44, 48]\n",
    "\n",
    "H0 = 'All the department means DO NOT have significant difference'\n",
    "H1 = 'One of the department means IS significantly different from the others'\n",
    "\n",
    "anova1 = ANOVA(Department_A, Department_B, Department_C)\n",
    "\n",
    "statistic = anova1.get_one_way_statistic()\n",
    "critical_1w = anova1.get_critical_value()\n",
    "print('ANOVA 1-way statistic :', statistic)\n",
    "print('ANOVA 1-way critical value :', critical_1w)\n",
    "if statistic < critical_1w:\n",
    "    print('H0 :', H0)\n",
    "else:\n",
    "    print('H1 :', H1)\n"
   ]
  },
  {
   "cell_type": "markdown",
   "id": "cfda91f6",
   "metadata": {},
   "source": [
    "### B\n",
    "**Two-Way:** Suppose a company has three departments (A, B, and C) and wants to test whether there is a significant difference in salaries between the departments, while also considering the effect of gender. The company selects 10 employees randomly from each department and records their salaries and gender.\n",
    "\n",
    "Department A:\n",
    "    Male:   [55k, 60k, 50k, 58k, 63k]\n",
    "    Female: [62k, 57k, 56k, 61k, 59k]\n",
    "    \n",
    "Department B:\n",
    "    Male:   [50k, 52k, 48k, 49k, 55k]\n",
    "    Female: [53k, 51k, 54k, 47k, 50k]\n",
    "\n",
    "Department C:\n",
    "    Male:   [45k, 43k, 48k, 50k, 42k]\n",
    "    Female: 47k, 49k, 46k, 44k, 48k]\n",
    "\n",
    "- State the null and alternative hypotheses.\n",
    "- Use Two-Way ANOVA-test to determine whether there is a significant difference in salaries between the three departments.\n",
    "- Interpret the results\n"
   ]
  },
  {
   "cell_type": "code",
   "execution_count": 11,
   "id": "2144ed66",
   "metadata": {},
   "outputs": [
    {
     "name": "stdout",
     "output_type": "stream",
     "text": [
      "                             sum_sq    df          F        PR(>F)\n",
      "C(Department)            718.466667   2.0  35.104235  7.472321e-08\n",
      "C(Gender)                  8.533333   1.0   0.833876  3.702368e-01\n",
      "C(Department):C(Gender)    3.266667   2.0   0.159609  8.533743e-01\n",
      "Residual                 245.600000  24.0        NaN           NaN\n"
     ]
    }
   ],
   "source": [
    "data = [55, 60, 50, 58, 63, 62, 57, 56, 61, 59,\n",
    "50, 52, 48, 49, 55, 53, 51, 54, 47, 50,\n",
    "45, 43, 48, 50, 42, 47, 49, 46, 44, 48]\n",
    "\n",
    "anova2 = ANOVA(data)\n",
    "\n",
    "table = anova2.get_two_way_statistics(keywords={'Department':['A', 'B', 'C'],\n",
    "                                       'Gender': ['Male', 'Female'],\n",
    "                                       'Salary':''})\n",
    "print(table)"
   ]
  },
  {
   "cell_type": "markdown",
   "id": "1eeb96ed",
   "metadata": {},
   "source": [
    "                            sum_sq    df          F        PR(>F)                           \n",
    "C(Department)            718.466667   2.0  35.104235  7.472321e-08 **IS significantly different**\n",
    "C(Gender)                  8.533333   1.0   0.833876  3.702368e-01 ISN'T\n",
    "C(Department):C(Gender)    3.266667   2.0   0.159609  8.533743e-01 ISN'T\n",
    "Residual                 245.600000  24.0        NaN           NaN"
   ]
  },
  {
   "cell_type": "markdown",
   "id": "052b7fb8",
   "metadata": {},
   "source": [
    "## 4. Chi-Square: Suppose we have a hypothesis that a six-sided die is fair, with each side having an equal probability of landing face up. We roll the die 100 times and record the number of times each side appears: \n",
    "\n",
    "Side\n",
    "Observed Frequency\n",
    "18 20 16 22 14 10\n",
    "\n",
    "Given that the expected probabilities are equal to 1/6, Use the class CHi-Square to estimate the goodness-of-fit through chi-square test to determine whether the observed frequencies are consistent with the expected frequencies under the null hypothesis of a fair die.\n"
   ]
  },
  {
   "cell_type": "code",
   "execution_count": 12,
   "id": "c302ebeb",
   "metadata": {},
   "outputs": [
    {
     "name": "stdout",
     "output_type": "stream",
     "text": [
      "chi-squared statistic : 5.6\n",
      "chi-squared critical value : 11.070497693516351\n",
      "H0 : Observed frequencies ARE NOT significantly different from expected\n"
     ]
    }
   ],
   "source": [
    "Observed = [18, 20, 16, 22, 14, 10]\n",
    "\n",
    "H0 = 'Observed frequencies ARE NOT significantly different from expected'\n",
    "H1 = 'Observed frequencies ARE significantly different from expected'\n",
    "\n",
    "chi_squared1 = Chi_Square(sample=Observed)\n",
    "statistic = chi_squared1.get_statistic()\n",
    "critical_chi = chi_squared1.get_critical_value()\n",
    "print('chi-squared statistic :', statistic)\n",
    "print('chi-squared critical value :', critical_chi)\n",
    "\n",
    "if statistic < critical_chi:\n",
    "    print('H0 :', H0)\n",
    "else:\n",
    "    print('H1 :', H1)"
   ]
  },
  {
   "cell_type": "markdown",
   "id": "38082d9a",
   "metadata": {},
   "source": [
    "## 5. A/B testing: Suppose a company has launched a new flavor of soda and wants to test if it has a higher preference than the old flavor. The company conducts a survey with a sample of 30 customers, randomly split into two groups of 15. One group is given the old flavor of soda and the other group is given the new flavor of soda. Each participant rates their preference on a scale of 1 to 10.\n",
    "\n",
    "Old Flavor = [6, 7, 8, 5, 6, 7, 5, 8, 6, 7, 5, 6, 7, 6, 5]\n",
    "New Flavor = [8, 9, 7, 8, 9, 6, 7, 8, 7, 8, 7, 8, 9, 6, 8]\n",
    "\n",
    "- State the null and alternative hypotheses.\n",
    "- Use two sample t-test to determine whether there is a significant difference in preference between the old and new flavors of soda, with a significance level of 0.05\n",
    "- Interpret the results\n"
   ]
  },
  {
   "cell_type": "code",
   "execution_count": 13,
   "id": "651e85dc",
   "metadata": {},
   "outputs": [
    {
     "name": "stdout",
     "output_type": "stream",
     "text": [
      "two sample two tailed t statistic:  -3.815929867636064\n",
      "two sample two tailed t critical value : 2.048407141795244\n",
      "H1 : A new flavor of soda mean rating IS significantly different from the old\n"
     ]
    }
   ],
   "source": [
    "Old_Flavor = [6, 7, 8, 5, 6, 7, 5, 8, 6, 7, 5, 6, 7, 6, 5]\n",
    "New_Flavor = [8, 9, 7, 8, 9, 6, 7, 8, 7, 8, 7, 8, 9, 6, 8]\n",
    "\n",
    "H0 = 'A new flavor of soda mean rating IS NOT significantly different from the old'\n",
    "H1 = 'A new flavor of soda mean rating IS significantly different from the old'\n",
    "\n",
    "ab1 = AB(sample1=Old_Flavor, sample2=New_Flavor)\n",
    "\n",
    "statistic = ab1.get_statistic()\n",
    "critical_ab = ab1.get_critical_values()['two-tailed']\n",
    "print('two sample two tailed t statistic: ', statistic)\n",
    "print('two sample two tailed t critical value :', critical_ab)\n",
    "\n",
    "if -1 * critical_ab < statistic < critical_ab:\n",
    "    print('H0 :', H0)\n",
    "else:\n",
    "    print('H1 :', H1)"
   ]
  },
  {
   "cell_type": "markdown",
   "id": "5a8c0599",
   "metadata": {},
   "source": [
    "## That's all, thanks"
   ]
  }
 ],
 "metadata": {
  "kernelspec": {
   "display_name": "Python 3 (ipykernel)",
   "language": "python",
   "name": "python3"
  },
  "language_info": {
   "codemirror_mode": {
    "name": "ipython",
    "version": 3
   },
   "file_extension": ".py",
   "mimetype": "text/x-python",
   "name": "python",
   "nbconvert_exporter": "python",
   "pygments_lexer": "ipython3",
   "version": "3.9.10"
  }
 },
 "nbformat": 4,
 "nbformat_minor": 5
}
