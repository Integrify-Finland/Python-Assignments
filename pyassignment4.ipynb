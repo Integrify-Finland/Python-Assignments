{
 "cells": [
  {
   "cell_type": "markdown",
   "id": "0f99b85b",
   "metadata": {},
   "source": [
    "## Python Basics: Iters and generators,regex, comprehension"
   ]
  },
  {
   "cell_type": "markdown",
   "id": "67f1d3d0",
   "metadata": {},
   "source": [
    "### 1. Create a list apply iter method to it and run next method until you get StopIteration error"
   ]
  },
  {
   "cell_type": "code",
   "execution_count": 1,
   "id": "0d2773fc",
   "metadata": {},
   "outputs": [],
   "source": [
    "languages=[\"C\",\"C++\",\"Java\",\"Python\",\"C#\"]"
   ]
  },
  {
   "cell_type": "code",
   "execution_count": 2,
   "id": "a59a1ee3",
   "metadata": {},
   "outputs": [],
   "source": [
    "#use an iter to iterate through languages\n",
    "itr = iter(languages)"
   ]
  },
  {
   "cell_type": "code",
   "execution_count": 3,
   "id": "00badad8",
   "metadata": {},
   "outputs": [
    {
     "name": "stdout",
     "output_type": "stream",
     "text": [
      "<list_iterator object at 0x000001981FCAF340>\n"
     ]
    }
   ],
   "source": [
    "#printing the iterator object\n",
    "print(itr)"
   ]
  },
  {
   "cell_type": "code",
   "execution_count": 4,
   "id": "e3fb7ea5",
   "metadata": {},
   "outputs": [
    {
     "name": "stdout",
     "output_type": "stream",
     "text": [
      "C\n"
     ]
    }
   ],
   "source": [
    "#fetching the values of the list using next method of itr\n",
    "print(next(itr))"
   ]
  },
  {
   "cell_type": "code",
   "execution_count": 5,
   "id": "6846963f",
   "metadata": {},
   "outputs": [
    {
     "name": "stdout",
     "output_type": "stream",
     "text": [
      "C++\n"
     ]
    }
   ],
   "source": [
    "print(next(itr))"
   ]
  },
  {
   "cell_type": "code",
   "execution_count": 6,
   "id": "ce8d5ba4",
   "metadata": {},
   "outputs": [
    {
     "name": "stdout",
     "output_type": "stream",
     "text": [
      "Java\n"
     ]
    }
   ],
   "source": [
    "print(next(itr))"
   ]
  },
  {
   "cell_type": "code",
   "execution_count": 7,
   "id": "1deab4a9",
   "metadata": {},
   "outputs": [
    {
     "name": "stdout",
     "output_type": "stream",
     "text": [
      "Python\n"
     ]
    }
   ],
   "source": [
    "print(next(itr))"
   ]
  },
  {
   "cell_type": "code",
   "execution_count": 8,
   "id": "f3e331df",
   "metadata": {},
   "outputs": [
    {
     "name": "stdout",
     "output_type": "stream",
     "text": [
      "C#\n"
     ]
    }
   ],
   "source": [
    "print(next(itr))"
   ]
  },
  {
   "cell_type": "code",
   "execution_count": 9,
   "id": "99c4b03c",
   "metadata": {},
   "outputs": [
    {
     "ename": "StopIteration",
     "evalue": "",
     "output_type": "error",
     "traceback": [
      "\u001b[1;31m---------------------------------------------------------------------------\u001b[0m",
      "\u001b[1;31mStopIteration\u001b[0m                             Traceback (most recent call last)",
      "Cell \u001b[1;32mIn [9], line 1\u001b[0m\n\u001b[1;32m----> 1\u001b[0m \u001b[38;5;28mprint\u001b[39m(\u001b[38;5;28mnext\u001b[39m(itr))\n",
      "\u001b[1;31mStopIteration\u001b[0m: "
     ]
    }
   ],
   "source": [
    "#StopIteration error as it reached the last element\n",
    "print(next(itr))"
   ]
  },
  {
   "cell_type": "markdown",
   "id": "cdb23436",
   "metadata": {},
   "source": [
    "### 2. Import itertools in your notebook and create infinite iterators using count,cycle and and repeat methods. Refer https://docs.python.org/3/library/itertools.html"
   ]
  },
  {
   "cell_type": "code",
   "execution_count": 19,
   "id": "8a3d3829",
   "metadata": {},
   "outputs": [
    {
     "name": "stdout",
     "output_type": "stream",
     "text": [
      "10\n",
      "15\n",
      "20\n",
      "25\n",
      "30\n",
      "35\n",
      "40\n",
      "45\n"
     ]
    }
   ],
   "source": [
    "#itertools count method\n",
    "#count(start,stepvalue), creates infinite iterations\n",
    "\n",
    "import itertools\n",
    "\n",
    "for i in itertools.count(10,5):\n",
    "    if (i == 50):\n",
    "        break\n",
    "    else:\n",
    "        print(i)"
   ]
  },
  {
   "cell_type": "code",
   "execution_count": 22,
   "id": "1c66c17b",
   "metadata": {},
   "outputs": [
    {
     "name": "stdout",
     "output_type": "stream",
     "text": [
      "A\n",
      "B\n",
      "C\n",
      "D\n",
      "A\n",
      "B\n",
      "C\n",
      "D\n",
      "A\n",
      "B\n"
     ]
    }
   ],
   "source": [
    "#itertools cycle method\n",
    "#prints all values in order from the passed container. \n",
    "#It restarts printing from the beginning again when all elements are printed in a cyclic manner.\n",
    "\n",
    "import itertools\n",
    "\n",
    "count = 0\n",
    "for i in itertools.cycle('ABCD'):\n",
    "    if count >= 10 :\n",
    "        break\n",
    "    else:\n",
    "        print(i)\n",
    "        count += 1"
   ]
  },
  {
   "cell_type": "code",
   "execution_count": 24,
   "id": "d20bb423",
   "metadata": {},
   "outputs": [
    {
     "name": "stdout",
     "output_type": "stream",
     "text": [
      "repeat(10, 3)\n",
      "[10, 10, 10]\n"
     ]
    }
   ],
   "source": [
    "#repeat(val,num)\n",
    "#This iterator repeatedly prints the passed value an infinite number of times. \n",
    "#If the optional keyword num is mentioned, then it repeatedly prints num number of times.\n",
    "\n",
    "import itertools\n",
    "\n",
    "print(itertools.repeat(10,3))\n",
    "\n",
    "print(list(itertools.repeat(10,3)))"
   ]
  },
  {
   "cell_type": "markdown",
   "id": "4dc0542d",
   "metadata": {},
   "source": [
    "### Use methods from Iterators terminating on the shortest input sequence"
   ]
  },
  {
   "cell_type": "code",
   "execution_count": 8,
   "id": "603e3e11",
   "metadata": {},
   "outputs": [
    {
     "name": "stdout",
     "output_type": "stream",
     "text": [
      "The sum after each iteration is: \n",
      " \n",
      "[1, 3, 6, 10, 15]\n",
      "\n",
      " chain method\n",
      "['A', 'B', 'C', 'D', 'E', 'F', 'G', 'H', 'I']\n",
      "\n",
      " chain.fromiterable method\n",
      "['apple', 'grapes', 'banana', 'orange', 'carrot', 'onion', 'beetroot', 'sugar', 'salt']\n",
      "\n",
      " compress(iter, selector) method\n",
      "['A', 'C', 'E', 'F']\n",
      "\n",
      " dropwhile() method\n",
      "[6, 4, 1]\n",
      "\n",
      " filterfalse() method\n",
      "[0, 2, 4, 6, 8]\n",
      "\n",
      " islice() method\n",
      "['C', 'D', 'E', 'F', 'G']\n",
      "\n",
      " pairwise() method\n",
      "[('A', 'B'), ('B', 'C'), ('C', 'D'), ('D', 'E'), ('E', 'F'), ('F', 'G')]\n",
      "\n",
      " starmap() method\n",
      "[32, 9, 1000]\n",
      "\n",
      " takewhile() method\n",
      "[1, 4]\n",
      "\n",
      " zip_longest() method\n",
      "[('A', 'x'), ('B', 'y'), ('C', '-'), ('D', '-')]\n"
     ]
    }
   ],
   "source": [
    "#terminating iterators\n",
    "import itertools\n",
    "\n",
    "#accumulate\n",
    "print(\"The sum after each iteration is: \\n \")\n",
    "print(list(itertools.accumulate([1,2,3,4,5])))\n",
    "\n",
    "#chain\n",
    "print(\"\\n chain method\")\n",
    "print(list(itertools.chain('ABC','DEF','GHI')))\n",
    "\n",
    "fruits = ['apple','grapes','banana','orange']\n",
    "vegetables = ['carrot','onion','beetroot']\n",
    "groceries = ['sugar','salt']\n",
    "items =[fruits,vegetables,groceries]\n",
    "\n",
    "#chain.from_iterable\n",
    "print(\"\\n chain.fromiterable method\")\n",
    "print(list(itertools.chain.from_iterable(items)))\n",
    "\n",
    "#compress\n",
    "print(\"\\n compress(iter, selector) method\")\n",
    "print(list(itertools.compress('ABCDEF', [1,0,1,0,1,1])))\n",
    "\n",
    "#dropwhile\n",
    "print(\"\\n dropwhile() method\") #seq[n], seq[n+1], starting when pred fails\n",
    "print(list(itertools.dropwhile(lambda x: x<5, [1,4,6,4,1])))\n",
    "\n",
    "#filterfalse\n",
    "print(\"\\n filterfalse() method\") #elements of seq where pred(elem) is false\n",
    "print(list(itertools.filterfalse(lambda x: x%2, range(10))))\n",
    "\n",
    "#islice\n",
    "print(\"\\n islice() method\") #elements from seq[start:stop:step]\n",
    "print(list(itertools.islice('ABCDEFG', 2, None)))\n",
    "\n",
    "#pairwise\n",
    "print(\"\\n pairwise() method\") #(p[0], p[1]), (p[1], p[2])\n",
    "print(list(itertools.pairwise('ABCDEFG')))\n",
    "\n",
    "#starmap\n",
    "print(\"\\n starmap() method\") #func(*seq[0]), func(*seq[1]), …\n",
    "print(list(itertools.starmap(pow, [(2,5), (3,2), (10,3)])))\n",
    "\n",
    "#takewhile\n",
    "print(\"\\n takewhile() method\") #seq[0], seq[1], until pred fails\n",
    "print(list(itertools.takewhile(lambda x: x<5, [1,4,6,4,1])))\n",
    "\n",
    "#zip_longest\n",
    "print(\"\\n zip_longest() method\") #(p[0], q[0]), (p[1], q[1]), …\n",
    "print(list(itertools.zip_longest('ABCD', 'xy', fillvalue='-')))\n"
   ]
  },
  {
   "cell_type": "markdown",
   "id": "6e7ac764",
   "metadata": {},
   "source": [
    "### Use methods from Combinatoric iterator"
   ]
  },
  {
   "cell_type": "code",
   "execution_count": 42,
   "id": "b04f49bc",
   "metadata": {},
   "outputs": [
    {
     "name": "stdout",
     "output_type": "stream",
     "text": [
      "\n",
      " product() method\n",
      "[('A', 'A', 'A'), ('A', 'A', 'B'), ('A', 'A', 'C'), ('A', 'A', 'D'), ('A', 'B', 'A'), ('A', 'B', 'B'), ('A', 'B', 'C'), ('A', 'B', 'D'), ('A', 'C', 'A'), ('A', 'C', 'B'), ('A', 'C', 'C'), ('A', 'C', 'D'), ('A', 'D', 'A'), ('A', 'D', 'B'), ('A', 'D', 'C'), ('A', 'D', 'D'), ('B', 'A', 'A'), ('B', 'A', 'B'), ('B', 'A', 'C'), ('B', 'A', 'D'), ('B', 'B', 'A'), ('B', 'B', 'B'), ('B', 'B', 'C'), ('B', 'B', 'D'), ('B', 'C', 'A'), ('B', 'C', 'B'), ('B', 'C', 'C'), ('B', 'C', 'D'), ('B', 'D', 'A'), ('B', 'D', 'B'), ('B', 'D', 'C'), ('B', 'D', 'D'), ('C', 'A', 'A'), ('C', 'A', 'B'), ('C', 'A', 'C'), ('C', 'A', 'D'), ('C', 'B', 'A'), ('C', 'B', 'B'), ('C', 'B', 'C'), ('C', 'B', 'D'), ('C', 'C', 'A'), ('C', 'C', 'B'), ('C', 'C', 'C'), ('C', 'C', 'D'), ('C', 'D', 'A'), ('C', 'D', 'B'), ('C', 'D', 'C'), ('C', 'D', 'D'), ('D', 'A', 'A'), ('D', 'A', 'B'), ('D', 'A', 'C'), ('D', 'A', 'D'), ('D', 'B', 'A'), ('D', 'B', 'B'), ('D', 'B', 'C'), ('D', 'B', 'D'), ('D', 'C', 'A'), ('D', 'C', 'B'), ('D', 'C', 'C'), ('D', 'C', 'D'), ('D', 'D', 'A'), ('D', 'D', 'B'), ('D', 'D', 'C'), ('D', 'D', 'D')]\n"
     ]
    }
   ],
   "source": [
    "print(\"\\n product() method\") #cartesian product, equivalent to a nested for-loop\n",
    "print(list(itertools.product('ABCD', repeat=3)))\n"
   ]
  },
  {
   "cell_type": "code",
   "execution_count": 43,
   "id": "d0c9da65",
   "metadata": {},
   "outputs": [
    {
     "name": "stdout",
     "output_type": "stream",
     "text": [
      "\n",
      " permutations() method\n",
      "[('A', 'B'), ('A', 'C'), ('A', 'D'), ('B', 'A'), ('B', 'C'), ('B', 'D'), ('C', 'A'), ('C', 'B'), ('C', 'D'), ('D', 'A'), ('D', 'B'), ('D', 'C')]\n"
     ]
    }
   ],
   "source": [
    "print(\"\\n permutations() method\") #r-length tuples, all possible orderings, no repeated elements\n",
    "print(list(itertools.permutations('ABCD', 2)))"
   ]
  },
  {
   "cell_type": "code",
   "execution_count": 44,
   "id": "c165eed6",
   "metadata": {},
   "outputs": [
    {
     "name": "stdout",
     "output_type": "stream",
     "text": [
      "\n",
      " combinations() method\n",
      "[('A', 'B'), ('A', 'C'), ('A', 'D'), ('B', 'C'), ('B', 'D'), ('C', 'D')]\n"
     ]
    }
   ],
   "source": [
    "print(\"\\n combinations() method\") #r-length tuples, in sorted order, no repeated elements\n",
    "print(list(itertools.combinations('ABCD', 2)))\n"
   ]
  },
  {
   "cell_type": "code",
   "execution_count": 45,
   "id": "66f7c4c9",
   "metadata": {},
   "outputs": [
    {
     "name": "stdout",
     "output_type": "stream",
     "text": [
      "\n",
      " combinations_with_replacement() method\n",
      "[('A', 'A'), ('A', 'B'), ('A', 'C'), ('A', 'D'), ('B', 'B'), ('B', 'C'), ('B', 'D'), ('C', 'C'), ('C', 'D'), ('D', 'D')]\n"
     ]
    }
   ],
   "source": [
    "print(\"\\n combinations_with_replacement() method\") #r-length tuples, in sorted order, with repeated elements\n",
    "print(list(itertools.combinations_with_replacement('ABCD', 2)))"
   ]
  },
  {
   "cell_type": "code",
   "execution_count": 46,
   "id": "3e83ae93",
   "metadata": {},
   "outputs": [
    {
     "name": "stdout",
     "output_type": "stream",
     "text": [
      "2\n",
      "4\n",
      "8\n",
      "16\n",
      "32\n"
     ]
    }
   ],
   "source": [
    "#example of infinte generator\n",
    "# Program to print the Power of two up to the given number\n",
    "def PowerTwoGen( max=0 ):\n",
    "    n = 1\n",
    "    while n < max:\n",
    "        yield 2 ** n\n",
    "        n += 1\n",
    "\n",
    "a = PowerTwoGen(6)\n",
    "\n",
    "# Printing the values stored in a\n",
    "for i in a:\n",
    "    print(i)"
   ]
  },
  {
   "cell_type": "markdown",
   "id": "1e80159b",
   "metadata": {},
   "source": [
    "### Create an infinite generator that generates the fibonacci series"
   ]
  },
  {
   "cell_type": "code",
   "execution_count": 2,
   "id": "63a9c8a8",
   "metadata": {},
   "outputs": [
    {
     "name": "stdout",
     "output_type": "stream",
     "text": [
      "0, 1, 1, 2, 3, 5, 8, 13, 21, 34\n"
     ]
    }
   ],
   "source": [
    "def FibGen(a=0,b=1):\n",
    "    \"\"\"Infinite generator that generates the fibonocci series\"\"\"\n",
    "    while True:\n",
    "        yield a\n",
    "        a,b = b, a+b\n",
    "    \n",
    "f=FibGen()\n",
    "print(', '.join(str(next(f)) for _ in range(10)))"
   ]
  },
  {
   "cell_type": "markdown",
   "id": "25dc1f91",
   "metadata": {},
   "source": [
    "### Regular expression:"
   ]
  },
  {
   "cell_type": "code",
   "execution_count": 2,
   "id": "4fd18ce8",
   "metadata": {},
   "outputs": [],
   "source": [
    "import re"
   ]
  },
  {
   "cell_type": "code",
   "execution_count": 3,
   "id": "6991cd93",
   "metadata": {},
   "outputs": [
    {
     "name": "stdout",
     "output_type": "stream",
     "text": [
      "True\n",
      "False\n"
     ]
    }
   ],
   "source": [
    "\n",
    "def is_allowed_specific_char(string):\n",
    "    \"\"\"function to restrict the string to contain only lower case and upper case alphabets and digits 0-9\"\"\"\n",
    "    charRe = re.compile(r'[^a-zA-Z0-9]')\n",
    "    string = charRe.search(string)\n",
    "    return not bool(string)\n",
    "\n",
    "print(is_allowed_specific_char(\"ABCDEFabcdef123450\")) \n",
    "print(is_allowed_specific_char(\"*&%@#!}{\"))"
   ]
  },
  {
   "cell_type": "code",
   "execution_count": 5,
   "id": "d840779b",
   "metadata": {},
   "outputs": [
    {
     "name": "stdout",
     "output_type": "stream",
     "text": [
      "216.8.4.196\n"
     ]
    }
   ],
   "source": [
    "#removing leading zeros from an ip address\n",
    "import re\n",
    "ip = \"216.08.004.196\"\n",
    "string = re.sub('\\.[0]*', '.', ip)\n",
    "print(string)\n"
   ]
  },
  {
   "cell_type": "code",
   "execution_count": 6,
   "id": "cceaf687",
   "metadata": {},
   "outputs": [
    {
     "name": "stdout",
     "output_type": "stream",
     "text": [
      "[('2016', '09', '02')]\n"
     ]
    }
   ],
   "source": [
    "#extract year, month and date from an URL.\n",
    "def extract_date(url):\n",
    "        return re.findall(r'/(\\d{4})/(\\d{1,2})/(\\d{1,2})/', url)\n",
    "url1= \"https://www.washingtonpost.com/news/football-insider/wp/2016/09/02/odell-beckhams-fame-rests-on-one-stupid-little-ball-josh-norman-tells-author/\"\n",
    "print(extract_date(url1))"
   ]
  },
  {
   "cell_type": "code",
   "execution_count": 7,
   "id": "46178f0d",
   "metadata": {},
   "outputs": [
    {
     "name": "stdout",
     "output_type": "stream",
     "text": [
      "Orange\n",
      "[1, 2, 3, 4, 5]\n",
      "Java\n",
      "Python\n"
     ]
    }
   ],
   "source": [
    "\n",
    "def longest_item(*args):\n",
    "    \"\"\"function which returns the longest iterable object in the collection\"\"\"\n",
    "  return max(args, key = len)\n",
    " \n",
    "print(longest_item('Red', 'Green', 'Black', 'Orange'))\n",
    "print(longest_item([1, 2, 3], [1, 2, 3, 4], [1, 2, 3, 4, 5]))\n",
    "print(longest_item([1, 2, 3], 'Java'))\n",
    "print(longest_item({10, 100}, 'Python'))\n"
   ]
  },
  {
   "cell_type": "markdown",
   "id": "998ff426",
   "metadata": {},
   "source": [
    "### Comprehension"
   ]
  },
  {
   "cell_type": "markdown",
   "id": "cb6f23c2",
   "metadata": {},
   "source": [
    "#### Write a multiplication table of any given number in a list using list comprehension"
   ]
  },
  {
   "cell_type": "code",
   "execution_count": 12,
   "id": "1e26f676",
   "metadata": {},
   "outputs": [
    {
     "name": "stdout",
     "output_type": "stream",
     "text": [
      "[[1, 2, 3, 4, 5, 6, 7, 8, 9, 10], [2, 4, 6, 8, 10, 12, 14, 16, 18, 20], [3, 6, 9, 12, 15, 18, 21, 24, 27, 30], [4, 8, 12, 16, 20, 24, 28, 32, 36, 40], [5, 10, 15, 20, 25, 30, 35, 40, 45, 50]]\n"
     ]
    }
   ],
   "source": [
    "#[[i * j for i in range(x+1)] for j in range(y+1)]\n",
    "\n",
    "multi_list = [[ i * j for j in range(1,11)] for i in range(1,6)]\n",
    "print(multi_list)"
   ]
  },
  {
   "cell_type": "markdown",
   "id": "d0baba18",
   "metadata": {},
   "source": [
    "### iii. Find all numbers from 1 to 500 that has 5 in them"
   ]
  },
  {
   "cell_type": "code",
   "execution_count": 13,
   "id": "e0a3ab14",
   "metadata": {},
   "outputs": [],
   "source": [
    "def isDigitPresent(x, d):\n",
    "    #Break loop if d is present as digit\n",
    "    while (x > 0):\n",
    "        if (x % 10 == d):\n",
    "            break;\n",
    "        x = x / 10\n",
    " \n",
    "    #If loop broke\n",
    "    return (x > 0)"
   ]
  },
  {
   "cell_type": "code",
   "execution_count": 14,
   "id": "916c965f",
   "metadata": {},
   "outputs": [],
   "source": [
    "list_containing_five = [var for var in range(1,100) if isDigitPresent(var,5) > 0]"
   ]
  },
  {
   "cell_type": "code",
   "execution_count": 15,
   "id": "09609957",
   "metadata": {},
   "outputs": [
    {
     "name": "stdout",
     "output_type": "stream",
     "text": [
      "[5, 15, 25, 35, 45, 50, 55, 65, 75, 85, 95]\n"
     ]
    }
   ],
   "source": [
    "print(list_containing_five)"
   ]
  },
  {
   "cell_type": "markdown",
   "id": "89093f98",
   "metadata": {},
   "source": [
    "### Given the list of items=[\"apple\",True,10,\"banana\",20,30,4.0,\"grapes\",\"laptop\",\"phone\", False,0], generate the list of non-string values"
   ]
  },
  {
   "cell_type": "code",
   "execution_count": 23,
   "id": "d9ceede6",
   "metadata": {},
   "outputs": [
    {
     "name": "stdout",
     "output_type": "stream",
     "text": [
      "[True, 10, 20, 30, 4.0, False, 0]\n"
     ]
    }
   ],
   "source": [
    "#list of items\n",
    "item_list=[\"apple\",True,10,\"banana\",20,30,4.0,\"grapes\",\"laptop\",\"phone\", False,0]\n",
    "#extracting the non string items using list comprehension\n",
    "list_non_string = [var for var in item_list if type(var) != str]\n",
    "print(list_non_string)"
   ]
  },
  {
   "cell_type": "markdown",
   "id": "2c2361ae",
   "metadata": {},
   "source": [
    "### Generate the boolean True for numeric and False for non-numeric in above items list"
   ]
  },
  {
   "cell_type": "code",
   "execution_count": 31,
   "id": "4db6b154",
   "metadata": {},
   "outputs": [
    {
     "name": "stdout",
     "output_type": "stream",
     "text": [
      "[False, False, True, False, True, True, True, False, False, False, False, True]\n"
     ]
    }
   ],
   "source": [
    "import math\n",
    "list_numeric_bool = [True if type(var) == int or type(var) == float else False for var in item_list]\n",
    "\n",
    "#[x+1 if x >= 45 else x+5 for x in xs]\n",
    "print(list_numeric_bool)"
   ]
  },
  {
   "cell_type": "markdown",
   "id": "2ef45c0d",
   "metadata": {},
   "source": [
    "### files=[\"cat1.png\",\"dog1.png\",\"cat2.png\",\"cat3.png\",\"cat4.png\",\"dog2.png\",\"cat5.png\",\"cat6.png\",\"dog3.png\"], generate two lists of cat and dog image files"
   ]
  },
  {
   "cell_type": "code",
   "execution_count": 5,
   "id": "e564841e",
   "metadata": {},
   "outputs": [
    {
     "name": "stdout",
     "output_type": "stream",
     "text": [
      "The dogs list  ['dog1.png', 'dog2.png', 'dog3.png']\n",
      "The cats list  ['cat1.png', 'cat2.png', 'cat3.png', 'cat4.png', 'cat5.png', 'cat6.png']\n"
     ]
    }
   ],
   "source": [
    "fileslist = [\"cat1.png\",\"dog1.png\",\"cat2.png\",\"cat3.png\",\"cat4.png\",\"dog2.png\",\"cat5.png\",\"cat6.png\",\"dog3.png\"]\n",
    "#listofcats,listofdogs =[var for var, x i]\n",
    "\n",
    "listdogs = [var for var in fileslist if \"dog\" in var]\n",
    "listcats = [var for var in fileslist if \"cat\" in var]\n",
    "print(\"The dogs list \", listdogs)\n",
    "print(\"The cats list \",listcats)"
   ]
  },
  {
   "cell_type": "code",
   "execution_count": 35,
   "id": "54e58e89",
   "metadata": {},
   "outputs": [
    {
     "name": "stdout",
     "output_type": "stream",
     "text": [
      "For loop time:  90.91766667366028\n",
      "List comprehension time  290.15221762657166\n"
     ]
    }
   ],
   "source": [
    "import time\n",
    "\n",
    "#Using for loop\n",
    "start_time=time.time()\n",
    "\n",
    "nums=[]\n",
    "for i in range(1,100000001):\n",
    "    nums.append(i**2)\n",
    "    \n",
    "end_time=time.time()\n",
    "for_loop_time=end_time - start_time\n",
    "\n",
    "#Using list comprehension\n",
    "start_time = time.time()\n",
    "\n",
    "nums=[i**2 for i in range(1, 100000001)]\n",
    "\n",
    "end_time=time.time()\n",
    "list_comp_time = end_time - start_time\n",
    "\n",
    "print(\"For loop time: \",for_loop_time)\n",
    "print(\"List comprehension time \",list_comp_time)"
   ]
  },
  {
   "cell_type": "code",
   "execution_count": null,
   "id": "94a932b1",
   "metadata": {},
   "outputs": [],
   "source": [
    "#dna complementory using list comprehension"
   ]
  },
  {
   "cell_type": "code",
   "execution_count": 7,
   "id": "d0b66c34",
   "metadata": {},
   "outputs": [
    {
     "name": "stdout",
     "output_type": "stream",
     "text": [
      "The input DNA strand is: TTGGAACCTAGGGGT\n",
      "The reverse complement is: ACCCCTAGGTTCCAA\n"
     ]
    }
   ],
   "source": [
    "input_strand = \"TTGGAACCTAGGGGT\"\n",
    "reversed_strand = \"\"\n",
    "reverse_dict = {\"A\": \"T\", \"T\": \"A\", \"G\": \"C\", \"C\": \"G\"}\n",
    "temp = input_strand[::-1]\n",
    "complement_chars = [reverse_dict.get(character) for character in temp]\n",
    "reversed_strand = \"\".join(complement_chars)\n",
    "print(\"The input DNA strand is:\", input_strand)\n",
    "print(\"The reverse complement is:\", reversed_strand)\n"
   ]
  }
 ],
 "metadata": {
  "kernelspec": {
   "display_name": "Python 3 (ipykernel)",
   "language": "python",
   "name": "python3"
  },
  "language_info": {
   "codemirror_mode": {
    "name": "ipython",
    "version": 3
   },
   "file_extension": ".py",
   "mimetype": "text/x-python",
   "name": "python",
   "nbconvert_exporter": "python",
   "pygments_lexer": "ipython3",
   "version": "3.10.2"
  }
 },
 "nbformat": 4,
 "nbformat_minor": 5
}
