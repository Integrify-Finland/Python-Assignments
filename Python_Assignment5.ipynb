{
  "nbformat": 4,
  "nbformat_minor": 0,
  "metadata": {
    "colab": {
      "provenance": []
    },
    "kernelspec": {
      "name": "python3",
      "display_name": "Python 3"
    },
    "language_info": {
      "name": "python"
    }
  },
  "cells": [
    {
      "cell_type": "markdown",
      "source": [
        "Python OOP\n"
      ],
      "metadata": {
        "id": "OP5GvFs2AVpj"
      }
    },
    {
      "cell_type": "markdown",
      "source": [
        "**Everything in python is class and object. Let's verify that. Run the following code:**"
      ],
      "metadata": {
        "id": "SlwDbnVHi9h_"
      }
    },
    {
      "cell_type": "code",
      "source": [
        "a = 5\n",
        "b =\"some string\"\n",
        "print(type(a),type(b))\n"
      ],
      "metadata": {
        "colab": {
          "base_uri": "https://localhost:8080/"
        },
        "id": "dGe6ecDqhgY5",
        "outputId": "4d4ea5fb-b41c-41ba-f933-362705b9c046"
      },
      "execution_count": null,
      "outputs": [
        {
          "output_type": "stream",
          "name": "stdout",
          "text": [
            "<class 'int'> <class 'str'>\n"
          ]
        }
      ]
    },
    {
      "cell_type": "code",
      "source": [
        "def someFunction():\n",
        "  return"
      ],
      "metadata": {
        "id": "y45L6h35h0do"
      },
      "execution_count": null,
      "outputs": []
    },
    {
      "cell_type": "code",
      "source": [
        "class Someclass:\n",
        "  pass"
      ],
      "metadata": {
        "id": "8p-yFj6Zh7BO"
      },
      "execution_count": null,
      "outputs": []
    },
    {
      "cell_type": "code",
      "source": [
        "someList =[int,str,tuple,dict,list,print,someFunction,Someclass]\n",
        "for item in someList:\n",
        "  print(type(item))\n"
      ],
      "metadata": {
        "colab": {
          "base_uri": "https://localhost:8080/"
        },
        "id": "GbLXMiKXiB7a",
        "outputId": "ebf66ae6-1d3b-4208-c867-d16ba7eca81b"
      },
      "execution_count": null,
      "outputs": [
        {
          "output_type": "stream",
          "name": "stdout",
          "text": [
            "<class 'type'>\n",
            "<class 'type'>\n",
            "<class 'type'>\n",
            "<class 'type'>\n",
            "<class 'type'>\n",
            "<class 'builtin_function_or_method'>\n",
            "<class 'function'>\n",
            "<class 'type'>\n"
          ]
        }
      ]
    },
    {
      "cell_type": "markdown",
      "source": [
        "**Compare the result of step a and step b:**"
      ],
      "metadata": {
        "id": "7pI0cY3LjDBh"
      }
    },
    {
      "cell_type": "code",
      "source": [
        "#lets create an object of each in the list\n",
        "def funct():\n",
        "  return\n",
        "class Myclass:\n",
        "  pass\n",
        "anotherList =[int(),str(),tuple(),dict(),list(),print(),funct(),Myclass()]\n",
        "for item in anotherList:\n",
        "  print(type(item))\n"
      ],
      "metadata": {
        "colab": {
          "base_uri": "https://localhost:8080/"
        },
        "id": "BQgpVNNxiqTg",
        "outputId": "f58c8a4c-bdd9-43eb-d211-7720a00cb616"
      },
      "execution_count": null,
      "outputs": [
        {
          "output_type": "stream",
          "name": "stdout",
          "text": [
            "\n",
            "<class 'int'>\n",
            "<class 'str'>\n",
            "<class 'tuple'>\n",
            "<class 'dict'>\n",
            "<class 'list'>\n",
            "<class 'NoneType'>\n",
            "<class 'NoneType'>\n",
            "<class '__main__.Myclass'>\n"
          ]
        }
      ]
    },
    {
      "cell_type": "markdown",
      "source": [
        "from the result we can say that first one gives the output <class 'type'> which is a built in function that returns the type of object.\n",
        "and in other as we can see  the result also tells the type of  object in python."
      ],
      "metadata": {
        "id": "OioJDOiuk6LL"
      }
    },
    {
      "cell_type": "markdown",
      "source": [
        "#3.Create two classes Pet and Dog 1. Requirements for Pet class\n",
        "Three class attributes pet_population , pet_instance and current_year\n",
        "Init constructor __init__(self,name,category,age), name is name of pet,category could be dog,cat,bird etc. and age is age of pet\n",
        "An instance method hellofrompet that prints hello from petname\n",
        "Create a class method timepassedby which takes years as argumentshould automatically increase the age of all the pet object as soon as the method is applied\n"
      ],
      "metadata": {
        "id": "bTEJqlPHmbwm"
      }
    },
    {
      "cell_type": "code",
      "source": [
        "# Define a class Pet\n",
        "class Pet:\n",
        "  #class attributes\n",
        "  pet_population = 0\n",
        "  pet_instance = []\n",
        "  current_year = 1989\n",
        "# constructor to intialize\n",
        "  def __init__(self, name, category, age):\n",
        "    self.name = name\n",
        "    self.category = category\n",
        "    self.age = age\n",
        "    Pet.pet_population += 1\n",
        "    Pet.pet_instance.append(self)\n",
        "# prints hello from petname\n",
        "  def hellofrompet(self):\n",
        "    print(\"Hello\",self.name)\n",
        "    \n",
        "# method timepassedby() to increase the age of all the pet object\n",
        "  def timepassedby(cls, years):\n",
        "    for pet in cls.pet_instance:\n",
        "      pet.age += years\n",
        "#create a class Pet\n",
        "class Dog(Pet):\n",
        "  pet_population = 0\n",
        "  \n",
        "  def __init__(self, name, category, age, breed): # adding an extra argument breed\n",
        "    super().__init__(name, category, age) \n",
        "    self.breed = breed\n",
        "    Dog.pet_population += 1\n",
        "# displays the breed does woof woof.\n",
        "  def barks(self):\n",
        "    print(f\"{self.breed}, does woof woof\")\n",
        "\n",
        "#creating the objects of the class\n",
        "instance1 = Pet(\"Mickey\",\"Cat\",1)\n",
        "instance2 = Dog(\"Saphie\",\"Dog\",2,\"German Shepherd\")\n",
        "\n",
        "#running Pet.pet_population and Do.pet_population should return 2\n",
        "print(Pet.pet_population)\n",
        "print(Dog.pet_population)\n",
        "\n",
        "#Display all the names of the pets, should return Mickey and Saphie\n",
        "for item in Pet.pet_instance:\n",
        "  print(item.name)\n",
        "\n",
        "#Pet.timepassedby(5) should increase every pet ages by 5 year\n",
        "\n",
        "Pet.timepassedby(5)\n",
        "print(instance1.age ) #should result 6\n",
        "print(instance2.age) # should result 7\n",
        "\n",
        "instance1.barks() # should throw an error\n",
        "instance2.barks()# should display \"German Shepherd does woof woof\" \n",
        "\n",
        "\n",
        "\n",
        "\n",
        "\n",
        "\n",
        "\n",
        "\n",
        "\n",
        "\n",
        "\n",
        "\n",
        "\n",
        "\n",
        "\n",
        "\n",
        "\n",
        "  "
      ],
      "metadata": {
        "colab": {
          "base_uri": "https://localhost:8080/",
          "height": 304
        },
        "id": "F1wQg4GkzvUo",
        "outputId": "8193f5bc-59c4-44d4-b604-ed3a741bddeb"
      },
      "execution_count": null,
      "outputs": [
        {
          "output_type": "stream",
          "name": "stdout",
          "text": [
            "2\n",
            "1\n",
            "Mickey\n",
            "Saphie\n"
          ]
        },
        {
          "output_type": "error",
          "ename": "TypeError",
          "evalue": "ignored",
          "traceback": [
            "\u001b[0;31m---------------------------------------------------------------------------\u001b[0m",
            "\u001b[0;31mTypeError\u001b[0m                                 Traceback (most recent call last)",
            "\u001b[0;32m<ipython-input-32-6a54a4ab9dab>\u001b[0m in \u001b[0;36m<module>\u001b[0;34m\u001b[0m\n\u001b[1;32m     46\u001b[0m \u001b[0;31m#Pet.timepassedby(5) should increase every pet ages by 5 year\u001b[0m\u001b[0;34m\u001b[0m\u001b[0;34m\u001b[0m\u001b[0m\n\u001b[1;32m     47\u001b[0m \u001b[0;34m\u001b[0m\u001b[0m\n\u001b[0;32m---> 48\u001b[0;31m \u001b[0mPet\u001b[0m\u001b[0;34m.\u001b[0m\u001b[0mtimepassedby\u001b[0m\u001b[0;34m(\u001b[0m\u001b[0;36m5\u001b[0m\u001b[0;34m)\u001b[0m\u001b[0;34m\u001b[0m\u001b[0;34m\u001b[0m\u001b[0m\n\u001b[0m\u001b[1;32m     49\u001b[0m \u001b[0mprint\u001b[0m\u001b[0;34m(\u001b[0m\u001b[0minstance1\u001b[0m\u001b[0;34m.\u001b[0m\u001b[0mage\u001b[0m \u001b[0;34m)\u001b[0m \u001b[0;31m#should result 6\u001b[0m\u001b[0;34m\u001b[0m\u001b[0;34m\u001b[0m\u001b[0m\n\u001b[1;32m     50\u001b[0m \u001b[0mprint\u001b[0m\u001b[0;34m(\u001b[0m\u001b[0minstance2\u001b[0m\u001b[0;34m.\u001b[0m\u001b[0mage\u001b[0m\u001b[0;34m)\u001b[0m \u001b[0;31m# should result 7\u001b[0m\u001b[0;34m\u001b[0m\u001b[0;34m\u001b[0m\u001b[0m\n",
            "\u001b[0;31mTypeError\u001b[0m: timepassedby() missing 1 required positional argument: 'years'"
          ]
        }
      ]
    }
  ]
}