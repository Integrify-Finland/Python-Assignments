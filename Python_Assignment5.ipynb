{
  "nbformat": 4,
  "nbformat_minor": 0,
  "metadata": {
    "colab": {
      "provenance": [],
      "authorship_tag": "ABX9TyPjux5PDwLagxZFNium0nZ+",
      "include_colab_link": true
    },
    "kernelspec": {
      "name": "python3",
      "display_name": "Python 3"
    },
    "language_info": {
      "name": "python"
    }
  },
  "cells": [
    {
      "cell_type": "markdown",
      "metadata": {
        "id": "view-in-github",
        "colab_type": "text"
      },
      "source": [
        "<a href=\"https://colab.research.google.com/github/afshari-maryam/Python-Assignment1/blob/main/Python_Assignment5.ipynb\" target=\"_parent\"><img src=\"https://colab.research.google.com/assets/colab-badge.svg\" alt=\"Open In Colab\"/></a>"
      ]
    },
    {
      "cell_type": "markdown",
      "source": [
        "#OOP"
      ],
      "metadata": {
        "id": "kCqo-mJEKle0"
      }
    },
    {
      "cell_type": "markdown",
      "source": [
        "**1.** Everything in python is class and object. Let's verify that. Run the following code:"
      ],
      "metadata": {
        "id": "M8WzFlY0LDZj"
      }
    },
    {
      "cell_type": "code",
      "execution_count": 6,
      "metadata": {
        "colab": {
          "base_uri": "https://localhost:8080/"
        },
        "id": "ej1LaBGpKeYM",
        "outputId": "60a19755-e23a-49a3-90e0-eafd48652b2d"
      },
      "outputs": [
        {
          "output_type": "stream",
          "name": "stdout",
          "text": [
            "<class 'int'> <class 'str'>\n",
            "<class 'type'>\n",
            "<class 'type'>\n",
            "<class 'type'>\n",
            "<class 'type'>\n",
            "<class 'type'>\n",
            "<class 'builtin_function_or_method'>\n",
            "<class 'function'>\n",
            "<class 'type'>\n"
          ]
        }
      ],
      "source": [
        "a=5\n",
        "b=\"some string\"\n",
        "print(type(a), type(b))\n",
        "\n",
        "def someFunction( ):\n",
        "  return\n",
        "\n",
        "class Someclass:\n",
        "  pass\n",
        "\n",
        "someList=[int ,str, tuple, dict, list ,print, someFunction,Someclass] \n",
        "\n",
        "for item in someList:\n",
        "  print(type(item))"
      ]
    },
    {
      "cell_type": "markdown",
      "source": [
        "**2.** Compare the result of step a and step b"
      ],
      "metadata": {
        "id": "MFmJnkcukvAa"
      }
    },
    {
      "cell_type": "code",
      "source": [
        "#create an object of each in the list\n",
        "anotherList = [int(),str(),tuple(),dict(),list(),print(),someFunction(),Someclass()]\n",
        "for item in anotherList:\n",
        "  print(type(item))"
      ],
      "metadata": {
        "colab": {
          "base_uri": "https://localhost:8080/"
        },
        "id": "P9b-1AKvkhNU",
        "outputId": "a0fce365-b560-4e47-ee07-d22560ab5342"
      },
      "execution_count": 9,
      "outputs": [
        {
          "output_type": "stream",
          "name": "stdout",
          "text": [
            "\n",
            "<class 'int'>\n",
            "<class 'str'>\n",
            "<class 'tuple'>\n",
            "<class 'dict'>\n",
            "<class 'list'>\n",
            "<class 'NoneType'>\n",
            "<class 'NoneType'>\n",
            "<class '__main__.Someclass'>\n"
          ]
        }
      ]
    },
    {
      "cell_type": "markdown",
      "source": [
        "**3.** Create two classes Pet and Dog 1. Requirements for Pet class\n",
        "Three class attributes pet_population , pet_instance and current_year\n",
        "Init constructor __init__(self,name,category,age), name is name of pet,category could be dog,cat,bird etc. and age is age of pet\n",
        "An instance method hellofrompet that prints hello from petname\n",
        "Create a class method timepassedby which takes years as argumentshould automatically increase the age of all the pet object as soon as the method is applied\n",
        "pet_population should show the number of pets created and pet_instance is the list of pet object 1. Requirements for Dog class 1. Dog class should inherit Pet class attributes and methods. Apart from that the init constructor takes addition \"breed\" argument 2. Define the instance method barks which displays the breed does woof woof."
      ],
      "metadata": {
        "id": "sNtEnAAXmoQ6"
      }
    },
    {
      "cell_type": "code",
      "source": [
        "class Pet:\n",
        "    pet_population = 0\n",
        "    pet_instance = []\n",
        "    current_year = 2023\n",
        "\n",
        "    def __init__(self, name, category, age):\n",
        "        self.name = name\n",
        "        self.category = category\n",
        "        self.age = age\n",
        "        Pet.pet_population += 1\n",
        "        Pet.pet_instance.append(self)\n",
        "\n",
        "    def hellofrompet(self):\n",
        "        print(f\"Hello from {self.name}\")\n",
        "\n",
        "    @classmethod\n",
        "    def timepassedby(cls, years):\n",
        "        for pet in cls.pet_instance:\n",
        "            pet.age += years\n",
        "\n",
        "class Dog(Pet):\n",
        "    def __init__(self, name, breed, age):\n",
        "        super().__init__(name, 'dog', age)\n",
        "        self.breed = breed\n",
        "\n",
        "    def barks(self):\n",
        "        print(f\"{self.breed} does woof woof\")\n"
      ],
      "metadata": {
        "id": "tfHl8zQzm-8b"
      },
      "execution_count": 11,
      "outputs": []
    },
    {
      "cell_type": "code",
      "source": [
        "#Create the Pet instance\n",
        "instancel=Pet(\"Micky\",\"Cat\",1)\n",
        "#Create the Dog instance\n",
        "#instance2=Dog(\"Saphie\",\"Dog\",2,\"German Shepherd\")\n",
        "instance2=Dog(\"Saphie\",\"Dog\",2)\n",
        "# running. Pet.pet population and Dog.pet population should return 2\n",
        "print(Pet.pet_population)\n",
        "print(Dog.pet_population)\n",
        "# Display all the names of the pets, should return Mickey and Saphie\n",
        "for item in Pet.pet_instance:\n",
        "    print(item.name)\n",
        "# Pet.timepassedby(5) should increase every pet ages by 5 years\n",
        "Pet.timepassedby(5)\n",
        "print(instancel.age) # should result to 6\n",
        "print(instance2.age) #should result to 7\n",
        "\n"
      ],
      "metadata": {
        "colab": {
          "base_uri": "https://localhost:8080/"
        },
        "id": "YesCk-tFnnS6",
        "outputId": "89ef6782-e2ad-41ed-a4f1-e5fedc8ad7fe"
      },
      "execution_count": 19,
      "outputs": [
        {
          "output_type": "stream",
          "name": "stdout",
          "text": [
            "10\n",
            "10\n",
            "Micky\n",
            "Micky\n",
            "Micky\n",
            "Saphie\n",
            "Micky\n",
            "Saphie\n",
            "Micky\n",
            "Saphie\n",
            "Micky\n",
            "Saphie\n",
            "6\n",
            "7\n"
          ]
        }
      ]
    },
    {
      "cell_type": "code",
      "source": [
        "instancel.barks() #should throw an error \n"
      ],
      "metadata": {
        "colab": {
          "base_uri": "https://localhost:8080/",
          "height": 165
        },
        "id": "WmU5eVXF4c3a",
        "outputId": "e595a859-e07f-4bf8-d7db-0034466099e3"
      },
      "execution_count": 20,
      "outputs": [
        {
          "output_type": "error",
          "ename": "AttributeError",
          "evalue": "ignored",
          "traceback": [
            "\u001b[0;31m---------------------------------------------------------------------------\u001b[0m",
            "\u001b[0;31mAttributeError\u001b[0m                            Traceback (most recent call last)",
            "\u001b[0;32m<ipython-input-20-746205a8d3f7>\u001b[0m in \u001b[0;36m<module>\u001b[0;34m\u001b[0m\n\u001b[0;32m----> 1\u001b[0;31m \u001b[0minstancel\u001b[0m\u001b[0;34m.\u001b[0m\u001b[0mbarks\u001b[0m\u001b[0;34m(\u001b[0m\u001b[0;34m)\u001b[0m \u001b[0;31m#should throw an error\u001b[0m\u001b[0;34m\u001b[0m\u001b[0;34m\u001b[0m\u001b[0m\n\u001b[0m",
            "\u001b[0;31mAttributeError\u001b[0m: 'Pet' object has no attribute 'barks'"
          ]
        }
      ]
    },
    {
      "cell_type": "code",
      "source": [
        "instance2.barks() #should display \"German_ Shephard does 'woof woofto"
      ],
      "metadata": {
        "colab": {
          "base_uri": "https://localhost:8080/"
        },
        "id": "HG-FVjp64fKI",
        "outputId": "04517951-e47d-42ee-bb65-489a80729335"
      },
      "execution_count": 21,
      "outputs": [
        {
          "output_type": "stream",
          "name": "stdout",
          "text": [
            "Dog does woof woof\n"
          ]
        }
      ]
    }
  ]
}