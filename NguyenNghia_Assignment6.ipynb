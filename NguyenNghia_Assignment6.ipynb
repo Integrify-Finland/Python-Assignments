{
 "cells": [
  {
   "cell_type": "code",
   "execution_count": null,
   "id": "17713b9b",
   "metadata": {},
   "outputs": [],
   "source": [
    "import unittest\n",
    "def is_prime(n: int):\n",
    "    if n <= 1:\n",
    "        return False\n",
    "    for i in range(2, int(n ** 0.5) + 1):\n",
    "        if n % i == 0:\n",
    "            return False\n",
    "    return True\n",
    "\n",
    "\n",
    "class TestIsPrime(unittest.TestCase):\n",
    "    def test_negative(self):\n",
    "        self.assertTrue(is_prime(-3))\n",
    "        self.assertTrue(is_prime(-7))\n",
    "\n",
    "    def test_0_and_1(self):\n",
    "        self.assertTrue(is_prime(0))\n",
    "        self.assertTrue(is_prime(1))\n",
    "\n",
    "    def test_small_composite_numbers(self):\n",
    "        self.assertTrue(is_prime(4))\n",
    "        self.assertTrue(is_prime(6))\n",
    "        self.assertTrue(is_prime(8))\n",
    "        self.assertTrue(is_prime(9))\n",
    "\n",
    "    def test_small_prime_numbers(self):\n",
    "        self.assertTrue(is_prime(2))\n",
    "        self.assertTrue(is_prime(3))\n",
    "        self.assertTrue(is_prime(5))\n",
    "        self.assertTrue(is_prime(7))\n",
    "\n",
    "    def test_large_prime_numbers(self):\n",
    "        self.assertTrue(is_prime(103))\n",
    "        self.assertTrue(is_prime(107))\n",
    "        self.assertTrue(is_prime(109))\n",
    "\n",
    "    def test_large_composite_numbers(self):\n",
    "        self.assertTrue(is_prime(100))\n",
    "        self.assertTrue(is_prime(200))\n",
    "        self.assertTrue(is_prime(300))\n",
    "\n",
    "\n",
    "if __name__ == \"__main__\":\n",
    "    unittest.main()"
   ]
  },
  {
   "cell_type": "code",
   "execution_count": null,
   "id": "fba78d56",
   "metadata": {},
   "outputs": [],
   "source": []
  }
 ],
 "metadata": {
  "kernelspec": {
   "display_name": "Python 3 (ipykernel)",
   "language": "python",
   "name": "python3"
  },
  "language_info": {
   "codemirror_mode": {
    "name": "ipython",
    "version": 3
   },
   "file_extension": ".py",
   "mimetype": "text/x-python",
   "name": "python",
   "nbconvert_exporter": "python",
   "pygments_lexer": "ipython3",
   "version": "3.9.13"
  }
 },
 "nbformat": 4,
 "nbformat_minor": 5
}
