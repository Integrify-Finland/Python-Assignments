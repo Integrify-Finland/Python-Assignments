{
 "cells": [
  {
   "cell_type": "markdown",
   "id": "e47e5da6",
   "metadata": {},
   "source": [
    "## 1. Every group have  to download the Excel files:\n",
    "Each file has three recorded values of water flow recorded using three sensors S1,S2, and S3.\n",
    "\n",
    "## 2.\n",
    "- Compute the central tendency measures\n",
    "- Compute the spread measures\n",
    "- What can you say about S1, S2, S3\n",
    "  * in terms of Means, Variance, and Standard deviation\n",
    "  * Which one of the sensors is different from the others\n",
    "\n"
   ]
  },
  {
   "cell_type": "code",
   "execution_count": 1,
   "id": "bf230df8",
   "metadata": {},
   "outputs": [
    {
     "name": "stdout",
     "output_type": "stream",
     "text": [
      " mean | st.d. | median | mode | range | prc25 | prc25 | ipr \n",
      "428.7 | 20.0  | 430.0  | 442  |  146  |  421  |  441  | 20  \n",
      "304.8 | 59.2  | 320.0  | 370  |  215  |  254  |  362  | 108 \n",
      "296.7 | 61.2  | 298.0  | 255  |  227  |  246  |  354  | 108 \n"
     ]
    }
   ],
   "source": [
    "import pandas as pd\n",
    "import numpy as np\n",
    "import statistics as st\n",
    "\n",
    "# extract the data from xlsx spreadshit\n",
    "\n",
    "data = pd.read_excel(\"Group1.xlsx\", header=0)\n",
    "X = data.values\n",
    "sensors = (S1, S2, S3) = (X[:, 0], X[:, 1], X[:, 2])\n",
    "\n",
    "# find descriptives\n",
    "\n",
    "print (\" mean | st.d. | median | mode | range | prc25 | prc25 | ipr \")\n",
    "for s in sensors:\n",
    "    print('{:^6.1f}|{:^7.1f}|{:^8.1f}|{:^6.0f}|{:^7.0f}|{:^7.0f}|{:^7.0f}|{:^5.0f}'.format(\n",
    "    np.mean(s), np.std(s), np.median(s), st.mode(s), np.max(s) - np.min(s), \n",
    "    np.percentile(s, 25), np.percentile(s, 75), np.percentile(s, 75) - np.percentile(s, 25)))"
   ]
  },
  {
   "cell_type": "markdown",
   "id": "5b969d19",
   "metadata": {},
   "source": [
    "1) All three samples have relatively close mean and median (it could mean they are normally distributed)\n",
    "2) First sample if strongly different from the others because almost 1.5x mean and a small standard deviation (~5% of mean vs ~20% of mean in 2 and 3 samples"
   ]
  },
  {
   "cell_type": "markdown",
   "id": "d1dab2cd",
   "metadata": {},
   "source": [
    "## 3. Is it possible to divide a categorical dataset using quartiles\n",
    "Suppose we have list of set of colors\n",
    "Colors = [Red, Green, Blue, Blue, Green, Red, Yellow, Orange, Purple, Blue, Green, Red, Blue, Yellow, Orange, Green, Blue, Red, Yellow, Green]\n",
    "How can we make Quartiles in such a case?"
   ]
  },
  {
   "cell_type": "markdown",
   "id": "1bb192d2",
   "metadata": {},
   "source": [
    "**As we discussed in the lesson it could make sense if we would give some numerical features of the colours, so quartiles are useless for the colours as they are (categorical).**"
   ]
  },
  {
   "cell_type": "code",
   "execution_count": null,
   "id": "f617a962",
   "metadata": {},
   "outputs": [],
   "source": []
  }
 ],
 "metadata": {
  "kernelspec": {
   "display_name": "Python 3 (ipykernel)",
   "language": "python",
   "name": "python3"
  },
  "language_info": {
   "codemirror_mode": {
    "name": "ipython",
    "version": 3
   },
   "file_extension": ".py",
   "mimetype": "text/x-python",
   "name": "python",
   "nbconvert_exporter": "python",
   "pygments_lexer": "ipython3",
   "version": "3.9.10"
  }
 },
 "nbformat": 4,
 "nbformat_minor": 5
}
