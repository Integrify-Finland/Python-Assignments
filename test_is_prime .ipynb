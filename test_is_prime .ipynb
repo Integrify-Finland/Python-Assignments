{
  "nbformat": 4,
  "nbformat_minor": 0,
  "metadata": {
    "colab": {
      "provenance": []
    },
    "kernelspec": {
      "name": "python3",
      "display_name": "Python 3"
    },
    "language_info": {
      "name": "python"
    }
  },
  "cells": [
    {
      "cell_type": "markdown",
      "source": [
        "#Unit Test\n"
      ],
      "metadata": {
        "id": "sgRCyjNCGs_7"
      }
    },
    {
      "cell_type": "code",
      "source": [
        "#function to test prime or not\n",
        "def is_prime(n:int):\n",
        "  if n<= 1:\n",
        "    return False\n",
        "    for i in range(2,int(n**0.5)+1):\n",
        "      if n%i== 0:\n",
        "        return False\n",
        "    return True\n",
        "\n",
        "   "
      ],
      "metadata": {
        "id": "cxCJsonnMKwR"
      },
      "execution_count": null,
      "outputs": []
    },
    {
      "cell_type": "code",
      "source": [
        "import unittest"
      ],
      "metadata": {
        "id": "hw-ilfRXesRA"
      },
      "execution_count": null,
      "outputs": []
    },
    {
      "cell_type": "code",
      "source": [
        "\n",
        "#Test class\n",
        "class TestIsPrime(unittest.TestCase):\n",
        "  #Test for negative numbers\n",
        "  def test_is_negative (self):\n",
        "    self.assertFalse(is_prime(-1))\n",
        "    self.assertFalse(is_prime(-2))\n",
        "    self.assertFalse(is_prime(-10))\n",
        "   #Test for 0 and 1\n",
        "  def test_zero_or_one (self):\n",
        "    self.assertFalse(is_prime(0))\n",
        "    self.assertFalse(is_prime(1))\n",
        "  #Test for small prime numbers (e.g., 2, 3, 5, 7)\n",
        "  def test_small_primes(self):\n",
        "    self.assertFalse(is_prime(2))\n",
        "    self.assertFalse(is_prime(3))\n",
        "    self.assertFalse(is_prime(5))\n",
        "    self.assertFalse(is_prime(7))\n",
        "   #Test for small composite numbers (e.g., 4, 6, 8, 9) \n",
        "  def test_small_composites(self):\n",
        "    self.assertFalse(is_prime(4))\n",
        "    self.assertFalse(is_prime(6))\n",
        "    self.assertFalse(is_prime(8))\n",
        "    self.assertFalse(is_prime(9))\n",
        "  #Test for large prime numbers (e.g., 103, 107, 109)\n",
        "  def test_large_primes(self):\n",
        "    self.assertFalse(is_prime(103))\n",
        "    self.assertFalse(is_prime(107))\n",
        "    self.assertFalse(is_prime(109))\n",
        "  #Test for large composite numbers (e.g., 100, 200, 300)\n",
        "  def test_large_composites(self):\n",
        "    self.assertFalse(is_prime(100))\n",
        "    self.assertFalse(is_prime(200))\n",
        "    self.assertFalse(is_prime(300))\n",
        "\n",
        "if __name__ == '__main__':\n",
        "  unittest.main(argv=[''], verbosity=2, exit=False)\n"
      ],
      "metadata": {
        "colab": {
          "base_uri": "https://localhost:8080/"
        },
        "id": "A1ax0JKPaauH",
        "outputId": "0032843c-2297-4d16-a264-8ea95f0ad6fa"
      },
      "execution_count": null,
      "outputs": [
        {
          "output_type": "stream",
          "name": "stderr",
          "text": [
            "test_is_negative (__main__.TestIsPrime) ... ok\n",
            "test_large_composites (__main__.TestIsPrime) ... ok\n",
            "test_large_primes (__main__.TestIsPrime) ... ok\n",
            "test_small_composites (__main__.TestIsPrime) ... ok\n",
            "test_small_primes (__main__.TestIsPrime) ... ok\n",
            "test_zero_or_one (__main__.TestIsPrime) ... ok\n",
            "\n",
            "----------------------------------------------------------------------\n",
            "Ran 6 tests in 0.020s\n",
            "\n",
            "OK\n"
          ]
        }
      ]
    },
    {
      "cell_type": "markdown",
      "source": [
        "#Phytest"
      ],
      "metadata": {
        "id": "o38FkTQLDcEu"
      }
    },
    {
      "cell_type": "code",
      "source": [
        "!pip install pytest"
      ],
      "metadata": {
        "colab": {
          "base_uri": "https://localhost:8080/"
        },
        "id": "QNYTpgztDbVt",
        "outputId": "e68179b4-e002-4492-ff99-02e4111f3fc0"
      },
      "execution_count": null,
      "outputs": [
        {
          "output_type": "stream",
          "name": "stdout",
          "text": [
            "Looking in indexes: https://pypi.org/simple, https://us-python.pkg.dev/colab-wheels/public/simple/\n",
            "Requirement already satisfied: pytest in /usr/local/lib/python3.9/dist-packages (3.6.4)\n",
            "Requirement already satisfied: more-itertools>=4.0.0 in /usr/local/lib/python3.9/dist-packages (from pytest) (9.1.0)\n",
            "Requirement already satisfied: setuptools in /usr/local/lib/python3.9/dist-packages (from pytest) (67.6.0)\n",
            "Requirement already satisfied: atomicwrites>=1.0 in /usr/local/lib/python3.9/dist-packages (from pytest) (1.4.1)\n",
            "Requirement already satisfied: pluggy<0.8,>=0.5 in /usr/local/lib/python3.9/dist-packages (from pytest) (0.7.1)\n",
            "Requirement already satisfied: six>=1.10.0 in /usr/local/lib/python3.9/dist-packages (from pytest) (1.16.0)\n",
            "Requirement already satisfied: py>=1.5.0 in /usr/local/lib/python3.9/dist-packages (from pytest) (1.11.0)\n",
            "Requirement already satisfied: attrs>=17.4.0 in /usr/local/lib/python3.9/dist-packages (from pytest) (22.2.0)\n"
          ]
        }
      ]
    },
    {
      "cell_type": "code",
      "source": [
        "%%file test_is_prime.py\n",
        "#function to test prime or not\n",
        "def is_prime(n:int):\n",
        "  if n<= 1:\n",
        "    return False\n",
        "    for i in range(2,int(n**0.5)+1):\n",
        "      if n%i== 0:\n",
        "        return False\n",
        "    return True\n",
        "    \n",
        "def test_negative_numbers():\n",
        "    assert not is_prime(-2)\n",
        "    assert not is_prime(-7)\n",
        "    assert not is_prime(-17)\n",
        "\n",
        "def test_zero_and_one():\n",
        "    assert not is_prime(0)\n",
        "    assert not is_prime(1)\n",
        "\n",
        "def test_small_primes():\n",
        "    assert is_prime(2)\n",
        "    assert is_prime(3)\n",
        "    assert is_prime(5)\n",
        "    assert is_prime(7)\n",
        "\n",
        "def test_small_composites():\n",
        "    assert not is_prime(4)\n",
        "    assert not is_prime(6)\n",
        "    assert not is_prime(8)\n",
        "    assert not is_prime(9)\n",
        "\n",
        "def test_large_primes():\n",
        "    assert is_prime(103)\n",
        "    assert is_prime(107)\n",
        "    assert is_prime(109)\n",
        "\n",
        "def test_large_composites():\n",
        "    assert not is_prime(100)\n",
        "    assert not is_prime(200)\n",
        "    assert not is_prime(300)\n"
      ],
      "metadata": {
        "colab": {
          "base_uri": "https://localhost:8080/"
        },
        "id": "D4WWWL31D0hh",
        "outputId": "08ac23ed-e5e6-4abb-a7ad-b4da8ebaafe6"
      },
      "execution_count": null,
      "outputs": [
        {
          "output_type": "stream",
          "name": "stdout",
          "text": [
            "Overwriting test_is_prime.py\n"
          ]
        }
      ]
    },
    {
      "cell_type": "code",
      "source": [
        "!python -m pytest test_is_prime.py"
      ],
      "metadata": {
        "colab": {
          "base_uri": "https://localhost:8080/"
        },
        "id": "1zIN7aBSEWGb",
        "outputId": "d1f64f95-ee8f-430f-e7f3-2ff3aaad8198"
      },
      "execution_count": null,
      "outputs": [
        {
          "output_type": "stream",
          "name": "stdout",
          "text": [
            "\u001b[1m============================= test session starts ==============================\u001b[0m\n",
            "platform linux -- Python 3.9.16, pytest-3.6.4, py-1.11.0, pluggy-0.7.1\n",
            "rootdir: /content, inifile:\n",
            "\u001b[1m\rcollecting 0 items                                                             \u001b[0m\u001b[1m\rcollecting 6 items                                                             \u001b[0m\u001b[1m\rcollected 6 items                                                              \u001b[0m\n",
            "\n",
            "test_is_prime.py ..F.F.\u001b[36m                                                  [100%]\u001b[0m\n",
            "\n",
            "=================================== FAILURES ===================================\n",
            "\u001b[31m\u001b[1m______________________________ test_small_primes _______________________________\u001b[0m\n",
            "\n",
            "\u001b[1m    def test_small_primes():\u001b[0m\n",
            "\u001b[1m>       assert is_prime(2)\u001b[0m\n",
            "\u001b[1m\u001b[31mE       assert None\u001b[0m\n",
            "\u001b[1m\u001b[31mE        +  where None = is_prime(2)\u001b[0m\n",
            "\n",
            "\u001b[1m\u001b[31mtest_is_prime.py\u001b[0m:20: AssertionError\n",
            "\u001b[31m\u001b[1m______________________________ test_large_primes _______________________________\u001b[0m\n",
            "\n",
            "\u001b[1m    def test_large_primes():\u001b[0m\n",
            "\u001b[1m>       assert is_prime(103)\u001b[0m\n",
            "\u001b[1m\u001b[31mE       assert None\u001b[0m\n",
            "\u001b[1m\u001b[31mE        +  where None = is_prime(103)\u001b[0m\n",
            "\n",
            "\u001b[1m\u001b[31mtest_is_prime.py\u001b[0m:32: AssertionError\n",
            "\u001b[31m\u001b[1m====================== 2 failed, 4 passed in 0.03 seconds ======================\u001b[0m\n"
          ]
        }
      ]
    }
  ]
}