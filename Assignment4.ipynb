{
 "cells": [
  {
   "cell_type": "code",
   "execution_count": null,
   "id": "0287cd01",
   "metadata": {},
   "outputs": [],
   "source": [
    "#Create a list apply iter method to it and run next method until you get StopIteration error"
   ]
  },
  {
   "cell_type": "code",
   "execution_count": null,
   "id": "f9cf4e63",
   "metadata": {},
   "outputs": [],
   "source": [
    "list = [1,2,3,4,5,6]\n",
    "iterable = iter(list)\n",
    "next(iterable)\n",
    "next(iterable)\n",
    "next(iterable)\n",
    "next(iterable)\n",
    "next(iterable)\n",
    "next(iterable)\n",
    "next(iterable)"
   ]
  },
  {
   "cell_type": "code",
   "execution_count": null,
   "id": "d1bc14ff",
   "metadata": {},
   "outputs": [],
   "source": [
    "import itertools\n",
    "\n",
    "#for item in count(8,3):\n",
    "#    print(item)"
   ]
  },
  {
   "cell_type": "code",
   "execution_count": null,
   "id": "04177fd4",
   "metadata": {},
   "outputs": [],
   "source": [
    "#for item in cycle('ABCD'):\n",
    "#    print(item)"
   ]
  },
  {
   "cell_type": "code",
   "execution_count": 1,
   "id": "b68fe8be",
   "metadata": {},
   "outputs": [
    {
     "name": "stdout",
     "output_type": "stream",
     "text": [
      "10\n",
      "10\n",
      "10\n"
     ]
    }
   ],
   "source": [
    "import itertools\n",
    "\n",
    "repeat = itertools.repeat(10, 3)\n",
    "\n",
    "for item in repeat:\n",
    "    print(item)\n"
   ]
  },
  {
   "cell_type": "code",
   "execution_count": null,
   "id": "cd659516",
   "metadata": {},
   "outputs": [],
   "source": [
    "for item in itertools.compress('ABCDEF', [1,0,1,0,1,1]):\n",
    "    print(item)"
   ]
  },
  {
   "cell_type": "code",
   "execution_count": null,
   "id": "eabf1685",
   "metadata": {},
   "outputs": [],
   "source": [
    "letters = ['a', 'b', 'c', 'd']\n",
    "result = itertools.permutations(letters, 2)\n",
    "\n",
    "for item in result:\n",
    "    print(item)"
   ]
  },
  {
   "cell_type": "code",
   "execution_count": null,
   "id": "af0e6768",
   "metadata": {},
   "outputs": [],
   "source": [
    "#User methods from Combinatoric iterator b. Create an infinite generator that generates the fibonacci series\n",
    "\n",
    "# No idea!"
   ]
  },
  {
   "cell_type": "code",
   "execution_count": null,
   "id": "83e91b1e",
   "metadata": {},
   "outputs": [],
   "source": [
    "def times_table(x, y):\n",
    "    return [[i * j for i in range(x+1)] for j in range(y+1)]\n",
    "\n",
    "times_table(3,5)"
   ]
  },
  {
   "cell_type": "code",
   "execution_count": null,
   "id": "793dbc77",
   "metadata": {},
   "outputs": [],
   "source": [
    "#Find all numbers from 1 to 500 that has 5 in them"
   ]
  },
  {
   "cell_type": "code",
   "execution_count": null,
   "id": "553150f8",
   "metadata": {},
   "outputs": [],
   "source": [
    "fivies = [digit for digit in [str(x) for x in range(1,501)] if '5' in digit ]\n",
    "print(fivies)"
   ]
  },
  {
   "cell_type": "code",
   "execution_count": null,
   "id": "0c247b43",
   "metadata": {},
   "outputs": [],
   "source": [
    "items=[\"apple\",True,10,\"banana\",20,30,4.0,\"grapes\",\"laptop\",\"phone\", False,0]\n",
    "non_string_list = [item for item in items if type(item) != str]\n",
    "print(non_string_list)"
   ]
  },
  {
   "cell_type": "code",
   "execution_count": null,
   "id": "d4ba8eeb",
   "metadata": {},
   "outputs": [],
   "source": [
    "#Generate the boolean True for numeric and False for non-numeric in above items list"
   ]
  },
  {
   "cell_type": "code",
   "execution_count": null,
   "id": "eb39be53",
   "metadata": {},
   "outputs": [],
   "source": [
    "def typ(item):\n",
    "    if type(item) == float:\n",
    "        return True\n",
    "    if type(item) == int:\n",
    "        return True\n",
    "    else:\n",
    "        return False\n",
    "    \n",
    "numeric_list = [typ(item) for item in items]\n",
    "\n",
    "print(numeric_list)"
   ]
  },
  {
   "cell_type": "code",
   "execution_count": null,
   "id": "1c86ed4b",
   "metadata": {},
   "outputs": [],
   "source": [
    "files=[\"cat1.png\",\"dog1.png\",\"cat2.png\",\"cat3.png\",\"cat4.png\",\"dog2.png\",\"cat5.png\",\"cat6.png\",\"dog3.png\"]\n",
    "cat_list = [item for item in files if 'cat' in item]\n",
    "print(cat_list)\n",
    "dog_list = [item for item in files if 'dog' in item]\n",
    "print(dog_list)\n"
   ]
  },
  {
   "cell_type": "code",
   "execution_count": 34,
   "id": "4e1328a2",
   "metadata": {},
   "outputs": [
    {
     "name": "stdout",
     "output_type": "stream",
     "text": [
      "TTAGGCTTTTAAGCCCTTAAAAGCGCA\n"
     ]
    }
   ],
   "source": [
    "dna_template='AATCCGAAAATTCGGGAATTTTCGCGT'\n",
    "mapper={\"T\":\"A\",\"A\":\"T\",\"G\":\"C\",\"C\":\"G\"}\n",
    "\n",
    "complementary_dna_template =''.join([ mapper[item] for item in dna_template])\n",
    "\n",
    "print(complementary_dna_template)"
   ]
  },
  {
   "cell_type": "code",
   "execution_count": 35,
   "id": "62df0727",
   "metadata": {},
   "outputs": [
    {
     "name": "stdout",
     "output_type": "stream",
     "text": [
      "For loop time: 3.7516391277313232\n",
      "List comprehension time: 3.2456228733062744\n"
     ]
    }
   ],
   "source": [
    "import time\n",
    "\n",
    "start_time = time.time()\n",
    "\n",
    "nums = []\n",
    "for i in range(1, 10000001):\n",
    "    nums.append(i**2)\n",
    "    \n",
    "end_time = time.time()\n",
    "for_loop_time = end_time - start_time\n",
    "\n",
    "start_time = time.time()\n",
    "\n",
    "nums = [i**2 for i in range(1, 10000001)]\n",
    "\n",
    "end_time = time.time()\n",
    "list_comp_time = end_time - start_time\n",
    "\n",
    "print(\"For loop time:\", for_loop_time)\n",
    "print(\"List comprehension time:\", list_comp_time)\n"
   ]
  },
  {
   "cell_type": "code",
   "execution_count": null,
   "id": "6df44eaa",
   "metadata": {},
   "outputs": [],
   "source": [
    "# The use of list comprehension compresses the number of lines of code.\n",
    "# It is faster to process"
   ]
  }
 ],
 "metadata": {
  "kernelspec": {
   "display_name": "Python 3 (ipykernel)",
   "language": "python",
   "name": "python3"
  },
  "language_info": {
   "codemirror_mode": {
    "name": "ipython",
    "version": 3
   },
   "file_extension": ".py",
   "mimetype": "text/x-python",
   "name": "python",
   "nbconvert_exporter": "python",
   "pygments_lexer": "ipython3",
   "version": "3.10.10"
  }
 },
 "nbformat": 4,
 "nbformat_minor": 5
}
