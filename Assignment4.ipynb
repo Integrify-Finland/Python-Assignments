{
 "cells": [
  {
   "cell_type": "code",
   "execution_count": 2,
   "id": "b352278f",
   "metadata": {},
   "outputs": [],
   "source": [
    "\"\"\"\n",
    "Python Basics: Iters and generators,regex, comprehension\n",
    "Iterator and generator: (For advanced learners, read from the links ) \n",
    "a. As you have already known, the iterables objects are the stream of data like string,list, dict, set etc\n",
    "which can be looped over or iterated. Since you have also known that you can convert an iterable into an iterator using \n",
    "iter method and iterators have next method, it's time to play around with the builtin itertools module.\n",
    "\"\"\"\n",
    "\n",
    "#Create a list apply iter method to it and run next method until you get StopIteration error\n",
    "my_list = [1, 2, 3, 4, 5]\n",
    "my_iterator = iter(my_list)\n",
    "\n",
    "while True:\n",
    "    try:\n",
    "        item = next(my_iterator)\n",
    "        print(item)\n",
    "    except StopIteration:\n",
    "        break"
   ]
  },
  {
   "cell_type": "code",
   "execution_count": 6,
   "id": "32697e3b",
   "metadata": {},
   "outputs": [
    {
     "name": "stdout",
     "output_type": "stream",
     "text": [
      "0 a 42\n",
      "2 b 42\n",
      "4 c 42\n",
      "6 a 42\n",
      "8 b 42\n"
     ]
    }
   ],
   "source": [
    "#Import itertools in your notebook and create infinite iterators using count,cycle and and repeat methods.\n",
    "import itertools\n",
    "\n",
    "#create an infinite iterator using the count() method\n",
    "even_numbers = itertools.count(0, 2)\n",
    "\n",
    "#create an infinite iterator using the cycle() method\n",
    "letters = itertools.cycle(['a', 'b', 'c'])\n",
    "\n",
    "#create an infinite iterator using the repeat() method\n",
    "forty_two = itertools.repeat(42)\n",
    "\n",
    "for i in range(5):\n",
    "    print(next(even_numbers), end=' ')\n",
    "    print(next(letters), end=' ')\n",
    "    print(next(forty_two))"
   ]
  },
  {
   "cell_type": "code",
   "execution_count": 7,
   "id": "6ecd6f92",
   "metadata": {},
   "outputs": [
    {
     "name": "stdout",
     "output_type": "stream",
     "text": [
      "1 a True\n",
      "2 b False\n"
     ]
    }
   ],
   "source": [
    "#Use methods from iterators terminating on the shortest input sequence\n",
    "list1 = [1, 2, 3]\n",
    "list2 = ['a', 'b', 'c']\n",
    "list3 = [True, False]\n",
    "\n",
    "for a, b, c in zip(list1, list2, list3):\n",
    "    print(a, b, c)"
   ]
  },
  {
   "cell_type": "code",
   "execution_count": 14,
   "id": "f206af29",
   "metadata": {},
   "outputs": [
    {
     "name": "stdout",
     "output_type": "stream",
     "text": [
      "0\n",
      "1\n",
      "1\n",
      "2\n",
      "3\n",
      "5\n",
      "8\n",
      "13\n",
      "21\n",
      "34\n"
     ]
    }
   ],
   "source": [
    "#Create an infinite generator that generates the fibonacci series\n",
    "\n",
    "def fibonacci():\n",
    "    a, b = 0, 1\n",
    "    while True:\n",
    "        yield a\n",
    "        a, b = b, a + b\n",
    "fib = fibonacci()\n",
    "for i in range(10):\n",
    "    print(next(fib))\n"
   ]
  },
  {
   "cell_type": "code",
   "execution_count": null,
   "id": "b775698e",
   "metadata": {},
   "outputs": [],
   "source": [
    "#Read and practices more on regex\n",
    "#source link: https://www.w3resource.com/python-exercises/re/"
   ]
  },
  {
   "cell_type": "code",
   "execution_count": null,
   "id": "f955c5f5",
   "metadata": {},
   "outputs": [],
   "source": [
    "#Read different types of comprehension in python\n",
    "#source link:https://www.geeksforgeeks.org/comprehensions-in-python/"
   ]
  },
  {
   "cell_type": "code",
   "execution_count": 15,
   "id": "ac6251bb",
   "metadata": {},
   "outputs": [
    {
     "name": "stdout",
     "output_type": "stream",
     "text": [
      "[5, 10, 15, 20, 25, 30, 35, 40, 45, 50]\n"
     ]
    }
   ],
   "source": [
    "#Write a multiplication table of any given number in a list using list comprehension\n",
    "num = 5\n",
    "table = [num * i for i in range(1, 11)]\n",
    "print(table)"
   ]
  },
  {
   "cell_type": "code",
   "execution_count": 17,
   "id": "a3943c87",
   "metadata": {},
   "outputs": [
    {
     "name": "stdout",
     "output_type": "stream",
     "text": [
      "[5, 15, 25, 35, 45, 50, 51, 52, 53, 54, 55, 56, 57, 58, 59, 65, 75, 85, 95, 105, 115, 125, 135, 145, 150, 151, 152, 153, 154, 155, 156, 157, 158, 159, 165, 175, 185, 195, 205, 215, 225, 235, 245, 250, 251, 252, 253, 254, 255, 256, 257, 258, 259, 265, 275, 285, 295, 305, 315, 325, 335, 345, 350, 351, 352, 353, 354, 355, 356, 357, 358, 359, 365, 375, 385, 395, 405, 415, 425, 435, 445, 450, 451, 452, 453, 454, 455, 456, 457, 458, 459, 465, 475, 485, 495, 500]\n"
     ]
    }
   ],
   "source": [
    "#Find all numbers from 1 to 500 that has 5 in them\n",
    "numbers_with_5 = [num for num in range(1, 501) if '5' in str(num)]\n",
    "print(numbers_with_5)"
   ]
  },
  {
   "cell_type": "code",
   "execution_count": 18,
   "id": "b91b3d17",
   "metadata": {},
   "outputs": [
    {
     "name": "stdout",
     "output_type": "stream",
     "text": [
      "[True, 10, 20, 30, 4.0, False, 0]\n"
     ]
    }
   ],
   "source": [
    "#Given the list of items=[\"apple\",True,10,\"banana\",20,30,4.0,\"grapes\",\"laptop\",\"phone\", False,0], generate the list of non-string values\n",
    "items=[\"apple\",True,10,\"banana\",20,30,4.0,\"grapes\",\"laptop\",\"phone\", False,0]\n",
    "non_string_values = [item for item in items if not isinstance(item, str)]\n",
    "print(non_string_values)"
   ]
  },
  {
   "cell_type": "code",
   "execution_count": 19,
   "id": "920a1bd8",
   "metadata": {},
   "outputs": [
    {
     "name": "stdout",
     "output_type": "stream",
     "text": [
      "[False, True, True, False, True, True, True, False, False, False, True, True]\n"
     ]
    }
   ],
   "source": [
    "#items=[\"apple\",True,10,\"banana\",20,30,4.0,\"grapes\",\"laptop\",\"phone\", False,0]\n",
    "#Generate the boolean True for numeric and False for non-numeric in above items list\n",
    "items=[\"apple\",True,10,\"banana\",20,30,4.0,\"grapes\",\"laptop\",\"phone\", False,0]\n",
    "result = [True if isinstance(item, (int, float)) else False for item in items]\n",
    "print(result)"
   ]
  },
  {
   "cell_type": "code",
   "execution_count": 20,
   "id": "5aca5e74",
   "metadata": {},
   "outputs": [
    {
     "name": "stdout",
     "output_type": "stream",
     "text": [
      "['cat1.png', 'cat2.png', 'cat3.png', 'cat4.png', 'cat5.png', 'cat6.png']\n",
      "['dog1.png', 'dog2.png', 'dog3.png']\n"
     ]
    }
   ],
   "source": [
    "#files=[\"cat1.png\",\"dog1.png\",\"cat2.png\",\"cat3.png\",\"cat4.png\",\"dog2.png\",\"cat5.png\",\"cat6.png\",\"dog3.png\"], \n",
    "#generate two lists of cat and dog image files\n",
    "files = [\"cat1.png\", \"dog1.png\", \"cat2.png\", \"cat3.png\", \"cat4.png\", \"dog2.png\", \"cat5.png\", \"cat6.png\", \"dog3.png\"]\n",
    "\n",
    "cat_files = [file for file in files if \"cat\" in file]\n",
    "dog_files = [file for file in files if \"dog\" in file]\n",
    "print(cat_files)\n",
    "print(dog_files)"
   ]
  },
  {
   "cell_type": "code",
   "execution_count": 21,
   "id": "a12233b6",
   "metadata": {},
   "outputs": [
    {
     "name": "stdout",
     "output_type": "stream",
     "text": [
      "Original DNA template: AATCCGAAAATTCGGGAATTTTCGCGT\n",
      "Complementary DNA template: TTAGGCTTTTAAGCCCTTAAAAGCGCA\n"
     ]
    }
   ],
   "source": [
    "#Use appropriate comprehension method to generate the complementary dna template using information form Assignment2.2.b\n",
    "dna_template = 'AATCCGAAAATTCGGGAATTTTCGCGT'\n",
    "mapper = {\"T\":\"A\", \"A\":\"T\", \"G\":\"C\", \"C\":\"G\"}\n",
    "\n",
    "complementary_dna_template = \"\".join([mapper[nucleotide] for nucleotide in dna_template])\n",
    "\n",
    "print(\"Original DNA template:\", dna_template)\n",
    "print(\"Complementary DNA template:\", complementary_dna_template)\n"
   ]
  },
  {
   "cell_type": "code",
   "execution_count": 17,
   "id": "effe2d88",
   "metadata": {
    "scrolled": true
   },
   "outputs": [],
   "source": [
    "#Run the following command in your notebook. What could be the reason the list comprehension is more elegant?\n",
    "\"\"\"Because it allows us to create concise and readable code for generating new lists based on existing ones \n",
    "and provides a more declarative and functional way to express the creation of a new list, \n",
    "without the need for loops, temporary variables, or explicit append statements.\"\"\"\n"
   ]
  },
  {
   "cell_type": "code",
   "execution_count": null,
   "id": "71fcf494",
   "metadata": {},
   "outputs": [],
   "source": []
  }
 ],
 "metadata": {
  "kernelspec": {
   "display_name": "Python 3 (ipykernel)",
   "language": "python",
   "name": "python3"
  },
  "language_info": {
   "codemirror_mode": {
    "name": "ipython",
    "version": 3
   },
   "file_extension": ".py",
   "mimetype": "text/x-python",
   "name": "python",
   "nbconvert_exporter": "python",
   "pygments_lexer": "ipython3",
   "version": "3.10.7"
  }
 },
 "nbformat": 4,
 "nbformat_minor": 5
}
