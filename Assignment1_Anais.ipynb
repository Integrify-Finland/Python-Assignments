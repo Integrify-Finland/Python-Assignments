{
 "cells": [
  {
   "attachments": {},
   "cell_type": "markdown",
   "metadata": {},
   "source": [
    "Exercise 1 - Data Types"
   ]
  },
  {
   "cell_type": "code",
   "execution_count": 34,
   "metadata": {},
   "outputs": [
    {
     "name": "stdout",
     "output_type": "stream",
     "text": [
      "The Integrify ML & Data Science course started on 2023-03-06. The class is made up of 36 students.\n",
      "The population of Finland is 5.5 million people.\n"
     ]
    }
   ],
   "source": [
    "#create variables with different data types\n",
    "a=\"Integrify ML & Data Science\" #string\n",
    "b=36 #integer\n",
    "c=6.7 #float\n",
    "d=6+7j #complex\n",
    "e=list((\"Denmark\", \"Finland\", \"Germany\", \"Netherlands\", \"Sweden\")) #list\n",
    "f=tuple((\"Denmark\", \"Finland\", \"Germany\", \"Netherlands\", \"Sweden\")) #tuple\n",
    "g=range(100) #range\n",
    "h={\"Denmark\":5.9, \"Finland\":5.5, \"Germany\": 83.2, \"Netherlands\": 17.5, \"Sweden\":10.4} #dictionary\n",
    "i=set((\"Denmark\", \"Finland\", \"Germany\", \"Netherlands\", \"Sweden\")) #set\n",
    "j=frozenset((\"Denmark\", \"Finland\", \"Germany\", \"Netherlands\", \"Sweden\")) #frozenset\n",
    "k=bool(7) #boolean\n",
    "l=bytes(7) #bytes\n",
    "m=bytearray(7) #bytearray\n",
    "n=memoryview(l) #memoryview\n",
    "import datetime\n",
    "o=datetime.date(2023, 3, 6) #date\n",
    "\n",
    "#print some variables in a sentence\n",
    "print(\"The \", a, \" course started on \", o, \". The class is made up of \", b, \" students.\", sep='')\n",
    "\n",
    "#another sentence\n",
    "print(\"The population of\", e[1], \"is\", h[\"Finland\"], \"million people.\")"
   ]
  },
  {
   "attachments": {},
   "cell_type": "markdown",
   "metadata": {},
   "source": [
    "Exercise 2 - Operators"
   ]
  },
  {
   "cell_type": "code",
   "execution_count": 24,
   "metadata": {},
   "outputs": [
    {
     "name": "stdout",
     "output_type": "stream",
     "text": [
      "95\n",
      "59969536\n",
      "True\n",
      "True\n",
      "False\n",
      "False\n",
      "True\n",
      "True\n",
      "False\n",
      "False\n",
      "True\n",
      "True\n"
     ]
    }
   ],
   "source": [
    "#two operands\n",
    "x=2\n",
    "y=90\n",
    "\n",
    "#arithmetic operators\n",
    "a=x+y\n",
    "b=y-x\n",
    "c=x*y\n",
    "d=x/y\n",
    "e=x%y\n",
    "f=a/x\n",
    "g=a//x\n",
    "h=y/x*x\n",
    "\n",
    "#assignment operators\n",
    "a+=3\n",
    "print(a)\n",
    "b**=4\n",
    "print(b)\n",
    "\n",
    "#comparison operators\n",
    "print(f==g)\n",
    "print(h==y)\n",
    "print(f!=g)\n",
    "print(f<g)\n",
    "\n",
    "#logical operators\n",
    "print(f==g and h==y)\n",
    "print(b<y or f==g)\n",
    "print(not(x<4 and y>4))\n",
    "\n",
    "#identity operators\n",
    "print(f is g)\n",
    "print(f is not g)\n",
    "\n",
    "#membership operators\n",
    "x=[5,87,90]\n",
    "print(y in x)\n"
   ]
  },
  {
   "cell_type": "markdown",
   "metadata": {},
   "source": [
    "Exercise 3 - Magic methods"
   ]
  },
  {
   "cell_type": "code",
   "execution_count": 46,
   "metadata": {},
   "outputs": [
    {
     "name": "stdout",
     "output_type": "stream",
     "text": [
      "['__add__', '__class__', '__contains__', '__delattr__', '__dir__', '__doc__', '__eq__', '__format__', '__ge__', '__getattribute__', '__getitem__', '__getnewargs__', '__getstate__', '__gt__', '__hash__', '__init__', '__init_subclass__', '__iter__', '__le__', '__len__', '__lt__', '__mod__', '__mul__', '__ne__', '__new__', '__reduce__', '__reduce_ex__', '__repr__', '__rmod__', '__rmul__', '__setattr__', '__sizeof__', '__str__', '__subclasshook__', 'capitalize', 'casefold', 'center', 'count', 'encode', 'endswith', 'expandtabs', 'find', 'format', 'format_map', 'index', 'isalnum', 'isalpha', 'isascii', 'isdecimal', 'isdigit', 'isidentifier', 'islower', 'isnumeric', 'isprintable', 'isspace', 'istitle', 'isupper', 'join', 'ljust', 'lower', 'lstrip', 'maketrans', 'partition', 'removeprefix', 'removesuffix', 'replace', 'rfind', 'rindex', 'rjust', 'rpartition', 'rsplit', 'rstrip', 'split', 'splitlines', 'startswith', 'strip', 'swapcase', 'title', 'translate', 'upper', 'zfill']\n",
      "True\n",
      "<class 'str'>\n",
      "False\n",
      "['__abs__', '__add__', '__and__', '__bool__', '__ceil__', '__class__', '__delattr__', '__dir__', '__divmod__', '__doc__', '__eq__', '__float__', '__floor__', '__floordiv__', '__format__', '__ge__', '__getattribute__', '__getnewargs__', '__getstate__', '__gt__', '__hash__', '__index__', '__init__', '__init_subclass__', '__int__', '__invert__', '__le__', '__lshift__', '__lt__', '__mod__', '__mul__', '__ne__', '__neg__', '__new__', '__or__', '__pos__', '__pow__', '__radd__', '__rand__', '__rdivmod__', '__reduce__', '__reduce_ex__', '__repr__', '__rfloordiv__', '__rlshift__', '__rmod__', '__rmul__', '__ror__', '__round__', '__rpow__', '__rrshift__', '__rshift__', '__rsub__', '__rtruediv__', '__rxor__', '__setattr__', '__sizeof__', '__str__', '__sub__', '__subclasshook__', '__truediv__', '__trunc__', '__xor__', 'as_integer_ratio', 'bit_count', 'bit_length', 'conjugate', 'denominator', 'from_bytes', 'imag', 'numerator', 'real', 'to_bytes']\n",
      "40\n",
      "<class 'int'>\n",
      "True\n",
      "['__abs__', '__add__', '__bool__', '__ceil__', '__class__', '__delattr__', '__dir__', '__divmod__', '__doc__', '__eq__', '__float__', '__floor__', '__floordiv__', '__format__', '__ge__', '__getattribute__', '__getformat__', '__getnewargs__', '__getstate__', '__gt__', '__hash__', '__init__', '__init_subclass__', '__int__', '__le__', '__lt__', '__mod__', '__mul__', '__ne__', '__neg__', '__new__', '__pos__', '__pow__', '__radd__', '__rdivmod__', '__reduce__', '__reduce_ex__', '__repr__', '__rfloordiv__', '__rmod__', '__rmul__', '__round__', '__rpow__', '__rsub__', '__rtruediv__', '__setattr__', '__sizeof__', '__str__', '__sub__', '__subclasshook__', '__truediv__', '__trunc__', 'as_integer_ratio', 'conjugate', 'fromhex', 'hex', 'imag', 'is_integer', 'real']\n",
      "7.0\n",
      "<class 'float'>\n",
      "True\n"
     ]
    }
   ],
   "source": [
    "#objects previously created\n",
    "a=\"Integrify ML & Data Science\" #string\n",
    "b=36 #integer\n",
    "c=6.7 #float\n",
    "\n",
    "#apply methods to each object\n",
    "print(dir(a))\n",
    "print(a.__contains__(\"Data\"))\n",
    "print(type(a))\n",
    "print(isinstance(a, int))\n",
    "\n",
    "print(dir(b))\n",
    "print(b.__add__(4))\n",
    "print(type(b))\n",
    "print(isinstance(b, int))\n",
    "\n",
    "print(dir(c))\n",
    "print(c.__round__(0))\n",
    "print(type(c))\n",
    "print(isinstance(c, float))\n",
    "\n",
    "\n"
   ]
  },
  {
   "attachments": {},
   "cell_type": "markdown",
   "metadata": {},
   "source": [
    "Exercise 4 - Formatting strings"
   ]
  },
  {
   "cell_type": "code",
   "execution_count": 1,
   "metadata": {},
   "outputs": [
    {
     "name": "stdout",
     "output_type": "stream",
     "text": [
      "I love python\n",
      "I love python\n",
      "I love python version 3.1\n",
      "I love python version 3.10\n",
      "I love python version 3.10\n"
     ]
    }
   ],
   "source": [
    "#different ways to concatenate\n",
    "print(\"I love\", \"python\")\n",
    "print(\"I love\" + \" python\")\n",
    "print(\"I love\"+\" python\"+\" version\", 3.10)\n",
    "print(\"I love\"+\" python\"+\" version %.2f\"%3.10)\n",
    "print(\"I love %s version %.2f\"%(\"python\", 3.10))"
   ]
  },
  {
   "cell_type": "code",
   "execution_count": 6,
   "metadata": {},
   "outputs": [
    {
     "name": "stdout",
     "output_type": "stream",
     "text": [
      "I love python version 3.1\n",
      "I love python version 3.1\n",
      "I love python version 3.10\n",
      "I love 3.10 version of python\n"
     ]
    }
   ],
   "source": [
    "#using format positional argument\n",
    "print(\"I love {} version {}\".format(\"python\", 3.10))\n",
    "print(\"I love {} version {}\".format(\"python\", 3.10))\n",
    "print(\"I love {} version {:.2f}\".format(\"python\", 3.10))\n",
    "print(\"I love {1} version of {0}\".format(\"python\", \"3.10\"))"
   ]
  },
  {
   "cell_type": "code",
   "execution_count": 7,
   "metadata": {},
   "outputs": [
    {
     "name": "stdout",
     "output_type": "stream",
     "text": [
      "I love python version 3.10\n"
     ]
    }
   ],
   "source": [
    "#using format keyword argument\n",
    "print(\"I love {pl} version {version:.2f}\".format(pl=\"python\", version=3.10))"
   ]
  },
  {
   "cell_type": "code",
   "execution_count": 10,
   "metadata": {},
   "outputs": [
    {
     "name": "stdout",
     "output_type": "stream",
     "text": [
      "I love python version 3.10\n",
      "I love python version 3.10\n",
      "I love python\n"
     ]
    }
   ],
   "source": [
    "#using f-string literal\n",
    "info={\"pl\":\"python\",\"version\":3.10}\n",
    "print(f\"I love {info.get('pl')} version {info.get('version'):.2f}\")\n",
    "\n",
    "#alternate way using uppercase F\n",
    "print(F'I love {info[\"pl\"]} version {info[\"version\"]:.2f}')\n",
    "\n",
    "#f-string conditional\n",
    "batch='ML'\n",
    "print(f'I love {\"javascript\" if batch==\"FS\" else \"python\"}')"
   ]
  },
  {
   "attachments": {},
   "cell_type": "markdown",
   "metadata": {},
   "source": [
    "Exercise 5 - Indexing"
   ]
  },
  {
   "cell_type": "code",
   "execution_count": 46,
   "metadata": {},
   "outputs": [
    {
     "name": "stdout",
     "output_type": "stream",
     "text": [
      "Sweden\n",
      "['Sweden', 'Denmark', 'Netherlands', 'Germany', 'Norway', 'Iceland']\n",
      "['Finland', 'Sweden', 'Denmark', 'Netherlands', 'Germany', 'Norway']\n",
      "Iceland\n",
      "['Germany', 'Norway', 'Iceland']\n",
      "['Sweden', 'Netherlands', 'Norway']\n",
      "Finland and Iceland\n",
      "['Netherlands', 'Germany', 'Norway']\n",
      "['Norway', 'Germany', 'Netherlands']\n",
      "['Iceland', 'Germany', 'Denmark', 'Finland']\n",
      "['Sweden', 'Netherlands', 'Norway']\n",
      "[]\n",
      "['Germany', 'Netherlands', 'Denmark']\n",
      "[(0, 'Finland'), (1, 'Sweden'), (2, 'Denmark'), (3, 'Netherlands'), (4, 'Germany'), (5, 'Norway'), (6, 'Iceland')]\n"
     ]
    }
   ],
   "source": [
    "#create list of items\n",
    "countries= [\"Finland\",\"Sweden\",\"Denmark\",\"Netherlands\",\"Germany\",\"Norway\",\"Iceland\"]\n",
    "\n",
    "#find index of \"Sweden\"\n",
    "print(countries[1])\n",
    "\n",
    "#get all items except the first\n",
    "print(countries[1:])\n",
    "\n",
    "#get all items except the last\n",
    "print(countries[:-1])\n",
    "\n",
    "#find the last item using negative indexing\n",
    "print(countries[-1])\n",
    "\n",
    "#find the last three items using negative indexing\n",
    "print(countries[-3:])\n",
    "\n",
    "#grab all the items with odd indices\n",
    "indices=[1,3,5]\n",
    "print([countries[i] for i in indices])\n",
    "\n",
    "#find the first and last item for the list\n",
    "print(countries[0], \"and\", countries[-1])\n",
    "\n",
    "#get [\"Netherlands\",\"Germany\",\"Norway\"] using negative indexing\n",
    "list2=list((countries[-4], countries[-3], countries[-2]))\n",
    "print(list2)\n",
    "\n",
    "#reverse the list\n",
    "list2.reverse()\n",
    "print(list2)\n",
    "\n",
    "#output of countries[::-2]\n",
    "print(countries[::-2])\n",
    "\n",
    "#output of countries[1:100:2]\n",
    "print(countries[1:100:2])\n",
    "\n",
    "#output of countries[len(countries)-1:0:2]\n",
    "print(countries[len(countries)-1:0:2])\n",
    "\n",
    "#get ouput ['Germany', 'Netherlands', 'Denmark']\n",
    "list3=list((countries[4], countries[3], countries[2]))\n",
    "print(list3)\n",
    "\n",
    "#use the enumerate method to get index and values in the list\n",
    "object=list((enumerate(countries)))\n",
    "print(object)"
   ]
  },
  {
   "attachments": {},
   "cell_type": "markdown",
   "metadata": {},
   "source": [
    "Exercise 6 - Dictionaries"
   ]
  },
  {
   "cell_type": "code",
   "execution_count": 78,
   "metadata": {},
   "outputs": [
    {
     "name": "stdout",
     "output_type": "stream",
     "text": [
      "{'Denmark': 5.9, 'Finland': 5.5, 'Germany': 83.2}\n",
      "{'Netherlands': 17.5, 'Sweden': 10.4}\n",
      "{'Denmark': 5.9, 'Finland': 5.5, 'Germany': 83.2, 'Netherlands': 17.5, 'Sweden': 10.4}\n",
      "{'Duy': ['Python', 'Database', 'ML'], 'Laxmi': ['Python', 'Database', 'ML'], 'Antonio': ['Python', 'Database', 'ML'], 'Maria': ['Python', 'Database', 'ML']}\n",
      "{'Duy': ['Python', 'Database', 'ML'], 'Laxmi': ['Python', 'Database', 'ML'], 'Antonio': ['JavaScript', 'Database', 'NodeJS'], 'Maria': ['Python', 'Database', 'ML']}\n",
      "{'Duy': ['Python', 'Database', 'ML'], 'Laxmi': ['Python', 'Database', 'ML'], 'Antonio': ['JavaScript', 'Database', 'NodeJS', 'ReactJs'], 'Maria': ['Python', 'Database', 'ML']}\n",
      "{'Duy': ['Python', 'Database', 'ML'], 'Laxmi': ['Python', 'Database', 'ML'], 'Antonio': ['JavaScript', 'Database', 'NodeJS', 'Vuejs'], 'Maria': ['Python', 'Database', 'ML']}\n",
      "{'Duy': ['Python', 'Database', 'ML'], 'Laxmi': ['Python', 'Database', 'ML'], 'Maria': ['Python', 'Database', 'ML']}\n",
      "{'Duy': ['Python', 'Database', 'ML'], 'Maria': ['Python', 'Database', 'ML']}\n"
     ]
    }
   ],
   "source": [
    "#create two dictionaries from lists\n",
    "a=list((\"Denmark\", \"Finland\", \"Germany\"))\n",
    "b=list((5.9, 5.5, 83.2))\n",
    "dict1=dict(zip(a, b))\n",
    "print(dict1)\n",
    "c=list((\"Netherlands\", \"Sweden\"))\n",
    "d=list((17.5, 10.4))\n",
    "dict2=dict(zip(c,d))\n",
    "print(dict2)\n",
    "\n",
    "#merge the two dictionaries\n",
    "dict1.update(dict2)\n",
    "print(dict1)\n",
    "\n",
    "#given the list of students, assign them to a course\n",
    "students={\"Duy\":None, \"Laxmi\":None, \"Antonio\":None, \"Maria\":None}\n",
    "course=[\"Python\", \"Database\", \"ML\"]\n",
    "students_profile=students.fromkeys([\"Duy\", \"Laxmi\", \"Antonio\", \"Maria\"], course)\n",
    "print(students_profile)\n",
    "\n",
    "#modify Antonio's course to [\"JavaScript\", \"Database\", \"NodeJS\"]\n",
    "students_profile[\"Antonio\"]=[\"JavaScript\", \"Database\", \"NodeJS\"]\n",
    "print(students_profile)\n",
    "\n",
    "#add \"ReactJs\" to Antonio's course\n",
    "students_profile[\"Antonio\"]=[\"JavaScript\", \"Database\", \"NodeJS\", \"ReactJs\"]\n",
    "print(students_profile)\n",
    "\n",
    "#replace Antonio's \"ReactJs\" with \"Vuejs\"\n",
    "students_profile[\"Antonio\"]=[\"JavaScript\", \"Database\", \"NodeJS\", \"Vuejs\"]\n",
    "print(students_profile)\n",
    "\n",
    "#remove an item from the dictionary using del\n",
    "del students_profile[\"Antonio\"]\n",
    "print(students_profile)\n",
    "\n",
    "#remove an item from the dictionary using pop\n",
    "students_profile.pop(\"Laxmi\")\n",
    "print(students_profile)"
   ]
  }
 ],
 "metadata": {
  "kernelspec": {
   "display_name": "Python 3",
   "language": "python",
   "name": "python3"
  },
  "language_info": {
   "codemirror_mode": {
    "name": "ipython",
    "version": 3
   },
   "file_extension": ".py",
   "mimetype": "text/x-python",
   "name": "python",
   "nbconvert_exporter": "python",
   "pygments_lexer": "ipython3",
   "version": "3.11.2"
  },
  "orig_nbformat": 4
 },
 "nbformat": 4,
 "nbformat_minor": 2
}
