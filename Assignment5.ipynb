{
 "cells": [
  {
   "cell_type": "code",
   "execution_count": 1,
   "id": "7cfacba3",
   "metadata": {},
   "outputs": [
    {
     "name": "stdout",
     "output_type": "stream",
     "text": [
      "<class 'int'> <class 'str'>\n",
      "<class 'type'>\n",
      "<class 'type'>\n",
      "<class 'type'>\n",
      "<class 'type'>\n",
      "<class 'type'>\n",
      "<class 'builtin_function_or_method'>\n",
      "<class 'function'>\n",
      "<class 'type'>\n"
     ]
    }
   ],
   "source": [
    "a=5\n",
    "b=\"some string\"\n",
    "print(type(a), type(b))\n",
    "\n",
    "def someFunction():\n",
    "    return\n",
    "class SomeClass():\n",
    "    pass\n",
    "someList = [int, str, tuple,dict, list, print, someFunction, SomeClass]\n",
    "for item in someList:\n",
    "    print(type(item))"
   ]
  },
  {
   "cell_type": "code",
   "execution_count": 4,
   "id": "47c91b2f",
   "metadata": {},
   "outputs": [
    {
     "name": "stdout",
     "output_type": "stream",
     "text": [
      "\n"
     ]
    },
    {
     "ename": "NameError",
     "evalue": "name 'Myclass' is not defined",
     "output_type": "error",
     "traceback": [
      "\u001b[1;31m---------------------------------------------------------------------------\u001b[0m",
      "\u001b[1;31mNameError\u001b[0m                                 Traceback (most recent call last)",
      "Cell \u001b[1;32mIn [4], line 1\u001b[0m\n\u001b[1;32m----> 1\u001b[0m anotherList \u001b[38;5;241m=\u001b[39m [\u001b[38;5;28mint\u001b[39m(), \u001b[38;5;28mstr\u001b[39m(), \u001b[38;5;28mtuple\u001b[39m(), \u001b[38;5;28mdict\u001b[39m(), \u001b[38;5;28mlist\u001b[39m(), \u001b[38;5;28mprint\u001b[39m(), Myclass()]\n\u001b[0;32m      2\u001b[0m \u001b[38;5;28;01mfor\u001b[39;00m item \u001b[38;5;129;01min\u001b[39;00m anotherList:\n\u001b[0;32m      3\u001b[0m     \u001b[38;5;28mprint\u001b[39m(\u001b[38;5;28mtype\u001b[39m(item))\n",
      "\u001b[1;31mNameError\u001b[0m: name 'Myclass' is not defined"
     ]
    }
   ],
   "source": [
    "anotherList = [int(), str(), tuple(), dict(), list(), print(), Funct(),Myclass()]\n",
    "for item in anotherList:\n",
    "    print(type(item))"
   ]
  },
  {
   "cell_type": "code",
   "execution_count": 13,
   "id": "c9018538",
   "metadata": {},
   "outputs": [
    {
     "name": "stdout",
     "output_type": "stream",
     "text": [
      "2\n",
      "2\n",
      "6\n",
      "7\n",
      "German Shephered does woof woof\n"
     ]
    }
   ],
   "source": [
    "\"\"\"\n",
    "Create two classes Pet and Dog 1. Requirements for Pet class\n",
    "Three class attributes pet_population , pet_instance and current_year\n",
    "Init constructor __init__(self,name,category,age), name is name of pet,category could be dog,cat,bird etc. and age is age of pet\n",
    "An instance method hellofrompet that prints hello from petname\n",
    "Create a class method timepassedby which takes years as argumentshould automatically increase the age of all the pet object as soon as the method is applied\n",
    "\"\"\"\n",
    "class Pet:\n",
    "    pet_population = 0\n",
    "    pet_instances = []\n",
    "    current_year = 2023\n",
    "\n",
    "    def __init__(self, name, category, age):\n",
    "        self.name = name\n",
    "        self.category = category\n",
    "        self.age = age\n",
    "        Pet.pet_population += 1\n",
    "        Pet.pet_instances.append(self)\n",
    "\n",
    "    def hellofrompet(self):\n",
    "        print(f\"Hello from {self.name}\")\n",
    "\n",
    "    @classmethod\n",
    "    def timepassedby(cls, years):\n",
    "        for pet in cls.pet_instances:\n",
    "            pet.age += years\n",
    "\n",
    "class Dog(Pet):\n",
    "    def __init__(self, name, category, age, breed):\n",
    "        super().__init__(name, category, age)\n",
    "        self.breed = breed\n",
    "\n",
    "    def barks(self):\n",
    "        print(f\"{self.breed} does woof woof\")\n",
    "\n",
    "#Validate your code: Run the following piece of code\n",
    "Instance1= Pet(\"Mickey\", \"Cat\", 1)\n",
    "Instance2= Dog(\"Saphie\", \"Dog\", 2, \"German Shephered\")\n",
    "\n",
    "print(Pet.pet_population)\n",
    "print(Dog.pet_population)\n",
    "\n",
    "Pet.timepassedby(5)\n",
    "print(Instance1.age)\n",
    "print(Instance2.age)\n",
    "\n",
    "Instance2.barks()\n"
   ]
  },
  {
   "cell_type": "code",
   "execution_count": null,
   "id": "8478c5c3",
   "metadata": {},
   "outputs": [],
   "source": []
  },
  {
   "cell_type": "code",
   "execution_count": null,
   "id": "8f26a015",
   "metadata": {},
   "outputs": [],
   "source": []
  }
 ],
 "metadata": {
  "kernelspec": {
   "display_name": "Python 3 (ipykernel)",
   "language": "python",
   "name": "python3"
  },
  "language_info": {
   "codemirror_mode": {
    "name": "ipython",
    "version": 3
   },
   "file_extension": ".py",
   "mimetype": "text/x-python",
   "name": "python",
   "nbconvert_exporter": "python",
   "pygments_lexer": "ipython3",
   "version": "3.10.7"
  }
 },
 "nbformat": 4,
 "nbformat_minor": 5
}
