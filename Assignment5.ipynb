{
 "cells": [
  {
   "cell_type": "code",
   "execution_count": 9,
   "id": "a42093d1",
   "metadata": {},
   "outputs": [
    {
     "name": "stdout",
     "output_type": "stream",
     "text": [
      "<class 'int'> <class 'str'>\n",
      "<class 'type'>\n",
      "<class 'type'>\n",
      "<class 'type'>\n",
      "<class 'type'>\n",
      "<class 'type'>\n",
      "<class 'builtin_function_or_method'>\n",
      "<class 'function'>\n",
      "<class 'type'>\n"
     ]
    }
   ],
   "source": [
    "a = 5\n",
    "b = \"some string\"\n",
    "print(type(a), type(b))\n",
    "\n",
    "def someFunction():\n",
    "    return\n",
    "\n",
    "class Someclass:\n",
    "    pass\n",
    "\n",
    "someList =[int, str, tuple, dict, list, print, someFunction, Someclass]\n",
    "for item in someList:\n",
    "    print(type(item))"
   ]
  },
  {
   "cell_type": "code",
   "execution_count": 10,
   "id": "6fcf057a",
   "metadata": {},
   "outputs": [
    {
     "name": "stdout",
     "output_type": "stream",
     "text": [
      "\n",
      "<class 'int'>\n",
      "<class 'str'>\n",
      "<class 'tuple'>\n",
      "<class 'dict'>\n",
      "<class 'list'>\n",
      "<class 'NoneType'>\n"
     ]
    }
   ],
   "source": [
    "anotherList = [int(), str(), tuple(), dict(), list(), print()]\n",
    "for item in anotherList:\n",
    "    print(type(item))"
   ]
  },
  {
   "cell_type": "code",
   "execution_count": 145,
   "id": "e9df9e9b",
   "metadata": {},
   "outputs": [],
   "source": [
    "class Pet:\n",
    "    \n",
    "    pet_population = 0\n",
    "    pet_instances = []\n",
    "    current_year = 2023 \n",
    "\n",
    "    def __init__(self, name, category, age):\n",
    "        self.name = name\n",
    "        self.category = category\n",
    "        self.age = age \n",
    "        Pet.pet_population += 1\n",
    "        Pet.pet_instances.append(self)\n",
    "      \n",
    "    def timepassedby(years):\n",
    "        for item in Pet.pet_instances:\n",
    "            item.age += years\n",
    "        \n",
    "    def hellofrompet(self):\n",
    "        print(f'Hello, {self.name}')   \n",
    "\n",
    "        \n",
    "class Dog(Pet):\n",
    "    def __init__(self, name, category, age, breed):\n",
    "        super().__init__(name, category, age)\n",
    "        self.breed = breed\n",
    "        \n",
    "    def barks(self):\n",
    "        print(f\"{self.breed} does 'woof woof'\") "
   ]
  },
  {
   "cell_type": "code",
   "execution_count": 146,
   "id": "ef46d480",
   "metadata": {},
   "outputs": [
    {
     "name": "stdout",
     "output_type": "stream",
     "text": [
      "2\n",
      "2\n",
      "Micky\n",
      "Saphie\n",
      "6\n",
      "7\n",
      "German Shepard does 'woof woof'\n"
     ]
    }
   ],
   "source": [
    "instance1 = Pet(\"Micky\", \"Cat\", 1)\n",
    "\n",
    "instance2= Dog(\"Saphie\", \"Dog\", 2, \"German Shepard\")\n",
    "\n",
    "print(Pet.pet_population)\n",
    "print(Dog.pet_population)\n",
    "\n",
    "for item in Pet.pet_instances:\n",
    "    print(item.name)  \n",
    "    \n",
    "Pet.timepassedby(5)\n",
    "print(instance1.age)\n",
    "print(instance2.age)\n",
    "\n",
    "#instance1.barks()\n",
    "instance2.barks()"
   ]
  },
  {
   "cell_type": "code",
   "execution_count": 110,
   "id": "cb853f13",
   "metadata": {},
   "outputs": [
    {
     "name": "stdout",
     "output_type": "stream",
     "text": [
      "Hello, Micky\n"
     ]
    }
   ],
   "source": [
    "instance1.hellofrompet()"
   ]
  }
 ],
 "metadata": {
  "kernelspec": {
   "display_name": "Python 3 (ipykernel)",
   "language": "python",
   "name": "python3"
  },
  "language_info": {
   "codemirror_mode": {
    "name": "ipython",
    "version": 3
   },
   "file_extension": ".py",
   "mimetype": "text/x-python",
   "name": "python",
   "nbconvert_exporter": "python",
   "pygments_lexer": "ipython3",
   "version": "3.10.10"
  }
 },
 "nbformat": 4,
 "nbformat_minor": 5
}
