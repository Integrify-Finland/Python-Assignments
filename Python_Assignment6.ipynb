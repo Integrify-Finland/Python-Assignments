{
  "nbformat": 4,
  "nbformat_minor": 0,
  "metadata": {
    "colab": {
      "provenance": [],
      "authorship_tag": "ABX9TyMdTu7yqFDaKl4d7WqwZ/Wi",
      "include_colab_link": true
    },
    "kernelspec": {
      "name": "python3",
      "display_name": "Python 3"
    },
    "language_info": {
      "name": "python"
    }
  },
  "cells": [
    {
      "cell_type": "markdown",
      "metadata": {
        "id": "view-in-github",
        "colab_type": "text"
      },
      "source": [
        "<a href=\"https://colab.research.google.com/github/afshari-maryam/Python-Assignment1/blob/main/Python_Assignment6.ipynb\" target=\"_parent\"><img src=\"https://colab.research.google.com/assets/colab-badge.svg\" alt=\"Open In Colab\"/></a>"
      ]
    },
    {
      "cell_type": "markdown",
      "source": [
        "#Unit Test Python:\n",
        "\n",
        "Your task is to write unit tests for a Python function that checks whether a given number is prime or not. The function takes an integer as input and returns a boolean value indicating whether the number is prime or not."
      ],
      "metadata": {
        "id": "jQi1JcQF6umB"
      }
    },
    {
      "cell_type": "code",
      "execution_count": 8,
      "metadata": {
        "id": "llLuJ2Bb5BLl"
      },
      "outputs": [],
      "source": [
        "def is_prime(n: int):\n",
        "  if n <= 1:\n",
        "    return False\n",
        "  for i in range(2, int(n ** 0.5) + 1):\n",
        "    if n % i == 0:\n",
        "      return False\n",
        "  return True"
      ]
    },
    {
      "cell_type": "markdown",
      "source": [
        "Your tests should cover various cases such as:\n",
        "\n",
        "Test for negative numbers\n",
        "Test for 0 and 1\n",
        "Test for small prime numbers (e.g., 2, 3, 5, 7)\n",
        "Test for small composite numbers (e.g., 4, 6, 8, 9)\n",
        "Test for large prime numbers (e.g., 103, 107, 109)\n",
        "Test for large composite numbers (e.g., 100, 200, 300)\n",
        "In the TestIsPrime class, we define several test methods, each testing a specific case. In each test method, we use the assert statements to check whether the output of the is_prime() function matches the expected output. If the output does not match, the test fails and the test runner reports the failure.\n",
        "\n",
        "To run the tests, we simply run the script. The test runner will discover and run all the test methods defined in the TestIsPrime class.\n",
        "\n",
        "We can also run the tests using a command-line test runner such as pytest. To do this, we need to install pytest by running pip install pytest and then run the tests using the pytest command. The test runner will discover and run all the test methods defined in the script."
      ],
      "metadata": {
        "id": "Aj715vgi60mh"
      }
    },
    {
      "cell_type": "code",
      "source": [
        "import unittest\n",
        "#from is_prime import is_prime\n",
        "\n",
        "class TestIsPrime(unittest.TestCase):\n",
        "    def test_negative_numbers(self):\n",
        "        self.assertFalse(is_prime(-5))\n",
        "        self.assertFalse(is_prime(-10))\n",
        "        self.assertFalse(is_prime(-100))\n",
        "\n",
        "    def test_zero_and_one(self):\n",
        "        self.assertFalse(is_prime(0))\n",
        "        self.assertFalse(is_prime(1))\n",
        "\n",
        "    def test_small_primes(self):\n",
        "        self.assertTrue(is_prime(2))\n",
        "        self.assertTrue(is_prime(3))\n",
        "        self.assertTrue(is_prime(5))\n",
        "        self.assertTrue(is_prime(7))\n",
        "\n",
        "    def test_small_composites(self):\n",
        "        self.assertFalse(is_prime(4))\n",
        "        self.assertFalse(is_prime(6))\n",
        "        self.assertFalse(is_prime(8))\n",
        "        self.assertFalse(is_prime(9))\n",
        "\n",
        "    def test_large_primes(self):\n",
        "        self.assertTrue(is_prime(103))\n",
        "        self.assertTrue(is_prime(107))\n",
        "        self.assertTrue(is_prime(109))\n",
        "\n",
        "    def test_large_composites(self):\n",
        "        self.assertFalse(is_prime(100))\n",
        "        self.assertFalse(is_prime(200))\n",
        "        self.assertFalse(is_prime(300))\n",
        "\n",
        "unittest.main(argv=[''], verbosity=2, exit=False)\n",
        "\n",
        "#if __name__ == '__main__':\n",
        "#    unittest.main()"
      ],
      "metadata": {
        "colab": {
          "base_uri": "https://localhost:8080/"
        },
        "id": "rbmiM-xw6iME",
        "outputId": "9596bf1b-693a-42d3-9018-51dc8c767b9d"
      },
      "execution_count": 9,
      "outputs": [
        {
          "output_type": "stream",
          "name": "stderr",
          "text": [
            "test_large_composites (__main__.TestIsPrime) ... ok\n",
            "test_large_primes (__main__.TestIsPrime) ... ok\n",
            "test_negative_numbers (__main__.TestIsPrime) ... ok\n",
            "test_small_composites (__main__.TestIsPrime) ... ok\n",
            "test_small_primes (__main__.TestIsPrime) ... ok\n",
            "test_zero_and_one (__main__.TestIsPrime) ... ok\n",
            "\n",
            "----------------------------------------------------------------------\n",
            "Ran 6 tests in 0.019s\n",
            "\n",
            "OK\n"
          ]
        },
        {
          "output_type": "execute_result",
          "data": {
            "text/plain": [
              "<unittest.main.TestProgram at 0x7fcf9515c490>"
            ]
          },
          "metadata": {},
          "execution_count": 9
        }
      ]
    }
  ]
}