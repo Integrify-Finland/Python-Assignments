{
 "cells": [
  {
   "cell_type": "code",
   "execution_count": 28,
   "id": "60214439",
   "metadata": {},
   "outputs": [
    {
     "name": "stdout",
     "output_type": "stream",
     "text": [
      "Hello World\n",
      "<class 'str'>\n",
      "('apple', 'bus', 'car')\n",
      "<class 'tuple'>\n",
      "20\n",
      "<class 'int'>\n",
      "20.01\n",
      "<class 'float'>\n",
      "['apple', 'banana', 'cherry']\n",
      "<class 'list'>\n",
      "{'name': 'John', 'age': 30, 'Job': 'Developer'}\n",
      "<class 'dict'>\n",
      "{'bus', 'apple', 'car'}\n",
      "<class 'set'>\n",
      "<class 'bool'>\n"
     ]
    }
   ],
   "source": [
    "##⦁\tUse the constructor methods to create different data types in python (integer,float,string,list,tuple,dictionary,set etc.).\n",
    "#Also use object literals to create those data types\n",
    "\n",
    "# data types\n",
    "# Constructor method\n",
    "x = str(\"Hello World\")\n",
    "print(x)\n",
    "#object literal\n",
    "dat_str = \"Hello World\"\n",
    "print(type(dat_str))\n",
    "\n",
    "\n",
    "# Constructor method\n",
    "y = tuple((\"apple\", \"bus\",\"car\"))\n",
    "print(y)          \n",
    "#object literal\n",
    "data_tuple = ('apple','bus','car')\n",
    "print(type(data_tuple))\n",
    "\n",
    "# Constructor method\n",
    "z = int(20)\n",
    "print(z)\n",
    "#object literal\n",
    "dat_int = 20\n",
    "print(type(dat_int))\n",
    "\n",
    "# Constructor method\n",
    "a = float(20.01)\n",
    "print(a)\n",
    "#object literal\n",
    "dat_float = 20.01\n",
    "print(type(dat_float))\n",
    "\n",
    "# Constructor method\n",
    "b = list(['apple','banana','cherry'])\n",
    "print(b)\n",
    "#object literal\n",
    "dat_list = ['apple','banana','cherry']\n",
    "print(type(dat_list))\n",
    "\n",
    "#constructor method\n",
    "c = dict({\"name\" : \"John\", \"age\" : 30, \"Job\" : \"Developer\"})\n",
    "print(c)\n",
    "#object literal\n",
    "dat_dict = {\"name\" : \"John\", \"age\" : 30, \"Job\" : \"Developer\"}\n",
    "print(type(dat_dict))\n",
    "\n",
    "#constructor method\n",
    "d = set({'apple', 'bus','car'})\n",
    "print(d)\n",
    "#object literal\n",
    "data_set = {'apple','bus','car'}\n",
    "print(type(data_set))\n",
    "\n",
    "e = True\n",
    "print(type(e))\n"
   ]
  },
  {
   "cell_type": "code",
   "execution_count": 61,
   "id": "8fb64a52",
   "metadata": {},
   "outputs": [
    {
     "name": "stdout",
     "output_type": "stream",
     "text": [
      "25.01\n",
      "<method-wrapper '__float__' of float object at 0x000001BAC9C50B70>\n",
      "<class 'method-wrapper'>\n",
      "15.010000000000002\n",
      "<method-wrapper '__mod__' of float object at 0x000001BAC9C50B70>\n",
      "60.03\n",
      "5.0025\n",
      "2.0100000000000016\n",
      "2.0100000000000016\n"
     ]
    }
   ],
   "source": [
    "#\tOnce you create an object of each data type, run dir(object). \n",
    "#Navigate the magic methods/dunder methods and other methods and attributes of each object. \n",
    "#Try to implement those methods and attributes as many as possible.\n",
    "#Eg:  a=int(5)\n",
    "       #dir(a)\n",
    "       #print(a.__add__(5))\n",
    "#Implementing above dunder method is same as print(a+5)\n",
    "#Verify the data types using methods type and isinstance.\n",
    "dir(a)\n",
    "print(a.__add__(5))\n",
    "print(a.__float__)\n",
    "\n",
    "k=(a.__getattribute__)\n",
    "\n",
    "print(type(k))\n",
    "print(a.__sub__(5))\n",
    "print(a.__mod__)\n",
    "print(a*3)\n",
    "print(a/4)\n",
    "print(a%3)\n",
    "print(a.__mod__(3))"
   ]
  },
  {
   "cell_type": "code",
   "execution_count": 39,
   "id": "6d9245c3",
   "metadata": {},
   "outputs": [
    {
     "name": "stdout",
     "output_type": "stream",
     "text": [
      "True\n"
     ]
    }
   ],
   "source": [
    "print(isinstance(a, float))"
   ]
  },
  {
   "cell_type": "code",
   "execution_count": 40,
   "id": "faa797c7",
   "metadata": {},
   "outputs": [
    {
     "data": {
      "text/plain": [
       "['__abs__',\n",
       " '__add__',\n",
       " '__bool__',\n",
       " '__ceil__',\n",
       " '__class__',\n",
       " '__delattr__',\n",
       " '__dir__',\n",
       " '__divmod__',\n",
       " '__doc__',\n",
       " '__eq__',\n",
       " '__float__',\n",
       " '__floor__',\n",
       " '__floordiv__',\n",
       " '__format__',\n",
       " '__ge__',\n",
       " '__getattribute__',\n",
       " '__getformat__',\n",
       " '__getnewargs__',\n",
       " '__gt__',\n",
       " '__hash__',\n",
       " '__init__',\n",
       " '__init_subclass__',\n",
       " '__int__',\n",
       " '__le__',\n",
       " '__lt__',\n",
       " '__mod__',\n",
       " '__mul__',\n",
       " '__ne__',\n",
       " '__neg__',\n",
       " '__new__',\n",
       " '__pos__',\n",
       " '__pow__',\n",
       " '__radd__',\n",
       " '__rdivmod__',\n",
       " '__reduce__',\n",
       " '__reduce_ex__',\n",
       " '__repr__',\n",
       " '__rfloordiv__',\n",
       " '__rmod__',\n",
       " '__rmul__',\n",
       " '__round__',\n",
       " '__rpow__',\n",
       " '__rsub__',\n",
       " '__rtruediv__',\n",
       " '__setattr__',\n",
       " '__setformat__',\n",
       " '__sizeof__',\n",
       " '__str__',\n",
       " '__sub__',\n",
       " '__subclasshook__',\n",
       " '__truediv__',\n",
       " '__trunc__',\n",
       " 'as_integer_ratio',\n",
       " 'conjugate',\n",
       " 'fromhex',\n",
       " 'hex',\n",
       " 'imag',\n",
       " 'is_integer',\n",
       " 'real']"
      ]
     },
     "execution_count": 40,
     "metadata": {},
     "output_type": "execute_result"
    }
   ],
   "source": [
    "dir(a)"
   ]
  },
  {
   "cell_type": "code",
   "execution_count": 67,
   "id": "41604c34",
   "metadata": {},
   "outputs": [
    {
     "name": "stdout",
     "output_type": "stream",
     "text": [
      "I love python\n",
      "I love python\n",
      "I love python version 3.1\n",
      "I love python version 3.100000\n"
     ]
    }
   ],
   "source": [
    "##different ways to format the string. \n",
    "print(\"I love python\")\n",
    "print(\"I love\" + \" python\")\n",
    "print(\"I love\" + \" python\" + \" version\", 3.10)\n",
    "print(\"I love\" + \" python\" +\" version %2f\"%3.10)"
   ]
  },
  {
   "cell_type": "code",
   "execution_count": 71,
   "id": "a50c3222",
   "metadata": {},
   "outputs": [
    {
     "name": "stdout",
     "output_type": "stream",
     "text": [
      "I love python version 3.10\n"
     ]
    }
   ],
   "source": [
    "print(\"I love %s version %.2f\"%(\"python\",3.10))"
   ]
  },
  {
   "cell_type": "code",
   "execution_count": 78,
   "id": "030ced4d",
   "metadata": {},
   "outputs": [
    {
     "name": "stdout",
     "output_type": "stream",
     "text": [
      "I love python version 3.1\n"
     ]
    }
   ],
   "source": [
    "print(\"I love {} version {}\".format(\"python\", 3.10))"
   ]
  },
  {
   "cell_type": "code",
   "execution_count": 73,
   "id": "d8a0d35f",
   "metadata": {},
   "outputs": [
    {
     "name": "stdout",
     "output_type": "stream",
     "text": [
      "I love python version 3.10\n"
     ]
    }
   ],
   "source": [
    "print(\"I love {} version {}\".format(\"python\", \"3.10\"))"
   ]
  },
  {
   "cell_type": "code",
   "execution_count": 79,
   "id": "ad9d6171",
   "metadata": {},
   "outputs": [
    {
     "name": "stdout",
     "output_type": "stream",
     "text": [
      "I love python version 3.10\n"
     ]
    }
   ],
   "source": [
    "print(\"I love {} version {:.2f}\".format(\"python\", 3.10))"
   ]
  },
  {
   "cell_type": "code",
   "execution_count": 81,
   "id": "23299943",
   "metadata": {},
   "outputs": [
    {
     "name": "stdout",
     "output_type": "stream",
     "text": [
      "I love 3.10 version python\n"
     ]
    }
   ],
   "source": [
    "print(\"I love {1} version {0}\".format(\"python\", \"3.10\"))"
   ]
  },
  {
   "cell_type": "code",
   "execution_count": 84,
   "id": "fc338c25",
   "metadata": {},
   "outputs": [
    {
     "name": "stdout",
     "output_type": "stream",
     "text": [
      "I love python version 3.10\n"
     ]
    }
   ],
   "source": [
    "print(\"I love {p1} version {version:.2f}\".format(p1=\"python\", version=3.10))"
   ]
  },
  {
   "cell_type": "code",
   "execution_count": 89,
   "id": "63d86ac3",
   "metadata": {},
   "outputs": [
    {
     "name": "stdout",
     "output_type": "stream",
     "text": [
      "I love python version 3.10\n"
     ]
    }
   ],
   "source": [
    "info={\"p1\":\"python\", \"version\": 3.10}\n",
    "print(f\"I love {info.get('p1')} version {info.get('version'):.2f}\")\n"
   ]
  },
  {
   "cell_type": "code",
   "execution_count": 90,
   "id": "71cfc824",
   "metadata": {},
   "outputs": [
    {
     "name": "stdout",
     "output_type": "stream",
     "text": [
      "I love python version 3.10\n"
     ]
    }
   ],
   "source": [
    "\n",
    "print(F'I love {info[\"p1\"]} version {info[\"version\"]:.2f}')"
   ]
  },
  {
   "cell_type": "code",
   "execution_count": 94,
   "id": "4a132b5e",
   "metadata": {},
   "outputs": [
    {
     "name": "stdout",
     "output_type": "stream",
     "text": [
      "I love python\n"
     ]
    }
   ],
   "source": [
    "# f string conditional\n",
    "batch = 'ML'\n",
    "print(f'I love {\"javascript\" if batch == \"FS\" else \"python\"}')"
   ]
  },
  {
   "cell_type": "code",
   "execution_count": 133,
   "id": "cbe80040",
   "metadata": {},
   "outputs": [
    {
     "name": "stdout",
     "output_type": "stream",
     "text": [
      "1\n",
      "['Sweden', 'Denmark', 'Netherlands', 'Germany', 'Norway', 'Iceland']\n",
      "['Finland', 'Sweden', 'Denmark', 'Netherlands', 'Germany', 'Norway']\n",
      "Iceland\n",
      "['Germany', 'Norway', 'Iceland']\n",
      "['Sweden', 'Netherlands', 'Norway']\n",
      "Finland Iceland\n",
      "['Netherlands', 'Germany', 'Norway']\n",
      "['Iceland', 'Norway', 'Germany', 'Netherlands', 'Denmark', 'Sweden', 'Finland']\n",
      "['Iceland', 'Germany', 'Denmark', 'Finland']\n",
      "['Sweden', 'Netherlands', 'Norway']\n",
      "[]\n",
      "['Germany', 'Netherlands', 'Denmark']\n",
      "('Germany', 'Netherlands', 'Denmark')\n",
      "0 Finland\n",
      "1 Sweden\n",
      "2 Denmark\n",
      "3 Netherlands\n",
      "4 Germany\n",
      "5 Norway\n",
      "6 Iceland\n"
     ]
    }
   ],
   "source": [
    "##⦁\tFamiliarize yourself with indexing in python.Iterables can be accessed using index\n",
    "##values in python. Eg: list, tuple,dict, set \n",
    "countries = [\"Finland\",\"Sweden\",\"Denmark\", \"Netherlands\", \"Germany\",\"Norway\",\"Iceland\"]\n",
    "print(countries.index(\"Sweden\"))#index of swede\n",
    "print(countries[1:])# all the items except first\n",
    "print(countries[:-1]) #all the item except last\"\n",
    "print(countries[-1]) #Find the last item using negative indexing\n",
    "print(countries[-3:])#Find the last three item using negative indexing\n",
    "print(countries[1::2]) #Grab all the items with odd indices\n",
    "print(countries[0], countries[-1])#Find the first and last item for the list\n",
    "print(countries[-4:-1])#Get [”Netherlands”,”Germany”,”Norway”] using negative indexing\n",
    "print(countries[::-1])# reverse the list\n",
    "print(countries[::-2])\n",
    "print(countries[1:100:2])\n",
    "print(countries[len(countries)-1:0:2])\n",
    "print(countries[-3:-6:-1])#Get the output ['Germany', 'Netherlands', 'Denmark']\n",
    "\n",
    "####Use enumerate method to get index and values in the list\n",
    "for index,country in enumerate(countries):\n",
    "    print(index, country)\n",
    "\n"
   ]
  },
  {
   "cell_type": "code",
   "execution_count": 142,
   "id": "48f79283",
   "metadata": {},
   "outputs": [
    {
     "data": {
      "text/plain": [
       "{'a': 1, 'b': 2, 'c': 3, 'd': 4}"
      ]
     },
     "execution_count": 142,
     "metadata": {},
     "output_type": "execute_result"
    }
   ],
   "source": [
    "###Exercise on dictionaries\n",
    "list_key = [\"a\",\"b\",\"c\",\"d\"]\n",
    "list_value = [1,2,3,4]\n",
    "my_dict =dict(zip (list_key,list_value))\n",
    "my_dict"
   ]
  },
  {
   "cell_type": "code",
   "execution_count": 151,
   "id": "77bd386b",
   "metadata": {},
   "outputs": [
    {
     "name": "stdout",
     "output_type": "stream",
     "text": [
      "merge_dict = {'John': 30, 'Sam': 25, 'Sagar': 32, 'Ron': 50, 'David': 35}\n",
      "{'John': 30, 'Sam': 25, 'Sagar': 32, 'Ron': 50, 'David': 35}\n"
     ]
    }
   ],
   "source": [
    "##⦁\tCreate two dictionaries, merge them into one.\n",
    "dict1 = {\"John\":30, \"Sam\": 25,\"Sagar\":32}\n",
    "dict2 = {\"Ron\":50, \"David\":35}\n",
    "merge_dict = {**dict1,**dict2}#unpacking method\n",
    "print(\"merge_dict = {}\".format(merge_dict))\n",
    "## update method\n",
    "merger_dict = dict1.copy()\n",
    "merger_dict.update(dict2)\n",
    "print(merger_dict)"
   ]
  },
  {
   "cell_type": "code",
   "execution_count": 17,
   "id": "62db83b4",
   "metadata": {},
   "outputs": [
    {
     "name": "stdout",
     "output_type": "stream",
     "text": [
      "{'Duy': ['Python', 'Database', 'ML'], 'Laxmi': ['Python', 'Database', 'ML'], 'Antonio': ['Python', 'Database', 'ML'], 'Maria': ['Python', 'Database', 'ML']}\n",
      "{'Duy': ['Python', 'Database', 'ML'], 'Laxmi': ['Python', 'Database', 'ML'], 'Antonio': ['JavaScript', 'Database', 'NodeJS'], 'Maria': ['Python', 'Database', 'ML']}\n",
      "{'Duy': ['Python', 'Database', 'ML'], 'Laxmi': ['Python', 'Database', 'ML'], 'Antonio': ['JavaScript', 'Database', 'NodeJS', 'Reactjs'], 'Maria': ['Python', 'Database', 'ML']}\n",
      "{'Duy': ['Python', 'Database', 'ML'], 'Laxmi': ['Python', 'Database', 'ML'], 'Antonio': ['JavaScript', 'Database', 'NodeJS', 'Vuejs'], 'Maria': ['Python', 'Database', 'ML']}\n",
      "{'Duy': ['Python', 'Database', 'ML'], 'Laxmi': ['Python', 'Database', 'ML'], 'Antonio': ['JavaScript', 'Database', 'NodeJS', 'Vuejs']}\n",
      "{'Laxmi': ['Python', 'Database', 'ML'], 'Antonio': ['JavaScript', 'Database', 'NodeJS', 'Vuejs']}\n",
      "{'Laxmi': ['Python', 'Database', 'ML']}\n",
      "('Antonio', ['JavaScript', 'Database', 'NodeJS', 'Vuejs'])\n"
     ]
    }
   ],
   "source": [
    "##################\n",
    "students=[\"Duy\", \"Laxmi\",\"Antonio\",\"Maria\"]\n",
    "course=[\"Python\",\"Database\",\"ML\"] \n",
    "students_profile = {xxx :course for xxx in students}\n",
    "print(students_profile)\n",
    "###⦁Modify Antonio’s course to [\"JavaScript\",\"Database\",\"NodeJS\"]\n",
    "students_profile['Antonio'] =  [\"JavaScript\",\"Database\",\"NodeJS\"]\n",
    "print(students_profile)\n",
    "##⦁\tAdd “ReactJs” to Anonio’s course\n",
    "students_profile['Antonio'].append('Reactjs')\n",
    "print(students_profile)\n",
    "##Replace Antonio’s “ReactJs” to “Vuejs”\n",
    "students_profile['Antonio'][students_profile['Antonio'].index('Reactjs')] = 'Vuejs'\n",
    "print(students_profile)\n",
    "\n",
    "#Remove an item from dictionary\n",
    "del students_profile['Maria']\n",
    "print(students_profile)\n",
    "\n",
    "students_profile.pop('Duy')\n",
    "print(students_profile)\n",
    "\n",
    "item =students_profile.popitem()\n",
    "print(students_profile)\n",
    "print(item)\n",
    "\n",
    "#Hint: use del statement or pop/ popitem method. Observe the differences\n"
   ]
  },
  {
   "cell_type": "code",
   "execution_count": null,
   "id": "1cf19e2e",
   "metadata": {},
   "outputs": [],
   "source": []
  },
  {
   "cell_type": "code",
   "execution_count": null,
   "id": "5154b2b1",
   "metadata": {},
   "outputs": [],
   "source": []
  },
  {
   "cell_type": "code",
   "execution_count": null,
   "id": "3a6a4d3b",
   "metadata": {},
   "outputs": [],
   "source": []
  }
 ],
 "metadata": {
  "kernelspec": {
   "display_name": "Python 3 (ipykernel)",
   "language": "python",
   "name": "python3"
  },
  "language_info": {
   "codemirror_mode": {
    "name": "ipython",
    "version": 3
   },
   "file_extension": ".py",
   "mimetype": "text/x-python",
   "name": "python",
   "nbconvert_exporter": "python",
   "pygments_lexer": "ipython3",
   "version": "3.9.13"
  }
 },
 "nbformat": 4,
 "nbformat_minor": 5
}
