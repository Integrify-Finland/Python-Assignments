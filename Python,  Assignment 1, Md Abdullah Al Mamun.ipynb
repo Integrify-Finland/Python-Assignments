{
 "cells": [
  {
   "cell_type": "markdown",
   "id": "22071306",
   "metadata": {},
   "source": [
    "# <center>Python Basics: Data types</center>\n",
    "\n",
    "### <center>Md. Abdullah-Al Mamun</center>\n",
    "\n",
    "# Question 1 : Part 1\n",
    "#### Data type: Integer       \n",
    "- constructor method: int()"
   ]
  },
  {
   "cell_type": "code",
   "execution_count": 1,
   "id": "2d5af3e4",
   "metadata": {
    "scrolled": true
   },
   "outputs": [
    {
     "data": {
      "text/plain": [
       "5"
      ]
     },
     "execution_count": 1,
     "metadata": {},
     "output_type": "execute_result"
    }
   ],
   "source": [
    "int(5)"
   ]
  },
  {
   "cell_type": "code",
   "execution_count": 2,
   "id": "fc678338",
   "metadata": {},
   "outputs": [
    {
     "data": {
      "text/plain": [
       "5"
      ]
     },
     "execution_count": 2,
     "metadata": {},
     "output_type": "execute_result"
    }
   ],
   "source": [
    "int(5.12)"
   ]
  },
  {
   "cell_type": "markdown",
   "id": "03a9d968",
   "metadata": {},
   "source": [
    "#### Data type: Float \n",
    "- constructor method: float()"
   ]
  },
  {
   "cell_type": "code",
   "execution_count": 3,
   "id": "8bed0fe7",
   "metadata": {},
   "outputs": [
    {
     "data": {
      "text/plain": [
       "5.12"
      ]
     },
     "execution_count": 3,
     "metadata": {},
     "output_type": "execute_result"
    }
   ],
   "source": [
    "float(5.12)"
   ]
  },
  {
   "cell_type": "code",
   "execution_count": 4,
   "id": "dcfb0359",
   "metadata": {},
   "outputs": [
    {
     "data": {
      "text/plain": [
       "5.0"
      ]
     },
     "execution_count": 4,
     "metadata": {},
     "output_type": "execute_result"
    }
   ],
   "source": [
    "float(5)"
   ]
  },
  {
   "cell_type": "markdown",
   "id": "04fa835f",
   "metadata": {},
   "source": [
    "#### Data type: String \n",
    "- constructor method: str()"
   ]
  },
  {
   "cell_type": "code",
   "execution_count": 5,
   "id": "33b76b9d",
   "metadata": {},
   "outputs": [
    {
     "data": {
      "text/plain": [
       "'Bangladesh'"
      ]
     },
     "execution_count": 5,
     "metadata": {},
     "output_type": "execute_result"
    }
   ],
   "source": [
    "str(\"Bangladesh\")"
   ]
  },
  {
   "cell_type": "code",
   "execution_count": 6,
   "id": "dcba86d4",
   "metadata": {},
   "outputs": [
    {
     "data": {
      "text/plain": [
       "'10'"
      ]
     },
     "execution_count": 6,
     "metadata": {},
     "output_type": "execute_result"
    }
   ],
   "source": [
    "str('10')"
   ]
  },
  {
   "cell_type": "code",
   "execution_count": 7,
   "id": "933da322",
   "metadata": {},
   "outputs": [
    {
     "data": {
      "text/plain": [
       "'10'"
      ]
     },
     "execution_count": 7,
     "metadata": {},
     "output_type": "execute_result"
    }
   ],
   "source": [
    "str(int(\"10\"))"
   ]
  },
  {
   "cell_type": "markdown",
   "id": "78b37345",
   "metadata": {},
   "source": [
    "#### Data type: Boolean\n",
    "- constructor method: bool()"
   ]
  },
  {
   "cell_type": "code",
   "execution_count": 8,
   "id": "f513fbf7",
   "metadata": {},
   "outputs": [
    {
     "data": {
      "text/plain": [
       "False"
      ]
     },
     "execution_count": 8,
     "metadata": {},
     "output_type": "execute_result"
    }
   ],
   "source": [
    "bool(5==4)"
   ]
  },
  {
   "cell_type": "code",
   "execution_count": 9,
   "id": "4319828f",
   "metadata": {},
   "outputs": [
    {
     "data": {
      "text/plain": [
       "True"
      ]
     },
     "execution_count": 9,
     "metadata": {},
     "output_type": "execute_result"
    }
   ],
   "source": [
    "bool(2==2.0)"
   ]
  },
  {
   "cell_type": "markdown",
   "id": "46687736",
   "metadata": {},
   "source": [
    "#### Data type: List\n",
    "- constructor method: list()"
   ]
  },
  {
   "cell_type": "code",
   "execution_count": 10,
   "id": "b861fbce",
   "metadata": {},
   "outputs": [
    {
     "data": {
      "text/plain": [
       "[1, 3, 5, 7]"
      ]
     },
     "execution_count": 10,
     "metadata": {},
     "output_type": "execute_result"
    }
   ],
   "source": [
    "list_seq=list([1,3,5,7])\n",
    "list_seq"
   ]
  },
  {
   "cell_type": "markdown",
   "id": "a569c5c2",
   "metadata": {},
   "source": [
    "#### Data type: Tuple\n",
    "- constructor method:tuple()"
   ]
  },
  {
   "cell_type": "code",
   "execution_count": 11,
   "id": "899f003c",
   "metadata": {},
   "outputs": [
    {
     "data": {
      "text/plain": [
       "(1, 2, 3, 4)"
      ]
     },
     "execution_count": 11,
     "metadata": {},
     "output_type": "execute_result"
    }
   ],
   "source": [
    "tuple((1,2,3,4))"
   ]
  },
  {
   "cell_type": "code",
   "execution_count": 12,
   "id": "299b6af0",
   "metadata": {},
   "outputs": [
    {
     "data": {
      "text/plain": [
       "(1, 3, 5, 7)"
      ]
     },
     "execution_count": 12,
     "metadata": {},
     "output_type": "execute_result"
    }
   ],
   "source": [
    "tuple_seq=tuple(list_seq)\n",
    "tuple_seq"
   ]
  },
  {
   "cell_type": "markdown",
   "id": "b402309a",
   "metadata": {},
   "source": [
    "#### Data type: Set\n",
    "- constructor method: set()"
   ]
  },
  {
   "cell_type": "code",
   "execution_count": 13,
   "id": "df535e58",
   "metadata": {},
   "outputs": [
    {
     "data": {
      "text/plain": [
       "{1, 2, 3, 4}"
      ]
     },
     "execution_count": 13,
     "metadata": {},
     "output_type": "execute_result"
    }
   ],
   "source": [
    "set({1,2,3,4})"
   ]
  },
  {
   "cell_type": "code",
   "execution_count": 14,
   "id": "1598a941",
   "metadata": {},
   "outputs": [
    {
     "data": {
      "text/plain": [
       "{1, 3, 5, 7}"
      ]
     },
     "execution_count": 14,
     "metadata": {},
     "output_type": "execute_result"
    }
   ],
   "source": [
    "set(list_seq)"
   ]
  },
  {
   "cell_type": "code",
   "execution_count": 15,
   "id": "59f8fefa",
   "metadata": {},
   "outputs": [
    {
     "data": {
      "text/plain": [
       "{1, 3, 5, 7}"
      ]
     },
     "execution_count": 15,
     "metadata": {},
     "output_type": "execute_result"
    }
   ],
   "source": [
    "set(tuple_seq)"
   ]
  },
  {
   "cell_type": "markdown",
   "id": "574d855a",
   "metadata": {},
   "source": [
    "#### Data type: Dictionary\n",
    "- constructor method: dict()"
   ]
  },
  {
   "cell_type": "code",
   "execution_count": 16,
   "id": "a7391fe2",
   "metadata": {},
   "outputs": [
    {
     "data": {
      "text/plain": [
       "{'BD': 'Bangladesh', 'FI': 'Finland', 'SE': 'Sweden'}"
      ]
     },
     "execution_count": 16,
     "metadata": {},
     "output_type": "execute_result"
    }
   ],
   "source": [
    "dict_seq=dict({\"BD\":\"Bangladesh\", \"FI\": \"Finland\",\"SE\": \"Sweden\"})\n",
    "dict_seq"
   ]
  },
  {
   "cell_type": "markdown",
   "id": "b0a1f7d6",
   "metadata": {},
   "source": [
    "# Question 1 : Part 2: Object literals"
   ]
  },
  {
   "cell_type": "markdown",
   "id": "364002a8",
   "metadata": {},
   "source": [
    "#### Data type: Integer       \n"
   ]
  },
  {
   "cell_type": "code",
   "execution_count": 17,
   "id": "6fae3f9c",
   "metadata": {},
   "outputs": [
    {
     "data": {
      "text/plain": [
       "5"
      ]
     },
     "execution_count": 17,
     "metadata": {},
     "output_type": "execute_result"
    }
   ],
   "source": [
    "x=5\n",
    "x"
   ]
  },
  {
   "cell_type": "markdown",
   "id": "5ff96b9f",
   "metadata": {},
   "source": [
    "#### Data type: Float "
   ]
  },
  {
   "cell_type": "code",
   "execution_count": 18,
   "id": "2f9202a9",
   "metadata": {},
   "outputs": [
    {
     "data": {
      "text/plain": [
       "5.12"
      ]
     },
     "execution_count": 18,
     "metadata": {},
     "output_type": "execute_result"
    }
   ],
   "source": [
    "x = 5.12\n",
    "x"
   ]
  },
  {
   "cell_type": "markdown",
   "id": "ec0c8704",
   "metadata": {},
   "source": [
    "#### Data type: String "
   ]
  },
  {
   "cell_type": "code",
   "execution_count": 19,
   "id": "7dc26292",
   "metadata": {},
   "outputs": [
    {
     "data": {
      "text/plain": [
       "'Bangladesh'"
      ]
     },
     "execution_count": 19,
     "metadata": {},
     "output_type": "execute_result"
    }
   ],
   "source": [
    "country= \"Bangladesh\"\n",
    "country"
   ]
  },
  {
   "cell_type": "code",
   "execution_count": 20,
   "id": "620c058c",
   "metadata": {},
   "outputs": [
    {
     "data": {
      "text/plain": [
       "'10'"
      ]
     },
     "execution_count": 20,
     "metadata": {},
     "output_type": "execute_result"
    }
   ],
   "source": [
    "num=\"10\"\n",
    "num"
   ]
  },
  {
   "cell_type": "markdown",
   "id": "605a7890",
   "metadata": {},
   "source": [
    "#### Data type: Boolean"
   ]
  },
  {
   "cell_type": "code",
   "execution_count": 21,
   "id": "e1b63e95",
   "metadata": {},
   "outputs": [
    {
     "data": {
      "text/plain": [
       "False"
      ]
     },
     "execution_count": 21,
     "metadata": {},
     "output_type": "execute_result"
    }
   ],
   "source": [
    "x=5\n",
    "y=4\n",
    "x==y"
   ]
  },
  {
   "cell_type": "code",
   "execution_count": 22,
   "id": "2b37c65d",
   "metadata": {},
   "outputs": [
    {
     "data": {
      "text/plain": [
       "False"
      ]
     },
     "execution_count": 22,
     "metadata": {},
     "output_type": "execute_result"
    }
   ],
   "source": [
    "m=2\n",
    "n=2.0\n",
    "m!=n"
   ]
  },
  {
   "cell_type": "markdown",
   "id": "5eaaee9e",
   "metadata": {},
   "source": [
    "#### Data type: List"
   ]
  },
  {
   "cell_type": "code",
   "execution_count": 23,
   "id": "3cf0dbd9",
   "metadata": {},
   "outputs": [
    {
     "data": {
      "text/plain": [
       "[1, 3, 5, 7]"
      ]
     },
     "execution_count": 23,
     "metadata": {},
     "output_type": "execute_result"
    }
   ],
   "source": [
    "seq=[1,3,5,7]\n",
    "seq"
   ]
  },
  {
   "cell_type": "markdown",
   "id": "a987ee9e",
   "metadata": {},
   "source": [
    "#### Data type: Tuple"
   ]
  },
  {
   "cell_type": "code",
   "execution_count": 24,
   "id": "7e4dfd82",
   "metadata": {},
   "outputs": [
    {
     "data": {
      "text/plain": [
       "(1, 2, 3, 4)"
      ]
     },
     "execution_count": 24,
     "metadata": {},
     "output_type": "execute_result"
    }
   ],
   "source": [
    "seq=(1,2,3,4)\n",
    "seq"
   ]
  },
  {
   "cell_type": "markdown",
   "id": "fe10929c",
   "metadata": {},
   "source": [
    "#### Data type: Set"
   ]
  },
  {
   "cell_type": "code",
   "execution_count": 25,
   "id": "579e9781",
   "metadata": {},
   "outputs": [
    {
     "data": {
      "text/plain": [
       "{1, 2, 3, 4}"
      ]
     },
     "execution_count": 25,
     "metadata": {},
     "output_type": "execute_result"
    }
   ],
   "source": [
    "x={1,2,3,4}\n",
    "x"
   ]
  },
  {
   "cell_type": "markdown",
   "id": "56794319",
   "metadata": {},
   "source": [
    "#### Data type: Dictionary"
   ]
  },
  {
   "cell_type": "code",
   "execution_count": 26,
   "id": "d8901766",
   "metadata": {},
   "outputs": [
    {
     "data": {
      "text/plain": [
       "{'BD': 'Bangladesh', 'FI': 'Finland', 'SE': 'Sweden'}"
      ]
     },
     "execution_count": 26,
     "metadata": {},
     "output_type": "execute_result"
    }
   ],
   "source": [
    "dict_seq={\"BD\":\"Bangladesh\", \"FI\": \"Finland\",\"SE\": \"Sweden\"}\n",
    "dict_seq"
   ]
  },
  {
   "cell_type": "markdown",
   "id": "c62fbb40",
   "metadata": {},
   "source": [
    "# Question 2 "
   ]
  },
  {
   "cell_type": "markdown",
   "id": "4f445904",
   "metadata": {},
   "source": [
    "### Arithmetic Operators"
   ]
  },
  {
   "cell_type": "code",
   "execution_count": 27,
   "id": "bf57671c",
   "metadata": {},
   "outputs": [],
   "source": [
    "# Operands\n",
    "x=100\n",
    "y=3"
   ]
  },
  {
   "cell_type": "code",
   "execution_count": 28,
   "id": "f1d156f9",
   "metadata": {},
   "outputs": [
    {
     "data": {
      "text/plain": [
       "103"
      ]
     },
     "execution_count": 28,
     "metadata": {},
     "output_type": "execute_result"
    }
   ],
   "source": [
    "# Addition\n",
    "\n",
    "x+y"
   ]
  },
  {
   "cell_type": "code",
   "execution_count": 29,
   "id": "5bf0df96",
   "metadata": {},
   "outputs": [
    {
     "data": {
      "text/plain": [
       "97"
      ]
     },
     "execution_count": 29,
     "metadata": {},
     "output_type": "execute_result"
    }
   ],
   "source": [
    "# Subtraction\n",
    "x-y"
   ]
  },
  {
   "cell_type": "code",
   "execution_count": 30,
   "id": "dc09b292",
   "metadata": {},
   "outputs": [
    {
     "data": {
      "text/plain": [
       "300"
      ]
     },
     "execution_count": 30,
     "metadata": {},
     "output_type": "execute_result"
    }
   ],
   "source": [
    "# Multiplication\n",
    "x*y"
   ]
  },
  {
   "cell_type": "code",
   "execution_count": 31,
   "id": "302b52a3",
   "metadata": {},
   "outputs": [
    {
     "data": {
      "text/plain": [
       "33.333333333333336"
      ]
     },
     "execution_count": 31,
     "metadata": {},
     "output_type": "execute_result"
    }
   ],
   "source": [
    "# Division\n",
    "x/y"
   ]
  },
  {
   "cell_type": "code",
   "execution_count": 32,
   "id": "05af6a3a",
   "metadata": {},
   "outputs": [
    {
     "data": {
      "text/plain": [
       "1"
      ]
     },
     "execution_count": 32,
     "metadata": {},
     "output_type": "execute_result"
    }
   ],
   "source": [
    "# Modulus\n",
    "x%y"
   ]
  },
  {
   "cell_type": "code",
   "execution_count": 33,
   "id": "7bb05d30",
   "metadata": {},
   "outputs": [
    {
     "data": {
      "text/plain": [
       "1000000"
      ]
     },
     "execution_count": 33,
     "metadata": {},
     "output_type": "execute_result"
    }
   ],
   "source": [
    "# Exponentiation\n",
    "x**y"
   ]
  },
  {
   "cell_type": "code",
   "execution_count": 34,
   "id": "86303e1a",
   "metadata": {},
   "outputs": [
    {
     "data": {
      "text/plain": [
       "33"
      ]
     },
     "execution_count": 34,
     "metadata": {},
     "output_type": "execute_result"
    }
   ],
   "source": [
    "# Floor division\n",
    "x//y"
   ]
  },
  {
   "cell_type": "markdown",
   "id": "54301f0b",
   "metadata": {},
   "source": [
    "###  Assignment Operators"
   ]
  },
  {
   "cell_type": "code",
   "execution_count": 35,
   "id": "3cf5ec30",
   "metadata": {},
   "outputs": [],
   "source": [
    "# = Operator\n",
    "x=5\n",
    "y=2"
   ]
  },
  {
   "cell_type": "code",
   "execution_count": 36,
   "id": "d1e899a4",
   "metadata": {},
   "outputs": [
    {
     "data": {
      "text/plain": [
       "7"
      ]
     },
     "execution_count": 36,
     "metadata": {},
     "output_type": "execute_result"
    }
   ],
   "source": [
    "#+= Operator\n",
    "\n",
    "x+=y\n",
    "x"
   ]
  },
  {
   "cell_type": "code",
   "execution_count": 37,
   "id": "96add6e2",
   "metadata": {},
   "outputs": [
    {
     "data": {
      "text/plain": [
       "3"
      ]
     },
     "execution_count": 37,
     "metadata": {},
     "output_type": "execute_result"
    }
   ],
   "source": [
    "# -= Operator\n",
    "x = 5\n",
    "x -= 2\n",
    "x"
   ]
  },
  {
   "cell_type": "code",
   "execution_count": 38,
   "id": "823f7819",
   "metadata": {},
   "outputs": [
    {
     "data": {
      "text/plain": [
       "25"
      ]
     },
     "execution_count": 38,
     "metadata": {},
     "output_type": "execute_result"
    }
   ],
   "source": [
    "# *= Operator\n",
    "x = 5\n",
    "x *= 5\n",
    "x"
   ]
  },
  {
   "cell_type": "code",
   "execution_count": 39,
   "id": "83102541",
   "metadata": {},
   "outputs": [
    {
     "data": {
      "text/plain": [
       "2.5"
      ]
     },
     "execution_count": 39,
     "metadata": {},
     "output_type": "execute_result"
    }
   ],
   "source": [
    "# /= Operator\n",
    "x = 5\n",
    "x /= 2\n",
    "x"
   ]
  },
  {
   "cell_type": "code",
   "execution_count": 40,
   "id": "8b0467d9",
   "metadata": {},
   "outputs": [
    {
     "data": {
      "text/plain": [
       "1"
      ]
     },
     "execution_count": 40,
     "metadata": {},
     "output_type": "execute_result"
    }
   ],
   "source": [
    "# %= Operator\n",
    "x = 5\n",
    "x %= 2\n",
    "x"
   ]
  },
  {
   "cell_type": "code",
   "execution_count": 41,
   "id": "6c7259fa",
   "metadata": {},
   "outputs": [
    {
     "data": {
      "text/plain": [
       "2"
      ]
     },
     "execution_count": 41,
     "metadata": {},
     "output_type": "execute_result"
    }
   ],
   "source": [
    "# //= Operator\n",
    "x = 5\n",
    "x //= 2\n",
    "x"
   ]
  },
  {
   "cell_type": "code",
   "execution_count": 42,
   "id": "f5c829c7",
   "metadata": {},
   "outputs": [
    {
     "data": {
      "text/plain": [
       "7"
      ]
     },
     "execution_count": 42,
     "metadata": {},
     "output_type": "execute_result"
    }
   ],
   "source": [
    "# |= Operator\n",
    "x = 5\n",
    "x |= 2\n",
    "x"
   ]
  },
  {
   "cell_type": "code",
   "execution_count": 43,
   "id": "40ccfe8a",
   "metadata": {},
   "outputs": [
    {
     "data": {
      "text/plain": [
       "7"
      ]
     },
     "execution_count": 43,
     "metadata": {},
     "output_type": "execute_result"
    }
   ],
   "source": [
    "# ^= Operator\n",
    "x = 5\n",
    "x ^= 2\n",
    "x"
   ]
  },
  {
   "cell_type": "code",
   "execution_count": 44,
   "id": "ba2cc8e3",
   "metadata": {},
   "outputs": [
    {
     "data": {
      "text/plain": [
       "1"
      ]
     },
     "execution_count": 44,
     "metadata": {},
     "output_type": "execute_result"
    }
   ],
   "source": [
    "# >>= Operator\n",
    "x = 5\n",
    "x >>= 2\n",
    "x"
   ]
  },
  {
   "cell_type": "code",
   "execution_count": 45,
   "id": "912e0f7f",
   "metadata": {},
   "outputs": [
    {
     "data": {
      "text/plain": [
       "20"
      ]
     },
     "execution_count": 45,
     "metadata": {},
     "output_type": "execute_result"
    }
   ],
   "source": [
    "# <<= Operator\n",
    "x = 5\n",
    "x <<= 2\n",
    "x"
   ]
  },
  {
   "cell_type": "markdown",
   "id": "7c70773c",
   "metadata": {},
   "source": [
    "### Python Comparison Operators"
   ]
  },
  {
   "cell_type": "code",
   "execution_count": 46,
   "id": "f87cf712",
   "metadata": {},
   "outputs": [
    {
     "data": {
      "text/plain": [
       "False"
      ]
     },
     "execution_count": 46,
     "metadata": {},
     "output_type": "execute_result"
    }
   ],
   "source": [
    "# == Operator\n",
    "x = 10\n",
    "y = 2\n",
    "x == y"
   ]
  },
  {
   "cell_type": "code",
   "execution_count": 47,
   "id": "a2bb2854",
   "metadata": {},
   "outputs": [
    {
     "data": {
      "text/plain": [
       "True"
      ]
     },
     "execution_count": 47,
     "metadata": {},
     "output_type": "execute_result"
    }
   ],
   "source": [
    "# != Operator\n",
    "x = 10\n",
    "y = 2\n",
    "x != y"
   ]
  },
  {
   "cell_type": "code",
   "execution_count": 48,
   "id": "877f4643",
   "metadata": {},
   "outputs": [
    {
     "data": {
      "text/plain": [
       "True"
      ]
     },
     "execution_count": 48,
     "metadata": {},
     "output_type": "execute_result"
    }
   ],
   "source": [
    "# > Operator\n",
    "x = 10\n",
    "y = 2\n",
    "x >  y"
   ]
  },
  {
   "cell_type": "code",
   "execution_count": 49,
   "id": "cd061859",
   "metadata": {},
   "outputs": [
    {
     "data": {
      "text/plain": [
       "False"
      ]
     },
     "execution_count": 49,
     "metadata": {},
     "output_type": "execute_result"
    }
   ],
   "source": [
    "# < Operator\n",
    "x = 10\n",
    "y = 2\n",
    "x <  y"
   ]
  },
  {
   "cell_type": "code",
   "execution_count": 50,
   "id": "db1c00b8",
   "metadata": {},
   "outputs": [
    {
     "data": {
      "text/plain": [
       "True"
      ]
     },
     "execution_count": 50,
     "metadata": {},
     "output_type": "execute_result"
    }
   ],
   "source": [
    "# >= Operator\n",
    "x = 10\n",
    "y = 2\n",
    "x >=  y"
   ]
  },
  {
   "cell_type": "code",
   "execution_count": 51,
   "id": "689933d0",
   "metadata": {},
   "outputs": [
    {
     "data": {
      "text/plain": [
       "False"
      ]
     },
     "execution_count": 51,
     "metadata": {},
     "output_type": "execute_result"
    }
   ],
   "source": [
    "# <= Operator\n",
    "x = 10\n",
    "y = 2\n",
    "x <= y"
   ]
  },
  {
   "cell_type": "markdown",
   "id": "fbbe091b",
   "metadata": {},
   "source": [
    "### Python Logical Operators"
   ]
  },
  {
   "cell_type": "code",
   "execution_count": 52,
   "id": "3d78fbc7",
   "metadata": {},
   "outputs": [
    {
     "data": {
      "text/plain": [
       "True"
      ]
     },
     "execution_count": 52,
     "metadata": {},
     "output_type": "execute_result"
    }
   ],
   "source": [
    "# and Operator\n",
    "\n",
    "x=3\n",
    "y=10\n",
    "\n",
    "x<4 and y>5 "
   ]
  },
  {
   "cell_type": "code",
   "execution_count": 53,
   "id": "fa191b16",
   "metadata": {},
   "outputs": [
    {
     "data": {
      "text/plain": [
       "True"
      ]
     },
     "execution_count": 53,
     "metadata": {},
     "output_type": "execute_result"
    }
   ],
   "source": [
    "# or Operator\n",
    "x=3\n",
    "y=10\n",
    "\n",
    "(x>4 or y>5) # because y>5 = true"
   ]
  },
  {
   "cell_type": "code",
   "execution_count": 54,
   "id": "a8202b77",
   "metadata": {},
   "outputs": [
    {
     "data": {
      "text/plain": [
       "False"
      ]
     },
     "execution_count": 54,
     "metadata": {},
     "output_type": "execute_result"
    }
   ],
   "source": [
    "# not Operator\n",
    "\n",
    "x=3\n",
    "y=10\n",
    "\n",
    "not(x<4 and y>5)\n"
   ]
  },
  {
   "cell_type": "code",
   "execution_count": 55,
   "id": "225c7e63",
   "metadata": {},
   "outputs": [
    {
     "data": {
      "text/plain": [
       "False"
      ]
     },
     "execution_count": 55,
     "metadata": {},
     "output_type": "execute_result"
    }
   ],
   "source": [
    "not(x>4 or y>5)"
   ]
  },
  {
   "cell_type": "markdown",
   "id": "9d32dfed",
   "metadata": {},
   "source": [
    "### Python Identity Operators"
   ]
  },
  {
   "cell_type": "code",
   "execution_count": 56,
   "id": "a336b35b",
   "metadata": {},
   "outputs": [
    {
     "data": {
      "text/plain": [
       "False"
      ]
     },
     "execution_count": 56,
     "metadata": {},
     "output_type": "execute_result"
    }
   ],
   "source": [
    "# is  Operator\n",
    "\n",
    "x=3\n",
    "y=10\n",
    "\n",
    "x is y"
   ]
  },
  {
   "cell_type": "code",
   "execution_count": 57,
   "id": "055306cd",
   "metadata": {},
   "outputs": [
    {
     "data": {
      "text/plain": [
       "True"
      ]
     },
     "execution_count": 57,
     "metadata": {},
     "output_type": "execute_result"
    }
   ],
   "source": [
    "# is not Operator\n",
    "x=3\n",
    "y=10\n",
    "x is not  y"
   ]
  },
  {
   "cell_type": "markdown",
   "id": "b6b2a24e",
   "metadata": {},
   "source": [
    "### Python Membership Operators"
   ]
  },
  {
   "cell_type": "code",
   "execution_count": 58,
   "id": "57eb2c8b",
   "metadata": {},
   "outputs": [
    {
     "name": "stdout",
     "output_type": "stream",
     "text": [
      "You choose 2\n"
     ]
    }
   ],
   "source": [
    "# in Operator\n",
    "\n",
    "seq = [1, 2, 3,4]\n",
    "if 2 in seq:\n",
    "    print(\"You choose {}\".format(2))"
   ]
  },
  {
   "cell_type": "code",
   "execution_count": 59,
   "id": "a4800cec",
   "metadata": {},
   "outputs": [
    {
     "name": "stdout",
     "output_type": "stream",
     "text": [
      "choose 1 to 4\n"
     ]
    }
   ],
   "source": [
    "# not in Operator\n",
    "\n",
    "seq = [1, 2, 3,4]\n",
    "if 5 not in seq:\n",
    "    print(\"choose 1 to 4\")"
   ]
  },
  {
   "cell_type": "markdown",
   "id": "ccf37002",
   "metadata": {},
   "source": [
    "### Python Bitwise Operators"
   ]
  },
  {
   "cell_type": "code",
   "execution_count": 60,
   "id": "a0191ea0",
   "metadata": {},
   "outputs": [
    {
     "data": {
      "text/plain": [
       "2"
      ]
     },
     "execution_count": 60,
     "metadata": {},
     "output_type": "execute_result"
    }
   ],
   "source": [
    "# & (AND) Operator\n",
    "x=3\n",
    "y=10\n",
    "\n",
    "x & y"
   ]
  },
  {
   "cell_type": "code",
   "execution_count": 61,
   "id": "cec119b8",
   "metadata": {},
   "outputs": [
    {
     "data": {
      "text/plain": [
       "11"
      ]
     },
     "execution_count": 61,
     "metadata": {},
     "output_type": "execute_result"
    }
   ],
   "source": [
    "# |(OR) Operator\n",
    "x=3\n",
    "y=10\n",
    "\n",
    "x | y"
   ]
  },
  {
   "cell_type": "code",
   "execution_count": 62,
   "id": "bd4594c2",
   "metadata": {},
   "outputs": [
    {
     "data": {
      "text/plain": [
       "9"
      ]
     },
     "execution_count": 62,
     "metadata": {},
     "output_type": "execute_result"
    }
   ],
   "source": [
    "# ^ (XOR) Operator\n",
    "x=3\n",
    "y=10\n",
    "\n",
    "x ^ y"
   ]
  },
  {
   "cell_type": "code",
   "execution_count": 63,
   "id": "9d72d630",
   "metadata": {},
   "outputs": [
    {
     "name": "stdout",
     "output_type": "stream",
     "text": [
      "-4\n",
      "-11\n"
     ]
    }
   ],
   "source": [
    "# ~(NOT) Operator\n",
    "x=3\n",
    "y=10\n",
    "\n",
    "print(~ x)\n",
    "print(~ y)"
   ]
  },
  {
   "cell_type": "code",
   "execution_count": 64,
   "id": "4207ce8f",
   "metadata": {},
   "outputs": [
    {
     "name": "stdout",
     "output_type": "stream",
     "text": [
      "3072\n"
     ]
    }
   ],
   "source": [
    "# <<(Zero fill left shift)  Operator\n",
    "x=3\n",
    "y=10\n",
    "\n",
    "print(x<<y)\n"
   ]
  },
  {
   "cell_type": "code",
   "execution_count": 65,
   "id": "31f83531",
   "metadata": {},
   "outputs": [
    {
     "name": "stdout",
     "output_type": "stream",
     "text": [
      "1\n"
     ]
    }
   ],
   "source": [
    "# >>(Signed right shift) Operator\n",
    "x=3\n",
    "y=10\n",
    "\n",
    "print(y>>x)"
   ]
  },
  {
   "cell_type": "markdown",
   "id": "f7e03836",
   "metadata": {},
   "source": [
    "### Operator Precedence\n",
    "#### Follows PEMDAS rule: Parentheses, Exponents, Multiplication and Division\n",
    "#### starting with the highest precedence at the top:"
   ]
  },
  {
   "cell_type": "code",
   "execution_count": 66,
   "id": "2520ad65",
   "metadata": {},
   "outputs": [
    {
     "name": "stdout",
     "output_type": "stream",
     "text": [
      "133.5\n"
     ]
    }
   ],
   "source": [
    "# () operators, highest precedence, then ** Exponentiation\n",
    "\n",
    "x=3\n",
    "y=10\n",
    "\n",
    "print(((x**2 + y**2)*2) - ((x + y)**2/2))"
   ]
  },
  {
   "cell_type": "code",
   "execution_count": 67,
   "id": "c5c8a734",
   "metadata": {},
   "outputs": [
    {
     "name": "stdout",
     "output_type": "stream",
     "text": [
      "6\n",
      "13\n",
      "7\n"
     ]
    }
   ],
   "source": [
    "# +x  -x  ~x Operator\n",
    "\n",
    "print(y + ~x)\n",
    "print(y + +x)\n",
    "print(y + -x)"
   ]
  },
  {
   "cell_type": "code",
   "execution_count": 68,
   "id": "8ece67db",
   "metadata": {},
   "outputs": [
    {
     "name": "stdout",
     "output_type": "stream",
     "text": [
      "3\n",
      "3\n"
     ]
    }
   ],
   "source": [
    "# *  /  //  % Operator\n",
    "\n",
    "print(x % y)\n",
    "\n",
    "print(y // x)"
   ]
  },
  {
   "cell_type": "code",
   "execution_count": 69,
   "id": "7cfcbb66",
   "metadata": {},
   "outputs": [
    {
     "name": "stdout",
     "output_type": "stream",
     "text": [
      "13\n",
      "-7\n"
     ]
    }
   ],
   "source": [
    "# +, - operators\n",
    "\n",
    "print(x + y)\n",
    "print(x - y)"
   ]
  },
  {
   "cell_type": "code",
   "execution_count": 70,
   "id": "637e0eff",
   "metadata": {},
   "outputs": [
    {
     "name": "stdout",
     "output_type": "stream",
     "text": [
      "10\n",
      "384\n"
     ]
    }
   ],
   "source": [
    "# << , >> Operator\n",
    "print(y >> x - x)\n",
    "print(x << y - x)"
   ]
  },
  {
   "cell_type": "code",
   "execution_count": 71,
   "id": "32c0b375",
   "metadata": {},
   "outputs": [
    {
     "name": "stdout",
     "output_type": "stream",
     "text": [
      "4\n"
     ]
    }
   ],
   "source": [
    "# & Operator\n",
    "\n",
    "print(int(y/2) & x*2)"
   ]
  },
  {
   "cell_type": "code",
   "execution_count": 72,
   "id": "5d099883",
   "metadata": {},
   "outputs": [
    {
     "name": "stdout",
     "output_type": "stream",
     "text": [
      "3\n"
     ]
    }
   ],
   "source": [
    "# ^ Operator\n",
    "\n",
    "print(int(y/2) ^ x*2)"
   ]
  },
  {
   "cell_type": "code",
   "execution_count": 73,
   "id": "3faa7969",
   "metadata": {},
   "outputs": [
    {
     "name": "stdout",
     "output_type": "stream",
     "text": [
      "3\n"
     ]
    }
   ],
   "source": [
    "# | Operator\n",
    "\n",
    "print(int(y/2) ^ x*2)"
   ]
  },
  {
   "cell_type": "code",
   "execution_count": 74,
   "id": "7f0039c8",
   "metadata": {},
   "outputs": [
    {
     "name": "stdout",
     "output_type": "stream",
     "text": [
      "False\n",
      "True\n",
      "False\n",
      "False\n",
      "True\n",
      "True\n",
      "True\n",
      "False\n"
     ]
    },
    {
     "name": "stderr",
     "output_type": "stream",
     "text": [
      "<>:9: SyntaxWarning: \"is\" with a literal. Did you mean \"==\"?\n",
      "<>:10: SyntaxWarning: \"is not\" with a literal. Did you mean \"!=\"?\n",
      "<>:9: SyntaxWarning: \"is\" with a literal. Did you mean \"==\"?\n",
      "<>:10: SyntaxWarning: \"is not\" with a literal. Did you mean \"!=\"?\n",
      "C:\\Users\\Mamun\\AppData\\Local\\Temp\\ipykernel_17824\\3084148939.py:9: SyntaxWarning: \"is\" with a literal. Did you mean \"==\"?\n",
      "  print(x is (3)) # even though value is same, x and 3 are two different objects, thats why getting False.\n",
      "C:\\Users\\Mamun\\AppData\\Local\\Temp\\ipykernel_17824\\3084148939.py:10: SyntaxWarning: \"is not\" with a literal. Did you mean \"!=\"?\n",
      "  print(x is not (3))\n"
     ]
    }
   ],
   "source": [
    "# ==,  != , >,  >=,  <,  <= , is,  is not,  in , not in,  Operator\n",
    "\n",
    "print(x == (3+1))\n",
    "print(x != (3+1))\n",
    "print(x > (3+1))\n",
    "print(x >= (3+1))\n",
    "print(x < (3+1))\n",
    "print(x <= (3+1))\n",
    "print(x is (3)) # even though value is same, x and 3 are two different objects, thats why getting False.\n",
    "print(x is not (3))"
   ]
  },
  {
   "cell_type": "code",
   "execution_count": 75,
   "id": "d5d9e06c",
   "metadata": {},
   "outputs": [
    {
     "name": "stdout",
     "output_type": "stream",
     "text": [
      "choose 1 to 4\n"
     ]
    }
   ],
   "source": [
    "seq = [1, 2, 3,4]\n",
    "if 5 not in seq:\n",
    "    print(\"choose 1 to 4\")"
   ]
  },
  {
   "cell_type": "code",
   "execution_count": 76,
   "id": "fbef0100",
   "metadata": {},
   "outputs": [
    {
     "name": "stdout",
     "output_type": "stream",
     "text": [
      "You choose 2\n"
     ]
    }
   ],
   "source": [
    "seq = [1, 2, 3,4]\n",
    "if 2 in seq:\n",
    "    print(\"You choose {}\".format(2))"
   ]
  },
  {
   "cell_type": "code",
   "execution_count": 77,
   "id": "916bd896",
   "metadata": {},
   "outputs": [
    {
     "name": "stdout",
     "output_type": "stream",
     "text": [
      "False\n",
      "True\n"
     ]
    }
   ],
   "source": [
    "# not Operator\n",
    "print(not x == 3)\n",
    "print(x == 3)"
   ]
  },
  {
   "cell_type": "code",
   "execution_count": 78,
   "id": "c7540859",
   "metadata": {},
   "outputs": [
    {
     "name": "stdout",
     "output_type": "stream",
     "text": [
      "2\n"
     ]
    }
   ],
   "source": [
    "# and Operator\n",
    "\n",
    "print(x & y)"
   ]
  },
  {
   "cell_type": "code",
   "execution_count": 79,
   "id": "ef293faa",
   "metadata": {},
   "outputs": [
    {
     "name": "stdout",
     "output_type": "stream",
     "text": [
      "3\n"
     ]
    }
   ],
   "source": [
    "# or Operator\n",
    "print(x & (x or y))"
   ]
  },
  {
   "cell_type": "markdown",
   "id": "f219fe4c",
   "metadata": {},
   "source": [
    "# Question 3"
   ]
  },
  {
   "cell_type": "code",
   "execution_count": 80,
   "id": "827049cc",
   "metadata": {},
   "outputs": [
    {
     "data": {
      "text/plain": [
       "['__abs__',\n",
       " '__add__',\n",
       " '__and__',\n",
       " '__bool__',\n",
       " '__ceil__',\n",
       " '__class__',\n",
       " '__delattr__',\n",
       " '__dir__',\n",
       " '__divmod__',\n",
       " '__doc__',\n",
       " '__eq__',\n",
       " '__float__',\n",
       " '__floor__',\n",
       " '__floordiv__',\n",
       " '__format__',\n",
       " '__ge__',\n",
       " '__getattribute__',\n",
       " '__getnewargs__',\n",
       " '__gt__',\n",
       " '__hash__',\n",
       " '__index__',\n",
       " '__init__',\n",
       " '__init_subclass__',\n",
       " '__int__',\n",
       " '__invert__',\n",
       " '__le__',\n",
       " '__lshift__',\n",
       " '__lt__',\n",
       " '__mod__',\n",
       " '__mul__',\n",
       " '__ne__',\n",
       " '__neg__',\n",
       " '__new__',\n",
       " '__or__',\n",
       " '__pos__',\n",
       " '__pow__',\n",
       " '__radd__',\n",
       " '__rand__',\n",
       " '__rdivmod__',\n",
       " '__reduce__',\n",
       " '__reduce_ex__',\n",
       " '__repr__',\n",
       " '__rfloordiv__',\n",
       " '__rlshift__',\n",
       " '__rmod__',\n",
       " '__rmul__',\n",
       " '__ror__',\n",
       " '__round__',\n",
       " '__rpow__',\n",
       " '__rrshift__',\n",
       " '__rshift__',\n",
       " '__rsub__',\n",
       " '__rtruediv__',\n",
       " '__rxor__',\n",
       " '__setattr__',\n",
       " '__sizeof__',\n",
       " '__str__',\n",
       " '__sub__',\n",
       " '__subclasshook__',\n",
       " '__truediv__',\n",
       " '__trunc__',\n",
       " '__xor__',\n",
       " 'as_integer_ratio',\n",
       " 'bit_length',\n",
       " 'conjugate',\n",
       " 'denominator',\n",
       " 'from_bytes',\n",
       " 'imag',\n",
       " 'numerator',\n",
       " 'real',\n",
       " 'to_bytes']"
      ]
     },
     "execution_count": 80,
     "metadata": {},
     "output_type": "execute_result"
    }
   ],
   "source": [
    "dir(x)"
   ]
  },
  {
   "cell_type": "markdown",
   "id": "3f27b8e4",
   "metadata": {},
   "source": [
    "### Data type: Integer       \n"
   ]
  },
  {
   "cell_type": "code",
   "execution_count": 81,
   "id": "a80e122b",
   "metadata": {},
   "outputs": [
    {
     "name": "stdout",
     "output_type": "stream",
     "text": [
      "10\n"
     ]
    }
   ],
   "source": [
    "x=int(5)\n",
    "dir(x)\n",
    "print(x.__add__(5))"
   ]
  },
  {
   "cell_type": "code",
   "execution_count": 82,
   "id": "ccca40c9",
   "metadata": {},
   "outputs": [
    {
     "name": "stdout",
     "output_type": "stream",
     "text": [
      "10\n"
     ]
    }
   ],
   "source": [
    "print(x+5)"
   ]
  },
  {
   "cell_type": "markdown",
   "id": "42e139af",
   "metadata": {},
   "source": [
    "##### Above dunder method is same as print(x+5) "
   ]
  },
  {
   "cell_type": "markdown",
   "id": "33970926",
   "metadata": {},
   "source": [
    "#### Verifying the data types using methods type and isinstance."
   ]
  },
  {
   "cell_type": "code",
   "execution_count": 83,
   "id": "ba570331",
   "metadata": {},
   "outputs": [
    {
     "data": {
      "text/plain": [
       "int"
      ]
     },
     "execution_count": 83,
     "metadata": {},
     "output_type": "execute_result"
    }
   ],
   "source": [
    "type(x.__add__(5))"
   ]
  },
  {
   "cell_type": "code",
   "execution_count": 84,
   "id": "478c4b5c",
   "metadata": {},
   "outputs": [
    {
     "data": {
      "text/plain": [
       "int"
      ]
     },
     "execution_count": 84,
     "metadata": {},
     "output_type": "execute_result"
    }
   ],
   "source": [
    "type(x+5)"
   ]
  },
  {
   "cell_type": "code",
   "execution_count": 85,
   "id": "34e7c9ea",
   "metadata": {},
   "outputs": [
    {
     "data": {
      "text/plain": [
       "True"
      ]
     },
     "execution_count": 85,
     "metadata": {},
     "output_type": "execute_result"
    }
   ],
   "source": [
    "isinstance(x.__add__(5), int)"
   ]
  },
  {
   "cell_type": "code",
   "execution_count": 86,
   "id": "2a1e5b41",
   "metadata": {},
   "outputs": [
    {
     "data": {
      "text/plain": [
       "False"
      ]
     },
     "execution_count": 86,
     "metadata": {},
     "output_type": "execute_result"
    }
   ],
   "source": [
    "isinstance(x.__add__(5), float)"
   ]
  },
  {
   "cell_type": "code",
   "execution_count": 87,
   "id": "3914eee9",
   "metadata": {},
   "outputs": [
    {
     "data": {
      "text/plain": [
       "True"
      ]
     },
     "execution_count": 87,
     "metadata": {},
     "output_type": "execute_result"
    }
   ],
   "source": [
    "isinstance((x+5), int)"
   ]
  },
  {
   "cell_type": "code",
   "execution_count": 88,
   "id": "e8447ffa",
   "metadata": {},
   "outputs": [],
   "source": [
    "## playing with some other dunder methods"
   ]
  },
  {
   "cell_type": "code",
   "execution_count": 89,
   "id": "0a9c6ef4",
   "metadata": {},
   "outputs": [
    {
     "name": "stdout",
     "output_type": "stream",
     "text": [
      "5\n"
     ]
    }
   ],
   "source": [
    "x=int(5.0025)\n",
    "print(x.__abs__())"
   ]
  },
  {
   "cell_type": "code",
   "execution_count": 90,
   "id": "2e4ec716",
   "metadata": {},
   "outputs": [
    {
     "name": "stdout",
     "output_type": "stream",
     "text": [
      "5\n"
     ]
    }
   ],
   "source": [
    "x=int(5.0025)\n",
    "print(x.__ceil__())"
   ]
  },
  {
   "cell_type": "code",
   "execution_count": 91,
   "id": "47061650",
   "metadata": {},
   "outputs": [
    {
     "name": "stdout",
     "output_type": "stream",
     "text": [
      "25\n"
     ]
    }
   ],
   "source": [
    "x=int(5)\n",
    "print(x.__mul__(5))"
   ]
  },
  {
   "cell_type": "markdown",
   "id": "3bc0d4de",
   "metadata": {},
   "source": [
    "### Data type: Float "
   ]
  },
  {
   "cell_type": "code",
   "execution_count": 92,
   "id": "94bd0b9d",
   "metadata": {},
   "outputs": [
    {
     "data": {
      "text/plain": [
       "5.12"
      ]
     },
     "execution_count": 92,
     "metadata": {},
     "output_type": "execute_result"
    }
   ],
   "source": [
    "x = 5.12\n",
    "x"
   ]
  },
  {
   "cell_type": "code",
   "execution_count": 93,
   "id": "d069112e",
   "metadata": {},
   "outputs": [
    {
     "name": "stdout",
     "output_type": "stream",
     "text": [
      "10.24\n"
     ]
    }
   ],
   "source": [
    "x=float(5.12)\n",
    "print(x.__mul__(2))"
   ]
  },
  {
   "cell_type": "code",
   "execution_count": 94,
   "id": "4cba4281",
   "metadata": {},
   "outputs": [
    {
     "name": "stdout",
     "output_type": "stream",
     "text": [
      "10.24\n"
     ]
    }
   ],
   "source": [
    "print(x*2)"
   ]
  },
  {
   "cell_type": "markdown",
   "id": "a861162b",
   "metadata": {},
   "source": [
    "##### Above dunder method is same as print(x*2) "
   ]
  },
  {
   "cell_type": "markdown",
   "id": "72ca0acb",
   "metadata": {},
   "source": [
    "#### Verifying the data types using methods type and isinstance."
   ]
  },
  {
   "cell_type": "code",
   "execution_count": 95,
   "id": "b087bd1d",
   "metadata": {},
   "outputs": [
    {
     "data": {
      "text/plain": [
       "float"
      ]
     },
     "execution_count": 95,
     "metadata": {},
     "output_type": "execute_result"
    }
   ],
   "source": [
    "type(x.__mul__(2))"
   ]
  },
  {
   "cell_type": "code",
   "execution_count": 96,
   "id": "ae355f99",
   "metadata": {},
   "outputs": [
    {
     "data": {
      "text/plain": [
       "float"
      ]
     },
     "execution_count": 96,
     "metadata": {},
     "output_type": "execute_result"
    }
   ],
   "source": [
    "type(x*2)"
   ]
  },
  {
   "cell_type": "code",
   "execution_count": 97,
   "id": "4e45695f",
   "metadata": {},
   "outputs": [
    {
     "data": {
      "text/plain": [
       "True"
      ]
     },
     "execution_count": 97,
     "metadata": {},
     "output_type": "execute_result"
    }
   ],
   "source": [
    "isinstance(x.__mul__(2), float)"
   ]
  },
  {
   "cell_type": "code",
   "execution_count": 98,
   "id": "a2ed2152",
   "metadata": {},
   "outputs": [
    {
     "data": {
      "text/plain": [
       "False"
      ]
     },
     "execution_count": 98,
     "metadata": {},
     "output_type": "execute_result"
    }
   ],
   "source": [
    "isinstance(x.__mul__(2), int)"
   ]
  },
  {
   "cell_type": "code",
   "execution_count": 99,
   "id": "ea24aa25",
   "metadata": {},
   "outputs": [
    {
     "data": {
      "text/plain": [
       "True"
      ]
     },
     "execution_count": 99,
     "metadata": {},
     "output_type": "execute_result"
    }
   ],
   "source": [
    "isinstance(x.__mul__(2), float)"
   ]
  },
  {
   "cell_type": "markdown",
   "id": "10e00a6d",
   "metadata": {},
   "source": [
    "### Data type: String "
   ]
  },
  {
   "cell_type": "code",
   "execution_count": 100,
   "id": "e2d43cdc",
   "metadata": {},
   "outputs": [
    {
     "data": {
      "text/plain": [
       "'Finland is a beautiful country'"
      ]
     },
     "execution_count": 100,
     "metadata": {},
     "output_type": "execute_result"
    }
   ],
   "source": [
    "x= \"Finland is a beautiful country\"\n",
    "x"
   ]
  },
  {
   "cell_type": "code",
   "execution_count": 101,
   "id": "e016c2fa",
   "metadata": {},
   "outputs": [
    {
     "name": "stdout",
     "output_type": "stream",
     "text": [
      "30\n"
     ]
    }
   ],
   "source": [
    "dir(x)\n",
    "print(x.__len__())"
   ]
  },
  {
   "cell_type": "code",
   "execution_count": 102,
   "id": "ae0492a4",
   "metadata": {},
   "outputs": [
    {
     "name": "stdout",
     "output_type": "stream",
     "text": [
      "30\n"
     ]
    }
   ],
   "source": [
    "print(len(x))"
   ]
  },
  {
   "cell_type": "markdown",
   "id": "c51978c0",
   "metadata": {},
   "source": [
    "##### Above dunder method is same as print(len(x))"
   ]
  },
  {
   "cell_type": "markdown",
   "id": "14f70dea",
   "metadata": {},
   "source": [
    "#### Verifying the data types using methods type and isinstance."
   ]
  },
  {
   "cell_type": "code",
   "execution_count": 103,
   "id": "37466feb",
   "metadata": {},
   "outputs": [
    {
     "data": {
      "text/plain": [
       "str"
      ]
     },
     "execution_count": 103,
     "metadata": {},
     "output_type": "execute_result"
    }
   ],
   "source": [
    "type(x)"
   ]
  },
  {
   "cell_type": "code",
   "execution_count": 104,
   "id": "6ef94028",
   "metadata": {},
   "outputs": [
    {
     "data": {
      "text/plain": [
       "True"
      ]
     },
     "execution_count": 104,
     "metadata": {},
     "output_type": "execute_result"
    }
   ],
   "source": [
    "isinstance(x, str)"
   ]
  },
  {
   "cell_type": "markdown",
   "id": "afaa7894",
   "metadata": {},
   "source": [
    "### Data type: Boolean"
   ]
  },
  {
   "cell_type": "code",
   "execution_count": 105,
   "id": "5da66f16",
   "metadata": {},
   "outputs": [
    {
     "data": {
      "text/plain": [
       "True"
      ]
     },
     "execution_count": 105,
     "metadata": {},
     "output_type": "execute_result"
    }
   ],
   "source": [
    "x=True\n",
    "x"
   ]
  },
  {
   "cell_type": "code",
   "execution_count": 106,
   "id": "8be4a01e",
   "metadata": {},
   "outputs": [
    {
     "name": "stdout",
     "output_type": "stream",
     "text": [
      "1\n"
     ]
    }
   ],
   "source": [
    "dir(x)\n",
    "print(x.__int__())"
   ]
  },
  {
   "cell_type": "code",
   "execution_count": 107,
   "id": "56ed3135",
   "metadata": {},
   "outputs": [
    {
     "name": "stdout",
     "output_type": "stream",
     "text": [
      "6\n"
     ]
    }
   ],
   "source": [
    "print(x+5)"
   ]
  },
  {
   "cell_type": "markdown",
   "id": "aa9fe6f1",
   "metadata": {},
   "source": [
    "#### Verifying the data types using methods type and isinstance."
   ]
  },
  {
   "cell_type": "code",
   "execution_count": 108,
   "id": "90589322",
   "metadata": {},
   "outputs": [
    {
     "data": {
      "text/plain": [
       "bool"
      ]
     },
     "execution_count": 108,
     "metadata": {},
     "output_type": "execute_result"
    }
   ],
   "source": [
    "type(x)"
   ]
  },
  {
   "cell_type": "code",
   "execution_count": 109,
   "id": "56d56ded",
   "metadata": {},
   "outputs": [
    {
     "data": {
      "text/plain": [
       "True"
      ]
     },
     "execution_count": 109,
     "metadata": {},
     "output_type": "execute_result"
    }
   ],
   "source": [
    "isinstance(x, bool)"
   ]
  },
  {
   "cell_type": "markdown",
   "id": "71625b2e",
   "metadata": {},
   "source": [
    "### Data type: List"
   ]
  },
  {
   "cell_type": "code",
   "execution_count": 110,
   "id": "986e25c6",
   "metadata": {},
   "outputs": [
    {
     "data": {
      "text/plain": [
       "(1, 3, 5, 7)"
      ]
     },
     "execution_count": 110,
     "metadata": {},
     "output_type": "execute_result"
    }
   ],
   "source": [
    "seq=(1,3,5,7)\n",
    "seq"
   ]
  },
  {
   "cell_type": "code",
   "execution_count": 111,
   "id": "dc4ff9e3",
   "metadata": {},
   "outputs": [
    {
     "name": "stdout",
     "output_type": "stream",
     "text": [
      "[1, 3, 5, 7, 4, 5, 6]\n"
     ]
    }
   ],
   "source": [
    "x=list(seq)\n",
    "dir(x)\n",
    "print(x.__add__([4,5,6]))"
   ]
  },
  {
   "cell_type": "markdown",
   "id": "d0113880",
   "metadata": {},
   "source": [
    "#### Verifying the data types using methods type and isinstance."
   ]
  },
  {
   "cell_type": "code",
   "execution_count": 112,
   "id": "396878c8",
   "metadata": {},
   "outputs": [
    {
     "data": {
      "text/plain": [
       "list"
      ]
     },
     "execution_count": 112,
     "metadata": {},
     "output_type": "execute_result"
    }
   ],
   "source": [
    "type(x)"
   ]
  },
  {
   "cell_type": "code",
   "execution_count": 113,
   "id": "cafd5df0",
   "metadata": {},
   "outputs": [
    {
     "data": {
      "text/plain": [
       "True"
      ]
     },
     "execution_count": 113,
     "metadata": {},
     "output_type": "execute_result"
    }
   ],
   "source": [
    "isinstance(x, list)"
   ]
  },
  {
   "cell_type": "markdown",
   "id": "61e17444",
   "metadata": {},
   "source": [
    "#### Data type: Tuple"
   ]
  },
  {
   "cell_type": "code",
   "execution_count": 114,
   "id": "f13bec74",
   "metadata": {},
   "outputs": [
    {
     "data": {
      "text/plain": [
       "(1, 2, 3, 4)"
      ]
     },
     "execution_count": 114,
     "metadata": {},
     "output_type": "execute_result"
    }
   ],
   "source": [
    "seq=(1,2,3,4)\n",
    "seq"
   ]
  },
  {
   "cell_type": "code",
   "execution_count": 115,
   "id": "90fe64bf",
   "metadata": {},
   "outputs": [
    {
     "name": "stdout",
     "output_type": "stream",
     "text": [
      "(1, 2, 3, 4, 5, 6)\n"
     ]
    }
   ],
   "source": [
    "x=tuple(seq)\n",
    "dir(x)\n",
    "print(x.__add__((5,6)))"
   ]
  },
  {
   "cell_type": "markdown",
   "id": "e360de3c",
   "metadata": {},
   "source": [
    "#### Verifying the data types using methods type and isinstance."
   ]
  },
  {
   "cell_type": "code",
   "execution_count": 116,
   "id": "5ea55bd4",
   "metadata": {},
   "outputs": [
    {
     "data": {
      "text/plain": [
       "tuple"
      ]
     },
     "execution_count": 116,
     "metadata": {},
     "output_type": "execute_result"
    }
   ],
   "source": [
    "type(x)"
   ]
  },
  {
   "cell_type": "code",
   "execution_count": 117,
   "id": "bb60fdaa",
   "metadata": {},
   "outputs": [
    {
     "data": {
      "text/plain": [
       "True"
      ]
     },
     "execution_count": 117,
     "metadata": {},
     "output_type": "execute_result"
    }
   ],
   "source": [
    "isinstance(x, tuple)"
   ]
  },
  {
   "cell_type": "markdown",
   "id": "f37b27e5",
   "metadata": {},
   "source": [
    "### Data type: Set"
   ]
  },
  {
   "cell_type": "code",
   "execution_count": 118,
   "id": "d31abe25",
   "metadata": {},
   "outputs": [
    {
     "data": {
      "text/plain": [
       "{1, 2, 3, 4}"
      ]
     },
     "execution_count": 118,
     "metadata": {},
     "output_type": "execute_result"
    }
   ],
   "source": [
    "seq={1,2,3,4}\n",
    "seq"
   ]
  },
  {
   "cell_type": "code",
   "execution_count": 119,
   "id": "51699e69",
   "metadata": {},
   "outputs": [
    {
     "name": "stdout",
     "output_type": "stream",
     "text": [
      "{1, 2}\n"
     ]
    }
   ],
   "source": [
    "x=set(seq)\n",
    "dir(x)\n",
    "print(x.__and__({1,2,6})) # intersection of the two sets"
   ]
  },
  {
   "cell_type": "markdown",
   "id": "67b8d53e",
   "metadata": {},
   "source": [
    "#### Verifying the data types using methods type and isinstance."
   ]
  },
  {
   "cell_type": "code",
   "execution_count": 120,
   "id": "e450a3d9",
   "metadata": {},
   "outputs": [
    {
     "data": {
      "text/plain": [
       "set"
      ]
     },
     "execution_count": 120,
     "metadata": {},
     "output_type": "execute_result"
    }
   ],
   "source": [
    "type(x)"
   ]
  },
  {
   "cell_type": "code",
   "execution_count": 121,
   "id": "96c4b872",
   "metadata": {},
   "outputs": [
    {
     "data": {
      "text/plain": [
       "True"
      ]
     },
     "execution_count": 121,
     "metadata": {},
     "output_type": "execute_result"
    }
   ],
   "source": [
    "isinstance(x, set)"
   ]
  },
  {
   "cell_type": "markdown",
   "id": "3fbbf89c",
   "metadata": {},
   "source": [
    "### Data type: Dictionary"
   ]
  },
  {
   "cell_type": "code",
   "execution_count": 122,
   "id": "7e1f9c9b",
   "metadata": {},
   "outputs": [],
   "source": [
    "x={\"BD\":\"Bangladesh\", \"FI\": \"Finland\",\"SE\": \"Sweden\"}"
   ]
  },
  {
   "cell_type": "code",
   "execution_count": 123,
   "id": "a2b8e4a4",
   "metadata": {},
   "outputs": [
    {
     "name": "stdout",
     "output_type": "stream",
     "text": [
      "{'BD': 'Bangladesh', 'FI': 'Finland', 'SE': 'Sweden', 'In': 'India'}\n"
     ]
    }
   ],
   "source": [
    "x.__setitem__('In', 'India')\n",
    "print(x)"
   ]
  },
  {
   "cell_type": "markdown",
   "id": "79bf2d06",
   "metadata": {},
   "source": [
    "#### Verifying the data types using methods type and isinstance."
   ]
  },
  {
   "cell_type": "code",
   "execution_count": 124,
   "id": "1bd3bd36",
   "metadata": {},
   "outputs": [
    {
     "data": {
      "text/plain": [
       "dict"
      ]
     },
     "execution_count": 124,
     "metadata": {},
     "output_type": "execute_result"
    }
   ],
   "source": [
    "type(x)"
   ]
  },
  {
   "cell_type": "code",
   "execution_count": 125,
   "id": "50159af6",
   "metadata": {},
   "outputs": [
    {
     "data": {
      "text/plain": [
       "True"
      ]
     },
     "execution_count": 125,
     "metadata": {},
     "output_type": "execute_result"
    }
   ],
   "source": [
    "isinstance(x, dict)"
   ]
  },
  {
   "cell_type": "markdown",
   "id": "07ce87e2",
   "metadata": {},
   "source": [
    "# Question 4"
   ]
  },
  {
   "cell_type": "code",
   "execution_count": 127,
   "id": "d55ab280",
   "metadata": {},
   "outputs": [
    {
     "name": "stdout",
     "output_type": "stream",
     "text": [
      "I love python\n"
     ]
    }
   ],
   "source": [
    "print(\"I love\",\"python\")"
   ]
  },
  {
   "cell_type": "code",
   "execution_count": 128,
   "id": "ee24ba94",
   "metadata": {},
   "outputs": [
    {
     "name": "stdout",
     "output_type": "stream",
     "text": [
      "I love python\n"
     ]
    }
   ],
   "source": [
    "x=\"I love\"\n",
    "y=\"python\"\n",
    "print(x,y)"
   ]
  },
  {
   "cell_type": "code",
   "execution_count": 129,
   "id": "eb30e31d",
   "metadata": {},
   "outputs": [
    {
     "name": "stdout",
     "output_type": "stream",
     "text": [
      "I love python\n"
     ]
    }
   ],
   "source": [
    "print('{} {}'.format(x,y))"
   ]
  },
  {
   "cell_type": "code",
   "execution_count": 130,
   "id": "6fd3910e",
   "metadata": {},
   "outputs": [
    {
     "name": "stdout",
     "output_type": "stream",
     "text": [
      "I love python\n"
     ]
    }
   ],
   "source": [
    "print(f\"{x} {y}\")"
   ]
  },
  {
   "cell_type": "code",
   "execution_count": 131,
   "id": "6b814199",
   "metadata": {},
   "outputs": [
    {
     "name": "stdout",
     "output_type": "stream",
     "text": [
      "I love  python\n"
     ]
    }
   ],
   "source": [
    "print(\"I love\",\" python\")"
   ]
  },
  {
   "cell_type": "code",
   "execution_count": 132,
   "id": "06b9252a",
   "metadata": {},
   "outputs": [
    {
     "name": "stdout",
     "output_type": "stream",
     "text": [
      "I love  python\n"
     ]
    }
   ],
   "source": [
    "x=\"I love\"\n",
    "y=\" python\"\n",
    "print(x,y)"
   ]
  },
  {
   "cell_type": "code",
   "execution_count": 133,
   "id": "26eab59f",
   "metadata": {},
   "outputs": [
    {
     "name": "stdout",
     "output_type": "stream",
     "text": [
      "I love  python\n"
     ]
    }
   ],
   "source": [
    "print('{} {}'.format(x,y))"
   ]
  },
  {
   "cell_type": "code",
   "execution_count": 134,
   "id": "9f09687f",
   "metadata": {},
   "outputs": [
    {
     "name": "stdout",
     "output_type": "stream",
     "text": [
      "I love  python\n"
     ]
    }
   ],
   "source": [
    "print(f\"{x} {y}\")"
   ]
  },
  {
   "cell_type": "code",
   "execution_count": 135,
   "id": "126636f2",
   "metadata": {},
   "outputs": [
    {
     "name": "stdout",
     "output_type": "stream",
     "text": [
      "I lovepythonversion 3.1\n"
     ]
    }
   ],
   "source": [
    "print(\"I love\"+ \"python\"+\"version\",3.10)"
   ]
  },
  {
   "cell_type": "code",
   "execution_count": 136,
   "id": "6441e90e",
   "metadata": {},
   "outputs": [
    {
     "name": "stdout",
     "output_type": "stream",
     "text": [
      "I love python version 3.1\n"
     ]
    }
   ],
   "source": [
    "print(\"I love\"+ \" python\"+\" version\",3.10)"
   ]
  },
  {
   "cell_type": "code",
   "execution_count": 137,
   "id": "4cd54742",
   "metadata": {},
   "outputs": [
    {
     "name": "stdout",
     "output_type": "stream",
     "text": [
      "I love python version 3.10\n"
     ]
    }
   ],
   "source": [
    "print(\"I love\"+ \" python\"+\" version %.2f\"%3.10)"
   ]
  },
  {
   "cell_type": "code",
   "execution_count": 138,
   "id": "737a5578",
   "metadata": {},
   "outputs": [
    {
     "name": "stdout",
     "output_type": "stream",
     "text": [
      "I love python version 3.10\n"
     ]
    }
   ],
   "source": [
    "print(\"I love %s version %.2f\"%(\"python\",3.10))"
   ]
  },
  {
   "cell_type": "markdown",
   "id": "9bea8ec2",
   "metadata": {},
   "source": [
    "### Using format positional argument"
   ]
  },
  {
   "cell_type": "code",
   "execution_count": 139,
   "id": "e5511258",
   "metadata": {},
   "outputs": [
    {
     "name": "stdout",
     "output_type": "stream",
     "text": [
      "I love python version 3.1\n"
     ]
    }
   ],
   "source": [
    "print(\"I love {} version {}\".format(\"python\",3.10))"
   ]
  },
  {
   "cell_type": "code",
   "execution_count": 140,
   "id": "b162d3a1",
   "metadata": {},
   "outputs": [
    {
     "name": "stdout",
     "output_type": "stream",
     "text": [
      "I love python version 3.1\n"
     ]
    }
   ],
   "source": [
    "print(\"I love {} version {}\".format(\"python\",3.10))"
   ]
  },
  {
   "cell_type": "code",
   "execution_count": 141,
   "id": "8985ef34",
   "metadata": {},
   "outputs": [
    {
     "name": "stdout",
     "output_type": "stream",
     "text": [
      "I love python version 3.10\n"
     ]
    }
   ],
   "source": [
    "print(\"I love {} version {:.2f}\".format(\"python\",3.10))"
   ]
  },
  {
   "cell_type": "code",
   "execution_count": 142,
   "id": "d309bad2",
   "metadata": {},
   "outputs": [
    {
     "name": "stdout",
     "output_type": "stream",
     "text": [
      "I love 3.1 version python\n"
     ]
    }
   ],
   "source": [
    "print(\"I love {1} version {0}\".format(\"python\",3.10))"
   ]
  },
  {
   "cell_type": "markdown",
   "id": "55abb16d",
   "metadata": {},
   "source": [
    "### Using format keyword argument"
   ]
  },
  {
   "cell_type": "code",
   "execution_count": 143,
   "id": "15da8c7e",
   "metadata": {},
   "outputs": [
    {
     "name": "stdout",
     "output_type": "stream",
     "text": [
      "I love python version 3.10\n"
     ]
    }
   ],
   "source": [
    "print(\"I love {pl} version {version:.2f}\".format(pl=\"python\", version=3.1))"
   ]
  },
  {
   "cell_type": "markdown",
   "id": "5e343fbe",
   "metadata": {},
   "source": [
    "### Using f-string literal"
   ]
  },
  {
   "cell_type": "code",
   "execution_count": 144,
   "id": "15f1dbbb",
   "metadata": {},
   "outputs": [
    {
     "name": "stdout",
     "output_type": "stream",
     "text": [
      "I love python version 3.10\n"
     ]
    }
   ],
   "source": [
    "info = {\"pl\": \"python\", \"version\": 3.10}\n",
    "print(f\"I love {info.get('pl')} version {info.get('version'):.2f}\")"
   ]
  },
  {
   "cell_type": "code",
   "execution_count": 145,
   "id": "c1cd5e51",
   "metadata": {},
   "outputs": [
    {
     "name": "stdout",
     "output_type": "stream",
     "text": [
      "I love python version 3.10\n"
     ]
    }
   ],
   "source": [
    "print(F\"I love {info.get('pl')} version {info.get('version'):.2f}\")"
   ]
  },
  {
   "cell_type": "markdown",
   "id": "36f6e88b",
   "metadata": {},
   "source": [
    "### f-string conditional"
   ]
  },
  {
   "cell_type": "code",
   "execution_count": 146,
   "id": "bb0505b3",
   "metadata": {},
   "outputs": [
    {
     "name": "stdout",
     "output_type": "stream",
     "text": [
      "I love python\n"
     ]
    }
   ],
   "source": [
    "batch='ML'\n",
    "print(f'I love {\"javascript\" if batch ==\"FS\" else \"python\"}' )"
   ]
  },
  {
   "cell_type": "code",
   "execution_count": 147,
   "id": "8e8396b2",
   "metadata": {},
   "outputs": [
    {
     "name": "stdout",
     "output_type": "stream",
     "text": [
      "I love python 3.1\n"
     ]
    }
   ],
   "source": [
    "batch = 'ML'\n",
    "version = 3.10\n",
    "print(f'I love {\"javascript\" if batch==\"FS\" else (\"python \"+str(version))}')"
   ]
  },
  {
   "cell_type": "markdown",
   "id": "e46daf4f",
   "metadata": {},
   "source": [
    "# Question 5"
   ]
  },
  {
   "cell_type": "markdown",
   "id": "79d98c59",
   "metadata": {},
   "source": [
    "### a"
   ]
  },
  {
   "cell_type": "code",
   "execution_count": 148,
   "id": "34bd0bb3",
   "metadata": {},
   "outputs": [
    {
     "data": {
      "text/plain": [
       "['Finland', 'Sweden', 'Denmark', 'Netherlands', 'Germany', 'Norway', 'Iceland']"
      ]
     },
     "execution_count": 148,
     "metadata": {},
     "output_type": "execute_result"
    }
   ],
   "source": [
    "countries= [\"Finland\",\"Sweden\",\"Denmark\",\"Netherlands\",\"Germany\",\"Norway\",\"Iceland\"]\n",
    "countries"
   ]
  },
  {
   "cell_type": "markdown",
   "id": "42ec45cf",
   "metadata": {},
   "source": [
    "### b"
   ]
  },
  {
   "cell_type": "code",
   "execution_count": 149,
   "id": "4bcbf136",
   "metadata": {},
   "outputs": [
    {
     "data": {
      "text/plain": [
       "1"
      ]
     },
     "execution_count": 149,
     "metadata": {},
     "output_type": "execute_result"
    }
   ],
   "source": [
    "countries.index(\"Sweden\")"
   ]
  },
  {
   "cell_type": "markdown",
   "id": "26d3e51d",
   "metadata": {},
   "source": [
    "### c"
   ]
  },
  {
   "cell_type": "code",
   "execution_count": 150,
   "id": "1eac5168",
   "metadata": {},
   "outputs": [
    {
     "data": {
      "text/plain": [
       "['Sweden', 'Denmark', 'Netherlands', 'Germany', 'Norway', 'Iceland']"
      ]
     },
     "execution_count": 150,
     "metadata": {},
     "output_type": "execute_result"
    }
   ],
   "source": [
    "countries[1:]"
   ]
  },
  {
   "cell_type": "markdown",
   "id": "adce0511",
   "metadata": {},
   "source": [
    "### d"
   ]
  },
  {
   "cell_type": "code",
   "execution_count": 151,
   "id": "596bd3d9",
   "metadata": {},
   "outputs": [
    {
     "data": {
      "text/plain": [
       "['Finland', 'Sweden', 'Denmark', 'Netherlands', 'Germany']"
      ]
     },
     "execution_count": 151,
     "metadata": {},
     "output_type": "execute_result"
    }
   ],
   "source": [
    "countries[:-2]"
   ]
  },
  {
   "cell_type": "markdown",
   "id": "e1ca02ed",
   "metadata": {},
   "source": [
    "### e"
   ]
  },
  {
   "cell_type": "code",
   "execution_count": 152,
   "id": "a62728da",
   "metadata": {},
   "outputs": [
    {
     "data": {
      "text/plain": [
       "'Iceland'"
      ]
     },
     "execution_count": 152,
     "metadata": {},
     "output_type": "execute_result"
    }
   ],
   "source": [
    "countries[-1]"
   ]
  },
  {
   "cell_type": "markdown",
   "id": "22ca485b",
   "metadata": {},
   "source": [
    "### f"
   ]
  },
  {
   "cell_type": "code",
   "execution_count": 153,
   "id": "c42446a1",
   "metadata": {},
   "outputs": [
    {
     "data": {
      "text/plain": [
       "['Germany', 'Norway', 'Iceland']"
      ]
     },
     "execution_count": 153,
     "metadata": {},
     "output_type": "execute_result"
    }
   ],
   "source": [
    "countries[-3:]"
   ]
  },
  {
   "cell_type": "markdown",
   "id": "a89c8317",
   "metadata": {},
   "source": [
    "### g"
   ]
  },
  {
   "cell_type": "code",
   "execution_count": 154,
   "id": "5d7879c3",
   "metadata": {},
   "outputs": [
    {
     "data": {
      "text/plain": [
       "['Sweden', 'Netherlands', 'Norway']"
      ]
     },
     "execution_count": 154,
     "metadata": {},
     "output_type": "execute_result"
    }
   ],
   "source": [
    "countries[1::2]"
   ]
  },
  {
   "cell_type": "markdown",
   "id": "8476435e",
   "metadata": {},
   "source": [
    "### h"
   ]
  },
  {
   "cell_type": "code",
   "execution_count": 155,
   "id": "6be50fa0",
   "metadata": {},
   "outputs": [
    {
     "name": "stdout",
     "output_type": "stream",
     "text": [
      "Finland\n",
      "Iceland\n"
     ]
    }
   ],
   "source": [
    "print(countries[0])\n",
    "print(countries[-1])"
   ]
  },
  {
   "cell_type": "markdown",
   "id": "f171b158",
   "metadata": {},
   "source": [
    "#### i"
   ]
  },
  {
   "cell_type": "code",
   "execution_count": 156,
   "id": "63238e0b",
   "metadata": {},
   "outputs": [
    {
     "data": {
      "text/plain": [
       "['Netherlands', 'Germany', 'Norway']"
      ]
     },
     "execution_count": 156,
     "metadata": {},
     "output_type": "execute_result"
    }
   ],
   "source": [
    "countries[-4:-1]"
   ]
  },
  {
   "cell_type": "markdown",
   "id": "0d37734f",
   "metadata": {},
   "source": [
    "#### j"
   ]
  },
  {
   "cell_type": "code",
   "execution_count": 157,
   "id": "7ecfac43",
   "metadata": {},
   "outputs": [
    {
     "data": {
      "text/plain": [
       "['Iceland', 'Norway', 'Germany', 'Netherlands', 'Denmark', 'Sweden', 'Finland']"
      ]
     },
     "execution_count": 157,
     "metadata": {},
     "output_type": "execute_result"
    }
   ],
   "source": [
    "list(reversed(countries))"
   ]
  },
  {
   "cell_type": "code",
   "execution_count": 158,
   "id": "1642b2a3",
   "metadata": {},
   "outputs": [
    {
     "data": {
      "text/plain": [
       "['Iceland', 'Norway', 'Germany', 'Netherlands', 'Denmark', 'Sweden', 'Finland']"
      ]
     },
     "execution_count": 158,
     "metadata": {},
     "output_type": "execute_result"
    }
   ],
   "source": [
    "countries[::-1]"
   ]
  },
  {
   "cell_type": "markdown",
   "id": "21f9f14d",
   "metadata": {},
   "source": [
    "#### k"
   ]
  },
  {
   "cell_type": "code",
   "execution_count": 159,
   "id": "3b5106ac",
   "metadata": {},
   "outputs": [
    {
     "data": {
      "text/plain": [
       "['Iceland', 'Germany', 'Denmark', 'Finland']"
      ]
     },
     "execution_count": 159,
     "metadata": {},
     "output_type": "execute_result"
    }
   ],
   "source": [
    "countries[::-2]"
   ]
  },
  {
   "cell_type": "markdown",
   "id": "c5d52683",
   "metadata": {},
   "source": [
    "### l"
   ]
  },
  {
   "cell_type": "code",
   "execution_count": 160,
   "id": "51d1711e",
   "metadata": {},
   "outputs": [
    {
     "data": {
      "text/plain": [
       "['Sweden', 'Netherlands', 'Norway']"
      ]
     },
     "execution_count": 160,
     "metadata": {},
     "output_type": "execute_result"
    }
   ],
   "source": [
    "countries[1:100:2]"
   ]
  },
  {
   "cell_type": "markdown",
   "id": "1877ccf3",
   "metadata": {},
   "source": [
    "### m"
   ]
  },
  {
   "cell_type": "code",
   "execution_count": 161,
   "id": "09910c5d",
   "metadata": {},
   "outputs": [
    {
     "data": {
      "text/plain": [
       "[]"
      ]
     },
     "execution_count": 161,
     "metadata": {},
     "output_type": "execute_result"
    }
   ],
   "source": [
    "countries[len(countries)-1:0:2]"
   ]
  },
  {
   "cell_type": "markdown",
   "id": "85ddfbcf",
   "metadata": {},
   "source": [
    "### n"
   ]
  },
  {
   "cell_type": "code",
   "execution_count": 162,
   "id": "e0b479ea",
   "metadata": {},
   "outputs": [
    {
     "data": {
      "text/plain": [
       "['Norway', 'Germany', 'Netherlands']"
      ]
     },
     "execution_count": 162,
     "metadata": {},
     "output_type": "execute_result"
    }
   ],
   "source": [
    "countries[-4:-1][::-1]"
   ]
  },
  {
   "cell_type": "code",
   "execution_count": 163,
   "id": "a4142cfc",
   "metadata": {},
   "outputs": [
    {
     "data": {
      "text/plain": [
       "[(0, 'Finland'),\n",
       " (1, 'Sweden'),\n",
       " (2, 'Denmark'),\n",
       " (3, 'Netherlands'),\n",
       " (4, 'Germany'),\n",
       " (5, 'Norway'),\n",
       " (6, 'Iceland')]"
      ]
     },
     "execution_count": 163,
     "metadata": {},
     "output_type": "execute_result"
    }
   ],
   "source": [
    "list(enumerate(countries))"
   ]
  },
  {
   "cell_type": "code",
   "execution_count": 164,
   "id": "27fe93bc",
   "metadata": {},
   "outputs": [
    {
     "name": "stdout",
     "output_type": "stream",
     "text": [
      "0 Finland\n",
      "1 Sweden\n",
      "2 Denmark\n",
      "3 Netherlands\n",
      "4 Germany\n",
      "5 Norway\n",
      "6 Iceland\n"
     ]
    }
   ],
   "source": [
    "for i, j in enumerate(countries):\n",
    "    print(i, j)"
   ]
  },
  {
   "cell_type": "markdown",
   "id": "560e3105",
   "metadata": {},
   "source": [
    "# Question 6"
   ]
  },
  {
   "cell_type": "markdown",
   "id": "f0ec8fb1",
   "metadata": {},
   "source": [
    "### a"
   ]
  },
  {
   "cell_type": "code",
   "execution_count": 174,
   "id": "03439807",
   "metadata": {},
   "outputs": [
    {
     "data": {
      "text/plain": [
       "{'a': 1, 'b': 2, 'c': 3, 'd': 4}"
      ]
     },
     "execution_count": 174,
     "metadata": {},
     "output_type": "execute_result"
    }
   ],
   "source": [
    "a =[\"a\",\"b\",\"c\",\"d\"]\n",
    "b= [1,2,3,4]\n",
    "\n",
    "z=list(zip(a,b))\n",
    "\n",
    "dic1=dict(z)\n",
    "dic1"
   ]
  },
  {
   "cell_type": "markdown",
   "id": "4724c3e2",
   "metadata": {},
   "source": [
    "### b"
   ]
  },
  {
   "cell_type": "code",
   "execution_count": 175,
   "id": "cdad01a8",
   "metadata": {},
   "outputs": [
    {
     "data": {
      "text/plain": [
       "{'a': 1, 'b': 2, 'c': 3, 'd': 4, 'e': 5, 'f': 6, 'g': 7, 'h': 8}"
      ]
     },
     "execution_count": 175,
     "metadata": {},
     "output_type": "execute_result"
    }
   ],
   "source": [
    "# using update() method\n",
    "dic2={'e': 5, 'f': 6, 'g': 7, 'h': 8}\n",
    "dic1.update(dic2)\n",
    "dic1"
   ]
  },
  {
   "cell_type": "code",
   "execution_count": 176,
   "id": "652c1722",
   "metadata": {},
   "outputs": [
    {
     "data": {
      "text/plain": [
       "{'a': 1, 'b': 2, 'c': 3, 'd': 4, 'e': 5, 'f': 6, 'g': 7, 'h': 8}"
      ]
     },
     "execution_count": 176,
     "metadata": {},
     "output_type": "execute_result"
    }
   ],
   "source": [
    "# dictionary unpacking\n",
    "dic1={'a': 1, 'b': 2, 'c': 3, 'd': 4}\n",
    "dic2={'e': 5, 'f': 6, 'g': 7, 'h': 8}\n",
    "\n",
    "{**dic1, **dic2}    "
   ]
  },
  {
   "cell_type": "markdown",
   "id": "ef0c1bd2",
   "metadata": {},
   "source": [
    "### c"
   ]
  },
  {
   "cell_type": "code",
   "execution_count": 177,
   "id": "a9b0ee62",
   "metadata": {},
   "outputs": [
    {
     "data": {
      "text/plain": [
       "{'Duy': ['Python', 'Database', 'ML'],\n",
       " 'Laxmi': ['Python', 'Database', 'ML'],\n",
       " 'Antonio': ['Python', 'Database', 'ML'],\n",
       " 'Maria': ['Python', 'Database', 'ML']}"
      ]
     },
     "execution_count": 177,
     "metadata": {},
     "output_type": "execute_result"
    }
   ],
   "source": [
    "students = [\"Duy\", \"Laxmi\", \"Antonio\", \"Maria\"]\n",
    "courses = [\"Python\", \"Database\", \"ML\"]\n",
    "students_profile = {student: courses for student in students}\n",
    "\n",
    "students_profile"
   ]
  },
  {
   "cell_type": "markdown",
   "id": "e7de5e45",
   "metadata": {},
   "source": [
    "### d"
   ]
  },
  {
   "cell_type": "code",
   "execution_count": 178,
   "id": "1d610cae",
   "metadata": {},
   "outputs": [
    {
     "data": {
      "text/plain": [
       "{'Duy': ['Python', 'Database', 'ML'],\n",
       " 'Laxmi': ['Python', 'Database', 'ML'],\n",
       " 'Antonio': ['JavaScript', 'Database', 'NodeJS'],\n",
       " 'Maria': ['Python', 'Database', 'ML']}"
      ]
     },
     "execution_count": 178,
     "metadata": {},
     "output_type": "execute_result"
    }
   ],
   "source": [
    "antonio_course = [\"JavaScript\", \"Database\", \"NodeJS\"]\n",
    "students_profile['Antonio'] = antonio_course\n",
    "students_profile"
   ]
  },
  {
   "cell_type": "markdown",
   "id": "b8dab985",
   "metadata": {},
   "source": [
    "### e"
   ]
  },
  {
   "cell_type": "code",
   "execution_count": 179,
   "id": "580e5540",
   "metadata": {},
   "outputs": [
    {
     "data": {
      "text/plain": [
       "{'Duy': ['Python', 'Database', 'ML'],\n",
       " 'Laxmi': ['Python', 'Database', 'ML'],\n",
       " 'Antonio': ['JavaScript', 'Database', 'NodeJS', 'ReactJs'],\n",
       " 'Maria': ['Python', 'Database', 'ML']}"
      ]
     },
     "execution_count": 179,
     "metadata": {},
     "output_type": "execute_result"
    }
   ],
   "source": [
    "students_profile['Antonio'].append('ReactJs')\n",
    "students_profile"
   ]
  },
  {
   "cell_type": "markdown",
   "id": "688d4eab",
   "metadata": {},
   "source": [
    "### f"
   ]
  },
  {
   "cell_type": "code",
   "execution_count": 180,
   "id": "10d683d4",
   "metadata": {},
   "outputs": [
    {
     "data": {
      "text/plain": [
       "{'Duy': ['Python', 'Database', 'ML'],\n",
       " 'Laxmi': ['Python', 'Database', 'ML'],\n",
       " 'Antonio': ['JavaScript', 'Database', 'NodeJS', 'Vuejs'],\n",
       " 'Maria': ['Python', 'Database', 'ML']}"
      ]
     },
     "execution_count": 180,
     "metadata": {},
     "output_type": "execute_result"
    }
   ],
   "source": [
    "if 'ReactJs' in students_profile['Antonio']:\n",
    "    i = students_profile['Antonio'].index('ReactJs')\n",
    "    students_profile['Antonio'][i] = 'Vuejs'\n",
    "    \n",
    "students_profile"
   ]
  },
  {
   "cell_type": "markdown",
   "id": "d3fb3201",
   "metadata": {},
   "source": [
    "### g"
   ]
  },
  {
   "cell_type": "code",
   "execution_count": 183,
   "id": "8b800af5",
   "metadata": {},
   "outputs": [],
   "source": [
    "students_profile.clear()"
   ]
  },
  {
   "cell_type": "code",
   "execution_count": 184,
   "id": "cf7ff4be",
   "metadata": {},
   "outputs": [
    {
     "data": {
      "text/plain": [
       "{}"
      ]
     },
     "execution_count": 184,
     "metadata": {},
     "output_type": "execute_result"
    }
   ],
   "source": [
    "students_profile"
   ]
  },
  {
   "cell_type": "code",
   "execution_count": null,
   "id": "97e1c08f",
   "metadata": {},
   "outputs": [],
   "source": []
  }
 ],
 "metadata": {
  "kernelspec": {
   "display_name": "Python 3 (ipykernel)",
   "language": "python",
   "name": "python3"
  },
  "language_info": {
   "codemirror_mode": {
    "name": "ipython",
    "version": 3
   },
   "file_extension": ".py",
   "mimetype": "text/x-python",
   "name": "python",
   "nbconvert_exporter": "python",
   "pygments_lexer": "ipython3",
   "version": "3.9.13"
  }
 },
 "nbformat": 4,
 "nbformat_minor": 5
}
