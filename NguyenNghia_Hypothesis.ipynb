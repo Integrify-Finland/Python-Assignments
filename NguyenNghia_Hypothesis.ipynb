{
 "cells": [
  {
   "cell_type": "code",
   "execution_count": null,
   "id": "481b8abb",
   "metadata": {},
   "outputs": [],
   "source": [
    "H0 = 35\n",
    "H1 is not 35\n",
    "\n",
    "significant_level = 0.05\n",
    "\n",
    "t = (the sample mean - the hypothesized population mean) / (std / sqrt(n))\n",
    "\n"
   ]
  },
  {
   "cell_type": "code",
   "execution_count": 5,
   "id": "a847a300",
   "metadata": {},
   "outputs": [
    {
     "name": "stdout",
     "output_type": "stream",
     "text": [
      "Sample size= 20\n",
      "t-value =  64.13166165417205\n",
      "p_value =  1.1285553129986032e-23\n",
      "Reject H0. The mean of the population is NOT equal to 35\n"
     ]
    }
   ],
   "source": [
    "import math\n",
    "import numpy as np\n",
    "from scipy.stats import t\n",
    "\n",
    "data = [78,80,74,72,76,77,73,75,71,79,72,77,76,75,74,79,80,73,75,72]\n",
    "\n",
    "pop_mean = 35\n",
    "\n",
    "n = len(data)\n",
    "print(\"Sample size=\", n)\n",
    "\n",
    "alpha = 0.05\n",
    "\n",
    "x_bar = np.array(data).mean()\n",
    "std = math.sqrt(sum([(x-x_bar)**2 for x in data]) / (n-1))\n",
    "\n",
    "t_value = (x_bar - pop_mean) / (std / math.sqrt(n))\n",
    "\n",
    "print(\"t-value = \", t_value)\n",
    "\n",
    "p_value = 2 * t.sf(abs(t_value), n -1)\n",
    "# p_value = scipy.stats.norm.sf(abs(1.8))*2\n",
    "print(\"p_value = \", p_value)\n",
    "\n",
    "if p_value > alpha:\n",
    "    print(\"Fail to reject H0 (Accept H0). The mean of the poplulation is equal to \", pop_mean)\n",
    "else:\n",
    "    print(\"Reject H0. The mean of the population is NOT equal to\", pop_mean)"
   ]
  },
  {
   "cell_type": "code",
   "execution_count": 8,
   "id": "814c6778",
   "metadata": {},
   "outputs": [
    {
     "ename": "TypeError",
     "evalue": "Population must be a sequence.  For dicts or sets, use sorted(d).",
     "output_type": "error",
     "traceback": [
      "\u001b[1;31m---------------------------------------------------------------------------\u001b[0m",
      "\u001b[1;31mTypeError\u001b[0m                                 Traceback (most recent call last)",
      "Input \u001b[1;32mIn [8]\u001b[0m, in \u001b[0;36m<cell line: 3>\u001b[1;34m()\u001b[0m\n\u001b[0;32m      1\u001b[0m \u001b[38;5;28;01mimport\u001b[39;00m \u001b[38;5;21;01mrandom\u001b[39;00m\n\u001b[0;32m      2\u001b[0m n \u001b[38;5;241m=\u001b[39m np\u001b[38;5;241m.\u001b[39mrandom\u001b[38;5;241m.\u001b[39mrandint(\u001b[38;5;241m0\u001b[39m,\u001b[38;5;241m50\u001b[39m,\u001b[38;5;241m1000\u001b[39m)\n\u001b[1;32m----> 3\u001b[0m sample \u001b[38;5;241m=\u001b[39m \u001b[43mrandom\u001b[49m\u001b[38;5;241;43m.\u001b[39;49m\u001b[43msample\u001b[49m\u001b[43m(\u001b[49m\u001b[43mn\u001b[49m\u001b[43m,\u001b[49m\u001b[43m \u001b[49m\u001b[38;5;241;43m100\u001b[39;49m\u001b[43m)\u001b[49m\n\u001b[0;32m      4\u001b[0m sample\n",
      "File \u001b[1;32m~\\anaconda3\\lib\\random.py:433\u001b[0m, in \u001b[0;36mRandom.sample\u001b[1;34m(self, population, k, counts)\u001b[0m\n\u001b[0;32m    431\u001b[0m     population \u001b[38;5;241m=\u001b[39m \u001b[38;5;28mtuple\u001b[39m(population)\n\u001b[0;32m    432\u001b[0m \u001b[38;5;28;01mif\u001b[39;00m \u001b[38;5;129;01mnot\u001b[39;00m \u001b[38;5;28misinstance\u001b[39m(population, _Sequence):\n\u001b[1;32m--> 433\u001b[0m     \u001b[38;5;28;01mraise\u001b[39;00m \u001b[38;5;167;01mTypeError\u001b[39;00m(\u001b[38;5;124m\"\u001b[39m\u001b[38;5;124mPopulation must be a sequence.  For dicts or sets, use sorted(d).\u001b[39m\u001b[38;5;124m\"\u001b[39m)\n\u001b[0;32m    434\u001b[0m n \u001b[38;5;241m=\u001b[39m \u001b[38;5;28mlen\u001b[39m(population)\n\u001b[0;32m    435\u001b[0m \u001b[38;5;28;01mif\u001b[39;00m counts \u001b[38;5;129;01mis\u001b[39;00m \u001b[38;5;129;01mnot\u001b[39;00m \u001b[38;5;28;01mNone\u001b[39;00m:\n",
      "\u001b[1;31mTypeError\u001b[0m: Population must be a sequence.  For dicts or sets, use sorted(d)."
     ]
    }
   ],
   "source": [
    "import random\n",
    "n = np.random.randint(0,50,1000)\n",
    "np.array(random.choices(Bedrooms, k = 10))sample"
   ]
  }
 ],
 "metadata": {
  "kernelspec": {
   "display_name": "Python 3 (ipykernel)",
   "language": "python",
   "name": "python3"
  },
  "language_info": {
   "codemirror_mode": {
    "name": "ipython",
    "version": 3
   },
   "file_extension": ".py",
   "mimetype": "text/x-python",
   "name": "python",
   "nbconvert_exporter": "python",
   "pygments_lexer": "ipython3",
   "version": "3.9.13"
  }
 },
 "nbformat": 4,
 "nbformat_minor": 5
}
