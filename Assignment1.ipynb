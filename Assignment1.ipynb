{
 "cells": [
  {
   "cell_type": "code",
   "execution_count": 121,
   "id": "df02b653",
   "metadata": {},
   "outputs": [],
   "source": [
    "#1\n",
    "#Constructor methods\n",
    "\n",
    "i = int(1)\n",
    "f = float(2.4)\n",
    "s = str(\"I am doing good\")\n",
    "l = list((1, 2, 3, 4))\n",
    "t = tuple((1, 2, 3, 4))\n",
    "e = set((1, 2, 3, 4))\n",
    "d = dict({\"A\": \"a\", \"B\": \"b\", \"C\": \"c\"})\n",
    "\n",
    "#Object literals\n",
    "i_ol = 2\n",
    "f_ol = 3.4\n",
    "s_ol = \"I am feeling okay.\"\n",
    "l_ol = [1, 2, 3, 4, 5]\n",
    "t_ol = (1, 2, 3, 4, 5)\n",
    "e_ol = {1, 2, 3, 4, 5}\n",
    "d_ol = {\"A\": \"a\", \"B\": \"b\", \"C\": \"c\"}\n",
    "\n"
   ]
  },
  {
   "cell_type": "code",
   "execution_count": 105,
   "id": "fdd9d54f",
   "metadata": {},
   "outputs": [
    {
     "name": "stdout",
     "output_type": "stream",
     "text": [
      "7\n",
      "13\n",
      "30\n",
      "3.3333333333333335\n",
      "3\n",
      "1\n",
      "1000\n"
     ]
    }
   ],
   "source": [
    "#2\n",
    "#Arithmetic operator\n",
    "print(10 - 3)\n",
    "print(10 + 3)\n",
    "print(10 * 3)\n",
    "print(10 / 3) #3.333\n",
    "print(10 // 3) #3\n",
    "print(10 % 3) #1\n",
    "print(10 ** 3) #1000"
   ]
  },
  {
   "cell_type": "code",
   "execution_count": 106,
   "id": "ec74a7a3",
   "metadata": {
    "scrolled": true
   },
   "outputs": [
    {
     "name": "stdout",
     "output_type": "stream",
     "text": [
      "True\n",
      "True\n",
      "False\n",
      "True\n"
     ]
    }
   ],
   "source": [
    "#Boolean operator\n",
    "x = 3 > 2\n",
    "print(x) \n",
    "\n",
    "x = 3 >= 2\n",
    "print(x)\n",
    "\n",
    "x = 3 == 2\n",
    "print(x)\n",
    "\n",
    "x = 3 != 2\n",
    "print(x)"
   ]
  },
  {
   "cell_type": "code",
   "execution_count": 107,
   "id": "0e3bc1e5",
   "metadata": {
    "scrolled": true
   },
   "outputs": [
    {
     "data": {
      "text/plain": [
       "['__abs__',\n",
       " '__add__',\n",
       " '__and__',\n",
       " '__bool__',\n",
       " '__ceil__',\n",
       " '__class__',\n",
       " '__delattr__',\n",
       " '__dir__',\n",
       " '__divmod__',\n",
       " '__doc__',\n",
       " '__eq__',\n",
       " '__float__',\n",
       " '__floor__',\n",
       " '__floordiv__',\n",
       " '__format__',\n",
       " '__ge__',\n",
       " '__getattribute__',\n",
       " '__getnewargs__',\n",
       " '__gt__',\n",
       " '__hash__',\n",
       " '__index__',\n",
       " '__init__',\n",
       " '__init_subclass__',\n",
       " '__int__',\n",
       " '__invert__',\n",
       " '__le__',\n",
       " '__lshift__',\n",
       " '__lt__',\n",
       " '__mod__',\n",
       " '__mul__',\n",
       " '__ne__',\n",
       " '__neg__',\n",
       " '__new__',\n",
       " '__or__',\n",
       " '__pos__',\n",
       " '__pow__',\n",
       " '__radd__',\n",
       " '__rand__',\n",
       " '__rdivmod__',\n",
       " '__reduce__',\n",
       " '__reduce_ex__',\n",
       " '__repr__',\n",
       " '__rfloordiv__',\n",
       " '__rlshift__',\n",
       " '__rmod__',\n",
       " '__rmul__',\n",
       " '__ror__',\n",
       " '__round__',\n",
       " '__rpow__',\n",
       " '__rrshift__',\n",
       " '__rshift__',\n",
       " '__rsub__',\n",
       " '__rtruediv__',\n",
       " '__rxor__',\n",
       " '__setattr__',\n",
       " '__sizeof__',\n",
       " '__str__',\n",
       " '__sub__',\n",
       " '__subclasshook__',\n",
       " '__truediv__',\n",
       " '__trunc__',\n",
       " '__xor__',\n",
       " 'as_integer_ratio',\n",
       " 'bit_count',\n",
       " 'bit_length',\n",
       " 'conjugate',\n",
       " 'denominator',\n",
       " 'from_bytes',\n",
       " 'imag',\n",
       " 'numerator',\n",
       " 'real',\n",
       " 'to_bytes']"
      ]
     },
     "execution_count": 107,
     "metadata": {},
     "output_type": "execute_result"
    }
   ],
   "source": [
    "dir(i)"
   ]
  },
  {
   "cell_type": "code",
   "execution_count": 124,
   "id": "ac7742b1",
   "metadata": {},
   "outputs": [
    {
     "name": "stdout",
     "output_type": "stream",
     "text": [
      "6\n",
      "I am d0ing g00d\n",
      "dict_keys(['A', 'B', 'C'])\n",
      "1\n"
     ]
    }
   ],
   "source": [
    "#3 Navigate the magic methods/dunder methods \n",
    "print(i.__add__(5))\n",
    "print(s.replace(\"o\", \"0\"))\n",
    "print(d.keys())\n",
    "print(t.count(2))"
   ]
  },
  {
   "cell_type": "code",
   "execution_count": 126,
   "id": "cdcfc087",
   "metadata": {},
   "outputs": [
    {
     "name": "stdout",
     "output_type": "stream",
     "text": [
      "1 <class 'int'>\n",
      "2.4 <class 'float'>\n",
      "I am doing good <class 'str'>\n",
      "[1, 2, 3, 4] <class 'list'>\n",
      "(1, 2, 3, 4) <class 'tuple'>\n",
      "I am doing good <class 'str'>\n",
      "{'A': 'a', 'B': 'b', 'C': 'c'} <class 'dict'>\n",
      "2 <class 'int'>\n",
      "3.4 <class 'float'>\n",
      "I am feeling okay. <class 'str'>\n",
      "[1, 2, 3, 4, 5] <class 'list'>\n",
      "(1, 2, 3, 4, 5) <class 'tuple'>\n",
      "I am feeling okay. <class 'str'>\n",
      "{'A': 'a', 'B': 'b', 'C': 'c'} <class 'dict'>\n",
      "True\n",
      "False\n",
      "True\n",
      "False\n"
     ]
    }
   ],
   "source": [
    "#Print datatype using method type\n",
    "def datatype (a):\n",
    "    return print(a, type(a))\n",
    "\n",
    "datatype(i)\n",
    "datatype(f)\n",
    "datatype(s)\n",
    "datatype(l)\n",
    "datatype(t)\n",
    "datatype(s)\n",
    "datatype(d)\n",
    "\n",
    "datatype(i_ol)\n",
    "datatype(f_ol)\n",
    "datatype(s_ol)\n",
    "datatype(l_ol)\n",
    "datatype(t_ol)\n",
    "datatype(s_ol)\n",
    "datatype(d_ol)\n",
    "\n",
    "#Check datatype using method isinstance\n",
    "x = isinstance(i, int)\n",
    "print(x)    \n",
    "x = isinstance(i, (str, float, set, list, dict, tuple))\n",
    "print(x)\n",
    "\n",
    "x = isinstance(d_ol, dict)\n",
    "print(x)\n",
    "x = isinstance(d_ol,(str, float, set, list, int, tuple))\n",
    "print(x)"
   ]
  },
  {
   "cell_type": "code",
   "execution_count": 111,
   "id": "13f224e3",
   "metadata": {},
   "outputs": [
    {
     "name": "stdout",
     "output_type": "stream",
     "text": [
      "The weather is good\n",
      "The weather is good\n",
      "The weather is good 3.1\n",
      "The weather is good 3.100000\n",
      "The weather is good 3.1000\n",
      "The weather is good 3.10\n",
      "I love python version 3.1\n",
      "I love python version 3.10\n",
      "I love python version 3.10000\n",
      "I love 3.10 version python\n",
      "I love python version 3.10\n",
      "I love python version 3.100\n",
      "I love python version 3.1000\n",
      "I love python\n",
      "I love javascript\n"
     ]
    }
   ],
   "source": [
    "print(\"The weather\", \"is\", \"good\")\n",
    "print(\"The weather\" + \" is\" + \" good\")\n",
    "print(\"The weather\" + \" is\" + \" good\",3.10)\n",
    "print(\"The weather\" + \" is\" + \" good %.6f\"%3.10)\n",
    "print(\"The weather\" + \" is\" + \" good\", \"%.4f\"%3.10)\n",
    "print(\"The weather %s good %.2f\"%(\"is\",3.10))\n",
    "\n",
    "print(\"I love {} version {}\".format(\"python\",3.10))\n",
    "print(\"I love {} version {}\".format(\"python\",\"3.10\"))\n",
    "print(\"I love {} version {:.5f}\".format(\"python\",3.10))\n",
    "print(\"I love {1} version {0}\".format(\"python\",\"3.10\"))\n",
    "\n",
    "print(\"I love {pl} version {version:.2f}\".format(pl=\"python\",version=3.10))\n",
    "\n",
    "info={\"pl\":\"python\", \"version\":3.10}\n",
    "print(f\"I love {info.get('pl')} version {info.get('version'):.3f}\")\n",
    "\n",
    "print(F'I love {info[\"pl\"]} version {info[\"version\"]:.4f}')\n",
    "\n",
    "batch='ML'\n",
    "print(f'I love {\"javascript\" if batch == \"FS\" else \"python\"}')\n",
    "batch='FS'\n",
    "print(f'I love {\"javascript\" if batch == \"FS\" else \"python\"}')\n"
   ]
  },
  {
   "cell_type": "code",
   "execution_count": 112,
   "id": "afc28ecf",
   "metadata": {},
   "outputs": [
    {
     "name": "stdout",
     "output_type": "stream",
     "text": [
      "1\n",
      "['Sweden', 'Denmark', 'Netherlands', 'Germany', 'Norway', 'Iceland']\n",
      "['Finland', 'Sweden', 'Denmark', 'Netherlands', 'Germany', 'Norway']\n",
      "Iceland\n",
      "['Germany', 'Norway', 'Iceland']\n",
      "['Sweden', 'Netherlands', 'Norway']\n",
      "Finland Iceland\n",
      "['Netherlands', 'Germany', 'Norway']\n",
      "['Iceland', 'Norway', 'Germany', 'Netherlands', 'Denmark', 'Sweden', 'Finland']\n",
      "['Iceland', 'Germany', 'Denmark', 'Finland']\n",
      "['Sweden', 'Netherlands', 'Norway']\n",
      "[]\n",
      "['Germany', 'Netherlands', 'Denmark']\n",
      "[(0, 'Finland'), (1, 'Sweden'), (2, 'Denmark'), (3, 'Netherlands'), (4, 'Germany'), (5, 'Norway'), (6, 'Iceland')]\n"
     ]
    }
   ],
   "source": [
    "countries= ['Finland', 'Sweden' ,'Denmark', 'Netherlands', 'Germany', 'Norway', 'Iceland']\n",
    "\n",
    "print(countries.index(\"Sweden\")) #Find the index of “Sweden”. \n",
    "print(countries[1:]) #Get all the items except the first\n",
    "print(countries[:-1]) #Get all the items except the last\n",
    "print(countries[-1]) #Find the last item using negative indexing\n",
    "print(countries[-3:]) #Find the last three item using negative indexing\n",
    "print(countries[1::2]) #Grab all the items with odd indices\n",
    "print(countries[0], countries[-1]) #Find the first and last item for the list\n",
    "print(countries[-4:-1]) #Get [”Netherlands”,”Germany”,”Norway”] using negative indexing\n",
    "reverse_list = countries.reverse() #Reverse the list\n",
    "print(countries) \n",
    "\n",
    "countries= ['Finland', 'Sweden' ,'Denmark', 'Netherlands', 'Germany', 'Norway', 'Iceland']\n",
    "\n",
    "print(countries[::-2]) #From the end to the start of the list, print only alternate items from index 0 \n",
    "print(countries[1:100:2]) #From index 1 to index 100, print alternate items\n",
    "\n",
    "answer = countries[len(countries)-1:0:2] #What is the output of countries[len(countries)-1:0:2]?\n",
    "print(answer)\n",
    "\n",
    "reverse_list = countries.reverse() #Get the output ['Germany', 'Netherlands', 'Denmark']\n",
    "print(countries[2:5])\n",
    "\n",
    "countries= ['Finland', 'Sweden' ,'Denmark', 'Netherlands', 'Germany', 'Norway', 'Iceland']\n",
    "\n",
    "full_list = enumerate(countries) #Use enumerate method to get index and values in the list\n",
    "print(list(full_list))\n",
    "\n",
    "\n",
    "\n",
    "\n",
    "\n"
   ]
  },
  {
   "cell_type": "code",
   "execution_count": 125,
   "id": "1f91faa9",
   "metadata": {},
   "outputs": [
    {
     "name": "stdout",
     "output_type": "stream",
     "text": [
      "{'a': 1, 'b': 2, 'c': 3, 'd': 4}\n",
      "{'I': 'Jag', 'You': 'Du', 'He': 'Han', 'She': 'Hon'}\n",
      "{'a': 1, 'b': 2, 'c': 3, 'd': 4, 'I': 'Jag', 'You': 'Du', 'He': 'Han', 'She': 'Hon'}\n",
      "{'Duy': ['Python', 'Database', 'ML'], 'Laxmi': ['Python', 'Database', 'ML'], 'Antonio': ['Python', 'Database', 'ML'], 'Maria': ['Python', 'Database', 'ML']}\n",
      "{'Duy': ['Python', 'Database', 'ML'], 'Laxmi': ['Python', 'Database', 'ML'], 'Antonio': ['Javascript', 'Database', 'NodeJS'], 'Maria': ['Python', 'Database', 'ML']}\n",
      "['Javascript', 'Database', 'NodeJS', 'ReactJs']\n",
      "dict_items([('Duy', ['Python', 'Database', 'ML']), ('Laxmi', ['Python', 'Database', 'ML']), ('Antonio', ['Javascript', 'Database', 'NodeJS', 'ReactJs']), ('Maria', ['Python', 'Database', 'ML'])])\n",
      "['Javascript', 'Database', 'NodeJS', 'ReactJs']\n",
      "{'Duy': ['Python', 'Database', 'ML'], 'Antonio': ['Javascript', 'Database', 'NodeJS', 'ReactJs'], 'Maria': ['Python', 'Database', 'ML']}\n"
     ]
    }
   ],
   "source": [
    "list_a = [\"a\",\"b\",\"c\",\"d\"]\n",
    "list_1 = [1,2,3,4]\n",
    "\n",
    "dictionary_1 = zip(list_a, list_1)\n",
    "dictionary_1 = dict(dictionary_1)\n",
    "print(dictionary_1)\n",
    "\n",
    "dictionary_2 = {\"I\":\"Jag\", \"You\":\"Du\", \"He\":\"Han\", \"She\":\"Hon\"}\n",
    "print(dictionary_2)\n",
    "\n",
    "dictionary_1.update(dictionary_2) #Create two dictionaries, merge them into one\n",
    "print(dictionary_1)\n",
    "\n",
    "Students = [\"Duy\", \"Laxmi\", \"Antonio\", \"Maria\"]\n",
    "Course = [\"Python\",\"Database\",\"ML\"] \n",
    "\n",
    "students_profile = dict.fromkeys(Students, Course)\n",
    "print(students_profile)\n",
    "\n",
    "students_profiles2 ={'Antonio':['Javascript', 'Database', 'NodeJS']} #Modify Antonio’s course to [\"JavaScript\",\"Database\",\"NodeJS\"]\n",
    "students_profile.update(students_profiles2)\n",
    "print(students_profile)\n",
    "\n",
    "students_profile['Antonio'].append('ReactJs') #Add “ReactJs” to Anonio’s course\n",
    "print(students_profile['Antonio'])\n",
    "\n",
    "x = students_profile.items()\n",
    "print(x)\n",
    "\n",
    "students_profiles2 ={'Antonio':['Javascript', 'Database', 'NodeJS', 'ReactJs']} #Replace Antonio’s “ReactJs” to “Vuejs\"\n",
    "students_profile.update(students_profiles2)\n",
    "print(students_profile['Antonio'])\n",
    "\n",
    "students_profile.pop('Laxmi') #Remove an item from dictionary\n",
    "print(students_profile)\n",
    "\n",
    "del students_profile['Antonio']"
   ]
  },
  {
   "cell_type": "code",
   "execution_count": null,
   "id": "933438fa",
   "metadata": {},
   "outputs": [],
   "source": []
  }
 ],
 "metadata": {
  "kernelspec": {
   "display_name": "Python 3 (ipykernel)",
   "language": "python",
   "name": "python3"
  },
  "language_info": {
   "codemirror_mode": {
    "name": "ipython",
    "version": 3
   },
   "file_extension": ".py",
   "mimetype": "text/x-python",
   "name": "python",
   "nbconvert_exporter": "python",
   "pygments_lexer": "ipython3",
   "version": "3.10.10"
  }
 },
 "nbformat": 4,
 "nbformat_minor": 5
}
