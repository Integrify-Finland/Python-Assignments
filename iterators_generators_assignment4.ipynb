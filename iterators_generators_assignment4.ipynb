{
 "cells": [
  {
   "cell_type": "code",
   "execution_count": 35,
   "id": "c8bcbe4d",
   "metadata": {},
   "outputs": [
    {
     "name": "stdout",
     "output_type": "stream",
     "text": [
      "1\n"
     ]
    }
   ],
   "source": [
    "# Create a list apply iter method to it and run next method until you get StopIteration error\n",
    "\n",
    "my_list = [1, 2, 3, 4, 5]\n",
    "\n",
    "# Get an iterator object for the list\n",
    "my_iterator = iter(my_list)\n",
    "\n",
    "# Use the next() method to iterate over the list until a StopIteration error is raised\n",
    "while True:\n",
    "    try:\n",
    "        next(my_iterator)\n",
    "       \n",
    "    except StopIteration:\n",
    "        break\n"
   ]
  },
  {
   "cell_type": "code",
   "execution_count": 2,
   "id": "dd2786c7",
   "metadata": {},
   "outputs": [
    {
     "name": "stdout",
     "output_type": "stream",
     "text": [
      "count_iterator:\n",
      "1\n",
      "2\n",
      "3\n",
      "4\n",
      "5\n",
      "6\n",
      "7\n",
      "8\n",
      "9\n",
      "10\n",
      "cycle_iterator:\n",
      "red\n",
      "green\n",
      "blue\n",
      "red\n",
      "green\n",
      "blue\n",
      "red\n",
      "green\n",
      "blue\n",
      "red\n",
      "repeat_iterator:\n",
      "0\n",
      "0\n",
      "0\n",
      "0\n",
      "0\n",
      "0\n",
      "0\n",
      "0\n",
      "0\n",
      "0\n"
     ]
    }
   ],
   "source": [
    "# Import itertools in your notebook and create infinite iterators using count,cycle and and repeat methods. \n",
    "# Refer https://docs.python.org/3/library/itertools.html\n",
    "\n",
    "import itertools\n",
    "\n",
    "# Create an infinite iterator using the count() method\n",
    "count_iterator = itertools.count(1)\n",
    "\n",
    "# Create an infinite iterator using the cycle() method\n",
    "cycle_iterator = itertools.cycle(['red', 'green', 'blue'])\n",
    "\n",
    "# Create an infinite iterator using the repeat() method\n",
    "repeat_iterator = itertools.repeat(0)\n",
    "\n",
    "# Print the first 10 values from each iterator\n",
    "print('count_iterator:')\n",
    "for i in range(10):\n",
    "    print(next(count_iterator))\n",
    "\n",
    "print('cycle_iterator:')\n",
    "for i in range(10):\n",
    "    print(next(cycle_iterator))\n",
    "\n",
    "print('repeat_iterator:')\n",
    "for i in range(10):\n",
    "    print(next(repeat_iterator))\n"
   ]
  },
  {
   "cell_type": "code",
   "execution_count": 3,
   "id": "515f735d",
   "metadata": {},
   "outputs": [
    {
     "name": "stdout",
     "output_type": "stream",
     "text": [
      "<zip object at 0x000002C382804F00>\n",
      "zip_iterator:\n",
      "(1, 'one')\n",
      "(2, 'two')\n",
      "(3, 'three')\n",
      "(4, 'four')\n",
      "(5, 'five')\n",
      "map_iterator:\n",
      "1\n",
      "4\n",
      "9\n",
      "16\n",
      "25\n"
     ]
    }
   ],
   "source": [
    "# Use methods from Iterators terminating on the shortest input sequence\n",
    "\n",
    "list1 = [1, 2, 3, 4, 5]\n",
    "list2 = ['one', 'two', 'three', 'four', 'five']\n",
    "\n",
    "# Use the zip() method to combine the two lists\n",
    "zip_iterator = zip(list1, list2)\n",
    "\n",
    "print(zip_iterator)\n",
    "\n",
    "# Print the values from the zip_iterator\n",
    "print('zip_iterator:')\n",
    "for value in zip_iterator:\n",
    "    print(value)\n",
    "\n",
    "# Define a list of numbers\n",
    "numbers = [1, 2, 3, 4, 5]\n",
    "\n",
    "# Use the map() method to square each number in the list\n",
    "map_iterator = map(lambda x: x**2, numbers)\n",
    "\n",
    "# Print the values from the map_iterator\n",
    "print('map_iterator:')\n",
    "for value in map_iterator:\n",
    "    print(value)\n"
   ]
  },
  {
   "cell_type": "code",
   "execution_count": 4,
   "id": "31f936c6",
   "metadata": {},
   "outputs": [
    {
     "name": "stdout",
     "output_type": "stream",
     "text": [
      "0\n",
      "1\n",
      "1\n",
      "2\n",
      "3\n",
      "5\n",
      "8\n",
      "13\n",
      "21\n",
      "34\n"
     ]
    }
   ],
   "source": [
    "# Use methods from Combinatoric iterator b. Create an infinite generator that generates the fibonacci series\n",
    "\n",
    "import itertools\n",
    "\n",
    "def fibonacci():\n",
    "    # Initialize variables for the first two numbers in the sequence\n",
    "    a, b = 0, 1\n",
    "    \n",
    "    while True:\n",
    "        # Yield the current number in the sequence\n",
    "        yield a\n",
    "        \n",
    "        # Calculate the next number in the sequence\n",
    "        a, b = b, a + b\n",
    "\n",
    "# Create an iterator that generates the first 10 numbers in the Fibonacci sequence\n",
    "fibonacci_iterator = itertools.islice(fibonacci(), 10)\n",
    "\n",
    "# Print the values from the iterator\n",
    "for value in fibonacci_iterator:\n",
    "    print(value)\n"
   ]
  },
  {
   "cell_type": "code",
   "execution_count": 5,
   "id": "59320754",
   "metadata": {},
   "outputs": [
    {
     "name": "stdout",
     "output_type": "stream",
     "text": [
      "7 x 1 = 7\n",
      "7 x 2 = 14\n",
      "7 x 3 = 21\n",
      "7 x 4 = 28\n",
      "7 x 5 = 35\n",
      "7 x 6 = 42\n",
      "7 x 7 = 49\n",
      "7 x 8 = 56\n",
      "7 x 9 = 63\n",
      "7 x 10 = 70\n"
     ]
    }
   ],
   "source": [
    "# Write a multiplication table of any given number in a list using list comprehension\n",
    "\n",
    "num = 7\n",
    "\n",
    "# Use list comprehension to create the multiplication table\n",
    "multiplication_table = [num * i for i in range(1, 11)]\n",
    "\n",
    "# Print the multiplication table\n",
    "for i, value in enumerate(multiplication_table, start=1):\n",
    "    print(f\"{num} x {i} = {value}\")\n"
   ]
  },
  {
   "cell_type": "code",
   "execution_count": 6,
   "id": "bb01c283",
   "metadata": {},
   "outputs": [
    {
     "name": "stdout",
     "output_type": "stream",
     "text": [
      "[5, 15, 25, 35, 45, 50, 51, 52, 53, 54, 55, 56, 57, 58, 59, 65, 75, 85, 95, 105, 115, 125, 135, 145, 150, 151, 152, 153, 154, 155, 156, 157, 158, 159, 165, 175, 185, 195, 205, 215, 225, 235, 245, 250, 251, 252, 253, 254, 255, 256, 257, 258, 259, 265, 275, 285, 295, 305, 315, 325, 335, 345, 350, 351, 352, 353, 354, 355, 356, 357, 358, 359, 365, 375, 385, 395, 405, 415, 425, 435, 445, 450, 451, 452, 453, 454, 455, 456, 457, 458, 459, 465, 475, 485, 495, 500]\n"
     ]
    }
   ],
   "source": [
    "# Find all numbers from 1 to 500 that has 5 in them\n",
    "\n",
    "# Use list comprehension to find all numbers from 1 to 500 that contain the digit 5\n",
    "numbers_with_5 = [num for num in range(1, 501) if '5' in str(num)]\n",
    "\n",
    "# Print the numbers that contain the digit 5\n",
    "print(numbers_with_5)\n"
   ]
  },
  {
   "cell_type": "code",
   "execution_count": 7,
   "id": "304d8534",
   "metadata": {},
   "outputs": [
    {
     "name": "stdout",
     "output_type": "stream",
     "text": [
      "[True, 10, 20, 30, 4.0, False, 0]\n"
     ]
    }
   ],
   "source": [
    "# Given the list of items=[\"apple\",True,10,\"banana\",20,30,4.0,\"grapes\",\"laptop\",\"phone\", False,0], \n",
    "# generate the list of non-string values\n",
    "\n",
    "items = [\"apple\", True, 10, \"banana\", 20, 30, 4.0, \"grapes\", \"laptop\", \"phone\", False, 0]\n",
    "non_string_values = [item for item in items if not isinstance(item, str)]\n",
    "print(non_string_values)\n"
   ]
  },
  {
   "cell_type": "code",
   "execution_count": 13,
   "id": "22579784",
   "metadata": {},
   "outputs": [
    {
     "name": "stdout",
     "output_type": "stream",
     "text": [
      "[False, True, True, False, True, True, True, False, False, False, True, True]\n"
     ]
    }
   ],
   "source": [
    "# Generate the boolean True for numeric and False for non-numeric in above items list\n",
    "\n",
    "items = [\"apple\", True, 10, \"banana\", 20, 30, 4.0, \"grapes\", \"laptop\", \"phone\", False, 0]\n",
    "numeric_bool = [isinstance(item, (int, float)) for item in items]\n",
    "print(numeric_bool)\n"
   ]
  },
  {
   "cell_type": "code",
   "execution_count": 14,
   "id": "66533fce",
   "metadata": {},
   "outputs": [
    {
     "name": "stdout",
     "output_type": "stream",
     "text": [
      "Cat files: ['cat1.png', 'cat2.png', 'cat3.png', 'cat4.png', 'cat5.png', 'cat6.png']\n",
      "Dog files: ['dog1.png', 'dog2.png', 'dog3.png']\n"
     ]
    }
   ],
   "source": [
    "# files=[\"cat1.png\",\"dog1.png\",\"cat2.png\",\"cat3.png\",\"cat4.png\",\"dog2.png\",\"cat5.png\",\"cat6.png\",\"dog3.png\"], \n",
    "# generate two lists of cat and dog image files\n",
    "\n",
    "files = [\"cat1.png\", \"dog1.png\", \"cat2.png\", \"cat3.png\", \"cat4.png\", \"dog2.png\", \"cat5.png\", \"cat6.png\", \"dog3.png\"]\n",
    "\n",
    "cat_files = [file for file in files if \"cat\" in file]\n",
    "dog_files = [file for file in files if \"dog\" in file]\n",
    "\n",
    "print(\"Cat files:\", cat_files)\n",
    "print(\"Dog files:\", dog_files)\n"
   ]
  },
  {
   "cell_type": "code",
   "execution_count": 15,
   "id": "627819a3",
   "metadata": {},
   "outputs": [
    {
     "name": "stdout",
     "output_type": "stream",
     "text": [
      "TTAGGCTTTTAAGCCCTTAAAAGCGCA\n"
     ]
    }
   ],
   "source": [
    "# Use appropriate comprehension method to generate the complementary dna template using information form Assignment2.2.b\n",
    "\n",
    "dna_template = 'AATCCGAAAATTCGGGAATTTTCGCGT'\n",
    "mapper = {\"T\":\"A\", \"A\":\"T\", \"G\":\"C\", \"C\":\"G\"}\n",
    "\n",
    "complementary_dna_template = ''.join([mapper[base] for base in dna_template])\n",
    "\n",
    "print(complementary_dna_template)\n"
   ]
  }
 ],
 "metadata": {
  "kernelspec": {
   "display_name": "Python 3 (ipykernel)",
   "language": "python",
   "name": "python3"
  },
  "language_info": {
   "codemirror_mode": {
    "name": "ipython",
    "version": 3
   },
   "file_extension": ".py",
   "mimetype": "text/x-python",
   "name": "python",
   "nbconvert_exporter": "python",
   "pygments_lexer": "ipython3",
   "version": "3.11.2"
  }
 },
 "nbformat": 4,
 "nbformat_minor": 5
}
