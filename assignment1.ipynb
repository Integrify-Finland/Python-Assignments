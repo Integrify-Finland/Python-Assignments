{
 "cells": [
  {
   "cell_type": "code",
   "execution_count": 23,
   "id": "0d8b1610",
   "metadata": {},
   "outputs": [],
   "source": [
    "#Use the constructor methods to create different data types in python\n",
    "#(integer,float,string,list,tuple,dictionary,set etc.). \n",
    "#Also use object literals to create those data types."
   ]
  },
  {
   "cell_type": "code",
   "execution_count": 27,
   "id": "6e07ec76",
   "metadata": {},
   "outputs": [
    {
     "name": "stdout",
     "output_type": "stream",
     "text": [
      "10\n",
      "23.8\n",
      "('hi', 'It is me')\n",
      "[3, 4, 5, 7, 12, 89, 23, 55]\n",
      "(1, 2, 4, 3, 4, 7, 8, 5, 4, 3, 2)\n",
      "{1: 'a', 2: 'b', 3: 'c', 4: 'd'}\n",
      "{'33', '44', 20}\n"
     ]
    }
   ],
   "source": [
    "x_int=int(10)\n",
    "print(x_int)\n",
    "###\n",
    "x_float=(23.8)\n",
    "print(x_float)\n",
    "###\n",
    "x_string=(\"hi\",\"It is me\")\n",
    "print(x_string)\n",
    "###\n",
    "x_list=[3,4,5,7,12,89,23,55]\n",
    "print(x_list)\n",
    "###\n",
    "x_tuple=(1,2,4,3,4,7,8,5,4,3,2)\n",
    "print(x_tuple)\n",
    "###\n",
    "x_dictionary=dict({1:\"a\",2:\"b\",3:\"c\",4:\"d\"})\n",
    "print(x_dictionary)\n",
    "###\n",
    "x_set={\"44\",\"44\",\"33\",\"33\",\"33\",20,20,20,20,20,20,\"44\",\"33\"}\n",
    "print(x_set)"
   ]
  },
  {
   "cell_type": "code",
   "execution_count": 17,
   "id": "653ca018",
   "metadata": {},
   "outputs": [],
   "source": [
    "#Create two operands and play around using different operators"
   ]
  },
  {
   "cell_type": "code",
   "execution_count": 32,
   "id": "00292077",
   "metadata": {},
   "outputs": [
    {
     "name": "stdout",
     "output_type": "stream",
     "text": [
      "52\n",
      "-28\n",
      "480\n",
      "0.3\n",
      "12\n"
     ]
    }
   ],
   "source": [
    "o1=12\n",
    "o2=40\n",
    "print(o1+o2)\n",
    "print(o1-o2)\n",
    "print(o1*o2)\n",
    "print(o1/o2)#returns the quotient of the division/floating-point division\n",
    "print(o1%o2)#It returns the remainder of the division operation\n"
   ]
  },
  {
   "cell_type": "code",
   "execution_count": null,
   "id": "36a2cb88",
   "metadata": {},
   "outputs": [],
   "source": [
    "#Once you create an object of each data type, run dir(object).\n",
    "#Navigate the magic methods/dunder methods \n",
    "#and other methods and attributes of each object. \n",
    "#Try to implement those methods and attributes as many as possible."
   ]
  },
  {
   "cell_type": "code",
   "execution_count": 38,
   "id": "b65f71b1",
   "metadata": {},
   "outputs": [],
   "source": [
    "#dir(o1)"
   ]
  },
  {
   "cell_type": "code",
   "execution_count": 12,
   "id": "418a7766",
   "metadata": {},
   "outputs": [
    {
     "ename": "NameError",
     "evalue": "name 'x_int' is not defined",
     "output_type": "error",
     "traceback": [
      "\u001b[1;31m---------------------------------------------------------------------------\u001b[0m",
      "\u001b[1;31mNameError\u001b[0m                                 Traceback (most recent call last)",
      "Cell \u001b[1;32mIn[12], line 1\u001b[0m\n\u001b[1;32m----> 1\u001b[0m \u001b[38;5;28mprint\u001b[39m(\u001b[43mx_int\u001b[49m\u001b[38;5;241m.\u001b[39m\u001b[38;5;21m__add__\u001b[39m(\u001b[38;5;241m2\u001b[39m))\n",
      "\u001b[1;31mNameError\u001b[0m: name 'x_int' is not defined"
     ]
    }
   ],
   "source": [
    "print(x_int.__add__(2))"
   ]
  },
  {
   "cell_type": "code",
   "execution_count": null,
   "id": "37cc8a08",
   "metadata": {},
   "outputs": [],
   "source": [
    "# different ways to format the string:\n",
    "#set of instructions that can be called on an object. \n",
    "# 1-The string .format() method\n",
    "# 2-The formatted string literal, or f-string\n"
   ]
  },
  {
   "cell_type": "code",
   "execution_count": 29,
   "id": "72dfa20f",
   "metadata": {},
   "outputs": [
    {
     "name": "stdout",
     "output_type": "stream",
     "text": [
      "I love Python\n",
      "I lovepython\n",
      "I love pyhton version 2.1\n",
      "I love pyhton version %.2f%3.10\n",
      "I love python version 3.10\n",
      "I love python version 3.1\n",
      "I love python version3.10\n",
      "I love 3.10 version of python \n",
      "I love python version 3.10\n",
      "I love python version3.10\n",
      "I love python version3.10\n",
      "I love python\n"
     ]
    }
   ],
   "source": [
    "print(\"I love\",\"Python\" )\n",
    "print(\"I love\"+\"python\")\n",
    "print(\"I love\"+\" pyhton\"+\" version\",2.10)\n",
    "print(\"I love\"+\" pyhton\"+\" version %.2f%3.10\")\n",
    "print(\"I love %s version %.2f\"%(\"python\",3.10))\n",
    "#using format positional argument\n",
    "print(\"I love {} version {}\".format(\"python\",3.10))\n",
    "print(\"I love {} version{:.2f}\".format(\"python\",3.10))\n",
    "print(\"I love {1} version of {0} \".format(\"python\",\"3.10\"))\n",
    "#using format keyword argument\n",
    "print(\"I love {pl} version {version:.2f}\".format(pl=\"python\",version=3.10))\n",
    "#using f_string literal\n",
    "info={\"pl\":\"python\",\"version\":3.10}\n",
    "print(f\"I love {info.get('pl')} version{info.get('version'):.2f}\")\n",
    "# can be done with uppercase f literal and single quote but double quote\n",
    "#while access dictionary value\n",
    "print(F'I love {info[\"pl\"]} version{info[\"version\"]:.2f}')\n",
    "# f_string conditional\n",
    "batch='ML'\n",
    "print(f'I love {\"javascript\" if batch==\"FS\" else \"python\"}')"
   ]
  },
  {
   "cell_type": "code",
   "execution_count": null,
   "id": "f408694a",
   "metadata": {},
   "outputs": [],
   "source": [
    "# indexing in python.\n",
    "#Iterables can be accessed using index values in python.\n",
    "#Eg: list, tuple,dict, set "
   ]
  },
  {
   "cell_type": "code",
   "execution_count": 3,
   "id": "32e1452c",
   "metadata": {},
   "outputs": [
    {
     "name": "stdout",
     "output_type": "stream",
     "text": [
      "1\n",
      "['Sweden', 'Denmark', 'Netherlands', 'Germany', 'Norway', 'Iceland']\n",
      "['Finland', 'Sweden', 'Denmark', 'Netherlands', 'Germany', 'Norway']\n",
      "Iceland\n",
      "['Germany', 'Norway', 'Iceland']\n",
      "['Sweden', 'Netherlands', 'Norway']\n",
      "Finland\n",
      "Iceland\n",
      "['Netherlands', 'Germany', 'Norway']\n",
      "['Iceland', 'Norway', 'Germany', 'Netherlands', 'Denmark', 'Sweden', 'Finland']\n",
      "['Finland', 'Denmark', 'Germany', 'Iceland']\n",
      "['Norway', 'Netherlands', 'Sweden']\n",
      "[]\n",
      "['Germany', 'Netherlands', 'Denmark']\n",
      "0 Iceland\n",
      "1 Norway\n",
      "2 Germany\n",
      "3 Netherlands\n",
      "4 Denmark\n",
      "5 Sweden\n",
      "6 Finland\n"
     ]
    }
   ],
   "source": [
    "# Create a list of items.\n",
    "countries=[\"Finland\",\"Sweden\",\"Denmark\",\"Netherlands\",\"Germany\",\"Norway\",\"Iceland\"]\n",
    "\n",
    "# Find the index of “Sweden”\n",
    "index_of_sweden=countries.index(\"Sweden\")\n",
    "print(index_of_sweden)\n",
    "#Get all the items except the first\n",
    "all_not_first=countries[1:]\n",
    "print(all_not_first)\n",
    "#Get all the items except the last\n",
    "all_not_last=countries[:6]\n",
    "print(all_not_last)\n",
    "#Find the last item using negative indexing\n",
    "last_item=countries[-1]\n",
    "print(last_item)\n",
    "#Find the last three item using negative indexing\n",
    "last_3_item=countries[-3:]\n",
    "print(last_3_item)\n",
    "#Grab all the items with odd indices\n",
    "odd_index=countries[1::2]\n",
    "print(odd_index)\n",
    "#Find the first and last item for the list\n",
    "first_item=countries[0]\n",
    "last_item=countries[-1]\n",
    "print(first_item)\n",
    "print(last_item)\n",
    "\n",
    "\n",
    "#Get [”Netherlands”,”Germany”,”Norway”] using negative indexing\n",
    "list_by_index=countries[-4:-1]\n",
    "print(list_by_index)\n",
    "\n",
    "#Reverse the list\n",
    "countries.reverse()\n",
    "print(countries)\n",
    "\n",
    "#What is the output of countries[::-2]\n",
    "every_second_element=countries[::-2]\n",
    "print(every_second_element)\n",
    "\n",
    "#What is the output of countries[1:100:2]?\n",
    "# every second element,starting from the second element,if 100 elements be.\n",
    "mean=countries[1:100:2]\n",
    "print(mean)\n",
    "\n",
    "#What is the output of countries[len(countries)-1:0:2]?\n",
    "result=countries[-1:0:2]\n",
    "print(result)\n",
    "\n",
    "#Get the output ['Germany', 'Netherlands', 'Denmark']\n",
    "output=countries[2:5]\n",
    "print(output)\n",
    "\n",
    "#Use enumerate method to get index and values in the list\n",
    "for index,value in enumerate(countries):\n",
    "    print(index,value)"
   ]
  },
  {
   "cell_type": "code",
   "execution_count": null,
   "id": "7b8827a6",
   "metadata": {},
   "outputs": [],
   "source": [
    "#Exercise on dictionaries"
   ]
  },
  {
   "cell_type": "code",
   "execution_count": 10,
   "id": "a3e9aa3f",
   "metadata": {},
   "outputs": [
    {
     "name": "stdout",
     "output_type": "stream",
     "text": [
      "{'a': 1, 'b': 2, 'c': 3, 'd': 4}\n",
      "{'student1': 12, 'student2': 13, 'student3': 18, 'student4': 15, 'student5': 19, 'student6': 20}\n",
      "{'Duy': ['Python', 'Database', 'ML'], 'Laxmi': ['Python', 'Database', 'ML'], 'Antonio': ['JavaScript', 'Database', 'NodeJS'], 'Maria': ['Python', 'Database', 'ML']}\n",
      "{'Duy': ['Python', 'Database', 'ML'], 'Laxmi': ['Python', 'Database', 'ML'], 'Antonio': ['JavaScript', 'Database', 'NodeJS'], 'Maria': ['Python', 'Database', 'ML']}\n",
      "{'Duy': ['Python', 'Database', 'ML'], 'Laxmi': ['Python', 'Database', 'ML'], 'Antonio': ['JavaScript', 'Database', 'NodeJS', 'ReactJs'], 'Maria': ['Python', 'Database', 'ML']}\n",
      "{'Duy': ['Python', 'Database', 'ML'], 'Laxmi': ['Python', 'Database', 'ML'], 'Antonio': ['JavaScript', 'Database', 'NodeJS', 'Vuejs'], 'Maria': ['Python', 'Database', 'ML']}\n",
      "{'Laxmi': ['Python', 'Database', 'ML'], 'Antonio': ['JavaScript', 'Database', 'NodeJS', 'Vuejs'], 'Maria': ['Python', 'Database', 'ML']}\n",
      "['Python', 'Database', 'ML']\n"
     ]
    }
   ],
   "source": [
    "\n",
    "#Given the two lists of same length, \n",
    "#create a dictionary using a list as keys and  \n",
    "#another list as values without using loop\n",
    "#Hint: zip method\n",
    "keys_l= [\"a\", \"b\", \"c\", \"d\"]\n",
    "values_l= [1, 2, 3, 4]\n",
    "my_dict = {key: value for key, value in zip(keys_l, values_l)}   \n",
    "print(my_dict)   \n",
    "    \n",
    "#Create two dictionaries, merge them into one.\n",
    "dic1={\"student1\":12,\"student2\":13,\"student3\":18}\n",
    "dic2={\"student4\":15,\"student5\":19,\"student6\":20}\n",
    "dic1.update(dic2)\n",
    "print(dic1)\n",
    "\n",
    "#Given the list of students, assign them the course.\n",
    "\n",
    "Students=[\"Duy\",\"Laxmi\",\"Antonio\",\"Maria\"]\n",
    "Courses=[\"Python\",\"Database\",\"ML\"] \n",
    "st_dict= {}\n",
    "for student in Students:\n",
    "     st_dict[student]= Courses\n",
    "st_dict[\"Antonio\"] = [\"JavaScript\", \"Database\", \"NodeJS\"]\n",
    "print(st_dict)\n",
    "#Should result to the new dictionary students_profile=\n",
    "#{'Duy': ['Python', 'Database', 'ML'], 'Laxmi': ['Python', 'Database', 'ML'],\n",
    "#'Antonio': ['Python', 'Database', 'ML'],'Maria': ['Python', 'Database', 'ML']}\n",
    "\n",
    "#Modify Antonio’s course to [\"JavaScript\",\"Database\",\"NodeJS\"]\n",
    "st_dict[\"Antonio\"] = [\"JavaScript\", \"Database\", \"NodeJS\"]\n",
    "print(st_dict)\n",
    "\n",
    "#Add “ReactJs” to Anonio’s course\n",
    "st_dict[\"Antonio\"].append(\"ReactJs\")\n",
    "print(st_dict)\n",
    "\n",
    "#Replace Antonio’s “ReactJs” to “Vuejs”\n",
    "st_dict[\"Antonio\"][3]=\"Vuejs\"\n",
    "print(st_dict)\n",
    "#Remove an item from dictionary\n",
    "del st_dict[\"Duy\"]\n",
    "print(st_dict)\n",
    "#Hint: use del statement or pop/ popitem method. Observe the differences\n",
    "new_list=st_dict.pop(\"Laxmi\")\n",
    "print(new_list)\n"
   ]
  },
  {
   "cell_type": "code",
   "execution_count": null,
   "id": "7f83e938",
   "metadata": {},
   "outputs": [],
   "source": []
  }
 ],
 "metadata": {
  "kernelspec": {
   "display_name": "Python 3 (ipykernel)",
   "language": "python",
   "name": "python3"
  },
  "language_info": {
   "codemirror_mode": {
    "name": "ipython",
    "version": 3
   },
   "file_extension": ".py",
   "mimetype": "text/x-python",
   "name": "python",
   "nbconvert_exporter": "python",
   "pygments_lexer": "ipython3",
   "version": "3.11.2"
  }
 },
 "nbformat": 4,
 "nbformat_minor": 5
}
