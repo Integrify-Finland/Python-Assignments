{
 "cells": [
  {
   "cell_type": "code",
   "execution_count": 1,
   "id": "d7545941",
   "metadata": {},
   "outputs": [
    {
     "name": "stdout",
     "output_type": "stream",
     "text": [
      "True\n"
     ]
    }
   ],
   "source": [
    "import numbers\n",
    "print(isinstance(2, numbers.Number))"
   ]
  },
  {
   "cell_type": "code",
   "execution_count": null,
   "id": "333cbd50",
   "metadata": {},
   "outputs": [],
   "source": [
    "#Conditionals"
   ]
  },
  {
   "cell_type": "code",
   "execution_count": 8,
   "id": "0c856e38",
   "metadata": {
    "scrolled": true
   },
   "outputs": [
    {
     "name": "stdout",
     "output_type": "stream",
     "text": [
      "Enter radius: 2\n"
     ]
    },
    {
     "ename": "TypeError",
     "evalue": "'int' object is not callable",
     "output_type": "error",
     "traceback": [
      "\u001b[1;31m---------------------------------------------------------------------------\u001b[0m",
      "\u001b[1;31mTypeError\u001b[0m                                 Traceback (most recent call last)",
      "Cell \u001b[1;32mIn [8], line 4\u001b[0m\n\u001b[0;32m      1\u001b[0m \u001b[38;5;66;03m#Get the radius value as input and calculate the area of the circle. If the input is numeric, display the result otherwise display any other message.\u001b[39;00m\n\u001b[0;32m      3\u001b[0m radius\u001b[38;5;241m=\u001b[39m\u001b[38;5;28mint\u001b[39m(\u001b[38;5;28minput\u001b[39m(\u001b[38;5;124m\"\u001b[39m\u001b[38;5;124mEnter radius: \u001b[39m\u001b[38;5;124m\"\u001b[39m))\n\u001b[1;32m----> 4\u001b[0m \u001b[38;5;28mtype\u001b[39m\u001b[38;5;241m=\u001b[39m \u001b[38;5;28mtype\u001b[39m(radius)\n\u001b[0;32m      5\u001b[0m \u001b[38;5;28mprint\u001b[39m (\u001b[38;5;28mtype\u001b[39m)\n\u001b[0;32m      6\u001b[0m \u001b[38;5;28;01mif\u001b[39;00m \u001b[38;5;28misinstance\u001b[39m(\u001b[38;5;28mtype\u001b[39m, numbers\u001b[38;5;241m.\u001b[39mNumber) \u001b[38;5;241m==\u001b[39m \u001b[38;5;28;01mTrue\u001b[39;00m:\n",
      "\u001b[1;31mTypeError\u001b[0m: 'int' object is not callable"
     ]
    }
   ],
   "source": [
    "#Get the radius value as input and calculate the area of the circle. If the input is numeric, display the result otherwise display any other message.\n",
    "\n",
    "radius=int(input(\"Enter radius: \"))\n",
    "type= type(radius)\n",
    "print (type)\n",
    "if isinstance(type, numbers.Number) == True:\n",
    "    print(\"Area is : \", 3.14*radius^2)\n",
    "else:\n",
    "    print(\"Entered radius is not numerical.\")\n"
   ]
  },
  {
   "cell_type": "code",
   "execution_count": null,
   "id": "c795e3c2",
   "metadata": {},
   "outputs": [],
   "source": [
    "#If the user enters numeric value then asks user to for either perimeter or area calculation and display accordingly\n",
    "\n",
    "radius=int(input(\"Enter radius: \"))\n",
    "type= type(radius)\n",
    "if isinstance(type, numbers.Number) == True:\n",
    "    perimeter_area = input(\"If you want to calculate perimeter enter 'perimeter' and if you want to calculate area, enter 'area': \")\n",
    "    if perimeter_area == \"area\":\n",
    "        print(\"Calculated area for requested radius is:\", 3.14*radius**2)\n",
    "    elif perimeter_area == perimeter:\n",
    "        print(\"Calculated area for requested radius is:\", 3.14*radius*2)\n",
    "else:\n",
    "    print(\"Entered radius is not numerical.\")"
   ]
  },
  {
   "cell_type": "code",
   "execution_count": 1,
   "id": "2159ee47",
   "metadata": {},
   "outputs": [
    {
     "name": "stdout",
     "output_type": "stream",
     "text": [
      "{'Duy': ['Python', 'Database', 'ML'], 'Laxmi': ['Python', 'Database', 'ML'], 'Antonio': ['Python', 'Database', 'ML'], 'Maria': ['Python', 'Database', 'ML']}\n"
     ]
    }
   ],
   "source": [
    "#students_profile\n",
    "students_profile = {'Duy': ['Python', 'Database', 'ML'], 'Laxmi': ['Python', 'Database', 'ML'],\n",
    "'Antonio': ['Python', 'Database', 'ML'],'Maria': ['Python', 'Database', 'ML']}\n",
    "\n",
    "#Check if there is a student named 'Maria' in students_profile dictionary. If exists remove 'ML' from her course\n",
    "specific_key = 'Maria'\n",
    "if specific_key in students_profile.keys():\n",
    "    for v in specific_key:\n",
    "        if v == 'ML':\n",
    "            students_profile[specefic_key].remove[v]\n",
    "print(students_profile)    \n",
    "    \n"
   ]
  },
  {
   "cell_type": "code",
   "execution_count": 4,
   "id": "fd4b977a",
   "metadata": {},
   "outputs": [
    {
     "name": "stdout",
     "output_type": "stream",
     "text": [
      "{'Duy': ['Python', 'Database', 'ML'], 'Laxmi': ['Python', 'Database', 'ML'], 'Antonio': ['Python', 'Database', 'ML'], 'Maria': ['Python', 'Database']}\n"
     ]
    }
   ],
   "source": [
    "#students_profile\n",
    "students_profile = {'Duy': ['Python', 'Database', 'ML'], 'Laxmi': ['Python', 'Database', 'ML'],\n",
    "'Antonio': ['Python', 'Database', 'ML'],'Maria': ['Python', 'Database', 'ML']}\n",
    "#Check if there is a student named 'Maria' in students_profile dictionary. If exists remove 'ML' from her course\n",
    "specific_key = 'Maria'\n",
    "if specific_key in students_profile.keys():\n",
    "    for v in students_profile[specific_key]:\n",
    "        if v == 'ML':\n",
    "            students_profile['Maria'].remove(v)\n",
    "print(students_profile)"
   ]
  },
  {
   "cell_type": "code",
   "execution_count": 11,
   "id": "5c9340b4",
   "metadata": {},
   "outputs": [
    {
     "name": "stdout",
     "output_type": "stream",
     "text": [
      "Enter a string to check if it is a substring: baby\n",
      "The entered string is not a substring of the defined string.\n"
     ]
    }
   ],
   "source": [
    "#Take the input from the user as a substring. \n",
    "#If that substring is present in string then display substring is present otherwise substring is not present\n",
    "my_string = \"Good morning everybody. Have a nice day!\"\n",
    "user_input = input(\"Enter a string to check if it is a substring: \")\n",
    "if user_input in my_string:\n",
    "    print(\"The entered string is a substring of the defined string.\")\n",
    "else:\n",
    "    print(\"The entered string is not a substring of the defined string.\")"
   ]
  },
  {
   "cell_type": "code",
   "execution_count": 16,
   "id": "465996b2",
   "metadata": {},
   "outputs": [
    {
     "name": "stdout",
     "output_type": "stream",
     "text": [
      "Enter an order numer to calculate your requested distance. order_1, calculates Manhattan distance, order_2, calculates Euclidean distance, and order_3 calculates Minkowski equation.order_3\n",
      "Minkowski equation for points (1,2,3) and (4,5,6) is: 3.5304534574382584\n"
     ]
    }
   ],
   "source": [
    "#Distance Metrics are important to calculate the similarity between the vectors. \n",
    "#They are used in both supervised and unsupervised machine learning problems. \n",
    "#Given the points (1,2,3) and (4,5,6), write a python conditional statement to print the distance for the order 1,2,3,4. \n",
    "#If the order is 1 then it is L1 norm(Manhattan distance), order 2 is L2 norm(Euclidean distance) and the generalized distance is given by Minkowski equation.\n",
    "import math\n",
    "\n",
    "point1=(1,2,3)\n",
    "point2=(4,5,6)\n",
    "user_input = input(\"Enter an order numer to calculate your requested distance. order_1, calculates Manhattan distance, order_2, calculates Euclidean distance, and order_3 calculates Minkowski equation.\")\n",
    "if user_input == \"order_1\":\n",
    "   print(\"Manhattan distance for points (1,2,3) and (4,5,6) is:\", sum(abs(a - b) for a, b in zip(point1, point2)))\n",
    "elif user_input == \"order_2\":\n",
    "   print(\"Euclidean distance for points (1,2,3) and (4,5,6) is:\", math.sqrt((point2[0] - point1[0])**2 + (point2[1] - point1[1])**2 + (point2[2] - point1[2])**2))\n",
    "elif user_input == \"order_3\":\n",
    "   distance = 0\n",
    "   p=2\n",
    "   for i in range(len(point1)):\n",
    "       distance += math.pow(abs(point1[i] - point2[i]), p)\n",
    "       distance = math.pow(distance, 1/p)\n",
    "   print(\"Minkowski equation for points (1,2,3) and (4,5,6) is:\", distance)\n"
   ]
  },
  {
   "cell_type": "code",
   "execution_count": 5,
   "id": "ded135f0",
   "metadata": {},
   "outputs": [
    {
     "name": "stdout",
     "output_type": "stream",
     "text": [
      "Display multiplication table of? 4\n",
      "4 X 1 = 4\n",
      "4 X 2 = 8\n",
      "4 X 3 = 12\n",
      "4 X 4 = 16\n",
      "4 X 5 = 20\n",
      "4 X 6 = 24\n",
      "4 X 7 = 28\n",
      "4 X 8 = 32\n",
      "4 X 9 = 36\n",
      "4 X 10 = 40\n"
     ]
    }
   ],
   "source": [
    "#Write a multiplication table for any given number using both for and while loop\n",
    "\n",
    "#Using for loop\n",
    "num = int(input(\"Display multiplication table of? \"))\n",
    "for i in range (1,11):\n",
    "    print(num,'X',i,'=',num*i)\n",
    "    \n",
    "#Using while loop\n",
    "i=1\n",
    "num = int(input(\"Display multiplication table of? \"))\n",
    "while i<11 :\n",
    "    print(num,'X',i,'=',num*i)\n",
    "    i+=1\n"
   ]
  },
  {
   "cell_type": "code",
   "execution_count": 30,
   "id": "f91a7a03",
   "metadata": {},
   "outputs": [
    {
     "name": "stdout",
     "output_type": "stream",
     "text": [
      "TTAGGCTTTTAAGCCCTTAAAAGCGCA\n"
     ]
    }
   ],
   "source": [
    "#DNA is coded using 4 nitrogen bases with the symbols A,T,G,C. \n",
    "#Given the template string dna_template='AATCCGAAAATTCGGGAATTTTCGCGT' , generate the complementary dna template with the mapping\n",
    "#mapper={\"T\":\"A\",\"A\":\"T\",\"G\":\"C\",\"C\":\"G\"}\n",
    "dna_template='AATCCGAAAATTCGGGAATTTTCGCGT'\n",
    "\n",
    "for i in range(len(dna_template)) :\n",
    "    if dna_template[i] == \"T\" :\n",
    "        dna_template = dna_template[:i] + 'A' + dna_template[i+1:]\n",
    "    elif dna_template[i] == \"A\" :\n",
    "        dna_template = dna_template[:i] + 'T' + dna_template[i+1:]\n",
    "    elif dna_template[i] == \"G\" :\n",
    "        dna_template = dna_template[:i] + 'C' + dna_template[i+1:]\n",
    "    elif dna_template[i] == \"C\" :\n",
    "        dna_template = dna_template[:i] + 'G' + dna_template[i+1:]\n",
    "   \n",
    "print(dna_template)\n",
    "\n",
    "\n"
   ]
  },
  {
   "cell_type": "code",
   "execution_count": 18,
   "id": "439c8cd4",
   "metadata": {},
   "outputs": [
    {
     "name": "stdout",
     "output_type": "stream",
     "text": [
      "[0, 1, 1, 2, 3, 5, 8, 13, 21, 34, 55, 89, 144]\n"
     ]
    }
   ],
   "source": [
    "#Generate the list f_series=x=[0,1,1,2,3,5,8,13,21,34,55,89,144]. \n",
    "#Looks Familiar? This is Fibonacci series where x[0]=0,x[1]=1, and x[n]=x[n-1]+x[n-2] for n>1\n",
    "\n",
    "x=[]\n",
    "x.append(0)\n",
    "x.append(1)\n",
    "i=2\n",
    "while x[i-1]<=89:\n",
    "    x.append(x[i-1]+x[i-2])\n",
    "    i=i+1   \n",
    "print(x)\n"
   ]
  },
  {
   "cell_type": "code",
   "execution_count": 31,
   "id": "2fd4a6a3",
   "metadata": {},
   "outputs": [
    {
     "name": "stdout",
     "output_type": "stream",
     "text": [
      "Display a list of prime numbers less than? 8\n"
     ]
    },
    {
     "data": {
      "text/plain": [
       "[2, 3, 5, 7, 11, 13, 17, 19]"
      ]
     },
     "execution_count": 31,
     "metadata": {},
     "output_type": "execute_result"
    }
   ],
   "source": [
    " #Generate a list of n numbers of prime numbers\n",
    "import math\n",
    "n = int(input(\"Enter a number 'n' to display a list of 'n' numbers of prime numbers \"))\n",
    "def generate_primes(n):\n",
    "    primes = []\n",
    "    num = 2\n",
    "    while len(primes)<n:\n",
    "        is_prime=True\n",
    "        for divisor in range(2, int(math.sqrt(num))+1):\n",
    "             if num % divisor == 0:\n",
    "                 is_prime=False\n",
    "                 break\n",
    "        if is_prime:\n",
    "             primes.append(num)\n",
    "        num+=1\n",
    "    return primes\n",
    "generate_primes(n)"
   ]
  },
  {
   "cell_type": "code",
   "execution_count": 11,
   "id": "a7e0896c",
   "metadata": {},
   "outputs": [
    {
     "name": "stdout",
     "output_type": "stream",
     "text": [
      "[0.0, 0.17582417582417584, 0.12087912087912088, 0.15384615384615385, 0.31868131868131866, 0.6483516483516484, 0.5164835164835165, 0.5494505494505495, 0.967032967032967, 1.0, 0.5824175824175825, 0.07692307692307693]\n"
     ]
    }
   ],
   "source": [
    "#Perform the minmax normalization to the range [0,1] for the data1=[1,17,12,15,30,60,48,51,89,92,54,8], \n",
    "#use X_scaled = (X - X_min) / (X_max - X_min)\n",
    "data1 = [1, 17, 12, 15, 30, 60, 48, 51, 89, 92, 54, 8]\n",
    "x_min = min(data1)\n",
    "x_max = max(data1)\n",
    "x_scaled=[(x-x_min)/(x_max-x_min) for x in data1]\n",
    "print(x_scaled)"
   ]
  },
  {
   "cell_type": "code",
   "execution_count": 14,
   "id": "99a4ef0a",
   "metadata": {},
   "outputs": [
    {
     "name": "stdout",
     "output_type": "stream",
     "text": [
      "[-0.2962962962962963, 0.2592592592592593, 0.14814814814814814, 0.4444444444444444, 1.0, -1.0, 0.37037037037037046, 0.7407407407407407, -0.14814814814814814, 0.6666666666666667, 0.2962962962962963, 0.11111111111111116]\n"
     ]
    }
   ],
   "source": [
    "#Perform minmax normalization to the range [-1,1] for the data2=[-13,2,-1,7,22,-32,5,15,-9,13,3,-2], \n",
    "#use X_scaled = 2 * (X - X_min) / (X_max - X_min) - 1\n",
    "data2=[-13,2,-1,7,22,-32,5,15,-9,13,3,-2]\n",
    "x_min = min(data2)\n",
    "x_max = max(data2)\n",
    "x_scaled=[2*((x-x_min)/(x_max-x_min))-1 for x in data2]\n",
    "print(x_scaled)"
   ]
  },
  {
   "cell_type": "code",
   "execution_count": 35,
   "id": "1703dac7",
   "metadata": {},
   "outputs": [
    {
     "name": "stdout",
     "output_type": "stream",
     "text": [
      "[3, 7, 8, 9, 12, 13, 34, 63]\n"
     ]
    }
   ],
   "source": [
    "#Understand how sorting algorithms work(bubble,selection,insertion). Implement them of your own. Also compare time complexities.\n",
    "# Bubble Sort Implementation\n",
    "\n",
    "test_array=[7, 34, 8,13, 63, 12, 9, 3]\n",
    "def bubble_sort(arr):\n",
    "    n = len(arr)\n",
    "    for i in range(n):\n",
    "        for j in range(0, n-i-1):\n",
    "            if arr[j] > arr[j+1]:\n",
    "                arr[j], arr[j+1] = arr[j+1], arr[j]\n",
    "    return arr\n",
    "print(bubble_sort(test_array))\n"
   ]
  },
  {
   "cell_type": "code",
   "execution_count": 39,
   "id": "16583d07",
   "metadata": {},
   "outputs": [
    {
     "name": "stdout",
     "output_type": "stream",
     "text": [
      "[3, 7, 8, 9, 12, 13, 34, 63]\n"
     ]
    }
   ],
   "source": [
    "# Selection Sort Implementation\n",
    "test_array=[7, 34, 8,13, 63, 12, 9, 3]\n",
    "def selection_sort(arr):\n",
    "    n = len(arr)\n",
    "    for i in range (n):\n",
    "        min_index = i\n",
    "        for j in range (i+1, n):\n",
    "            if arr[j] < arr[min_index]:\n",
    "                min_index = j\n",
    "        arr[i], arr[min_index] = arr[min_index], arr[i]\n",
    "    return arr\n",
    "print(selection_sort(test_array))\n"
   ]
  },
  {
   "cell_type": "code",
   "execution_count": 41,
   "id": "5a62412e",
   "metadata": {},
   "outputs": [
    {
     "name": "stdout",
     "output_type": "stream",
     "text": [
      "[3, 7, 8, 9, 12, 13, 34, 63]\n"
     ]
    }
   ],
   "source": [
    "# Insertion Sort Implementation\n",
    "test_array=[7, 34, 8,13, 63, 12, 9, 3]\n",
    "def insertion_sort(arr):\n",
    "    for i in range(1, len(arr)):\n",
    "        key = arr[i]\n",
    "        j = i - 1\n",
    "        while j >= 0 and key < arr[j]:\n",
    "            arr[j+1] = arr[j]\n",
    "            j -= 1\n",
    "        arr[j+1] = key\n",
    "    return arr\n",
    "print(insertion_sort(test_array))"
   ]
  },
  {
   "cell_type": "code",
   "execution_count": null,
   "id": "11b5ea50",
   "metadata": {},
   "outputs": [],
   "source": [
    "#Functions: For each of the functions you create, write the docstrings as well. Docstring is important to get information about a particular function. Docstring is string literals that should be present right after function definition within triple quotations. One can get information about a function as an example by running myfunction .__doc__\n",
    "\n",
    "\n",
    "\n"
   ]
  },
  {
   "cell_type": "code",
   "execution_count": 46,
   "id": "57bc58e1",
   "metadata": {},
   "outputs": [
    {
     "name": "stdout",
     "output_type": "stream",
     "text": [
      "Enter a numberr to calculate its factorial : 5\n",
      "120\n"
     ]
    }
   ],
   "source": [
    "#Write a function factorial of a given number\n",
    "num = int(input(\"Enter a numberr to calculate its factorial : \"))\n",
    "def fact (n):\n",
    "    factorial = 1\n",
    "    for i in range(1, n+1):\n",
    "        factorial *= i\n",
    "    return factorial\n",
    "print(fact(num))\n"
   ]
  },
  {
   "cell_type": "code",
   "execution_count": 53,
   "id": "d82ee794",
   "metadata": {},
   "outputs": [
    {
     "name": "stdout",
     "output_type": "stream",
     "text": [
      "Enter an activation_function name'sigmoid, binary step, relu, leaky rely, or tanh':tanh\n",
      "Enter a value to calculates the output of activation function for the given value:3\n",
      "0.9950547536867305\n"
     ]
    }
   ],
   "source": [
    "#Write a function that takes two arguments: activation_function name and value that returns the output of specific activation_function. \n",
    "#Implement for sigmoid, binary step function, relu, leaky rely, tanh.\n",
    "#Eg : activation_function('sigmoid',0) should return 0.5\n",
    "\n",
    "import math\n",
    "activation_function = input(\"Enter an activation_function name'sigmoid, binary step, relu, leaky rely, or tanh':\")\n",
    "value = int(input(\"Enter a value to calculates the output of activation function for the given value:\"))\n",
    "if activation_function == \"sigmoid\":\n",
    "    #f(x) = 1 / (1 + e^-x)\n",
    "    def sig_func(x):\n",
    "        return 1 / (1 + math.exp(-x))\n",
    "    print(sig_func(value))\n",
    "elif activation_function == \"binary step\":\n",
    "    def binary_step(x):\n",
    "        Threshold=0.5\n",
    "        if x >= Threshold:\n",
    "            return 1.0\n",
    "        else:\n",
    "            return 0.0   \n",
    "    print( binary_step(value))\n",
    "elif activation_function == \"relu\":\n",
    "    def relu(x):\n",
    "        return max(0,x)\n",
    "    print(relu(value))\n",
    "elif activation_function == \"leaky rely\":\n",
    "    def leaky_rely(x):\n",
    "        return max(0.00001,x)\n",
    "    print(leaky_rely(value))\n",
    "elif activation_function == \"tanh\":\n",
    "    def tanh(x):\n",
    "        if x < 0:\n",
    "            return -tanh(-x)\n",
    "        if x > 1:\n",
    "            return 1.0 - 2.0 / (math.exp(2.0 * x) + 1.0)\n",
    "        return (math.exp(2.0 * x) - 1.0) / (math.exp(2.0 * x) + 1.0)\n",
    "    print(tanh(value))"
   ]
  },
  {
   "cell_type": "code",
   "execution_count": 10,
   "id": "a05b4115",
   "metadata": {},
   "outputs": [
    {
     "name": "stdout",
     "output_type": "stream",
     "text": [
      "Enter 'n' to show the number of all the objects to calculate permutation: 4\n",
      "Enter 'r' to show the number of selected objects to calculate permutation:2\n",
      "12.0\n"
     ]
    }
   ],
   "source": [
    "#Write a function that returns permutation. \n",
    "#Permutation is the number of ways to arrange 'r' objects form a set of 'n' objects where order matters and the formula is\n",
    "#P(n, r) = n! / (n - r)!. Use the factorial function from above exercise.\n",
    "import math\n",
    "n = int(input(\"Enter 'n' to show the number of all the objects to calculate permutation: \"))\n",
    "r = int(input(\"Enter 'r' to show the number of selected objects to calculate permutation:\"))\n",
    "\n",
    "def fact (x):\n",
    "    factorial = 1\n",
    "    for i in range(1, x+1):\n",
    "        factorial *= i\n",
    "    return factorial\n",
    "\n",
    "def permutation(n,r):\n",
    "    return fact(n)/fact(n-r)\n",
    "print(permutation(n,r))\n",
    "   "
   ]
  },
  {
   "cell_type": "code",
   "execution_count": null,
   "id": "04c5ff04",
   "metadata": {},
   "outputs": [],
   "source": [
    "#Write a function that takes three arguments. \n",
    "#First arguments should determine whether to return permutation or combination or both. \n",
    "#Make the first argument optional and default is both if nothing is passed while calling the function.\n",
    "#The second argument is n, which is optional and default is 10. \n",
    "#Finally the third argument is r, which is also optional and default is 5.\n",
    "\n",
    "from math import factorial\n",
    "\n",
    "def perm_comb_options(option='both', n=10, r=5):\n",
    "    if option == 'permutation':\n",
    "        result = factorial(n) / factorial(n - r)\n",
    "    elif option == 'combination':\n",
    "        result = factorial(n) / (factorial(r) * factorial(n - r))\n",
    "    else:\n",
    "        result = {\n",
    "            'permutation': factorial(n) / factorial(n - r),\n",
    "            'combination': factorial(n) / (factorial(r) * factorial(n - r))\n",
    "        }\n",
    "    return result"
   ]
  },
  {
   "cell_type": "code",
   "execution_count": 11,
   "id": "0df5f76e",
   "metadata": {},
   "outputs": [
    {
     "name": "stdout",
     "output_type": "stream",
     "text": [
      "Positional arguments:\n",
      "1\n",
      "2\n",
      "3\n",
      "Keyword arguments:\n",
      "name: Afrouz\n",
      "age: 43\n"
     ]
    }
   ],
   "source": [
    "#Implement a function that takes any number of positional and keyword arguments.\n",
    "def my_function(*args, **kwargs):\n",
    "    print(\"Positional arguments:\")\n",
    "    for arg in args:\n",
    "        print(arg)\n",
    "    print(\"Keyword arguments:\")\n",
    "    for key, value in kwargs.items():\n",
    "        print(f\"{key}: {value}\")\n",
    "my_function(1, 2, 3, name=\"Afrouz\", age=43)"
   ]
  },
  {
   "cell_type": "code",
   "execution_count": 12,
   "id": "8c9eb352",
   "metadata": {},
   "outputs": [
    {
     "name": "stdout",
     "output_type": "stream",
     "text": [
      "when a variable is referenced in a program, Python searches for its value in the following order: local, enclosing, global, and built-in.\n"
     ]
    }
   ],
   "source": [
    "#Understand scope of variables: LEGB Rule \n",
    "#1. Local to the function eg. variable defined in the function \n",
    "#2. Enclosing or nonlocal eg. variables defined in enclosing function in nested function \n",
    "#3. Global eg. variables defined within main program or module \n",
    "#4. Built-in eg. Python keywords\n",
    "\n",
    "print(\"when a variable is referenced in a program, Python searches for its value in the following order: local, enclosing, global, and built-in.\")"
   ]
  },
  {
   "cell_type": "code",
   "execution_count": null,
   "id": "6fad9c44",
   "metadata": {},
   "outputs": [],
   "source": []
  }
 ],
 "metadata": {
  "kernelspec": {
   "display_name": "Python 3 (ipykernel)",
   "language": "python",
   "name": "python3"
  },
  "language_info": {
   "codemirror_mode": {
    "name": "ipython",
    "version": 3
   },
   "file_extension": ".py",
   "mimetype": "text/x-python",
   "name": "python",
   "nbconvert_exporter": "python",
   "pygments_lexer": "ipython3",
   "version": "3.10.7"
  }
 },
 "nbformat": 4,
 "nbformat_minor": 5
}
