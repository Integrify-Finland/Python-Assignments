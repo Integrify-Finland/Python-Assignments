{
 "cells": [
  {
   "cell_type": "markdown",
   "id": "2dcb2019",
   "metadata": {},
   "source": [
    "<div style = \"text-align: left\"><font size = 8 color = \"#B22222\" face = \"verdana\"><b>Integrify</b></font></div>\n",
    "<div style = \"text-align: left\"><font size = 5 color = \"#00008B\" face = \"verdana\"><b>Flow control, loops, function Assignment2</b></font></div>\n",
    "<div style = \"text-align: leftt\"><font><i>By Jeremiah Aremu</i></font></div>\n",
    "<div style = \"text-align: leftt\"><font>16th March 2023</font></div>\n",
    "\n"
   ]
  },
  {
   "cell_type": "code",
   "execution_count": 1,
   "id": "eb31f8cf",
   "metadata": {},
   "outputs": [
    {
     "data": {
      "text/html": [
       "<style>.container { width:100% !important; }</style>"
      ],
      "text/plain": [
       "<IPython.core.display.HTML object>"
      ]
     },
     "metadata": {},
     "output_type": "display_data"
    }
   ],
   "source": [
    "#Code space custom format \n",
    "import warnings\n",
    "import pandas as pd\n",
    "warnings.simplefilter(action='ignore', category=RuntimeWarning)\n",
    "warnings.simplefilter(action='ignore', category=FutureWarning)\n",
    "warnings.simplefilter(action='ignore', category=UserWarning)\n",
    "warnings.simplefilter(action='ignore', category=DeprecationWarning)\n",
    "pd.set_option(\"display.max_columns\", None)\n",
    "pd.set_option(\"display.max_rows\", None)\n",
    "pd.options.display.max_colwidth = None\n",
    "pd.set_option(\"display.float_format\", lambda x: '%.2f' % x)\n",
    "from IPython.display import display, HTML\n",
    "display(HTML(\"<style>.container { width:100% !important; }</style>\"))"
   ]
  },
  {
   "cell_type": "markdown",
   "id": "789257cc",
   "metadata": {},
   "source": [
    "#### import libraries"
   ]
  },
  {
   "cell_type": "code",
   "execution_count": 2,
   "id": "e330f2f1",
   "metadata": {},
   "outputs": [],
   "source": [
    "import math\n",
    "import numpy as np"
   ]
  },
  {
   "cell_type": "markdown",
   "id": "347355e7",
   "metadata": {},
   "source": [
    "#### 1. Conditionals"
   ]
  },
  {
   "cell_type": "markdown",
   "id": "d781a61d",
   "metadata": {},
   "source": [
    "#### a. \n",
    "Get the radius value as input and calculate the area of the circle. If the input is numeric,\n",
    "display the result otherwise display any other message."
   ]
  },
  {
   "cell_type": "code",
   "execution_count": 3,
   "id": "cefed2ca",
   "metadata": {},
   "outputs": [
    {
     "name": "stdout",
     "output_type": "stream",
     "text": [
      "radius: 5\n",
      "The area of the circle is. 78.54\n"
     ]
    }
   ],
   "source": [
    "# input the value of radius\n",
    "radius = input(\"radius: \")\n",
    "if radius.isnumeric():\n",
    "    \n",
    "    # compute the area of a circle\n",
    "    Area = math.pi*(float(radius)**2)\n",
    "    print(f\"The area of the circle is. {Area:.2f}\")\n",
    "else:\n",
    "    print(\" Error!, please enter a numeric input\")"
   ]
  },
  {
   "cell_type": "markdown",
   "id": "496ce6c2",
   "metadata": {},
   "source": [
    "#### b.\n",
    "If the user enters numeric vlaue then ask user for either perimeter or area calculation and display accordingly"
   ]
  },
  {
   "cell_type": "code",
   "execution_count": 15,
   "id": "aedbb424",
   "metadata": {},
   "outputs": [
    {
     "name": "stdout",
     "output_type": "stream",
     "text": [
      "radius_2: 4\n",
      "do you wish to compute 'area' or 'perimeter': perimeter\n",
      "The circumference of the circle is 25.13 \n"
     ]
    }
   ],
   "source": [
    "# assume that that a circle is being considered in this case \n",
    "# also assume circumference is the same as perimeter\n",
    "\n",
    "radius_2 = input(\"radius_2: \")\n",
    "if radius_2.isnumeric():\n",
    "    next_input = input(\"do you wish to compute 'area' or 'perimeter': \").lower()\n",
    "    \n",
    "    if next_input == 'area':\n",
    "        print(f\"The area of the circle is {math.pi *(float(radius_2))**2 :.2f} \")\n",
    "        \n",
    "    elif next_input == 'perimeter':\n",
    "        print(f\"The circumference of the circle is {2*math.pi*float(radius_2) :.2f} \")\n",
    "    "
   ]
  },
  {
   "cell_type": "markdown",
   "id": "86cbbcbb",
   "metadata": {},
   "source": [
    "#### c.\n",
    "students_profile=\n",
    "{'Duy': ['Python', 'Database', 'ML'], 'Laxmi': ['Python', 'Database', 'ML'],\n",
    "\n",
    "'Antonio': ['Python', 'Database', 'ML'],'Maria': ['Python', 'Database', 'ML']}\n",
    "\n",
    "Check if there is a student named 'Maria' in students_profile dictionary. If exists remove 'ML' from her course\n",
    "\n",
    "Take the input from the user as a substring. If that substring is present in string then display substring is present otherwise substring is not present\n",
    "\n",
    "Distance Metrics are important to calculate the similarity between the vectors. They are used in both supervised and unsupervised machine learning problems. Given the points (1,2,3) and (4,5,6), write a python conditional statement to print the distance for the order 1,2,3,4. If the order is 1 then it is L1 norm(Manhattan distance), order 2 is L2 norm(Euclidean distance) and the generalized distance is given by Minkowski equation.\n"
   ]
  },
  {
   "cell_type": "code",
   "execution_count": 5,
   "id": "815bd000",
   "metadata": {},
   "outputs": [],
   "source": [
    "students_profile= {'Duy': ['Python', 'Database', 'ML'], \n",
    "                   'Laxmi': ['Python', 'Database', 'ML'],\n",
    "                  'Antonio': ['Python', 'Database', 'ML'],\n",
    "                   'Maria': ['Python', 'Database', 'ML']}"
   ]
  },
  {
   "cell_type": "code",
   "execution_count": 9,
   "id": "2cd2a066",
   "metadata": {},
   "outputs": [
    {
     "name": "stdout",
     "output_type": "stream",
     "text": [
      "{'Duy': ['Python', 'Database', 'ML'], 'Laxmi': ['Python', 'Database', 'ML'], 'Antonio': ['Python', 'Database', 'ML'], 'Maria': ['Python', 'Database']}\n"
     ]
    }
   ],
   "source": [
    "if \"Maria\" in students_profile:\n",
    "    students_profile['Maria'].remove('ML')\n",
    "print(students_profile)"
   ]
  },
  {
   "cell_type": "markdown",
   "id": "0ea0e4ba",
   "metadata": {},
   "source": [
    "#### 2 a.\n",
    "Take the input from the user as a substring. If that substring is present in string then display substring is present otherwise substring is not present\n"
   ]
  },
  {
   "cell_type": "code",
   "execution_count": 18,
   "id": "d0cadf92",
   "metadata": {},
   "outputs": [
    {
     "name": "stdout",
     "output_type": "stream",
     "text": [
      "Enter a string: ink\n",
      "Substring is present in the string.\n"
     ]
    }
   ],
   "source": [
    "main_string = \"drink\"\n",
    "string = input(\"Enter a string: \")\n",
    "\n",
    "if string in main_string:\n",
    "    print(\"Substring is present in the string.\")\n",
    "else:\n",
    "    print(\"Substring is not present in the string.\")"
   ]
  },
  {
   "cell_type": "markdown",
   "id": "c450744b",
   "metadata": {},
   "source": [
    "#### 2 b.\n",
    "Distance Metrics are important to calculate the similarity between the vectors. They are used in both supervised and unsupervised machine learning problems. Given the points (1,2,3) and (4,5,6), write a python conditional statement to print the distance for the order 1,2,3,4. If the order is 1 then it is L1 norm(Manhattan distance), order 2 is L2 norm(Euclidean distance) and the generalized distance is given by Minkowski equation."
   ]
  },
  {
   "cell_type": "code",
   "execution_count": 37,
   "id": "9c0443db",
   "metadata": {},
   "outputs": [
    {
     "name": "stdout",
     "output_type": "stream",
     "text": [
      "Enter the order (1 for L1, 2 for L2, 3 for LMinkowski): 3\n",
      "The distance between the points is: 9\n"
     ]
    }
   ],
   "source": [
    "import math\n",
    "\n",
    "# Define the points\n",
    "point1 = (1,2,3)\n",
    "point2 = (4,5,6)\n",
    "\n",
    "# Define the order\n",
    "order = int(input(\"Enter the order (1 for L1, 2 for L2, 3 for LMinkowski): \"))\n",
    "order = 1\n",
    "\n",
    "# Calculate the distance based on the order\n",
    "if order == 1:\n",
    "    # Manhattan distance evaluation\n",
    "    distance = sum([abs(point1[i] - point2[i]) for i in range(len(point1))])\n",
    "    \n",
    "elif order == 2:\n",
    "    # euclidean distance evaluation\n",
    "    distance = math.sqrt(sum([(point1[i] - point2[i])**2 for i in range(len(point1))]))\n",
    "    \n",
    "elif order == 3:\n",
    "    # Minkowski equation\n",
    "    distance = sum([(abs(point1[i] - point2[i]))**order for i in range(len(point1))])**(1/order)\n",
    "\n",
    "# Print the distance\n",
    "print(\"The distance between the points is:\", distance)\n"
   ]
  },
  {
   "cell_type": "markdown",
   "id": "2a3fcefe",
   "metadata": {},
   "source": [
    "Distance Metrics are important to calculate the similarity between the vectors. They are used in both supervised and unsupervised machine learning problems. Given the points (1,2,3) and (4,5,6), write a python conditional statement to print the distance for the order 1,2,3,4. If the order is 1 then it is L1 norm(Manhattan distance), order 2 is L2 norm(Euclidean distance) and the generalized distance is given by Minkowski equation."
   ]
  },
  {
   "cell_type": "markdown",
   "id": "258c4d9c",
   "metadata": {},
   "source": [
    "#### 3. Loop\n",
    "3a. Write the multiplication table for number 5 using for loop and while loop"
   ]
  },
  {
   "cell_type": "code",
   "execution_count": 38,
   "id": "30d75893",
   "metadata": {},
   "outputs": [
    {
     "name": "stdout",
     "output_type": "stream",
     "text": [
      "5 x 1 = 5\n",
      "5 x 2 = 10\n",
      "5 x 3 = 15\n",
      "5 x 4 = 20\n",
      "5 x 5 = 25\n",
      "5 x 6 = 30\n",
      "5 x 7 = 35\n",
      "5 x 8 = 40\n",
      "5 x 9 = 45\n",
      "5 x 10 = 50\n",
      "5 x 11 = 55\n",
      "5 x 12 = 60\n",
      "CPU times: total: 0 ns\n",
      "Wall time: 1.18 ms\n"
     ]
    }
   ],
   "source": [
    "%%time\n",
    "# using for loop\n",
    "num = 5\n",
    "for i in range(1, 13):     \n",
    "    print(num, \"x\", i, \"=\", num*i)"
   ]
  },
  {
   "cell_type": "code",
   "execution_count": 21,
   "id": "5d6e165b",
   "metadata": {
    "scrolled": false
   },
   "outputs": [
    {
     "name": "stdout",
     "output_type": "stream",
     "text": [
      "5 x 1 = 5\n",
      "5 x 2 = 10\n",
      "5 x 3 = 15\n",
      "5 x 4 = 20\n",
      "5 x 5 = 25\n",
      "5 x 6 = 30\n",
      "5 x 7 = 35\n",
      "5 x 8 = 40\n",
      "5 x 9 = 45\n",
      "5 x 10 = 50\n",
      "5 x 11 = 55\n",
      "5 x 12 = 60\n",
      "CPU times: total: 0 ns\n",
      "Wall time: 992 µs\n"
     ]
    }
   ],
   "source": [
    "%%time\n",
    "#using while loop\n",
    "num = 5\n",
    "i=1\n",
    "while i <= 12: \n",
    "    print(num, \"x\", i, \"=\", num*i)\n",
    "    i+=1"
   ]
  },
  {
   "cell_type": "markdown",
   "id": "68747394",
   "metadata": {},
   "source": [
    "#### 4.\n",
    "DNA is coded using 4 nitrogen bases with the symbols A,T,G,C. Given the template string dna_template='AATCCGAAAATTCGGGAATTTTCGCGT' , generate the complementary dna template with the mapping\n",
    "\n",
    "mapper={\"T\":\"A\",\"A\":\"T\",\"G\":\"C\",\"C\":\"G\"}\n"
   ]
  },
  {
   "cell_type": "code",
   "execution_count": 63,
   "id": "5d162004",
   "metadata": {},
   "outputs": [
    {
     "name": "stdout",
     "output_type": "stream",
     "text": [
      "['T', 'T', 'A', 'G', 'G', 'C', 'T', 'T', 'T', 'T', 'A', 'A', 'G', 'C', 'C', 'C', 'T', 'T', 'A', 'A', 'A', 'A', 'G', 'C', 'G', 'C', 'A'] "
     ]
    }
   ],
   "source": [
    "dna_template = 'AATCCGAAAATTCGGGAATTTTCGCGT'\n",
    "\n",
    "#create a list from the dna string above \n",
    "dna_template_list = list(dna_template)\n",
    "\n",
    "# write a function that applies the mapper on the newly-\n",
    "# created list mapper={\"T\":\"A\",\"A\":\"T\",\"G\":\"C\",\"C\":\"G\"}\n",
    "def list_replacement(dna_template_list):\n",
    "    \"\"\"\n",
    "    this function generates a complementary dna template list from \n",
    "    an initial list by swapping items in the list after the mapping \n",
    "    function mapper={\"T\":\"A\",\"A\":\"T\",\"G\":\"C\",\"C\":\"G\"}\n",
    "    \"\"\"\n",
    "    new_list = []\n",
    "    for char in dna_template_list:\n",
    "        if char == \"T\":\n",
    "            new_list.append(\"A\")\n",
    "        elif char == \"A\":\n",
    "            new_list.append(\"T\")\n",
    "        elif char == \"G\":\n",
    "            new_list.append(\"C\")\n",
    "        elif char == \"C\":\n",
    "            new_list.append(\"G\")\n",
    "\n",
    "    return(new_list)\n",
    "\n",
    "\n",
    "final_list = list_replacement(dna_template_list, )\n",
    "print(final_list, end = ' ')"
   ]
  },
  {
   "cell_type": "markdown",
   "id": "5be55b98",
   "metadata": {},
   "source": [
    "#### 4b\n",
    "Generate the list f_series=x=[0,1,1,2,3,5,8,13,21,34,55,89,144]. \n",
    "Looks Familiar? This is Fibonacci series where x[0]=0,x[1]=1, and x[n]=x[n-1]+x[n-2] for n>1"
   ]
  },
  {
   "cell_type": "code",
   "execution_count": 64,
   "id": "88e33b02",
   "metadata": {},
   "outputs": [
    {
     "name": "stdout",
     "output_type": "stream",
     "text": [
      "[0, 1, 1, 2, 3, 5, 8, 13, 21, 34, 55, 89, 144]\n"
     ]
    }
   ],
   "source": [
    "# Initialize the first two numbers in the sequence\n",
    "x = [0, 1]\n",
    "\n",
    "# Generate the rest of the sequence\n",
    "for i in range(2, 13):\n",
    "    \n",
    "    # Calculate the next number by adding the two previous numbers\n",
    "    next_num = x[i-1] + x[i-2]\n",
    "    \n",
    "    # Append the next number to the sequence\n",
    "    x.append(next_num)\n",
    "\n",
    "# Print the sequence\n",
    "print(x)"
   ]
  },
  {
   "cell_type": "code",
   "execution_count": null,
   "id": "a7381d69",
   "metadata": {},
   "outputs": [],
   "source": []
  },
  {
   "cell_type": "markdown",
   "id": "d11fece5",
   "metadata": {},
   "source": [
    "#### 5.\n",
    "Generate a list of n numbers of prime numbers"
   ]
  },
  {
   "cell_type": "code",
   "execution_count": 39,
   "id": "7f62c3d7",
   "metadata": {},
   "outputs": [
    {
     "name": "stdout",
     "output_type": "stream",
     "text": [
      "[1, 3, 5, 7, 9, 11, 13, 15, 17, 19]\n"
     ]
    }
   ],
   "source": [
    "# generate a list of prime numbers between 1 and 20\n",
    "prime_list =[]\n",
    "for i in range(1, 20+1, 2):\n",
    "    prime_list.append(i)\n",
    "print(prime_list)   "
   ]
  },
  {
   "cell_type": "markdown",
   "id": "a9ba5c51",
   "metadata": {},
   "source": [
    "#### 6."
   ]
  },
  {
   "cell_type": "markdown",
   "id": "e22d44b4",
   "metadata": {},
   "source": [
    "Perform the minmax normalization to the range [0,1] for the data1 and minmax normalization to the range [-1,1] for the data2\n",
    "data1=[1,17,12,15,30,60,48,51,89,92,54,8], use\n",
    "\n",
    "X_scaled = (X - X_min) / (X_max - X_min)\n",
    "\n",
    "data2=[-13,2,-1,7,22,-32,5,15,-9,13,3,-2], use\n",
    "\n",
    "X_scaled = 2 * (X - X_min) / (X_max - X_min) - 1\n",
    "\n",
    "The general formula for scaling in the range [a,b] is\n",
    "\n",
    "X_scaled = (b-a) * (X - X_min) / (X_max - X_min) + a"
   ]
  },
  {
   "cell_type": "code",
   "execution_count": 43,
   "id": "000606e1",
   "metadata": {},
   "outputs": [],
   "source": [
    "data1=[1,17,12,15,30,60,48,51,89,92,54,8]\n",
    "data2=[-13,2,-1,7,22,-32,5,15,-9,13,3,-2]"
   ]
  },
  {
   "cell_type": "markdown",
   "id": "7d520d0d",
   "metadata": {},
   "source": [
    "#### 6a"
   ]
  },
  {
   "cell_type": "code",
   "execution_count": 44,
   "id": "73bbcb25",
   "metadata": {},
   "outputs": [
    {
     "name": "stdout",
     "output_type": "stream",
     "text": [
      "[0.0, 0.17582417582417584, 0.12087912087912088, 0.15384615384615385, 0.31868131868131866, 0.6483516483516484, 0.5164835164835165, 0.5494505494505495, 0.967032967032967, 1.0, 0.5824175824175825, 0.07692307692307693]\n"
     ]
    }
   ],
   "source": [
    "# minmax normalization to the range [0,1] for the data1\n",
    "Xmin = min(data1)\n",
    "Xmax = max(data1)\n",
    "\n",
    "for x in data1:\n",
    "    normalized_x = (x-Xmin)/(Xmax-Xmin)\n",
    "\n",
    "normalized_data1 = [(x-Xmin)/(Xmax-Xmin) for x in data1]\n",
    "print(normalized_data1)"
   ]
  },
  {
   "cell_type": "markdown",
   "id": "850eb80e",
   "metadata": {},
   "source": [
    "#### 6b"
   ]
  },
  {
   "cell_type": "code",
   "execution_count": 48,
   "id": "a290f23b",
   "metadata": {},
   "outputs": [
    {
     "name": "stdout",
     "output_type": "stream",
     "text": [
      "[0.4814814814814814, 0.4814814814814814, 0.4814814814814814, 0.4814814814814814, 0.4814814814814814, 0.4814814814814814, 0.4814814814814814, 0.4814814814814814, 0.4814814814814814, 0.4814814814814814, 0.4814814814814814, 0.4814814814814814]\n"
     ]
    }
   ],
   "source": [
    "# minmax normalization to the range [-1,1] for the data2\n",
    "Xmin = min(data2)\n",
    "Xmax = max(data2)\n",
    "\n",
    "normalized_x = (x-Xmin)/(Xmax-Xmin) *2-1\n",
    "\n",
    "normalized_data2 = [normalized_x for x in data2]\n",
    "print(normalized_data2)"
   ]
  },
  {
   "cell_type": "markdown",
   "id": "0eb2360c",
   "metadata": {},
   "source": [
    "#### 7\n",
    "Understand how sorting algorithms work(bubble,selection,insertion). Implement them of your own. Also compare time complexities"
   ]
  },
  {
   "cell_type": "markdown",
   "id": "84583b5d",
   "metadata": {},
   "source": [
    "#### 7a. Sorting algorithm - Bubble method"
   ]
  },
  {
   "cell_type": "code",
   "execution_count": 50,
   "id": "49f44fb8",
   "metadata": {},
   "outputs": [
    {
     "name": "stdout",
     "output_type": "stream",
     "text": [
      "Sorted array is:\n",
      " 11  12  22  25  34  64  90 "
     ]
    }
   ],
   "source": [
    "# array for testing the sorting algorithm\n",
    "arr = [64, 34, 25, 12, 22, 11, 90]\n",
    "\n",
    "def bubbleSort(arr):\n",
    "    \"\"\"\n",
    "    this function sorts the item in a list using bubble method\n",
    "    \"\"\"\n",
    "    n = len(arr)\n",
    "    # optimize code, so if the array is already sorted, it doesn't need\n",
    "    # to go through the entire process\n",
    "    swapped = False\n",
    "    # Traverse through all array elements\n",
    "    for i in range(n-1):\n",
    "        # range(n) also work but outer loop will\n",
    "        # repeat one time more than needed.\n",
    "        # Last i elements are already in place\n",
    "        for j in range(0, n-i-1):\n",
    " \n",
    "            # traverse the array from 0 to n-i-1\n",
    "            # Swap if the element found is greater\n",
    "            # than the next element\n",
    "            if arr[j] > arr[j + 1]:\n",
    "                swapped = True\n",
    "                arr[j], arr[j + 1] = arr[j + 1], arr[j]\n",
    "         \n",
    "        if not swapped:\n",
    "            # if we haven't needed to make a single swap, we\n",
    "            # can just exit the main loop.\n",
    "            return\n",
    " \n",
    " \n",
    "\n",
    " \n",
    "bubbleSort(arr)\n",
    " \n",
    "print(\"Sorted array is:\")\n",
    "for i in range(len(arr)):\n",
    "    print(\"% d\" % arr[i], end=\" \")"
   ]
  },
  {
   "cell_type": "markdown",
   "id": "73fca483",
   "metadata": {},
   "source": [
    "#### 7b. Sort algorithm - Selection Method"
   ]
  },
  {
   "cell_type": "code",
   "execution_count": 57,
   "id": "c6bb6137",
   "metadata": {},
   "outputs": [
    {
     "name": "stdout",
     "output_type": "stream",
     "text": [
      "[1, 3, 5, 7, 15]\n"
     ]
    }
   ],
   "source": [
    "# Function to do insertion sort\n",
    "arr_2 = [5, 1, 7, 3,15]\n",
    "\n",
    "def insertionSort(arr_2):\n",
    "    \"\"\"\n",
    "    this function sorts the item in a list using selection method\n",
    "    \"\"\"\n",
    "    \n",
    "     \n",
    "    if (n := len(arr_2)) <= 1:\n",
    "      return\n",
    "    for i in range(1, n):\n",
    "         \n",
    "        key = arr_2[i]\n",
    " \n",
    "        # Move elements of arr[0..i-1], that are\n",
    "        # greater than key, to one position ahead\n",
    "        # of their current position\n",
    "        j = i-1\n",
    "        while j >=0 and key < arr_2[j] :\n",
    "                arr_2[j+1] = arr_2[j]\n",
    "                j -= 1\n",
    "        arr_2[j+1] = key\n",
    " \n",
    " \n",
    "insertionSort(arr_2)\n",
    "print(arr_2)"
   ]
  },
  {
   "cell_type": "markdown",
   "id": "4fb1737b",
   "metadata": {},
   "source": [
    "#### 7c. Sort algorithm - Insertion Method"
   ]
  },
  {
   "cell_type": "code",
   "execution_count": 62,
   "id": "c8232112",
   "metadata": {},
   "outputs": [
    {
     "name": "stdout",
     "output_type": "stream",
     "text": [
      " 5  6  11  12  13 "
     ]
    }
   ],
   "source": [
    "# Driver code to test above\n",
    "arr_3 = [12, 11, 13, 5, 6]\n",
    "\n",
    "# Function to do insertion sort\n",
    "def insertionSort(arr_3):\n",
    "    \"\"\"\n",
    "    this function sorts the item in a list using insertion method\n",
    "    \"\"\"\n",
    " \n",
    "    # Traverse through 1 to len(arr)\n",
    "    for i in range(1, len(arr_3)):\n",
    " \n",
    "        key = arr_3[i]\n",
    " \n",
    "        # Move elements of arr[0..i-1], that are\n",
    "        # greater than key, to one position ahead\n",
    "        # of their current position\n",
    "        j = i-1\n",
    "        while j >= 0 and key < arr_3[j] :\n",
    "                arr_3[j + 1] = arr_3[j]\n",
    "                j -= 1\n",
    "        arr_3[j + 1] = key\n",
    "        \n",
    "insertionSort(arr_3)\n",
    "for i in range(len(arr_3)):\n",
    "    print(\"% d\" % arr_3[i], end = \" \")\n",
    "\n"
   ]
  },
  {
   "cell_type": "code",
   "execution_count": null,
   "id": "f13c7caf",
   "metadata": {},
   "outputs": [],
   "source": []
  },
  {
   "cell_type": "markdown",
   "id": "26421504",
   "metadata": {},
   "source": [
    "#### 8. Write a function to compute the factorial of a given number"
   ]
  },
  {
   "cell_type": "code",
   "execution_count": 36,
   "id": "203182cc",
   "metadata": {},
   "outputs": [],
   "source": [
    "\n",
    "def factorial_of_any_number(n):\n",
    "    \"\"\"\n",
    "    this function computes the factorial of any given number 'n'\n",
    "\n",
    "    \"\"\"\n",
    "    # since the factorial of 0 is 1\n",
    "    if n < 0:\n",
    "        print(\"Please specify a positive number as the factorial of -ve number is not possible\")\n",
    "\n",
    "    if n == 0:\n",
    "        return 1\n",
    "\n",
    "    else:\n",
    "        result = 1 \n",
    "        for i in range(1,n+1):\n",
    "            result *=i\n",
    "        return result"
   ]
  },
  {
   "cell_type": "code",
   "execution_count": 5,
   "id": "9b54238b",
   "metadata": {},
   "outputs": [
    {
     "data": {
      "text/plain": [
       "0.5"
      ]
     },
     "execution_count": 5,
     "metadata": {},
     "output_type": "execute_result"
    }
   ],
   "source": [
    "activation_function_output('sigmoid', 0)"
   ]
  },
  {
   "cell_type": "code",
   "execution_count": 6,
   "id": "e5ec9dd3",
   "metadata": {},
   "outputs": [
    {
     "data": {
      "text/plain": [
       "-0.2"
      ]
     },
     "execution_count": 6,
     "metadata": {},
     "output_type": "execute_result"
    }
   ],
   "source": [
    "activation_function_output('leaky relu', -2)"
   ]
  },
  {
   "cell_type": "markdown",
   "id": "c2511545",
   "metadata": {},
   "source": [
    "#### 9.\n",
    "write a function that returns permutation. Permutation is the number of ways to arrange 'r' objects from a set of 'n' objects where order matters and  the formular is p(n,r) = n!/(n-1)!"
   ]
  },
  {
   "cell_type": "code",
   "execution_count": 41,
   "id": "c2b39685",
   "metadata": {},
   "outputs": [],
   "source": [
    "def permutation(n,r):\n",
    "    \"\"\"Returns the number of permutations of 'r' objects taken from a set of \n",
    "    'n' objects where the order of arrangement matters\n",
    "    \"\"\"\n",
    "    if r >n:\n",
    "        return 0\n",
    "    else: \n",
    "        #please not that the 'factorial_of_any_number(n)' is from the factorial functio above\n",
    "        numerator_factorial = factorial_of_any_number(n)\n",
    "        denominator_factorial = factorial_of_any_number((n-r))\n",
    "        permut = numerator_factorial/denominator_factorial\n",
    "\n",
    "        return permut\n",
    "\n",
    "       \n",
    "\n",
    "\n"
   ]
  },
  {
   "cell_type": "code",
   "execution_count": 42,
   "id": "2fa1b80b",
   "metadata": {},
   "outputs": [
    {
     "data": {
      "text/plain": [
       "840.0"
      ]
     },
     "execution_count": 42,
     "metadata": {},
     "output_type": "execute_result"
    }
   ],
   "source": [
    "permutation(7,4)"
   ]
  },
  {
   "cell_type": "markdown",
   "id": "ab5047a7",
   "metadata": {},
   "source": [
    "#### 10.\n",
    "Write a function that takes 3 arguements. First arguements  should determine whether to return permuatation or combination or both\n",
    "make the arguement optional and default in both if nothing is passed while calling the function. The second arguement is n which is optional and default is 10\n",
    "Finally, the third arguement is r, which is also optional and default is 5"
   ]
  },
  {
   "cell_type": "code",
   "execution_count": null,
   "id": "18d24735",
   "metadata": {},
   "outputs": [],
   "source": [
    "def special_perm_and_comb_function(a=None, n=None, r=None):\n",
    "\n",
    "    \"\"\"\n",
    "    function that takes 3 arguements. First arguements  should determine whether to \n",
    "    return permuatation or combination or bothmake the arguement optional and default in both \n",
    "    if nothing is passed while calling the function. The second arguement is n which is optional \n",
    "    and default is 10. Finally,the third arguement is r, which is also optional and default is 5\n",
    "\n",
    "    \"\"\"\n",
    "    if a is None:\n",
    "        return both \n",
    "    elif a == 1:\n",
    "        return permutation\n",
    "    elif a==0:\n",
    "        return combination\n",
    "\n",
    "    \n",
    "    if n is None:\n"
   ]
  },
  {
   "cell_type": "markdown",
   "id": "64ac16e5",
   "metadata": {},
   "source": [
    "#### 11.\n",
    "Implement a function that takes any number of positional keyword arguements.\n"
   ]
  },
  {
   "cell_type": "code",
   "execution_count": 43,
   "id": "ebc15b9c",
   "metadata": {},
   "outputs": [],
   "source": [
    "def my_func(*args, **kwargs):\n",
    "    \"\"\"\n",
    "    A function that takes any number of positional and keyword arguments.\n",
    "    \"\"\"\n",
    "    print(\"Positional arguments:\")\n",
    "    for arg in args:\n",
    "        print(arg)\n",
    "    \n",
    "    print(\"Keyword arguments:\")\n",
    "    for key, value in kwargs.items():\n",
    "        print(f\"{key} = {value}\")"
   ]
  },
  {
   "cell_type": "code",
   "execution_count": 45,
   "id": "6199cc92",
   "metadata": {},
   "outputs": [
    {
     "name": "stdout",
     "output_type": "stream",
     "text": [
      "Positional arguments:\n",
      "1\n",
      "2\n",
      "3\n",
      "Keyword arguments:\n",
      "name = John\n",
      "age = 30\n",
      "city = New york\n"
     ]
    }
   ],
   "source": [
    "my_func(1,2,3, name= \"John\", age =30, city = \"New york\")"
   ]
  },
  {
   "cell_type": "markdown",
   "id": "016bc0f8",
   "metadata": {},
   "source": [
    "#### 12.\n",
    "Write a function that takes two arguments: activation_function name and value that returns the output of specific activation_function. Implement for sigmoid, binary step function, relu, leaky rely, tanh."
   ]
  },
  {
   "cell_type": "code",
   "execution_count": 4,
   "id": "a3ee6b66",
   "metadata": {},
   "outputs": [],
   "source": [
    "import math\n",
    "\n",
    "def activation_function_output(activation_function, value):\n",
    "    \"\"\"\n",
    "    this function takes two arguments one is the activation function to be activated \n",
    "    and the second arguement is the value and then return an output of the specified \n",
    "    activation function\n",
    "    \"\"\"\n",
    "    \n",
    "    if activation_function == 'sigmoid':\n",
    "      return 1/(1+math.exp(-value))\n",
    "    \n",
    "    elif activation_function == 'binary_step':\n",
    "       return 1 if value >= 0 else 0\n",
    "    \n",
    "    elif activation_function == 'relu':\n",
    "       return max (0, value)\n",
    "    \n",
    "    elif activation_function =='leaky relu':\n",
    "       return max(0.1*value, value)\n",
    "    \n",
    "    elif activation_function == 'tanh':\n",
    "       return math.tanh(value)\n",
    "    \n",
    "    else:\n",
    "       raise ValueError('Invalid activation function: '+ activation_function)"
   ]
  }
 ],
 "metadata": {
  "kernelspec": {
   "display_name": "Python 3 (ipykernel)",
   "language": "python",
   "name": "python3"
  },
  "language_info": {
   "codemirror_mode": {
    "name": "ipython",
    "version": 3
   },
   "file_extension": ".py",
   "mimetype": "text/x-python",
   "name": "python",
   "nbconvert_exporter": "python",
   "pygments_lexer": "ipython3",
   "version": "3.9.12"
  },
  "vscode": {
   "interpreter": {
    "hash": "31ddcfd78d4257f79b0bac3e14264d57e0c13ae149629d3d3b9c70fde3cd2520"
   }
  }
 },
 "nbformat": 4,
 "nbformat_minor": 5
}
