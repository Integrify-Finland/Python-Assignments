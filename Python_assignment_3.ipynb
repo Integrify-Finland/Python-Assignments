{
  "nbformat": 4,
  "nbformat_minor": 0,
  "metadata": {
    "colab": {
      "provenance": []
    },
    "kernelspec": {
      "name": "python3",
      "display_name": "Python 3"
    },
    "language_info": {
      "name": "python"
    }
  },
  "cells": [
    {
      "cell_type": "markdown",
      "source": [
        "Higher order functions Python:\n"
      ],
      "metadata": {
        "id": "BHcBd5sFUR6j"
      }
    },
    {
      "cell_type": "code",
      "execution_count": null,
      "metadata": {
        "colab": {
          "base_uri": "https://localhost:8080/"
        },
        "id": "3S7s40YR99mW",
        "outputId": "31c460d9-a436-415d-b595-8eda1b612e60"
      },
      "outputs": [
        {
          "output_type": "stream",
          "name": "stdout",
          "text": [
            "[1, 4, 9, 16, 25, 36, 49, 64, 81]\n",
            "[2, 4, 6, 8]\n",
            "384\n"
          ]
        }
      ],
      "source": [
        "from functools import reduce\n",
        "def square(x):\n",
        "  \"\"\" Return the square of a number.\"\"\"\n",
        "  return x**2\n",
        "def product(x,y):\n",
        "  \"\"\" Return the product of two numbers.\"\"\"\n",
        "  return x*y\n",
        "if __name__ =='__main__':\n",
        "  numbers = [1,2,3,4,5,6,7,8,9]\n",
        "#Using map functin to square each element of the list\n",
        "squares = list(map(square,numbers))\n",
        "print(squares)\n",
        "#Using filter() to remmove odd numbers from the list\n",
        "evens = list(filter(lambda x:x % 2 == 0,numbers))\n",
        "print(evens)\n",
        "#Using reduce() to find the product of all the even numbers in the list\n",
        "product = reduce(product,evens)\n",
        "print(product)\n",
        "\n"
      ]
    }
  ]
}