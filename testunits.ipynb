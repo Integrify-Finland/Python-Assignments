{
 "cells": [
  {
   "cell_type": "markdown",
   "id": "6988e602",
   "metadata": {},
   "source": [
    "## Assignment 6. Unit Test Python"
   ]
  },
  {
   "cell_type": "code",
   "execution_count": 2,
   "id": "17d78fd8",
   "metadata": {},
   "outputs": [],
   "source": [
    "import unittest"
   ]
  },
  {
   "cell_type": "code",
   "execution_count": 3,
   "id": "fd3386a7",
   "metadata": {},
   "outputs": [],
   "source": [
    "#The function to check whether a number is Prime\n",
    "def isPrime(n: int):\n",
    "    \"\"\"Function to check whether a number is prime or not\"\"\"\n",
    "    \"\"\"parmater : n : integer - the number to be checked prime or not\"\"\"\n",
    "    if n <= 1:\n",
    "        return False\n",
    "    for i in range(2, int(n ** 0.5) + 1):\n",
    "        if n  % i == 0:\n",
    "            return False\n",
    "    return True"
   ]
  },
  {
   "cell_type": "code",
   "execution_count": 4,
   "id": "f365ed78",
   "metadata": {},
   "outputs": [
    {
     "data": {
      "text/plain": [
       "False"
      ]
     },
     "execution_count": 4,
     "metadata": {},
     "output_type": "execute_result"
    }
   ],
   "source": [
    "isPrime(0)"
   ]
  },
  {
   "cell_type": "code",
   "execution_count": 5,
   "id": "c26eefb2",
   "metadata": {},
   "outputs": [
    {
     "data": {
      "text/plain": [
       "False"
      ]
     },
     "execution_count": 5,
     "metadata": {},
     "output_type": "execute_result"
    }
   ],
   "source": [
    "isPrime(8)"
   ]
  },
  {
   "cell_type": "code",
   "execution_count": 6,
   "id": "ab4be205",
   "metadata": {},
   "outputs": [
    {
     "data": {
      "text/plain": [
       "True"
      ]
     },
     "execution_count": 6,
     "metadata": {},
     "output_type": "execute_result"
    }
   ],
   "source": [
    "isPrime(13)"
   ]
  },
  {
   "cell_type": "code",
   "execution_count": 15,
   "id": "1e07989e",
   "metadata": {},
   "outputs": [
    {
     "name": "stderr",
     "output_type": "stream",
     "text": [
      "EEEEEEEEEEEEEEEEEEF.\n",
      "======================================================================\n",
      "ERROR: test_eight (__main__.TestIsPrime)\n",
      "----------------------------------------------------------------------\n",
      "Traceback (most recent call last):\n",
      "  File \"C:\\Users\\Manjusha\\AppData\\Local\\Temp\\ipykernel_2436\\2415944505.py\", line 31, in test_eight\n",
      "    self.assertTrue(isPrime(8))\n",
      "NameError: name 'isPrime' is not defined\n",
      "\n",
      "======================================================================\n",
      "ERROR: test_five (__main__.TestIsPrime)\n",
      "----------------------------------------------------------------------\n",
      "Traceback (most recent call last):\n",
      "  File \"C:\\Users\\Manjusha\\AppData\\Local\\Temp\\ipykernel_2436\\2415944505.py\", line 21, in test_five\n",
      "    self.assertTrue(isPrime(5))\n",
      "NameError: name 'isPrime' is not defined\n",
      "\n",
      "======================================================================\n",
      "ERROR: test_four (__main__.TestIsPrime)\n",
      "----------------------------------------------------------------------\n",
      "Traceback (most recent call last):\n",
      "  File \"C:\\Users\\Manjusha\\AppData\\Local\\Temp\\ipykernel_2436\\2415944505.py\", line 27, in test_four\n",
      "    self.assertTrue(isPrime(4))\n",
      "NameError: name 'isPrime' is not defined\n",
      "\n",
      "======================================================================\n",
      "ERROR: test_hundred (__main__.TestIsPrime)\n",
      "----------------------------------------------------------------------\n",
      "Traceback (most recent call last):\n",
      "  File \"C:\\Users\\Manjusha\\AppData\\Local\\Temp\\ipykernel_2436\\2415944505.py\", line 48, in test_hundred\n",
      "    self.assertTrue(isPrime(100))\n",
      "NameError: name 'isPrime' is not defined\n",
      "\n",
      "======================================================================\n",
      "ERROR: test_hundredfive (__main__.TestIsPrime)\n",
      "----------------------------------------------------------------------\n",
      "Traceback (most recent call last):\n",
      "  File \"C:\\Users\\Manjusha\\AppData\\Local\\Temp\\ipykernel_2436\\2415944505.py\", line 40, in test_hundredfive\n",
      "    self.assertTrue(isPrime(105))\n",
      "NameError: name 'isPrime' is not defined\n",
      "\n",
      "======================================================================\n",
      "ERROR: test_hundrednine (__main__.TestIsPrime)\n",
      "----------------------------------------------------------------------\n",
      "Traceback (most recent call last):\n",
      "  File \"C:\\Users\\Manjusha\\AppData\\Local\\Temp\\ipykernel_2436\\2415944505.py\", line 44, in test_hundrednine\n",
      "    self.assertTrue(isPrime(109))\n",
      "NameError: name 'isPrime' is not defined\n",
      "\n",
      "======================================================================\n",
      "ERROR: test_hundredseven (__main__.TestIsPrime)\n",
      "----------------------------------------------------------------------\n",
      "Traceback (most recent call last):\n",
      "  File \"C:\\Users\\Manjusha\\AppData\\Local\\Temp\\ipykernel_2436\\2415944505.py\", line 42, in test_hundredseven\n",
      "    self.assertTrue(isPrime(107))\n",
      "NameError: name 'isPrime' is not defined\n",
      "\n",
      "======================================================================\n",
      "ERROR: test_hundredthree (__main__.TestIsPrime)\n",
      "----------------------------------------------------------------------\n",
      "Traceback (most recent call last):\n",
      "  File \"C:\\Users\\Manjusha\\AppData\\Local\\Temp\\ipykernel_2436\\2415944505.py\", line 38, in test_hundredthree\n",
      "    self.assertTrue(isPrime(103))\n",
      "NameError: name 'isPrime' is not defined\n",
      "\n",
      "======================================================================\n",
      "ERROR: test_negative (__main__.TestIsPrime)\n",
      "----------------------------------------------------------------------\n",
      "Traceback (most recent call last):\n",
      "  File \"C:\\Users\\Manjusha\\AppData\\Local\\Temp\\ipykernel_2436\\2415944505.py\", line 7, in test_negative\n",
      "    self.assertTrue(isPrime(-5))\n",
      "NameError: name 'isPrime' is not defined\n",
      "\n",
      "======================================================================\n",
      "ERROR: test_nine (__main__.TestIsPrime)\n",
      "----------------------------------------------------------------------\n",
      "Traceback (most recent call last):\n",
      "  File \"C:\\Users\\Manjusha\\AppData\\Local\\Temp\\ipykernel_2436\\2415944505.py\", line 33, in test_nine\n",
      "    self.assertTrue(isPrime(9))\n",
      "NameError: name 'isPrime' is not defined\n",
      "\n",
      "======================================================================\n",
      "ERROR: test_one (__main__.TestIsPrime)\n",
      "----------------------------------------------------------------------\n",
      "Traceback (most recent call last):\n",
      "  File \"C:\\Users\\Manjusha\\AppData\\Local\\Temp\\ipykernel_2436\\2415944505.py\", line 13, in test_one\n",
      "    self.assertTrue(isPrime(1))\n",
      "NameError: name 'isPrime' is not defined\n",
      "\n",
      "======================================================================\n",
      "ERROR: test_seven (__main__.TestIsPrime)\n",
      "----------------------------------------------------------------------\n",
      "Traceback (most recent call last):\n",
      "  File \"C:\\Users\\Manjusha\\AppData\\Local\\Temp\\ipykernel_2436\\2415944505.py\", line 23, in test_seven\n",
      "    self.assertTrue(isPrime(7))\n",
      "NameError: name 'isPrime' is not defined\n",
      "\n",
      "======================================================================\n",
      "ERROR: test_six (__main__.TestIsPrime)\n",
      "----------------------------------------------------------------------\n",
      "Traceback (most recent call last):\n",
      "  File \"C:\\Users\\Manjusha\\AppData\\Local\\Temp\\ipykernel_2436\\2415944505.py\", line 29, in test_six\n",
      "    self.assertTrue(isPrime(6))\n",
      "NameError: name 'isPrime' is not defined\n",
      "\n",
      "======================================================================\n",
      "ERROR: test_three (__main__.TestIsPrime)\n",
      "----------------------------------------------------------------------\n",
      "Traceback (most recent call last):\n",
      "  File \"C:\\Users\\Manjusha\\AppData\\Local\\Temp\\ipykernel_2436\\2415944505.py\", line 19, in test_three\n",
      "    self.assertTrue(isPrime(3))\n",
      "NameError: name 'isPrime' is not defined\n",
      "\n",
      "======================================================================\n",
      "ERROR: test_threehundred (__main__.TestIsPrime)\n",
      "----------------------------------------------------------------------\n",
      "Traceback (most recent call last):\n",
      "  File \"C:\\Users\\Manjusha\\AppData\\Local\\Temp\\ipykernel_2436\\2415944505.py\", line 52, in test_threehundred\n",
      "    self.assertTrue(isPrime(300))\n",
      "NameError: name 'isPrime' is not defined\n",
      "\n",
      "======================================================================\n",
      "ERROR: test_two (__main__.TestIsPrime)\n",
      "----------------------------------------------------------------------\n",
      "Traceback (most recent call last):\n",
      "  File \"C:\\Users\\Manjusha\\AppData\\Local\\Temp\\ipykernel_2436\\2415944505.py\", line 17, in test_two\n",
      "    self.assertTrue(isPrime(2))\n",
      "NameError: name 'isPrime' is not defined\n",
      "\n",
      "======================================================================\n",
      "ERROR: test_twohundred (__main__.TestIsPrime)\n",
      "----------------------------------------------------------------------\n",
      "Traceback (most recent call last):\n",
      "  File \"C:\\Users\\Manjusha\\AppData\\Local\\Temp\\ipykernel_2436\\2415944505.py\", line 50, in test_twohundred\n",
      "    self.assertTrue(isPrime(200))\n",
      "NameError: name 'isPrime' is not defined\n",
      "\n",
      "======================================================================\n",
      "ERROR: test_zero (__main__.TestIsPrime)\n",
      "----------------------------------------------------------------------\n",
      "Traceback (most recent call last):\n",
      "  File \"C:\\Users\\Manjusha\\AppData\\Local\\Temp\\ipykernel_2436\\2415944505.py\", line 11, in test_zero\n",
      "    self.assertTrue(isPrime(0))\n",
      "NameError: name 'isPrime' is not defined\n",
      "\n",
      "======================================================================\n",
      "FAIL: test_always_fails (__main__.TryTesting)\n",
      "----------------------------------------------------------------------\n",
      "Traceback (most recent call last):\n",
      "  File \"C:\\Users\\Manjusha\\AppData\\Local\\Temp\\ipykernel_2436\\1039998676.py\", line 10, in test_always_fails\n",
      "    self.assertTrue(False)\n",
      "AssertionError: False is not true\n",
      "\n",
      "----------------------------------------------------------------------\n",
      "Ran 20 tests in 0.064s\n",
      "\n",
      "FAILED (failures=1, errors=18)\n"
     ]
    }
   ],
   "source": [
    "\n",
    "#The class to define the test cases\n",
    "import unittest\n",
    "\n",
    "class TestIsPrime(unittest.TestCase):\n",
    "    #1. test for negative number\n",
    "    def test_negative(self):\n",
    "        self.assertTrue(isPrime(-5))\n",
    "        \n",
    "    #2. test for 0 and 1\n",
    "    def test_zero(self):\n",
    "        self.assertTrue(isPrime(0))\n",
    "    def test_one(self):\n",
    "        self.assertTrue(isPrime(1))\n",
    "    \n",
    "    #3. test for small prime numbers 2,3,5,7\n",
    "    def test_two(self):\n",
    "        self.assertTrue(isPrime(2))\n",
    "    def test_three(self):\n",
    "        self.assertTrue(isPrime(3))\n",
    "    def test_five(self):\n",
    "        self.assertTrue(isPrime(5))\n",
    "    def test_seven(self):\n",
    "        self.assertTrue(isPrime(7))\n",
    "        \n",
    "    #4. test for small composite numbers 4,6,8,9\n",
    "    def test_four(self):\n",
    "        self.assertTrue(isPrime(4))\n",
    "    def test_six(self):\n",
    "        self.assertTrue(isPrime(6))\n",
    "    def test_eight(self):\n",
    "        self.assertTrue(isPrime(8))\n",
    "    def test_nine(self):\n",
    "        self.assertTrue(isPrime(9))\n",
    "        \n",
    "    #5. test for large numbers\n",
    "    \n",
    "    def test_hundredthree(self):\n",
    "        self.assertTrue(isPrime(103))\n",
    "    def test_hundredfive(self):\n",
    "        self.assertTrue(isPrime(105))\n",
    "    def test_hundredseven(self):\n",
    "        self.assertTrue(isPrime(107))\n",
    "    def test_hundrednine(self):\n",
    "        self.assertTrue(isPrime(109))\n",
    "    \n",
    "    #6. test for large composite numbers\n",
    "    def test_hundred(self):\n",
    "        self.assertTrue(isPrime(100))\n",
    "    def test_twohundred(self):\n",
    "        self.assertTrue(isPrime(200))\n",
    "    def test_threehundred(self):\n",
    "        self.assertTrue(isPrime(300))\n",
    "    \n",
    "if __name__ == '__main__':\n",
    "    unittest.main(argv=['first-arg-is-ignored'], exit=False)"
   ]
  },
  {
   "cell_type": "code",
   "execution_count": 27,
   "id": "bf54b1f6",
   "metadata": {},
   "outputs": [],
   "source": [
    "#with generator\n",
    "def isprime(n):\n",
    "    return (all(False for i in range(2,n) if n % i == 0) and not n < 2)"
   ]
  },
  {
   "cell_type": "code",
   "execution_count": 28,
   "id": "4539443e",
   "metadata": {},
   "outputs": [
    {
     "data": {
      "text/plain": [
       "False"
      ]
     },
     "execution_count": 28,
     "metadata": {},
     "output_type": "execute_result"
    }
   ],
   "source": [
    "isprime(0)"
   ]
  },
  {
   "cell_type": "code",
   "execution_count": 2,
   "id": "5f1ad878",
   "metadata": {},
   "outputs": [
    {
     "name": "stdout",
     "output_type": "stream",
     "text": [
      "Requirement already satisfied: pytest in c:\\python310\\lib\\site-packages (7.2.2)\n",
      "Requirement already satisfied: tomli>=1.0.0 in c:\\python310\\lib\\site-packages (from pytest) (2.0.1)\n",
      "Requirement already satisfied: packaging in c:\\users\\manjusha\\appdata\\roaming\\python\\python310\\site-packages (from pytest) (21.3)\n",
      "Requirement already satisfied: attrs>=19.2.0 in c:\\python310\\lib\\site-packages (from pytest) (22.1.0)\n",
      "Requirement already satisfied: exceptiongroup>=1.0.0rc8 in c:\\python310\\lib\\site-packages (from pytest) (1.1.1)\n",
      "Requirement already satisfied: pluggy<2.0,>=0.12 in c:\\python310\\lib\\site-packages (from pytest) (1.0.0)\n",
      "Requirement already satisfied: iniconfig in c:\\python310\\lib\\site-packages (from pytest) (2.0.0)\n",
      "Requirement already satisfied: colorama in c:\\users\\manjusha\\appdata\\roaming\\python\\python310\\site-packages (from pytest) (0.4.5)\n",
      "Requirement already satisfied: pyparsing!=3.0.5,>=2.0.2 in c:\\users\\manjusha\\appdata\\roaming\\python\\python310\\site-packages (from packaging->pytest) (3.0.9)\n"
     ]
    },
    {
     "name": "stderr",
     "output_type": "stream",
     "text": [
      "WARNING: Ignoring invalid distribution -rotobuf (c:\\users\\manjusha\\appdata\\roaming\\python\\python310\\site-packages)\n",
      "WARNING: Ignoring invalid distribution -atplotlib (c:\\users\\manjusha\\appdata\\roaming\\python\\python310\\site-packages)\n",
      "WARNING: Ignoring invalid distribution -ip (c:\\python310\\lib\\site-packages)\n",
      "WARNING: Ignoring invalid distribution - (c:\\python310\\lib\\site-packages)\n",
      "WARNING: Ignoring invalid distribution -rotobuf (c:\\users\\manjusha\\appdata\\roaming\\python\\python310\\site-packages)\n",
      "WARNING: Ignoring invalid distribution -atplotlib (c:\\users\\manjusha\\appdata\\roaming\\python\\python310\\site-packages)\n",
      "WARNING: Ignoring invalid distribution -ip (c:\\python310\\lib\\site-packages)\n",
      "WARNING: Ignoring invalid distribution - (c:\\python310\\lib\\site-packages)\n",
      "WARNING: Ignoring invalid distribution -rotobuf (c:\\users\\manjusha\\appdata\\roaming\\python\\python310\\site-packages)\n",
      "WARNING: Ignoring invalid distribution -atplotlib (c:\\users\\manjusha\\appdata\\roaming\\python\\python310\\site-packages)\n",
      "WARNING: Ignoring invalid distribution -ip (c:\\python310\\lib\\site-packages)\n",
      "WARNING: Ignoring invalid distribution - (c:\\python310\\lib\\site-packages)\n",
      "WARNING: Ignoring invalid distribution -rotobuf (c:\\users\\manjusha\\appdata\\roaming\\python\\python310\\site-packages)\n",
      "WARNING: Ignoring invalid distribution -atplotlib (c:\\users\\manjusha\\appdata\\roaming\\python\\python310\\site-packages)\n",
      "WARNING: Ignoring invalid distribution -ip (c:\\python310\\lib\\site-packages)\n",
      "WARNING: Ignoring invalid distribution - (c:\\python310\\lib\\site-packages)\n",
      "WARNING: Ignoring invalid distribution -rotobuf (c:\\users\\manjusha\\appdata\\roaming\\python\\python310\\site-packages)\n",
      "WARNING: Ignoring invalid distribution -atplotlib (c:\\users\\manjusha\\appdata\\roaming\\python\\python310\\site-packages)\n",
      "WARNING: Ignoring invalid distribution -rotobuf (c:\\users\\manjusha\\appdata\\roaming\\python\\python310\\site-packages)\n",
      "WARNING: Ignoring invalid distribution -atplotlib (c:\\users\\manjusha\\appdata\\roaming\\python\\python310\\site-packages)\n",
      "\n",
      "[notice] A new release of pip available: 22.3.1 -> 23.0.1\n",
      "[notice] To update, run: python.exe -m pip install --upgrade pip\n"
     ]
    }
   ],
   "source": [
    "!python -m pip install pytest\n"
   ]
  },
  {
   "cell_type": "code",
   "execution_count": 16,
   "id": "45e4ce2d",
   "metadata": {},
   "outputs": [
    {
     "name": "stdout",
     "output_type": "stream",
     "text": [
      "Writing pytesting.py\n"
     ]
    }
   ],
   "source": [
    "%%file pytesting.py\n",
    "import math\n",
    "\n",
    "def test_sqrt():\n",
    "    num = 25\n",
    "    assert math.sqrt(num) == 5\n",
    "\n",
    "def testsquare():\n",
    "    num = 7\n",
    "    assert 7*7 == 40\n",
    "\n",
    "def tesequality():\n",
    "    assert 10 == 11"
   ]
  },
  {
   "cell_type": "code",
   "execution_count": 4,
   "id": "28eebd51",
   "metadata": {},
   "outputs": [],
   "source": [
    "# test_with_unittest.py\n",
    "\n",
    "from unittest import TestCase\n",
    "\n",
    "class TryTesting(TestCase):\n",
    "    def test_always_passes(self):\n",
    "        self.assertTrue(True)\n",
    "\n",
    "    def test_always_fails(self):\n",
    "        self.assertTrue(False)"
   ]
  },
  {
   "cell_type": "code",
   "execution_count": 11,
   "id": "0b4f65a2",
   "metadata": {},
   "outputs": [
    {
     "name": "stdout",
     "output_type": "stream",
     "text": [
      "Writing testfile.py\n"
     ]
    }
   ],
   "source": [
    "%%file testfile.py\n",
    "def test_my_stuff():\n",
    "    assert 42 == 42"
   ]
  },
  {
   "cell_type": "code",
   "execution_count": 12,
   "id": "8efa0a0c",
   "metadata": {},
   "outputs": [
    {
     "name": "stdout",
     "output_type": "stream",
     "text": [
      "============================= test session starts =============================\n",
      "platform win32 -- Python 3.10.2, pytest-7.2.2, pluggy-1.0.0\n",
      "rootdir: D:\\pythonrough\\Integrify\n",
      "collected 1 item\n",
      "\n",
      "testfile.py .                                                            [100%]\n",
      "\n",
      "============================= 1 passed in 10.10s ==============================\n"
     ]
    }
   ],
   "source": [
    "!python -m pytest testfile.py\n"
   ]
  },
  {
   "cell_type": "code",
   "execution_count": 17,
   "id": "ab0c2ec2",
   "metadata": {},
   "outputs": [
    {
     "name": "stdout",
     "output_type": "stream",
     "text": [
      "============================= test session starts =============================\n",
      "platform win32 -- Python 3.10.2, pytest-7.2.2, pluggy-1.0.0\n",
      "rootdir: D:\\pythonrough\\Integrify\n",
      "collected 2 items\n",
      "\n",
      "pytesting.py .F                                                          [100%]\n",
      "\n",
      "================================== FAILURES ===================================\n",
      "_________________________________ testsquare __________________________________\n",
      "\n",
      "    def testsquare():\n",
      "        num = 7\n",
      ">       assert 7*7 == 40\n",
      "E       assert (7 * 7) == 40\n",
      "\n",
      "pytesting.py:9: AssertionError\n",
      "=========================== short test summary info ===========================\n",
      "FAILED pytesting.py::testsquare - assert (7 * 7) == 40\n",
      "========================= 1 failed, 1 passed in 0.21s =========================\n"
     ]
    }
   ],
   "source": [
    "!python -m pytest pytesting.py"
   ]
  },
  {
   "cell_type": "code",
   "execution_count": null,
   "id": "465b1399",
   "metadata": {},
   "outputs": [],
   "source": []
  }
 ],
 "metadata": {
  "kernelspec": {
   "display_name": "Python 3 (ipykernel)",
   "language": "python",
   "name": "python3"
  },
  "language_info": {
   "codemirror_mode": {
    "name": "ipython",
    "version": 3
   },
   "file_extension": ".py",
   "mimetype": "text/x-python",
   "name": "python",
   "nbconvert_exporter": "python",
   "pygments_lexer": "ipython3",
   "version": "3.10.2"
  }
 },
 "nbformat": 4,
 "nbformat_minor": 5
}
