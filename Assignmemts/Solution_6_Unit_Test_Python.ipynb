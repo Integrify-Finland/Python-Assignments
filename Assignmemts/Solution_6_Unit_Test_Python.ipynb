{
 "cells": [
  {
   "cell_type": "markdown",
   "id": "013a5499-92df-4943-b748-496147791735",
   "metadata": {},
   "source": [
    "### Exercise 6: \n",
    "# Python Basics: Unit Test\n",
    "### Student: Ronald van den Berg"
   ]
  },
  {
   "cell_type": "markdown",
   "id": "461a6d88-ea1e-4348-b9b3-82ca8789256b",
   "metadata": {},
   "source": [
    "**Exercise**<br>\n",
    "Your task is to write unit tests for a Python function that checks whether a given number is prime or not. The function takes an integer as input and returns a boolean value indicating whether the number is prime or not.\n",
    "\n",
    "Your tests should cover various cases such as:\n",
    "\n",
    "    Test for negative numbers\n",
    "    Test for 0 and 1\n",
    "    Test for small prime numbers (e.g., 2, 3, 5, 7)\n",
    "    Test for small composite numbers (e.g., 4, 6, 8, 9)\n",
    "    Test for large prime numbers (e.g., 103, 107, 109)\n",
    "    Test for large composite numbers (e.g., 100, 200, 300)\n",
    "\n",
    "In the TestIsPrime class, we define several test methods, each testing a specific case. In each test method, we use the assert statements to check whether the output of the is_prime() function matches the expected output. If the output does not match, the test fails and the test runner reports the failure.\n",
    "\n",
    "To run the tests, we simply run the script. The test runner will discover and run all the test methods defined in the TestIsPrime class.\n",
    "\n",
    "We can also run the tests using a command-line test runner such as pytest. To do this, we need to install pytest by running pip install pytest and then run the tests using the pytest command. The test runner will discover and run all the test methods defined in the script."
   ]
  },
  {
   "cell_type": "code",
   "execution_count": 1,
   "id": "eafa8990-3d2a-4a5e-847a-79819986cb0c",
   "metadata": {},
   "outputs": [
    {
     "name": "stderr",
     "output_type": "stream",
     "text": [
      "test_false (__main__.TestIsPrime)\n",
      "A bunch of cases for which the function should return False ... ok\n",
      "test_negative (__main__.TestIsPrime)\n",
      "By definition, negative numbers are not prime ... ok\n",
      "test_special_cases (__main__.TestIsPrime)\n",
      "Special cases: 0 and 1 ... ok\n",
      "test_true (__main__.TestIsPrime)\n",
      "A bunch of cases for which the function should return True ... ok\n",
      "\n",
      "----------------------------------------------------------------------\n",
      "Ran 4 tests in 0.006s\n",
      "\n",
      "OK\n"
     ]
    }
   ],
   "source": [
    "import unittest\n",
    "\n",
    "# this function was implemented as part of Exercise 2\n",
    "def is_prime(n):\n",
    "    # case 1: n < 1 --> False by definition\n",
    "    if n <= 1: \n",
    "        return False\n",
    "    # case 2: n >= 1 --> check if prime\n",
    "    divisor = 2\n",
    "    while divisor*divisor <= n:\n",
    "        if n%divisor == 0:\n",
    "            return False\n",
    "        divisor += 1\n",
    "    return True\n",
    "\n",
    "# define the test cases\n",
    "class TestIsPrime(unittest.TestCase):\n",
    "    \n",
    "    def test_special_cases(self):\n",
    "        \"\"\" Special cases: 0 and 1 \"\"\"\n",
    "        self.assertFalse(is_prime(0))\n",
    "        self.assertFalse(is_prime(1))\n",
    "\n",
    "    def test_true(self):\n",
    "        \"\"\" A bunch of cases for which the function should return True \"\"\"\n",
    "        self.assertTrue(is_prime(3))\n",
    "        self.assertTrue(is_prime(11))\n",
    "        self.assertTrue(is_prime(131))\n",
    "        self.assertTrue(is_prime(10301))\n",
    "        self.assertTrue(is_prime(1003001))\n",
    "        \n",
    "    def test_false(self):\n",
    "        \"\"\" A bunch of cases for which the function should return False \"\"\"\n",
    "        self.assertFalse(is_prime(4))\n",
    "        self.assertFalse(is_prime(22))\n",
    "        self.assertFalse(is_prime(232))\n",
    "        self.assertFalse(is_prime(20302))\n",
    "        self.assertFalse(is_prime(2003002))\n",
    "\n",
    "    def test_negative(self):\n",
    "        \"\"\" By definition, negative numbers are not prime \"\"\"\n",
    "        self.assertFalse(is_prime(-4))\n",
    "        self.assertFalse(is_prime(-22))\n",
    "        self.assertFalse(is_prime(-232))\n",
    "        self.assertFalse(is_prime(-20302))\n",
    "        self.assertFalse(is_prime(-2003002))\n",
    "\n",
    "# run the unit test\n",
    "if __name__ == '__main__':\n",
    "    unittest.main(argv=[''], verbosity=2, exit=False)"
   ]
  }
 ],
 "metadata": {
  "kernelspec": {
   "display_name": "Python 3 (ipykernel)",
   "language": "python",
   "name": "python3"
  },
  "language_info": {
   "codemirror_mode": {
    "name": "ipython",
    "version": 3
   },
   "file_extension": ".py",
   "mimetype": "text/x-python",
   "name": "python",
   "nbconvert_exporter": "python",
   "pygments_lexer": "ipython3",
   "version": "3.9.13"
  }
 },
 "nbformat": 4,
 "nbformat_minor": 5
}
