{
 "cells": [
  {
   "cell_type": "markdown",
   "id": "1817af50",
   "metadata": {},
   "source": [
    "## Python Basics: OOP"
   ]
  },
  {
   "cell_type": "markdown",
   "id": "8e082643",
   "metadata": {},
   "source": [
    "### 1 Everything in python is class and object. Let's verify that. Run the following code:"
   ]
  },
  {
   "cell_type": "code",
   "execution_count": null,
   "id": "a7374bbf",
   "metadata": {},
   "outputs": [],
   "source": [
    "a = 5\n",
    "b = 'some string'\n",
    "print(type(a), type(b))\n",
    "\n",
    "def some_function():\n",
    "    pass\n",
    "\n",
    "class some_class:\n",
    "    pass\n",
    "\n",
    "some_list = [int, float, tuple, str, dict, list, print, some_function, some_class]\n",
    "for item in some_list:\n",
    "    print(type(item))\n"
   ]
  },
  {
   "cell_type": "markdown",
   "id": "bc69ee94",
   "metadata": {},
   "source": [
    "### 2 Compare the result of step a and step b:"
   ]
  },
  {
   "cell_type": "code",
   "execution_count": null,
   "id": "f39ea829",
   "metadata": {},
   "outputs": [],
   "source": [
    "some_list = [int(), float(), tuple(), str(), dict(), list(), print(), some_function(), some_class()]\n",
    "for item in some_list:\n",
    "    print(type(item))\n",
    "    "
   ]
  },
  {
   "cell_type": "markdown",
   "id": "e3edd2fa",
   "metadata": {},
   "source": [
    "**int and others are a type while int() and others are instances of classes**\n",
    "**in case of functions it returns NoneType because given functions don't return anything, I guess**"
   ]
  },
  {
   "cell_type": "markdown",
   "id": "dfd598d0",
   "metadata": {},
   "source": [
    "### 3 Create two classes Pet and Dog "
   ]
  },
  {
   "cell_type": "markdown",
   "id": "14ac4f44",
   "metadata": {},
   "source": [
    "#### 1. Requirements for Pet class\n",
    "- Three class attributes pet_population , pet_instance and current_year\n",
    "- Init constructor __init__(self,name,category,age), name is name of pet,category could be dog,cat,bird etc. and age is age of pet\n",
    "- An instance method hellofrompet that prints hello from petname\n",
    "- Create a class method timepassedby which takes years as argumentshould automatically increase the age of all the pet object as soon as the method is applied\n",
    "- pet_population should show the number of pets created and pet_instance is the list of pet object"
   ]
  },
  {
   "cell_type": "code",
   "execution_count": null,
   "id": "f5754077",
   "metadata": {},
   "outputs": [],
   "source": [
    "class Pet:\n",
    "    pet_population = 0\n",
    "    pet_instance = []\n",
    "    current_year = 2023\n",
    "    \n",
    "    def __init__(self, name, category, age):\n",
    "        self.name = name\n",
    "        self.category = category\n",
    "        self.age = age\n",
    "        Pet.pet_population += 1\n",
    "        Pet.pet_instance.append(self)\n",
    "        \n",
    "    def hello_from_pet(self):\n",
    "        print('My name is:', self.name)\n",
    "    \n",
    "    def time_passed_by(self, years):\n",
    "        Pet.current_year += years\n",
    "        for obj in Pet.pet_instance:\n",
    "            obj.age += years\n",
    "        \n",
    "        \n",
    "# koira = Dog('Misti', '1', 3, 'Kolli')\n",
    "# koira2 = Dog('Murre', '2', 5, 'Mops')\n",
    "\n",
    "# print(koira.age, koira2.age, Pet.current_year)\n",
    "# koira.time_passed_by(3)\n",
    "# print(koira.age, koira2.age, Pet.current_year)\n"
   ]
  },
  {
   "cell_type": "markdown",
   "id": "3923b633",
   "metadata": {},
   "source": [
    "1. Requirements for Dog class\n",
    "- Dog class should inherit Pet class attributes and methods. Apart from that the init constructor takes addition \"breed\" argument\n",
    "- Define the instance method barks which displays the breed does woof woof."
   ]
  },
  {
   "cell_type": "code",
   "execution_count": null,
   "id": "689c27dc",
   "metadata": {},
   "outputs": [],
   "source": [
    "class Dog(Pet):\n",
    "    def __init__(self, name, category, age, breed):\n",
    "        self.name = name\n",
    "        self.category = category\n",
    "        self.age = age\n",
    "        self.breed = breed\n",
    "        Pet.pet_population += 1\n",
    "        Pet.pet_instance.append(self)\n",
    "    \n",
    "    def barks(self):\n",
    "        print(self.breed,'says woof woof!!')"
   ]
  },
  {
   "cell_type": "markdown",
   "id": "31c9db35",
   "metadata": {},
   "source": [
    "### Validate your code: Run the following piece of code"
   ]
  },
  {
   "cell_type": "code",
   "execution_count": null,
   "id": "f3e52012",
   "metadata": {},
   "outputs": [],
   "source": [
    "instance = Pet('Mickey', 'Cat', 1)\n",
    "instance2 = Dog('Saphie', 'Dog', 2, 'Shephard')\n",
    "\n",
    "print(Pet.pet_population)\n",
    "print(Dog.pet_population)\n",
    "\n",
    "for item in Pet.pet_instance:\n",
    "    print(item.name)\n",
    "    \n",
    "instance.time_passed_by(5)\n",
    "print(instance.age)\n",
    "print(instance2.age)\n",
    "\n",
    "# instance.barks() # raises Error\n",
    "instance2.barks()\n"
   ]
  }
 ],
 "metadata": {
  "kernelspec": {
   "display_name": "Python 3 (ipykernel)",
   "language": "python",
   "name": "python3"
  },
  "language_info": {
   "codemirror_mode": {
    "name": "ipython",
    "version": 3
   },
   "file_extension": ".py",
   "mimetype": "text/x-python",
   "name": "python",
   "nbconvert_exporter": "python",
   "pygments_lexer": "ipython3",
   "version": "3.9.10"
  }
 },
 "nbformat": 4,
 "nbformat_minor": 5
}
