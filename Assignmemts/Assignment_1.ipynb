{
 "cells": [
  {
   "cell_type": "markdown",
   "id": "da69624d",
   "metadata": {},
   "source": [
    "# 1st Homework Slava Zagriichuk"
   ]
  },
  {
   "cell_type": "markdown",
   "id": "3bf937cc",
   "metadata": {},
   "source": [
    "My first homework using Jupyter"
   ]
  },
  {
   "cell_type": "markdown",
   "id": "3632b8fd",
   "metadata": {},
   "source": [
    "## Number 1"
   ]
  },
  {
   "cell_type": "markdown",
   "id": "e0ed8ccf",
   "metadata": {},
   "source": [
    "- creation of different objects with types, which are defined **automatically**"
   ]
  },
  {
   "cell_type": "code",
   "execution_count": null,
   "id": "3a878987",
   "metadata": {},
   "outputs": [],
   "source": [
    "var_int = 3\n",
    "var_float = 3.3\n",
    "var_str = 'letters'\n",
    "var_list = [1, 2, 3, 'l',]\n",
    "var_tuple = ('t', ['u',['p']], ('le'), 0,)\n",
    "var_set = {1, 5, 8,}\n",
    "var_dict = {'key1':'item1', 'key2':('advanced', 'item'),}\n",
    "var_bool = True\n",
    "var_NoneType = None\n",
    "var_bytes = b\"some symbols\"\n",
    "\n",
    "print('var_int is',type(var_int))\n",
    "print('var_float is', type(var_float))\n",
    "print('var_str is', type(var_string))\n",
    "print('var_list is', type(var_list))\n",
    "print('var_tuple is', type(var_tuple))\n",
    "print('var_set is', type(var_set))\n",
    "print('var_dict is', type(var_dict))\n",
    "print('var_bool is', type(var_bool))\n",
    "print('var_NoneType is', type(var_NoneType))\n",
    "print('var_bytes is', type(var_bytes))"
   ]
  },
  {
   "cell_type": "markdown",
   "id": "da0cc8bb",
   "metadata": {},
   "source": [
    "- creation of different objects with types, which are defined **manually**"
   ]
  },
  {
   "cell_type": "code",
   "execution_count": null,
   "id": "78a625e8",
   "metadata": {},
   "outputs": [],
   "source": [
    "var_man_int = int(7.0)\n",
    "var_man_float = float(8)\n",
    "var_man_str = str(8)\n",
    "var_man_list = list((5, 7))\n",
    "var_man_tuple = tuple([1, 2, 3,])\n",
    "var_man_set = set(['a', 'b', 'c',])\n",
    "var_man_bool = bool(0)\n",
    "\n",
    "print('var_man_int is',type(var_man_int))\n",
    "print('var_man_float is', type(var_man_float))\n",
    "print('var_man_str is', type(var_man_str))\n",
    "print('var_man_list is', type(var_man_list))\n",
    "print('var_man_tuple is', type(var_man_tuple))\n",
    "print('var_man_set is', type(var_man_set))\n",
    "print('var_man_bool is', type(var_man_bool))"
   ]
  },
  {
   "cell_type": "markdown",
   "id": "319bba26",
   "metadata": {},
   "source": [
    "- creation of empty objects and their type"
   ]
  },
  {
   "cell_type": "code",
   "execution_count": null,
   "id": "7447126c",
   "metadata": {},
   "outputs": [],
   "source": [
    "var_square = []\n",
    "var_round = ()\n",
    "var_curly = {}\n",
    "var_quotes = ''\n",
    "var_double_quotes = \"\"\n",
    "\n",
    "print('var_square is', type(var_square))\n",
    "print('var_round is', type(var_round))\n",
    "print('var_curly is', type(var_curly))\n",
    "print('var_quotes is', type(var_quotes))\n",
    "print('var_double_quotes is', type(var_double_quotes))\n"
   ]
  },
  {
   "cell_type": "markdown",
   "id": "96fde70d",
   "metadata": {},
   "source": [
    "## Number 2"
   ]
  },
  {
   "cell_type": "code",
   "execution_count": null,
   "id": "a5a15b27",
   "metadata": {},
   "outputs": [],
   "source": [
    "x, y = 7, 3\n",
    "\n",
    "# Operators which don't change the variables\n",
    "print('x + y =', x + y)\n",
    "print('x - y =', x - y)\n",
    "print('x * y =', x * y)\n",
    "print('x / y =', x / y)\n",
    "print('x // y =', x // y)\n",
    "print('x % y =', x % y)\n",
    "\n",
    "# Operators which do change them\n",
    "print('initially x = {}, y = {}'.format(x, y))\n",
    "x += y\n",
    "print('after x += y we have got x = {}, y = {}'.format(x, y))\n",
    "x **= y\n",
    "print('then after x **= y we have got', 'x =', x, 'y =', y)\n",
    "x %= y\n",
    "print('and then after x %= y we have got', 'x =', x, 'y =', y)\n",
    "x += 2*y\n",
    "print('and finally', 'x =', x, 'y =', y)"
   ]
  },
  {
   "cell_type": "markdown",
   "id": "ed039ada",
   "metadata": {},
   "source": [
    "## Number 3"
   ]
  },
  {
   "cell_type": "code",
   "execution_count": null,
   "id": "0fa6eaf0",
   "metadata": {},
   "outputs": [],
   "source": [
    "# A few dunder functions for int type\n",
    "\n",
    "obj_int = int(12)\n",
    "\n",
    "print('obj_int type is', type(obj_int))\n",
    "print('is obj_int \\'int\\'?', isinstance(obj_int, int))\n",
    "print('is obj_int \\'float\\'?', isinstance(obj_int, float),'\\n')\n",
    "\n",
    "print('right power of 2 (like 2 in the power of obj_int) is', obj_int.__rpow__(2))\n",
    "print('size in bits is', obj_int.__sizeof__())\n",
    "print('substraction from the right is', obj_int.__rsub__(15))\n",
    "print('equality checkis ', obj_int.__eq__(13))\n",
    "print('turn the number into negative is', obj_int.__neg__())\n",
    "print('\\nSo and what about these operations with floats for example?\\n')\n",
    "print('right power of 2 (like 2 in the power of obj_int) is', obj_int.__rpow__(2.0))\n",
    "print('substraction from the right is', obj_int.__rsub__(15.0))\n",
    "print('equality checkis ', obj_int.__eq__(13.0))"
   ]
  },
  {
   "cell_type": "code",
   "execution_count": null,
   "id": "f7bf384e",
   "metadata": {},
   "outputs": [],
   "source": [
    "# A few dunder functions for int type\n",
    "\n",
    "obj_str = str('Just string, nothing special')\n",
    "\n",
    "print('obj_str type is', type(obj_str))\n",
    "print('is obj_str \\'int\\'?', isinstance(obj_str, int))\n",
    "print('is obj_str \\'float\\'?', isinstance(obj_str, float),'\\n')\n",
    "\n",
    "print('Size of obj_str in bits is', obj_str.__sizeof__())\n",
    "print('Length of obj_str in symbols is', obj_str.__len__())\n",
    "print('Does obj_str contains the string \\'spec\\'?', obj_str.__contains__('spec'))\n",
    "print('Addition 3 is:', obj_str.__add__('3'))\n",
    "print('Multiplying by 2 is:', obj_str.__mul__(2))\n",
    "print('Representation of the object is', obj_str.__repr__())"
   ]
  },
  {
   "cell_type": "code",
   "execution_count": 149,
   "id": "e94def5d",
   "metadata": {},
   "outputs": [
    {
     "name": "stdout",
     "output_type": "stream",
     "text": [
      "obj_list type is <class 'list'>\n",
      "is obj_list 'tuple'? False\n",
      "is obj_list 'list'? True \n",
      "\n",
      "Size of object in bits is 80\n",
      "Multiplication by 2 gives: [1, 22, 3, 4, 5, 1, 22, 3, 4, 5]\n",
      "Length (how many objects inside the iterable) is 5\n",
      "Addition of another list [2,3]: [1, 22, 3, 4, 5, 2, 3]\n",
      "[1, 22, 3, 4, 5]\n",
      "After setting second item to 44: [1, 44, 3, 4, 5]\n",
      "After addition of another list [1, 44, 3, 4, 5, 'a', 'd', 'd']\n"
     ]
    }
   ],
   "source": [
    "# A few dunder functions for list type\n",
    "\n",
    "obj_list = list((1, 22, 3, 4, 5))\n",
    "print('obj_list type is', type(obj_list))\n",
    "print('is obj_list \\'tuple\\'?', isinstance(obj_list, tuple))\n",
    "print('is obj_list \\'list\\'?', isinstance(obj_list, list),'\\n')\n",
    "\n",
    "# functions which don't change the object itself\n",
    "print('Size of object in bits is', obj_list.__sizeof__())\n",
    "print('Multiplication by 2 gives:', obj_list.__mul__(2))\n",
    "print('Length (how many objects inside the iterable) is', obj_list.__len__())\n",
    "print('Addition of another list [2,3]:', obj_list.__add__([2, 3]))\n",
    "\n",
    "# functions which do change the object\n",
    "print(obj_list)\n",
    "obj_list.__setitem__(1, 44)\n",
    "print('After setting second item to 44:', obj_list)\n",
    "obj_list.__iadd__(['a', 'd', 'd'])\n",
    "print('After addition of another list', obj_list)"
   ]
  },
  {
   "cell_type": "markdown",
   "id": "9e2c8015",
   "metadata": {},
   "source": [
    "## Number 4"
   ]
  },
  {
   "cell_type": "code",
   "execution_count": 38,
   "id": "aebd681e",
   "metadata": {},
   "outputs": [
    {
     "name": "stdout",
     "output_type": "stream",
     "text": [
      "Jupyter notebook, I'm here!\n",
      "Jupyter notebook,I'm here!\n",
      "Mac OS, version 12.6\n",
      "Mac OS, version 12.6000\n",
      "Mac OS, version 12.6\n",
      "I am working on Mac OS version 12.62\n",
      "I am working on Mac OS version 12.6\n",
      "I am messing with 12.62 version Mac OS\n",
      "Binary of 1365 is 10101010101\n",
      "Sorry for that late, family business\n",
      "*******************12.60\n",
      "12.60*******************\n",
      "**********12.6**********\n"
     ]
    }
   ],
   "source": [
    "# simple ones:\n",
    "print('Jupyter notebook,','I\\'m here!') # adds the space between\n",
    "print('Jupyter notebook,' + 'I\\'m here!') # doesn't add the space between\n",
    "print('Mac OS,', 'version', 12.6)\n",
    "\n",
    "# with % embedding\n",
    "print('Mac OS,', 'version %.4f'%12.6)\n",
    "print('%s OS, version %.1f'%(\"Mac\", 12.61))\n",
    "\n",
    "# .format function\n",
    "print('I am working on {} version {}'.format('Mac OS', 12.62))\n",
    "print('I am working on {} version {:.1f}'.format('Mac OS', 12.62))\n",
    "print('I am messing with {1} version {0}'.format('Mac OS', 12.62))\n",
    "print('Binary of 1365 is {:b}'.format(1024+256+64+16+4+1))\n",
    "print('Sorry for that late, {variable} business'.format(variable='family'))\n",
    "\n",
    "# filling the string\n",
    "print('{0:*>24.2f}'.format(12.6))\n",
    "print('{0:*<24.2f}'.format(12.6))\n",
    "print('{0:*^24.1f}'.format(12.6))"
   ]
  },
  {
   "cell_type": "markdown",
   "id": "9cd4836f",
   "metadata": {},
   "source": [
    "## Number 5"
   ]
  },
  {
   "cell_type": "code",
   "execution_count": 65,
   "id": "aaf52a84",
   "metadata": {},
   "outputs": [
    {
     "name": "stdout",
     "output_type": "stream",
     "text": [
      "1\n",
      "['Sweden', 'Denmark', 'Netherlands', 'Germany', 'Norway', 'Iceland']\n",
      "['Finland', 'Sweden', 'Denmark', 'Netherlands', 'Germany', 'Norway']\n",
      "Iceland\n",
      "['Germany', 'Norway', 'Iceland']\n",
      "['Finland', 'Denmark', 'Germany', 'Iceland']\n",
      "Finland Iceland\n",
      "['Netherlands', 'Germany', 'Norway']\n",
      "['Iceland', 'Norway', 'Germany', 'Netherlands', 'Denmark', 'Sweden', 'Finland']\n",
      "['Germany', 'Netherlands', 'Denmark']\n",
      "[(0, 'Finland'), (1, 'Sweden'), (2, 'Denmark'), (3, 'Netherlands'), (4, 'Germany'), (5, 'Norway'), (6, 'Iceland')]\n"
     ]
    }
   ],
   "source": [
    "countries= ['Finland','Sweden','Denmark','Netherlands','Germany','Norway','Iceland'] # a\n",
    "\n",
    "print(countries.index('Sweden')) # b\n",
    "print(countries[1:]) # c\n",
    "print(countries[:-1]) # d\n",
    "print(countries[-1]) # e\n",
    "print(countries[-3:]) # f\n",
    "print(countries[::2]) # g\n",
    "print(countries[0], countries[-1]) # h\n",
    "print(countries[-4:-1]) # i\n",
    "print(countries[::-1]) # j\n",
    "# Reversed negative odd indices (-1, -3, -5, ...) # k\n",
    "# List with items [1, 3, 5] # l\n",
    "# [] # m\n",
    "print(countries[4:1:-1]) # n\n",
    "print(list(enumerate(countries))) # 0\n"
   ]
  },
  {
   "cell_type": "markdown",
   "id": "b6b18181",
   "metadata": {},
   "source": [
    "## Number 6"
   ]
  },
  {
   "cell_type": "code",
   "execution_count": 68,
   "id": "fbdc333f",
   "metadata": {},
   "outputs": [
    {
     "name": "stdout",
     "output_type": "stream",
     "text": [
      "{'a': 2, 'b': 4, 'c': 7, 'da': 3}\n"
     ]
    }
   ],
   "source": [
    "# a\n",
    "list_key = ['a', 'b', 'c', 'da']\n",
    "list_value = [2, 4, 7, 3]\n",
    "dict_zip = zip(list_key, list_value)\n",
    "print(dict(dict_zip))"
   ]
  },
  {
   "cell_type": "code",
   "execution_count": 74,
   "id": "943df947",
   "metadata": {},
   "outputs": [
    {
     "name": "stdout",
     "output_type": "stream",
     "text": [
      "{'a': 1, 'b': 2, 'c': 3, 'd': 4, 'e': 5}\n"
     ]
    }
   ],
   "source": [
    "# b\n",
    "dict1 = {'a':1, 'b':2}\n",
    "dict2 = {'c':3, 'd':4, 'e':5}\n",
    "dict1.update(dict2)\n",
    "print(dict1)"
   ]
  },
  {
   "cell_type": "code",
   "execution_count": 91,
   "id": "872eb341",
   "metadata": {},
   "outputs": [
    {
     "name": "stdout",
     "output_type": "stream",
     "text": [
      "{'Duy': ['Python', 'Database', 'ML'], 'Laxmi': ['Python', 'Database', 'ML'], 'Antonio': ['Python', 'Database', 'ML'], 'Maria': ['Python', 'Database', 'ML']}\n",
      "{'Duy': ['Python', 'Database', 'ML'], 'Laxmi': ['Python', 'Database', 'ML'], 'Antonio': ['JavaScript', 'Database', 'NodeJS'], 'Maria': ['Python', 'Database', 'ML']}\n",
      "{'Duy': ['Python', 'Database', 'ML'], 'Laxmi': ['Python', 'Database', 'ML'], 'Antonio': ['JavaScript', 'Database', 'NodeJS', 'ReactJS'], 'Maria': ['Python', 'Database', 'ML']}\n",
      "{'Duy': ['Python', 'Database', 'ML'], 'Laxmi': ['Python', 'Database', 'ML'], 'Antonio': ['JavaScript', 'Database', 'NodeJS', 'Vuejs'], 'Maria': ['Python', 'Database', 'ML']}\n",
      "{'Duy': ['Python', 'Database', 'ML'], 'Laxmi': ['Python', 'Database', 'ML'], 'Antonio': ['JavaScript', 'Database', 'NodeJS'], 'Maria': ['Python', 'Database', 'ML']}\n"
     ]
    }
   ],
   "source": [
    "# c\n",
    "Students = ['Duy', 'Laxmi', 'Antonio', 'Maria']\n",
    "Course = [\"Python\",\"Database\",\"ML\"] \n",
    "students_profile = {}\n",
    "for item in Students:\n",
    "    students_profile.update({item:Course})\n",
    "print(students_profile)\n",
    "\n",
    "# d\n",
    "students_profile['Antonio'] = [\"JavaScript\", \"Database\", \"NodeJS\"]\n",
    "print(students_profile)\n",
    "\n",
    "# e\n",
    "students_profile['Antonio'].append('ReactJS')\n",
    "print(students_profile)\n",
    "\n",
    "# f\n",
    "students_profile['Antonio'][3] = 'Vuejs'\n",
    "print(students_profile)\n",
    "\n",
    "# g\n",
    "students_profile['Antonio'].pop(3)\n",
    "print(students_profile)"
   ]
  },
  {
   "cell_type": "code",
   "execution_count": null,
   "id": "728b7b5a",
   "metadata": {},
   "outputs": [],
   "source": []
  }
 ],
 "metadata": {
  "kernelspec": {
   "display_name": "Python 3 (ipykernel)",
   "language": "python",
   "name": "python3"
  },
  "language_info": {
   "codemirror_mode": {
    "name": "ipython",
    "version": 3
   },
   "file_extension": ".py",
   "mimetype": "text/x-python",
   "name": "python",
   "nbconvert_exporter": "python",
   "pygments_lexer": "ipython3",
   "version": "3.9.10"
  }
 },
 "nbformat": 4,
 "nbformat_minor": 5
}
