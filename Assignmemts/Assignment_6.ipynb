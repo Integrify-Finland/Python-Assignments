{
 "cells": [
  {
   "cell_type": "markdown",
   "id": "ea29effb",
   "metadata": {},
   "source": [
    "## Unit Test Python:"
   ]
  },
  {
   "cell_type": "markdown",
   "id": "fef849e5",
   "metadata": {},
   "source": [
    "### Your task is to write unit tests for a Python function that checks whether a given number is prime or not. The function takes an integer as input and returns a boolean value indicating whether the number is prime or not."
   ]
  },
  {
   "cell_type": "code",
   "execution_count": 1,
   "id": "a078fe64",
   "metadata": {},
   "outputs": [],
   "source": [
    "def is_prime(n: int):\n",
    "    if n <= 1:\n",
    "        return False\n",
    "    for i in range(2, int(n ** 0.5) + 1):\n",
    "        if n % i == 0:\n",
    "            return False\n",
    "    return True    \n",
    "    "
   ]
  },
  {
   "cell_type": "markdown",
   "id": "29b53959",
   "metadata": {},
   "source": [
    "### Your tests should cover various cases such as:\n",
    "- Test for negative numbers\n",
    "- Test for 0 and 1\n",
    "- Test for small prime numbers (e.g., 2, 3, 5, 7)\n",
    "- Test for small composite numbers (e.g., 4, 6, 8, 9)\n",
    "- Test for large prime numbers (e.g., 103, 107, 109)\n",
    "- Test for large composite numbers (e.g., 100, 200, 300)"
   ]
  },
  {
   "cell_type": "markdown",
   "id": "2026d938",
   "metadata": {},
   "source": [
    "In the TestIsPrime class, we define several test methods, each testing a specific case. In each test method, we use the assert statements to check whether the output of the is_prime() function matches the expected output. If the output does not match, the test fails and the test runner reports the failure.\n",
    "\n",
    "To run the tests, we simply run the script. The test runner will discover and run all the test methods defined in the TestIsPrime class.\n",
    "\n",
    "We can also run the tests using a command-line test runner such as pytest. To do this, we need to install pytest by running pip install pytest and then run the tests using the pytest command. The test runner will discover and run all the test methods defined in the script."
   ]
  },
  {
   "cell_type": "code",
   "execution_count": 17,
   "id": "82be0ac4",
   "metadata": {},
   "outputs": [
    {
     "name": "stderr",
     "output_type": "stream",
     "text": [
      "test_large_composite (__main__.TestIsPrime) ... ok\n",
      "test_large_prime (__main__.TestIsPrime) ... ok\n",
      "test_negative (__main__.TestIsPrime) ... ok\n",
      "test_small_composite (__main__.TestIsPrime) ... ok\n",
      "test_small_prime (__main__.TestIsPrime) ... ok\n",
      "test_zero_one (__main__.TestIsPrime) ... ok\n",
      "\n",
      "----------------------------------------------------------------------\n",
      "Ran 6 tests in 0.007s\n",
      "\n",
      "OK\n"
     ]
    }
   ],
   "source": [
    "import unittest\n",
    "from random import sample\n",
    "\n",
    "class TestIsPrime(unittest.TestCase):\n",
    "    \n",
    "    def test_negative(self):\n",
    "        for n in sample(range(-100, 0), 10):\n",
    "            self.assertFalse(is_prime(n))\n",
    "    \n",
    "    def test_zero_one(self):\n",
    "        self.assertFalse(is_prime(0))\n",
    "        self.assertFalse(is_prime(1))\n",
    "    \n",
    "    def test_small_prime(self):\n",
    "        for n in (2, 3, 5, 7, 11, 13):\n",
    "            self.assertTrue(is_prime(n))\n",
    "    \n",
    "    def test_small_composite(self):\n",
    "        for n in (4, 6, 8, 9, 10, 14):\n",
    "            self.assertFalse(is_prime(n))\n",
    "    \n",
    "    def test_large_prime(self):\n",
    "        for n in (947, 953, 1237, 1249, 1259, 1277, 1279, 1283, 1291):\n",
    "            self.assertTrue(is_prime(n))\n",
    "    \n",
    "    def test_large_composite(self):\n",
    "        for n in (178, 267, 749, 1053, 1782, 1469, 585):\n",
    "            self.assertFalse(is_prime(n))\n",
    "    \n",
    "    \n",
    "        \n",
    "if __name__ == '__main__':\n",
    "    unittest.main(argv=[''], verbosity=2, exit=False)"
   ]
  }
 ],
 "metadata": {
  "kernelspec": {
   "display_name": "Python 3 (ipykernel)",
   "language": "python",
   "name": "python3"
  },
  "language_info": {
   "codemirror_mode": {
    "name": "ipython",
    "version": 3
   },
   "file_extension": ".py",
   "mimetype": "text/x-python",
   "name": "python",
   "nbconvert_exporter": "python",
   "pygments_lexer": "ipython3",
   "version": "3.9.10"
  }
 },
 "nbformat": 4,
 "nbformat_minor": 5
}
