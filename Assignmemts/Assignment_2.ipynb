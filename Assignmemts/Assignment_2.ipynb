{
 "cells": [
  {
   "cell_type": "markdown",
   "id": "696544d3",
   "metadata": {},
   "source": [
    "### 1 Conditionals"
   ]
  },
  {
   "cell_type": "code",
   "execution_count": null,
   "id": "f1070b2b",
   "metadata": {},
   "outputs": [],
   "source": [
    "# conditional statements ver1, playing dice\n",
    "\n",
    "from random import randint\n",
    "\n",
    "input('Press any key to know, who is luckier playing dice, you or computer')\n",
    "player1 = randint(1, 6)\n",
    "player2 = randint(1, 6)\n",
    "\n",
    "if player1 > player2:\n",
    "    result = 'WON'\n",
    "elif player1 == player2:\n",
    "    result = 'DREW'\n",
    "else:\n",
    "    result = 'LOST'\n",
    "    \n",
    "print('You {} with the results: \\nYou: {}\\nComputer: {}'.format(result, player1, player2))\n"
   ]
  },
  {
   "cell_type": "code",
   "execution_count": null,
   "id": "21a45d32",
   "metadata": {},
   "outputs": [],
   "source": [
    "# conditional statements ver2, short expression\n",
    "\n",
    "l = [3, 6, 2, 87, 101, 4.2, 9, 45.4, 1]\n",
    "for item in l:\n",
    "    maximum = item if item > maximum else maximum\n",
    "    \n",
    "print('max number in the list is: ', maximum)\n"
   ]
  },
  {
   "cell_type": "markdown",
   "id": "49ab040f",
   "metadata": {},
   "source": [
    "### 2 Get the radius value as input and calculate the area of the circle. If the input is numeric, display the result otherwise display any other message."
   ]
  },
  {
   "cell_type": "code",
   "execution_count": null,
   "id": "5725d7ee",
   "metadata": {},
   "outputs": [],
   "source": [
    "from math import pi\n",
    "r = input('Enter the radius of the circle: ')\n",
    "\n",
    "try:\n",
    "    r = float(r)\n",
    "    print('Area of the circle is approx {:.2f}'.format(pi * r**2))\n",
    "except ValueError:\n",
    "    print('Unfortunately not a number')\n"
   ]
  },
  {
   "cell_type": "markdown",
   "id": "a0e83205",
   "metadata": {},
   "source": [
    "### 3 If the user enters numeric value then asks user to for either perimeter or area calculation and display accordingly"
   ]
  },
  {
   "cell_type": "code",
   "execution_count": null,
   "id": "f4e6dc00",
   "metadata": {},
   "outputs": [],
   "source": [
    "from math import pi\n",
    "a = input('Enter the length of the side of a square: ')\n",
    "\n",
    "try:\n",
    "    a = float(a)\n",
    "    choice = input('Enter what you do want, perimeter or area: ')\n",
    "    if choice == 'perimeter':\n",
    "        result = 4 * a\n",
    "    elif choice == 'area':\n",
    "        result = a ** 2\n",
    "    else:\n",
    "        result = None\n",
    "    print('{} of the square is {}'.format(choice, result))\n",
    "except ValueError:\n",
    "    print('Unfortunately not a number')\n"
   ]
  },
  {
   "cell_type": "markdown",
   "id": "be5d43b6",
   "metadata": {},
   "source": [
    "### 4 Check if there is a student named 'Maria' in students_profile dictionary. If exists remove 'ML' from her course"
   ]
  },
  {
   "cell_type": "code",
   "execution_count": null,
   "id": "2ea3378c",
   "metadata": {},
   "outputs": [],
   "source": [
    "dict_students = {'Duy': ['Python', 'Database', 'ML'], 'Laxmi': ['Python', 'Database', 'ML'],\n",
    "'Antonio': ['Python', 'Database', 'ML'],'Maria': ['Python', 'Database', 'ML']}\n",
    "\n",
    "if 'Maria' in dict_students.keys():\n",
    "    dict_students['Maria'].remove('ML')\n",
    "    \n",
    "print(dict_students)\n"
   ]
  },
  {
   "cell_type": "markdown",
   "id": "8c9f6486",
   "metadata": {},
   "source": [
    "### 1 Take the input from the user as a substring. If that substring is present in string then display substring is present otherwise substring is not present"
   ]
  },
  {
   "cell_type": "code",
   "execution_count": null,
   "id": "d716d941",
   "metadata": {},
   "outputs": [],
   "source": [
    "init_string = \"\"\"Lorem ipsum dolor sit amet, consectetur adipiscing elit,\n",
    " sed do eiusmod tempor incididunt ut labore et dolore magna aliqua.\"\"\"\n",
    "user_string = input(\"The initial string is:\\n'{}'\\nEnter your own string and I will show you whether it is presented in the initial one or not: \".format(init_string))\n",
    "                    \n",
    "if user_string in init_string:\n",
    "    print('Yes, it is presented')\n",
    "else:\n",
    "    print('No, it is not presented')\n"
   ]
  },
  {
   "cell_type": "markdown",
   "id": "2fac41ca",
   "metadata": {},
   "source": [
    "### 2 Distance Metrics are important to calculate the similarity between the vectors. They are used in both supervised and unsupervised machine learning problems. Given the points (1,2,3) and (4,5,6), write a python conditional statement to print the distance for the order 1,2,3,4. If the order is 1 then it is L1 norm(Manhattan distance), order 2 is L2 norm(Euclidean distance) and the generalized distance is given by Minkowski equation."
   ]
  },
  {
   "cell_type": "code",
   "execution_count": null,
   "id": "6a5a967e",
   "metadata": {},
   "outputs": [],
   "source": [
    "from functools import reduce\n",
    "\n",
    "a = [1, 2, 3]\n",
    "b = [4, 5, 6]\n",
    "    \n",
    "choice = input('Enter the way how to calculate the distance. Order from 1 to 4: ')\n",
    "\n",
    "if choice == '1':\n",
    "    n=1\n",
    "elif choice == '2':\n",
    "    n=2\n",
    "elif choice == '3':\n",
    "    n=3\n",
    "elif choice == '4':\n",
    "    n=4\n",
    "else:\n",
    "    n = False\n",
    "    \n",
    "# I noticed that there is the general formula for every case, depends of grade which I call 'n'\n",
    "# The function below is mapping two lists with abs(x-y)**n, then finds sum of the elements and then\n",
    "# gives the root of the grade 'n'\n",
    "if n:\n",
    "    summa = reduce(lambda x,y: x+y, map(lambda x, y: abs(x-y)**n, a, b)) ** (1/n)\n",
    "    print(summa)\n",
    "else:\n",
    "    print('Wrong order!')\n"
   ]
  },
  {
   "cell_type": "markdown",
   "id": "42534073",
   "metadata": {},
   "source": [
    "### 3,4 Loop: Write a multiplication table for any given number using both for and while loop"
   ]
  },
  {
   "cell_type": "code",
   "execution_count": null,
   "id": "01087e05",
   "metadata": {
    "scrolled": true
   },
   "outputs": [],
   "source": [
    "# You can change n to any positive integer\n",
    "n = 20\n",
    "\n",
    "# to adjust the column wide, in symbols\n",
    "wide_col = len(str(n**2)) + 2\n",
    "placeholder = '{:^'+str(wide_col)+'}'\n",
    "\n",
    "for i in range(1, n+1):\n",
    "    for j in range(1, n+1):\n",
    "        print(placeholder.format(i*j), end='')\n",
    "    else:\n",
    "        print('\\n')\n"
   ]
  },
  {
   "cell_type": "code",
   "execution_count": null,
   "id": "8fa7aa64",
   "metadata": {},
   "outputs": [],
   "source": [
    "# You can change n to any positive integer\n",
    "n = 20\n",
    "\n",
    "# to adjust the column wide, in symbols\n",
    "wide_col = len(str(n**2)) + 2\n",
    "placeholder = '{:^'+str(wide_col)+'}'\n",
    "\n",
    "i = 1\n",
    "while i <= n:\n",
    "    j=1\n",
    "    while j <= n:\n",
    "        print(placeholder.format(i*j), end='')\n",
    "        j+=1\n",
    "    else:\n",
    "        print('\\n')\n",
    "    i+=1\n"
   ]
  },
  {
   "cell_type": "markdown",
   "id": "1f9f9862",
   "metadata": {},
   "source": [
    "### 5 DNA is coded using 4 nitrogen bases with the symbols A,T,G,C. Given the template string dna_template='AATCCGAAAATTCGGGAATTTTCGCGT' , generate the complementary dna template with the mapping"
   ]
  },
  {
   "cell_type": "code",
   "execution_count": null,
   "id": "ebe74cda",
   "metadata": {},
   "outputs": [],
   "source": [
    "dna_template='AATCCGAAAATTCGGGAATTTTCGCGT'\n",
    "mapper={\"T\":\"A\",\"A\":\"T\",\"G\":\"C\",\"C\":\"G\"}\n",
    "\n",
    "result = map(lambda x: mapper[x], dna_template)\n",
    "print(''.join(list(result)))\n"
   ]
  },
  {
   "cell_type": "markdown",
   "id": "e1f96c81",
   "metadata": {},
   "source": [
    "### 1 Generate the list f_series=x=[0,1,1,2,3,5,8,13,21,34,55,89,144]. Looks Familiar? This is Fibonacci series where x[0]=0,x[1]=1, and x[n]=x[n-1]+x[n-2] for n>1"
   ]
  },
  {
   "cell_type": "code",
   "execution_count": null,
   "id": "ccdf09a4",
   "metadata": {},
   "outputs": [],
   "source": [
    "# initials:\n",
    "a = 0\n",
    "b = 1\n",
    "edge = 144\n",
    "f_series = [a, b, ]\n",
    "\n",
    "while a + b <= edge:\n",
    "    f_series.append(a+b)\n",
    "    a, b = b, a+b\n",
    "    \n",
    "print(f_series)\n"
   ]
  },
  {
   "cell_type": "markdown",
   "id": "d145c126",
   "metadata": {},
   "source": [
    "### 2 Generate a list of n numbers of prime numbers"
   ]
  },
  {
   "cell_type": "code",
   "execution_count": null,
   "id": "582c55b9",
   "metadata": {},
   "outputs": [],
   "source": [
    "def check_prime(number):\n",
    "    for i in range(2, int(number**0.5)+1):\n",
    "        if number%i == 0:\n",
    "            return False\n",
    "    return True\n",
    "\n",
    "# n is the given number of prime numbers in the list\n",
    "n = 16\n",
    "\n",
    "result = []\n",
    "appended = 0\n",
    "cur_n = 2\n",
    "\n",
    "while appended < n:\n",
    "    if check_prime(cur_n):\n",
    "        result.append(cur_n)\n",
    "        appended += 1\n",
    "    cur_n += 1\n",
    "\n",
    "print(result)\n"
   ]
  },
  {
   "cell_type": "markdown",
   "id": "1490ec19",
   "metadata": {},
   "source": [
    "### 3 Perform the minmax normalization to the range [0,1] for the data1 and minmax normalization to the range [-1,1] for the data2"
   ]
  },
  {
   "cell_type": "code",
   "execution_count": null,
   "id": "93858922",
   "metadata": {},
   "outputs": [],
   "source": [
    "data1=[1,17,12,15,30,60,48,51,89,92,54,8]\n",
    "data2=[-13,2,-1,7,22,-32,5,15,-9,13,3,-2]\n",
    "\n",
    "\n",
    "# X_scaled = (X - X_min) / (X_max - X_min)\n",
    "X_min, X_max = min(data1), max(data1)\n",
    "map1 = map(lambda x: (x - X_min) / (X_max - X_min), data1)\n",
    "print(list(map1))\n",
    "\n",
    "# X_scaled = 2 * (X - X_min) / (X_max - X_min) - 1\n",
    "X_min, X_max = min(data2), max(data2)\n",
    "map2 = map(lambda x: 2 * (x - X_min) / (X_max - X_min) - 1, data2)\n",
    "print(list(map2))\n"
   ]
  },
  {
   "cell_type": "markdown",
   "id": "04a16e7d",
   "metadata": {},
   "source": [
    "### 1,2 Sorting methods, __doc__"
   ]
  },
  {
   "cell_type": "code",
   "execution_count": null,
   "id": "1debde9d",
   "metadata": {},
   "outputs": [],
   "source": [
    "def bubble(list_num: iter):\n",
    "    \"\"\"This function is going from left to right and compare each two elements.\n",
    "    If current element is more than the next one, it changes them. Every run of the loop\n",
    "    the quantity of compared pairs decreases by one. (Each cycle pushes the greatest to the far right)\"\"\"\n",
    "    # protect the initial list from any changes\n",
    "    ls = list(list_num)\n",
    "    \n",
    "    cur_len = len(ls)\n",
    "    while cur_len > 1:\n",
    "        i = 0\n",
    "        while i < cur_len-1:\n",
    "            if ls[i] > ls[i+1]:\n",
    "                ls[i], ls[i+1] = ls[i+1], ls[i]\n",
    "            i+=1\n",
    "        cur_len -= 1\n",
    "    return ls\n",
    "\n",
    "\n",
    "def selection(list_num: iter):\n",
    "    \"\"\"This function is going from the left to the right and change 'j' element with the least from the rest elements.\n",
    "    Every cycle 'j' increments until the list is sorted\"\"\"\n",
    "    # protect the initial list from any changes\n",
    "    ls = list(list_num)\n",
    "    \n",
    "    length = len(ls)\n",
    "    j = 0\n",
    "    while j < length-1:\n",
    "        i = j\n",
    "        cur_min = ls[j]\n",
    "        cur_min_i = j\n",
    "        while i < length:\n",
    "            if ls[i] < cur_min:\n",
    "                cur_min = ls[i]\n",
    "                cur_min_i = i\n",
    "            i+=1\n",
    "        ls[j], ls[cur_min_i] = ls[cur_min_i], ls[j]\n",
    "        j += 1\n",
    "    \n",
    "    return ls\n",
    "    \n",
    "def insertion(list_num: iter):\n",
    "    \"\"\"This function compares 'j' element with the elements from the left (beginning from far left)\n",
    "    and if it's less - inserts it to the certain position and removes it from its' ex-position. 'j' increments\n",
    "    until it reaches the last element\"\"\"\n",
    "    \n",
    "    # protect the initial list from any changes\n",
    "    ls = list(list_num)\n",
    "    \n",
    "    length = len(ls)\n",
    "    j=1\n",
    "    while j < length:\n",
    "        i=0\n",
    "        while i < j:\n",
    "            if ls[j] < ls[i]:\n",
    "                ls.insert(i, ls[j])\n",
    "                ls.pop(j+1)\n",
    "                break\n",
    "            i += 1\n",
    "        j += 1\n",
    "    return ls\n",
    "\n",
    "\n",
    "def ins_nghia(list_num: iter):\n",
    "    \"\"\"This is the function which suggested Nghia, he showed really impressive results\n",
    "    and I decided to check this out. It looks like my insertion func but more laconic\n",
    "    and it's going from the right to the left, while my func works from the left to the right\"\"\"\n",
    "    \n",
    "    arr = list(list_num)\n",
    "    n = len(arr)\n",
    "    for i in range(1, n):\n",
    "        key = arr[i]\n",
    "        j = i - 1\n",
    "        while j >= 0 and key < arr[j]:\n",
    "            arr[j+1] = arr[j]\n",
    "            j -= 1\n",
    "        arr[j+1] = key\n",
    "    return arr\n"
   ]
  },
  {
   "cell_type": "code",
   "execution_count": null,
   "id": "c68975ad",
   "metadata": {},
   "outputs": [],
   "source": [
    "# Before runtime check I decided to check the workability of them:\n",
    "arr = [1,5,8,2,43,-2,3,6,7,12,-5,14,5]\n",
    "print(bubble(arr))\n",
    "print(selection(arr))\n",
    "print(insertion(arr))\n",
    "print(ins_nghia(arr))\n"
   ]
  },
  {
   "cell_type": "code",
   "execution_count": null,
   "id": "a7eab082",
   "metadata": {},
   "outputs": [],
   "source": [
    "# RUNTIME TEST FOR SORTING METHODS\n",
    "\n",
    "from time import time\n",
    "from random import sample\n",
    "\n",
    "sample_list_1000 = sample(range(10000), 1000)\n",
    "sample_list_10000 = sample(range(10000), 10000)\n",
    "\n",
    "functions = [bubble, selection, insertion, ins_nghia, sorted]\n",
    "samples = [[sample_list_1000, '1,000'], [sample_list_10000, '10,000']]\n",
    "\n",
    "for func in functions:\n",
    "    for sample in samples:\n",
    "        start = time()\n",
    "        func(sample[0])\n",
    "        stop = time()\n",
    "        print('{:<10s} time on {} numbers array is: {:.3f} sec'.format(str(func).split(' ')[1], sample[1], stop-start))\n",
    "        "
   ]
  },
  {
   "cell_type": "markdown",
   "id": "514c05e9",
   "metadata": {},
   "source": [
    "### 3 Write a function factorial of a given number"
   ]
  },
  {
   "cell_type": "code",
   "execution_count": null,
   "id": "15e18c0b",
   "metadata": {},
   "outputs": [],
   "source": [
    "def factorial(n: int):\n",
    "    if not isinstance(n, int):\n",
    "        return None\n",
    "    elif n < 0:\n",
    "        return None\n",
    "    \n",
    "    result = 1\n",
    "    \n",
    "    while n > 1:\n",
    "        result *= n\n",
    "        n-=1\n",
    "    return result\n"
   ]
  },
  {
   "cell_type": "markdown",
   "id": "31ea3db2",
   "metadata": {},
   "source": [
    "### 4 Write a function that takes two arguments: activation_function name and value that returns the output of specific activation_function. Implement for sigmoid, binary step function, relu, leaky rely, tanh."
   ]
  },
  {
   "cell_type": "code",
   "execution_count": null,
   "id": "b5e28019",
   "metadata": {
    "scrolled": true
   },
   "outputs": [],
   "source": [
    "from math import exp\n",
    "\n",
    "def sigmoid(a):\n",
    "    return 1 / (1 + exp(-a))\n",
    "\n",
    "def tanh(a):\n",
    "    return 2 / (1 + exp(-2*a)) - 1\n",
    "\n",
    "def relu(a):\n",
    "    return max(0, a)\n",
    "\n",
    "def leaky_relu(a):\n",
    "    if a < 0:\n",
    "        return 0.01 * a\n",
    "    return a\n",
    "    \n",
    "def binary_step(a):\n",
    "    if a < 0:\n",
    "        return -1\n",
    "    return 1\n",
    "        \n",
    "def activation(func, arg):\n",
    "    return func(arg)\n",
    "\n",
    "func_list = [sigmoid, binary_step, relu, leaky_relu, tanh]\n",
    "\n",
    "for value in range(-8, 8):\n",
    "    print('{:>5.1f}'.format(value/5), end=' ')\n",
    "\n",
    "for func in func_list:\n",
    "    print('\\n')\n",
    "    for value in range(-8, 8):\n",
    "        print('{:>5.2f}'.format(activation(func, value/5)), end='|')\n",
    "    "
   ]
  },
  {
   "cell_type": "markdown",
   "id": "71bdaf28",
   "metadata": {},
   "source": [
    "### 1 Write a function that returns permutation. Permutation is the number of ways to arrange 'r' objects form a set of 'n' objects where order matters and the formula is\n",
    "P(n, r) = n! / (n - r)!. Use the factorial function from above exercise."
   ]
  },
  {
   "cell_type": "code",
   "execution_count": null,
   "id": "93cfdd65",
   "metadata": {},
   "outputs": [],
   "source": [
    "def P(n: int, r: int):\n",
    "    return(int(factorial(n)/factorial(n-r)))\n",
    "\n",
    "permutation(10, 3)"
   ]
  },
  {
   "cell_type": "markdown",
   "id": "f20a3d4e",
   "metadata": {},
   "source": [
    "### 1 Write a function that takes three arguments. First arguments should determine whether to return permutation or combination or both. Make the first argument optional and default is both if nothing is passed while calling the function.The second argument is n, which is optional and default is 10. Finally the third argument is r, which is also optional and default is 5."
   ]
  },
  {
   "cell_type": "code",
   "execution_count": null,
   "id": "1d6799f3",
   "metadata": {},
   "outputs": [],
   "source": [
    "def perm_comb(which, n=10, r=5):\n",
    "    \"\"\"'which' parameter has 3 options:\n",
    "    'P' is Permutation of n,r\n",
    "    'C' is Combination of n,r\n",
    "    'Both' is both Permutation and Combination\"\"\"\n",
    "    \n",
    "#     def P(n, r):\n",
    "#         return(int(factorial(n)/factorial(n-r)))\n",
    "    \n",
    "    if which == 'P':\n",
    "        return P(n=n, r=r)\n",
    "    elif which == 'C':\n",
    "        return P(n=n, r=r) / factorial(r)\n",
    "    elif which == 'Both':\n",
    "        return P(n=n, r=r), int(P(n=n, r=r) / factorial(r))\n",
    "    else:\n",
    "        return None\n",
    "        \n",
    "perm_comb('Both', r=3)"
   ]
  },
  {
   "cell_type": "markdown",
   "id": "213dbc49",
   "metadata": {},
   "source": [
    "### 2 Implement a function that takes any number of positional and keyword arguments."
   ]
  },
  {
   "cell_type": "code",
   "execution_count": null,
   "id": "0afe7b98",
   "metadata": {},
   "outputs": [],
   "source": [
    "def args_kwargs(*args, **kwargs):\n",
    "    print(args)\n",
    "    print(kwargs)\n",
    "    \n",
    "args_kwargs(1, 2, 3, '123', key1='val1', key2='val2')\n"
   ]
  },
  {
   "cell_type": "markdown",
   "id": "0b8633b7",
   "metadata": {},
   "source": [
    "### 3 Understand scope of variables: LEGB Rule 1. Local to the function eg. variable defined in the function 2. Enclosing or nonlocal eg. variables defined in enclosing function in nested function 3. Global eg. variables defined within main program or module 4. Built-in eg. Python keywords"
   ]
  },
  {
   "cell_type": "code",
   "execution_count": null,
   "id": "0fd3b4b3",
   "metadata": {},
   "outputs": [],
   "source": [
    "x = \"Global scope X\"\n",
    "y = \"Global scope Y\"\n",
    "z = \"Global scope Z\"\n",
    "\n",
    "def myfunc1():\n",
    "    x = \"I'm X from function 1\"\n",
    "    y = \"I'm Y from function 1\"\n",
    "    z = \"I'm Z from function 1\"\n",
    "    def myfunc2():\n",
    "        nonlocal x\n",
    "        global z\n",
    "        x = \"I'm X from nested function with nonlocal usage\"\n",
    "        y = \"I'm Y from nested function\"\n",
    "        z = \"I'm Z from nested function with global usage\"\n",
    "    print(\"\\nPrinting x,y,z from function 1 BEFORE execution of the nested function:\\n\")\n",
    "    print(x)\n",
    "    print(y)\n",
    "    print(z)\n",
    "    myfunc2()\n",
    "    print(\"\\nPrinting x,y,z from function 1 AFTER execution of the nested function:\\n\")\n",
    "    print(x)\n",
    "    print(y)\n",
    "    print(z)\n",
    "    \n",
    "print(\"\\nPrinting x,y,z from main BEFORE execution the function 1:\\n\")\n",
    "print(x)\n",
    "print(y)\n",
    "print(z)\n",
    "myfunc1()\n",
    "print(\"\\nPrinting x,y,z from main AFTER execution the function 1:\\n\")\n",
    "print(x)\n",
    "print(y)\n",
    "print(z)\n",
    "print(\"\\nAnd finally that's a few built-in variables:\\n\")\n",
    "print(True)\n",
    "print(False)\n",
    "print(None)\n",
    "print(__debug__)\n"
   ]
  },
  {
   "cell_type": "markdown",
   "id": "1758776d",
   "metadata": {},
   "source": [
    "## Thank you for watching!"
   ]
  }
 ],
 "metadata": {
  "kernelspec": {
   "display_name": "Python 3 (ipykernel)",
   "language": "python",
   "name": "python3"
  },
  "language_info": {
   "codemirror_mode": {
    "name": "ipython",
    "version": 3
   },
   "file_extension": ".py",
   "mimetype": "text/x-python",
   "name": "python",
   "nbconvert_exporter": "python",
   "pygments_lexer": "ipython3",
   "version": "3.9.10"
  }
 },
 "nbformat": 4,
 "nbformat_minor": 5
}
