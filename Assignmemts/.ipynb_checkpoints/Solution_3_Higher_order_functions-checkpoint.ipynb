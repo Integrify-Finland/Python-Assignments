{
 "cells": [
  {
   "cell_type": "markdown",
   "id": "013a5499-92df-4943-b748-496147791735",
   "metadata": {},
   "source": [
    "### Exercise 3: \n",
    "# Python Basics: Higher-order functions\n",
    "### Student: Ronald van den Berg"
   ]
  },
  {
   "cell_type": "markdown",
   "id": "461a6d88-ea1e-4348-b9b3-82ca8789256b",
   "metadata": {},
   "source": [
    "**Exercise** \n",
    "\n",
    "Write a Python script to implement the map(), filter(), and reduce() functions on a list of integers.\n",
    "\n",
    "    The map() function should square each element of the list,\n",
    "    The filter() function should remove all odd numbers from the list.\n",
    "    The reduce() function should find the product of all the even numbers in the list.\n",
    "\n",
    "The script should follow Python syntax and conventions.\n",
    "\n",
    "In this solution, we define two helper functions: square() and product(). The square() function takes a number and returns its square, and the product() function takes two numbers and returns their product.\n",
    "\n",
    "We then define a list of integers called numbers. We use the map() function to square each element of the list by passing the square() function as an argument to map(). We convert the resulting map object to a list using the list() function, and print it to the console.\n",
    "\n",
    "We use the filter() function to remove all odd numbers from the list by passing a lambda function as an argument to filter() that checks whether each number is even. We convert the resulting filter object to a list using the list() function, and print it to the console.\n",
    "\n",
    "Finally, we use the reduce() function to find the product of all even numbers in the list by passing the product() function and the evens list as arguments to reduce(). We print the resulting product to the console.\n",
    "\n",
    "The solution follows Python syntax and conventions by using docstrings to document the functions, using meaningful function and variable names, and following the PEP 8 style guide for formatting the code."
   ]
  },
  {
   "cell_type": "code",
   "execution_count": 1,
   "id": "d06b3be8-d0e2-479d-8644-55c4c7cae66e",
   "metadata": {},
   "outputs": [
    {
     "name": "stdout",
     "output_type": "stream",
     "text": [
      "[1, 4, 9, 16, 25, 36, 49, 64, 81, 100, 121, 144, 169, 196, 225, 256, 289, 324, 361, 400]\n",
      "[2, 4, 6, 8, 10, 12, 14, 16, 18, 20]\n",
      "3715891200\n"
     ]
    }
   ],
   "source": [
    "# Imports\n",
    "from functools import reduce\n",
    "\n",
    "# Functions\n",
    "def square(x):\n",
    "    \"\"\" Squares a number \"\"\"\n",
    "    return x*x\n",
    "\n",
    "def product(a,b):\n",
    "    \"\"\" Returns the product of two numbers \"\"\"\n",
    "    return a*b\n",
    "\n",
    "# Define a list of integers called numbers\n",
    "numbers = range(1,21)\n",
    "\n",
    "# Use map() to square the numbers; convert to list and print\n",
    "numbers_squared = list(map(square, numbers))\n",
    "print(str(numbers_squared))\n",
    "\n",
    "# Use filter() to remove odd numbers; then print the result\n",
    "numbers_even = list(filter(lambda x: x % 2 == 0, numbers))\n",
    "print(str(numbers_even))\n",
    "\n",
    "# Use reduce() to find the product of all even numbers in the list; then print the result\n",
    "numbers_even_product = reduce(product, numbers_even)\n",
    "print(numbers_even_product)"
   ]
  }
 ],
 "metadata": {
  "kernelspec": {
   "display_name": "Python 3 (ipykernel)",
   "language": "python",
   "name": "python3"
  },
  "language_info": {
   "codemirror_mode": {
    "name": "ipython",
    "version": 3
   },
   "file_extension": ".py",
   "mimetype": "text/x-python",
   "name": "python",
   "nbconvert_exporter": "python",
   "pygments_lexer": "ipython3",
   "version": "3.9.13"
  }
 },
 "nbformat": 4,
 "nbformat_minor": 5
}
