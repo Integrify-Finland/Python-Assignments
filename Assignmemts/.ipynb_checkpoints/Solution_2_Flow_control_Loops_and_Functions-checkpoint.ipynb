{
 "cells": [
  {
   "cell_type": "markdown",
   "id": "013a5499-92df-4943-b748-496147791735",
   "metadata": {},
   "source": [
    "### Exercise 2: \n",
    "# Python Basics: Flow Control, Loops, Functions\n",
    "### Student: Ronald van den Berg"
   ]
  },
  {
   "cell_type": "markdown",
   "id": "461a6d88-ea1e-4348-b9b3-82ca8789256b",
   "metadata": {},
   "source": [
    "**Exercise 1.** Conditionals"
   ]
  },
  {
   "cell_type": "code",
   "execution_count": 1,
   "id": "99889601-f5cc-44c0-8d35-324025bd7dd0",
   "metadata": {},
   "outputs": [],
   "source": [
    "if True or False:\n",
    "    pass"
   ]
  },
  {
   "cell_type": "markdown",
   "id": "be34b766-f480-495f-8abe-3b64f91327ca",
   "metadata": {},
   "source": [
    "**Exercise 2.** Get the radius value as input and calculate the area of the circle. If the input is numeric, display the result otherwise display any other message."
   ]
  },
  {
   "cell_type": "code",
   "execution_count": 2,
   "id": "3a18d445-ecdd-4bea-be6f-f38ecacf84fe",
   "metadata": {},
   "outputs": [
    {
     "name": "stdout",
     "output_type": "stream",
     "text": [
      "The area of a circle with a radius of 1 is 3.14\n"
     ]
    }
   ],
   "source": [
    "import math\n",
    "\n",
    "# This function calculates the area of a circle, given its radius - it throws an TypeError if a non-numeric input was given\n",
    "def circle_area(r):\n",
    "    if isinstance(r, (int, float)): \n",
    "        return math.pi*r*r\n",
    "    else:\n",
    "        raise TypeError('Input should be an int or float')\n",
    "\n",
    "# Call the function with a valid input\n",
    "print(f\"The area of a circle with a radius of 1 is {circle_area(1):.2f}\")"
   ]
  },
  {
   "cell_type": "markdown",
   "id": "b9fc38ea-3a46-45b8-aa55-f86cd828f1d0",
   "metadata": {},
   "source": [
    "**Exercise 3.** If the user enters numeric value then asks user to for either perimeter or area calculation and display accordingly"
   ]
  },
  {
   "cell_type": "code",
   "execution_count": 3,
   "id": "8c82cc6e-239d-4e41-9d66-b8cc9ea157b2",
   "metadata": {},
   "outputs": [
    {
     "name": "stdin",
     "output_type": "stream",
     "text": [
      "Enter the radius of the circle\n",
      " 1.5\n",
      "\n",
      "What do you want to calculate?\n",
      "Enter A for area and P for perimeter:\n",
      " P\n"
     ]
    },
    {
     "name": "stdout",
     "output_type": "stream",
     "text": [
      "\n",
      "The perimeter of a circle with a radius of 1.50 is 9.42\n"
     ]
    }
   ],
   "source": [
    "# This function returns the perimeter of a circle, given its radius - it throws an TypeError if a non-numeric input was given\n",
    "def circle_perimeter(r):\n",
    "    if isinstance(r, (int, float)): \n",
    "        return 2*math.pi*r\n",
    "    else:\n",
    "        raise TypeError('Input should be an int or float')    \n",
    "\n",
    "# Get input from user\n",
    "r = input('Enter the radius of the circle\\n')\n",
    "# If numeric, ask which calculation to perform; use try-except instead of the .isnumeric string function, because it seems to return False for float inputs\n",
    "try:\n",
    "    r = float(r)\n",
    "    s = input('\\nWhat do you want to calculate?\\nEnter ''A'' for area and ''P'' for perimeter:\\n')\n",
    "    if s.upper() == 'A':\n",
    "        print(f\"\\nThe area of a circle with a radius of {r:.2f} is {circle_area(r):.2f}\")\n",
    "    elif s.upper() == 'P':\n",
    "        print(f\"\\nThe perimeter of a circle with a radius of {r:.2f} is {circle_perimeter(r):.2f}\")\n",
    "except ValueError:\n",
    "    print(\"\\nThe input must be numeric\")"
   ]
  },
  {
   "cell_type": "markdown",
   "id": "2d5a769d-c942-419c-a5a6-2f73219ad2a7",
   "metadata": {},
   "source": [
    "**Exercise 4.** students_profile=\n",
    "\n",
    "{'Duy': ['Python', 'Database', 'ML'], 'Laxmi': ['Python', 'Database', 'ML'],\n",
    "\n",
    "'Antonio': ['Python', 'Database', 'ML'],'Maria': ['Python', 'Database', 'ML']}\n",
    "\n",
    "Check if there is a student named 'Maria' in students_profile dictionary. If exists remove 'ML' from her course"
   ]
  },
  {
   "cell_type": "code",
   "execution_count": 4,
   "id": "8ea26049-da89-43e8-881c-4d0a854c6a18",
   "metadata": {},
   "outputs": [
    {
     "name": "stdout",
     "output_type": "stream",
     "text": [
      "Result of solution 1:\n",
      "{'Duy': ['Python', 'Database', 'ML'], 'Laxmi': ['Python', 'Database', 'ML'], 'Antonio': ['Python', 'Database', 'ML'], 'Maria': ['Python', 'Database']}\n",
      "Result of solution 2:\n",
      "{'Duy': ['Python', 'Database', 'ML'], 'Laxmi': ['Python', 'Database', 'ML'], 'Antonio': ['Python', 'Database', 'ML'], 'Maria': ['Python', 'Database']}\n"
     ]
    }
   ],
   "source": [
    "import copy\n",
    "\n",
    "# Define the dictionary\n",
    "students_profile = {'Duy': ['Python', 'Database', 'ML'], \n",
    "                    'Laxmi': ['Python', 'Database', 'ML'],\n",
    "                    'Antonio': ['Python', 'Database', 'ML'],\n",
    "                    'Maria': ['Python', 'Database', 'ML']}\n",
    "\n",
    "# Create a copy to use for second solution (the first solution will change the original dictionary)\n",
    "students_profile_copy = copy.deepcopy(students_profile)\n",
    "\n",
    "# Solution 1: use a loop to remove 'ML' from each student named 'Maria'\n",
    "new_dict = {}\n",
    "for key, val in students_profile.items():\n",
    "    if key == 'Maria':\n",
    "        val.remove('ML')        \n",
    "    new_dict[key] = val    \n",
    "print(\"Result of solution 1:\\n\" + str(new_dict))\n",
    "\n",
    "# Solution 2: use list comprehension combined with map to remove 'ML' from each student named 'Maria'\n",
    "new_dict = {key: list(filter(lambda s: s != 'ML', val)) if key == 'Maria' else val for key, val in students_profile_copy.items()}\n",
    "print(\"Result of solution 2:\\n\" + str(new_dict))"
   ]
  },
  {
   "cell_type": "markdown",
   "id": "52b88524-9e56-4727-9546-87d39f3e9b95",
   "metadata": {},
   "source": [
    "**Exercise 1.** Take the input from the user as a substring. If that substring is present in string then display substring is present otherwise substring is not present\n"
   ]
  },
  {
   "cell_type": "code",
   "execution_count": 5,
   "id": "e8186ca5-b7e1-43e9-88e1-7d5cbd17c574",
   "metadata": {},
   "outputs": [
    {
     "name": "stdout",
     "output_type": "stream",
     "text": [
      "string = 'This is the string'\n"
     ]
    },
    {
     "name": "stdin",
     "output_type": "stream",
     "text": [
      "\n",
      "Enter the substring\n",
      " is the\n"
     ]
    },
    {
     "name": "stdout",
     "output_type": "stream",
     "text": [
      "'is the' is a substring of 'This is the string'\n"
     ]
    },
    {
     "name": "stdin",
     "output_type": "stream",
     "text": [
      "\n",
      "Enter the substring\n",
      " not is the\n"
     ]
    },
    {
     "name": "stdout",
     "output_type": "stream",
     "text": [
      "'not is the' is not a substring of 'This is the string'\n"
     ]
    }
   ],
   "source": [
    "# define the string\n",
    "the_string = 'This is the string'\n",
    "print(\"string = '\" + the_string + \"'\")\n",
    "\n",
    "# ask for two inputs and show whether they are substrings of the_string\n",
    "for cnt in range(2):\n",
    "    the_substring = input(\"\\nEnter the substring\\n\")\n",
    "    if the_substring in the_string:\n",
    "        print(\"'\" + the_substring + \"' is a substring of '\" + the_string + \"'\")\n",
    "    else:\n",
    "        print(\"'\" + the_substring + \"' is not a substring of '\" + the_string + \"'\")"
   ]
  },
  {
   "cell_type": "markdown",
   "id": "6f7922a3-d450-4f0d-9969-f98880bf6731",
   "metadata": {},
   "source": [
    "**Exercise 2.** Distance Metrics are important to calculate the similarity between the vectors. They are used in both supervised and unsupervised machine learning problems. Given the points (1,2,3) and (4,5,6), write a python conditional statement to print the distance for the order 1,2,3,4. If the order is 1 then it is L1 norm(Manhattan distance), order 2 is L2 norm(Euclidean distance) and the generalized distance is given by Minkowski equation."
   ]
  },
  {
   "cell_type": "markdown",
   "id": "cc5b6a3b-6c4f-4805-bbd0-8f63d4c3177c",
   "metadata": {},
   "source": [
    "**Some notes on the L-norm and how to use it as a measure of distance between two vectors**\n",
    "\n",
    "The norm of a vector $x$ is defined as $\\|x\\|_p \\equiv \\left(\\sum_{i=1}^n |x_i|^p\\right)^{\\frac{1}{p}}$, where order $p \\geq 0$\n",
    "\n",
    "It is a generalized measure of distance between the vector and the origin. \n",
    "\n",
    "It can also be used as a measure between **two** vectors $v_1$ and $v_2$. \n",
    "\n",
    "To do so, we first subtract one vector from the other, $v_3 = v_2 - v_1$, and we then compute the norm of the resulting vector.\n",
    "\n",
    "(The intuition behind this is that we shift both vectors such that one of them becomes the origin; the norm of the other displaced vector is then the same as the distance between the two original vectors)\n"
   ]
  },
  {
   "cell_type": "code",
   "execution_count": 6,
   "id": "6dac754e-eef6-40d4-9f45-c79862f36307",
   "metadata": {},
   "outputs": [
    {
     "name": "stdout",
     "output_type": "stream",
     "text": [
      "The 1-norm of v2 - v1 = 9.00\n",
      "The 2-norm of v2 - v1 = 5.20\n",
      "The 3-norm of v2 - v1 = 4.33\n",
      "The 4-norm of v2 - v1 = 3.95\n"
     ]
    }
   ],
   "source": [
    "import numpy as np\n",
    "\n",
    "# this function returns the L-norm of two vectors\n",
    "def L_norm(L, v1, v2):\n",
    "    v3 = v2 - v1\n",
    "    the_sum = pow(sum(pow(abs(v3),L)),1/L)\n",
    "    return the_sum\n",
    "\n",
    "# define two vectors\n",
    "v1 = np.array([1, 2, 3])\n",
    "v2 = np.array([4, 5, 6])\n",
    "\n",
    "# not sure what is meant with 'write a python conditional statement to print the distance for the order 1,2,3,4', but here are the L1-, L2-, L3-, and L4-norms:\n",
    "for L in range(1,5):\n",
    "    print(f\"The {L}-norm of v2 - v1 = {L_norm(L,v1,v2):.2f}\")"
   ]
  },
  {
   "cell_type": "markdown",
   "id": "322f6d5e-eaf2-4b5c-bd2a-63875e378e92",
   "metadata": {},
   "source": [
    "**Exercise 3.** Loop:"
   ]
  },
  {
   "cell_type": "code",
   "execution_count": 7,
   "id": "71364c7d-ceb9-4ced-b8a3-27b0128b594f",
   "metadata": {},
   "outputs": [
    {
     "name": "stdout",
     "output_type": "stream",
     "text": [
      "loophole\n"
     ]
    }
   ],
   "source": [
    "for idx in range('loop'.count('oo')):\n",
    "    print('loophole')"
   ]
  },
  {
   "cell_type": "markdown",
   "id": "3c8bbd0c-42ae-48aa-800c-8994356e1f10",
   "metadata": {},
   "source": [
    "**Exercise 4.** Write a multiplication table for any given number using both for and while loop"
   ]
  },
  {
   "cell_type": "code",
   "execution_count": 8,
   "id": "c97f2104-bdc1-4fa5-b7b8-b082db7f118a",
   "metadata": {},
   "outputs": [
    {
     "name": "stdout",
     "output_type": "stream",
     "text": [
      "1 * 7 = 7\n",
      "2 * 7 = 14\n",
      "3 * 7 = 21\n",
      "4 * 7 = 28\n",
      "5 * 7 = 35\n",
      "6 * 7 = 42\n",
      "7 * 7 = 49\n",
      "8 * 7 = 56\n",
      "9 * 7 = 63\n",
      "10 * 7 = 70\n",
      "1 * 8 = 8\n",
      "2 * 8 = 16\n",
      "3 * 8 = 24\n",
      "4 * 8 = 32\n",
      "5 * 8 = 40\n",
      "6 * 8 = 48\n",
      "7 * 8 = 56\n",
      "8 * 8 = 64\n",
      "9 * 8 = 72\n",
      "10 * 8 = 80\n"
     ]
    }
   ],
   "source": [
    "# Print a multiplication table of length n for base number m\n",
    "def multiplication_table(m, n=10):\n",
    "    # use a for-loop when it's an even number; otherwise use a while loop \n",
    "    if m%2 == 0:\n",
    "        for multiplier in range(1, n+1):\n",
    "            print(f\"{multiplier} * {m} = {m*multiplier}\")\n",
    "    else:\n",
    "        multiplier = 1\n",
    "        while multiplier <= n:\n",
    "            print(f\"{multiplier} * {m} = {m*multiplier}\")\n",
    "            multiplier +=1        \n",
    "            \n",
    "multiplication_table(7)    \n",
    "multiplication_table(8)"
   ]
  },
  {
   "cell_type": "markdown",
   "id": "7993a600-a664-4739-877a-7db769771c04",
   "metadata": {},
   "source": [
    "**Exercise 5.** DNA is coded using 4 nitrogen bases with the symbols A,T,G,C. Given the template string dna_template='AATCCGAAAATTCGGGAATTTTCGCGT' , generate the complementary dna template with the mapping\n",
    "\n",
    "mapper={\"T\":\"A\",\"A\":\"T\",\"G\":\"C\",\"C\":\"G\"}"
   ]
  },
  {
   "cell_type": "code",
   "execution_count": 9,
   "id": "c3da0e96-1426-49bb-af14-41bec34e0235",
   "metadata": {},
   "outputs": [
    {
     "name": "stdout",
     "output_type": "stream",
     "text": [
      "TTAGGCTTTTAAGCCCTTAAAAGCGCA\n"
     ]
    }
   ],
   "source": [
    "# define mapper function and the template\n",
    "mapper={\"T\":\"A\",\"A\":\"T\",\"G\":\"C\",\"C\":\"G\"}\n",
    "dna_template = 'AATCCGAAAATTCGGGAATTTTCGCGT'\n",
    "\n",
    "# use list comprehension to map each character in the template to its complement\n",
    "complementary_template = ''.join([mapper[c] for c in dna_template])\n",
    "\n",
    "# print the result\n",
    "print(complementary_template)"
   ]
  },
  {
   "cell_type": "markdown",
   "id": "ad68891b-36ae-459f-9355-6fc1ccdec78f",
   "metadata": {},
   "source": [
    "**Exercise 1.** Generate the list f_series=x=[0,1,1,2,3,5,8,13,21,34,55,89,144]. Looks Familiar? This is Fibonacci series where x[0]=0,x[1]=1, and x[n]=x[n-1]+x[n-2] for n>1"
   ]
  },
  {
   "cell_type": "code",
   "execution_count": 10,
   "id": "5218f204-b78f-439f-b1a7-6756efc9501b",
   "metadata": {},
   "outputs": [
    {
     "name": "stdout",
     "output_type": "stream",
     "text": [
      "[0, 1, 1, 2, 3, 5, 8, 13, 21, 34, 55, 89, 144]\n",
      "[0, 1, 1, 2, 3, 5, 8, 13, 21, 34, 55, 89, 144]\n"
     ]
    }
   ],
   "source": [
    "# solution 1: generate the specified list by hard-coding it\n",
    "f_series = x = [0,1,1,2,3,5,8,13,21,34,55,89,144]\n",
    "print(f_series)\n",
    "\n",
    "# solution 2: generate the list by evaluating the fibonacci function for 0 to 12 and putting the results in a list\n",
    "def fib(n):\n",
    "    if n<=1:\n",
    "        return n\n",
    "    else:\n",
    "        return fib(n-2) + fib(n-1)\n",
    "f_series = x = [fib(n) for n in range(0,13)]\n",
    "print(f_series)"
   ]
  },
  {
   "cell_type": "markdown",
   "id": "98dd8340-75a3-4ae9-9381-8b4cff8284de",
   "metadata": {},
   "source": [
    "**Exercise 2.** Generate a list of n numbers of prime numbers"
   ]
  },
  {
   "cell_type": "code",
   "execution_count": 11,
   "id": "83487282-0192-479f-a9ca-7b36eb47dece",
   "metadata": {},
   "outputs": [
    {
     "name": "stdout",
     "output_type": "stream",
     "text": [
      "The first 20 prime numbers are: [2, 3, 5, 7, 11, 13, 17, 19, 23, 29, 31, 37, 41, 43, 47, 53, 59, 61, 67, 71]\n"
     ]
    }
   ],
   "source": [
    "# I assume the exercise is to generate a list of the *first* n prime numbers\n",
    "\n",
    "# This function determines if a given number is prime\n",
    "def is_prime(n):\n",
    "    # case 1: n < 1 --> False by definition\n",
    "    if n <= 1: \n",
    "        return False\n",
    "    # case 2: n >= 1 --> check if prime\n",
    "    divisor = 2\n",
    "    while divisor*divisor <= n:\n",
    "        if n%divisor == 0:\n",
    "            return False\n",
    "        divisor += 1\n",
    "    return True\n",
    "\n",
    "# Return a list with the first n prime numbers\n",
    "def first_n_primes(n):\n",
    "    the_list = []\n",
    "    x = 1\n",
    "    while len(the_list)<n:\n",
    "        if is_prime(x):\n",
    "            the_list.append(x)\n",
    "        x += 1\n",
    "    return the_list\n",
    "\n",
    "# Print the first 20 prime numbers as a test:\n",
    "print(\"The first 20 prime numbers are: \" + str(first_n_primes(20)))    "
   ]
  },
  {
   "cell_type": "markdown",
   "id": "8ed51347-fe81-44c8-b7aa-e5990cb5dac2",
   "metadata": {},
   "source": [
    "**Exercirse 3.** Perform the minmax normalization to the range [0,1] for the data1 and minmax normalization to the range [-1,1] for the data2\n",
    "\n",
    "data1=[1,17,12,15,30,60,48,51,89,92,54,8], use\n",
    "\n",
    "X_scaled = (X - X_min) / (X_max - X_min)\n",
    "\n",
    "data2=[-13,2,-1,7,22,-32,5,15,-9,13,3,-2], use\n",
    "\n",
    "X_scaled = 2 * (X - X_min) / (X_max - X_min) - 1\n",
    "\n",
    "The general formula for scaling in the range [a,b] is\n",
    "\n",
    "X_scaled = (b-a) * (X - X_min) / (X_max - X_min) + a"
   ]
  },
  {
   "cell_type": "code",
   "execution_count": 12,
   "id": "2a4ceda1-2d20-4aaf-9cb0-638e75931dab",
   "metadata": {},
   "outputs": [
    {
     "name": "stdout",
     "output_type": "stream",
     "text": [
      "data1 normalized to [0, 1] = [0.0, 0.18, 0.12, 0.15, 0.32, 0.65, 0.52, 0.55, 0.97, 1.0, 0.58, 0.08]\n",
      "data2 normalized to [-1, 1] = [-0.3, 0.26, 0.15, 0.44, 1.0, -1.0, 0.37, 0.74, -0.15, 0.67, 0.3, 0.11]\n"
     ]
    }
   ],
   "source": [
    "# This function uses a linear transformation to map a given list of data to [a, b], where [a, b] is specified as input parameter the_range\n",
    "def normalize(the_list, the_range):\n",
    "    x = np.array(the_list)\n",
    "    return the_range[0] + (the_range[1] - the_range[0]) * (x - min(x)) / (max(x) - min(x))\n",
    "\n",
    "# Normalize a list to [0, 1]\n",
    "data1=[1,17,12,15,30,60,48,51,89,92,54,8]\n",
    "normalized_data = normalize(data1, [0, 1])\n",
    "print('data1 normalized to [0, 1] = ' + str([round(d, 2) for d in normalized_data]))\n",
    "\n",
    "# Normalize a list to [-1, 1]\n",
    "data2=[-13,2,-1,7,22,-32,5,15,-9,13,3,-2]\n",
    "normalized_data = normalize(data2, [-1, 1])\n",
    "print('data2 normalized to [-1, 1] = ' + str([round(d, 2) for d in normalized_data]))"
   ]
  },
  {
   "cell_type": "markdown",
   "id": "e8f1f09f-9163-4529-bd27-07d9405b2308",
   "metadata": {},
   "source": [
    "**Exercise 1.** Understand how sorting algorithms work(bubble,selection,insertion). Implement them of your own. Also compare time complexities."
   ]
  },
  {
   "cell_type": "code",
   "execution_count": 13,
   "id": "62e073b1-e426-49bd-af34-86ffc94717ef",
   "metadata": {},
   "outputs": [
    {
     "name": "stdout",
     "output_type": "stream",
     "text": [
      "Mean execution times for sorting 10 lists of 1000 elements:\n",
      "\n",
      " bubble_sort    = 134.378 +- 1.004 ms\n",
      " selection_sort = 6.252 +- 0.190 ms\n",
      " insertion_sort = 4.002 +- 0.187 ms\n"
     ]
    }
   ],
   "source": [
    "import random\n",
    "import bisect\n",
    "import time\n",
    "\n",
    "# use the bubble sort algorithm to sort the given list\n",
    "def bubble_sort(the_list):\n",
    "    \"\"\"\n",
    "    Sorts the given list in ascending order using the bubble sort algorithm.\n",
    "\n",
    "    Args:\n",
    "        the_list (list): the list to be sorted\n",
    "\n",
    "    Returns:\n",
    "        list: the sorted list\n",
    "\n",
    "    Example:\n",
    "        >>> bubble_sort([3, 1, 4, 1, 5, 9, 2, 6, 5, 3, 5])\n",
    "        [1, 1, 2, 3, 3, 4, 5, 5, 5, 6, 9]\n",
    "    \"\"\"    \n",
    "    at_least_one_swap = True    \n",
    "    while at_least_one_swap:\n",
    "        at_least_one_swap = False\n",
    "        for idx in range(1, len(the_list)):\n",
    "            if the_list[idx-1] > the_list[idx]:\n",
    "                tmp = the_list[idx]\n",
    "                the_list[idx] = the_list[idx - 1]\n",
    "                the_list[idx - 1]= tmp\n",
    "                at_least_one_swap = True\n",
    "    return the_list\n",
    "\n",
    "# use the selection sort algorithm to sort the given list\n",
    "def selection_sort(unsorted_list):\n",
    "    \"\"\"\n",
    "    Sorts the given list in ascending order using the selection sort algorithm.\n",
    "\n",
    "    Args:\n",
    "        unsorted_list (list): the list to be sorted\n",
    "\n",
    "    Returns:\n",
    "        list: the sorted list\n",
    "\n",
    "    Example:\n",
    "        >>> selection_sort([3, 1, 4, 1, 5, 9, 2, 6, 5, 3, 5])\n",
    "        [1, 1, 2, 3, 3, 4, 5, 5, 5, 6, 9]\n",
    "    \"\"\"        \n",
    "    sorted_list = []\n",
    "    while len(unsorted_list) > 0:\n",
    "        # find index of smallest value\n",
    "        idx = unsorted_list.index(min(unsorted_list))\n",
    "        # add to sorted list\n",
    "        sorted_list.append(unsorted_list[idx])\n",
    "        # remove from unsorted list\n",
    "        unsorted_list.pop(idx)\n",
    "    return sorted_list\n",
    "\n",
    "# use the insertion sort algorithm to sort the given list\n",
    "def insertion_sort(unsorted_list):\n",
    "    \"\"\"\n",
    "    Sorts the given list in ascending order using the insertion sort algorithm.\n",
    "\n",
    "    Args:\n",
    "        unsorted_list (list): the list to be sorted\n",
    "\n",
    "    Returns:\n",
    "        list: the sorted list\n",
    "\n",
    "    Example:\n",
    "        >>> selection_sort([3, 1, 4, 1, 5, 9, 2, 6, 5, 3, 5])\n",
    "        [1, 1, 2, 3, 3, 4, 5, 5, 5, 6, 9]\n",
    "    \"\"\"       \n",
    "    # initialize the sorted list\n",
    "    sorted_list = [unsorted_list[0]]\n",
    "    unsorted_list.pop(0)\n",
    "    # now loop over the remaining items and insert each of them in the sorted list\n",
    "    while len(unsorted_list) > 0:\n",
    "        # find where to insert the element\n",
    "        idx = bisect.bisect_left(sorted_list, unsorted_list[0])\n",
    "        # insert it\n",
    "        if idx == len(sorted_list):\n",
    "            sorted_list.append(unsorted_list[0])\n",
    "        else:\n",
    "            sorted_list = sorted_list[:idx] + [unsorted_list[0]] + sorted_list[idx:]\n",
    "        unsorted_list.pop(0)\n",
    "    return sorted_list\n",
    "\n",
    "# do a speed test on a list with 1000 elements\n",
    "n = 1000\n",
    "runs = 10\n",
    "times = [[],[],[]]\n",
    "for idx in range(0, runs):\n",
    "    # Generate a list of n random integers between 0 and 1 million\n",
    "    original_list = [random.randint(0, 1000000) for _ in range(n)]\n",
    "\n",
    "    # Time the three algorithms on copies of the list:\n",
    "    list_copy1 = list(original_list)\n",
    "    t0 = time.time()\n",
    "    sorted_list1 = bubble_sort(list_copy1)\n",
    "    times[0].append((time.time() - t0)*1000)\n",
    "    \n",
    "    list_copy2 = list(original_list)\n",
    "    t0 = time.time()\n",
    "    sorted_list2 = selection_sort(list_copy2)\n",
    "    times[1].append((time.time() - t0)*1000)\n",
    "\n",
    "    list_copy3 = list(original_list)\n",
    "    t0 = time.time()\n",
    "    sorted_list3 = insertion_sort(list_copy3)\n",
    "    times[2].append((time.time() - t0)*1000)\n",
    "    \n",
    "    # Check if the results are identical -- if not, there must be a bug in at least one of the algorithms\n",
    "    if not sorted_list1 == sorted_list2 == sorted_list3:\n",
    "        print(\"Warning: sorted lists are not identical between the algorithms!\")\n",
    "\n",
    "print(f\"Mean execution times for sorting {runs} lists of {n} elements:\\n\")\n",
    "print(f\" bubble_sort    = {np.mean(times[0]):.3f} +- {np.std(times[0])/np.sqrt(runs):.3f} ms\")\n",
    "print(f\" selection_sort = {np.mean(times[1]):.3f} +- {np.std(times[1])/np.sqrt(runs):.3f} ms\")\n",
    "print(f\" insertion_sort = {np.mean(times[2]):.3f} +- {np.std(times[2])/np.sqrt(runs):.3f} ms\")\n",
    "      "
   ]
  },
  {
   "cell_type": "markdown",
   "id": "6965da45-35ea-4380-bc02-55e0a70608d4",
   "metadata": {},
   "source": [
    "**Exercise 2.** Functions: For each of the functions you create, write the docstrings as well. Docstring is important to get information about a particular function. Docstring is string literals that should be present right after function definition within triple quotations. One can get information about a function as an example by running myfunction .__doc__"
   ]
  },
  {
   "cell_type": "code",
   "execution_count": 14,
   "id": "2daffc5b-30bd-4dc9-8136-cdc938ea4224",
   "metadata": {},
   "outputs": [
    {
     "name": "stdout",
     "output_type": "stream",
     "text": [
      "Help on function bubble_sort in module __main__:\n",
      "\n",
      "bubble_sort(the_list)\n",
      "    Sorts the given list in ascending order using the bubble sort algorithm.\n",
      "    \n",
      "    Args:\n",
      "        the_list (list): the list to be sorted\n",
      "    \n",
      "    Returns:\n",
      "        list: the sorted list\n",
      "    \n",
      "    Example:\n",
      "        >>> bubble_sort([3, 1, 4, 1, 5, 9, 2, 6, 5, 3, 5])\n",
      "        [1, 1, 2, 3, 3, 4, 5, 5, 5, 6, 9]\n",
      "\n"
     ]
    }
   ],
   "source": [
    "help(bubble_sort)"
   ]
  },
  {
   "cell_type": "markdown",
   "id": "c7bb035e-f5f1-4f23-8f34-77193b377b4d",
   "metadata": {},
   "source": [
    "**Exercise 3.** Write a function factorial of a given number\n"
   ]
  },
  {
   "cell_type": "code",
   "execution_count": 15,
   "id": "4d7a650f-6723-4d67-bfb3-082a989eabef",
   "metadata": {},
   "outputs": [
    {
     "data": {
      "text/plain": [
       "720"
      ]
     },
     "execution_count": 15,
     "metadata": {},
     "output_type": "execute_result"
    }
   ],
   "source": [
    "def factorial(n):\n",
    "    \"\"\"\n",
    "    Returns the factorial of the specified integer\n",
    "\n",
    "    Args:\n",
    "        n (int): the integer for which the factorial has to be computed; should be >= 0\n",
    "\n",
    "    Returns:\n",
    "        int: the factorial of n\n",
    "\n",
    "    Example:\n",
    "        >>> factorial(6)\n",
    "        720\n",
    "    \"\"\"\n",
    "    if n < 0:\n",
    "        raise ValueError('invalid input')\n",
    "    elif n == 0:\n",
    "        return 1\n",
    "    else:\n",
    "        return n * factorial(n-1)\n",
    "\n",
    "factorial(6)"
   ]
  },
  {
   "cell_type": "markdown",
   "id": "5a9f9fc0-105a-49f8-ad8b-f7c3e7843db5",
   "metadata": {},
   "source": [
    "**Exercise 4.** Write a function that takes two arguments: activation_function name and value that returns the output of specific activation_function. Implement for sigmoid, binary step function, relu, leaky rely, tanh.\n",
    "\n",
    "Eg : activation_function('sigmoid',0) should return 0.5"
   ]
  },
  {
   "cell_type": "code",
   "execution_count": 16,
   "id": "fa70477a-3f38-481d-baf0-05f4dcead2f1",
   "metadata": {},
   "outputs": [
    {
     "name": "stdout",
     "output_type": "stream",
     "text": [
      "sigmoid(.5) = 0.62\n",
      "binary_step(.5) = 1.00\n",
      "relu(.5) = 0.50\n",
      "leaky_relu(.5) = 0.50\n",
      "tanh(.5) = 0.46\n"
     ]
    }
   ],
   "source": [
    "def generic_act(func_name, val):\n",
    "    \"\"\"\n",
    "    Returns the activation function result for the given activation function and input value\n",
    "\n",
    "    Args:\n",
    "        func_name (string): the function to use ('sigmoid', 'binary_step', 'relu', 'leaky_relu', or 'tanh')\n",
    "        val (float): the input value\n",
    "    \n",
    "    Returns:\n",
    "        float: the activation function result\n",
    "\n",
    "    Examples:\n",
    "        >>> generic_act('sigmoid', 0.5)\n",
    "        0.62\n",
    "        >>> generic_act('tanh', 0.5)\n",
    "        0.46\n",
    "    \"\"\"\n",
    "    if func_name.lower() == 'sigmoid':\n",
    "        return 1 / (1 + math.exp(-val))\n",
    "    elif func_name.lower() == 'binary_step':\n",
    "        return 1 if val > 0 else 0\n",
    "    elif func_name.lower() == 'relu':\n",
    "        return max(0, val)\n",
    "    elif func_name.lower() == 'leaky_relu':\n",
    "        return max(0.01*val, val)\n",
    "    elif func_name.lower() == 'tanh':\n",
    "        return math.tanh(val)\n",
    "    else:\n",
    "        raise ValueError('Invalid activation function name')\n",
    "    \n",
    "print(f\"sigmoid(.5) = {generic_act('sigmoid', .5):.2f}\")\n",
    "print(f\"binary_step(.5) = {generic_act('binary_step', .5):.2f}\")\n",
    "print(f\"relu(.5) = {generic_act('relu', .5):.2f}\")\n",
    "print(f\"leaky_relu(.5) = {generic_act('leaky_relu', .5):.2f}\")\n",
    "print(f\"tanh(.5) = {generic_act('tanh', .5):.2f}\")"
   ]
  },
  {
   "cell_type": "markdown",
   "id": "b0254a35-3517-49cd-a29f-8db2513eae44",
   "metadata": {},
   "source": [
    "**Exercise 1.** Write a function that returns permutation. Permutation is the number of ways to arrange 'r' objects form a set of 'n' objects where order matters and the formula is\n",
    "\n",
    "P(n, r) = n! / (n - r)!. Use the factorial function from above exercise."
   ]
  },
  {
   "cell_type": "code",
   "execution_count": 17,
   "id": "05a00893-8987-4658-8ea6-595fe5b8fd1e",
   "metadata": {},
   "outputs": [
    {
     "name": "stdout",
     "output_type": "stream",
     "text": [
      "permutation_count(10,5) = 30240.0\n"
     ]
    }
   ],
   "source": [
    "def permutation_count(n,r):\n",
    "    \"\"\"\n",
    "    Returns the number of ways that r elements from a set of n elements can be arranged\n",
    "\n",
    "    Args:\n",
    "        n (int): total number of elements in the set\n",
    "        r (int): number of chosen elements\n",
    "    \n",
    "    Returns:\n",
    "        int: the number of possible permutations\n",
    "\n",
    "    Example:\n",
    "        >>> permutation_count(10,5)\n",
    "        30240\n",
    "    \"\"\"    \n",
    "    return factorial(n) / factorial(n - r)\n",
    "\n",
    "print(f\"permutation_count(10,5) = {permutation_count(10,5)}\")"
   ]
  },
  {
   "cell_type": "markdown",
   "id": "26380c87-5f59-4b6e-b93e-c6a5ba7f9a31",
   "metadata": {},
   "source": [
    "**Exercise 1.** Write a function that takes three arguments. First arguments should determine whether to return permutation or combination or both. Make the first argument optional and default is both if nothing is passed while calling the function.The second argument is n, which is optional and default is 10. Finally the third argument is r, which is also optional and default is 5."
   ]
  },
  {
   "cell_type": "code",
   "execution_count": 18,
   "id": "bee4d3f8-af7f-4601-b8ab-58ac4c301193",
   "metadata": {},
   "outputs": [
    {
     "name": "stdout",
     "output_type": "stream",
     "text": [
      "perm_comb_count('p',10,5) = 30240.0\n",
      "perm_comb_count('c',10,5) = 252.0\n",
      "perm_comb_count('b',10,5) = (30240.0, 252.0)\n"
     ]
    }
   ],
   "source": [
    "def perm_comb_count(return_type = 'b', n = 10, r = 5):\n",
    "    \"\"\"\n",
    "    Returns the number of ways that r elements from a set of n elements can be arranged\n",
    "\n",
    "    Args:\n",
    "        return_type (string) : 'p' = return number of permutations (order is relevant)\n",
    "                               'c' = return number of combinations (order is ignored)\n",
    "                               'b' = return both                              \n",
    "                               default: 'b'\n",
    "\n",
    "        n (int)              : total number of elements\n",
    "                               default: 10\n",
    "                               \n",
    "        r (int)              : number of chosen elements\n",
    "                               default: 5\n",
    "    \n",
    "    Returns:\n",
    "        int      : the number of possible permutations or combinations (when called with return_type == 'p' or 'c')\n",
    "        \n",
    "        or\n",
    "        \n",
    "        (int,int): the number of possible permutations and the number of possible combinations (when called with return_type == 'b')\n",
    "\n",
    "    Example:\n",
    "        >>> perm_comb_count('p',10,5)\n",
    "        30240\n",
    "    \"\"\"    \n",
    "    if return_type == 'p':\n",
    "        return factorial(n) / factorial(n - r)\n",
    "    elif return_type == 'c':\n",
    "        return factorial(n) / factorial(r) / factorial(n - r)\n",
    "    elif return_type == 'b':\n",
    "        return (factorial(n) / factorial(n - r), factorial(n) / factorial(r) / factorial(n - r))\n",
    "    else:\n",
    "        raise ValueError('Invalid input')\n",
    "    \n",
    "\n",
    "print(f\"perm_comb_count('p',10,5) = {perm_comb_count('p',10,5)}\")\n",
    "print(f\"perm_comb_count('c',10,5) = {perm_comb_count('c',10,5)}\")\n",
    "print(f\"perm_comb_count('b',10,5) = {perm_comb_count('b',10,5)}\")"
   ]
  },
  {
   "cell_type": "markdown",
   "id": "1a429530-864e-4350-a09c-6cd0ca5b27fb",
   "metadata": {},
   "source": [
    "**Exercise 2.** Implement a function that takes any number of positional and keyword arguments."
   ]
  },
  {
   "cell_type": "code",
   "execution_count": 19,
   "id": "b2366300-165e-46fb-9f1d-9b3968360726",
   "metadata": {},
   "outputs": [
    {
     "name": "stdout",
     "output_type": "stream",
     "text": [
      "Positional arguments:\n",
      "1\n",
      "2\n",
      "3\n",
      "\n",
      "Keyword arguments:\n",
      "so: 4\n",
      "much: 5\n",
      "kwargs: 6\n"
     ]
    }
   ],
   "source": [
    "def function_with_much_args_and_so_much_kwargs(*args, **kwargs):\n",
    "    print(\"Positional arguments:\")\n",
    "    for arg in args:\n",
    "        print(arg)\n",
    "    \n",
    "    print(\"\\nKeyword arguments:\")\n",
    "    for key, value in kwargs.items():\n",
    "        print(f\"{key}: {value}\")\n",
    "\n",
    "# test\n",
    "function_with_much_args_and_so_much_kwargs(1, 2, 3, so=4, much=5, kwargs=6)"
   ]
  },
  {
   "cell_type": "markdown",
   "id": "71dc4f4c-2740-4ca4-bf92-7da145e2ed0b",
   "metadata": {},
   "source": [
    "**Exercise 3.** Understand scope of variables: LEGB Rule 1. Local to the function eg. variable defined in the function 2. Enclosing or nonlocal eg. variables defined in enclosing function in nested function 3. Global eg. variables defined within main program or module 4. Built-in eg. Python keywords\n",
    "\n",
    "Note: Names of global and built-in can be accessed from anywhere\n",
    "\n",
    "Create an example of each case above to illustrate."
   ]
  },
  {
   "cell_type": "code",
   "execution_count": 20,
   "id": "d06b3be8-d0e2-479d-8644-55c4c7cae66e",
   "metadata": {},
   "outputs": [
    {
     "name": "stdout",
     "output_type": "stream",
     "text": [
      "Local variable the_local: hi, i am local\n",
      "Nested local variable the_local: hi, i am nested local!\n",
      "Global variable the_global: hi, i am global\n"
     ]
    }
   ],
   "source": [
    "# define a global variable\n",
    "the_global = 'hi, i am global'\n",
    "\n",
    "# define a function with a local variable and a nested function with its own local variable\n",
    "def my_func():\n",
    "    the_local = 'hi, i am local'\n",
    "    print('Local variable the_local: ' + the_local)\n",
    "    \n",
    "    def my_nested_func():\n",
    "        nonlocal the_local\n",
    "        the_local = 'hi, i am nested local!'\n",
    "    \n",
    "    my_nested_func()\n",
    "    print('Nested local variable the_local: ' + the_local)\n",
    "\n",
    "my_func()\n",
    "print('Global variable the_global: ' + the_global)\n"
   ]
  }
 ],
 "metadata": {
  "kernelspec": {
   "display_name": "Python 3 (ipykernel)",
   "language": "python",
   "name": "python3"
  },
  "language_info": {
   "codemirror_mode": {
    "name": "ipython",
    "version": 3
   },
   "file_extension": ".py",
   "mimetype": "text/x-python",
   "name": "python",
   "nbconvert_exporter": "python",
   "pygments_lexer": "ipython3",
   "version": "3.9.13"
  }
 },
 "nbformat": 4,
 "nbformat_minor": 5
}
