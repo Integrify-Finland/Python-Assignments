{
 "cells": [
  {
   "cell_type": "markdown",
   "id": "3a35d213",
   "metadata": {},
   "source": [
    "## 1. Iterator and generator: (For advanced learners, read from the links ) a. As you have already known, the iterables objects are the stream of data like string,list, dict, set etc which can be looped over or iterated. Since you have also known that you can convert an iterable into an iterator using iter method and iterators have next method, it's time to play around with the builtin itertools module."
   ]
  },
  {
   "cell_type": "markdown",
   "id": "f45ea3d8",
   "metadata": {},
   "source": [
    "### i Create a list apply iter method to it and run next method until you get StopIteration error"
   ]
  },
  {
   "cell_type": "code",
   "execution_count": null,
   "id": "5b9dc862",
   "metadata": {},
   "outputs": [],
   "source": [
    "# going until StopIteration error\n",
    "\n",
    "arr = [1,2,3,4,5]\n",
    "arr = iter(arr)\n",
    "\n",
    "while True:\n",
    "    next(arr)"
   ]
  },
  {
   "cell_type": "markdown",
   "id": "400143e4",
   "metadata": {},
   "source": [
    "### ii Import itertools in your notebook and create infinite iterators using count,cycle and and repeat methods. Refer https://docs.python.org/3/library/itertools.html"
   ]
  },
  {
   "cell_type": "code",
   "execution_count": null,
   "id": "2bcaa488",
   "metadata": {},
   "outputs": [],
   "source": [
    "import itertools\n",
    "\n",
    "\n",
    "# use count()\n",
    "\n",
    "start = 1\n",
    "step = 2\n",
    "count = itertools.count(start, step)\n",
    "for i in range(30):\n",
    "    print(next(count), end = ' ')\n",
    "\n",
    "# use cycle()\n",
    "    \n",
    "print('\\n')    \n",
    "sample = 'ABCD'\n",
    "cycle = itertools.cycle(sample)\n",
    "for i in range(30):\n",
    "    print(next(cycle), end = ' ')\n",
    "    \n",
    "# use repeat()\n",
    "\n",
    "print('\\n')\n",
    "sample = 'aB'\n",
    "n = 7\n",
    "repeat = itertools.repeat(sample, n)\n",
    "for i in range(30):\n",
    "    print(next(repeat), end = ' ')\n"
   ]
  },
  {
   "cell_type": "markdown",
   "id": "a1e49819",
   "metadata": {},
   "source": [
    "### iii Use methods from I terators terminating on the shortest input sequence"
   ]
  },
  {
   "cell_type": "code",
   "execution_count": null,
   "id": "306403b9",
   "metadata": {},
   "outputs": [],
   "source": [
    "from random import choices\n",
    "\n",
    "# use accumulate() over finite list\n",
    "\n",
    "lst = [1, 1, 2, 4, 8, 16, 32, 64, 128, 256]\n",
    "accum = itertools.accumulate(lst)\n",
    "print(list(accum), '\\n')\n",
    "\n",
    "# use accumulate() over infinite iterator\n",
    "\n",
    "count = itertools.count(1, 2)\n",
    "accum = itertools.accumulate(count)\n",
    "for i in range(20):\n",
    "    print(next(accum), end = ' ')\n",
    "print('\\n')\n",
    "\n",
    "# use filterfalse() to exclude numbers\n",
    "# which is divided by 5 with remainder 2 \n",
    "# from infinite iterator\n",
    "count = itertools.count(0, 1)\n",
    "filter_5rem2 = itertools.filterfalse(lambda x: not x % 5 - 2, count)\n",
    "for i in range(30):\n",
    "    print(next(filter_5rem2), end = ' ')\n",
    "print('\\n')\n",
    "\n",
    "# use compress():\n",
    "alphabet = 'abcdefghijklmnoprstquvwxyz'\n",
    "selectors = choices([0, 1], k=26)\n",
    "print(list(itertools.compress(alphabet, selectors)))"
   ]
  },
  {
   "cell_type": "markdown",
   "id": "dc1784ff",
   "metadata": {},
   "source": [
    "### iv User methods from Combinatoric iterator b. Create an infinite generator that generates the fibonacci series"
   ]
  },
  {
   "cell_type": "code",
   "execution_count": null,
   "id": "e07843ea",
   "metadata": {},
   "outputs": [],
   "source": [
    "# use product() function\n",
    "\n",
    "dice_2times = itertools.product('123456', repeat=2)\n",
    "for item in dice_2times:\n",
    "    for letter in item:\n",
    "        print(letter, end='')\n",
    "    print(end = ' ')\n",
    "print('\\n')\n",
    "\n",
    "# use permutations()\n",
    "\n",
    "permutation = itertools.permutations('ËКЛМН', 2)\n",
    "for item in permutation:\n",
    "    for letter in item:\n",
    "        print(letter, end='')\n",
    "    print(end = ' ')\n",
    "print('\\n')    \n",
    "\n",
    "# use combinations()\n",
    "\n",
    "combination = itertools.combinations('ËКЛМН', 2)\n",
    "for item in combination:\n",
    "    for letter in item:\n",
    "        print(letter, end='')\n",
    "    print(end = ' ')\n",
    "print('\\n')\n",
    "\n",
    "# use combinations_with_replacement()\n",
    "\n",
    "dice2_possible_summations = itertools.combinations_with_replacement('123456', 2)\n",
    "for item in dice2_possible_summations:\n",
    "    for letter in item:\n",
    "        print(letter, end='')\n",
    "    print(end = ' ')\n"
   ]
  },
  {
   "cell_type": "code",
   "execution_count": null,
   "id": "c4f40c99",
   "metadata": {},
   "outputs": [],
   "source": [
    "# My own fibonacci generator\n",
    "\n",
    "def fibonacci_generator():\n",
    "    a = 0\n",
    "    b = 1\n",
    "    while True:\n",
    "        yield b\n",
    "        a,b= b,a+b\n",
    "        \n",
    "my_fib = fibonacci_generator()\n",
    "\n",
    "for i in range(25):\n",
    "    print(next(my_fib), end = ' ')"
   ]
  },
  {
   "cell_type": "markdown",
   "id": "9841f228",
   "metadata": {},
   "source": [
    "## a. Regular expression:"
   ]
  },
  {
   "cell_type": "markdown",
   "id": "89ae2fe8",
   "metadata": {},
   "source": [
    "### Read and practices more on regex https://www.w3resource.com/python-exercises/re/"
   ]
  },
  {
   "cell_type": "code",
   "execution_count": 20,
   "id": "1da2c07b",
   "metadata": {},
   "outputs": [
    {
     "name": "stdout",
     "output_type": "stream",
     "text": [
      "['that', 'they', 'thank', 'They', 'the', 'thing', 'they', 'the', 'though', 'thin', 'the', 'the', 'The', 'their', 'there']\n"
     ]
    }
   ],
   "source": [
    "import re\n",
    "\n",
    "text = \"\"\"Mr and Mrs Dursley, of number four, Privet Drive, \\\n",
    "were proud to say that they were perfectly normal, thank you very much. \\\n",
    "They were the last people you’d expect to be involved in anything strange \\\n",
    "or mysterious, because they just didn’t hold with such nonsense.\n",
    "Mr Dursley was the director of a firm called Grunnings, which made drills. \\\n",
    "He was a big, beefy man with hardly any neck, although he did have a very \\\n",
    "large moustache. Mrs Dursley was thin and blonde and had nearly twice \\\n",
    "the usual amount of neck, which came in very useful as she spent so much \\\n",
    "of her time craning over garden fences, spying on the neighbours. \\\n",
    "The Dursleys had a small son called Dudley and in their opinion \\\n",
    "there was no finer boy anywhere.\"\"\"\n",
    "\n",
    "begin_th = re.findall('[T,t]h[a-z]+', text)\n",
    "print(begin_th)\n",
    "\n",
    "\n"
   ]
  },
  {
   "cell_type": "code",
   "execution_count": 4,
   "id": "dcfabe65",
   "metadata": {
    "scrolled": true
   },
   "outputs": [
    {
     "name": "stdout",
     "output_type": "stream",
     "text": [
      "Found a match!\n",
      "Found a match!\n",
      "Found a match!\n",
      "Not matched!\n",
      "Not matched!\n"
     ]
    }
   ],
   "source": [
    "import re\n",
    "\n",
    "def text_match(text):\n",
    "    patterns = '^m(o*.)$'\n",
    "    if re.search(patterns,  text):\n",
    "        return 'Found a match!'\n",
    "    else:\n",
    "        return('Not matched!')\n",
    "print(text_match(\"moon\"))\n",
    "print(text_match(\"mo\"))\n",
    "print(text_match(\"mn\"))\n",
    "print(text_match(\"moo-moo\"))\n",
    "print(text_match(\"mno\"))"
   ]
  },
  {
   "cell_type": "code",
   "execution_count": 22,
   "id": "b8e7d95d",
   "metadata": {},
   "outputs": [
    {
     "name": "stdout",
     "output_type": "stream",
     "text": [
      "Found a match!\n",
      "Not matched!\n",
      "Not matched!\n",
      "Not matched!\n"
     ]
    }
   ],
   "source": [
    "def text_match(text):\n",
    "    patterns = '^[a-z]+_[a-z]+$'\n",
    "    if re.search(patterns,  text):\n",
    "        return 'Found a match!'\n",
    "    else:\n",
    "        return('Not matched!')\n",
    "\n",
    "print(text_match(\"var_main\"))\n",
    "print(text_match(\"not_a_match\"))\n",
    "print(text_match(\"camel_Case\"))\n",
    "print(text_match(\"Case_camel\"))"
   ]
  },
  {
   "cell_type": "code",
   "execution_count": 30,
   "id": "243d37b4",
   "metadata": {},
   "outputs": [
    {
     "name": "stdout",
     "output_type": "stream",
     "text": [
      "Not matched!\n",
      "Found a match!\n",
      "Not matched!\n"
     ]
    }
   ],
   "source": [
    "def text_match(text):\n",
    "    patterns = '[T,t].*?n$'\n",
    "    if re.search(patterns,  text):\n",
    "        return 'Found a match!'\n",
    "    else:\n",
    "        return('Not matched!')\n",
    "\n",
    "print(text_match(text))\n",
    "print(text_match('Thick and thin'))\n",
    "print(text_match('Thinking'))"
   ]
  },
  {
   "cell_type": "markdown",
   "id": "25373061",
   "metadata": {},
   "source": [
    "## b. Comprehension"
   ]
  },
  {
   "cell_type": "markdown",
   "id": "78783057",
   "metadata": {},
   "source": [
    "### i, ii Write a multiplication table of any given number in a list using list comprehension"
   ]
  },
  {
   "cell_type": "code",
   "execution_count": null,
   "id": "d1bce419",
   "metadata": {},
   "outputs": [],
   "source": [
    "# given number 'n'\n",
    "\n",
    "n = 8\n",
    "n_row = [m * n for m in range(1, 10)]\n",
    "print(n_row)\n"
   ]
  },
  {
   "cell_type": "markdown",
   "id": "cc4d9ebd",
   "metadata": {},
   "source": [
    "### iii Find all numbers from 1 to 500 that has 5 in them"
   ]
  },
  {
   "cell_type": "code",
   "execution_count": null,
   "id": "cb40d2ba",
   "metadata": {},
   "outputs": [],
   "source": [
    "list_with5 = [n for n in range(1,501) if '5' in str(n)]\n",
    "print(list_with5)\n"
   ]
  },
  {
   "cell_type": "markdown",
   "id": "038b5aeb",
   "metadata": {},
   "source": [
    "### iv Given the list of items=[\"apple\",True,10,\"banana\",20,30,4.0,\"grapes\",\"laptop\",\"phone\", False,0], generate the list of non-string values\n",
    "### v Generate the boolean True for numeric and False for non-numeric in above items list"
   ]
  },
  {
   "cell_type": "code",
   "execution_count": null,
   "id": "f57373fb",
   "metadata": {},
   "outputs": [],
   "source": [
    "given_list = [\"apple\", True, 10, \"banana\", 20, 30, 4.0, \"grapes\", \"laptop\", \"phone\", False, 0]\n",
    "\n",
    "nonstring_list = [item for item in given_list if not isinstance(item, str)]\n",
    "print(nonstring_list)\n",
    "\n",
    "list_io = [isinstance(item, (int, float)) and not isinstance(item, bool) for item in given_list]\n",
    "print(list_io)\n"
   ]
  },
  {
   "cell_type": "markdown",
   "id": "0216d239",
   "metadata": {},
   "source": [
    "### vi files=[\"cat1.png\", \"dog1.png\", \"cat2.png\", \"cat3.png\", \"cat4.png\", \"dog2.png\", \"cat5.png\", \"cat6.png\", \"dog3.png\"], generate two lists of cat and dog image files"
   ]
  },
  {
   "cell_type": "code",
   "execution_count": null,
   "id": "5957d476",
   "metadata": {
    "scrolled": true
   },
   "outputs": [],
   "source": [
    "files=[\"cat1.png\",\"dog1.png\",\"cat2.png\",\"cat3.png\",\"cat4.png\",\"dog2.png\",\"cat5.png\",\"cat6.png\",\"dog3.png\"]\n",
    "\n",
    "cats = [item for item in files if 'cat' in item]\n",
    "dogs = [item for item in files if 'dog' in item]\n",
    "print(cats, dogs)\n"
   ]
  },
  {
   "cell_type": "markdown",
   "id": "3f2c9a5d",
   "metadata": {},
   "source": [
    "### vii Use appropriate comprehension method to generate the complementary dna template using information form 8.b"
   ]
  },
  {
   "cell_type": "code",
   "execution_count": null,
   "id": "1e0e7b1e",
   "metadata": {},
   "outputs": [],
   "source": [
    "dna_template = 'AATCCGAAAATTCGGGAATTTTCGCGT'\n",
    "mapper={\"T\":\"A\",\"A\":\"T\",\"G\":\"C\",\"C\":\"G\"}\n",
    "\n",
    "dna_compl = [mapper[l] for l in dna_template]\n",
    "print(dna_template)\n",
    "print(''.join(dna_compl))"
   ]
  },
  {
   "cell_type": "markdown",
   "id": "6762066f",
   "metadata": {},
   "source": [
    "### viii Run the following command in your notebook. What could be the reason the list comprehension is more elegant?"
   ]
  },
  {
   "cell_type": "code",
   "execution_count": null,
   "id": "48bec8db",
   "metadata": {},
   "outputs": [],
   "source": [
    "from time import time\n",
    "\n",
    "start_time = time()\n",
    "\n",
    "nums = []\n",
    "for i in range(1, 10000001):\n",
    "    nums.append(i ** 2)\n",
    "\n",
    "end_time = time()\n",
    "loop_time = end_time - start_time\n",
    "\n",
    "start_time = time()\n",
    "\n",
    "nums = [i ** 2 for i in range(1, 10000001)]\n",
    "\n",
    "end_time = time()\n",
    "compr_time = end_time - start_time\n",
    "\n",
    "print('loop_time is {:.4f}'.format(loop_time))\n",
    "print('compr_time is {:.4f}'.format(compr_time))\n",
    "\n",
    "# comprehension runtime is better because it is better to create the lists\n",
    "# by avoiding append operation\n"
   ]
  },
  {
   "cell_type": "markdown",
   "id": "87b62daa",
   "metadata": {},
   "source": []
  }
 ],
 "metadata": {
  "kernelspec": {
   "display_name": "Python 3 (ipykernel)",
   "language": "python",
   "name": "python3"
  },
  "language_info": {
   "codemirror_mode": {
    "name": "ipython",
    "version": 3
   },
   "file_extension": ".py",
   "mimetype": "text/x-python",
   "name": "python",
   "nbconvert_exporter": "python",
   "pygments_lexer": "ipython3",
   "version": "3.9.10"
  }
 },
 "nbformat": 4,
 "nbformat_minor": 5
}
