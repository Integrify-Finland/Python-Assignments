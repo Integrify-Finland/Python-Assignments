{
 "cells": [
  {
   "cell_type": "markdown",
   "id": "ea674df8",
   "metadata": {},
   "source": [
    "## 3. Higher order functions Python"
   ]
  },
  {
   "cell_type": "code",
   "execution_count": 5,
   "id": "3a4585e1",
   "metadata": {},
   "outputs": [
    {
     "name": "stdout",
     "output_type": "stream",
     "text": [
      "[1, 4, 9, 16, 25, 36, 49, 64, 81]\n",
      "[2, 4, 6, 8]\n",
      "384\n"
     ]
    }
   ],
   "source": [
    "from functools import reduce\n",
    "\n",
    "def square(x):\n",
    "    \"\"\"return the square of the number\"\"\"\n",
    "    \n",
    "    return x ** 2\n",
    "\n",
    "def product(x, y):\n",
    "    \"\"\"return the product of two numbers\"\"\"\n",
    "    \n",
    "    return x * y\n",
    "\n",
    "if __name__ == '__main__':\n",
    "    numbers = [1, 2, 3, 4, 5, 6, 7, 8, 9]\n",
    "    \n",
    "    # using map() to square each element in the list\n",
    "    squares = list(map(square, numbers))\n",
    "    print(squares)\n",
    "    \n",
    "    # using filter() to remove all of odd numbers from the list\n",
    "    evens = list(filter(lambda x: x % 2 == 0, numbers))\n",
    "    print(evens)\n",
    "    \n",
    "    # using reduce() to find the product of \n",
    "    # all even numbers in the list\n",
    "    prod = reduce(product, evens)\n",
    "    print(prod)"
   ]
  },
  {
   "cell_type": "markdown",
   "id": "0b42ec56",
   "metadata": {},
   "source": [
    "**I changed the variable 'product' to 'prod' to prevent overriding the same name function with variable (like it would happen in your example)**"
   ]
  }
 ],
 "metadata": {
  "kernelspec": {
   "display_name": "Python 3 (ipykernel)",
   "language": "python",
   "name": "python3"
  },
  "language_info": {
   "codemirror_mode": {
    "name": "ipython",
    "version": 3
   },
   "file_extension": ".py",
   "mimetype": "text/x-python",
   "name": "python",
   "nbconvert_exporter": "python",
   "pygments_lexer": "ipython3",
   "version": "3.9.10"
  }
 },
 "nbformat": 4,
 "nbformat_minor": 5
}
