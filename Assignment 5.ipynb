{
 "cells": [
  {
   "cell_type": "code",
   "execution_count": 4,
   "id": "c7c8fa9c",
   "metadata": {},
   "outputs": [
    {
     "name": "stdout",
     "output_type": "stream",
     "text": [
      "<class 'int'> <class 'str'>\n",
      "<class 'type'>\n",
      "<class 'type'>\n",
      "<class 'type'>\n",
      "<class 'type'>\n",
      "<class 'type'>\n",
      "<class 'builtin_function_or_method'>\n",
      "<class 'function'>\n",
      "<class 'type'>\n"
     ]
    }
   ],
   "source": [
    "a=5\n",
    "b=\"some string\"\n",
    "print(type(a),type(b))\n",
    "\n",
    "def someFunction():\n",
    "    return\n",
    "\n",
    "class Someclass():\n",
    "    pass\n",
    "\n",
    "someList=[int,str,tuple,dict,list,print,someFunction,Someclass]\n",
    "for item in someList:\n",
    "    print(type(item))"
   ]
  },
  {
   "cell_type": "code",
   "execution_count": 7,
   "id": "767055d8",
   "metadata": {},
   "outputs": [
    {
     "name": "stdout",
     "output_type": "stream",
     "text": [
      "\n",
      "<class 'int'>\n",
      "<class 'str'>\n",
      "<class 'tuple'>\n",
      "<class 'dict'>\n",
      "<class 'list'>\n",
      "<class 'NoneType'>\n",
      "<class 'NoneType'>\n",
      "<class '__main__.Someclass'>\n"
     ]
    }
   ],
   "source": [
    "anotherList=[int(),str(),tuple(),dict(),list(),print(),someFunction(),Someclass()]\n",
    "for item in anotherList:\n",
    "    print(type(item))"
   ]
  },
  {
   "cell_type": "markdown",
   "id": "7459f7f9",
   "metadata": {},
   "source": [
    "#### Create two classes Pet and Dog "
   ]
  },
  {
   "cell_type": "code",
   "execution_count": 11,
   "id": "52a07a28",
   "metadata": {},
   "outputs": [],
   "source": [
    "\n",
    "from datetime import date\n",
    "\n",
    "class Pet():\n",
    "    pet_population = 0\n",
    "    pet_instance = []\n",
    "    current_year=date.today().year\n",
    "    \n",
    "    def __init__(self,name,category,age):\n",
    "        self.name=name\n",
    "        self.category=category\n",
    "        self.age=age\n",
    "        Pet.pet_population += 1\n",
    "        Pet.pet_instance.append(self)\n",
    "        \n",
    "    def hellofrompet(self):\n",
    "        print(\"Hello from\", self.name)\n",
    "        \n",
    "    @classmethod\n",
    "    def timepassedby(cls, years):\n",
    "        for pet in cls.pet_instance:\n",
    "            pet.age += years\n",
    "            \n",
    "class Dog(Pet):\n",
    "    def __init__(self, name, age, breed):\n",
    "        super().__init__(name, \"Dog\", age)\n",
    "        self.breed = breed\n",
    "\n",
    "    def barks(self):\n",
    "        print(f\"{self.breed} does woof woof.\")\n",
    "        \n",
    "\n",
    "        "
   ]
  },
  {
   "cell_type": "code",
   "execution_count": 18,
   "id": "7a8c69e0",
   "metadata": {},
   "outputs": [
    {
     "name": "stdout",
     "output_type": "stream",
     "text": [
      "13\n",
      "13\n",
      "Micky\n",
      "Micky\n",
      "Saphie\n",
      "Micky\n",
      "Saphie\n",
      "Micky\n",
      "Saphie\n",
      "Micky\n",
      "Saphie\n",
      "Micky\n",
      "Saphie\n",
      "Micky\n",
      "Saphie\n",
      "6\n",
      "7\n",
      "German Shepherd does woof woof.\n"
     ]
    }
   ],
   "source": [
    "instance1=Pet(\"Micky\",\"Cat\",1)\n",
    "instance2=Dog(\"Saphie\",2,\"German Shepherd\")\n",
    "\n",
    "print(Pet.pet_population)\n",
    "print(Dog.pet_population)\n",
    "\n",
    "for item in Pet.pet_instance:\n",
    "    print(item.name)\n",
    "    \n",
    "Pet.timepassedby(5)\n",
    "print(instance1.age)\n",
    "print(instance2.age)\n",
    "\n",
    "#instance1.barks()\n",
    "instance2.barks()\n"
   ]
  },
  {
   "cell_type": "code",
   "execution_count": null,
   "id": "661d3d9a",
   "metadata": {},
   "outputs": [],
   "source": []
  }
 ],
 "metadata": {
  "kernelspec": {
   "display_name": "Python 3 (ipykernel)",
   "language": "python",
   "name": "python3"
  },
  "language_info": {
   "codemirror_mode": {
    "name": "ipython",
    "version": 3
   },
   "file_extension": ".py",
   "mimetype": "text/x-python",
   "name": "python",
   "nbconvert_exporter": "python",
   "pygments_lexer": "ipython3",
   "version": "3.9.0"
  }
 },
 "nbformat": 4,
 "nbformat_minor": 5
}
