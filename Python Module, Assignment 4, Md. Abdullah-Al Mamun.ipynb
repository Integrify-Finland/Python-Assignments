{
 "cells": [
  {
   "cell_type": "markdown",
   "id": "b1253b84",
   "metadata": {},
   "source": [
    "# <center>Assignment 4</center>\n",
    "# <center>Iterators, Generators, Regex, and List Comprehension</center>\n",
    "\n",
    "### <center>Md. Abdullah-Al Mamun</center>\n",
    "\n",
    "### 1. Iterator and generator: (For advanced learners, read from the links ) a. As you have already known, the iterables objects are the stream of data like string,list, dict, set etc which can be looped over or iterated. Since you have also known that you can convert an iterable into an iterator using iter method and iterators have next method, it's time to play around with the builtin itertools module.\n",
    "\n",
    "## (i) Create a list apply iter method to it and run next method until you get StopIteration error"
   ]
  },
  {
   "cell_type": "code",
   "execution_count": 1,
   "id": "4fcdfe64",
   "metadata": {},
   "outputs": [
    {
     "name": "stdout",
     "output_type": "stream",
     "text": [
      "1\n",
      "2\n",
      "3\n",
      "4\n",
      "5\n",
      "6\n",
      "7\n",
      "8\n",
      "9\n",
      "10\n",
      "11\n",
      "12\n",
      "13\n",
      "14\n"
     ]
    }
   ],
   "source": [
    "from builtins import next\n",
    "\n",
    "Lists = [i for i in range(1, 15)]\n",
    "\n",
    "iters = iter(Lists)\n",
    "\n",
    "while True:\n",
    "    try:\n",
    "        item = next(iters)\n",
    "        print(item)\n",
    "    except StopIteration:\n",
    "        break"
   ]
  },
  {
   "cell_type": "markdown",
   "id": "a4a2587f",
   "metadata": {},
   "source": [
    "## (ii) Import itertools in your notebook and create infinite iterators using count,cycle and and repeat methods. Refer https://docs.python.org/3/library/itertools.html"
   ]
  },
  {
   "cell_type": "code",
   "execution_count": null,
   "id": "975d4b72",
   "metadata": {},
   "outputs": [],
   "source": [
    "# count method\n",
    "\n",
    "from itertools import count # import count function from itertools module\n",
    "\n",
    "#create an iterator that starts at 2 and increments by 2\n",
    "counts = count(2, 2) \n",
    "\n",
    "# loop indefinitely\n",
    "while True:\n",
    "    print(next(counts))     \n"
   ]
  },
  {
   "cell_type": "code",
   "execution_count": 3,
   "id": "8f0dfe3d",
   "metadata": {},
   "outputs": [
    {
     "name": "stdout",
     "output_type": "stream",
     "text": [
      "1\n",
      "2\n",
      "3\n",
      "4\n",
      "5\n",
      "6\n",
      "1\n",
      "2\n",
      "3\n",
      "4\n"
     ]
    }
   ],
   "source": [
    "# cycle method\n",
    "\n",
    "from itertools import cycle  # import cycle function from itertools module\n",
    "\n",
    "# create an iterator that cycles through the digits of 123456\n",
    "cycles = cycle(\"123456\") \n",
    "\n",
    "count = 0\n",
    "\n",
    "while count < 10: \n",
    "    print(next(cycles))   \n",
    "    count += 1\n",
    "    "
   ]
  },
  {
   "cell_type": "code",
   "execution_count": 4,
   "id": "7d83dc6d",
   "metadata": {},
   "outputs": [
    {
     "name": "stdout",
     "output_type": "stream",
     "text": [
      "1\n",
      "2\n",
      "3\n",
      "4\n",
      "5\n",
      "6\n",
      "1\n",
      "2\n",
      "3\n",
      "4\n",
      "5\n",
      "6\n",
      "1\n",
      "2\n",
      "3\n",
      "4\n",
      "5\n",
      "6\n",
      "1\n",
      "2\n"
     ]
    }
   ],
   "source": [
    "# cycle method \n",
    "from itertools import cycle # import cycle function from itertools module\n",
    "\n",
    "cycles = cycle([1, 2, 3, 4, 5, 6]) # create an iterator that cycles through the elements of the list\n",
    "\n",
    "for i in range(20): \n",
    "    x = next(cycles) \n",
    "    print(x)    "
   ]
  },
  {
   "cell_type": "code",
   "execution_count": 5,
   "id": "c46cfcd5",
   "metadata": {},
   "outputs": [
    {
     "name": "stdout",
     "output_type": "stream",
     "text": [
      "20\n",
      "20\n",
      "20\n",
      "20\n",
      "20\n",
      "20\n",
      "20\n",
      "20\n",
      "20\n",
      "20\n",
      "20\n",
      "20\n",
      "20\n",
      "20\n",
      "20\n",
      "20\n",
      "20\n",
      "20\n",
      "20\n",
      "20\n"
     ]
    }
   ],
   "source": [
    "# repeat method\n",
    "\n",
    "from itertools import repeat # import repeat function from itertools module\n",
    "\n",
    "repeats=repeat(20)\n",
    "\n",
    "for i in range(20):\n",
    "    x = next(repeats)\n",
    "    print(x)      \n"
   ]
  },
  {
   "cell_type": "markdown",
   "id": "fdaa4faa",
   "metadata": {},
   "source": [
    "## (iii) Use methods from Iterators terminating on the shortest input sequence"
   ]
  },
  {
   "cell_type": "code",
   "execution_count": 6,
   "id": "87e7abe5",
   "metadata": {},
   "outputs": [
    {
     "name": "stdout",
     "output_type": "stream",
     "text": [
      "1\n",
      "3\n",
      "6\n",
      "10\n",
      "15\n",
      "21\n",
      "28\n",
      "36\n",
      "45\n",
      "55\n",
      "66\n",
      "78\n",
      "91\n",
      "105\n"
     ]
    }
   ],
   "source": [
    "# accumulate() method\n",
    "\n",
    "from itertools import accumulate # import accumulate function from itertools module\n",
    "\n",
    "Lists = [i for i in range(1, 15)] \n",
    "\n",
    "accumulating=accumulate(Lists) # create an iterator that accumulates the values in the list\n",
    "\n",
    "for i in accumulating: \n",
    "    print(i)\n",
    "\n"
   ]
  },
  {
   "cell_type": "code",
   "execution_count": 7,
   "id": "ed908214",
   "metadata": {},
   "outputs": [
    {
     "name": "stdout",
     "output_type": "stream",
     "text": [
      "11\n",
      "12\n",
      "13\n",
      "14\n"
     ]
    }
   ],
   "source": [
    "# dropwhile() method\n",
    "\n",
    "from itertools import dropwhile  # import dropwhile function from itertools module\n",
    "\n",
    "\n",
    "Lists = [i for i in range(1, 15)]\n",
    "dropwhile=dropwhile(lambda x: x<=10, Lists) \n",
    "\n",
    "for i in dropwhile:\n",
    "    print(i)\n"
   ]
  },
  {
   "cell_type": "markdown",
   "id": "366a97f5",
   "metadata": {},
   "source": [
    "## (iv) User methods from Combinatoric iterator "
   ]
  },
  {
   "cell_type": "code",
   "execution_count": 8,
   "id": "3ad37679",
   "metadata": {},
   "outputs": [
    {
     "name": "stdout",
     "output_type": "stream",
     "text": [
      "(1, 2)\n",
      "(1, 3)\n",
      "(1, 4)\n",
      "(1, 5)\n",
      "(2, 1)\n",
      "(2, 3)\n",
      "(2, 4)\n",
      "(2, 5)\n",
      "(3, 1)\n",
      "(3, 2)\n",
      "(3, 4)\n",
      "(3, 5)\n",
      "(4, 1)\n",
      "(4, 2)\n",
      "(4, 3)\n",
      "(4, 5)\n",
      "(5, 1)\n",
      "(5, 2)\n",
      "(5, 3)\n",
      "(5, 4)\n"
     ]
    }
   ],
   "source": [
    "# Import the 'permutations' function from the 'itertools' module\n",
    "\n",
    "from itertools import permutations\n",
    "\n",
    "def permutation(n, r):    \n",
    "    return permutations(n, r)\n",
    "\n",
    "perm = permutation([1, 2, 3, 4, 5], 2)\n",
    "\n",
    "# Loop through each permutation\n",
    "for p in perm:\n",
    "    print(p)\n"
   ]
  },
  {
   "cell_type": "markdown",
   "id": "6f538979",
   "metadata": {},
   "source": [
    "## b. Create an infinite generator that generates the fibonacci series"
   ]
  },
  {
   "cell_type": "code",
   "execution_count": 9,
   "id": "8aabb787",
   "metadata": {},
   "outputs": [
    {
     "name": "stdout",
     "output_type": "stream",
     "text": [
      "How many Fibonacci numbers do you want? 12\n",
      "1. 1\n",
      "2. 1\n",
      "3. 2\n",
      "4. 3\n",
      "5. 5\n",
      "6. 8\n",
      "7. 13\n",
      "8. 21\n",
      "9. 34\n",
      "10. 55\n",
      "11. 89\n",
      "12. 144\n"
     ]
    }
   ],
   "source": [
    "user_input = int(input(\"How many Fibonacci numbers do you want? \"))\n",
    "\n",
    "a, b = 0, 1\n",
    "\n",
    "c = 0\n",
    "\n",
    "# Loop indefinitely\n",
    "while True:\n",
    "    a, b = b, a + b\n",
    "    c += 1    \n",
    "    \n",
    "    if c == (user_input + 1):\n",
    "        break\n",
    "    else:\n",
    "        print(\"{}. {}\".format(c, a))\n"
   ]
  },
  {
   "cell_type": "markdown",
   "id": "e4e58018",
   "metadata": {},
   "source": [
    "# a. Regular expression:\n",
    "\n",
    "### Read and practices more on regex\n",
    "\n",
    "#### 1. Write a Python program to check that a string contains only a certain set of characters (in this case a-z, A-Z and 0-9)."
   ]
  },
  {
   "cell_type": "code",
   "execution_count": 10,
   "id": "f4a93b33",
   "metadata": {},
   "outputs": [
    {
     "name": "stdout",
     "output_type": "stream",
     "text": [
      "Strings have matched.\n"
     ]
    }
   ],
   "source": [
    "import re\n",
    "\n",
    "def check_character(str_input):\n",
    "    model_chr = r'^[a-zA-Z0-9]+$'\n",
    "    \n",
    "    if re.match(model_chr, str_input):\n",
    "        print(\"Strings have matched.\")\n",
    "    else:\n",
    "        print(\"Given strings have not matched.\")\n",
    "\n",
    "check_character(\"sadjnasdASSSDDNJKNJKNJKN12545685556\")\n"
   ]
  },
  {
   "cell_type": "markdown",
   "id": "6773a5fc",
   "metadata": {},
   "source": [
    "# b. Comprehension: \n",
    "\n",
    "### ( i ) \n",
    "### ( ii ) Write a multiplication table of any given number in a list using list comprehension\n"
   ]
  },
  {
   "cell_type": "code",
   "execution_count": 11,
   "id": "9679bed2",
   "metadata": {},
   "outputs": [
    {
     "name": "stdout",
     "output_type": "stream",
     "text": [
      "Give a number: 10\n",
      "1 * 10 = 10\n",
      "2 * 10 = 20\n",
      "3 * 10 = 30\n",
      "4 * 10 = 40\n",
      "5 * 10 = 50\n",
      "6 * 10 = 60\n",
      "7 * 10 = 70\n",
      "8 * 10 = 80\n",
      "9 * 10 = 90\n",
      "10 * 10 = 100\n"
     ]
    }
   ],
   "source": [
    "userinput = int(input(\"Give a number: \"))\n",
    "\n",
    "multiplication_table = [i * userinput for i in range(1,11)]\n",
    "\n",
    "for j in multiplication_table:\n",
    "    print(\"{a} * {b} = {c}\".format(a=j//userinput, b=userinput, c=j))"
   ]
  },
  {
   "cell_type": "markdown",
   "id": "ac607e73",
   "metadata": {},
   "source": [
    "### ( iii ) Find all numbers from 1 to 500 that has 5 in them"
   ]
  },
  {
   "cell_type": "code",
   "execution_count": 12,
   "id": "62d75492",
   "metadata": {},
   "outputs": [
    {
     "name": "stdout",
     "output_type": "stream",
     "text": [
      "5\n",
      "10\n",
      "15\n",
      "20\n",
      "25\n",
      "30\n",
      "35\n",
      "40\n",
      "45\n",
      "50\n",
      "55\n",
      "60\n",
      "65\n",
      "70\n",
      "75\n",
      "80\n",
      "85\n",
      "90\n",
      "95\n",
      "100\n",
      "105\n",
      "110\n",
      "115\n",
      "120\n",
      "125\n",
      "130\n",
      "135\n",
      "140\n",
      "145\n",
      "150\n",
      "155\n",
      "160\n",
      "165\n",
      "170\n",
      "175\n",
      "180\n",
      "185\n",
      "190\n",
      "195\n",
      "200\n",
      "205\n",
      "210\n",
      "215\n",
      "220\n",
      "225\n",
      "230\n",
      "235\n",
      "240\n",
      "245\n",
      "250\n",
      "255\n",
      "260\n",
      "265\n",
      "270\n",
      "275\n",
      "280\n",
      "285\n",
      "290\n",
      "295\n",
      "300\n",
      "305\n",
      "310\n",
      "315\n",
      "320\n",
      "325\n",
      "330\n",
      "335\n",
      "340\n",
      "345\n",
      "350\n",
      "355\n",
      "360\n",
      "365\n",
      "370\n",
      "375\n",
      "380\n",
      "385\n",
      "390\n",
      "395\n",
      "400\n",
      "405\n",
      "410\n",
      "415\n",
      "420\n",
      "425\n",
      "430\n",
      "435\n",
      "440\n",
      "445\n",
      "450\n",
      "455\n",
      "460\n",
      "465\n",
      "470\n",
      "475\n",
      "480\n",
      "485\n",
      "490\n",
      "495\n",
      "500\n"
     ]
    }
   ],
   "source": [
    "number_div = [i for i in range(1,501) if i % 5==0]\n",
    "\n",
    "for i in number_div:\n",
    "    print(i)   "
   ]
  },
  {
   "cell_type": "markdown",
   "id": "5aa4d937",
   "metadata": {},
   "source": [
    "### ( iv ) Given the list of items=[\"apple\",True,10,\"banana\",20,30,4.0,\"grapes\",\"laptop\",\"phone\", False,0], generate the list of non-string values.\n",
    "    "
   ]
  },
  {
   "cell_type": "code",
   "execution_count": 13,
   "id": "e69d7570",
   "metadata": {},
   "outputs": [
    {
     "name": "stdout",
     "output_type": "stream",
     "text": [
      "[True, 10, 20, 30, 4.0, False, 0]\n"
     ]
    }
   ],
   "source": [
    "items=[\"apple\",True,10,\"banana\",20,30,4.0,\"grapes\",\"laptop\",\"phone\", False,0]\n",
    "\n",
    "non_string_items=[i for i in items if not isinstance(i, str)]\n",
    "\n",
    "print(non_string_items)"
   ]
  },
  {
   "cell_type": "markdown",
   "id": "a10481db",
   "metadata": {},
   "source": [
    "### ( v ) Generate the boolean True for numeric and False for non-numeric in above items list"
   ]
  },
  {
   "cell_type": "markdown",
   "id": "6d0f6118",
   "metadata": {},
   "source": [
    "items = [\"apple\", True, 10, \"banana\", 20, 30, 4.0, \"grapes\", \"laptop\", \"phone\", False, 0]\n",
    "\n",
    "numeric_bools = [True if isinstance(item, (int, float)) else False if isinstance(item, bool) else False for item in items]\n",
    "\n",
    "print(numeric_bools)\n"
   ]
  },
  {
   "cell_type": "markdown",
   "id": "df0bc7ba",
   "metadata": {},
   "source": [
    "### ( vi ) files=[\"cat1.png\",\"dog1.png\",\"cat2.png\",\"cat3.png\",\"cat4.png\",\"dog2.png\",\"cat5.png\",\"cat6.png\",\"dog3.png\"], generate two lists of cat and dog image files\n"
   ]
  },
  {
   "cell_type": "code",
   "execution_count": 14,
   "id": "16704224",
   "metadata": {},
   "outputs": [
    {
     "name": "stdout",
     "output_type": "stream",
     "text": [
      "['cat1.png', 'cat2.png', 'cat3.png', 'cat4.png', 'cat5.png', 'cat6.png']\n",
      "['dog1.png', 'dog2.png', 'dog3.png']\n"
     ]
    }
   ],
   "source": [
    "files=[\"cat1.png\",\"dog1.png\",\"cat2.png\",\"cat3.png\",\"cat4.png\",\"dog2.png\",\"cat5.png\",\"cat6.png\",\"dog3.png\"]\n",
    "\n",
    "cat_list=[i for i in files if \"cat\" in i]\n",
    "\n",
    "dog_list=[i for i in files if \"dog\" in i]\n",
    "\n",
    "print(cat_list)\n",
    "print(dog_list)\n"
   ]
  },
  {
   "cell_type": "code",
   "execution_count": 15,
   "id": "a3a9da95",
   "metadata": {},
   "outputs": [
    {
     "name": "stdout",
     "output_type": "stream",
     "text": [
      "['cat1.png', 'cat2.png', 'cat3.png', 'cat4.png', 'cat5.png', 'cat6.png']\n",
      "['dog1.png', 'dog2.png', 'dog3.png']\n"
     ]
    }
   ],
   "source": [
    "import re\n",
    "\n",
    "files=[\"cat1.png\",\"dog1.png\",\"cat2.png\",\"cat3.png\",\"cat4.png\",\"dog2.png\",\"cat5.png\",\"cat6.png\",\"dog3.png\"]\n",
    "\n",
    "cat_list=[i for i in files if re.search(r\"^cat\", i)]\n",
    "\n",
    "dog_list=[i for i in files if re.search(r\"^dog\", i)]\n",
    "\n",
    "print(cat_list)\n",
    "print(dog_list)\n"
   ]
  },
  {
   "cell_type": "code",
   "execution_count": 16,
   "id": "e120bb31",
   "metadata": {},
   "outputs": [
    {
     "name": "stdout",
     "output_type": "stream",
     "text": [
      "['cat1.png', 'cat2.png', 'cat3.png', 'cat4.png', 'cat5.png', 'cat6.png']\n",
      "['dog1.png', 'dog2.png', 'dog3.png']\n"
     ]
    }
   ],
   "source": [
    "files=[\"cat1.png\",\"dog1.png\",\"cat2.png\",\"cat3.png\",\"cat4.png\",\"dog2.png\",\"cat5.png\",\"cat6.png\",\"dog3.png\"]\n",
    "\n",
    "cat_list=[]\n",
    "dog_list=[]\n",
    "\n",
    "for i in files:\n",
    "    if \"cat\" in i:\n",
    "        cat_list.append(i)\n",
    "        \n",
    "    if \"dog\" in i:\n",
    "        dog_list.append(i)      \n",
    "        \n",
    "print(cat_list)\n",
    "print(dog_list)\n"
   ]
  },
  {
   "cell_type": "markdown",
   "id": "d351e019",
   "metadata": {},
   "source": [
    "### ( vii ) Use appropriate comprehension method to generate the complementary dna template using information form 8.b\n"
   ]
  },
  {
   "cell_type": "code",
   "execution_count": 17,
   "id": "b83866fe",
   "metadata": {},
   "outputs": [
    {
     "name": "stdout",
     "output_type": "stream",
     "text": [
      "['A', 'A', 'T', 'C', 'C', 'G', 'A', 'A', 'A', 'A', 'T', 'T', 'C', 'G', 'G', 'G', 'A', 'A', 'T', 'T', 'T', 'T', 'C', 'G', 'C', 'G', 'T']\n",
      "['T', 'T', 'A', 'G', 'G', 'C', 'T', 'T', 'T', 'T', 'A', 'A', 'G', 'C', 'C', 'C', 'T', 'T', 'A', 'A', 'A', 'A', 'G', 'C', 'G', 'C', 'A']\n"
     ]
    }
   ],
   "source": [
    "dna_template = 'AATCCGAAAATTCGGGAATTTTCGCGT'\n",
    "\n",
    "dna_list = [i for i in dna_template]\n",
    "\n",
    "complementary_dna_template = [\"T\" if i == \"A\" else \"A\" if i == \"T\" else \"G\" if i == \"C\" else \"C\" for i in dna_list]\n",
    "\n",
    "print(dna_list)\n",
    "print(complementary_dna_template)\n"
   ]
  },
  {
   "cell_type": "code",
   "execution_count": 18,
   "id": "929bc98e",
   "metadata": {},
   "outputs": [
    {
     "name": "stdout",
     "output_type": "stream",
     "text": [
      "['A', 'A', 'T', 'C', 'C', 'G', 'A', 'A', 'A', 'A', 'T', 'T', 'C', 'G', 'G', 'G', 'A', 'A', 'T', 'T', 'T', 'T', 'C', 'G', 'C', 'G', 'T']\n",
      "['T', 'T', 'A', 'G', 'G', 'C', 'T', 'T', 'T', 'T', 'A', 'A', 'G', 'C', 'C', 'C', 'T', 'T', 'A', 'A', 'A', 'A', 'G', 'C', 'G', 'C', 'A']\n"
     ]
    }
   ],
   "source": [
    "dna_template='AATCCGAAAATTCGGGAATTTTCGCGT'\n",
    "\n",
    "dna_list=[]\n",
    "complementary_dna_template=[]\n",
    "\n",
    "for i in dna_template:\n",
    "    dna_list.append(i)\n",
    "    \n",
    "for i in dna_list:\n",
    "    if i==\"A\":  \n",
    "        complementary_dna_template.append(\"T\")\n",
    "    elif i==\"T\": \n",
    "        complementary_dna_template.append(\"A\")\n",
    "    elif i==\"C\": \n",
    "        complementary_dna_template.append(\"G\")\n",
    "    elif i==\"G\": \n",
    "        complementary_dna_template.append(\"C\")\n",
    "\n",
    "print(dna_list)\n",
    "print(complementary_dna_template)\n"
   ]
  },
  {
   "cell_type": "code",
   "execution_count": 19,
   "id": "7e2d6539",
   "metadata": {},
   "outputs": [
    {
     "name": "stdout",
     "output_type": "stream",
     "text": [
      "A : T\n",
      "A : T\n",
      "T : A\n",
      "C ⋮ G\n",
      "C ⋮ G\n",
      "G ⋮ C\n",
      "A : T\n",
      "A : T\n",
      "A : T\n",
      "A : T\n",
      "T : A\n",
      "T : A\n",
      "C ⋮ G\n",
      "G ⋮ C\n",
      "G ⋮ C\n",
      "G ⋮ C\n",
      "A : T\n",
      "A : T\n",
      "T : A\n",
      "T : A\n",
      "T : A\n",
      "T : A\n",
      "C ⋮ G\n",
      "G ⋮ C\n",
      "C ⋮ G\n",
      "G ⋮ C\n",
      "T : A\n"
     ]
    }
   ],
   "source": [
    "# Practice\n",
    "\n",
    "\n",
    "dna_template = 'AATCCGAAAATTCGGGAATTTTCGCGT'\n",
    "\n",
    "\n",
    "dna_list = []\n",
    "\n",
    "complementary_dna_template = []\n",
    "\n",
    "for i in dna_template:\n",
    "    dna_list.append(i)\n",
    "\n",
    "for i in dna_list:\n",
    "    if i == \"A\":  \n",
    "        complementary_dna_template.append(\"T\")\n",
    "    elif i == \"T\": \n",
    "        complementary_dna_template.append(\"A\")\n",
    "    elif i == \"C\": \n",
    "        complementary_dna_template.append(\"G\")\n",
    "    elif i == \"G\": \n",
    "        complementary_dna_template.append(\"C\")\n",
    "\n",
    "\n",
    "for i in range(len(dna_list)):    \n",
    "    if dna_list[i] == \"A\" and complementary_dna_template[i] == \"T\":\n",
    "        print(\"A : T\")\n",
    "    elif dna_list[i] == \"T\" and complementary_dna_template[i] == \"A\":\n",
    "        print(\"T : A\")\n",
    "    elif dna_list[i] == \"C\" and complementary_dna_template[i] == \"G\":\n",
    "        print(\"C ⋮ G\")\n",
    "    elif dna_list[i] == \"G\" and complementary_dna_template[i] == \"C\":\n",
    "        print(\"G ⋮ C\")"
   ]
  },
  {
   "cell_type": "markdown",
   "id": "8a4fc29e",
   "metadata": {},
   "source": [
    "### ( viii ) Run the following command in your notebook. What could be the reason the list comprehension is more elegant?\n"
   ]
  },
  {
   "cell_type": "code",
   "execution_count": 20,
   "id": "b1553a13",
   "metadata": {},
   "outputs": [
    {
     "name": "stdout",
     "output_type": "stream",
     "text": [
      "For loop time: 7.4591898918151855\n",
      "List comprehension time: 5.51655912399292\n"
     ]
    }
   ],
   "source": [
    "import time\n",
    "\n",
    "# Using for loop\n",
    "start_time = time.time()\n",
    "\n",
    "nums= []\n",
    "\n",
    "for i in range(1,10000001):\n",
    "    nums.append(i**2)\n",
    "\n",
    "end_time =time.time()\n",
    "for_loop_time= end_time - start_time\n",
    "\n",
    "\n",
    "# Using list comprehension\n",
    "start_time =time.time()\n",
    "\n",
    "nums=[i**2 for i in range(1,10000001)]\n",
    "\n",
    "end_time =time.time()\n",
    "list_comp_time= end_time - start_time\n",
    "\n",
    "print(\"For loop time:\", for_loop_time)\n",
    "print(\"List comprehension time:\",\n",
    "     list_comp_time)"
   ]
  },
  {
   "cell_type": "markdown",
   "id": "87cdc664",
   "metadata": {},
   "source": [
    "###  List comprehension is faster than for loop, and time is an important factor to consider when working with large datasets."
   ]
  },
  {
   "cell_type": "code",
   "execution_count": null,
   "id": "28db1ba1",
   "metadata": {},
   "outputs": [],
   "source": []
  }
 ],
 "metadata": {
  "kernelspec": {
   "display_name": "Python 3 (ipykernel)",
   "language": "python",
   "name": "python3"
  },
  "language_info": {
   "codemirror_mode": {
    "name": "ipython",
    "version": 3
   },
   "file_extension": ".py",
   "mimetype": "text/x-python",
   "name": "python",
   "nbconvert_exporter": "python",
   "pygments_lexer": "ipython3",
   "version": "3.9.13"
  }
 },
 "nbformat": 4,
 "nbformat_minor": 5
}
