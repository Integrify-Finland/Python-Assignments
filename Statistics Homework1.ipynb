{
 "cells": [
  {
   "cell_type": "markdown",
   "id": "d9e5ee08",
   "metadata": {},
   "source": [
    "# HomeWork 1\n",
    "\n",
    "# 1.\tEvery group have  to download the Excel files:\n",
    "\n",
    "### Downloaded\n",
    "\n"
   ]
  },
  {
   "cell_type": "code",
   "execution_count": 1,
   "id": "4873ca67",
   "metadata": {},
   "outputs": [
    {
     "name": "stdout",
     "output_type": "stream",
     "text": [
      "Requirement already satisfied: pandas in c:\\users\\mamun\\appdata\\local\\programs\\python\\python310\\lib\\site-packages (1.5.3)\n",
      "Requirement already satisfied: python-dateutil>=2.8.1 in c:\\users\\mamun\\appdata\\local\\programs\\python\\python310\\lib\\site-packages (from pandas) (2.8.2)\n",
      "Requirement already satisfied: pytz>=2020.1 in c:\\users\\mamun\\appdata\\local\\programs\\python\\python310\\lib\\site-packages (from pandas) (2022.7.1)\n",
      "Requirement already satisfied: numpy>=1.21.0 in c:\\users\\mamun\\appdata\\local\\programs\\python\\python310\\lib\\site-packages (from pandas) (1.24.2)\n",
      "Requirement already satisfied: six>=1.5 in c:\\users\\mamun\\appdata\\local\\programs\\python\\python310\\lib\\site-packages (from python-dateutil>=2.8.1->pandas) (1.16.0)\n"
     ]
    },
    {
     "name": "stderr",
     "output_type": "stream",
     "text": [
      "\n",
      "[notice] A new release of pip available: 22.2.2 -> 23.0.1\n",
      "[notice] To update, run: python.exe -m pip install --upgrade pip\n",
      "\n",
      "[notice] A new release of pip available: 22.2.2 -> 23.0.1\n",
      "[notice] To update, run: python.exe -m pip install --upgrade pip\n"
     ]
    },
    {
     "name": "stdout",
     "output_type": "stream",
     "text": [
      "Requirement already satisfied: openpyxl in c:\\users\\mamun\\appdata\\local\\programs\\python\\python310\\lib\\site-packages (3.1.2)\n",
      "Requirement already satisfied: et-xmlfile in c:\\users\\mamun\\appdata\\local\\programs\\python\\python310\\lib\\site-packages (from openpyxl) (1.1.0)\n"
     ]
    },
    {
     "data": {
      "text/html": [
       "<div>\n",
       "<style scoped>\n",
       "    .dataframe tbody tr th:only-of-type {\n",
       "        vertical-align: middle;\n",
       "    }\n",
       "\n",
       "    .dataframe tbody tr th {\n",
       "        vertical-align: top;\n",
       "    }\n",
       "\n",
       "    .dataframe thead th {\n",
       "        text-align: right;\n",
       "    }\n",
       "</style>\n",
       "<table border=\"1\" class=\"dataframe\">\n",
       "  <thead>\n",
       "    <tr style=\"text-align: right;\">\n",
       "      <th></th>\n",
       "      <th>S1</th>\n",
       "      <th>S2</th>\n",
       "      <th>S3</th>\n",
       "    </tr>\n",
       "  </thead>\n",
       "  <tbody>\n",
       "    <tr>\n",
       "      <th>0</th>\n",
       "      <td>419</td>\n",
       "      <td>362</td>\n",
       "      <td>373</td>\n",
       "    </tr>\n",
       "    <tr>\n",
       "      <th>1</th>\n",
       "      <td>432</td>\n",
       "      <td>364</td>\n",
       "      <td>392</td>\n",
       "    </tr>\n",
       "    <tr>\n",
       "      <th>2</th>\n",
       "      <td>429</td>\n",
       "      <td>370</td>\n",
       "      <td>379</td>\n",
       "    </tr>\n",
       "    <tr>\n",
       "      <th>3</th>\n",
       "      <td>424</td>\n",
       "      <td>362</td>\n",
       "      <td>385</td>\n",
       "    </tr>\n",
       "    <tr>\n",
       "      <th>4</th>\n",
       "      <td>433</td>\n",
       "      <td>372</td>\n",
       "      <td>383</td>\n",
       "    </tr>\n",
       "  </tbody>\n",
       "</table>\n",
       "</div>"
      ],
      "text/plain": [
       "    S1   S2   S3\n",
       "0  419  362  373\n",
       "1  432  364  392\n",
       "2  429  370  379\n",
       "3  424  362  385\n",
       "4  433  372  383"
      ]
     },
     "execution_count": 1,
     "metadata": {},
     "output_type": "execute_result"
    }
   ],
   "source": [
    "!pip install pandas\n",
    "!pip install openpyxl\n",
    "\n",
    "import pandas as pd\n",
    "\n",
    "data = pd.read_excel('Group3.xlsx')\n",
    "\n",
    "data.head()"
   ]
  },
  {
   "cell_type": "code",
   "execution_count": 2,
   "id": "db3e3808",
   "metadata": {},
   "outputs": [
    {
     "data": {
      "text/html": [
       "<div>\n",
       "<style scoped>\n",
       "    .dataframe tbody tr th:only-of-type {\n",
       "        vertical-align: middle;\n",
       "    }\n",
       "\n",
       "    .dataframe tbody tr th {\n",
       "        vertical-align: top;\n",
       "    }\n",
       "\n",
       "    .dataframe thead th {\n",
       "        text-align: right;\n",
       "    }\n",
       "</style>\n",
       "<table border=\"1\" class=\"dataframe\">\n",
       "  <thead>\n",
       "    <tr style=\"text-align: right;\">\n",
       "      <th></th>\n",
       "      <th>S1</th>\n",
       "      <th>S2</th>\n",
       "      <th>S3</th>\n",
       "    </tr>\n",
       "  </thead>\n",
       "  <tbody>\n",
       "    <tr>\n",
       "      <th>count</th>\n",
       "      <td>138.000000</td>\n",
       "      <td>138.000000</td>\n",
       "      <td>138.000000</td>\n",
       "    </tr>\n",
       "    <tr>\n",
       "      <th>mean</th>\n",
       "      <td>435.028986</td>\n",
       "      <td>360.217391</td>\n",
       "      <td>366.934783</td>\n",
       "    </tr>\n",
       "    <tr>\n",
       "      <th>std</th>\n",
       "      <td>10.252963</td>\n",
       "      <td>9.174496</td>\n",
       "      <td>25.509468</td>\n",
       "    </tr>\n",
       "    <tr>\n",
       "      <th>min</th>\n",
       "      <td>409.000000</td>\n",
       "      <td>315.000000</td>\n",
       "      <td>289.000000</td>\n",
       "    </tr>\n",
       "    <tr>\n",
       "      <th>25%</th>\n",
       "      <td>428.250000</td>\n",
       "      <td>356.250000</td>\n",
       "      <td>355.000000</td>\n",
       "    </tr>\n",
       "    <tr>\n",
       "      <th>50%</th>\n",
       "      <td>434.000000</td>\n",
       "      <td>362.000000</td>\n",
       "      <td>376.000000</td>\n",
       "    </tr>\n",
       "    <tr>\n",
       "      <th>75%</th>\n",
       "      <td>442.000000</td>\n",
       "      <td>365.000000</td>\n",
       "      <td>384.750000</td>\n",
       "    </tr>\n",
       "    <tr>\n",
       "      <th>max</th>\n",
       "      <td>466.000000</td>\n",
       "      <td>380.000000</td>\n",
       "      <td>400.000000</td>\n",
       "    </tr>\n",
       "  </tbody>\n",
       "</table>\n",
       "</div>"
      ],
      "text/plain": [
       "               S1          S2          S3\n",
       "count  138.000000  138.000000  138.000000\n",
       "mean   435.028986  360.217391  366.934783\n",
       "std     10.252963    9.174496   25.509468\n",
       "min    409.000000  315.000000  289.000000\n",
       "25%    428.250000  356.250000  355.000000\n",
       "50%    434.000000  362.000000  376.000000\n",
       "75%    442.000000  365.000000  384.750000\n",
       "max    466.000000  380.000000  400.000000"
      ]
     },
     "execution_count": 2,
     "metadata": {},
     "output_type": "execute_result"
    }
   ],
   "source": [
    "data.describe()"
   ]
  },
  {
   "cell_type": "code",
   "execution_count": 3,
   "id": "164ba8af",
   "metadata": {},
   "outputs": [
    {
     "name": "stdout",
     "output_type": "stream",
     "text": [
      "<class 'pandas.core.frame.DataFrame'>\n",
      "RangeIndex: 138 entries, 0 to 137\n",
      "Data columns (total 3 columns):\n",
      " #   Column  Non-Null Count  Dtype\n",
      "---  ------  --------------  -----\n",
      " 0   S1      138 non-null    int64\n",
      " 1   S2      138 non-null    int64\n",
      " 2   S3      138 non-null    int64\n",
      "dtypes: int64(3)\n",
      "memory usage: 3.4 KB\n"
     ]
    }
   ],
   "source": [
    "data.info()"
   ]
  },
  {
   "cell_type": "code",
   "execution_count": 4,
   "id": "22a0b69d",
   "metadata": {},
   "outputs": [
    {
     "data": {
      "text/plain": [
       "(138, 3)"
      ]
     },
     "execution_count": 4,
     "metadata": {},
     "output_type": "execute_result"
    }
   ],
   "source": [
    "data.shape"
   ]
  },
  {
   "cell_type": "markdown",
   "id": "56711534",
   "metadata": {},
   "source": [
    "# 2.\tEach file has three recorded values of water flow recorded using three sensors S1,S2, and S3.\n",
    "\n",
    "### ○\tCompute the central tendency measures"
   ]
  },
  {
   "cell_type": "code",
   "execution_count": 5,
   "id": "b17c3073",
   "metadata": {},
   "outputs": [
    {
     "name": "stdout",
     "output_type": "stream",
     "text": [
      "Mean of our data: S1    435.028986\n",
      "S2    360.217391\n",
      "S3    366.934783\n",
      "dtype: float64\n"
     ]
    }
   ],
   "source": [
    "Mean = data.mean()\n",
    "print(\"Mean of our data:\", Mean)"
   ]
  },
  {
   "cell_type": "code",
   "execution_count": 6,
   "id": "2a363b51",
   "metadata": {},
   "outputs": [
    {
     "name": "stdout",
     "output_type": "stream",
     "text": [
      "Median of our data: S1    434.0\n",
      "S2    362.0\n",
      "S3    376.0\n",
      "dtype: float64\n"
     ]
    }
   ],
   "source": [
    "Median = data.median()\n",
    "print(\"Median of our data:\", Median)"
   ]
  },
  {
   "cell_type": "code",
   "execution_count": 7,
   "id": "c5f46fad",
   "metadata": {},
   "outputs": [
    {
     "name": "stdout",
     "output_type": "stream",
     "text": [
      "Mode of our data:     S1   S2   S3\n",
      "0  429  362  379\n"
     ]
    }
   ],
   "source": [
    "Mode = data.mode()\n",
    "print(\"Mode of our data:\", Mode)"
   ]
  },
  {
   "cell_type": "markdown",
   "id": "6b15f823",
   "metadata": {},
   "source": [
    "### ○\tCompute the spread measures\n"
   ]
  },
  {
   "cell_type": "code",
   "execution_count": 8,
   "id": "6a692b63",
   "metadata": {},
   "outputs": [
    {
     "name": "stdout",
     "output_type": "stream",
     "text": [
      "Range of our dataset: S1     57\n",
      "S2     65\n",
      "S3    111\n",
      "dtype: int64\n"
     ]
    }
   ],
   "source": [
    "Range = data.max()- data.min()\n",
    "print(\"Range of our dataset:\", Range)"
   ]
  },
  {
   "cell_type": "code",
   "execution_count": 9,
   "id": "a3a4dcde",
   "metadata": {},
   "outputs": [
    {
     "name": "stdout",
     "output_type": "stream",
     "text": [
      "Variance of our dataset: S1    105.123241\n",
      "S2     84.171374\n",
      "S3    650.732942\n",
      "dtype: float64\n"
     ]
    }
   ],
   "source": [
    "Variance = data.var()\n",
    "print(\"Variance of our dataset:\", Variance)"
   ]
  },
  {
   "cell_type": "code",
   "execution_count": 10,
   "id": "75328c74",
   "metadata": {},
   "outputs": [
    {
     "name": "stdout",
     "output_type": "stream",
     "text": [
      "Standard Deviation of our dataset: S1    10.252963\n",
      "S2     9.174496\n",
      "S3    25.509468\n",
      "dtype: float64\n"
     ]
    }
   ],
   "source": [
    "std = data.std()\n",
    "print(\"Standard Deviation of our dataset:\", std)"
   ]
  },
  {
   "cell_type": "markdown",
   "id": "6b1240aa",
   "metadata": {},
   "source": [
    "### ○\tWhat can you say about S1, S2, S3"
   ]
  },
  {
   "cell_type": "markdown",
   "id": "644e5092",
   "metadata": {},
   "source": [
    "### ■\tIn terms of Means, Variance, and Standard deviation\n"
   ]
  },
  {
   "cell_type": "markdown",
   "id": "5fa1da59",
   "metadata": {},
   "source": [
    "### ■\tWhich one of the sensors is different from the others\n"
   ]
  },
  {
   "cell_type": "markdown",
   "id": "f0c3146f",
   "metadata": {},
   "source": [
    "##### The mean value of dataset S1 is the highest, followed by dataset S2 and then dataset S3. This suggests that dataset S1 has the highest average value among the three datasets.\n",
    "##### The standard deviation of dataset S3 is the highest, followed by dataset S1 and then dataset S2. This suggests that dataset S3 has the most variability or dispersion in its values compared to the other two datasets.\n",
    "##### The standard deviation values of all three datasets are relatively small compared to their mean values. This suggests that the values in each dataset are relatively close to their mean values.\n"
   ]
  },
  {
   "cell_type": "code",
   "execution_count": 11,
   "id": "9eeb4b67",
   "metadata": {},
   "outputs": [
    {
     "name": "stderr",
     "output_type": "stream",
     "text": [
      "\n",
      "[notice] A new release of pip available: 22.2.2 -> 23.0.1\n",
      "[notice] To update, run: python.exe -m pip install --upgrade pip\n"
     ]
    },
    {
     "name": "stdout",
     "output_type": "stream",
     "text": [
      "Requirement already satisfied: matplotlib in c:\\users\\mamun\\appdata\\local\\programs\\python\\python310\\lib\\site-packages (3.7.1)\n",
      "Requirement already satisfied: pillow>=6.2.0 in c:\\users\\mamun\\appdata\\local\\programs\\python\\python310\\lib\\site-packages (from matplotlib) (9.4.0)\n",
      "Requirement already satisfied: kiwisolver>=1.0.1 in c:\\users\\mamun\\appdata\\local\\programs\\python\\python310\\lib\\site-packages (from matplotlib) (1.4.4)\n",
      "Requirement already satisfied: numpy>=1.20 in c:\\users\\mamun\\appdata\\local\\programs\\python\\python310\\lib\\site-packages (from matplotlib) (1.24.2)\n",
      "Requirement already satisfied: pyparsing>=2.3.1 in c:\\users\\mamun\\appdata\\local\\programs\\python\\python310\\lib\\site-packages (from matplotlib) (3.0.9)\n",
      "Requirement already satisfied: cycler>=0.10 in c:\\users\\mamun\\appdata\\local\\programs\\python\\python310\\lib\\site-packages (from matplotlib) (0.11.0)\n",
      "Requirement already satisfied: python-dateutil>=2.7 in c:\\users\\mamun\\appdata\\local\\programs\\python\\python310\\lib\\site-packages (from matplotlib) (2.8.2)\n",
      "Requirement already satisfied: fonttools>=4.22.0 in c:\\users\\mamun\\appdata\\local\\programs\\python\\python310\\lib\\site-packages (from matplotlib) (4.39.2)\n",
      "Requirement already satisfied: packaging>=20.0 in c:\\users\\mamun\\appdata\\local\\programs\\python\\python310\\lib\\site-packages (from matplotlib) (23.0)\n",
      "Requirement already satisfied: contourpy>=1.0.1 in c:\\users\\mamun\\appdata\\local\\programs\\python\\python310\\lib\\site-packages (from matplotlib) (1.0.7)\n",
      "Requirement already satisfied: six>=1.5 in c:\\users\\mamun\\appdata\\local\\programs\\python\\python310\\lib\\site-packages (from python-dateutil>=2.7->matplotlib) (1.16.0)\n"
     ]
    },
    {
     "data": {
      "image/png": "[encoded data removed]",
      "text/plain": [
       "<Figure size 640x480 with 1 Axes>"
      ]
     },
     "metadata": {},
     "output_type": "display_data"
    }
   ],
   "source": [
    "!pip install matplotlib\n",
    "import matplotlib.pyplot as plt\n",
    "\n",
    "plt.hist(data)\n",
    "plt.show()"
   ]
  },
  {
   "cell_type": "code",
   "execution_count": 12,
   "id": "95ec756b",
   "metadata": {},
   "outputs": [
    {
     "data": {
      "text/plain": [
       "<Axes: >"
      ]
     },
     "execution_count": 12,
     "metadata": {},
     "output_type": "execute_result"
    },
    {
     "data": {
      "image/png": "[encoded data removed]",
      "text/plain": [
       "<Figure size 640x480 with 1 Axes>"
      ]
     },
     "metadata": {},
     "output_type": "display_data"
    }
   ],
   "source": [
    "import matplotlib.pyplot as plt\n",
    "\n",
    "data.boxplot()"
   ]
  },
  {
   "cell_type": "markdown",
   "id": "c4fbfd58",
   "metadata": {},
   "source": [
    "### ■\tIs it possible to divide a categorical dataset using quartiles"
   ]
  },
  {
   "cell_type": "markdown",
   "id": "2a0b7ccf",
   "metadata": {},
   "source": [
    "#### No, it is not possible to divide a categorical dataset into quartiles because quartiles are a statistical concept that applies to numerical data. Quartiles are a way of dividing a dataset into four equal parts based on their numerical values."
   ]
  },
  {
   "cell_type": "markdown",
   "id": "c09f4926",
   "metadata": {},
   "source": [
    "# 3.\tSuppose we have list of set of colors\n",
    "### Colors = [Red, Green, Blue, Blue, Green, Red, Yellow, Orange, Purple, Blue, Green, Red, Blue, Yellow, Orange, Green, Blue, Red, Yellow, Green]\n",
    "\n",
    "### How can we make Quartiles in such a case?\n"
   ]
  },
  {
   "cell_type": "markdown",
   "id": "ed215798",
   "metadata": {},
   "source": [
    "#### In this case, since we have a categorical dataset (a list of colors), we cannot use quartiles directly as they are meant for numerical data. However, we can create quartiles for the frequencies of each color in the dataset.\n",
    "\n",
    "#### To do this, we can first count the frequency of each color using the collections module in Python. "
   ]
  },
  {
   "cell_type": "markdown",
   "id": "93e5865a",
   "metadata": {},
   "source": [
    "#### split the data into 4 different parts based on R, G and B of each color. R, g and B have 211 like numbers."
   ]
  },
  {
   "cell_type": "markdown",
   "id": "e008be43",
   "metadata": {},
   "source": [
    "# HomeWork 2"
   ]
  },
  {
   "cell_type": "markdown",
   "id": "13827a6d",
   "metadata": {},
   "source": [
    "# Compute the covariance between three variables"
   ]
  },
  {
   "cell_type": "code",
   "execution_count": 2,
   "id": "0f36115e",
   "metadata": {},
   "outputs": [],
   "source": [
    "import pandas as pd\n",
    "data = pd.read_excel('Group3.xlsx')"
   ]
  },
  {
   "cell_type": "code",
   "execution_count": 7,
   "id": "ba8c9fae",
   "metadata": {},
   "outputs": [
    {
     "data": {
      "text/plain": [
       "{'x': 0      419\n",
       " 1      432\n",
       " 2      429\n",
       " 3      424\n",
       " 4      433\n",
       "       ... \n",
       " 133    446\n",
       " 134    432\n",
       " 135    430\n",
       " 136    437\n",
       " 137    437\n",
       " Name: S1, Length: 138, dtype: int64,\n",
       " 'y': 0      362\n",
       " 1      364\n",
       " 2      370\n",
       " 3      362\n",
       " 4      372\n",
       "       ... \n",
       " 133    355\n",
       " 134    367\n",
       " 135    353\n",
       " 136    362\n",
       " 137    367\n",
       " Name: S2, Length: 138, dtype: int64,\n",
       " 'z': 0      373\n",
       " 1      392\n",
       " 2      379\n",
       " 3      385\n",
       " 4      383\n",
       "       ... \n",
       " 133    349\n",
       " 134    383\n",
       " 135    355\n",
       " 136    386\n",
       " 137    381\n",
       " Name: S3, Length: 138, dtype: int64}"
      ]
     },
     "execution_count": 7,
     "metadata": {},
     "output_type": "execute_result"
    }
   ],
   "source": [
    "data"
   ]
  },
  {
   "cell_type": "code",
   "execution_count": 4,
   "id": "64aa9ca3",
   "metadata": {},
   "outputs": [],
   "source": [
    "# creating three variable from data\n",
    "\n",
    "x=data[\"S1\"]\n",
    "y=data[\"S2\"]\n",
    "z=data[\"S3\"]"
   ]
  },
  {
   "cell_type": "markdown",
   "id": "0fb5031a",
   "metadata": {},
   "source": [
    "# Compute the covariance between three variables"
   ]
  },
  {
   "cell_type": "code",
   "execution_count": 5,
   "id": "f970860e",
   "metadata": {},
   "outputs": [
    {
     "data": {
      "text/html": [
       "<div>\n",
       "<style scoped>\n",
       "    .dataframe tbody tr th:only-of-type {\n",
       "        vertical-align: middle;\n",
       "    }\n",
       "\n",
       "    .dataframe tbody tr th {\n",
       "        vertical-align: top;\n",
       "    }\n",
       "\n",
       "    .dataframe thead th {\n",
       "        text-align: right;\n",
       "    }\n",
       "</style>\n",
       "<table border=\"1\" class=\"dataframe\">\n",
       "  <thead>\n",
       "    <tr style=\"text-align: right;\">\n",
       "      <th></th>\n",
       "      <th>x</th>\n",
       "      <th>y</th>\n",
       "      <th>z</th>\n",
       "    </tr>\n",
       "  </thead>\n",
       "  <tbody>\n",
       "    <tr>\n",
       "      <th>x</th>\n",
       "      <td>105.123241</td>\n",
       "      <td>10.964456</td>\n",
       "      <td>5.242780</td>\n",
       "    </tr>\n",
       "    <tr>\n",
       "      <th>y</th>\n",
       "      <td>10.964456</td>\n",
       "      <td>84.171374</td>\n",
       "      <td>89.262456</td>\n",
       "    </tr>\n",
       "    <tr>\n",
       "      <th>z</th>\n",
       "      <td>5.242780</td>\n",
       "      <td>89.262456</td>\n",
       "      <td>650.732942</td>\n",
       "    </tr>\n",
       "  </tbody>\n",
       "</table>\n",
       "</div>"
      ],
      "text/plain": [
       "            x          y           z\n",
       "x  105.123241  10.964456    5.242780\n",
       "y   10.964456  84.171374   89.262456\n",
       "z    5.242780  89.262456  650.732942"
      ]
     },
     "execution_count": 5,
     "metadata": {},
     "output_type": "execute_result"
    }
   ],
   "source": [
    "data = {'x':x , 'y':y , 'z':z }\n",
    "df = pd.DataFrame(data)\n",
    "\n",
    "df.cov()"
   ]
  },
  {
   "cell_type": "code",
   "execution_count": 6,
   "id": "524ff66e",
   "metadata": {},
   "outputs": [
    {
     "data": {
      "text/plain": [
       "<Axes: >"
      ]
     },
     "execution_count": 6,
     "metadata": {},
     "output_type": "execute_result"
    },
    {
     "data": {
      "image/png": "[encoded data removed]",
      "text/plain": [
       "<Figure size 640x480 with 2 Axes>"
      ]
     },
     "metadata": {},
     "output_type": "display_data"
    }
   ],
   "source": [
    "import seaborn as sns\n",
    "\n",
    "sns.heatmap(df.cov(), annot=True, cmap='coolwarm')"
   ]
  },
  {
   "cell_type": "markdown",
   "id": "6db7c23c",
   "metadata": {},
   "source": [
    "# Compute the correlation coefficients between three variables"
   ]
  },
  {
   "cell_type": "code",
   "execution_count": 56,
   "id": "a58833e3",
   "metadata": {},
   "outputs": [
    {
     "data": {
      "text/html": [
       "<div>\n",
       "<style scoped>\n",
       "    .dataframe tbody tr th:only-of-type {\n",
       "        vertical-align: middle;\n",
       "    }\n",
       "\n",
       "    .dataframe tbody tr th {\n",
       "        vertical-align: top;\n",
       "    }\n",
       "\n",
       "    .dataframe thead th {\n",
       "        text-align: right;\n",
       "    }\n",
       "</style>\n",
       "<table border=\"1\" class=\"dataframe\">\n",
       "  <thead>\n",
       "    <tr style=\"text-align: right;\">\n",
       "      <th></th>\n",
       "      <th>x</th>\n",
       "      <th>y</th>\n",
       "      <th>z</th>\n",
       "    </tr>\n",
       "  </thead>\n",
       "  <tbody>\n",
       "    <tr>\n",
       "      <th>x</th>\n",
       "      <td>1.000000</td>\n",
       "      <td>0.078373</td>\n",
       "      <td>-0.022353</td>\n",
       "    </tr>\n",
       "    <tr>\n",
       "      <th>y</th>\n",
       "      <td>0.078373</td>\n",
       "      <td>1.000000</td>\n",
       "      <td>0.298125</td>\n",
       "    </tr>\n",
       "    <tr>\n",
       "      <th>z</th>\n",
       "      <td>-0.022353</td>\n",
       "      <td>0.298125</td>\n",
       "      <td>1.000000</td>\n",
       "    </tr>\n",
       "  </tbody>\n",
       "</table>\n",
       "</div>"
      ],
      "text/plain": [
       "          x         y         z\n",
       "x  1.000000  0.078373 -0.022353\n",
       "y  0.078373  1.000000  0.298125\n",
       "z -0.022353  0.298125  1.000000"
      ]
     },
     "execution_count": 56,
     "metadata": {},
     "output_type": "execute_result"
    }
   ],
   "source": [
    "# Pearson correlation coefficient,Kendall rank correlation coefficient,Spearman’s rank correlation coefficient\n",
    "\n",
    "corr_coef=df.corr(method=\"spearman\")\n",
    "corr_coef"
   ]
  },
  {
   "cell_type": "markdown",
   "id": "4e8fc660",
   "metadata": {},
   "source": [
    "# Plot and report the relationships between the variables"
   ]
  },
  {
   "cell_type": "code",
   "execution_count": 57,
   "id": "fa36a83f",
   "metadata": {},
   "outputs": [
    {
     "name": "stdout",
     "output_type": "stream",
     "text": [
      "Requirement already satisfied: seaborn in c:\\users\\mamun\\appdata\\local\\programs\\python\\python310\\lib\\site-packages (0.12.2)\n",
      "Requirement already satisfied: pandas>=0.25 in c:\\users\\mamun\\appdata\\local\\programs\\python\\python310\\lib\\site-packages (from seaborn) (1.5.3)\n",
      "Requirement already satisfied: matplotlib!=3.6.1,>=3.1 in c:\\users\\mamun\\appdata\\local\\programs\\python\\python310\\lib\\site-packages (from seaborn) (3.7.1)\n",
      "Requirement already satisfied: numpy!=1.24.0,>=1.17 in c:\\users\\mamun\\appdata\\local\\programs\\python\\python310\\lib\\site-packages (from seaborn) (1.24.2)\n",
      "Requirement already satisfied: kiwisolver>=1.0.1 in c:\\users\\mamun\\appdata\\local\\programs\\python\\python310\\lib\\site-packages (from matplotlib!=3.6.1,>=3.1->seaborn) (1.4.4)\n",
      "Requirement already satisfied: packaging>=20.0 in c:\\users\\mamun\\appdata\\local\\programs\\python\\python310\\lib\\site-packages (from matplotlib!=3.6.1,>=3.1->seaborn) (23.0)\n",
      "Requirement already satisfied: pillow>=6.2.0 in c:\\users\\mamun\\appdata\\local\\programs\\python\\python310\\lib\\site-packages (from matplotlib!=3.6.1,>=3.1->seaborn) (9.4.0)\n",
      "Requirement already satisfied: python-dateutil>=2.7 in c:\\users\\mamun\\appdata\\local\\programs\\python\\python310\\lib\\site-packages (from matplotlib!=3.6.1,>=3.1->seaborn) (2.8.2)\n",
      "Requirement already satisfied: pyparsing>=2.3.1 in c:\\users\\mamun\\appdata\\local\\programs\\python\\python310\\lib\\site-packages (from matplotlib!=3.6.1,>=3.1->seaborn) (3.0.9)\n",
      "Requirement already satisfied: contourpy>=1.0.1 in c:\\users\\mamun\\appdata\\local\\programs\\python\\python310\\lib\\site-packages (from matplotlib!=3.6.1,>=3.1->seaborn) (1.0.7)\n",
      "Requirement already satisfied: cycler>=0.10 in c:\\users\\mamun\\appdata\\local\\programs\\python\\python310\\lib\\site-packages (from matplotlib!=3.6.1,>=3.1->seaborn) (0.11.0)\n",
      "Requirement already satisfied: fonttools>=4.22.0 in c:\\users\\mamun\\appdata\\local\\programs\\python\\python310\\lib\\site-packages (from matplotlib!=3.6.1,>=3.1->seaborn) (4.39.2)\n",
      "Requirement already satisfied: pytz>=2020.1 in c:\\users\\mamun\\appdata\\local\\programs\\python\\python310\\lib\\site-packages (from pandas>=0.25->seaborn) (2022.7.1)\n",
      "Requirement already satisfied: six>=1.5 in c:\\users\\mamun\\appdata\\local\\programs\\python\\python310\\lib\\site-packages (from python-dateutil>=2.7->matplotlib!=3.6.1,>=3.1->seaborn) (1.16.0)\n"
     ]
    },
    {
     "name": "stderr",
     "output_type": "stream",
     "text": [
      "\n",
      "[notice] A new release of pip available: 22.2.2 -> 23.0.1\n",
      "[notice] To update, run: python.exe -m pip install --upgrade pip\n"
     ]
    },
    {
     "data": {
      "text/plain": [
       "<Axes: >"
      ]
     },
     "execution_count": 57,
     "metadata": {},
     "output_type": "execute_result"
    },
    {
     "data": {
      "image/png": "[encoded data removed]",
      "text/plain": [
       "<Figure size 640x480 with 2 Axes>"
      ]
     },
     "metadata": {},
     "output_type": "display_data"
    }
   ],
   "source": [
    "!pip install seaborn\n",
    "import seaborn as sns\n",
    "\n",
    "sns.heatmap(corr_coef, annot=True, cmap='coolwarm')"
   ]
  },
  {
   "cell_type": "markdown",
   "id": "a87fc44c",
   "metadata": {},
   "source": [
    "## The diagonal elements of the matrix represent the correlation of each variable with itself, which is always 1.\n",
    "the correlation coefficient between x and y is 0.078373, which indicates a weak positive correlation between x and y. \n",
    "### Similarly, the correlation coefficient between y and z is 0.298125, \n",
    " the correlation coefficient between y and z is 0.298125, indicating a moderate positive correlation between y and z.\n",
    "The negative correlation coefficient between x and z (-0.022353) indicates a weak negative correlation between x and z. This means that as the value of x increases, the value of z tends to decrease, and vice versa.\n",
    "Overall, this correlation matrix suggests that there are weak to moderate correlations between the three variables."
   ]
  },
  {
   "cell_type": "code",
   "execution_count": 58,
   "id": "a7903909",
   "metadata": {},
   "outputs": [
    {
     "data": {
      "image/png": "[encoded data removed]",
      "text/plain": [
       "<Figure size 800x800 with 9 Axes>"
      ]
     },
     "metadata": {},
     "output_type": "display_data"
    }
   ],
   "source": [
    "pd.plotting.scatter_matrix(df, figsize=(8, 8))\n",
    "plt.show()"
   ]
  },
  {
   "cell_type": "markdown",
   "id": "4f1345df",
   "metadata": {},
   "source": [
    "# Generate a random sample of 50 observations for each sensor"
   ]
  },
  {
   "cell_type": "code",
   "execution_count": 21,
   "id": "d1842aa1",
   "metadata": {},
   "outputs": [
    {
     "name": "stdout",
     "output_type": "stream",
     "text": [
      "x_random_samle:  [436 446 427 466 439 446 448 426 430 449 442 454 448 432 442 424 445 444\n",
      " 449 432 429 437 434 445 440 438 437 444 441 438 429 424 428 438 425 413\n",
      " 439 449 433 422 441 429 445 422 420 452 428 438 439 429]\n",
      "\n",
      "y_random_samle:  [370 362 353 362 365 362 353 349 370 370 359 364 362 365 369 365 354 361\n",
      " 364 362 343 355 368 363 322 370 356 351 368 355 367 350 364 378 355 359\n",
      " 359 365 363 355 347 367 362 358 370 359 362 366 362 364]\n",
      "\n",
      "z_random_samle:  [379 380 392 390 382 376 290 385 393 372 362 400 330 385 380 373 357 380\n",
      " 392 392 345 375 384 329 373 394 373 327 379 393 380 353 379 361 382 381\n",
      " 377 396 367 346 383 357 347 318 376 327 386 390 381 313]\n"
     ]
    }
   ],
   "source": [
    "import numpy as np\n",
    "\n",
    "x_random_samle= np.random.choice(x, size=50, replace=False)\n",
    "y_random_samle= np.random.choice(y, size=50, replace=False)\n",
    "z_random_samle= np.random.choice(z, size=50, replace=False)\n",
    "\n",
    "print(\"x_random_samle: \",x_random_samle)\n",
    "print()\n",
    "print(\"y_random_samle: \",y_random_samle)\n",
    "print()\n",
    "print(\"z_random_samle: \",z_random_samle)"
   ]
  },
  {
   "cell_type": "code",
   "execution_count": 22,
   "id": "a5919965",
   "metadata": {},
   "outputs": [
    {
     "name": "stdout",
     "output_type": "stream",
     "text": [
      "Mean of S1: 437.02, Standard deviation of S1: 10.15\n",
      "Mean of S2: 360.48, Standard deviation of S2: 8.75\n",
      "Mean of S3: 369.24, Standard deviation of S2: 24.37\n"
     ]
    }
   ],
   "source": [
    "smean1=x_random_samle.mean()\n",
    "sstd1=x_random_samle.std()\n",
    "print('Mean of S1: {:.2f}, Standard deviation of S1: {:.2f}'.format(smean1, sstd1))\n",
    "\n",
    "smean2=y_random_samle.mean()\n",
    "sstd2=y_random_samle.std()\n",
    "print('Mean of S2: {:.2f}, Standard deviation of S2: {:.2f}'.format(smean2, sstd2))\n",
    "\n",
    "smean3=z_random_samle.mean()\n",
    "sstd3=z_random_samle.std()\n",
    "print('Mean of S3: {:.2f}, Standard deviation of S2: {:.2f}'.format(smean3, sstd3))"
   ]
  },
  {
   "cell_type": "markdown",
   "id": "41bd1e28",
   "metadata": {},
   "source": [
    "# Compute the upper and the lower bounds with confidence intervals 90%, 95%, 99%."
   ]
  },
  {
   "cell_type": "code",
   "execution_count": 23,
   "id": "71a1a238",
   "metadata": {},
   "outputs": [],
   "source": [
    "def lower_bound(mean, z_score, std,random_samle):\n",
    "    return (mean- z_score*(std/np.sqrt(len(random_samle))))\n",
    "    \n",
    "def upper_bound(mean, z_score, std,random_samle):\n",
    "    return (mean+ z_score*(std/np.sqrt(len(random_samle))))"
   ]
  },
  {
   "cell_type": "code",
   "execution_count": 24,
   "id": "65de63d5",
   "metadata": {},
   "outputs": [
    {
     "name": "stdout",
     "output_type": "stream",
     "text": [
      "434.2071493770198\n",
      "439.8328506229802\n"
     ]
    }
   ],
   "source": [
    "# 95% confident for S1\n",
    "LCL = lower_bound(smean1,sstd1,1.96,x_random_samle)\n",
    "UCL = upper_bound(smean1,sstd1,1.96,x_random_samle)\n",
    "\n",
    "print(LCL)\n",
    "print(UCL)"
   ]
  },
  {
   "cell_type": "code",
   "execution_count": 25,
   "id": "b211f43a",
   "metadata": {},
   "outputs": [
    {
     "name": "stdout",
     "output_type": "stream",
     "text": [
      "358.0532445390605\n",
      "362.90675546093956\n"
     ]
    }
   ],
   "source": [
    "# 95% confident for S2\n",
    "LCL = lower_bound(smean2,sstd2,1.96,y_random_samle)\n",
    "UCL = upper_bound(smean2,sstd2,1.96,y_random_samle)\n",
    "\n",
    "print(LCL)\n",
    "print(UCL)"
   ]
  },
  {
   "cell_type": "code",
   "execution_count": 26,
   "id": "76e990c3",
   "metadata": {},
   "outputs": [
    {
     "name": "stdout",
     "output_type": "stream",
     "text": [
      "362.4847218801296\n",
      "375.9952781198704\n"
     ]
    }
   ],
   "source": [
    "# 95% confident for S3\n",
    "LCL = lower_bound(smean3,sstd3,1.96,z_random_samle)\n",
    "UCL = upper_bound(smean3,sstd3,1.96,z_random_samle)\n",
    "\n",
    "print(LCL)\n",
    "print(UCL)"
   ]
  },
  {
   "cell_type": "code",
   "execution_count": 27,
   "id": "f48d26b3",
   "metadata": {},
   "outputs": [
    {
     "name": "stdout",
     "output_type": "stream",
     "text": [
      "434.6592146557131\n",
      "439.3807853442869\n"
     ]
    }
   ],
   "source": [
    "# 90% confident for S1 \n",
    "LCL = lower_bound(smean1,sstd1,1.645,x_random_samle)\n",
    "UCL = upper_bound(smean1,sstd1,1.645,x_random_samle)\n",
    "\n",
    "print(LCL)\n",
    "print(UCL)"
   ]
  },
  {
   "cell_type": "code",
   "execution_count": 28,
   "id": "6f5a9c10",
   "metadata": {},
   "outputs": [
    {
     "name": "stdout",
     "output_type": "stream",
     "text": [
      "358.4432588095686\n",
      "362.51674119043145\n"
     ]
    }
   ],
   "source": [
    "# 90% confident for S2\n",
    "LCL = lower_bound(smean2,sstd2,1.645,y_random_samle)\n",
    "UCL = upper_bound(smean2,sstd2,1.645,y_random_samle)\n",
    "\n",
    "print(LCL)\n",
    "print(UCL)"
   ]
  },
  {
   "cell_type": "code",
   "execution_count": 29,
   "id": "144203b1",
   "metadata": {},
   "outputs": [
    {
     "name": "stdout",
     "output_type": "stream",
     "text": [
      "363.5703915779659\n",
      "374.9096084220341\n"
     ]
    }
   ],
   "source": [
    "# 90% confident for S3\n",
    "LCL = lower_bound(smean3,sstd3,1.645,z_random_samle)\n",
    "UCL = upper_bound(smean3,sstd3,1.645,z_random_samle)\n",
    "\n",
    "print(LCL)\n",
    "print(UCL)"
   ]
  },
  {
   "cell_type": "code",
   "execution_count": 30,
   "id": "b54d65f1",
   "metadata": {},
   "outputs": [
    {
     "name": "stdout",
     "output_type": "stream",
     "text": [
      "432.99159607208907\n",
      "441.0484039279109\n"
     ]
    }
   ],
   "source": [
    "# 99% confident for S1 \n",
    "LCL = lower_bound(smean1,sstd1, 2.807,x_random_samle)\n",
    "UCL = upper_bound(smean1,sstd1, 2.807,x_random_samle)\n",
    "\n",
    "print(LCL)\n",
    "print(UCL)"
   ]
  },
  {
   "cell_type": "code",
   "execution_count": 31,
   "id": "bb74c4ba",
   "metadata": {},
   "outputs": [
    {
     "name": "stdout",
     "output_type": "stream",
     "text": [
      "357.004539500583\n",
      "363.95546049941703\n"
     ]
    }
   ],
   "source": [
    "# 99% confident for S2\n",
    "LCL = lower_bound(smean2,sstd2,2.807,y_random_samle)\n",
    "UCL = upper_bound(smean2,sstd2,2.807,y_random_samle)\n",
    "\n",
    "print(LCL)\n",
    "print(UCL)"
   ]
  },
  {
   "cell_type": "code",
   "execution_count": 32,
   "id": "8dcbba09",
   "metadata": {},
   "outputs": [
    {
     "name": "stdout",
     "output_type": "stream",
     "text": [
      "359.56547669261414\n",
      "378.9145233073859\n"
     ]
    }
   ],
   "source": [
    "# 99% confident for S3\n",
    "\n",
    "LCL = lower_bound(smean3,sstd3,2.807,z_random_samle)\n",
    "UCL = upper_bound(smean3,sstd3,2.807,z_random_samle)\n",
    "\n",
    "print(LCL)\n",
    "print(UCL)"
   ]
  },
  {
   "cell_type": "markdown",
   "id": "92bdac82",
   "metadata": {},
   "source": [
    "# Compare the population means of each sample with the estimated one given the samples"
   ]
  },
  {
   "cell_type": "code",
   "execution_count": 46,
   "id": "8641ba61",
   "metadata": {},
   "outputs": [
    {
     "name": "stdout",
     "output_type": "stream",
     "text": [
      "Population mean S1: 435.03\n"
     ]
    }
   ],
   "source": [
    "population_means_S1 = np.array(x).mean()\n",
    "print(\"Population mean S1: {:.2f}\".format(population_means_S1))"
   ]
  },
  {
   "cell_type": "code",
   "execution_count": 47,
   "id": "5acbd249",
   "metadata": {},
   "outputs": [
    {
     "name": "stdout",
     "output_type": "stream",
     "text": [
      "Sample mean: S1: 437.02\n"
     ]
    }
   ],
   "source": [
    "smean1=x_random_samle.mean()\n",
    "print('Sample mean: S1: {:.2f}'.format(smean1))"
   ]
  },
  {
   "cell_type": "code",
   "execution_count": 48,
   "id": "7a34399e",
   "metadata": {},
   "outputs": [
    {
     "name": "stdout",
     "output_type": "stream",
     "text": [
      "Population mean S2: 360.22\n"
     ]
    }
   ],
   "source": [
    "population_means_S2 = np.array(y).mean()\n",
    "print(\"Population mean S2: {:.2f}\".format(population_means_S2))"
   ]
  },
  {
   "cell_type": "code",
   "execution_count": 49,
   "id": "aa095c27",
   "metadata": {},
   "outputs": [
    {
     "name": "stdout",
     "output_type": "stream",
     "text": [
      "Sample mean: S2: 360.48\n"
     ]
    }
   ],
   "source": [
    "smean2=y_random_samle.mean()\n",
    "sstd2=y_random_samle.std()\n",
    "print('Sample mean: S2: {:.2f}'.format(smean2))"
   ]
  },
  {
   "cell_type": "code",
   "execution_count": 50,
   "id": "8d85add7",
   "metadata": {},
   "outputs": [
    {
     "name": "stdout",
     "output_type": "stream",
     "text": [
      "Population mean S3: 366.93\n"
     ]
    }
   ],
   "source": [
    "population_means_S3 = np.array(z).mean()\n",
    "print(\"Population mean S3: {:.2f}\".format(population_means_S3))"
   ]
  },
  {
   "cell_type": "code",
   "execution_count": 51,
   "id": "4deb3372",
   "metadata": {},
   "outputs": [
    {
     "name": "stdout",
     "output_type": "stream",
     "text": [
      "Sample mean: S3: 369.24\n"
     ]
    }
   ],
   "source": [
    "smean3=z_random_samle.mean()\n",
    "sstd3=z_random_samle.std()\n",
    "print('Sample mean: S3: {:.2f}'.format(smean3))"
   ]
  },
  {
   "cell_type": "markdown",
   "id": "cc3fa9cf",
   "metadata": {},
   "source": [
    "# So, Samples are unbiased and gives small sampling error. It indicates that samples gives good representation of the populations."
   ]
  },
  {
   "cell_type": "markdown",
   "id": "219d490f",
   "metadata": {},
   "source": [
    "# Prediction interval"
   ]
  },
  {
   "cell_type": "code",
   "execution_count": null,
   "id": "da11c9a1",
   "metadata": {},
   "outputs": [],
   "source": []
  },
  {
   "cell_type": "code",
   "execution_count": null,
   "id": "15088340",
   "metadata": {},
   "outputs": [],
   "source": []
  }
 ],
 "metadata": {
  "kernelspec": {
   "display_name": "Python 3 (ipykernel)",
   "language": "python",
   "name": "python3"
  },
  "language_info": {
   "codemirror_mode": {
    "name": "ipython",
    "version": 3
   },
   "file_extension": ".py",
   "mimetype": "text/x-python",
   "name": "python",
   "nbconvert_exporter": "python",
   "pygments_lexer": "ipython3",
   "version": "3.10.9"
  }
 },
 "nbformat": 4,
 "nbformat_minor": 5
}
