{
  "nbformat": 4,
  "nbformat_minor": 0,
  "metadata": {
    "colab": {
      "provenance": [],
      "authorship_tag": "ABX9TyNAZ0CkLelU7vr7FXASZUK4",
      "include_colab_link": true
    },
    "kernelspec": {
      "name": "python3",
      "display_name": "Python 3"
    },
    "language_info": {
      "name": "python"
    }
  },
  "cells": [
    {
      "cell_type": "markdown",
      "metadata": {
        "id": "view-in-github",
        "colab_type": "text"
      },
      "source": [
        "<a href=\"https://colab.research.google.com/github/afshari-maryam/Python-Assignment1/blob/main/Python_Assignmemt1_solution.ipynb\" target=\"_parent\"><img src=\"https://colab.research.google.com/assets/colab-badge.svg\" alt=\"Open In Colab\"/></a>"
      ]
    },
    {
      "cell_type": "markdown",
      "source": [
        "#Python-Assignmemt1"
      ],
      "metadata": {
        "id": "PtuYsp4ija6I"
      }
    },
    {
      "cell_type": "markdown",
      "source": [
        "This assignmet is about Python Data Types\n",
        "\n",
        "Python Basics: Data types"
      ],
      "metadata": {
        "id": "zaSOvlQmjeGY"
      }
    },
    {
      "cell_type": "markdown",
      "source": [
        "#1.\n",
        " Use the constructor methods to create different data types in python (integer,float,string,list,tuple,dictionary,set etc.). Also use object literals to create those data types.**"
      ],
      "metadata": {
        "id": "SBXLMufIjgtf"
      }
    },
    {
      "cell_type": "code",
      "execution_count": null,
      "metadata": {
        "id": "D6rIe8GajB9r",
        "outputId": "9f2b4605-5094-4ad1-b604-ec503a0e70c6",
        "colab": {
          "base_uri": "https://localhost:8080/"
        }
      },
      "outputs": [
        {
          "output_type": "execute_result",
          "data": {
            "text/plain": [
              "10"
            ]
          },
          "metadata": {},
          "execution_count": 2
        }
      ],
      "source": [
        "#Integer \n",
        "#constructor method\n",
        "x = int(10)\n",
        "x"
      ]
    },
    {
      "cell_type": "code",
      "source": [
        "#Integer \n",
        "#object litteral\n",
        "x=10\n",
        "x"
      ],
      "metadata": {
        "id": "vymR-L__l8Xx",
        "outputId": "c4e5174b-641b-4bd6-d5d7-6de8e53bc1d0",
        "colab": {
          "base_uri": "https://localhost:8080/"
        }
      },
      "execution_count": null,
      "outputs": [
        {
          "output_type": "execute_result",
          "data": {
            "text/plain": [
              "10"
            ]
          },
          "metadata": {},
          "execution_count": 3
        }
      ]
    },
    {
      "cell_type": "code",
      "source": [
        "#Float\n",
        "#constructor method\n",
        "y = float(5.67)\n",
        "y"
      ],
      "metadata": {
        "id": "FiKYxB5NmSsG",
        "outputId": "0575bac1-5299-4afc-a106-7a4e73e465ed",
        "colab": {
          "base_uri": "https://localhost:8080/"
        }
      },
      "execution_count": null,
      "outputs": [
        {
          "output_type": "execute_result",
          "data": {
            "text/plain": [
              "5.67"
            ]
          },
          "metadata": {},
          "execution_count": 6
        }
      ]
    },
    {
      "cell_type": "code",
      "source": [
        "#Float\n",
        "#object litteral\n",
        "y = 5.67\n",
        "y"
      ],
      "metadata": {
        "id": "YhINmVzKmfol",
        "outputId": "95d8be24-42eb-4e9d-9c25-dfa7ab3aab29",
        "colab": {
          "base_uri": "https://localhost:8080/"
        }
      },
      "execution_count": null,
      "outputs": [
        {
          "output_type": "execute_result",
          "data": {
            "text/plain": [
              "5.67"
            ]
          },
          "metadata": {},
          "execution_count": 7
        }
      ]
    },
    {
      "cell_type": "code",
      "source": [
        "#String\n",
        "#constructor method\n",
        "s = str(\"hello Integrify\")\n",
        "s"
      ],
      "metadata": {
        "colab": {
          "base_uri": "https://localhost:8080/",
          "height": 36
        },
        "id": "4QOpZpa6mlgv",
        "outputId": "c16676fb-ab06-4e09-e2a6-f1d04590e139"
      },
      "execution_count": null,
      "outputs": [
        {
          "output_type": "execute_result",
          "data": {
            "text/plain": [
              "'hello Integrify'"
            ],
            "application/vnd.google.colaboratory.intrinsic+json": {
              "type": "string"
            }
          },
          "metadata": {},
          "execution_count": 8
        }
      ]
    },
    {
      "cell_type": "code",
      "source": [
        "#String\n",
        "#object litteral\n",
        "s = \"hello Integrify\"\n",
        "s"
      ],
      "metadata": {
        "id": "bvGdaelKm5e6",
        "outputId": "2d7150ae-67a5-4447-9e14-19d877fc74c8",
        "colab": {
          "base_uri": "https://localhost:8080/",
          "height": 36
        }
      },
      "execution_count": null,
      "outputs": [
        {
          "output_type": "execute_result",
          "data": {
            "text/plain": [
              "'hello Integrify'"
            ],
            "application/vnd.google.colaboratory.intrinsic+json": {
              "type": "string"
            }
          },
          "metadata": {},
          "execution_count": 11
        }
      ]
    },
    {
      "cell_type": "code",
      "source": [
        "#List\n",
        "#constructor method\n",
        "L = list([10,9,8])\n",
        "L"
      ],
      "metadata": {
        "colab": {
          "base_uri": "https://localhost:8080/"
        },
        "id": "_udC6WEXnPnP",
        "outputId": "cd60936b-e8a4-4d77-ef74-4613aa4d2fe7"
      },
      "execution_count": null,
      "outputs": [
        {
          "output_type": "execute_result",
          "data": {
            "text/plain": [
              "[10, 9, 8]"
            ]
          },
          "metadata": {},
          "execution_count": 25
        }
      ]
    },
    {
      "cell_type": "code",
      "source": [
        "#List\n",
        "#object litteral\n",
        "L = [10,9,8]\n",
        "L"
      ],
      "metadata": {
        "outputId": "f0377f6d-8440-4fe7-a529-2547d9173fbd",
        "colab": {
          "base_uri": "https://localhost:8080/"
        },
        "id": "U1z1a_unncv5"
      },
      "execution_count": null,
      "outputs": [
        {
          "output_type": "execute_result",
          "data": {
            "text/plain": [
              "[10, 9, 8]"
            ]
          },
          "metadata": {},
          "execution_count": 26
        }
      ]
    },
    {
      "cell_type": "code",
      "source": [
        "#Tuple\n",
        "#constructor method\n",
        "T = tuple((1, 2, 3,4,5,6))\n",
        "T"
      ],
      "metadata": {
        "colab": {
          "base_uri": "https://localhost:8080/"
        },
        "outputId": "93f7a5c4-b48a-4743-e7c5-85643db9c8dd",
        "id": "Ws47kX3enmSp"
      },
      "execution_count": null,
      "outputs": [
        {
          "output_type": "execute_result",
          "data": {
            "text/plain": [
              "(1, 2, 3, 4, 5, 6)"
            ]
          },
          "metadata": {},
          "execution_count": 15
        }
      ]
    },
    {
      "cell_type": "code",
      "source": [
        "#Tuple\n",
        "#object litteral\n",
        "T = (1, 2, 3,4,5,6)\n",
        "T"
      ],
      "metadata": {
        "colab": {
          "base_uri": "https://localhost:8080/"
        },
        "outputId": "745efcf1-1410-4020-8e44-1c9bf29b4f9b",
        "id": "v9QZLR3Qn0Ro"
      },
      "execution_count": null,
      "outputs": [
        {
          "output_type": "execute_result",
          "data": {
            "text/plain": [
              "(1, 2, 3, 4, 5, 6)"
            ]
          },
          "metadata": {},
          "execution_count": 16
        }
      ]
    },
    {
      "cell_type": "code",
      "source": [
        "#Dictionary\n",
        "#constructor method\n",
        "D = dict({\"name\": \"Maryam\",\"Id_number\":123456, \"age\": 24})\n",
        "D"
      ],
      "metadata": {
        "id": "Zj3vTCVJn8rQ",
        "outputId": "9d75adbb-ae9b-46e2-b9db-f2fbc39d77a4",
        "colab": {
          "base_uri": "https://localhost:8080/"
        }
      },
      "execution_count": null,
      "outputs": [
        {
          "output_type": "execute_result",
          "data": {
            "text/plain": [
              "{'name': 'Maryam', 'Id_number': 123456, 'age': 24}"
            ]
          },
          "metadata": {},
          "execution_count": 19
        }
      ]
    },
    {
      "cell_type": "code",
      "source": [
        "#Dictionary\n",
        "#object litteral\n",
        "D = {\"name\": \"Maryam\",\"Id_number\":123456, \"age\": 24}\n",
        "D"
      ],
      "metadata": {
        "id": "t3LFOc7voRtm",
        "outputId": "d6d1778a-e400-4450-f32d-e5267ab9ed74",
        "colab": {
          "base_uri": "https://localhost:8080/"
        }
      },
      "execution_count": null,
      "outputs": [
        {
          "output_type": "execute_result",
          "data": {
            "text/plain": [
              "{'name': 'Maryam', 'Id_number': 123456, 'age': 24}"
            ]
          },
          "metadata": {},
          "execution_count": 22
        }
      ]
    },
    {
      "cell_type": "code",
      "source": [
        "#Set\n",
        "#constructor method\n",
        "z = set([10,9,8])\n",
        "z"
      ],
      "metadata": {
        "colab": {
          "base_uri": "https://localhost:8080/"
        },
        "id": "GdirNE2Iogtu",
        "outputId": "6f3d9e8b-c2a9-4b6b-e37c-951ad4fd856a"
      },
      "execution_count": null,
      "outputs": [
        {
          "output_type": "execute_result",
          "data": {
            "text/plain": [
              "{8, 9, 10}"
            ]
          },
          "metadata": {},
          "execution_count": 21
        }
      ]
    },
    {
      "cell_type": "code",
      "source": [
        "#Set\n",
        "#object litteral\n",
        "z =  {10,9,8}\n",
        "z"
      ],
      "metadata": {
        "outputId": "2ff7987d-490a-482e-d09b-cf4fc34cbbe1",
        "colab": {
          "base_uri": "https://localhost:8080/"
        },
        "id": "P4HE2ei3opY9"
      },
      "execution_count": null,
      "outputs": [
        {
          "output_type": "execute_result",
          "data": {
            "text/plain": [
              "{8, 9, 10}"
            ]
          },
          "metadata": {},
          "execution_count": 24
        }
      ]
    },
    {
      "cell_type": "markdown",
      "source": [
        "#2. \n",
        "Operators in python https://www.w3schools.com/python/python_operators.asp\n",
        "Create two operands and play around using different operators\n"
      ],
      "metadata": {
        "id": "O-SX6fOJp0ua"
      }
    },
    {
      "cell_type": "code",
      "source": [
        "# Addition operator\n",
        "x = 7\n",
        "y = 12\n",
        "result = x + y\n",
        "print(result) \n"
      ],
      "metadata": {
        "colab": {
          "base_uri": "https://localhost:8080/"
        },
        "id": "wRT6OyxPp5H8",
        "outputId": "3bcc202c-c02c-49bf-edb0-4fa72424d4ae"
      },
      "execution_count": null,
      "outputs": [
        {
          "output_type": "stream",
          "name": "stdout",
          "text": [
            "19\n"
          ]
        }
      ]
    },
    {
      "cell_type": "code",
      "source": [
        "# Addition operator\n",
        "x = 7\n",
        "y = 13\n",
        "result = x + y\n",
        "print(result) "
      ],
      "metadata": {
        "colab": {
          "base_uri": "https://localhost:8080/"
        },
        "id": "NUD4Z073p80x",
        "outputId": "3b37a918-f840-434d-f4a0-0cdbcd034004"
      },
      "execution_count": null,
      "outputs": [
        {
          "output_type": "stream",
          "name": "stdout",
          "text": [
            "20\n"
          ]
        }
      ]
    },
    {
      "cell_type": "code",
      "source": [
        "\n",
        "# Multiplication operator\n",
        "x = 4\n",
        "y = 5\n",
        "result = x * y\n",
        "print(result)\n"
      ],
      "metadata": {
        "colab": {
          "base_uri": "https://localhost:8080/"
        },
        "id": "NVqj3PeAqJgL",
        "outputId": "105d2176-8099-4311-cdbe-cae44ef008f2"
      },
      "execution_count": null,
      "outputs": [
        {
          "output_type": "stream",
          "name": "stdout",
          "text": [
            "20\n"
          ]
        }
      ]
    },
    {
      "cell_type": "code",
      "source": [
        "\n",
        "# Division operator\n",
        "x = 10\n",
        "y = 2\n",
        "result = x / y\n",
        "print(result) \n"
      ],
      "metadata": {
        "colab": {
          "base_uri": "https://localhost:8080/"
        },
        "id": "VaO6qK8XqVkI",
        "outputId": "e7c36b32-1a08-4b41-9905-d9141b6b7f19"
      },
      "execution_count": null,
      "outputs": [
        {
          "output_type": "stream",
          "name": "stdout",
          "text": [
            "5.0\n"
          ]
        }
      ]
    },
    {
      "cell_type": "code",
      "source": [
        "\n",
        "# Division operator\n",
        "x = 10\n",
        "y = 0\n",
        "result = x / y\n",
        "print(result) "
      ],
      "metadata": {
        "colab": {
          "base_uri": "https://localhost:8080/",
          "height": 217
        },
        "id": "YK4bCwCSqkLn",
        "outputId": "a8f47456-e3fd-4355-8103-55e3a1564dbf"
      },
      "execution_count": null,
      "outputs": [
        {
          "output_type": "error",
          "ename": "ZeroDivisionError",
          "evalue": "ignored",
          "traceback": [
            "\u001b[0;31m---------------------------------------------------------------------------\u001b[0m",
            "\u001b[0;31mZeroDivisionError\u001b[0m                         Traceback (most recent call last)",
            "\u001b[0;32m<ipython-input-31-8996f413d79c>\u001b[0m in \u001b[0;36m<module>\u001b[0;34m\u001b[0m\n\u001b[1;32m      2\u001b[0m \u001b[0mx\u001b[0m \u001b[0;34m=\u001b[0m \u001b[0;36m10\u001b[0m\u001b[0;34m\u001b[0m\u001b[0;34m\u001b[0m\u001b[0m\n\u001b[1;32m      3\u001b[0m \u001b[0my\u001b[0m \u001b[0;34m=\u001b[0m \u001b[0;36m0\u001b[0m\u001b[0;34m\u001b[0m\u001b[0;34m\u001b[0m\u001b[0m\n\u001b[0;32m----> 4\u001b[0;31m \u001b[0mresult\u001b[0m \u001b[0;34m=\u001b[0m \u001b[0mx\u001b[0m \u001b[0;34m/\u001b[0m \u001b[0my\u001b[0m\u001b[0;34m\u001b[0m\u001b[0;34m\u001b[0m\u001b[0m\n\u001b[0m\u001b[1;32m      5\u001b[0m \u001b[0mprint\u001b[0m\u001b[0;34m(\u001b[0m\u001b[0mresult\u001b[0m\u001b[0;34m)\u001b[0m\u001b[0;34m\u001b[0m\u001b[0;34m\u001b[0m\u001b[0m\n",
            "\u001b[0;31mZeroDivisionError\u001b[0m: division by zero"
          ]
        }
      ]
    },
    {
      "cell_type": "code",
      "source": [
        "# Modulus operator\n",
        "x = 19\n",
        "y = 3\n",
        "result = x % y\n",
        "print(result) \n"
      ],
      "metadata": {
        "colab": {
          "base_uri": "https://localhost:8080/"
        },
        "id": "sd5YS30JqeDu",
        "outputId": "5d922d34-732f-412c-87c1-2576949c62d2"
      },
      "execution_count": null,
      "outputs": [
        {
          "output_type": "stream",
          "name": "stdout",
          "text": [
            "1\n"
          ]
        }
      ]
    },
    {
      "cell_type": "code",
      "source": [
        "# Exponentiation operator\n",
        "x = 2\n",
        "y = 3\n",
        "result = x ** y\n",
        "print(result) \n"
      ],
      "metadata": {
        "colab": {
          "base_uri": "https://localhost:8080/"
        },
        "id": "NXPLiKxuqoxl",
        "outputId": "ef2a4d18-8c59-4450-d455-fa37fb79d46e"
      },
      "execution_count": null,
      "outputs": [
        {
          "output_type": "stream",
          "name": "stdout",
          "text": [
            "8\n"
          ]
        }
      ]
    },
    {
      "cell_type": "code",
      "source": [
        "# Floor Division operator\n",
        "x = 18\n",
        "y = 5\n",
        "result = x // y\n",
        "print(result) "
      ],
      "metadata": {
        "colab": {
          "base_uri": "https://localhost:8080/"
        },
        "id": "0ydU3n2sq2u_",
        "outputId": "b3f8825b-3a7e-413e-eec8-f996e332dbe8"
      },
      "execution_count": null,
      "outputs": [
        {
          "output_type": "stream",
          "name": "stdout",
          "text": [
            "3\n"
          ]
        }
      ]
    },
    {
      "cell_type": "markdown",
      "source": [
        "#3.\n",
        "Once you create an object of each data type, run dir(object). Navigate the magic methods/dunder methods and other methods and attributes of each object. Try to implement those methods and attributes as many as possible.\n",
        "Eg:  a=int(5)\n",
        "       dir(a)\n",
        "       print(a.__add__(5))\n",
        "Implementing above dunder method is same as print(a+5)\n",
        "Verify the data types using methods type and isinstance."
      ],
      "metadata": {
        "id": "R5IiT8ZorrwG"
      }
    },
    {
      "cell_type": "code",
      "source": [
        "# Integer\n",
        "a = int(5)\n",
        "print(dir(a)) \n"
      ],
      "metadata": {
        "colab": {
          "base_uri": "https://localhost:8080/"
        },
        "id": "lG05IGxcr4DD",
        "outputId": "40d628a0-e1cb-4d04-c956-360dfcfd9bee"
      },
      "execution_count": null,
      "outputs": [
        {
          "output_type": "stream",
          "name": "stdout",
          "text": [
            "['__abs__', '__add__', '__and__', '__bool__', '__ceil__', '__class__', '__delattr__', '__dir__', '__divmod__', '__doc__', '__eq__', '__float__', '__floor__', '__floordiv__', '__format__', '__ge__', '__getattribute__', '__getnewargs__', '__gt__', '__hash__', '__index__', '__init__', '__init_subclass__', '__int__', '__invert__', '__le__', '__lshift__', '__lt__', '__mod__', '__mul__', '__ne__', '__neg__', '__new__', '__or__', '__pos__', '__pow__', '__radd__', '__rand__', '__rdivmod__', '__reduce__', '__reduce_ex__', '__repr__', '__rfloordiv__', '__rlshift__', '__rmod__', '__rmul__', '__ror__', '__round__', '__rpow__', '__rrshift__', '__rshift__', '__rsub__', '__rtruediv__', '__rxor__', '__setattr__', '__sizeof__', '__str__', '__sub__', '__subclasshook__', '__truediv__', '__trunc__', '__xor__', 'as_integer_ratio', 'bit_length', 'conjugate', 'denominator', 'from_bytes', 'imag', 'numerator', 'real', 'to_bytes']\n"
          ]
        }
      ]
    },
    {
      "cell_type": "code",
      "source": [
        "# Implementing the __add__() dunder method and verifying the type of the result\n",
        "print(a.__add__(10))\n",
        "print(type(a.__add__(10))) \n",
        "print(isinstance(a.__add__(10), int)) \n"
      ],
      "metadata": {
        "colab": {
          "base_uri": "https://localhost:8080/"
        },
        "id": "Ugc_0K9or6xh",
        "outputId": "cf95e5f6-6604-4853-f28a-e7d043f921d4"
      },
      "execution_count": null,
      "outputs": [
        {
          "output_type": "stream",
          "name": "stdout",
          "text": [
            "15\n",
            "<class 'int'>\n",
            "True\n"
          ]
        }
      ]
    },
    {
      "cell_type": "code",
      "source": [
        "# Float\n",
        "b = float(3.14)\n",
        "print(dir(b)) "
      ],
      "metadata": {
        "colab": {
          "base_uri": "https://localhost:8080/"
        },
        "id": "fuRRI86QsDM_",
        "outputId": "f26495a1-46bb-4d49-fdd1-f3c02b7eae38"
      },
      "execution_count": null,
      "outputs": [
        {
          "output_type": "stream",
          "name": "stdout",
          "text": [
            "['__abs__', '__add__', '__bool__', '__ceil__', '__class__', '__delattr__', '__dir__', '__divmod__', '__doc__', '__eq__', '__float__', '__floor__', '__floordiv__', '__format__', '__ge__', '__getattribute__', '__getformat__', '__getnewargs__', '__gt__', '__hash__', '__init__', '__init_subclass__', '__int__', '__le__', '__lt__', '__mod__', '__mul__', '__ne__', '__neg__', '__new__', '__pos__', '__pow__', '__radd__', '__rdivmod__', '__reduce__', '__reduce_ex__', '__repr__', '__rfloordiv__', '__rmod__', '__rmul__', '__round__', '__rpow__', '__rsub__', '__rtruediv__', '__setattr__', '__setformat__', '__sizeof__', '__str__', '__sub__', '__subclasshook__', '__truediv__', '__trunc__', 'as_integer_ratio', 'conjugate', 'fromhex', 'hex', 'imag', 'is_integer', 'real']\n"
          ]
        }
      ]
    },
    {
      "cell_type": "code",
      "source": [
        "# Implementing the __trunc__() dunder method and verifying the type of the result\n",
        "print(b.__trunc__()) \n",
        "print(type(b.__trunc__())) \n",
        "print(isinstance(b.__trunc__(), int)) \n"
      ],
      "metadata": {
        "colab": {
          "base_uri": "https://localhost:8080/"
        },
        "id": "2lcL85TNsjaG",
        "outputId": "a0ce2e62-6fbe-4288-a969-efde8a5e1a0c"
      },
      "execution_count": null,
      "outputs": [
        {
          "output_type": "stream",
          "name": "stdout",
          "text": [
            "3\n",
            "<class 'int'>\n",
            "True\n"
          ]
        }
      ]
    },
    {
      "cell_type": "code",
      "source": [
        "# String\n",
        "c = str(\"hello\")\n",
        "print(dir(c)) "
      ],
      "metadata": {
        "colab": {
          "base_uri": "https://localhost:8080/"
        },
        "id": "iJfOUeUQsr0s",
        "outputId": "68409a0f-ff73-4451-c261-a1ab6e40ca01"
      },
      "execution_count": null,
      "outputs": [
        {
          "output_type": "stream",
          "name": "stdout",
          "text": [
            "['__add__', '__class__', '__contains__', '__delattr__', '__dir__', '__doc__', '__eq__', '__format__', '__ge__', '__getattribute__', '__getitem__', '__getnewargs__', '__gt__', '__hash__', '__init__', '__init_subclass__', '__iter__', '__le__', '__len__', '__lt__', '__mod__', '__mul__', '__ne__', '__new__', '__reduce__', '__reduce_ex__', '__repr__', '__rmod__', '__rmul__', '__setattr__', '__sizeof__', '__str__', '__subclasshook__', 'capitalize', 'casefold', 'center', 'count', 'encode', 'endswith', 'expandtabs', 'find', 'format', 'format_map', 'index', 'isalnum', 'isalpha', 'isascii', 'isdecimal', 'isdigit', 'isidentifier', 'islower', 'isnumeric', 'isprintable', 'isspace', 'istitle', 'isupper', 'join', 'ljust', 'lower', 'lstrip', 'maketrans', 'partition', 'removeprefix', 'removesuffix', 'replace', 'rfind', 'rindex', 'rjust', 'rpartition', 'rsplit', 'rstrip', 'split', 'splitlines', 'startswith', 'strip', 'swapcase', 'title', 'translate', 'upper', 'zfill']\n"
          ]
        }
      ]
    },
    {
      "cell_type": "code",
      "source": [
        "# Implementing the islower() method and verifying the type of the result\n",
        "print(c.islower()) \n",
        "print(type(c.islower())) \n",
        "print(isinstance(c.islower(), bool)) \n"
      ],
      "metadata": {
        "colab": {
          "base_uri": "https://localhost:8080/"
        },
        "id": "xSolcqvPtYmT",
        "outputId": "1e525078-fdf1-43a5-b8f4-0dd196b0d701"
      },
      "execution_count": null,
      "outputs": [
        {
          "output_type": "stream",
          "name": "stdout",
          "text": [
            "True\n",
            "<class 'bool'>\n",
            "True\n"
          ]
        }
      ]
    },
    {
      "cell_type": "code",
      "source": [
        "# Implementing the isupper() method and verifying the type of the result\n",
        "print(c.isupper()) \n",
        "print(type(c.isupper())) \n",
        "print(isinstance(c.isupper(), bool)) \n"
      ],
      "metadata": {
        "colab": {
          "base_uri": "https://localhost:8080/"
        },
        "outputId": "0c410500-ce89-428e-cbbf-9afee2d1c21b",
        "id": "vC_COetrtr3G"
      },
      "execution_count": null,
      "outputs": [
        {
          "output_type": "stream",
          "name": "stdout",
          "text": [
            "False\n",
            "<class 'bool'>\n",
            "True\n"
          ]
        }
      ]
    },
    {
      "cell_type": "code",
      "source": [
        "# List\n",
        "d = list([1, 2, 3])\n",
        "print(dir(d)) \n"
      ],
      "metadata": {
        "colab": {
          "base_uri": "https://localhost:8080/"
        },
        "id": "ObYdpLXHtgzD",
        "outputId": "464df3af-84a4-4fbb-b535-01226242c78c"
      },
      "execution_count": null,
      "outputs": [
        {
          "output_type": "stream",
          "name": "stdout",
          "text": [
            "['__add__', '__class__', '__class_getitem__', '__contains__', '__delattr__', '__delitem__', '__dir__', '__doc__', '__eq__', '__format__', '__ge__', '__getattribute__', '__getitem__', '__gt__', '__hash__', '__iadd__', '__imul__', '__init__', '__init_subclass__', '__iter__', '__le__', '__len__', '__lt__', '__mul__', '__ne__', '__new__', '__reduce__', '__reduce_ex__', '__repr__', '__reversed__', '__rmul__', '__setattr__', '__setitem__', '__sizeof__', '__str__', '__subclasshook__', 'append', 'clear', 'copy', 'count', 'extend', 'index', 'insert', 'pop', 'remove', 'reverse', 'sort']\n"
          ]
        }
      ]
    },
    {
      "cell_type": "code",
      "source": [
        "# Implementing the append() method and verifying the type of the result\n",
        "d.append(4)\n",
        "print(d) \n",
        "print(type(d)) \n",
        "print(isinstance(d, list)) \n"
      ],
      "metadata": {
        "colab": {
          "base_uri": "https://localhost:8080/"
        },
        "id": "tAYu03dkt2Kp",
        "outputId": "f0310de6-b614-46fc-8ad3-60c4347c3b3c"
      },
      "execution_count": null,
      "outputs": [
        {
          "output_type": "stream",
          "name": "stdout",
          "text": [
            "[1, 2, 3, 4]\n",
            "<class 'list'>\n",
            "True\n"
          ]
        }
      ]
    },
    {
      "cell_type": "code",
      "source": [
        "# Tuple\n",
        "e = tuple((1, 2, 3))\n",
        "print(dir(e)) \n"
      ],
      "metadata": {
        "colab": {
          "base_uri": "https://localhost:8080/"
        },
        "id": "4oGUBITwuIa5",
        "outputId": "9ddfec57-6384-4f2d-ac97-de4bd221dd3b"
      },
      "execution_count": null,
      "outputs": [
        {
          "output_type": "stream",
          "name": "stdout",
          "text": [
            "['__add__', '__class__', '__class_getitem__', '__contains__', '__delattr__', '__dir__', '__doc__', '__eq__', '__format__', '__ge__', '__getattribute__', '__getitem__', '__getnewargs__', '__gt__', '__hash__', '__init__', '__init_subclass__', '__iter__', '__le__', '__len__', '__lt__', '__mul__', '__ne__', '__new__', '__reduce__', '__reduce_ex__', '__repr__', '__rmul__', '__setattr__', '__sizeof__', '__str__', '__subclasshook__', 'count', 'index']\n"
          ]
        }
      ]
    },
    {
      "cell_type": "code",
      "source": [
        "# Implementing the index() method and verifying the type of the result\n",
        "print(e.index(2)) \n",
        "print(type(e.index(2))) \n",
        "print(isinstance(e.index(2), int)) \n"
      ],
      "metadata": {
        "colab": {
          "base_uri": "https://localhost:8080/"
        },
        "id": "hNDkAgJLuTYB",
        "outputId": "4fd98144-24ea-453f-9940-51dfd55b4c90"
      },
      "execution_count": null,
      "outputs": [
        {
          "output_type": "stream",
          "name": "stdout",
          "text": [
            "1\n",
            "<class 'int'>\n",
            "True\n"
          ]
        }
      ]
    },
    {
      "cell_type": "code",
      "source": [
        "# Dictionary\n",
        "f = dict({\"name\": \"John\", \"age\": 30})\n",
        "print(dir(f)) \n"
      ],
      "metadata": {
        "outputId": "2bf9d56e-085d-47f0-8b7b-c6037b455e5b",
        "colab": {
          "base_uri": "https://localhost:8080/"
        },
        "id": "q6xbNJzCuZg2"
      },
      "execution_count": null,
      "outputs": [
        {
          "output_type": "stream",
          "name": "stdout",
          "text": [
            "['__class__', '__class_getitem__', '__contains__', '__delattr__', '__delitem__', '__dir__', '__doc__', '__eq__', '__format__', '__ge__', '__getattribute__', '__getitem__', '__gt__', '__hash__', '__init__', '__init_subclass__', '__ior__', '__iter__', '__le__', '__len__', '__lt__', '__ne__', '__new__', '__or__', '__reduce__', '__reduce_ex__', '__repr__', '__reversed__', '__ror__', '__setattr__', '__setitem__', '__sizeof__', '__str__', '__subclasshook__', 'clear', 'copy', 'fromkeys', 'get', 'items', 'keys', 'pop', 'popitem', 'setdefault', 'update', 'values']\n"
          ]
        }
      ]
    },
    {
      "cell_type": "code",
      "source": [
        "# Implementing the update() method and verifying the type of the result\n",
        "f.update({\"city\": \"New York\"})\n",
        "print(f) \n",
        "print(type(f)) \n",
        "print(isinstance(f, dict)) \n"
      ],
      "metadata": {
        "outputId": "f641de47-8dc6-4f7a-fc4f-b217dc8f8004",
        "colab": {
          "base_uri": "https://localhost:8080/"
        },
        "id": "JDTwqQ4Mug1w"
      },
      "execution_count": null,
      "outputs": [
        {
          "output_type": "stream",
          "name": "stdout",
          "text": [
            "{'name': 'John', 'age': 30, 'city': 'New York'}\n",
            "<class 'dict'>\n",
            "True\n"
          ]
        }
      ]
    },
    {
      "cell_type": "code",
      "source": [
        "# Set\n",
        "g = set([1, 2, 3])\n",
        "print(dir(g)) "
      ],
      "metadata": {
        "outputId": "115c77a4-5f78-4a6e-ef7d-54cbae3b31b1",
        "colab": {
          "base_uri": "https://localhost:8080/"
        },
        "id": "38JU8lMPumIl"
      },
      "execution_count": null,
      "outputs": [
        {
          "output_type": "stream",
          "name": "stdout",
          "text": [
            "['__and__', '__class__', '__class_getitem__', '__contains__', '__delattr__', '__dir__', '__doc__', '__eq__', '__format__', '__ge__', '__getattribute__', '__gt__', '__hash__', '__iand__', '__init__', '__init_subclass__', '__ior__', '__isub__', '__iter__', '__ixor__', '__le__', '__len__', '__lt__', '__ne__', '__new__', '__or__', '__rand__', '__reduce__', '__reduce_ex__', '__repr__', '__ror__', '__rsub__', '__rxor__', '__setattr__', '__sizeof__', '__str__', '__sub__', '__subclasshook__', '__xor__', 'add', 'clear', 'copy', 'difference', 'difference_update', 'discard', 'intersection', 'intersection_update', 'isdisjoint', 'issubset', 'issuperset', 'pop', 'remove', 'symmetric_difference', 'symmetric_difference_update', 'union', 'update']\n"
          ]
        }
      ]
    },
    {
      "cell_type": "code",
      "source": [
        "# Implementing the add() method and verifying the type of the result\n",
        "g.add(4)\n",
        "print(g) \n",
        "print(type(g)) \n",
        "print(isinstance(g, set)) "
      ],
      "metadata": {
        "outputId": "36f8d834-103a-45bd-fe4b-c6d4cd739d3c",
        "colab": {
          "base_uri": "https://localhost:8080/"
        },
        "id": "Z6HfemF6usjo"
      },
      "execution_count": null,
      "outputs": [
        {
          "output_type": "stream",
          "name": "stdout",
          "text": [
            "{1, 2, 3, 4}\n",
            "<class 'set'>\n",
            "True\n"
          ]
        }
      ]
    },
    {
      "cell_type": "markdown",
      "source": [
        "#4.\n",
        "\n",
        "Learn different ways to format the string. \n",
        "Tutorials on https://realpython.com/python-formatted-output/\n",
        "Try: \n",
        "\n"
      ],
      "metadata": {
        "id": "eMtYReGivj1U"
      }
    },
    {
      "cell_type": "code",
      "source": [
        "print(\"I love\", \"python\")"
      ],
      "metadata": {
        "colab": {
          "base_uri": "https://localhost:8080/"
        },
        "id": "_Qywwyx0vlej",
        "outputId": "e644e471-021b-4648-a087-3c2ab178e6db"
      },
      "execution_count": null,
      "outputs": [
        {
          "output_type": "stream",
          "name": "stdout",
          "text": [
            "I love python\n"
          ]
        }
      ]
    },
    {
      "cell_type": "code",
      "source": [
        "print(\"I love\"+\" python\")\n"
      ],
      "metadata": {
        "colab": {
          "base_uri": "https://localhost:8080/"
        },
        "id": "eCmQPToHv1Uw",
        "outputId": "6778de2e-b709-4a63-9abe-ce42636dc96e"
      },
      "execution_count": null,
      "outputs": [
        {
          "output_type": "stream",
          "name": "stdout",
          "text": [
            "I love python\n"
          ]
        }
      ]
    },
    {
      "cell_type": "code",
      "source": [
        "print(\"I love\"+\" python\" +\" version\", 3.10)\n"
      ],
      "metadata": {
        "colab": {
          "base_uri": "https://localhost:8080/"
        },
        "id": "LEukWabPv8KF",
        "outputId": "c5ab9aa6-e06d-4573-8d2f-d950f6a84d93"
      },
      "execution_count": null,
      "outputs": [
        {
          "output_type": "stream",
          "name": "stdout",
          "text": [
            "I love python version 3.1\n"
          ]
        }
      ]
    },
    {
      "cell_type": "code",
      "source": [
        "print(\"I love\"+\" python\" + \" version S.2\",3.10)\n"
      ],
      "metadata": {
        "colab": {
          "base_uri": "https://localhost:8080/"
        },
        "id": "xzRSQz6EwFGP",
        "outputId": "66fa07ee-c6bb-414e-e6a0-7a802bbb4850"
      },
      "execution_count": null,
      "outputs": [
        {
          "output_type": "stream",
          "name": "stdout",
          "text": [
            "I love python version S.2 3.1\n"
          ]
        }
      ]
    },
    {
      "cell_type": "code",
      "source": [
        "print(\"I love %s version %.2f\"%(\"python\" ,3.10))"
      ],
      "metadata": {
        "colab": {
          "base_uri": "https://localhost:8080/"
        },
        "id": "W7C1u1GCwTCi",
        "outputId": "77c13a02-8d94-4eb6-d0e4-2ea1a4df852f"
      },
      "execution_count": null,
      "outputs": [
        {
          "output_type": "stream",
          "name": "stdout",
          "text": [
            "I love python version 3.10\n"
          ]
        }
      ]
    },
    {
      "cell_type": "code",
      "source": [
        "# Using format positional argument\n",
        "print(\"I love {} version {}\". format(\"python\", 3.10))\n"
      ],
      "metadata": {
        "colab": {
          "base_uri": "https://localhost:8080/"
        },
        "id": "h9sEFTT4wVRg",
        "outputId": "f5a573eb-cd18-489d-a367-3c565c7a7278"
      },
      "execution_count": null,
      "outputs": [
        {
          "output_type": "stream",
          "name": "stdout",
          "text": [
            "I love python version 3.1\n"
          ]
        }
      ]
    },
    {
      "cell_type": "code",
      "source": [
        "# Using format positional argument\n",
        "print(\"I love {} version {}\". format(\"python\", \"3.10\"))\n"
      ],
      "metadata": {
        "colab": {
          "base_uri": "https://localhost:8080/"
        },
        "id": "p90Jp4WNwuVL",
        "outputId": "102f135d-c71f-4a1e-93ea-e3efc41f55b6"
      },
      "execution_count": null,
      "outputs": [
        {
          "output_type": "stream",
          "name": "stdout",
          "text": [
            "I love python version 3.10\n"
          ]
        }
      ]
    },
    {
      "cell_type": "code",
      "source": [
        "# Using format positional argument\n",
        "print(\"I love {} version {:.2f}\". format( \"python\" ,3.10))\n",
        "\n"
      ],
      "metadata": {
        "colab": {
          "base_uri": "https://localhost:8080/"
        },
        "id": "EoMHfI55xHJT",
        "outputId": "705639d8-715d-481d-c697-136e9dbb0fac"
      },
      "execution_count": null,
      "outputs": [
        {
          "output_type": "stream",
          "name": "stdout",
          "text": [
            "I love python version 3.10\n"
          ]
        }
      ]
    },
    {
      "cell_type": "code",
      "source": [
        "# Using format positional argument\n",
        "print(\"I love {1} version of {0}\". format( \"python\", \"3.10\"))"
      ],
      "metadata": {
        "colab": {
          "base_uri": "https://localhost:8080/"
        },
        "id": "eC_1joZaxYS5",
        "outputId": "13743be1-fb70-438b-cba2-785ac0caae98"
      },
      "execution_count": null,
      "outputs": [
        {
          "output_type": "stream",
          "name": "stdout",
          "text": [
            "I love 3.10 version of python\n"
          ]
        }
      ]
    },
    {
      "cell_type": "code",
      "source": [
        "# Using format keyword argument\n",
        "print(\"I love {pl} version {version:.2f}\".format(pl=\"python\", version=3.10))\n"
      ],
      "metadata": {
        "colab": {
          "base_uri": "https://localhost:8080/"
        },
        "id": "E2hCRGxZxgNk",
        "outputId": "adff2f02-b6eb-4b60-d14a-e8e3a40037ca"
      },
      "execution_count": null,
      "outputs": [
        {
          "output_type": "stream",
          "name": "stdout",
          "text": [
            "I love python version 3.10\n"
          ]
        }
      ]
    },
    {
      "cell_type": "code",
      "source": [
        "# Using f-string literal\n",
        "info={\"pl\": \"python\", \"version\":3.10}\n",
        "print(f\"I Love {info.get('pl')} version {info.get('version'):.2f}\")\n"
      ],
      "metadata": {
        "colab": {
          "base_uri": "https://localhost:8080/"
        },
        "id": "mnXMH7k6xqQs",
        "outputId": "cad51c7f-727a-4dbb-d48c-69a297f56a7f"
      },
      "execution_count": null,
      "outputs": [
        {
          "output_type": "stream",
          "name": "stdout",
          "text": [
            "I Love python version 3.10\n"
          ]
        }
      ]
    },
    {
      "cell_type": "code",
      "source": [
        "# Can be done with uppercase f literal and single quote but double quote while accessing dictionary value\n",
        "print(F'I love {info[\"pl\"]} version {info[\"version\"]:.2f}')\n"
      ],
      "metadata": {
        "colab": {
          "base_uri": "https://localhost:8080/"
        },
        "id": "4XQNRUuHzdQk",
        "outputId": "13930a22-c3d0-4ef9-91dc-47b0f8dc7082"
      },
      "execution_count": null,
      "outputs": [
        {
          "output_type": "stream",
          "name": "stdout",
          "text": [
            "I love python version 3.10\n"
          ]
        }
      ]
    },
    {
      "cell_type": "code",
      "source": [
        "# f-string conditional\n",
        "batch= 'ML'\n",
        "print(f'I love {\"javascript\" if batch==\"FS\" else \"python\"}')\n"
      ],
      "metadata": {
        "colab": {
          "base_uri": "https://localhost:8080/"
        },
        "id": "sHcJTYNVziC0",
        "outputId": "b8978f0c-6375-40cd-aef8-89b271558490"
      },
      "execution_count": null,
      "outputs": [
        {
          "output_type": "stream",
          "name": "stdout",
          "text": [
            "I love python\n"
          ]
        }
      ]
    },
    {
      "cell_type": "code",
      "source": [
        "# f-string conditional\n",
        "batch=\"FS\"\n",
        "print(f'I love {\"javascript\" if batch==\"FS\" else \"python\"}')\n"
      ],
      "metadata": {
        "outputId": "00bc56e2-3291-4c4c-e140-57e16cc17143",
        "colab": {
          "base_uri": "https://localhost:8080/"
        },
        "id": "adacZi2v0Qgc"
      },
      "execution_count": null,
      "outputs": [
        {
          "output_type": "stream",
          "name": "stdout",
          "text": [
            "I love javascript\n"
          ]
        }
      ]
    },
    {
      "cell_type": "markdown",
      "source": [
        "#5.\n",
        "Familiarize yourself with indexing in python.Iterables can be accessed using index values in python. Eg: list, tuple,dict, set \n",
        "Create a list of items. \n",
        "Eg:countries= [“Finland”,“Sweden”,”Denmark”,”Netherlands”,”Germany”,”Norway”,”Iceland”]\n",
        "Find the index of “Sweden”. \n",
        "Get all the items except the first\n",
        "Get all the items except the last\n",
        "Find the last item using negative indexing\n",
        "Find the last three item using negative indexing\n",
        "Grab all the items with odd indices\n",
        "Find the first and last item for the list\n",
        "Get [”Netherlands”,”Germany”,”Norway”] using negative indexing\n",
        "Reverse the list\n",
        "What is the output of countries[::-2]\n",
        "What is the output of countries[1:100:2]?\n",
        "What is the output of countries[len(countries)-1:0:2]?\n",
        "Get the output ['Germany', 'Netherlands', 'Denmark']\n",
        "Use enumerate method to get index and values in the list\n"
      ],
      "metadata": {
        "id": "mrnHgFbzx-8d"
      }
    },
    {
      "cell_type": "code",
      "source": [
        "# Create a list of countries\n",
        "countries = [\"Finland\", \"Sweden\", \"Denmark\", \"Netherlands\", \"Germany\", \"Norway\", \"Iceland\"]\n",
        "countries"
      ],
      "metadata": {
        "id": "9Sf40FXg0nRq",
        "outputId": "507590d1-e180-4c97-c8fb-fe36fc1b2af9",
        "colab": {
          "base_uri": "https://localhost:8080/"
        }
      },
      "execution_count": 10,
      "outputs": [
        {
          "output_type": "execute_result",
          "data": {
            "text/plain": [
              "['Finland', 'Sweden', 'Denmark', 'Netherlands', 'Germany', 'Norway', 'Iceland']"
            ]
          },
          "metadata": {},
          "execution_count": 10
        }
      ]
    },
    {
      "cell_type": "code",
      "source": [
        "# Find the index of \"Sweden\"\n",
        "index_of_sweden = countries.index(\"Sweden\")\n",
        "print(index_of_sweden) "
      ],
      "metadata": {
        "id": "pcQjKwo3MUWU",
        "outputId": "5612eeca-4052-4769-97bc-535394be8b2f",
        "colab": {
          "base_uri": "https://localhost:8080/"
        }
      },
      "execution_count": 11,
      "outputs": [
        {
          "output_type": "stream",
          "name": "stdout",
          "text": [
            "1\n"
          ]
        }
      ]
    },
    {
      "cell_type": "code",
      "source": [
        "# get all the items except the first\n",
        "print(countries[1:]) \n"
      ],
      "metadata": {
        "id": "ZbzZ-AzMKxuG",
        "outputId": "ad429d86-5d68-4549-d4dc-b3ced2336997",
        "colab": {
          "base_uri": "https://localhost:8080/"
        }
      },
      "execution_count": 2,
      "outputs": [
        {
          "output_type": "stream",
          "name": "stdout",
          "text": [
            "['Sweden', 'Denmark', 'Netherlands', 'Germany', 'Norway', 'Iceland']\n"
          ]
        }
      ]
    },
    {
      "cell_type": "code",
      "source": [
        "# find the last item using negative indexing\n",
        "print(countries[-1])"
      ],
      "metadata": {
        "id": "DxeuKL7eK0Kt",
        "outputId": "38aae774-8f8e-4b23-ce08-aaf3577105a9",
        "colab": {
          "base_uri": "https://localhost:8080/"
        }
      },
      "execution_count": 3,
      "outputs": [
        {
          "output_type": "stream",
          "name": "stdout",
          "text": [
            "Iceland\n"
          ]
        }
      ]
    },
    {
      "cell_type": "code",
      "source": [
        "# find the last three items using negative indexing\n",
        "print(countries[-3:])"
      ],
      "metadata": {
        "id": "oVkV-eLYLV61",
        "outputId": "8b6187fc-2739-44f8-fe6a-d21339d2f86b",
        "colab": {
          "base_uri": "https://localhost:8080/"
        }
      },
      "execution_count": 4,
      "outputs": [
        {
          "output_type": "stream",
          "name": "stdout",
          "text": [
            "['Germany', 'Norway', 'Iceland']\n"
          ]
        }
      ]
    },
    {
      "cell_type": "code",
      "source": [
        "# grab all the items with odd indices\n",
        "print(countries[1::2])"
      ],
      "metadata": {
        "id": "9kUk2Ap8LYGl",
        "outputId": "299d13bb-2a86-4c5d-8c0a-b8ea11a18875",
        "colab": {
          "base_uri": "https://localhost:8080/"
        }
      },
      "execution_count": 5,
      "outputs": [
        {
          "output_type": "stream",
          "name": "stdout",
          "text": [
            "['Sweden', 'Netherlands', 'Norway']\n"
          ]
        }
      ]
    },
    {
      "cell_type": "code",
      "source": [
        "# grab all the items with even indices\n",
        "print(countries[0::2])"
      ],
      "metadata": {
        "id": "W0jYe77sLf7Y",
        "outputId": "51845639-86de-4d1e-cbaa-9699cc1ab53e",
        "colab": {
          "base_uri": "https://localhost:8080/"
        }
      },
      "execution_count": 7,
      "outputs": [
        {
          "output_type": "stream",
          "name": "stdout",
          "text": [
            "['Finland', 'Denmark', 'Germany', 'Iceland']\n"
          ]
        }
      ]
    },
    {
      "cell_type": "code",
      "source": [
        "# get [\"Netherlands\",\"Germany\",\"Norway\"] using negative indexing\n",
        "print(countries[-4:-1])"
      ],
      "metadata": {
        "id": "iiSQ_zSYMOIG",
        "outputId": "b7787c23-2568-4a29-8bb6-2b9b666ea38f",
        "colab": {
          "base_uri": "https://localhost:8080/"
        }
      },
      "execution_count": 8,
      "outputs": [
        {
          "output_type": "stream",
          "name": "stdout",
          "text": [
            "['Netherlands', 'Germany', 'Norway']\n"
          ]
        }
      ]
    },
    {
      "cell_type": "code",
      "source": [
        "# reverse the list\n",
        "print(countries[::-1])"
      ],
      "metadata": {
        "id": "bMRGXtWaONVD",
        "outputId": "39ea2fc4-99d7-428f-cf3d-cfc2396e42e4",
        "colab": {
          "base_uri": "https://localhost:8080/"
        }
      },
      "execution_count": 15,
      "outputs": [
        {
          "output_type": "stream",
          "name": "stdout",
          "text": [
            "['Iceland', 'Norway', 'Germany', 'Netherlands', 'Denmark', 'Sweden', 'Finland']\n"
          ]
        }
      ]
    },
    {
      "cell_type": "code",
      "source": [
        "# output of countries[::-2]\n",
        "print(countries[::-2])"
      ],
      "metadata": {
        "id": "fwUl0V1-OQMo",
        "outputId": "7eeeb96e-3185-4d52-b204-d4aac3343cf4",
        "colab": {
          "base_uri": "https://localhost:8080/"
        }
      },
      "execution_count": 16,
      "outputs": [
        {
          "output_type": "stream",
          "name": "stdout",
          "text": [
            "['Iceland', 'Germany', 'Denmark', 'Finland']\n"
          ]
        }
      ]
    },
    {
      "cell_type": "code",
      "source": [
        "# output of countries[1:100:2]\n",
        "print(countries[1:100:2])"
      ],
      "metadata": {
        "id": "kW9ZsrNmOUIM",
        "outputId": "5c4cb073-e3a6-4404-b2ed-0db11cad14f5",
        "colab": {
          "base_uri": "https://localhost:8080/"
        }
      },
      "execution_count": 17,
      "outputs": [
        {
          "output_type": "stream",
          "name": "stdout",
          "text": [
            "['Sweden', 'Netherlands', 'Norway']\n"
          ]
        }
      ]
    },
    {
      "cell_type": "code",
      "source": [
        "# output of countries[len(countries)-1:0:2]\n",
        "print(countries[len(countries)-1:0:2])"
      ],
      "metadata": {
        "id": "Ds49xEozOdve",
        "outputId": "c5e16d83-8c1c-4adb-893a-7334dfa6d350",
        "colab": {
          "base_uri": "https://localhost:8080/"
        }
      },
      "execution_count": 18,
      "outputs": [
        {
          "output_type": "stream",
          "name": "stdout",
          "text": [
            "[]\n"
          ]
        }
      ]
    },
    {
      "cell_type": "code",
      "source": [
        "# use enumerate method to get index and values in the list\n",
        "for index, country in enumerate(countries):\n",
        "    print(index, country)"
      ],
      "metadata": {
        "id": "uj78RJtBOjLz",
        "outputId": "29ad7872-93f6-4b93-d17f-4058d85875fd",
        "colab": {
          "base_uri": "https://localhost:8080/"
        }
      },
      "execution_count": 19,
      "outputs": [
        {
          "output_type": "stream",
          "name": "stdout",
          "text": [
            "0 Finland\n",
            "1 Sweden\n",
            "2 Denmark\n",
            "3 Netherlands\n",
            "4 Germany\n",
            "5 Norway\n",
            "6 Iceland\n"
          ]
        }
      ]
    },
    {
      "cell_type": "markdown",
      "source": [
        "#6.\n",
        " Exercise on dictionaries\n",
        "Given the two lists of same length, create a dictionary using a list as keys and      another list as values without using loop\n",
        "Eg: [\"a\",\"b\",\"c\",\"d\"],[1,2,3,4] lists should be made {'a': 1, 'b': 2, 'c': 3, 'd': 4}\n",
        "Hint: zip method\n",
        "Create two dictionaries, merge them into one.\n",
        "Hint: update method/dictionary unpacking\n",
        "Given the list of students, assign them the course.\n",
        "Students=[“Duy”, “Laxmi”,”Antonio”,”Maria”]\n",
        "Course[\"Python\",\"Database\",\"ML\"] \n",
        "Should result to the new dictionary students_profile=\n",
        "{'Duy': ['Python', 'Database', 'ML'], 'Laxmi': ['Python', 'Database', 'ML'],\n",
        " 'Antonio': ['Python', 'Database', 'ML'],'Maria': ['Python', 'Database', 'ML']}\n",
        "Modify Antonio’s course to [\"JavaScript\",\"Database\",\"NodeJS\"]\n",
        "Add “ReactJs” to Anonio’s course\n",
        "Replace Antonio’s “ReactJs” to “Vuejs”\n",
        "Remove an item from dictionary\n"
      ],
      "metadata": {
        "id": "nAPVxV96yCfq"
      }
    },
    {
      "cell_type": "markdown",
      "source": [
        "1. Given the two lists of same length, create a dictionary using a list as keys and another list as values without using loop"
      ],
      "metadata": {
        "id": "e5ng53P2PVpK"
      }
    },
    {
      "cell_type": "code",
      "source": [
        "keys = [\"a\",\"b\",\"c\",\"d\"]\n",
        "values = [1,2,3,4]\n",
        "\n",
        "# create dictionary using zip method\n",
        "dictionary = dict(zip(keys, values))\n",
        "\n",
        "print(dictionary)"
      ],
      "metadata": {
        "id": "uycVvhzaPW9L",
        "outputId": "76559516-f464-4a39-ae0b-3ac13e37679c",
        "colab": {
          "base_uri": "https://localhost:8080/"
        }
      },
      "execution_count": 20,
      "outputs": [
        {
          "output_type": "stream",
          "name": "stdout",
          "text": [
            "{'a': 1, 'b': 2, 'c': 3, 'd': 4}\n"
          ]
        }
      ]
    },
    {
      "cell_type": "markdown",
      "source": [
        "2. Create two dictionaries, merge them into one.\n",
        "Hint: update method/dictionary unpacking"
      ],
      "metadata": {
        "id": "8CCOd3VuPq-D"
      }
    },
    {
      "cell_type": "code",
      "source": [
        "dict1 = {'a': 1, 'b': 2}\n",
        "dict2 = {'c': 3, 'd': 4}\n",
        "\n",
        "# merge dictionaries using update method\n",
        "dict1.update(dict2)\n",
        "\n",
        "print(dict1)"
      ],
      "metadata": {
        "id": "2Zp32htpPr-7",
        "outputId": "20109f87-d87d-4c11-b8c6-6908556210eb",
        "colab": {
          "base_uri": "https://localhost:8080/"
        }
      },
      "execution_count": 21,
      "outputs": [
        {
          "output_type": "stream",
          "name": "stdout",
          "text": [
            "{'a': 1, 'b': 2, 'c': 3, 'd': 4}\n"
          ]
        }
      ]
    },
    {
      "cell_type": "code",
      "source": [
        "dict1 = {'a': 1, 'b': 2}\n",
        "dict2 = {'c': 3, 'd': 4}\n",
        "\n",
        "# merge dictionaries using dictionary unpacking\n",
        "merged_dict = {**dict1, **dict2}\n",
        "\n",
        "print(merged_dict)"
      ],
      "metadata": {
        "id": "fMGcL47TP5Tz",
        "outputId": "83536930-04af-4a48-bf7b-bac14de42629",
        "colab": {
          "base_uri": "https://localhost:8080/"
        }
      },
      "execution_count": 22,
      "outputs": [
        {
          "output_type": "stream",
          "name": "stdout",
          "text": [
            "{'a': 1, 'b': 2, 'c': 3, 'd': 4}\n"
          ]
        }
      ]
    },
    {
      "cell_type": "markdown",
      "source": [
        "3. Given the list of students, assign them the course."
      ],
      "metadata": {
        "id": "VI6us5vRP2Fl"
      }
    },
    {
      "cell_type": "code",
      "source": [
        "students = [\"Duy\", \"Laxmi\", \"Antonio\", \"Maria\"]\n",
        "courses = [\"Python\", \"Database\", \"ML\"]\n",
        "\n",
        "# assign courses to students\n",
        "students_profile = {student: courses for student in students}\n",
        "\n",
        "print(students_profile)"
      ],
      "metadata": {
        "id": "k2AFWp3gQRKD",
        "outputId": "f81df731-1034-4499-f20a-e2f50203c947",
        "colab": {
          "base_uri": "https://localhost:8080/"
        }
      },
      "execution_count": 23,
      "outputs": [
        {
          "output_type": "stream",
          "name": "stdout",
          "text": [
            "{'Duy': ['Python', 'Database', 'ML'], 'Laxmi': ['Python', 'Database', 'ML'], 'Antonio': ['Python', 'Database', 'ML'], 'Maria': ['Python', 'Database', 'ML']}\n"
          ]
        }
      ]
    },
    {
      "cell_type": "markdown",
      "source": [
        "4. Modify Antonio’s course to [\"JavaScript\",\"Database\",\"NodeJS\"]"
      ],
      "metadata": {
        "id": "VXf38H0sQan6"
      }
    },
    {
      "cell_type": "code",
      "source": [
        "students_profile[\"Antonio\"] = [\"JavaScript\", \"Database\", \"NodeJS\"]\n",
        "\n",
        "print(students_profile)"
      ],
      "metadata": {
        "id": "f6C3D6tiQbur",
        "outputId": "aaf0b744-46b9-4ed3-99c7-2b06bad32a16",
        "colab": {
          "base_uri": "https://localhost:8080/"
        }
      },
      "execution_count": 24,
      "outputs": [
        {
          "output_type": "stream",
          "name": "stdout",
          "text": [
            "{'Duy': ['Python', 'Database', 'ML'], 'Laxmi': ['Python', 'Database', 'ML'], 'Antonio': ['JavaScript', 'Database', 'NodeJS'], 'Maria': ['Python', 'Database', 'ML']}\n"
          ]
        }
      ]
    },
    {
      "cell_type": "markdown",
      "source": [
        "5. Add “ReactJs” to Antonio’s course"
      ],
      "metadata": {
        "id": "VyBTLjoDQswq"
      }
    },
    {
      "cell_type": "code",
      "source": [
        "students_profile[\"Antonio\"].append(\"ReactJs\")\n",
        "\n",
        "print(students_profile)"
      ],
      "metadata": {
        "id": "TuT9VS6qQzqq",
        "outputId": "6e7421e0-b788-4a7d-866f-02d74ddd9d43",
        "colab": {
          "base_uri": "https://localhost:8080/"
        }
      },
      "execution_count": 25,
      "outputs": [
        {
          "output_type": "stream",
          "name": "stdout",
          "text": [
            "{'Duy': ['Python', 'Database', 'ML'], 'Laxmi': ['Python', 'Database', 'ML'], 'Antonio': ['JavaScript', 'Database', 'NodeJS', 'ReactJs'], 'Maria': ['Python', 'Database', 'ML']}\n"
          ]
        }
      ]
    },
    {
      "cell_type": "markdown",
      "source": [
        "6. Replace Antonio’s “ReactJs” to “Vuejs”"
      ],
      "metadata": {
        "id": "oqbzwmU9Q6ja"
      }
    },
    {
      "cell_type": "code",
      "source": [
        "students_profile[\"Antonio\"][2] = \"Vuejs\"\n",
        "\n",
        "print(students_profile)"
      ],
      "metadata": {
        "id": "KXVQpIIJQ7lS",
        "outputId": "873c9cf9-6719-4760-a9a7-cce7669f1a26",
        "colab": {
          "base_uri": "https://localhost:8080/"
        }
      },
      "execution_count": 26,
      "outputs": [
        {
          "output_type": "stream",
          "name": "stdout",
          "text": [
            "{'Duy': ['Python', 'Database', 'ML'], 'Laxmi': ['Python', 'Database', 'ML'], 'Antonio': ['JavaScript', 'Database', 'Vuejs', 'ReactJs'], 'Maria': ['Python', 'Database', 'ML']}\n"
          ]
        }
      ]
    },
    {
      "cell_type": "markdown",
      "source": [
        "7. Remove an item from dictionary"
      ],
      "metadata": {
        "id": "wNhDDgSQRBLK"
      }
    },
    {
      "cell_type": "code",
      "source": [
        "del students_profile[\"Maria\"]\n",
        "\n",
        "print(students_profile)"
      ],
      "metadata": {
        "id": "y87Ox2LgRCfa",
        "outputId": "2e1f948f-1bd9-4e34-a992-e96fdf07c13f",
        "colab": {
          "base_uri": "https://localhost:8080/"
        }
      },
      "execution_count": 27,
      "outputs": [
        {
          "output_type": "stream",
          "name": "stdout",
          "text": [
            "{'Duy': ['Python', 'Database', 'ML'], 'Laxmi': ['Python', 'Database', 'ML'], 'Antonio': ['JavaScript', 'Database', 'Vuejs', 'ReactJs']}\n"
          ]
        }
      ]
    }
  ]
}