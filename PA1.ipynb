{
 "cells": [
  {
   "cell_type": "code",
   "execution_count": 101,
   "id": "ff0831e5",
   "metadata": {},
   "outputs": [
    {
     "name": "stdout",
     "output_type": "stream",
     "text": [
      "{'Name': 'Afrouz', 'contry': 'Denmark'}\n"
     ]
    }
   ],
   "source": [
    "#Use the constructor methods to create different data types in python\n",
    "x=int(12)\n",
    "x=float(12.5)\n",
    "x=bool('True')\n",
    "x=str('Hello')\n",
    "x=list((\"Kati\",\"Armaghan\", \"Afrouz\"))\n",
    "x=tuple((\"Kati\",\"Armaghan\", \"Afrouz\"))\n",
    "x=set((\"Kati\",\"Armaghan\", \"Afrouz\"))\n",
    "x=dict(Name=\"Afrouz\",contry=\"Denmark\")\n",
    "print(x)\n",
    "#Also use object literals to create those data types.\n",
    "xInt=12\n",
    "xFloat=12.5\n",
    "xBoolean=True\n",
    "xString='Hello'\n",
    "xList=[\"Kati\",\"Armaghan\", \"Afrouz\"]\n",
    "xTuple=(\"Kati\",\"Armaghan\", \"Afrouz\")\n",
    "xDictionary={'Name':'Afrouz','Country':'Denmark'}\n"
   ]
  },
  {
   "cell_type": "code",
   "execution_count": 113,
   "id": "3fb71486",
   "metadata": {},
   "outputs": [
    {
     "name": "stdout",
     "output_type": "stream",
     "text": [
      "Addition: 13   Subtraction: -3   Multiplication: 40   Division: 0.625   Modulus: 5   Exponentiation: 390625   Floor division: 0\n",
      "a=7 ==> a+=3: 10\n",
      "a=7 ==> a&=3: 3\n",
      "a=7 ==> a|=3: 7\n",
      "a=7 ==> a>>=3: 0\n",
      "[5, 6, 7, 7, 5]\n",
      "x=5 & y=10 ==> (x>1 and y<20) : True\n"
     ]
    }
   ],
   "source": [
    "#Create two operands and play around using different operators\n",
    "a=5\n",
    "b=8\n",
    "\n",
    "#Arithmetic operators\n",
    "print('Addition:',a+b, '  Subtraction:', a-b, '  Multiplication:', a*b, '  Division:',a/b, '  Modulus:', a%b, '  Exponentiation:', a**b, '  Floor division:', a//b)\n",
    "\n",
    "#Assignment Operators\n",
    "a=7\n",
    "a+=3\n",
    "print('a=7 ==> a+=3:', a )\n",
    "\n",
    "a=7\n",
    "a&=3\n",
    "print('a=7 ==> a&=3:', a )\n",
    "\n",
    "a=7\n",
    "a|=3\n",
    "print('a=7 ==> a|=3:', a )\n",
    "\n",
    "a=7\n",
    "a>>=3\n",
    "print('a=7 ==> a>>=3:', a )\n",
    "\n",
    "#Comparison Operators\n",
    "j=[4,5,6,7,1,3,7,5]\n",
    "j2 = [x for x in j if x >= 5]\n",
    "print(j2)\n",
    "\n",
    "#Logical Operators\n",
    "x=5\n",
    "y=10\n",
    "print('x=5 & y=10 ==> (x>1 and y<20) :', x>1 and y<20 )"
   ]
  },
  {
   "cell_type": "code",
   "execution_count": 116,
   "id": "b64fc620",
   "metadata": {},
   "outputs": [
    {
     "name": "stdout",
     "output_type": "stream",
     "text": [
      "['__abs__', '__add__', '__and__', '__bool__', '__ceil__', '__class__', '__delattr__', '__dir__', '__divmod__', '__doc__', '__eq__', '__float__', '__floor__', '__floordiv__', '__format__', '__ge__', '__getattribute__', '__getnewargs__', '__gt__', '__hash__', '__index__', '__init__', '__init_subclass__', '__int__', '__invert__', '__le__', '__lshift__', '__lt__', '__mod__', '__mul__', '__ne__', '__neg__', '__new__', '__or__', '__pos__', '__pow__', '__radd__', '__rand__', '__rdivmod__', '__reduce__', '__reduce_ex__', '__repr__', '__rfloordiv__', '__rlshift__', '__rmod__', '__rmul__', '__ror__', '__round__', '__rpow__', '__rrshift__', '__rshift__', '__rsub__', '__rtruediv__', '__rxor__', '__setattr__', '__sizeof__', '__str__', '__sub__', '__subclasshook__', '__truediv__', '__trunc__', '__xor__', 'as_integer_ratio', 'bit_count', 'bit_length', 'conjugate', 'denominator', 'from_bytes', 'imag', 'numerator', 'real', 'to_bytes']\n",
      "***************************\n",
      "<class 'int'>\n",
      "True\n",
      "a=int(5) ==> a.__add__(5):  10\n"
     ]
    }
   ],
   "source": [
    "#Once you create an object of each data type, run dir(object). Navigate the magic methods/dunder methods and other methods and attributes of each object. Try to implement those methods and attributes as many as possible.\n",
    "#Implementing above dunder method is same as print(a+5)\n",
    "\n",
    "a=int(5)\n",
    "print(dir(a))\n",
    "\n",
    "print('***************************')\n",
    "\n",
    "\n",
    "#Verify the data types using methods type and isinstance.\n",
    "a=int(5)\n",
    "print(type(a))\n",
    "print(isinstance(a,int))\n",
    "print('a=int(5) ==> a.__add__(5): ', a.__add__(5))\n",
    "\n"
   ]
  },
  {
   "cell_type": "code",
   "execution_count": 57,
   "id": "af2849b4",
   "metadata": {},
   "outputs": [
    {
     "name": "stdout",
     "output_type": "stream",
     "text": [
      "I love  Python\n",
      "I love Python\n",
      "I love Python version 3.1\n",
      "I love Python version 3.10\n",
      "1 teaching hour cost $100\n",
      "1 teaching hour cost $100\n",
      "Beautiful\n",
      "day\n",
      "I love  Python\n",
      "I love Python\n",
      "I love Python version 3.1\n",
      "I love Python version 3.10\n",
      "I love python version 3.10\n",
      "I love python\n"
     ]
    }
   ],
   "source": [
    "#Learn different ways to format the string.\n",
    "# resource: https://realpython.com/python-formatted-output/\n",
    "\n",
    "print('I love', ' Python')\n",
    "print('I love'+ ' Python')\n",
    "print('I love'+ ' Python'+' version', 3.10)\n",
    "print('I love'+ ' Python'+' version %.2f'%3.10)\n",
    "\n",
    "#.format() with positional arguments\n",
    "print('{0} {1} cost ${2}'.format(1, 'teaching hour', 100))\n",
    "\n",
    "#.format() with keyword arguments\n",
    "print('{quantity} {item} cost ${price}'.format(quantity=1, item='teaching hour', price=100))\n",
    "\n",
    "#Using dictionary as corresponding arguments\n",
    "d = {'key1': 'Beautiful', 'key2': 'day'}\n",
    "print(d['key1'])\n",
    "print('{my_dict[key2]}'.format(my_dict=d))\n",
    "print('I love', ' Python')\n",
    "print('I love'+ ' Python')\n",
    "print('I love'+ ' Python'+' version', 3.10)\n",
    "print('I love'+ ' Python'+' version %.2f'%3.10)\n",
    "\n",
    "#Using f-string literal\n",
    "info = {\"pl\":\"python\", \"version\":3.10}\n",
    "print(f\"I love {info.get('pl')} version {info.get('version'):.2f}\")\n",
    "      \n",
    "#Using f-string conditional\n",
    "batch='ML'\n",
    "print(f'I love {\"javascript\" if batch == \"FS\" else \"python\"}')"
   ]
  },
  {
   "cell_type": "code",
   "execution_count": 91,
   "id": "43a1af02",
   "metadata": {},
   "outputs": [
    {
     "name": "stdout",
     "output_type": "stream",
     "text": [
      "1\n",
      "['Sweden', 'Denmark', 'Netherlands', 'Germany', 'Norway', 'Iceland']\n",
      "['Finland', 'Sweden', 'Denmark', 'Netherlands', 'Germany', 'Norway']\n",
      "Iceland\n",
      "['Germany', 'Norway', 'Iceland']\n",
      "['Sweden', 'Netherlands', 'Norway']\n",
      "Finland Iceland\n",
      "['Netherlands', 'Germany', 'Norway']\n",
      "['Iceland', 'Norway', 'Germany', 'Netherlands', 'Denmark', 'Sweden', 'Finland']\n",
      "['Iceland', 'Germany', 'Denmark', 'Finland']\n",
      "['Sweden', 'Netherlands', 'Norway']\n",
      "[]\n",
      "['Germany', 'Netherlands', 'Denmark']\n"
     ]
    }
   ],
   "source": [
    "#Familiarize yourself with indexing in python.Iterables can be accessed using index values in python. Eg: list, tuple,dict, set \n",
    "#Create a list of items. \n",
    "countries= [\"Finland\",\"Sweden\",\"Denmark\",\"Netherlands\",\"Germany\",\"Norway\",\"Iceland\"]\n",
    "\n",
    "#Find the index of “Sweden”. \n",
    "print(countries.index(\"Sweden\"))\n",
    "\n",
    "#Get all the items except the first\n",
    "print(countries[1:])\n",
    "\n",
    "#Get all the items except the last\n",
    "print(countries[:-1])\n",
    "\n",
    "#Find the last item using negative indexing\n",
    "print(countries[-1])\n",
    "\n",
    "#Find the last three item using negative indexing\n",
    "print(countries[-3:])\n",
    "\n",
    "#Grab all the items with odd indices\n",
    "#countries(start:stop:step)\n",
    "print(countries[1::2])\n",
    "\n",
    "#Find the first and last item for the list\n",
    "print(countries[0] , countries[-1])\n",
    "\n",
    "#Get [”Netherlands”,”Germany”,”Norway”] using negative indexing\n",
    "print(countries[3:6])\n",
    "\n",
    "#Reverse the list\n",
    "print(list(reversed(countries)))\n",
    "\n",
    "#What is the output of countries[::-2]\n",
    "print(countries[::-2])\n",
    "\n",
    "#What is the output of countries[1:100:2]\n",
    "print(countries[1:100:2])\n",
    "\n",
    "#What is the output of countries[len(countries)-1:0:2]\n",
    "print(countries[len(countries)-1:0:2])\n",
    "\n",
    "#Get the output ['Germany', 'Netherlands', 'Denmark']\n",
    "Rcountries = list(reversed(countries))\n",
    "print(Rcountries[2:5])"
   ]
  },
  {
   "cell_type": "code",
   "execution_count": 15,
   "id": "012a7f27",
   "metadata": {},
   "outputs": [
    {
     "name": "stdout",
     "output_type": "stream",
     "text": [
      "{'a': 1, 'b': 2, 'c': 3, 'd': 4}\n",
      "{'e': 5, 'f': 6, 'g': 7, 'h': 8}\n",
      "{'a': 1, 'b': 2, 'c': 3, 'd': 4, 'e': 5, 'f': 6, 'g': 7, 'h': 8}\n",
      "{'Duy': ['Python', 'Database', 'ML'], 'Laxmi': ['Python', 'Database', 'ML'], 'Antonio': ['Python', 'Database', 'ML'], 'Maria': ['Python', 'Database', 'ML']}\n",
      "{'Duy': ['Python', 'Database', 'ML'], 'Laxmi': ['Python', 'Database', 'ML'], 'Antonio': ['JavaScript', 'Database', 'NodeJS'], 'Maria': ['Python', 'Database', 'ML']}\n",
      "{'Duy': ['Python', 'Database', 'ML'], 'Laxmi': ['Python', 'Database', 'ML'], 'Antonio': ['JavaScript', 'Database', 'NodeJS', 'ReactJs'], 'Maria': ['Python', 'Database', 'ML']}\n",
      "{'Duy': ['Python', 'Database', 'ML'], 'Laxmi': ['Python', 'Database', 'ML'], 'Antonio': ['JavaScript', 'Database', 'NodeJS', 'Vuejs'], 'Maria': ['Python', 'Database', 'ML']}\n",
      "{'Laxmi': ['Python', 'Database', 'ML'], 'Antonio': ['JavaScript', 'Database', 'NodeJS', 'Vuejs'], 'Maria': ['Python', 'Database', 'ML']}\n",
      "{'Antonio': ['JavaScript', 'Database', 'NodeJS', 'Vuejs'], 'Maria': ['Python', 'Database', 'ML']}\n"
     ]
    }
   ],
   "source": [
    "# Exercise on dictionaries\n",
    "#Given the two lists of same length, create a dictionary using a list as keys and another list as values without using loop\n",
    "#Eg: [\"a\",\"b\",\"c\",\"d\"],[1,2,3,4] lists should be made {'a': 1, 'b': 2, 'c': 3, 'd': 4}\n",
    "#Hint: zip method\n",
    "Letters = [\"a\", \"b\", \"c\", \"d\"]\n",
    "Numbers = [1, 2, 3, 4]\n",
    "Dictionary = dict(zip(Letters, Numbers))\n",
    "print(Dictionary)\n",
    "\n",
    "#Create two dictionaries, merge them into one.\n",
    "SecondLetters = [\"e\", \"f\", \"g\", \"h\"]\n",
    "SecondNumbers = [5, 6, 7, 8]\n",
    "SecondDictionary = dict(zip(SecondLetters, SecondNumbers))\n",
    "print(SecondDictionary)\n",
    "#print(Dictionary|SecondDictionary)\n",
    "print({**Dictionary, **SecondDictionary})\n",
    "\n",
    "#Given the list of students, assign them the course.\n",
    "Students=[\"Duy\", \"Laxmi\",\"Antonio\",\"Maria\"]\n",
    "Course=[\"Python\",\"Database\",\"ML\"] \n",
    "#Should result to the new dictionary students_profile=\n",
    "#{'Duy': ['Python', 'Database', 'ML'], 'Laxmi': ['Python', 'Database', 'ML'],\n",
    "# 'Antonio': ['Python', 'Database', 'ML'],'Maria': ['Python', 'Database', 'ML']}\n",
    " \n",
    "students_profile={}\n",
    "for i in Students:\n",
    "    students_profile[i]=Course  \n",
    "print(students_profile)\n",
    "\n",
    "#Modify Antonio’s course to [\"JavaScript\",\"Database\",\"NodeJS\"]\n",
    "students_profile['Antonio']=[\"JavaScript\",\"Database\",\"NodeJS\"]\n",
    "print(students_profile)\n",
    "\n",
    "#Add “ReactJs” to Anonio’s course\n",
    "students_profile['Antonio'].append(\"ReactJs\")\n",
    "print(students_profile)\n",
    "\n",
    "#Replace Antonio’s “ReactJs” to “Vuejs”\n",
    "students_profile['Antonio']= list(map(lambda x: x.replace('ReactJs', 'Vuejs'), students_profile['Antonio']))\n",
    "print(students_profile)\n",
    "\n",
    "#Remove an item from dictionary\n",
    "#Hint: use del statement or pop/ popitem method. Observe the differences\n",
    "del students_profile['Duy']\n",
    "print(students_profile)\n",
    "\n",
    "students_profile.pop('Laxmi')\n",
    "print(students_profile)"
   ]
  },
  {
   "cell_type": "code",
   "execution_count": null,
   "id": "dc05d03f",
   "metadata": {},
   "outputs": [],
   "source": []
  }
 ],
 "metadata": {
  "kernelspec": {
   "display_name": "Python 3 (ipykernel)",
   "language": "python",
   "name": "python3"
  },
  "language_info": {
   "codemirror_mode": {
    "name": "ipython",
    "version": 3
   },
   "file_extension": ".py",
   "mimetype": "text/x-python",
   "name": "python",
   "nbconvert_exporter": "python",
   "pygments_lexer": "ipython3",
   "version": "3.10.7"
  }
 },
 "nbformat": 4,
 "nbformat_minor": 5
}
