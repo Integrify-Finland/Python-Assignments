{
 "cells": [
  {
   "cell_type": "code",
   "execution_count": 41,
   "id": "7f26f0f5",
   "metadata": {},
   "outputs": [
    {
     "name": "stdout",
     "output_type": "stream",
     "text": [
      "An integer example\n",
      "10\n",
      "A float example\n",
      "20.56\n",
      "A string example\n",
      "Integrify\n",
      "A bool example\n",
      "True\n",
      "A range example\n",
      "range(0, 10)\n",
      "A list example\n",
      "['Stockholm', 'Gothenburg', 'Skovde', 'Helsinki', 1, 2, 3]\n",
      "A dictionary example\n",
      "{'India': 'Delhi', 'Sweden': 'Stockholm', 'Germany': 'Berlin', 'Finland': 'Helsinki'}\n",
      "A set example\n",
      "{'Mathews', 'Christina', 'George'}\n",
      "A frozenset example\n",
      "frozenset({'Geeja', 'Manjusha', 'Divya'})\n",
      "A tuple example\n",
      "('C++', 'Java', 'C#')\n",
      "1 , 100000000 , -6\n",
      "Data Scientist\n",
      "<class 'int'>\n",
      "<class 'int'>\n",
      "<class 'str'>\n"
     ]
    }
   ],
   "source": [
    "#1.Use the constructor methods to create different data types in python \n",
    "num1=int(10)\n",
    "print('An integer example')\n",
    "print(num1)\n",
    "\n",
    "#float\n",
    "print('A float example')\n",
    "num2=float(20.56)\n",
    "print(num2)\n",
    "\n",
    "#string\n",
    "print('A string example')\n",
    "name=str(\"Integrify\")\n",
    "print(name)\n",
    "\n",
    "#bool\n",
    "\n",
    "result=bool(40)\n",
    "print('A bool example')\n",
    "print(result)\n",
    "\n",
    "#range\n",
    "\n",
    "r=range(10)\n",
    "print('A range example')\n",
    "print(r)\n",
    "\n",
    "#list\n",
    "print('A list example')\n",
    "citylist=list(['Stockholm','Gothenburg','Skovde','Helsinki',1,2,3])\n",
    "print(citylist)\n",
    "\n",
    "#dictionary\n",
    "print('A dictionary example')\n",
    "capitals=dict({\"India\":\"Delhi\",\"Sweden\":\"Stockholm\",\"Germany\":\"Berlin\",\"Finland\":\"Helsinki\"})\n",
    "print(capitals)\n",
    "\n",
    "#set\n",
    "print('A set example')\n",
    "team=set(('George','Mathews','Christina'))\n",
    "print(team)\n",
    "\n",
    "#frozenset\n",
    "print('A frozenset example')\n",
    "team1=frozenset(('Geeja','Manjusha','Divya'))\n",
    "print(team1)\n",
    "\n",
    "#tuple\n",
    "print('A tuple example')\n",
    "programminglang=tuple(('C++','Java','C#'))\n",
    "print(programminglang)\n",
    "\n",
    "#object literals\n",
    "\n",
    "x = 1\n",
    "y = 100000000\n",
    "z = -6\n",
    "print(x,',',y,',',z)  \n",
    "str1=\"Data Scientist\"\n",
    "print(str1)\n",
    "\n",
    "print(type(x))\n",
    "print(type(y))\n",
    "print(type(str1))"
   ]
  },
  {
   "cell_type": "code",
   "execution_count": 38,
   "id": "27d6b100",
   "metadata": {},
   "outputs": [
    {
     "name": "stdout",
     "output_type": "stream",
     "text": [
      "Arithmetic operators\n",
      "+  15\n",
      "+  5\n",
      "*  50\n",
      "/  2.0\n",
      "%  0\n",
      "//  2\n",
      "**  100000\n",
      "Comparison operators\n",
      "==  False\n",
      "!=  True\n",
      ">  True\n",
      "<  False\n",
      "<=  False\n",
      ">=  True\n",
      "=  10\n",
      "+=  15\n",
      "-=  12\n",
      "*=  36\n",
      "/=  12.0\n",
      "%=  0.0\n",
      "//  0.0\n",
      "**  0.0\n",
      "&=  0\n",
      "|=  3\n",
      "=  0\n",
      "^=  4\n",
      "<<=  32\n"
     ]
    }
   ],
   "source": [
    "#2. Operators in python \n",
    "#Arithmetic operators\n",
    "print('Arithmetic operators')\n",
    "var1 = 10\n",
    "var2 = 5\n",
    "print('+ ',var1 + var2)\n",
    "print('+ ',var1 - var2)\n",
    "print('* ',var1 * var2)\n",
    "print('/ ',var1 / var2)\n",
    "print('% ',var1 % var2)\n",
    "print('// ',var1 // var2)\n",
    "print('** ',var1 ** var2)\n",
    "\n",
    "#Comparison operators\n",
    "print('Comparison operators')\n",
    "print('== ',var1==var2)\n",
    "print('!= ',var1!=var2)\n",
    "print('> ',var1>var2)\n",
    "print('< ',var1<var2)\n",
    "print('<= ',var1<=var2)\n",
    "print('>= ',var1>=var2)\n",
    "\n",
    "#Assignment operators\n",
    "x=10\n",
    "print('= ',x )\n",
    "x += 5\n",
    "print('+= ',x)\n",
    "x -= 3\n",
    "print('-= ',x)\n",
    "x *= 3\n",
    "print('*= ',x)\n",
    "x /= 3\n",
    "print('/= ',x)\n",
    "x %= 3\n",
    "print('%= ',x)\n",
    "x //= 3\n",
    "print('// ',x)\n",
    "x **= 3\n",
    "print('** ',x)\n",
    "x=12\n",
    "x &= 3\n",
    "print('&= ',x)\n",
    "x |= 3\n",
    "print('|= ',x)\n",
    "x ^= 3\n",
    "print('= ',x)\n",
    "x >>= 3\n",
    "x=4\n",
    "print('^= ',x)\n",
    "x <<= 3\n",
    "print('<<= ',x)\n"
   ]
  },
  {
   "cell_type": "code",
   "execution_count": 43,
   "id": "4cff7033",
   "metadata": {},
   "outputs": [
    {
     "name": "stdout",
     "output_type": "stream",
     "text": [
      "False\n",
      "False\n",
      "True\n"
     ]
    }
   ],
   "source": [
    "#Logical operators\n",
    "x=15\n",
    "y=10\n",
    "print(x < 5 and  y < 10)\n",
    "print(x < 15 or y < 4)\n",
    "print(not(x < 15 and y < 10))"
   ]
  },
  {
   "cell_type": "code",
   "execution_count": 44,
   "id": "3ea94d29",
   "metadata": {},
   "outputs": [
    {
     "name": "stdout",
     "output_type": "stream",
     "text": [
      "False\n"
     ]
    }
   ],
   "source": [
    "#Identity operators\n",
    "print(x is y)"
   ]
  },
  {
   "cell_type": "code",
   "execution_count": 45,
   "id": "ec8afefe",
   "metadata": {},
   "outputs": [
    {
     "name": "stdout",
     "output_type": "stream",
     "text": [
      "True\n"
     ]
    }
   ],
   "source": [
    "print(x is not y)"
   ]
  },
  {
   "cell_type": "code",
   "execution_count": 46,
   "id": "99813d2d",
   "metadata": {},
   "outputs": [
    {
     "name": "stdout",
     "output_type": "stream",
     "text": [
      "True\n",
      "False\n"
     ]
    }
   ],
   "source": [
    "#Membership operators\n",
    "x='Manjusha'\n",
    "y=['Mary','Mariya','Manjusha','Mathew']\n",
    "print(x in y)\n",
    "print(x not in y)"
   ]
  },
  {
   "cell_type": "code",
   "execution_count": 3,
   "id": "c8351429",
   "metadata": {},
   "outputs": [
    {
     "name": "stdout",
     "output_type": "stream",
     "text": [
      "& 0\n",
      "| 30\n",
      "^ 30\n",
      "~ -21\n",
      "<< 80\n",
      ">> 5\n"
     ]
    }
   ],
   "source": [
    "#Bitwise operators\n",
    "x=20\n",
    "y=10\n",
    "\n",
    "print('&',x & y)\n",
    "print('|',x | y)\n",
    "print('^',x ^ y)\n",
    "print('~',~x)\n",
    "print('<<',x << 2)\n",
    "print('>>',x >> 2)"
   ]
  },
  {
   "cell_type": "code",
   "execution_count": 4,
   "id": "9c5bfb72",
   "metadata": {},
   "outputs": [
    {
     "data": {
      "text/plain": [
       "['__abs__',\n",
       " '__add__',\n",
       " '__and__',\n",
       " '__bool__',\n",
       " '__ceil__',\n",
       " '__class__',\n",
       " '__delattr__',\n",
       " '__dir__',\n",
       " '__divmod__',\n",
       " '__doc__',\n",
       " '__eq__',\n",
       " '__float__',\n",
       " '__floor__',\n",
       " '__floordiv__',\n",
       " '__format__',\n",
       " '__ge__',\n",
       " '__getattribute__',\n",
       " '__getnewargs__',\n",
       " '__gt__',\n",
       " '__hash__',\n",
       " '__index__',\n",
       " '__init__',\n",
       " '__init_subclass__',\n",
       " '__int__',\n",
       " '__invert__',\n",
       " '__le__',\n",
       " '__lshift__',\n",
       " '__lt__',\n",
       " '__mod__',\n",
       " '__mul__',\n",
       " '__ne__',\n",
       " '__neg__',\n",
       " '__new__',\n",
       " '__or__',\n",
       " '__pos__',\n",
       " '__pow__',\n",
       " '__radd__',\n",
       " '__rand__',\n",
       " '__rdivmod__',\n",
       " '__reduce__',\n",
       " '__reduce_ex__',\n",
       " '__repr__',\n",
       " '__rfloordiv__',\n",
       " '__rlshift__',\n",
       " '__rmod__',\n",
       " '__rmul__',\n",
       " '__ror__',\n",
       " '__round__',\n",
       " '__rpow__',\n",
       " '__rrshift__',\n",
       " '__rshift__',\n",
       " '__rsub__',\n",
       " '__rtruediv__',\n",
       " '__rxor__',\n",
       " '__setattr__',\n",
       " '__sizeof__',\n",
       " '__str__',\n",
       " '__sub__',\n",
       " '__subclasshook__',\n",
       " '__truediv__',\n",
       " '__trunc__',\n",
       " '__xor__',\n",
       " 'as_integer_ratio',\n",
       " 'bit_count',\n",
       " 'bit_length',\n",
       " 'conjugate',\n",
       " 'denominator',\n",
       " 'from_bytes',\n",
       " 'imag',\n",
       " 'numerator',\n",
       " 'real',\n",
       " 'to_bytes']"
      ]
     },
     "execution_count": 4,
     "metadata": {},
     "output_type": "execute_result"
    }
   ],
   "source": [
    "#3.Once you create an object of each data type, run dir(object). \n",
    "dir(x)"
   ]
  },
  {
   "cell_type": "code",
   "execution_count": 24,
   "id": "657094ea",
   "metadata": {},
   "outputs": [
    {
     "name": "stdout",
     "output_type": "stream",
     "text": [
      "9\n",
      "9\n",
      "-4\n",
      "81\n",
      "7\n",
      "8\n",
      "7.89\n",
      "62\n"
     ]
    }
   ],
   "source": [
    "#absolute\n",
    "print(x.__abs__())\n",
    "\n",
    "x=-9\n",
    "\n",
    "print(x.__abs__())\n",
    "\n",
    "#add\n",
    "print(x.__add__(5))\n",
    "\n",
    "print(x.__pow__(2)) #power\n",
    "\n",
    "y=7.89328\n",
    "print(y.__floor__()) #floor\n",
    "print(y.__ceil__()) #ceil\n",
    "print(y.__round__(2)) #round\n",
    "\n",
    "mystring=\"integrify    \"\n",
    "print(mystring.__sizeof__())\n"
   ]
  },
  {
   "cell_type": "code",
   "execution_count": 57,
   "id": "1fa20930",
   "metadata": {},
   "outputs": [
    {
     "name": "stdout",
     "output_type": "stream",
     "text": [
      "I love Python\n",
      "I Love Python\n",
      "I Love Pythonversion 3.3\n",
      "I Love Pythonversion 3.300000\n",
      "I Love  Python version 3.30\n",
      "I love python version 3.1\n",
      "I love python version 3.10\n",
      "I love python version 3.10\n",
      "I love 3.1 version of python\n",
      "I love python version 3.10\n",
      "I love python version 3.10\n",
      "I love python version 3.10\n",
      "I love python\n",
      "I love javascript\n"
     ]
    }
   ],
   "source": [
    "#4. Learn differnt ways to format the string.\n",
    "print(\"I love\",\"Python\")\n",
    "print(\"I Love\" + \" Python\")\n",
    "print(\"I Love\" + \" Python\" + \"version\", 3.30)\n",
    "print(\"I Love\" + \" Python\" \"version %2f\"%3.30)\n",
    "print(\"I Love %s version %.2f\"%(\" Python\",3.30))\n",
    "\n",
    "#format positional arguments\n",
    "print(\"I love {} version {}\".format(\"python\",3.10))\n",
    "print(\"I love {} version {}\".format(\"python\",\"3.10\"))\n",
    "print(\"I love {} version {:.2f}\".format(\"python\",3.10))\n",
    "print(\"I love {1} version of {0}\".format(\"python\",3.10))\n",
    "\n",
    "#format keyword\n",
    "print(\"I love {pl} version {version:.2f}\".format(pl=\"python\",version=3.10))\n",
    "\n",
    "info={\"pl\":\"python\",\"version\":3.10}\n",
    "print(f\"I love {info.get('pl')} version {info.get('version'):.2f}\")\n",
    "\n",
    "print(F'I love {info[\"pl\"]} version {info[\"version\"]:.2f}')\n",
    "\n",
    "batch='ML'\n",
    "print(f'I love {\"javascript\" if batch==\"FS\" else \"python\"}')\n",
    "\n",
    "batch='FS'\n",
    "print(f'I love {\"javascript\" if batch==\"FS\" else \"python\"}')"
   ]
  },
  {
   "cell_type": "code",
   "execution_count": 67,
   "id": "9375b8b8",
   "metadata": {},
   "outputs": [
    {
     "name": "stdout",
     "output_type": "stream",
     "text": [
      "6 bananas cost $1.74\n",
      "6 bananas cost $1.74\n",
      "6 bananas cost $1.74\n"
     ]
    },
    {
     "data": {
      "text/plain": [
       "'apple/banana/orange'"
      ]
     },
     "execution_count": 67,
     "metadata": {},
     "output_type": "execute_result"
    }
   ],
   "source": [
    "print('%d %s cost $%.2f' % (6, 'bananas', 1.74))\n",
    "\n",
    "print('{0} {1} cost ${2}'.format(6, 'bananas', 1.74))\n",
    "\n",
    "print('{quantity} {item} cost ${price}'.format(quantity=6,item='bananas', price=1.74))\n",
    "\n",
    "#positional argument\n",
    "'{0}/{1}/{2}'.format('apple', 'banana', 'orange')\n"
   ]
  },
  {
   "cell_type": "code",
   "execution_count": 65,
   "id": "f13a758c",
   "metadata": {},
   "outputs": [
    {
     "data": {
      "text/plain": [
       "'apple/banana/orange'"
      ]
     },
     "execution_count": 65,
     "metadata": {},
     "output_type": "execute_result"
    }
   ],
   "source": [
    "#automatic field numbering\n",
    "'{}/{}/{}'.format('apple', 'banana', 'orange')"
   ]
  },
  {
   "cell_type": "code",
   "execution_count": 66,
   "id": "3867b247",
   "metadata": {},
   "outputs": [
    {
     "data": {
      "text/plain": [
       "'orange.banana.apple/appleapple.bananabanana.orangeorange'"
      ]
     },
     "execution_count": 66,
     "metadata": {},
     "output_type": "execute_result"
    }
   ],
   "source": [
    "'{2}.{1}.{0}/{0}{0}.{1}{1}.{2}{2}'.format('apple', 'banana', 'orange')"
   ]
  },
  {
   "cell_type": "code",
   "execution_count": 68,
   "id": "0a44debe",
   "metadata": {},
   "outputs": [
    {
     "data": {
      "text/plain": [
       "'apple/banana/orange'"
      ]
     },
     "execution_count": 68,
     "metadata": {},
     "output_type": "execute_result"
    }
   ],
   "source": [
    "#keyword argument\n",
    "'{x}/{y}/{z}'.format(x='apple', y='banana', z='orange')"
   ]
  },
  {
   "cell_type": "code",
   "execution_count": 69,
   "id": "c0aa998c",
   "metadata": {},
   "outputs": [
    {
     "data": {
      "text/plain": [
       "'1, 2, 3'"
      ]
     },
     "execution_count": 69,
     "metadata": {},
     "output_type": "execute_result"
    }
   ],
   "source": [
    "x, y, z = 1, 2, 3\n",
    "'{0}, {1}, {baz}'.format(x, y, baz=z)"
   ]
  },
  {
   "cell_type": "code",
   "execution_count": 91,
   "id": "52be3389",
   "metadata": {},
   "outputs": [
    {
     "name": "stdout",
     "output_type": "stream",
     "text": [
      "42\n",
      "2.100000\n",
      "integrify\n",
      "1f\n",
      "#\n",
      "-1.23457E+08\n",
      "65.000000%\n",
      "     123\n",
      "123#####\n",
      "  +123\n",
      "  -123\n",
      "     123\n",
      "1,234,567\n",
      "1110_1010_0001\n",
      "ae12_3fcc_8ab2\n",
      "  1.2300\n",
      "    123.46\n",
      "123_456_789\n"
     ]
    },
    {
     "data": {
      "text/plain": [
       "'6 bananas cost $1.74'"
      ]
     },
     "execution_count": 91,
     "metadata": {},
     "output_type": "execute_result"
    }
   ],
   "source": [
    "print('%d' % 42)\n",
    "print('%f' % 2.1)\n",
    "print('%s' % 'integrify')\n",
    "print('%x' % 31)\n",
    "print('%c' % 35)\n",
    "print('{:G}'.format(-123456789.8765))\n",
    "print('%f%%' % 65.0)\n",
    "#right justified\n",
    "print('{0:>8d}'.format(123))\n",
    "#centered\n",
    "'{0:^8d}'.format(123)\n",
    "#filling\n",
    "print('{0:#<8d}'.format(123))\n",
    "#leading sign\n",
    "print('{0:+6d}'.format(123))\n",
    "print('{0:+6d}'.format(-123))\n",
    "\n",
    "#0 component\n",
    "'{0:05d}'.format(123)\n",
    "\n",
    "#width component\n",
    "print('{0:8d}'.format(123))\n",
    "\n",
    "#grouping seperator\n",
    "print('{0:,d}'.format(1234567))\n",
    "\n",
    "#binary ,octal, hexadecimal grouping\n",
    "print('{0:_b}'.format(0b111010100001))\n",
    "\n",
    "print('{0:_x}'.format(0xae123fcc8ab2))\n",
    "\n",
    "#prec (precision)\n",
    "print('{0:8.4f}'.format(1.23))\n",
    "\n",
    "w=10\n",
    "p=2\n",
    "print('%*.*f' % (w, p, 123.456))  # Width is 10, precision is 2\n",
    "\n",
    "#grouping\n",
    "print('{0:{grp}d}'.format(123456789, grp='_'))\n",
    "\n",
    "#fstrings\n",
    "quantity, item, price = 6, 'bananas', 1.74\n",
    "f'{quantity} {item} cost ${price}'\n"
   ]
  },
  {
   "cell_type": "code",
   "execution_count": 92,
   "id": "4631a8ae",
   "metadata": {},
   "outputs": [
    {
     "name": "stdout",
     "output_type": "stream",
     "text": [
      "The larger of 3 and 7 is 7\n"
     ]
    }
   ],
   "source": [
    "#conditional expression\n",
    "x = 3\n",
    "y = 7\n",
    "print(f'The larger of {x} and {y} is {x if x > y else y}')"
   ]
  },
  {
   "cell_type": "code",
   "execution_count": 93,
   "id": "3426f3aa",
   "metadata": {},
   "outputs": [
    {
     "name": "stdout",
     "output_type": "stream",
     "text": [
      "I am a minor.\n"
     ]
    }
   ],
   "source": [
    "age = 13\n",
    "print(f'I am {\"a minor\" if age < 18 else \"an adult\"}.')"
   ]
  },
  {
   "cell_type": "code",
   "execution_count": 95,
   "id": "68059341",
   "metadata": {},
   "outputs": [
    {
     "data": {
      "text/plain": [
       "['Finland', 'Sweden', 'Denmark', 'Netherlands', 'Germany', 'Norway', 'Iceland']"
      ]
     },
     "execution_count": 95,
     "metadata": {},
     "output_type": "execute_result"
    }
   ],
   "source": [
    "#5. Familiarize yourself with indexing in python. Iterables can be accessed using index values in python.\n",
    "#Eg: list, tuple,dict, set \n",
    "\n",
    "countries=['Finland','Sweden','Denmark','Netherlands','Germany','Norway','Iceland']\n",
    "countries"
   ]
  },
  {
   "cell_type": "code",
   "execution_count": 97,
   "id": "d3373456",
   "metadata": {},
   "outputs": [
    {
     "name": "stdout",
     "output_type": "stream",
     "text": [
      "1\n"
     ]
    }
   ],
   "source": [
    "print(countries.index('Sweden'))"
   ]
  },
  {
   "cell_type": "code",
   "execution_count": 99,
   "id": "e9d4c6e2",
   "metadata": {},
   "outputs": [
    {
     "name": "stdout",
     "output_type": "stream",
     "text": [
      "['Sweden', 'Denmark', 'Netherlands', 'Germany', 'Norway', 'Iceland']\n"
     ]
    }
   ],
   "source": [
    "print(countries[1:])"
   ]
  },
  {
   "cell_type": "code",
   "execution_count": 100,
   "id": "b11cad86",
   "metadata": {},
   "outputs": [
    {
     "name": "stdout",
     "output_type": "stream",
     "text": [
      "['Finland', 'Sweden', 'Denmark', 'Netherlands', 'Germany', 'Norway']\n"
     ]
    }
   ],
   "source": [
    "print(countries[:-1])"
   ]
  },
  {
   "cell_type": "code",
   "execution_count": 101,
   "id": "00254848",
   "metadata": {},
   "outputs": [
    {
     "name": "stdout",
     "output_type": "stream",
     "text": [
      "Iceland\n"
     ]
    }
   ],
   "source": [
    "print(countries[-1])"
   ]
  },
  {
   "cell_type": "code",
   "execution_count": 102,
   "id": "23c9efc5",
   "metadata": {},
   "outputs": [
    {
     "name": "stdout",
     "output_type": "stream",
     "text": [
      "['Sweden', 'Netherlands', 'Norway']\n"
     ]
    }
   ],
   "source": [
    "print(countries[1::2])"
   ]
  },
  {
   "cell_type": "code",
   "execution_count": 104,
   "id": "0e3fb848",
   "metadata": {},
   "outputs": [
    {
     "name": "stdout",
     "output_type": "stream",
     "text": [
      "Finland Iceland\n"
     ]
    }
   ],
   "source": [
    "print(countries[0], countries[-1])"
   ]
  },
  {
   "cell_type": "code",
   "execution_count": 110,
   "id": "66d26003",
   "metadata": {},
   "outputs": [
    {
     "name": "stdout",
     "output_type": "stream",
     "text": [
      "['Netherlands', 'Germany', 'Norway']\n"
     ]
    }
   ],
   "source": [
    "print(countries[-4:-1])"
   ]
  },
  {
   "cell_type": "code",
   "execution_count": 116,
   "id": "58fa5688",
   "metadata": {},
   "outputs": [
    {
     "name": "stdout",
     "output_type": "stream",
     "text": [
      "['Iceland', 'Norway', 'Germany', 'Netherlands', 'Denmark', 'Sweden', 'Finland']\n"
     ]
    }
   ],
   "source": [
    "countries.reverse()\n",
    "print(countries)"
   ]
  },
  {
   "cell_type": "code",
   "execution_count": 118,
   "id": "d9e03ad8",
   "metadata": {},
   "outputs": [
    {
     "name": "stdout",
     "output_type": "stream",
     "text": [
      "['Finland', 'Denmark', 'Germany', 'Iceland']\n"
     ]
    }
   ],
   "source": [
    "print(countries[::-2])"
   ]
  },
  {
   "cell_type": "code",
   "execution_count": 119,
   "id": "e0df9720",
   "metadata": {},
   "outputs": [
    {
     "name": "stdout",
     "output_type": "stream",
     "text": [
      "['Norway', 'Netherlands', 'Sweden']\n"
     ]
    }
   ],
   "source": [
    "print(countries[1:100:2])"
   ]
  },
  {
   "cell_type": "code",
   "execution_count": 120,
   "id": "990aeba0",
   "metadata": {},
   "outputs": [
    {
     "name": "stdout",
     "output_type": "stream",
     "text": [
      "[]\n"
     ]
    }
   ],
   "source": [
    "print(countries[len(countries)-1:0:2])"
   ]
  },
  {
   "cell_type": "code",
   "execution_count": 121,
   "id": "7b179887",
   "metadata": {},
   "outputs": [
    {
     "name": "stdout",
     "output_type": "stream",
     "text": [
      "['Iceland', 'Norway', 'Germany', 'Netherlands', 'Denmark', 'Sweden', 'Finland']\n"
     ]
    }
   ],
   "source": [
    "print(countries)"
   ]
  },
  {
   "cell_type": "code",
   "execution_count": 123,
   "id": "84802c18",
   "metadata": {},
   "outputs": [
    {
     "name": "stdout",
     "output_type": "stream",
     "text": [
      "['Germany', 'Netherlands', 'Denmark']\n"
     ]
    }
   ],
   "source": [
    "print(countries[2:5])"
   ]
  },
  {
   "cell_type": "code",
   "execution_count": 127,
   "id": "2ea7653f",
   "metadata": {},
   "outputs": [
    {
     "name": "stdout",
     "output_type": "stream",
     "text": [
      "['Finland', 'Sweden', 'Denmark', 'Netherlands', 'Germany', 'Norway', 'Iceland']\n",
      "[(0, 'Finland'), (1, 'Sweden'), (2, 'Denmark'), (3, 'Netherlands'), (4, 'Germany'), (5, 'Norway'), (6, 'Iceland')]\n"
     ]
    }
   ],
   "source": [
    "countries.reverse()\n",
    "print(countries)\n",
    "print (list(enumerate(countries)))"
   ]
  },
  {
   "cell_type": "code",
   "execution_count": 132,
   "id": "c8447b50",
   "metadata": {},
   "outputs": [
    {
     "name": "stdout",
     "output_type": "stream",
     "text": [
      "['a', 'b', 'c', 'd']\n",
      "[1, 2, 3, 4]\n",
      "The dictonary is\n",
      "<zip object at 0x000001F6F772BA40>\n"
     ]
    },
    {
     "data": {
      "text/plain": [
       "[('a', 1), ('b', 2), ('c', 3), ('d', 4)]"
      ]
     },
     "execution_count": 132,
     "metadata": {},
     "output_type": "execute_result"
    }
   ],
   "source": [
    "#6. Exercise on dictionaries\n",
    "keys=[\"a\",\"b\",\"c\",\"d\"]\n",
    "listval=[1,2,3,4]\n",
    "print(keys)\n",
    "print(listval)\n",
    "mydic=zip(keys,listval)\n",
    "print('The dictonary is')\n",
    "print(mydic)\n",
    "type(mydic)\n",
    "list(mydic)"
   ]
  },
  {
   "cell_type": "code",
   "execution_count": 158,
   "id": "4a9e2272",
   "metadata": {},
   "outputs": [
    {
     "name": "stdout",
     "output_type": "stream",
     "text": [
      "{1: 'DataScience', 2: 'ML', 3: 'Dot Net', 4: 'Typescript'} {5: 'Java', 6: 'React'}\n"
     ]
    }
   ],
   "source": [
    "course1={1:'DataScience',\n",
    "         2:'ML',\n",
    "         3:'Dot Net',\n",
    "         4:'Typescript'}\n",
    "\n",
    "course2={5:'Java',\n",
    "         6:'React'}\n",
    "\n",
    "print(course1, course2)"
   ]
  },
  {
   "cell_type": "code",
   "execution_count": 159,
   "id": "8f96adcc",
   "metadata": {},
   "outputs": [],
   "source": [
    "course1.update(course2)"
   ]
  },
  {
   "cell_type": "code",
   "execution_count": 160,
   "id": "77215244",
   "metadata": {},
   "outputs": [
    {
     "name": "stdout",
     "output_type": "stream",
     "text": [
      "{1: 'DataScience', 2: 'ML', 3: 'Dot Net', 4: 'Typescript', 5: 'Java', 6: 'React'}\n"
     ]
    }
   ],
   "source": [
    "print(course1)"
   ]
  },
  {
   "cell_type": "code",
   "execution_count": 148,
   "id": "10495583",
   "metadata": {},
   "outputs": [
    {
     "name": "stdout",
     "output_type": "stream",
     "text": [
      "{'Physics': 67, 'Maths': 87, 'Practical': 48}\n"
     ]
    }
   ],
   "source": [
    "marks = {'Physics':67, \n",
    "         'Maths':87}\n",
    "internal_marks = {'Practical':48}\n",
    "\n",
    "marks.update(internal_marks)\n",
    "\n",
    "print(marks)"
   ]
  },
  {
   "cell_type": "code",
   "execution_count": 154,
   "id": "78b9faa6",
   "metadata": {},
   "outputs": [
    {
     "name": "stdout",
     "output_type": "stream",
     "text": [
      "{1: 'one', 2: 'two'}\n",
      "{1: 'one', 2: 'two', 3: 'three'}\n"
     ]
    }
   ],
   "source": [
    "d = {1: \"one\", 2: \"three\"}\n",
    "d1 = {2: \"two\"}\n",
    "\n",
    "# updates the value of key 2\n",
    "d.update(d1)\n",
    "\n",
    "print(d)\n",
    "\n",
    "d1 = {3: \"three\"}\n",
    "\n",
    "# adds element with key 3\n",
    "d.update(d1)\n",
    "\n",
    "print(d)"
   ]
  },
  {
   "cell_type": "code",
   "execution_count": 164,
   "id": "2c733a05",
   "metadata": {},
   "outputs": [
    {
     "name": "stdout",
     "output_type": "stream",
     "text": [
      "['Duy', 'Laxmi', 'Antonio', 'Maria']\n",
      "['Python', 'Database', 'ML']\n"
     ]
    }
   ],
   "source": [
    "Students=['Duy', 'Laxmi','Antonio','Maria']\n",
    "Course=[\"Python\",\"Database\",\"ML\"] \n",
    "\n",
    "print(Students)\n",
    "print(Course)"
   ]
  },
  {
   "cell_type": "code",
   "execution_count": 166,
   "id": "1e1dba68",
   "metadata": {},
   "outputs": [],
   "source": [
    "student_profile=dict.fromkeys(Students,Course)"
   ]
  },
  {
   "cell_type": "code",
   "execution_count": 167,
   "id": "77ee657e",
   "metadata": {},
   "outputs": [
    {
     "name": "stdout",
     "output_type": "stream",
     "text": [
      "{'Duy': ['Python', 'Database', 'ML'], 'Laxmi': ['Python', 'Database', 'ML'], 'Antonio': ['Python', 'Database', 'ML'], 'Maria': ['Python', 'Database', 'ML']}\n"
     ]
    }
   ],
   "source": [
    "print(student_profile)"
   ]
  },
  {
   "cell_type": "code",
   "execution_count": 168,
   "id": "28ea07a6",
   "metadata": {},
   "outputs": [
    {
     "name": "stdout",
     "output_type": "stream",
     "text": [
      "['Python', 'Database', 'ML']\n"
     ]
    }
   ],
   "source": [
    "print(student_profile['Antonio'])"
   ]
  },
  {
   "cell_type": "code",
   "execution_count": 170,
   "id": "fedc55c3",
   "metadata": {},
   "outputs": [],
   "source": [
    "student_profile['Antonio']=[\"JavaScript\",\"Database\",\"NodeJS\"]"
   ]
  },
  {
   "cell_type": "code",
   "execution_count": 171,
   "id": "3ceef9f4",
   "metadata": {},
   "outputs": [
    {
     "name": "stdout",
     "output_type": "stream",
     "text": [
      "['JavaScript', 'Database', 'NodeJS']\n"
     ]
    }
   ],
   "source": [
    "print(student_profile['Antonio'])"
   ]
  },
  {
   "cell_type": "code",
   "execution_count": 172,
   "id": "e680d24a",
   "metadata": {},
   "outputs": [
    {
     "name": "stdout",
     "output_type": "stream",
     "text": [
      "{'Duy': ['Python', 'Database', 'ML'], 'Laxmi': ['Python', 'Database', 'ML'], 'Antonio': ['JavaScript', 'Database', 'NodeJS'], 'Maria': ['Python', 'Database', 'ML']}\n"
     ]
    }
   ],
   "source": [
    "print(student_profile)"
   ]
  },
  {
   "cell_type": "code",
   "execution_count": 179,
   "id": "d0a1adbe",
   "metadata": {},
   "outputs": [],
   "source": [
    "(student_profile['Antonio']).append('ReactJs')"
   ]
  },
  {
   "cell_type": "code",
   "execution_count": 180,
   "id": "ad3a55ea",
   "metadata": {},
   "outputs": [
    {
     "name": "stdout",
     "output_type": "stream",
     "text": [
      "{'Duy': ['Python', 'Database', 'ML'], 'Laxmi': ['Python', 'Database', 'ML'], 'Antonio': ['JavaScript', 'Database', 'NodeJS', 'ReactJs', 'ReactJs'], 'Maria': ['Python', 'Database', 'ML']}\n"
     ]
    }
   ],
   "source": [
    "print(student_profile)"
   ]
  },
  {
   "cell_type": "code",
   "execution_count": 182,
   "id": "6b83d166",
   "metadata": {},
   "outputs": [
    {
     "data": {
      "text/plain": [
       "['JavaScript', 'Database', 'NodeJS', 'ReactJs', 'ReactJs']"
      ]
     },
     "execution_count": 182,
     "metadata": {},
     "output_type": "execute_result"
    }
   ],
   "source": [
    "(student_profile['Antonio'])"
   ]
  },
  {
   "cell_type": "code",
   "execution_count": 183,
   "id": "c66ba517",
   "metadata": {},
   "outputs": [
    {
     "data": {
      "text/plain": [
       "['JavaScript', 'Database', 'NodeJS', 'VueJs', 'VueJs']"
      ]
     },
     "execution_count": 183,
     "metadata": {},
     "output_type": "execute_result"
    }
   ],
   "source": [
    "['VueJs' if item == 'ReactJs' else item for item in (student_profile['Antonio'])]"
   ]
  },
  {
   "cell_type": "code",
   "execution_count": 184,
   "id": "70d1c716",
   "metadata": {},
   "outputs": [
    {
     "data": {
      "text/plain": [
       "('Maria', ['Python', 'Database', 'ML'])"
      ]
     },
     "execution_count": 184,
     "metadata": {},
     "output_type": "execute_result"
    }
   ],
   "source": [
    "student_profile.popitem()"
   ]
  },
  {
   "cell_type": "code",
   "execution_count": 185,
   "id": "222b56ab",
   "metadata": {},
   "outputs": [
    {
     "name": "stdout",
     "output_type": "stream",
     "text": [
      "{'Duy': ['Python', 'Database', 'ML'], 'Laxmi': ['Python', 'Database', 'ML'], 'Antonio': ['JavaScript', 'Database', 'NodeJS', 'ReactJs', 'ReactJs']}\n"
     ]
    }
   ],
   "source": [
    "print(student_profile)"
   ]
  },
  {
   "cell_type": "code",
   "execution_count": null,
   "id": "13315e81",
   "metadata": {},
   "outputs": [],
   "source": []
  }
 ],
 "metadata": {
  "kernelspec": {
   "display_name": "Python 3 (ipykernel)",
   "language": "python",
   "name": "python3"
  },
  "language_info": {
   "codemirror_mode": {
    "name": "ipython",
    "version": 3
   },
   "file_extension": ".py",
   "mimetype": "text/x-python",
   "name": "python",
   "nbconvert_exporter": "python",
   "pygments_lexer": "ipython3",
   "version": "3.10.2"
  }
 },
 "nbformat": 4,
 "nbformat_minor": 5
}
