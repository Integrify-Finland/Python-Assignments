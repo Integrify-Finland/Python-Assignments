{
 "cells": [
  {
   "cell_type": "markdown",
   "id": "8e7c05fb",
   "metadata": {},
   "source": [
    "## 1- Use the constructor methods"
   ]
  },
  {
   "cell_type": "code",
   "execution_count": 32,
   "id": "20959727",
   "metadata": {},
   "outputs": [
    {
     "name": "stdout",
     "output_type": "stream",
     "text": [
      "20 <class 'int'>\n",
      "2.4 <class 'float'>\n",
      "Integrify-ML & DATA SCIENCE PROGRAM <class 'str'>\n",
      "['Python', 'C++', 'Java'] <class 'list'>\n",
      "('Python', 'C++', 'Java') <class 'tuple'>\n",
      "{'name': 'Aram', 'family': 'Hedayati', 'age': 39} <class 'dict'>\n",
      "{3, 4, 5, 6} <class 'set'>\n",
      "True <class 'bool'>\n"
     ]
    }
   ],
   "source": [
    "#Use the constructor methods to create different data types in python(integer,float,string,list,tuple,dictionary,set etc.)\n",
    "\n",
    "a = int(20)\n",
    "b = float(2.4)\n",
    "c = str('Integrify-ML & DATA SCIENCE PROGRAM')\n",
    "d = list(('Python', 'C++', 'Java'))\n",
    "e = tuple(('Python', 'C++', 'Java'))\n",
    "f = dict(name='Aram', family='Hedayati',age=39)\n",
    "g = set((3, 4, 5, 6))\n",
    "h = bool('True')\n",
    "\n",
    "\n",
    "\n",
    "print(a,type(a))\n",
    "print(b,type(b))\n",
    "print(c,type(c))\n",
    "print(d,type(d))\n",
    "print(e,type(e))\n",
    "print(f,type(f))\n",
    "print(g,type(g))\n",
    "print(h,type(h))"
   ]
  },
  {
   "cell_type": "code",
   "execution_count": 33,
   "id": "75a3e991",
   "metadata": {},
   "outputs": [
    {
     "name": "stdout",
     "output_type": "stream",
     "text": [
      "<class 'int'>\n",
      "<class 'float'>\n",
      "<class 'str'>\n",
      "<class 'tuple'>\n",
      "<class 'list'>\n",
      "<class 'dict'>\n",
      "<class 'set'>\n",
      "<class 'bool'>\n"
     ]
    }
   ],
   "source": [
    "#use object literals to create those data types.\n",
    "\n",
    "a1 = 20\n",
    "b1 = 2.4\n",
    "c1 = 'Integrify-ML & DATA SCIENCE PROGRAM'\n",
    "d1 = ('Python', 'C++', 'Java')\n",
    "e1 = ['Python', 'C++', 'Java']\n",
    "f1 = {'name':'Aram', 'family':'Hedayati','age':39}\n",
    "g1 = {3, 4, 5, 6}\n",
    "h1 = True\n",
    "\n",
    "\n",
    "print(type(a1))\n",
    "print(type(b1))\n",
    "print(type(c1))\n",
    "print(type(d1))\n",
    "print(type(e1))\n",
    "print(type(f1))\n",
    "print(type(g1))\n",
    "print(type(h1))"
   ]
  },
  {
   "cell_type": "markdown",
   "id": "214b4c3b",
   "metadata": {},
   "source": [
    "## 2- Operators in python "
   ]
  },
  {
   "cell_type": "code",
   "execution_count": 34,
   "id": "d608ef56",
   "metadata": {},
   "outputs": [
    {
     "name": "stdout",
     "output_type": "stream",
     "text": [
      "12\n",
      "-8\n",
      "20\n",
      "0.2\n",
      "2\n",
      "1024\n",
      "0\n"
     ]
    }
   ],
   "source": [
    "#Create two operands and play around using different operators\n",
    "\n",
    "x=2\n",
    "y=10\n",
    "\n",
    "#Arithmetic operators\n",
    "\n",
    "print(x+y)\n",
    "print(x-y)\n",
    "print(x*y)\n",
    "print(x/y)\n",
    "print(x%y)\n",
    "print(x**y)\n",
    "print(x//y)\n",
    "\n"
   ]
  },
  {
   "cell_type": "code",
   "execution_count": 35,
   "id": "e13a3e10",
   "metadata": {},
   "outputs": [
    {
     "name": "stdout",
     "output_type": "stream",
     "text": [
      "5\n",
      "8\n",
      "5\n",
      "15\n",
      "5.0\n",
      "2.0\n",
      "0.0\n",
      "125\n",
      "127\n",
      "124\n",
      "15\n",
      "120\n"
     ]
    }
   ],
   "source": [
    "#Assignment Operators\n",
    "\n",
    "x=5\n",
    "print(x)\n",
    "\n",
    "x += 3\n",
    "print(x)\n",
    "\n",
    "x -= 3\n",
    "print(x)\n",
    "\n",
    "x *= 3\n",
    "print(x)\n",
    "\n",
    "x /= 3\n",
    "print(x)\n",
    "\n",
    "x %= 3\n",
    "print(x)\n",
    "\n",
    "x //= 3\n",
    "print(x)\n",
    "\n",
    "x=5\n",
    "\n",
    "x **= 3\n",
    "print(x)\n",
    "\n",
    "\n",
    "x |= 3\n",
    "print(x)\n",
    "\n",
    "x ^= 3\n",
    "print(x)\n",
    "\n",
    "x >>= 3\n",
    "print(x)\n",
    "\n",
    "x <<= 3\n",
    "print(x)\n"
   ]
  },
  {
   "cell_type": "code",
   "execution_count": 36,
   "id": "3b3283a4",
   "metadata": {},
   "outputs": [
    {
     "name": "stdout",
     "output_type": "stream",
     "text": [
      "False\n",
      "True\n",
      "True\n",
      "False\n",
      "True\n",
      "False\n"
     ]
    }
   ],
   "source": [
    "#Comparison Operators\n",
    "x = 5\n",
    "y = 3\n",
    "\n",
    "print(x == y)\n",
    "print(x != y)\n",
    "print(x > y)\n",
    "print(x < y)\n",
    "print(x >= y)\n",
    "print(x <= y)"
   ]
  },
  {
   "cell_type": "code",
   "execution_count": 37,
   "id": "823901d7",
   "metadata": {},
   "outputs": [
    {
     "name": "stdout",
     "output_type": "stream",
     "text": [
      "True\n",
      "False\n",
      "True\n",
      "True\n",
      "False\n"
     ]
    }
   ],
   "source": [
    "x = [\"Python\", \"c++\"]\n",
    "y = [\"Red\", \"Blue\"]\n",
    "z = x\n",
    "w = \"Python\"\n",
    "\n",
    "print(x is z)\n",
    "print(x is y)\n",
    "print(x == z)\n",
    "\n",
    "#Membership Operators\n",
    "print(w in x)\n",
    "print(w in y)"
   ]
  },
  {
   "cell_type": "code",
   "execution_count": 38,
   "id": "fda402d3",
   "metadata": {},
   "outputs": [
    {
     "name": "stdout",
     "output_type": "stream",
     "text": [
      "8\n",
      "11\n",
      "3\n",
      "-10\n"
     ]
    }
   ],
   "source": [
    "#Bitwise Operators\n",
    "y=10\n",
    "x=9\n",
    "\n",
    "print(x & y)\n",
    "print(x | y)\n",
    "print(x ^ y)\n",
    "print(~x)\n"
   ]
  },
  {
   "cell_type": "markdown",
   "id": "1e737f71",
   "metadata": {},
   "source": [
    "## 3-  dir(object)"
   ]
  },
  {
   "cell_type": "code",
   "execution_count": 39,
   "id": "dbce7316",
   "metadata": {},
   "outputs": [
    {
     "name": "stdout",
     "output_type": "stream",
     "text": [
      "['__abs__', '__add__', '__and__', '__bool__', '__ceil__', '__class__', '__delattr__', '__dir__', '__divmod__', '__doc__', '__eq__', '__float__', '__floor__', '__floordiv__', '__format__', '__ge__', '__getattribute__', '__getnewargs__', '__gt__', '__hash__', '__index__', '__init__', '__init_subclass__', '__int__', '__invert__', '__le__', '__lshift__', '__lt__', '__mod__', '__mul__', '__ne__', '__neg__', '__new__', '__or__', '__pos__', '__pow__', '__radd__', '__rand__', '__rdivmod__', '__reduce__', '__reduce_ex__', '__repr__', '__rfloordiv__', '__rlshift__', '__rmod__', '__rmul__', '__ror__', '__round__', '__rpow__', '__rrshift__', '__rshift__', '__rsub__', '__rtruediv__', '__rxor__', '__setattr__', '__sizeof__', '__str__', '__sub__', '__subclasshook__', '__truediv__', '__trunc__', '__xor__', 'as_integer_ratio', 'bit_length', 'conjugate', 'denominator', 'from_bytes', 'imag', 'numerator', 'real', 'to_bytes']\n",
      "10\n",
      "19\n",
      "-38\n",
      "-38\n",
      "1\n",
      "361\n"
     ]
    }
   ],
   "source": [
    "#int\n",
    "a = int(5)\n",
    "print(dir(a))\n",
    "print(a.__add__(5))\n",
    "\n",
    "b=int(-19)\n",
    "print(b.__abs__())\n",
    "print(b.__mul__(2))\n",
    "print(b.__mul__(2))\n",
    "print(b.__mod__(2))  \n",
    "print(b.__pow__(2))"
   ]
  },
  {
   "cell_type": "code",
   "execution_count": 40,
   "id": "ec48da53",
   "metadata": {},
   "outputs": [
    {
     "name": "stdout",
     "output_type": "stream",
     "text": [
      "['__abs__', '__add__', '__bool__', '__ceil__', '__class__', '__delattr__', '__dir__', '__divmod__', '__doc__', '__eq__', '__float__', '__floor__', '__floordiv__', '__format__', '__ge__', '__getattribute__', '__getformat__', '__getnewargs__', '__gt__', '__hash__', '__init__', '__init_subclass__', '__int__', '__le__', '__lt__', '__mod__', '__mul__', '__ne__', '__neg__', '__new__', '__pos__', '__pow__', '__radd__', '__rdivmod__', '__reduce__', '__reduce_ex__', '__repr__', '__rfloordiv__', '__rmod__', '__rmul__', '__round__', '__rpow__', '__rsub__', '__rtruediv__', '__set_format__', '__setattr__', '__sizeof__', '__str__', '__sub__', '__subclasshook__', '__truediv__', '__trunc__', 'as_integer_ratio', 'conjugate', 'fromhex', 'hex', 'imag', 'is_integer', 'real']\n",
      "6.0\n",
      "0x1.91eb851eb851fp+1\n",
      "0.28000000000000025\n",
      "1.0\n",
      "False\n"
     ]
    }
   ],
   "source": [
    "#float\n",
    "c = float(3.14)\n",
    "print(dir(c))\n",
    "print(c.__add__(2.86))\n",
    "print(c.hex())\n",
    "print(c.__sub__(2.86))\n",
    "print(c.__floordiv__(2))\n",
    "print(c.is_integer())"
   ]
  },
  {
   "cell_type": "code",
   "execution_count": 41,
   "id": "a484fd4d",
   "metadata": {},
   "outputs": [
    {
     "name": "stdout",
     "output_type": "stream",
     "text": [
      "['__add__', '__class__', '__contains__', '__delattr__', '__dir__', '__doc__', '__eq__', '__format__', '__ge__', '__getattribute__', '__getitem__', '__getnewargs__', '__gt__', '__hash__', '__init__', '__init_subclass__', '__iter__', '__le__', '__len__', '__lt__', '__mod__', '__mul__', '__ne__', '__new__', '__reduce__', '__reduce_ex__', '__repr__', '__rmod__', '__rmul__', '__setattr__', '__sizeof__', '__str__', '__subclasshook__', 'capitalize', 'casefold', 'center', 'count', 'encode', 'endswith', 'expandtabs', 'find', 'format', 'format_map', 'index', 'isalnum', 'isalpha', 'isascii', 'isdecimal', 'isdigit', 'isidentifier', 'islower', 'isnumeric', 'isprintable', 'isspace', 'istitle', 'isupper', 'join', 'ljust', 'lower', 'lstrip', 'maketrans', 'partition', 'removeprefix', 'removesuffix', 'replace', 'rfind', 'rindex', 'rjust', 'rpartition', 'rsplit', 'rstrip', 'split', 'splitlines', 'startswith', 'strip', 'swapcase', 'title', 'translate', 'upper', 'zfill']\n",
      "MachineLearning\n",
      "7\n",
      "Machine\n",
      "MACHINE\n",
      "1\n",
      "['Mac', 'ine']\n",
      "b'Machine'\n"
     ]
    }
   ],
   "source": [
    "#String\n",
    "f = str('Machine')\n",
    "print(dir(f))\n",
    "print(f.__add__('Learning')) \n",
    "\n",
    "print(f.__len__())\n",
    "print(f.capitalize())\n",
    "print(f.upper())\n",
    "print(f.count('h'))\n",
    "print(f.split('h'))\n",
    "print(f.encode()) "
   ]
  },
  {
   "cell_type": "code",
   "execution_count": 42,
   "id": "d70a45df",
   "metadata": {},
   "outputs": [
    {
     "name": "stdout",
     "output_type": "stream",
     "text": [
      "['__add__', '__class__', '__class_getitem__', '__contains__', '__delattr__', '__delitem__', '__dir__', '__doc__', '__eq__', '__format__', '__ge__', '__getattribute__', '__getitem__', '__gt__', '__hash__', '__iadd__', '__imul__', '__init__', '__init_subclass__', '__iter__', '__le__', '__len__', '__lt__', '__mul__', '__ne__', '__new__', '__reduce__', '__reduce_ex__', '__repr__', '__reversed__', '__rmul__', '__setattr__', '__setitem__', '__sizeof__', '__str__', '__subclasshook__', 'append', 'clear', 'copy', 'count', 'extend', 'index', 'insert', 'pop', 'remove', 'reverse', 'sort']\n",
      "[1, 2, 3, 4, 5]\n",
      "3\n",
      "2\n",
      "True\n",
      "True\n",
      "True\n",
      "[1, 2, 3, 4]\n"
     ]
    }
   ],
   "source": [
    "#list\n",
    "g = list([1, 2, 3])\n",
    "print(dir(g))\n",
    "print(g.__add__([4, 5]))\n",
    "\n",
    "\n",
    "print(g.__len__())  \n",
    "print(g.__getitem__(1)) \n",
    "print(g.__contains__(2))  \n",
    "print(g.__eq__([1, 2, 3])) \n",
    "print(g.__ne__([1, 2, 4]))  \n",
    "g.append(4)\n",
    "print(g)"
   ]
  },
  {
   "cell_type": "markdown",
   "id": "417324b9",
   "metadata": {},
   "source": [
    "## 4-Learn different ways to format the string. "
   ]
  },
  {
   "cell_type": "code",
   "execution_count": 43,
   "id": "eae3c3cf",
   "metadata": {
    "scrolled": true
   },
   "outputs": [
    {
     "name": "stdout",
     "output_type": "stream",
     "text": [
      "I love python\n",
      "I love python\n",
      "I love python version 3.1\n",
      "I love python version 3.10\n",
      "I love python version 3.10\n",
      "I love python version 3.1\n",
      "I love python version 3.10\n",
      "I love python version 3.10\n",
      "I love 3.10 version python\n",
      "I love python version 3.10\n",
      "I love python version 3.10\n",
      "I love python version 3.10\n",
      "I love python\n"
     ]
    }
   ],
   "source": [
    "#Learn different ways to format the string\n",
    "print(\"I love\",\"python\")\n",
    "print(\"I love\"+\" python\")\n",
    "print(\"I love\"+\" python\"+\" version\",3.10)\n",
    "print(\"I love\"+\" python\"+\" version %.2f\"%3.10)\n",
    "print(\"I love %s version %.2f\"%(\"python\",3.10))\n",
    "\n",
    "#using foramt positional\n",
    "print(\"I love {} version {}\".format(\"python\",3.10))\n",
    "print(\"I love {} version {}\".format(\"python\",\"3.10\"))\n",
    "print(\"I love {} version {:.2f}\".format(\"python\",3.10))\n",
    "print(\"I love {1} version {0}\".format(\"python\",\"3.10\"))\n",
    "\n",
    "#using format keyword argument\n",
    "print(\"I love {pl} version {version:.2f}\".format(pl=\"python\",version=3.10))\n",
    "\n",
    "#using f-string literal\n",
    "info={\"pl\":\"python\",\"version\":3.10}\n",
    "print(f\"I love {info.get('pl')} version {info.get('version'):.2f}\")\n",
    "print(F'I love {info[\"pl\"]} version {info[\"version\"]:.2f}')\n",
    "#F-string conditional\n",
    "batch='ML'\n",
    "print(f'I love {\"javascript\" if batch==\"FS\" else \"python\"}')"
   ]
  },
  {
   "cell_type": "markdown",
   "id": "18ecf4f7",
   "metadata": {},
   "source": [
    "## 5- Familiarize yourself with indexing in python."
   ]
  },
  {
   "cell_type": "code",
   "execution_count": 46,
   "id": "b25be4af",
   "metadata": {},
   "outputs": [
    {
     "name": "stdout",
     "output_type": "stream",
     "text": [
      "1\n",
      "-------------------------------------------------------------------\n",
      "['Sweden', 'Denmark', 'Netherlands', 'Germany', 'Norway', 'Iceland']\n",
      "-------------------------------------------------------------------\n",
      "['Finland', 'Sweden', 'Denmark', 'Netherlands', 'Germany', 'Norway']\n",
      "-------------------------------------------------------------------\n",
      "Iceland\n",
      "-------------------------------------------------------------------\n",
      "['Germany', 'Norway', 'Iceland']\n",
      "-------------------------------------------------------------------\n",
      "['Sweden', 'Netherlands', 'Norway']\n",
      "-------------------------------------------------------------------\n",
      "Finland Iceland\n",
      "-------------------------------------------------------------------\n",
      "['Netherlands', 'Germany', 'Norway']\n",
      "-------------------------------------------------------------------\n",
      "['Iceland', 'Norway', 'Germany', 'Netherlands', 'Denmark', 'Sweden', 'Finland']\n",
      "-------------------------------------------------------------------\n",
      "['Finland', 'Denmark', 'Germany', 'Iceland']\n",
      "-------------------------------------------------------------------\n",
      "['Norway', 'Netherlands', 'Sweden']\n",
      "-------------------------------------------------------------------\n",
      "[]\n",
      "-------------------------------------------------------------------\n",
      "['Germany', 'Netherlands', 'Denmark']\n",
      "-------------------------------------------------------------------\n",
      "0 Iceland\n",
      "1 Norway\n",
      "2 Germany\n",
      "3 Netherlands\n",
      "4 Denmark\n",
      "5 Sweden\n",
      "6 Finland\n"
     ]
    }
   ],
   "source": [
    "countries= [\"Finland\",\"Sweden\",\"Denmark\",\"Netherlands\",\"Germany\",\"Norway\",\"Iceland\"]\n",
    "\n",
    "#Find the index of “Sweden”\n",
    "print(countries.index('Sweden'))\n",
    "print('-------------------------------------------------------------------')\n",
    "\n",
    "\n",
    "#Get all the items except the first\n",
    "print(countries[1:])\n",
    "print('-------------------------------------------------------------------')\n",
    "\n",
    "\n",
    "#Get all the items except the first\n",
    "print(countries[:-1])\n",
    "print('-------------------------------------------------------------------')\n",
    "\n",
    "\n",
    "#Find the last item using negative indexing\n",
    "print(countries[-1])\n",
    "print('-------------------------------------------------------------------')\n",
    "\n",
    "\n",
    "#Find the last three item using negative indexing\n",
    "print(countries[-3:])\n",
    "print('-------------------------------------------------------------------')\n",
    "\n",
    "#Grab all the items with odd indexes\n",
    "print([countries[i] for i in range(len(countries)) if i % 2 == 1])\n",
    "print('-------------------------------------------------------------------')\n",
    "\n",
    "\n",
    "#Find the first and last item for the list\n",
    "print(countries[0],countries[-1])\n",
    "print('-------------------------------------------------------------------')\n",
    "\n",
    "\n",
    "#Get [”Netherlands”,”Germany”,”Norway”] using negative indexing\n",
    "print(countries[-4:-1])\n",
    "print('-------------------------------------------------------------------')\n",
    "\n",
    "\n",
    "#Reverse the list\n",
    "countries.reverse()\n",
    "print(countries)\n",
    "print('-------------------------------------------------------------------')\n",
    "\n",
    "\n",
    "#What is the output of countries[::-2]\n",
    "print(countries[::-2])\n",
    "print('-------------------------------------------------------------------')\n",
    "\n",
    "\n",
    "#What is the output of countries[1:100:2]\n",
    "print(countries[1:100:2])\n",
    "print('-------------------------------------------------------------------')\n",
    "\n",
    "#What is the output of countries[len(countries)-1:0:2]\n",
    "print(countries[len(countries)-1:0:2])\n",
    "print('-------------------------------------------------------------------')\n",
    "\n",
    "\n",
    "#Get the output ['Germany', 'Netherlands', 'Denmark']\n",
    "print(countries[2:5])\n",
    "print('-------------------------------------------------------------------')\n",
    "\n",
    "\n",
    "#Use enumerate method to get index and values in the list\n",
    "for i, x in enumerate(countries):\n",
    "    print(i, x)\n"
   ]
  },
  {
   "cell_type": "markdown",
   "id": "b9e97dec",
   "metadata": {},
   "source": [
    "## 6- Exercise on dictionaries"
   ]
  },
  {
   "cell_type": "code",
   "execution_count": 5,
   "id": "75338ce7",
   "metadata": {},
   "outputs": [
    {
     "name": "stdout",
     "output_type": "stream",
     "text": [
      "{'a': 1, 'b': 2, 'c': 3, 'd': 4, 'e': 5}\n"
     ]
    }
   ],
   "source": [
    "# create a dictionary\n",
    "a=[\"a\",\"b\",\"c\",\"d\",\"e\"]\n",
    "b=[1,2,3,4,5]\n",
    "mydic={}\n",
    "\n",
    "mydic = dict(zip(a, b))\n",
    "print(mydic)"
   ]
  },
  {
   "cell_type": "code",
   "execution_count": 8,
   "id": "3ae898f5",
   "metadata": {},
   "outputs": [
    {
     "name": "stdout",
     "output_type": "stream",
     "text": [
      "{'a': 1, 'b': 2, 'c': 3, 'd': 4, 'e': 5, 'f': 6, 'g': 7, 'h': 8}\n"
     ]
    }
   ],
   "source": [
    "#Create two dictionaries, merge them into one using update\n",
    "\n",
    "dic1={'a': 1, 'b': 2, 'c': 3, 'd': 4}\n",
    "dic2={'e': 5, 'f': 6, 'g': 7, 'h': 8}\n",
    "dic1.update(dic2)\n",
    "print(dic1)"
   ]
  },
  {
   "cell_type": "code",
   "execution_count": 12,
   "id": "029b744f",
   "metadata": {},
   "outputs": [
    {
     "name": "stdout",
     "output_type": "stream",
     "text": [
      "{'Duy': ['Python', 'Database', 'ML'], 'Laxmi': ['Python', 'Database', 'ML'], 'Antonio': ['Python', 'Database', 'ML'], 'Maria': ['Python', 'Database', 'ML']}\n"
     ]
    }
   ],
   "source": [
    "#Given the list of students, assign them the course\n",
    "Students=[\"Duy\", \"Laxmi\",\"Antonio\",\"Maria\"]\n",
    "Course1=[\"Python\",\"Database\",\"ML\"] \n",
    "students_profile={}\n",
    "for i in Students:\n",
    "    students_profile[i]=Course1\n",
    "    \n",
    "print(students_profile)\n"
   ]
  },
  {
   "cell_type": "code",
   "execution_count": 13,
   "id": "92632245",
   "metadata": {},
   "outputs": [
    {
     "name": "stdout",
     "output_type": "stream",
     "text": [
      "{'Duy': ['Python', 'Database', 'ML'], 'Laxmi': ['Python', 'Database', 'ML'], 'Antonio': ['JavaScript', 'Database', 'NodeJS'], 'Maria': ['Python', 'Database', 'ML']}\n"
     ]
    }
   ],
   "source": [
    "#Modify Antonio’s course to [\"JavaScript\",\"Database\",\"NodeJS\"]\n",
    "students_profile['Antonio']=[\"JavaScript\",\"Database\",\"NodeJS\"]\n",
    "print(students_profile)"
   ]
  },
  {
   "cell_type": "code",
   "execution_count": 15,
   "id": "81730821",
   "metadata": {},
   "outputs": [
    {
     "name": "stdout",
     "output_type": "stream",
     "text": [
      "{'Duy': ['Python', 'Database', 'ML'], 'Laxmi': ['Python', 'Database', 'ML'], 'Antonio': ['JavaScript', 'Database', 'NodeJS', 'ReactJs', 'ReactJs'], 'Maria': ['Python', 'Database', 'ML']}\n"
     ]
    }
   ],
   "source": [
    "#Add “ReactJs” to Anonio’s course\n",
    "students_profile['Antonio'].append(\"ReactJs\")\n",
    "print(students_profile)"
   ]
  },
  {
   "cell_type": "code",
   "execution_count": 16,
   "id": "44b4b318",
   "metadata": {},
   "outputs": [
    {
     "name": "stdout",
     "output_type": "stream",
     "text": [
      "{'Duy': ['Python', 'Database', 'ML'], 'Laxmi': ['Python', 'Database', 'ML'], 'Antonio': ['JavaScript', 'Database', 'NodeJS', 'Vuejs', 'Vuejs'], 'Maria': ['Python', 'Database', 'ML']}\n"
     ]
    }
   ],
   "source": [
    "#Replace Antonio’s “ReactJs” to “Vuejs”\n",
    "students_profile['Antonio']= list(map(lambda x: x.replace('ReactJs', 'Vuejs'), students_profile['Antonio']))\n",
    "print(students_profile)\n"
   ]
  },
  {
   "cell_type": "code",
   "execution_count": 22,
   "id": "e39f0074",
   "metadata": {},
   "outputs": [
    {
     "name": "stdout",
     "output_type": "stream",
     "text": [
      "{'b': 2, 'c': 3, 'd': 4}\n",
      "4\n",
      "{'b': 2, 'c': 3}\n"
     ]
    }
   ],
   "source": [
    "#Remove an item from dictionary\n",
    "dic1={'a': 1, 'b': 2, 'c': 3, 'd': 4}\n",
    "del dic1['a']\n",
    "print(dic1)\n",
    "removed_dic = dic1.pop('d')\n",
    "print(removed_dic)\n",
    "print(dic1)\n",
    "\n",
    "#the pop() method returns the value of the key removed from a dictionary whereas del does not return any value"
   ]
  },
  {
   "cell_type": "code",
   "execution_count": null,
   "id": "8e1c4ec9",
   "metadata": {},
   "outputs": [],
   "source": []
  }
 ],
 "metadata": {
  "kernelspec": {
   "display_name": "Python 3 (ipykernel)",
   "language": "python",
   "name": "python3"
  },
  "language_info": {
   "codemirror_mode": {
    "name": "ipython",
    "version": 3
   },
   "file_extension": ".py",
   "mimetype": "text/x-python",
   "name": "python",
   "nbconvert_exporter": "python",
   "pygments_lexer": "ipython3",
   "version": "3.9.0"
  }
 },
 "nbformat": 4,
 "nbformat_minor": 5
}
