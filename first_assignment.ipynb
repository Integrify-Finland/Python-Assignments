{
 "cells": [
  {
   "cell_type": "markdown",
   "id": "ba20946d",
   "metadata": {},
   "source": [
    "<div style = \"text-align: left\"><font size = 8 color = \"#B22222\" face = \"verdana\"><b>Integrify</b></font></div>\n",
    "<div style = \"text-align: left\"><font size = 6 color = \"#00008B\" face = \"verdana\"><b>Data Type Assignment_1</b></font></div>\n",
    "<div style = \"text-align: leftt\"><font><i>By Jeremiah Aremu</i></font></div>\n",
    "<div style = \"text-align: leftt\"><font>11th March 2023</font></div>\n",
    "\n"
   ]
  },
  {
   "cell_type": "code",
   "execution_count": 1,
   "id": "0fe2e6b4",
   "metadata": {},
   "outputs": [
    {
     "data": {
      "text/html": [
       "<style>.container { width:100% !important; }</style>"
      ],
      "text/plain": [
       "<IPython.core.display.HTML object>"
      ]
     },
     "metadata": {},
     "output_type": "display_data"
    }
   ],
   "source": [
    "#Code space custom format \n",
    "import pandas as pd\n",
    "import numpy as np\n",
    "import warnings\n",
    "warnings.simplefilter(action='ignore', category=RuntimeWarning)\n",
    "warnings.simplefilter(action='ignore', category=FutureWarning)\n",
    "warnings.simplefilter(action='ignore', category=UserWarning)\n",
    "warnings.simplefilter(action='ignore', category=DeprecationWarning)\n",
    "pd.set_option(\"display.max_columns\", None)\n",
    "pd.set_option(\"display.max_rows\", None)\n",
    "pd.options.display.max_colwidth = None\n",
    "pd.set_option(\"display.float_format\", lambda x: '%.2f' % x)\n",
    "from IPython.display import display, HTML\n",
    "display(HTML(\"<style>.container { width:100% !important; }</style>\"))"
   ]
  },
  {
   "cell_type": "markdown",
   "id": "d10b6177",
   "metadata": {},
   "source": [
    "## 1.0 Create different data types using the constructor method and literals"
   ]
  },
  {
   "cell_type": "markdown",
   "id": "413c5eb1",
   "metadata": {},
   "source": [
    "#### Integer"
   ]
  },
  {
   "cell_type": "code",
   "execution_count": 5,
   "id": "e9699568",
   "metadata": {},
   "outputs": [
    {
     "name": "stdout",
     "output_type": "stream",
     "text": [
      "<class 'int'>\n"
     ]
    }
   ],
   "source": [
    "# interger using constructor method\n",
    "number = int(5)\n",
    "print(type(number))"
   ]
  },
  {
   "cell_type": "code",
   "execution_count": 7,
   "id": "fdbbad7b",
   "metadata": {},
   "outputs": [
    {
     "name": "stdout",
     "output_type": "stream",
     "text": [
      "<class 'int'>\n"
     ]
    }
   ],
   "source": [
    "# integer using object literals\n",
    "numbers = 2\n",
    "print(type(numbers))"
   ]
  },
  {
   "cell_type": "markdown",
   "id": "e65d63ee",
   "metadata": {},
   "source": [
    "#### Float"
   ]
  },
  {
   "cell_type": "code",
   "execution_count": 8,
   "id": "9140744e",
   "metadata": {},
   "outputs": [
    {
     "name": "stdout",
     "output_type": "stream",
     "text": [
      "<class 'float'>\n"
     ]
    }
   ],
   "source": [
    "# float using constructor \n",
    "float_const = float(2.3)\n",
    "print(type(float_const))"
   ]
  },
  {
   "cell_type": "code",
   "execution_count": 9,
   "id": "74d1249c",
   "metadata": {},
   "outputs": [
    {
     "name": "stdout",
     "output_type": "stream",
     "text": [
      "<class 'float'>\n"
     ]
    }
   ],
   "source": [
    "# float using object literals\n",
    "float_lit = 2.3\n",
    "print(type(float_lit))"
   ]
  },
  {
   "cell_type": "markdown",
   "id": "62c6d2be",
   "metadata": {},
   "source": [
    "#### String"
   ]
  },
  {
   "cell_type": "code",
   "execution_count": 11,
   "id": "aa3d26a5",
   "metadata": {},
   "outputs": [
    {
     "name": "stdout",
     "output_type": "stream",
     "text": [
      "<class 'str'>\n"
     ]
    }
   ],
   "source": [
    "# string using constructor\n",
    "string_cosntr = str(\"Hello world\")\n",
    "print(type(string_cosntr))"
   ]
  },
  {
   "cell_type": "code",
   "execution_count": 12,
   "id": "2e71975f",
   "metadata": {},
   "outputs": [
    {
     "name": "stdout",
     "output_type": "stream",
     "text": [
      "<class 'str'>\n"
     ]
    }
   ],
   "source": [
    "# string object using literals \n",
    "string_litr = \"Hello world\"\n",
    "print(type(string_litr))"
   ]
  },
  {
   "cell_type": "markdown",
   "id": "3a136222",
   "metadata": {},
   "source": [
    "#### List"
   ]
  },
  {
   "cell_type": "code",
   "execution_count": 14,
   "id": "6b55b400",
   "metadata": {},
   "outputs": [
    {
     "name": "stdout",
     "output_type": "stream",
     "text": [
      "<class 'list'>\n"
     ]
    }
   ],
   "source": [
    "list_constr = list([1,2,3,4])\n",
    "print(type(list_constr))"
   ]
  },
  {
   "cell_type": "code",
   "execution_count": 15,
   "id": "bc36e2a3",
   "metadata": {},
   "outputs": [
    {
     "name": "stdout",
     "output_type": "stream",
     "text": [
      "<class 'list'>\n"
     ]
    }
   ],
   "source": [
    "list_litr = [1,2,3,4]\n",
    "print(type(list_constr))"
   ]
  },
  {
   "cell_type": "markdown",
   "id": "796bb742",
   "metadata": {},
   "source": [
    "#### Tuple"
   ]
  },
  {
   "cell_type": "code",
   "execution_count": 17,
   "id": "66a6ae43",
   "metadata": {},
   "outputs": [
    {
     "name": "stdout",
     "output_type": "stream",
     "text": [
      "<class 'tuple'>\n"
     ]
    }
   ],
   "source": [
    "tuple_constr = tuple((1,2,3))\n",
    "print(type(tuple_constr))"
   ]
  },
  {
   "cell_type": "code",
   "execution_count": 18,
   "id": "b20f1173",
   "metadata": {},
   "outputs": [
    {
     "name": "stdout",
     "output_type": "stream",
     "text": [
      "<class 'tuple'>\n"
     ]
    }
   ],
   "source": [
    "tuple_litr = (1,2,3)\n",
    "print(type(tuple_litr))"
   ]
  },
  {
   "cell_type": "markdown",
   "id": "5503a7c1",
   "metadata": {},
   "source": [
    "#### Dictionary"
   ]
  },
  {
   "cell_type": "code",
   "execution_count": 19,
   "id": "5814d1f4",
   "metadata": {},
   "outputs": [
    {
     "name": "stdout",
     "output_type": "stream",
     "text": [
      "<class 'dict'>\n"
     ]
    }
   ],
   "source": [
    "dict_constr = dict({\"Jerry\": \"Nigerian\", \"Victor\": \"Ghanian\", \"Timo\": \"Finnish\"})\n",
    "print(type(dict_constr))"
   ]
  },
  {
   "cell_type": "code",
   "execution_count": 20,
   "id": "5f70830d",
   "metadata": {},
   "outputs": [
    {
     "name": "stdout",
     "output_type": "stream",
     "text": [
      "<class 'dict'>\n"
     ]
    }
   ],
   "source": [
    "dict_litr = {\"Jerry\": \"Nigerian\", \"Victor\": \"Ghanian\", \"Timo\": \"Finnish\"}\n",
    "print(type(dict_litr))"
   ]
  },
  {
   "cell_type": "markdown",
   "id": "ef451a1e",
   "metadata": {},
   "source": [
    "#### Set"
   ]
  },
  {
   "cell_type": "code",
   "execution_count": 21,
   "id": "ee1dce45",
   "metadata": {},
   "outputs": [
    {
     "name": "stdout",
     "output_type": "stream",
     "text": [
      "<class 'set'>\n"
     ]
    }
   ],
   "source": [
    "set_constr = set((1,4,5,6,8))\n",
    "print(type(set_constr))"
   ]
  },
  {
   "cell_type": "code",
   "execution_count": 23,
   "id": "c5476f4e",
   "metadata": {},
   "outputs": [
    {
     "name": "stdout",
     "output_type": "stream",
     "text": [
      "<class 'set'>\n"
     ]
    }
   ],
   "source": [
    "set_litr = {1,4,5,6,8}\n",
    "print(type(set_litr))"
   ]
  },
  {
   "cell_type": "markdown",
   "id": "31ddb5db",
   "metadata": {},
   "source": [
    "## 2.0 Python operators"
   ]
  },
  {
   "cell_type": "markdown",
   "id": "2f8e84d0",
   "metadata": {},
   "source": [
    "#### Arithmetic Operators"
   ]
  },
  {
   "cell_type": "code",
   "execution_count": 3,
   "id": "dd38507f",
   "metadata": {},
   "outputs": [],
   "source": [
    "# operands\n",
    "x  = 5 \n",
    "y = 2"
   ]
  },
  {
   "cell_type": "code",
   "execution_count": 5,
   "id": "ad0a299f",
   "metadata": {},
   "outputs": [
    {
     "data": {
      "text/plain": [
       "2"
      ]
     },
     "execution_count": 5,
     "metadata": {},
     "output_type": "execute_result"
    }
   ],
   "source": [
    "# addition\n",
    "5//2"
   ]
  },
  {
   "cell_type": "code",
   "execution_count": 6,
   "id": "cff22b4b",
   "metadata": {},
   "outputs": [
    {
     "data": {
      "text/plain": [
       "3"
      ]
     },
     "execution_count": 6,
     "metadata": {},
     "output_type": "execute_result"
    }
   ],
   "source": [
    "# subtraction \n",
    "5 -2 "
   ]
  },
  {
   "cell_type": "code",
   "execution_count": 7,
   "id": "80d438db",
   "metadata": {},
   "outputs": [
    {
     "data": {
      "text/plain": [
       "10"
      ]
     },
     "execution_count": 7,
     "metadata": {},
     "output_type": "execute_result"
    }
   ],
   "source": [
    "# Multiplication\n",
    "5*2"
   ]
  },
  {
   "cell_type": "code",
   "execution_count": 8,
   "id": "32b7fc82",
   "metadata": {},
   "outputs": [
    {
     "data": {
      "text/plain": [
       "2.5"
      ]
     },
     "execution_count": 8,
     "metadata": {},
     "output_type": "execute_result"
    }
   ],
   "source": [
    "# divison \n",
    "5/2"
   ]
  },
  {
   "cell_type": "code",
   "execution_count": 9,
   "id": "7d2143e8",
   "metadata": {},
   "outputs": [
    {
     "data": {
      "text/plain": [
       "1"
      ]
     },
     "execution_count": 9,
     "metadata": {},
     "output_type": "execute_result"
    }
   ],
   "source": [
    "# Modulus\n",
    "x%y"
   ]
  },
  {
   "cell_type": "code",
   "execution_count": 10,
   "id": "aecde419",
   "metadata": {},
   "outputs": [
    {
     "data": {
      "text/plain": [
       "25"
      ]
     },
     "execution_count": 10,
     "metadata": {},
     "output_type": "execute_result"
    }
   ],
   "source": [
    "# Exponetiation\n",
    "x ** y "
   ]
  },
  {
   "cell_type": "code",
   "execution_count": 11,
   "id": "ed672f5d",
   "metadata": {},
   "outputs": [
    {
     "data": {
      "text/plain": [
       "2"
      ]
     },
     "execution_count": 11,
     "metadata": {},
     "output_type": "execute_result"
    }
   ],
   "source": [
    "# floor division\n",
    "5//2"
   ]
  },
  {
   "cell_type": "markdown",
   "id": "d8175a23",
   "metadata": {},
   "source": [
    "#### Assignment operators "
   ]
  },
  {
   "cell_type": "code",
   "execution_count": 12,
   "id": "decebb1a",
   "metadata": {},
   "outputs": [
    {
     "data": {
      "text/plain": [
       "5"
      ]
     },
     "execution_count": 12,
     "metadata": {},
     "output_type": "execute_result"
    }
   ],
   "source": [
    "x = 5\n",
    "x"
   ]
  },
  {
   "cell_type": "code",
   "execution_count": 14,
   "id": "b527edfb",
   "metadata": {},
   "outputs": [
    {
     "data": {
      "text/plain": [
       "11"
      ]
     },
     "execution_count": 14,
     "metadata": {},
     "output_type": "execute_result"
    }
   ],
   "source": [
    "x+=3\n",
    "x"
   ]
  },
  {
   "cell_type": "code",
   "execution_count": 17,
   "id": "903be8cb",
   "metadata": {},
   "outputs": [
    {
     "data": {
      "text/plain": [
       "6"
      ]
     },
     "execution_count": 17,
     "metadata": {},
     "output_type": "execute_result"
    }
   ],
   "source": [
    "y = 9\n",
    "y-=3\n",
    "y"
   ]
  },
  {
   "cell_type": "code",
   "execution_count": 18,
   "id": "c83315d6",
   "metadata": {},
   "outputs": [
    {
     "data": {
      "text/plain": [
       "1"
      ]
     },
     "execution_count": 18,
     "metadata": {},
     "output_type": "execute_result"
    }
   ],
   "source": [
    "z = 2\n",
    "z >>=1\n",
    "z"
   ]
  },
  {
   "cell_type": "code",
   "execution_count": 23,
   "id": "f6fdf609",
   "metadata": {},
   "outputs": [
    {
     "data": {
      "text/plain": [
       "80"
      ]
     },
     "execution_count": 23,
     "metadata": {},
     "output_type": "execute_result"
    }
   ],
   "source": [
    "b = 10\n",
    "b <<= 3\n",
    "b"
   ]
  },
  {
   "cell_type": "markdown",
   "id": "61ca31db",
   "metadata": {},
   "source": [
    "#### Comparison operators"
   ]
  },
  {
   "cell_type": "code",
   "execution_count": 25,
   "id": "6a99114a",
   "metadata": {},
   "outputs": [
    {
     "name": "stdout",
     "output_type": "stream",
     "text": [
      "6\n"
     ]
    },
    {
     "data": {
      "text/plain": [
       "5"
      ]
     },
     "execution_count": 25,
     "metadata": {},
     "output_type": "execute_result"
    }
   ],
   "source": [
    "print(y)\n",
    "x"
   ]
  },
  {
   "cell_type": "code",
   "execution_count": 26,
   "id": "b9cac06b",
   "metadata": {},
   "outputs": [
    {
     "data": {
      "text/plain": [
       "False"
      ]
     },
     "execution_count": 26,
     "metadata": {},
     "output_type": "execute_result"
    }
   ],
   "source": [
    "# is equal to \n",
    "y == x "
   ]
  },
  {
   "cell_type": "code",
   "execution_count": 27,
   "id": "1bd8e0e3",
   "metadata": {},
   "outputs": [
    {
     "data": {
      "text/plain": [
       "True"
      ]
     },
     "execution_count": 27,
     "metadata": {},
     "output_type": "execute_result"
    }
   ],
   "source": [
    "# not equal to \n",
    "x != y"
   ]
  },
  {
   "cell_type": "code",
   "execution_count": 28,
   "id": "5c2e2643",
   "metadata": {},
   "outputs": [
    {
     "data": {
      "text/plain": [
       "True"
      ]
     },
     "execution_count": 28,
     "metadata": {},
     "output_type": "execute_result"
    }
   ],
   "source": [
    "# greater than\n",
    "y > x"
   ]
  },
  {
   "cell_type": "code",
   "execution_count": 29,
   "id": "6a981a1a",
   "metadata": {},
   "outputs": [
    {
     "data": {
      "text/plain": [
       "False"
      ]
     },
     "execution_count": 29,
     "metadata": {},
     "output_type": "execute_result"
    }
   ],
   "source": [
    "y < x"
   ]
  },
  {
   "cell_type": "code",
   "execution_count": 30,
   "id": "70b467e5",
   "metadata": {},
   "outputs": [
    {
     "data": {
      "text/plain": [
       "False"
      ]
     },
     "execution_count": 30,
     "metadata": {},
     "output_type": "execute_result"
    }
   ],
   "source": [
    "# greaterthan or equal to \n",
    "x >= y"
   ]
  },
  {
   "cell_type": "code",
   "execution_count": 31,
   "id": "92b2bcc5",
   "metadata": {},
   "outputs": [
    {
     "data": {
      "text/plain": [
       "True"
      ]
     },
     "execution_count": 31,
     "metadata": {},
     "output_type": "execute_result"
    }
   ],
   "source": [
    "# less than or equal to \n",
    "x <= y"
   ]
  },
  {
   "cell_type": "markdown",
   "id": "b3c5506a",
   "metadata": {},
   "source": [
    "#### Logical Operators"
   ]
  },
  {
   "cell_type": "code",
   "execution_count": 33,
   "id": "4ea035fa",
   "metadata": {},
   "outputs": [
    {
     "name": "stdout",
     "output_type": "stream",
     "text": [
      "yes\n"
     ]
    }
   ],
   "source": [
    "# \"and\" returns \"True\" if both statements are true\n",
    "a = 2 \n",
    "y = 5\n",
    "if a>1 and y<6:\n",
    "    print(\"yes\")"
   ]
  },
  {
   "cell_type": "code",
   "execution_count": 34,
   "id": "a93f7a6d",
   "metadata": {},
   "outputs": [
    {
     "name": "stdout",
     "output_type": "stream",
     "text": [
      "no\n"
     ]
    }
   ],
   "source": [
    "#\"or\" returns \"True\" if one the statement is true\n",
    "if a <3 or a == 5:\n",
    "    print(\"no\")"
   ]
  },
  {
   "cell_type": "code",
   "execution_count": 36,
   "id": "31f09d2e",
   "metadata": {},
   "outputs": [
    {
     "name": "stdout",
     "output_type": "stream",
     "text": [
      "condition not met\n"
     ]
    }
   ],
   "source": [
    "# \"not\" is used to reverse the result of a logical operator\n",
    "# \"and\" returns \"True\" if both statements are true\n",
    "a = 2 \n",
    "y = 5\n",
    "if not(a>1 and y<6):\n",
    "    print(\"yes\")\n",
    "else:\n",
    "    print(\"condition not met\")"
   ]
  },
  {
   "cell_type": "code",
   "execution_count": 37,
   "id": "c1274db4",
   "metadata": {},
   "outputs": [
    {
     "name": "stdout",
     "output_type": "stream",
     "text": [
      "yes\n"
     ]
    }
   ],
   "source": [
    "#\"or\" returns \"True\" if one the statement is true\n",
    "if not(a <3 or a == 5):\n",
    "    print(\"no\")\n",
    "else:\n",
    "    print(\"yes\")"
   ]
  },
  {
   "cell_type": "markdown",
   "id": "e173026a",
   "metadata": {},
   "source": [
    "#### Identity operator"
   ]
  },
  {
   "cell_type": "code",
   "execution_count": 39,
   "id": "e80141bb",
   "metadata": {},
   "outputs": [
    {
     "name": "stdout",
     "output_type": "stream",
     "text": [
      "True\n"
     ]
    }
   ],
   "source": [
    "# \"is\" returns True if both variables are the same object\n",
    "x = [\"apple\", \"banana\"]\n",
    "y = [\"apple\", \"banana\"]\n",
    "z = x\n",
    "\n",
    "print(x is z) # True because x and z is the same object x"
   ]
  },
  {
   "cell_type": "code",
   "execution_count": 40,
   "id": "1aeae568",
   "metadata": {},
   "outputs": [
    {
     "name": "stdout",
     "output_type": "stream",
     "text": [
      "False\n"
     ]
    }
   ],
   "source": [
    "print(x is y) # False because x is not the same object as y, even though they have the same content"
   ]
  },
  {
   "cell_type": "code",
   "execution_count": 42,
   "id": "f78f9db0",
   "metadata": {},
   "outputs": [
    {
     "name": "stdout",
     "output_type": "stream",
     "text": [
      "True\n"
     ]
    }
   ],
   "source": [
    "print(x==y) # True because though not the same object they have the same content"
   ]
  },
  {
   "cell_type": "code",
   "execution_count": null,
   "id": "9a130f41",
   "metadata": {},
   "outputs": [],
   "source": [
    "#\"not\" returns True if both variables are the same object"
   ]
  },
  {
   "cell_type": "code",
   "execution_count": 44,
   "id": "ab15304b",
   "metadata": {},
   "outputs": [
    {
     "name": "stdout",
     "output_type": "stream",
     "text": [
      "False\n"
     ]
    }
   ],
   "source": [
    "# \"is\" returns True if both variables are the same object\n",
    "x = [\"apple\", \"banana\"]\n",
    "y = [\"apple\", \"banana\"]\n",
    "z = x\n",
    "print(x is not z) # True because x and z is the same object x"
   ]
  },
  {
   "cell_type": "code",
   "execution_count": 45,
   "id": "21c37e63",
   "metadata": {},
   "outputs": [
    {
     "name": "stdout",
     "output_type": "stream",
     "text": [
      "True\n"
     ]
    }
   ],
   "source": [
    "print(x is not y) # False because x is not the same object as y, even though they have the same content"
   ]
  },
  {
   "cell_type": "markdown",
   "id": "82e915d8",
   "metadata": {},
   "source": [
    "#### Membership operator"
   ]
  },
  {
   "cell_type": "markdown",
   "id": "b04e4db4",
   "metadata": {},
   "source": [
    "#### in\n",
    "returns True if a sequence with the specified value is not present in the object\n"
   ]
  },
  {
   "cell_type": "code",
   "execution_count": 46,
   "id": "cee2d7f3",
   "metadata": {},
   "outputs": [
    {
     "name": "stdout",
     "output_type": "stream",
     "text": [
      "True\n"
     ]
    }
   ],
   "source": [
    "x = [\"apple\",\"banana\"]\n",
    "print(\"banana\" in x)"
   ]
  },
  {
   "cell_type": "markdown",
   "id": "da275574",
   "metadata": {},
   "source": [
    "#### not in "
   ]
  },
  {
   "cell_type": "code",
   "execution_count": 47,
   "id": "97ff71a6",
   "metadata": {},
   "outputs": [
    {
     "name": "stdout",
     "output_type": "stream",
     "text": [
      "True\n"
     ]
    }
   ],
   "source": [
    "print(\"pineapple\" not in x)"
   ]
  },
  {
   "cell_type": "markdown",
   "id": "33ee225d",
   "metadata": {},
   "source": [
    "## 3.0 Magic methods/dunder methods"
   ]
  },
  {
   "cell_type": "code",
   "execution_count": 55,
   "id": "b8b1211f",
   "metadata": {},
   "outputs": [
    {
     "name": "stdout",
     "output_type": "stream",
     "text": [
      "['__abs__', '__add__', '__bool__', '__ceil__', '__class__', '__delattr__', '__dir__', '__divmod__', '__doc__', '__eq__', '__float__', '__floor__', '__floordiv__', '__format__', '__ge__', '__getattribute__', '__getformat__', '__getnewargs__', '__gt__', '__hash__', '__init__', '__init_subclass__', '__int__', '__le__', '__lt__', '__mod__', '__mul__', '__ne__', '__neg__', '__new__', '__pos__', '__pow__', '__radd__', '__rdivmod__', '__reduce__', '__reduce_ex__', '__repr__', '__rfloordiv__', '__rmod__', '__rmul__', '__round__', '__rpow__', '__rsub__', '__rtruediv__', '__setattr__', '__setformat__', '__sizeof__', '__str__', '__sub__', '__subclasshook__', '__truediv__', '__trunc__', 'as_integer_ratio', 'conjugate', 'fromhex', 'hex', 'imag', 'is_integer', 'real']\n"
     ]
    }
   ],
   "source": [
    "a = float(2.3)\n",
    "print(dir(a))"
   ]
  },
  {
   "cell_type": "code",
   "execution_count": 57,
   "id": "ebd24557",
   "metadata": {},
   "outputs": [
    {
     "name": "stdout",
     "output_type": "stream",
     "text": [
      "2.3\n"
     ]
    }
   ],
   "source": [
    "print(a.__abs__())"
   ]
  },
  {
   "cell_type": "code",
   "execution_count": 61,
   "id": "7bdd1688",
   "metadata": {},
   "outputs": [
    {
     "name": "stdout",
     "output_type": "stream",
     "text": [
      "1.0\n"
     ]
    }
   ],
   "source": [
    "print(a.__floordiv__(2.3))"
   ]
  },
  {
   "cell_type": "code",
   "execution_count": 64,
   "id": "1cadc6fb",
   "metadata": {},
   "outputs": [
    {
     "name": "stdout",
     "output_type": "stream",
     "text": [
      "False\n"
     ]
    }
   ],
   "source": [
    "print(a.is_integer())"
   ]
  },
  {
   "cell_type": "code",
   "execution_count": 67,
   "id": "81e26683",
   "metadata": {},
   "outputs": [
    {
     "name": "stdout",
     "output_type": "stream",
     "text": [
      "-2.3\n"
     ]
    }
   ],
   "source": [
    "print(a.__neg__())"
   ]
  },
  {
   "cell_type": "markdown",
   "id": "756b9f02",
   "metadata": {},
   "source": [
    "## 4.0 Different String formatting"
   ]
  },
  {
   "cell_type": "markdown",
   "id": "aee284c0",
   "metadata": {},
   "source": [
    "#### Python String.format() Method"
   ]
  },
  {
   "cell_type": "code",
   "execution_count": 75,
   "id": "0e3e89e7",
   "metadata": {},
   "outputs": [
    {
     "name": "stdout",
     "output_type": "stream",
     "text": [
      "i love python\n"
     ]
    }
   ],
   "source": [
    "print(\"i love\",\"python\")"
   ]
  },
  {
   "cell_type": "code",
   "execution_count": 78,
   "id": "28e261e7",
   "metadata": {},
   "outputs": [
    {
     "name": "stdout",
     "output_type": "stream",
     "text": [
      "ilovepython\n"
     ]
    }
   ],
   "source": [
    "print(\"i\" + \"love\" + \"python\")"
   ]
  },
  {
   "cell_type": "code",
   "execution_count": 80,
   "id": "72b25813",
   "metadata": {},
   "outputs": [
    {
     "name": "stdout",
     "output_type": "stream",
     "text": [
      "I lovepythonversion 3.29\n"
     ]
    }
   ],
   "source": [
    "print(\"I love\" + \"python\" + \"version\",3.29)"
   ]
  },
  {
   "cell_type": "code",
   "execution_count": 82,
   "id": "45b0de88",
   "metadata": {},
   "outputs": [
    {
     "name": "stdout",
     "output_type": "stream",
     "text": [
      "I lovepythonversion 3.29\n"
     ]
    }
   ],
   "source": [
    "print(\"I love\" + \"python\" + \"version %.2f\"%3.29)"
   ]
  },
  {
   "cell_type": "code",
   "execution_count": 84,
   "id": "1c9e2460",
   "metadata": {},
   "outputs": [
    {
     "name": "stdout",
     "output_type": "stream",
     "text": [
      "I love python version 3.29\n"
     ]
    }
   ],
   "source": [
    "print(\"I love %s version %.2f\"%(\"python\",3.29))"
   ]
  },
  {
   "cell_type": "markdown",
   "id": "f8a0b4cd",
   "metadata": {},
   "source": [
    "#### using format positional arguement"
   ]
  },
  {
   "cell_type": "code",
   "execution_count": 85,
   "id": "7ce79cf8",
   "metadata": {},
   "outputs": [
    {
     "name": "stdout",
     "output_type": "stream",
     "text": [
      "I love python version 3.1\n"
     ]
    }
   ],
   "source": [
    "print(\"I love {} version {}\".format(\"python\",3.10))"
   ]
  },
  {
   "cell_type": "code",
   "execution_count": 86,
   "id": "018b308b",
   "metadata": {},
   "outputs": [
    {
     "name": "stdout",
     "output_type": "stream",
     "text": [
      "I love python version 3.1 so much\n"
     ]
    }
   ],
   "source": [
    "print(\"I love {} version {} {}\".format(\"python\",3.10, \"so much\"))"
   ]
  },
  {
   "cell_type": "code",
   "execution_count": 89,
   "id": "ebe69046",
   "metadata": {},
   "outputs": [
    {
     "name": "stdout",
     "output_type": "stream",
     "text": [
      "I love python version 3.10\n"
     ]
    }
   ],
   "source": [
    "print(\"I love {} version {:.2f}\".format(\"python\",3.10))"
   ]
  },
  {
   "cell_type": "code",
   "execution_count": 92,
   "id": "fda87743",
   "metadata": {},
   "outputs": [
    {
     "name": "stdout",
     "output_type": "stream",
     "text": [
      "I love 3.10 version of python\n"
     ]
    }
   ],
   "source": [
    "print(\"I love {1} version of {0}\".format(\"python\",\"3.10\"))"
   ]
  },
  {
   "cell_type": "markdown",
   "id": "42c7883d",
   "metadata": {},
   "source": [
    "#### using format keyword arguement"
   ]
  },
  {
   "cell_type": "code",
   "execution_count": 98,
   "id": "c63c309b",
   "metadata": {},
   "outputs": [
    {
     "name": "stdout",
     "output_type": "stream",
     "text": [
      "I love python version 3.10\n"
     ]
    }
   ],
   "source": [
    "print(\"I love {pl} version {version:.2f}\".format(pl= \"python\", version = 3.10))"
   ]
  },
  {
   "cell_type": "markdown",
   "id": "e804f303",
   "metadata": {},
   "source": [
    "#### Using f-string literal"
   ]
  },
  {
   "cell_type": "code",
   "execution_count": 105,
   "id": "075e070f",
   "metadata": {},
   "outputs": [
    {
     "name": "stdout",
     "output_type": "stream",
     "text": [
      "I love python version 3.10\n"
     ]
    }
   ],
   "source": [
    "info = {\"pl\": \"python\", \"version\": 3.10}\n",
    "print(f\"I love {info.get('pl')} version {info.get('version'):.2f}\")"
   ]
  },
  {
   "cell_type": "code",
   "execution_count": 110,
   "id": "9931721e",
   "metadata": {},
   "outputs": [
    {
     "name": "stdout",
     "output_type": "stream",
     "text": [
      "I love python version 3.10\n"
     ]
    }
   ],
   "source": [
    "# using upper case F and single quote\n",
    "print(F'I love {info[\"pl\"]} version {info[\"version\"]:.2f}')"
   ]
  },
  {
   "cell_type": "code",
   "execution_count": 111,
   "id": "46cd61b4",
   "metadata": {},
   "outputs": [
    {
     "name": "stdout",
     "output_type": "stream",
     "text": [
      "I love python\n"
     ]
    }
   ],
   "source": [
    "# f_string conditional\n",
    "batch = 'ML'\n",
    "print(f'I love {\"javascript\" if batch == \"FS\" else \"python\"}')"
   ]
  },
  {
   "cell_type": "code",
   "execution_count": null,
   "id": "f2be94a0",
   "metadata": {},
   "outputs": [],
   "source": []
  },
  {
   "cell_type": "markdown",
   "id": "79c823cb",
   "metadata": {},
   "source": [
    "#### 5.0 Indexing"
   ]
  },
  {
   "cell_type": "code",
   "execution_count": 13,
   "id": "087d4590",
   "metadata": {},
   "outputs": [],
   "source": [
    "countries = ['Finland', 'Sweden', 'Denmark', 'Netherlands', 'Germany', 'Norway', 'Iceland']"
   ]
  },
  {
   "cell_type": "code",
   "execution_count": 14,
   "id": "d4e2bd64",
   "metadata": {},
   "outputs": [
    {
     "data": {
      "text/plain": [
       "1"
      ]
     },
     "execution_count": 14,
     "metadata": {},
     "output_type": "execute_result"
    }
   ],
   "source": [
    "# find the index of \"Sweden\"\n",
    "countries.index('Sweden')"
   ]
  },
  {
   "cell_type": "code",
   "execution_count": 15,
   "id": "380cc824",
   "metadata": {},
   "outputs": [
    {
     "data": {
      "text/plain": [
       "['Sweden', 'Denmark', 'Netherlands', 'Germany', 'Norway', 'Iceland']"
      ]
     },
     "execution_count": 15,
     "metadata": {},
     "output_type": "execute_result"
    }
   ],
   "source": [
    "# get all the items in \"countries\" except the first\n",
    "countries[1:]"
   ]
  },
  {
   "cell_type": "code",
   "execution_count": 16,
   "id": "3dbdf56c",
   "metadata": {},
   "outputs": [
    {
     "data": {
      "text/plain": [
       "['Finland', 'Sweden', 'Denmark', 'Netherlands', 'Germany', 'Norway']"
      ]
     },
     "execution_count": 16,
     "metadata": {},
     "output_type": "execute_result"
    }
   ],
   "source": [
    "# get all the items in \"countries\" except the last\n",
    "countries[:-1]"
   ]
  },
  {
   "cell_type": "code",
   "execution_count": 17,
   "id": "2a5491f8",
   "metadata": {},
   "outputs": [
    {
     "data": {
      "text/plain": [
       "'Iceland'"
      ]
     },
     "execution_count": 17,
     "metadata": {},
     "output_type": "execute_result"
    }
   ],
   "source": [
    "# find the last item in \"countries\" using negative indexing\n",
    "countries[-1]\n"
   ]
  },
  {
   "cell_type": "code",
   "execution_count": 19,
   "id": "5a1129dd",
   "metadata": {},
   "outputs": [
    {
     "data": {
      "text/plain": [
       "['Germany', 'Norway', 'Iceland']"
      ]
     },
     "execution_count": 19,
     "metadata": {},
     "output_type": "execute_result"
    }
   ],
   "source": [
    "#find the last three items in \"countries\" using negative indexing\n",
    "countries[-3:]"
   ]
  },
  {
   "cell_type": "code",
   "execution_count": 20,
   "id": "2bcc3866",
   "metadata": {},
   "outputs": [
    {
     "data": {
      "text/plain": [
       "['Sweden', 'Netherlands', 'Norway']"
      ]
     },
     "execution_count": 20,
     "metadata": {},
     "output_type": "execute_result"
    }
   ],
   "source": [
    "# grab all the items with odd indices in the list \"countries\"\n",
    "countries[1::2]"
   ]
  },
  {
   "cell_type": "code",
   "execution_count": 31,
   "id": "225c20e8",
   "metadata": {},
   "outputs": [
    {
     "data": {
      "text/plain": [
       "['Finland', 'Iceland']"
      ]
     },
     "execution_count": 31,
     "metadata": {},
     "output_type": "execute_result"
    }
   ],
   "source": [
    "# find the first and last item in the list \"countries\"\n",
    "countries[::len(countries)-1]"
   ]
  },
  {
   "cell_type": "code",
   "execution_count": 32,
   "id": "c252d87c",
   "metadata": {},
   "outputs": [
    {
     "data": {
      "text/plain": [
       "['Finland', 'Iceland']"
      ]
     },
     "execution_count": 32,
     "metadata": {},
     "output_type": "execute_result"
    }
   ],
   "source": [
    "# find the first and last item in the list \"countries\" using list comprehension\n",
    "[countries[i] for i in (0,-1)]"
   ]
  },
  {
   "cell_type": "code",
   "execution_count": 36,
   "id": "dc3463f6",
   "metadata": {},
   "outputs": [
    {
     "data": {
      "text/plain": [
       "['Netherlands', 'Germany', 'Norway']"
      ]
     },
     "execution_count": 36,
     "metadata": {},
     "output_type": "execute_result"
    }
   ],
   "source": [
    "# get ['Netherlands', 'Germany', 'Norway'] using negative indexing\n",
    "countries[-4:-1]"
   ]
  },
  {
   "cell_type": "code",
   "execution_count": 45,
   "id": "71c9d433",
   "metadata": {},
   "outputs": [
    {
     "data": {
      "text/plain": [
       "['Iceland', 'Norway', 'Germany', 'Netherlands', 'Denmark', 'Sweden', 'Finland']"
      ]
     },
     "execution_count": 45,
     "metadata": {},
     "output_type": "execute_result"
    }
   ],
   "source": [
    "# reverse the list countries\n",
    "countries.reverse()\n",
    "countries"
   ]
  },
  {
   "cell_type": "code",
   "execution_count": 49,
   "id": "aeaece34",
   "metadata": {},
   "outputs": [
    {
     "data": {
      "text/plain": [
       "['Iceland', 'Norway', 'Germany', 'Netherlands', 'Denmark', 'Sweden', 'Finland']"
      ]
     },
     "execution_count": 49,
     "metadata": {},
     "output_type": "execute_result"
    }
   ],
   "source": [
    "countries"
   ]
  },
  {
   "cell_type": "code",
   "execution_count": 46,
   "id": "d610a978",
   "metadata": {},
   "outputs": [
    {
     "data": {
      "text/plain": [
       "['Finland', 'Denmark', 'Germany', 'Iceland']"
      ]
     },
     "execution_count": 46,
     "metadata": {},
     "output_type": "execute_result"
    }
   ],
   "source": [
    "# what is the output of countries[::-2]\n",
    "countries[::-2]"
   ]
  },
  {
   "cell_type": "code",
   "execution_count": 48,
   "id": "473b89fb",
   "metadata": {},
   "outputs": [
    {
     "data": {
      "text/plain": [
       "['Norway', 'Netherlands', 'Sweden']"
      ]
     },
     "execution_count": 48,
     "metadata": {},
     "output_type": "execute_result"
    }
   ],
   "source": [
    "# what is the output of countries[1:100:2]\n",
    "countries[1:100:2]"
   ]
  },
  {
   "cell_type": "code",
   "execution_count": 50,
   "id": "712b1a85",
   "metadata": {},
   "outputs": [
    {
     "data": {
      "text/plain": [
       "[]"
      ]
     },
     "execution_count": 50,
     "metadata": {},
     "output_type": "execute_result"
    }
   ],
   "source": [
    "# what is the output of countries[len(countries)-1:0:2]\n",
    "countries[len(countries)-1:0:2]"
   ]
  },
  {
   "cell_type": "code",
   "execution_count": 52,
   "id": "d484e28f",
   "metadata": {},
   "outputs": [
    {
     "data": {
      "text/plain": [
       "['Germany', 'Netherlands', 'Denmark']"
      ]
     },
     "execution_count": 52,
     "metadata": {},
     "output_type": "execute_result"
    }
   ],
   "source": [
    "# get the output ['Germany', 'Netherland', 'Denmark']\n",
    "countries[2:5]"
   ]
  },
  {
   "cell_type": "code",
   "execution_count": 56,
   "id": "93f951d3",
   "metadata": {},
   "outputs": [
    {
     "name": "stdout",
     "output_type": "stream",
     "text": [
      "0\n",
      "Iceland\n",
      "1\n",
      "Norway\n",
      "2\n",
      "Germany\n",
      "3\n",
      "Netherlands\n",
      "4\n",
      "Denmark\n",
      "5\n",
      "Sweden\n",
      "6\n",
      "Finland\n"
     ]
    }
   ],
   "source": [
    "for index, item in enumerate(countries):\n",
    "    print(index) \n",
    "    print(item)"
   ]
  },
  {
   "cell_type": "markdown",
   "id": "525cc82e",
   "metadata": {},
   "source": [
    "#### 6.0 Dictionaries"
   ]
  },
  {
   "cell_type": "code",
   "execution_count": 58,
   "id": "c2746699",
   "metadata": {},
   "outputs": [],
   "source": [
    "list_1 = ['a', 'b', 'c', 'd']\n",
    "list_2 = [1,2,3,4]"
   ]
  },
  {
   "cell_type": "markdown",
   "id": "95ecc8db",
   "metadata": {},
   "source": [
    "#### 6a."
   ]
  },
  {
   "cell_type": "code",
   "execution_count": 61,
   "id": "d5e7f9ed",
   "metadata": {},
   "outputs": [
    {
     "data": {
      "text/plain": [
       "{'a': 1, 'b': 2, 'c': 3, 'd': 4}"
      ]
     },
     "execution_count": 61,
     "metadata": {},
     "output_type": "execute_result"
    }
   ],
   "source": [
    "# merge lists of same length into one \n",
    "merge_dict = dict(zip(list_1, list_2))\n",
    "merge_dict"
   ]
  },
  {
   "cell_type": "code",
   "execution_count": 71,
   "id": "abe83b5b",
   "metadata": {},
   "outputs": [
    {
     "name": "stdout",
     "output_type": "stream",
     "text": [
      "{'Finland': 'Helsinki', 'Sweden': 'Stockholm', 'Estonia': 'Tallin'} {'Chelsea fc': 'England', 'Juventus fc': 'Italy', 'Barcelona fc': 'Spain'}\n"
     ]
    }
   ],
   "source": [
    "# create two dictionaries and merge them into one \n",
    "dict_1 = {'Finland': 'Helsinki', 'Sweden':'Stockholm', 'Estonia': 'Tallin'}\n",
    "dict_2 = {'Chelsea fc': 'England', 'Juventus fc': 'Italy', 'Barcelona fc': 'Spain'}\n",
    "print(dict_1, dict_2)"
   ]
  },
  {
   "cell_type": "markdown",
   "id": "90afffbe",
   "metadata": {},
   "source": [
    "#### 6b."
   ]
  },
  {
   "cell_type": "code",
   "execution_count": 80,
   "id": "0db1ce23",
   "metadata": {},
   "outputs": [
    {
     "data": {
      "text/plain": [
       "{'Finland': 'Helsinki',\n",
       " 'Sweden': 'Stockholm',\n",
       " 'Estonia': 'Tallin',\n",
       " 'Chelsea fc': 'England',\n",
       " 'Juventus fc': 'Italy',\n",
       " 'Barcelona fc': 'Spain'}"
      ]
     },
     "execution_count": 80,
     "metadata": {},
     "output_type": "execute_result"
    }
   ],
   "source": [
    "# merge two dictionaries dict_1 and dict_2 into one\n",
    "merged_dict = dict_1|dict_2\n",
    "merged_dict"
   ]
  },
  {
   "cell_type": "markdown",
   "id": "4d8a6016",
   "metadata": {},
   "source": [
    "#### 6c."
   ]
  },
  {
   "cell_type": "code",
   "execution_count": 135,
   "id": "d6b649df",
   "metadata": {},
   "outputs": [],
   "source": [
    "Students = [\"Duy\", \"Laxmi\",\"Antonio\",\"Maria\"]\n",
    "Course  = [\"Python\",\"Database\",\"ML\"]"
   ]
  },
  {
   "cell_type": "code",
   "execution_count": 136,
   "id": "7a8843ef",
   "metadata": {},
   "outputs": [
    {
     "data": {
      "text/plain": [
       "{'Duy': ['Python', 'Database', 'ML'],\n",
       " 'Laxmi': ['Python', 'Database', 'ML'],\n",
       " 'Antonio': ['Python', 'Database', 'ML'],\n",
       " 'Maria': ['Python', 'Database', 'ML']}"
      ]
     },
     "execution_count": 136,
     "metadata": {},
     "output_type": "execute_result"
    }
   ],
   "source": [
    "students_profile = {student:Course for student in Students}\n",
    "students_profile"
   ]
  },
  {
   "cell_type": "code",
   "execution_count": 137,
   "id": "3cc4ad1d",
   "metadata": {},
   "outputs": [
    {
     "data": {
      "text/plain": [
       "{'Duy': ['Python', 'Database', 'ML'],\n",
       " 'Laxmi': ['Python', 'Database', 'ML'],\n",
       " 'Antonio': ['JavaScript', 'Database', 'NodeJS'],\n",
       " 'Maria': ['Python', 'Database', 'ML']}"
      ]
     },
     "execution_count": 137,
     "metadata": {},
     "output_type": "execute_result"
    }
   ],
   "source": [
    "# modify Antonio's course to [\"JavaScript\", \"Database\", \"NodeJS\"]\n",
    "students_profile['Antonio'] = [\"JavaScript\", \"Database\", \"NodeJS\"]\n",
    "students_profile"
   ]
  },
  {
   "cell_type": "code",
   "execution_count": 138,
   "id": "c2ffc5d3",
   "metadata": {},
   "outputs": [
    {
     "data": {
      "text/plain": [
       "{'Duy': ['Python', 'Database', 'ML'],\n",
       " 'Laxmi': ['Python', 'Database', 'ML'],\n",
       " 'Antonio': ['JavaScript', 'Database', 'NodeJS', 'ReactJs'],\n",
       " 'Maria': ['Python', 'Database', 'ML']}"
      ]
     },
     "execution_count": 138,
     "metadata": {},
     "output_type": "execute_result"
    }
   ],
   "source": [
    "# add ReactJs to Antonio's course \n",
    "students_profile['Antonio'].append(\"ReactJs\")\n",
    "students_profile"
   ]
  },
  {
   "cell_type": "markdown",
   "id": "48a6d606",
   "metadata": {},
   "source": [
    "#### Pop( ) operation on a dictionary"
   ]
  },
  {
   "cell_type": "code",
   "execution_count": 139,
   "id": "df14b24e",
   "metadata": {},
   "outputs": [
    {
     "data": {
      "text/plain": [
       "['Python', 'Database', 'ML']"
      ]
     },
     "execution_count": 139,
     "metadata": {},
     "output_type": "execute_result"
    }
   ],
   "source": [
    "# example i will delete Antonio's profile using pop()\n",
    "students_profile.pop('Maria')"
   ]
  },
  {
   "cell_type": "code",
   "execution_count": 140,
   "id": "c1ef78d1",
   "metadata": {},
   "outputs": [
    {
     "data": {
      "text/plain": [
       "{'Duy': ['Python', 'Database', 'ML'],\n",
       " 'Laxmi': ['Python', 'Database', 'ML'],\n",
       " 'Antonio': ['JavaScript', 'Database', 'NodeJS', 'ReactJs']}"
      ]
     },
     "execution_count": 140,
     "metadata": {},
     "output_type": "execute_result"
    }
   ],
   "source": [
    "students_profile"
   ]
  },
  {
   "cell_type": "code",
   "execution_count": 129,
   "id": "2be92556",
   "metadata": {},
   "outputs": [],
   "source": [
    "dict_2 = {'joy': 13, 'chris': 15, 'jane':22, 'blake':16}"
   ]
  },
  {
   "cell_type": "code",
   "execution_count": 132,
   "id": "db7a6e06",
   "metadata": {},
   "outputs": [
    {
     "data": {
      "text/plain": [
       "15"
      ]
     },
     "execution_count": 132,
     "metadata": {},
     "output_type": "execute_result"
    }
   ],
   "source": [
    "dict_2.pop('chris')"
   ]
  },
  {
   "cell_type": "code",
   "execution_count": 133,
   "id": "93d0c17a",
   "metadata": {},
   "outputs": [
    {
     "data": {
      "text/plain": [
       "{'joy': 13, 'jane': 22, 'blake': 16}"
      ]
     },
     "execution_count": 133,
     "metadata": {},
     "output_type": "execute_result"
    }
   ],
   "source": [
    "dict_2"
   ]
  },
  {
   "cell_type": "markdown",
   "id": "5a53de85",
   "metadata": {},
   "source": [
    "**Observation**: pop removes the element of the dictionary that is selected by removing the key and displaying the value"
   ]
  },
  {
   "cell_type": "markdown",
   "id": "a39d8bab",
   "metadata": {},
   "source": [
    "#### \"del\" operation on a dictionary "
   ]
  },
  {
   "cell_type": "code",
   "execution_count": 142,
   "id": "3f41bd5b",
   "metadata": {},
   "outputs": [
    {
     "data": {
      "text/plain": [
       "{'B': 2, 'C': 3, 'D': 4, 'F': 5}"
      ]
     },
     "execution_count": 142,
     "metadata": {},
     "output_type": "execute_result"
    }
   ],
   "source": [
    "a_dict = {\"A\": 1, \"B\": 2, \"C\": 3, \"D\": 4, \"F\": 5}\n",
    "a_dict.pop(\"A\")\n",
    "a_dict"
   ]
  },
  {
   "cell_type": "code",
   "execution_count": 144,
   "id": "3a630ab6",
   "metadata": {},
   "outputs": [
    {
     "data": {
      "text/plain": [
       "{'B': 2, 'C': 3, 'F': 5}"
      ]
     },
     "execution_count": 144,
     "metadata": {},
     "output_type": "execute_result"
    }
   ],
   "source": [
    "del a_dict['D']\n",
    "a_dict"
   ]
  },
  {
   "cell_type": "markdown",
   "id": "f0f39e89",
   "metadata": {},
   "source": [
    "**Observation** del delete object which is the key-value pair mentioned after the del syntax"
   ]
  }
 ],
 "metadata": {
  "kernelspec": {
   "display_name": "Python 3 (ipykernel)",
   "language": "python",
   "name": "python3"
  },
  "language_info": {
   "codemirror_mode": {
    "name": "ipython",
    "version": 3
   },
   "file_extension": ".py",
   "mimetype": "text/x-python",
   "name": "python",
   "nbconvert_exporter": "python",
   "pygments_lexer": "ipython3",
   "version": "3.9.12"
  }
 },
 "nbformat": 4,
 "nbformat_minor": 5
}
