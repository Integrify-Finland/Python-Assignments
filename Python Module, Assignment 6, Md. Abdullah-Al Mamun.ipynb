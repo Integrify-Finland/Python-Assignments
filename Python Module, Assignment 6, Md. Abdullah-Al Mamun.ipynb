{
 "cells": [
  {
   "cell_type": "markdown",
   "id": "b1253b84",
   "metadata": {},
   "source": [
    "# <center>Assignment 6</center>\n",
    "# <center>Unit Test Python</center>\n",
    "\n",
    "### <center>Md. Abdullah-Al Mamun</center>\n",
    "\n",
    "# Unit Test Python:\n",
    "\n",
    "#### Your task is to write unit tests for a Python function that checks whether a given number is prime or not. The function takes an integer as input and returns a boolean value indicating whether the number is prime or not.      \n"
   ]
  },
  {
   "cell_type": "code",
   "execution_count": 1,
   "id": "4fcdfe64",
   "metadata": {},
   "outputs": [],
   "source": [
    "def is_prime(n:int):\n",
    "    if n <=1:\n",
    "        return False\n",
    "    for i in range(2, int(n **0.5)+1):\n",
    "        if n % i == 0:\n",
    "            return False\n",
    "    return True"
   ]
  },
  {
   "cell_type": "code",
   "execution_count": 2,
   "id": "60327180",
   "metadata": {},
   "outputs": [
    {
     "data": {
      "text/plain": [
       "True"
      ]
     },
     "execution_count": 2,
     "metadata": {},
     "output_type": "execute_result"
    }
   ],
   "source": [
    "is_prime(5)"
   ]
  },
  {
   "cell_type": "markdown",
   "id": "ce18873e",
   "metadata": {},
   "source": [
    "## Your tests should cover various cases such as:\n",
    "### 1. Test for negative numbers\n"
   ]
  },
  {
   "cell_type": "code",
   "execution_count": 3,
   "id": "0e678b78",
   "metadata": {},
   "outputs": [
    {
     "name": "stderr",
     "output_type": "stream",
     "text": [
      ".\n",
      "----------------------------------------------------------------------\n",
      "Ran 1 test in 0.005s\n",
      "\n",
      "OK\n"
     ]
    }
   ],
   "source": [
    "import unittest  # Import the unittest module\n",
    "\n",
    "class TestIsPrime(unittest.TestCase):  # Create a test class that inherits from unittest.TestCase\n",
    "    \n",
    "    def test_negative_number(self):  \n",
    "        self.assertFalse(is_prime(-5))  # Check if is_prime(-5) returns False\n",
    "        self.assertFalse(is_prime(-10))  # Check if is_prime(-10) returns False\n",
    "        self.assertFalse(is_prime(-100))  # Check if is_prime(-100) returns False\n",
    "\n",
    "if __name__ == '__main__':  \n",
    "    unittest.main(argv=[''], exit=False)  \n"
   ]
  },
  {
   "cell_type": "markdown",
   "id": "e0e9a297",
   "metadata": {},
   "source": [
    "#### 2. Test for 0 and 1"
   ]
  },
  {
   "cell_type": "code",
   "execution_count": 4,
   "id": "fbcfd580",
   "metadata": {},
   "outputs": [
    {
     "name": "stderr",
     "output_type": "stream",
     "text": [
      ".\n",
      "----------------------------------------------------------------------\n",
      "Ran 1 test in 0.003s\n",
      "\n",
      "OK\n"
     ]
    }
   ],
   "source": [
    "import unittest  # Import the unittest module\n",
    "\n",
    "class TestIsPrime(unittest.TestCase): \n",
    "    \n",
    "    def test_01(self): \n",
    "        self.assertEqual(is_prime(0), False)  # Check if is_prime(0) returns False\n",
    "        self.assertEqual(is_prime(1), False)  # Check if is_prime(1) returns False\n",
    "\n",
    "if __name__ == '__main__':  \n",
    "    unittest.main(argv=[''], exit=False)\n"
   ]
  },
  {
   "cell_type": "markdown",
   "id": "01533e4e",
   "metadata": {},
   "source": [
    "#### 3. Test for small prime numbers (e.g., 2, 3, 5, 7)"
   ]
  },
  {
   "cell_type": "code",
   "execution_count": 5,
   "id": "f5eb338b",
   "metadata": {},
   "outputs": [
    {
     "name": "stderr",
     "output_type": "stream",
     "text": [
      ".\n",
      "----------------------------------------------------------------------\n",
      "Ran 1 test in 0.002s\n",
      "\n",
      "OK\n"
     ]
    }
   ],
   "source": [
    "import unittest  \n",
    "\n",
    "class TestIsPrime(unittest.TestCase): \n",
    "    \n",
    "    def test_small_prime(self):  \n",
    "        self.assertEqual(is_prime(2), True)  # Check if is_prime(2) returns True\n",
    "        self.assertEqual(is_prime(3), True)  # Check if is_prime(3) returns True\n",
    "        self.assertEqual(is_prime(5), True)  # Check if is_prime(5) returns True\n",
    "\n",
    "if __name__ == '__main__':  \n",
    "    unittest.main(argv=[''], exit=False) \n"
   ]
  },
  {
   "cell_type": "markdown",
   "id": "52d87e88",
   "metadata": {},
   "source": [
    "#### 4. Test for small composite numbers (e.g., 4, 6, 8, 9)"
   ]
  },
  {
   "cell_type": "code",
   "execution_count": 6,
   "id": "c5130854",
   "metadata": {},
   "outputs": [
    {
     "name": "stderr",
     "output_type": "stream",
     "text": [
      ".\n",
      "----------------------------------------------------------------------\n",
      "Ran 1 test in 0.003s\n",
      "\n",
      "OK\n"
     ]
    }
   ],
   "source": [
    "import unittest  # Import the unittest module\n",
    "\n",
    "class TestIsPrime(unittest.TestCase): \n",
    "    \n",
    "    def test_small_composite_numbers(self):  \n",
    "        self.assertEqual(is_prime(4), False)  # Check if is_prime(4) returns False\n",
    "        self.assertEqual(is_prime(6), False)  # Check if is_prime(6) returns False\n",
    "        self.assertEqual(is_prime(8), False)  # Check if is_prime(8) returns False\n",
    "        self.assertEqual(is_prime(9), False)  # Check if is_prime(9) returns False\n",
    "\n",
    "if __name__ == '__main__':  \n",
    "    unittest.main(argv=[''], exit=False)  \n"
   ]
  },
  {
   "cell_type": "markdown",
   "id": "8824bd97",
   "metadata": {},
   "source": [
    "#### 5. Test for large prime numbers (e.g., 103, 107, 109)"
   ]
  },
  {
   "cell_type": "code",
   "execution_count": 7,
   "id": "c92e16e7",
   "metadata": {},
   "outputs": [
    {
     "name": "stderr",
     "output_type": "stream",
     "text": [
      ".\n",
      "----------------------------------------------------------------------\n",
      "Ran 1 test in 0.003s\n",
      "\n",
      "OK\n"
     ]
    }
   ],
   "source": [
    "import unittest  # Import the unittest module\n",
    "\n",
    "class TestIsPrime(unittest.TestCase): \n",
    "    \n",
    "    def test_large_prime_numbers(self): \n",
    "        self.assertEqual(is_prime(103), True)  # Check if is_prime(103) returns True\n",
    "        self.assertEqual(is_prime(107), True)  # Check if is_prime(107) returns True\n",
    "        self.assertEqual(is_prime(109), True)  # Check if is_prime(109) returns True\n",
    "\n",
    "if __name__ == '__main__': \n",
    "    unittest.main(argv=[''], exit=False)  \n"
   ]
  },
  {
   "cell_type": "markdown",
   "id": "c4fc269b",
   "metadata": {},
   "source": [
    "#### 6. Test for large composite numbers (e.g., 100, 200, 300)"
   ]
  },
  {
   "cell_type": "code",
   "execution_count": 8,
   "id": "d1f9781b",
   "metadata": {},
   "outputs": [
    {
     "name": "stderr",
     "output_type": "stream",
     "text": [
      ".\n",
      "----------------------------------------------------------------------\n",
      "Ran 1 test in 0.003s\n",
      "\n",
      "OK\n"
     ]
    }
   ],
   "source": [
    "import unittest  # Import the unittest module\n",
    "\n",
    "class TestIsPrime(unittest.TestCase):  \n",
    "    def test_large_composite_numbers(self):  \n",
    "        self.assertEqual(is_prime(100), False)  # Check if is_prime(100) returns False\n",
    "        self.assertEqual(is_prime(200), False)  # Check if is_prime(200) returns False\n",
    "        self.assertEqual(is_prime(300), False)  # Check if is_prime(300) returns False\n",
    "\n",
    "if __name__ == '__main__': \n",
    "    unittest.main(argv=[''], exit=False)  \n"
   ]
  },
  {
   "cell_type": "markdown",
   "id": "cd74256f",
   "metadata": {},
   "source": [
    "In the TestIsPrime class, we define several test methods, each testing a specific case. In each test method, we use the assert statements to check whether the output of the is_prime() function matches the expected output. If the output does not match, the test fails and the test runner reports the failure.\n",
    "\n",
    "To run the tests, we simply run the script. The test runner will discover and run all the test methods defined in the TestIsPrime class.\n",
    "\n",
    "We can also run the tests using a command-line test runner such as pytest. To do this, we need to install pytest by running pip install pytest and then run the tests using the pytest command. The test runner will discover and run all the test methods defined in the script."
   ]
  },
  {
   "attachments": {
    "image.png": {
     "image/png": "[encoded data removed]"
    }
   },
   "cell_type": "markdown",
   "id": "0617ce3f",
   "metadata": {},
   "source": [
    "![image.png](attachment:image.png)"
   ]
  },
  {
   "cell_type": "code",
   "execution_count": null,
   "id": "7e5eb463",
   "metadata": {},
   "outputs": [],
   "source": []
  }
 ],
 "metadata": {
  "kernelspec": {
   "display_name": "Python 3 (ipykernel)",
   "language": "python",
   "name": "python3"
  },
  "language_info": {
   "codemirror_mode": {
    "name": "ipython",
    "version": 3
   },
   "file_extension": ".py",
   "mimetype": "text/x-python",
   "name": "python",
   "nbconvert_exporter": "python",
   "pygments_lexer": "ipython3",
   "version": "3.9.13"
  }
 },
 "nbformat": 4,
 "nbformat_minor": 5
}
