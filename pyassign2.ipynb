{
 "cells": [
  {
   "cell_type": "markdown",
   "id": "a5c24bbd",
   "metadata": {},
   "source": [
    "**Python Basics: Flow Control, Loops, Functions**"
   ]
  },
  {
   "cell_type": "markdown",
   "id": "d8d1db4c",
   "metadata": {},
   "source": [
    "1. Conditional statements\n"
   ]
  },
  {
   "cell_type": "markdown",
   "id": "a611e39f",
   "metadata": {},
   "source": [
    "1.1 Get the radius value as input and calculate the area of the circle. If the input is numeric, display the result otherwise display any other message."
   ]
  },
  {
   "cell_type": "code",
   "execution_count": 21,
   "id": "475cfff9",
   "metadata": {},
   "outputs": [
    {
     "name": "stdout",
     "output_type": "stream",
     "text": [
      "Please enter the radius of a circle \n",
      "y\n",
      "Please enter a numeric value only for radius\n"
     ]
    }
   ],
   "source": [
    "import math\n",
    "\n",
    "radius = input(\"Please enter the radius of a circle \\n\")\n",
    "if radius.isnumeric():\n",
    "    r=float(radius)\n",
    "    area = math.pi * r * r\n",
    "    print(\"The area of the circle is: {:.2f}\".format(area))\n",
    "else:\n",
    "    print(\"Please enter a numeric value only for radius\")"
   ]
  },
  {
   "cell_type": "markdown",
   "id": "d03170ea",
   "metadata": {},
   "source": [
    "1.2. If the user enters numeric value then asks user to for either perimeter or area calculation and display accordingly"
   ]
  },
  {
   "cell_type": "code",
   "execution_count": 25,
   "id": "3495c660",
   "metadata": {},
   "outputs": [
    {
     "name": "stdout",
     "output_type": "stream",
     "text": [
      "Please enter the radius of a circle \n",
      "7\n",
      "a. Area \n",
      "\n",
      "b. Perimeter \n",
      "\n",
      "Please enter your option \n",
      "b\n",
      "The perimeter of the circle is 43.98\n"
     ]
    }
   ],
   "source": [
    "import math\n",
    "\n",
    "radius = input(\"Please enter the radius of a circle \\n\")\n",
    "if radius.isnumeric():\n",
    "    r=float(radius)\n",
    "    print(\"a. Area \\n\")\n",
    "    print(\"b. Perimeter \\n\")\n",
    "    choice = input(\"Please enter your option \\n\")\n",
    "    if choice == 'a':\n",
    "        area = math.pi * r * r\n",
    "        print(\"The area of the circle is: {:.2f}\".format(area))\n",
    "    else:\n",
    "        perimeter = 2 * math.pi * r\n",
    "        print(\"The perimeter of the circle is {:.2f}\".format((perimeter)))\n",
    "else:\n",
    "    print(\"Please enter a numeric value only for radius\")"
   ]
  },
  {
   "cell_type": "markdown",
   "id": "da13cf6d",
   "metadata": {},
   "source": [
    "3. students\\_profile=\n",
    "\n",
    "{'Duy': ['Python', 'Database', 'ML'], 'Laxmi': ['Python', 'Database', 'ML'],\n",
    "\n",
    "'Antonio': ['Python', 'Database', 'ML'],'Maria': ['Python', 'Database', 'ML']}\n",
    "\n",
    "Check if there is a student named 'Maria' in students\\_profile dictionary. If exists remove 'ML' from her course\n"
   ]
  },
  {
   "cell_type": "code",
   "execution_count": 35,
   "id": "6b5c2c95",
   "metadata": {},
   "outputs": [
    {
     "name": "stdout",
     "output_type": "stream",
     "text": [
      "['Duy', 'Laxmi', 'Antonio', 'Maria']\n",
      "['Python', 'Database', 'ML']\n"
     ]
    }
   ],
   "source": [
    "Students=['Duy', 'Laxmi','Antonio','Maria']\n",
    "Course=[\"Python\",\"Database\",\"ML\"] \n",
    "\n",
    "print(Students)\n",
    "print(Course)"
   ]
  },
  {
   "cell_type": "code",
   "execution_count": 36,
   "id": "c8be4bb1",
   "metadata": {},
   "outputs": [
    {
     "name": "stdout",
     "output_type": "stream",
     "text": [
      "{'Duy': ['Python', 'Database', 'ML'], 'Laxmi': ['Python', 'Database', 'ML'], 'Antonio': ['Python', 'Database', 'ML'], 'Maria': ['Python', 'Database', 'ML']}\n"
     ]
    }
   ],
   "source": [
    "student_profile=dict.fromkeys(Students,Course)\n",
    "print(student_profile)"
   ]
  },
  {
   "cell_type": "code",
   "execution_count": 37,
   "id": "7eeed108",
   "metadata": {},
   "outputs": [],
   "source": [
    "if 'Maria' in student_profile:\n",
    "    student_profile['Maria'].remove('ML')\n",
    "else:\n",
    "    print(\"No student named Maria in the list\")"
   ]
  },
  {
   "cell_type": "code",
   "execution_count": 38,
   "id": "261b7e94",
   "metadata": {},
   "outputs": [
    {
     "name": "stdout",
     "output_type": "stream",
     "text": [
      "['Python', 'Database']\n"
     ]
    }
   ],
   "source": [
    "print(student_profile['Maria'])"
   ]
  },
  {
   "cell_type": "markdown",
   "id": "aa4ff64e",
   "metadata": {},
   "source": [
    "1.4 Take the input from the user as a substring. If that substring is present in string then display substring is present otherwise substring is not present"
   ]
  },
  {
   "cell_type": "code",
   "execution_count": 42,
   "id": "477426a7",
   "metadata": {},
   "outputs": [
    {
     "name": "stdout",
     "output_type": "stream",
     "text": [
      "Please enter a string is a\n",
      "is a  is present in -  This is a python assignment\n"
     ]
    }
   ],
   "source": [
    "sentence = \"This is a python assignment\"\n",
    "substr = input(\"Please enter a string \")\n",
    "if substr in sentence:\n",
    "    print(substr,\" is present in - \",sentence)\n",
    "else:\n",
    "    print(substr, \" is not present in - \", sentence)"
   ]
  },
  {
   "cell_type": "markdown",
   "id": "b78a74e2",
   "metadata": {},
   "source": [
    "1. 5 Distance Metrics are important to calculate the similarity between the vectors. They are used in both supervised and unsupervised machine learning problems. Given the points (1,2,3) and (4,5,6), write a python conditional statement to print the distance for the order 1,2,3,4. If the order is 1 then it is **L1 norm(Manhattan distance)**, order 2 is **L2 norm(Euclidean distance)** and the generalized distance is given by **Minkowski equation**."
   ]
  },
  {
   "cell_type": "markdown",
   "id": "b059c936",
   "metadata": {},
   "source": [
    "### The Manhattan distance between two vectors, A and B, is calculated as:\n",
    "\n",
    "    Σ|Ai – Bi|  where i is the ith element in each vector.\n",
    "   \n",
    "    \n",
    "### The mathematical formula used to compute the euclidean distance between two points.\n",
    "\n",
    "    d = √((x₂ — x₁)² + (y₂ — y₁)²)\n",
    "\n",
    "### Minkowski equation\n",
    "The steps/ algorithm to calculate Minkowshi Distance are as follows:\n",
    "\n",
    "1. Define the two points P1 and P2. \n",
    "2. Let there be N dimensions and set P to a specific value.\n",
    "    For each dimension DI, do the following:\n",
    "    2.1 value = (P1[DI] - P2[DI])^P [Difference between the DI dimension value raised to power of P]\n",
    "3. Minkowshi distance = value ^ (1/P)"
   ]
  },
  {
   "cell_type": "code",
   "execution_count": 19,
   "id": "f7e69a42",
   "metadata": {},
   "outputs": [
    {
     "name": "stdout",
     "output_type": "stream",
     "text": [
      "Enter the order: \n",
      "4\n",
      "Calculating  distance with Minkowski equation \n",
      "\n",
      "Minkowshi distance from x to y:  4.33\n"
     ]
    }
   ],
   "source": [
    "import math\n",
    "x = (1,2,3)\n",
    "y = (4,5,6)\n",
    "\n",
    "order = input(\"Enter the order: \\n\")\n",
    "ordnum = int(order)\n",
    "if (ordnum == 1):\n",
    "    print(\"Calculating L1 norm(Manhattan distance)\\n\")\n",
    "    dist = sum([abs(a - b) for a,b in zip(x,y)])\n",
    "    print(\"Manhattan distance from x to y: \",round(dist,2))\n",
    "elif (ordnum == 2):\n",
    "    print(\"Calculating L2 norm(Euclidean distance)\\n\")\n",
    "    distance = math.sqrt(sum([(a - b) ** 2 for a, b in zip(x, y)]))\n",
    "    print(\"Euclidean distance from x to y: \",round(distance,2))\n",
    "else:\n",
    "    p = 3\n",
    "    print(\"Calculating  distance with Minkowski equation \\n\")\n",
    "    value =sum([pow(abs(a-b), p) for a, b in zip(x, y)])\n",
    "    val = 1 / p\n",
    "    md = pow(value,val)\n",
    "    print(\"Minkowshi distance from x to y: \",round(md,2))"
   ]
  },
  {
   "cell_type": "markdown",
   "id": "aed17071",
   "metadata": {},
   "source": [
    "## 2. Loops"
   ]
  },
  {
   "cell_type": "markdown",
   "id": "fd109f5f",
   "metadata": {},
   "source": [
    "## 2.1. Write a multiplication table for any given number using both for and while loop"
   ]
  },
  {
   "cell_type": "code",
   "execution_count": 58,
   "id": "65186d08",
   "metadata": {},
   "outputs": [
    {
     "name": "stdout",
     "output_type": "stream",
     "text": [
      "Enter a number : 6\n",
      "6  *  1   =  6\n",
      "6  *  2   =  12\n",
      "6  *  3   =  18\n",
      "6  *  4   =  24\n",
      "6  *  5   =  30\n",
      "6  *  6   =  36\n",
      "6  *  7   =  42\n",
      "6  *  8   =  48\n",
      "6  *  9   =  54\n",
      "6  *  10   =  60\n"
     ]
    }
   ],
   "source": [
    "#for loop\n",
    "number = input(\"Enter a number : \")\n",
    "for i in range(1,11):\n",
    "    print(number, \" * \", i, \"  = \", int(number) * i)"
   ]
  },
  {
   "cell_type": "code",
   "execution_count": 59,
   "id": "4bb40b25",
   "metadata": {},
   "outputs": [
    {
     "name": "stdout",
     "output_type": "stream",
     "text": [
      "Enter a number : 7\n",
      "7  *  1   =  7\n",
      "7  *  2   =  14\n",
      "7  *  3   =  21\n",
      "7  *  4   =  28\n",
      "7  *  5   =  35\n",
      "7  *  6   =  42\n",
      "7  *  7   =  49\n",
      "7  *  8   =  56\n",
      "7  *  9   =  63\n",
      "7  *  10   =  70\n"
     ]
    }
   ],
   "source": [
    "#while loop\n",
    "number = input(\"Enter a number : \")\n",
    "i = 1\n",
    "while i <= 10 :\n",
    "     print(number, \" * \", i, \"  = \", int(number) * i)\n",
    "     i = i + 1\n",
    "    "
   ]
  },
  {
   "cell_type": "markdown",
   "id": "07f8ce1e",
   "metadata": {},
   "source": [
    "## DNA is coded using 4 nitrogen bases with the symbols A,T,G,C. Given the template string dna\\_template='AATCCGAAAATTCGGGAATTTTCGCGT' , generate the complementary dna template with the mapping\n",
    "\n",
    "mapper={\"T\":\"A\",\"A\":\"T\",\"G\":\"C\",\"C\":\"G\"}\n"
   ]
  },
  {
   "cell_type": "code",
   "execution_count": 65,
   "id": "ea6e5bca",
   "metadata": {},
   "outputs": [
    {
     "name": "stdout",
     "output_type": "stream",
     "text": [
      "Please enter the DNA sequenceTTGGAACCTAGGGGT\n",
      "The complimentary DNA sequence is :  AACCTTGGATCCCCA\n"
     ]
    }
   ],
   "source": [
    "#2.2 complimentary DNA sequence printing\n",
    "dnaseq = input(\"Please enter the DNA sequence\")\n",
    "seqlen = len(dnaseq)\n",
    "#print(seqlen)\n",
    "compseq = ''\n",
    "\n",
    "for i in range(0, (seqlen + 1)):\n",
    "    if dnaseq[i:i+1] == \"A\":\n",
    "        compseq = compseq + 'T'\n",
    "    elif dnaseq[i:i+1] == 'T':\n",
    "        compseq = compseq + 'A'\n",
    "    elif dnaseq[i:i+1] == 'G':\n",
    "        compseq = compseq + 'C'\n",
    "    elif dnaseq[i:i+1] == 'C':\n",
    "        compseq = compseq + 'G'\n",
    "print(\"The complimentary DNA sequence is : \",compseq)\n",
    "            "
   ]
  },
  {
   "cell_type": "markdown",
   "id": "e7bec765",
   "metadata": {},
   "source": [
    "## 2.3 Generate the list f\\_series=x=[0,1,1,2,3,5,8,13,21,34,55,89,144]. Looks Familiar? This is Fibonacci series where x[0]=0,x[1]=1, and x[n]=x[n-1]+x[n-2] for n\\>1"
   ]
  },
  {
   "cell_type": "code",
   "execution_count": 31,
   "id": "c7991438",
   "metadata": {},
   "outputs": [
    {
     "name": "stdout",
     "output_type": "stream",
     "text": [
      "Please enter a limit \n",
      "15\n",
      "[0, 1, 1, 2, 3, 5, 8, 13, 21, 34, 55, 89, 144, 233, 377]\n"
     ]
    }
   ],
   "source": [
    "#fibonocci list generation\n",
    "\n",
    "def generatefibonoccilist(n):\n",
    "    if n > 0:\n",
    "        if n == 1:\n",
    "            fiblist = [0]\n",
    "        if n > 1:\n",
    "            fiblist = [0,1]\n",
    "        while len(fiblist) <= n - 1:\n",
    "            val = fiblist[len(fiblist)-1] + fiblist[len(fiblist)-2]\n",
    "            fiblist.append(val)\n",
    "        print(fiblist)\n",
    "    else:\n",
    "        print(\"Enter a positive integer limit\")\n",
    "\n",
    "num = input(\"Please enter a limit \\n\")\n",
    "limit =  int(num)\n",
    "generatefibonoccilist(limit)"
   ]
  },
  {
   "cell_type": "markdown",
   "id": "2db65004",
   "metadata": {},
   "source": [
    "## 2.4 Generate a list of n numbers of prime numbers"
   ]
  },
  {
   "cell_type": "code",
   "execution_count": 52,
   "id": "298bc1f4",
   "metadata": {},
   "outputs": [
    {
     "name": "stdout",
     "output_type": "stream",
     "text": [
      "Please enter a limit \n",
      "10\n",
      "{3, 5, 7, 9, 11, 13, 15, 17, 19, 21}\n"
     ]
    }
   ],
   "source": [
    "#prime number list generation\n",
    "\n",
    "def generateprimenumbers(n):\n",
    "    primenumlist = set()\n",
    "    num = 1\n",
    "    while(1):\n",
    "        for i in range(2,num):\n",
    "            if num % i == 0:\n",
    "                break\n",
    "            else:\n",
    "                primenumlist.add(num)\n",
    "        if len(primenumlist) < n:\n",
    "            num = num + 1\n",
    "        else:\n",
    "            break\n",
    "    return primenumlist\n",
    "   \n",
    "\n",
    "    \n",
    "    \n",
    "num = input(\"Please enter a limit \\n\")\n",
    "limit =  int(num)\n",
    "print(generateprimenumbers(limit))\n",
    "\n",
    "\n"
   ]
  },
  {
   "cell_type": "markdown",
   "id": "708aa336",
   "metadata": {},
   "source": [
    "## Perform the **minmax normalization** to the range [0,1] for the data1 and minmax normalization to the range [-1,1] for the data2\n",
    "\n",
    "data1=[1,17,12,15,30,60,48,51,89,92,54,8], use\n",
    "\n",
    "X_scaled = (X - X_min) / (X_max - X_min)\n",
    "\n",
    "data2=[-13,2,-1,7,22,-32,5,15,-9,13,3,-2], use\n",
    "\n",
    "X_scaled = 2 * (X - X_min) / (X_max - X_min) - 1\n",
    "\n",
    "The general formula for scaling in the range [a,b] is\n",
    "\n",
    "X_scaled = (b-a) * (X - X_min) / (X_max - X_min) + a\n",
    "\n"
   ]
  },
  {
   "cell_type": "markdown",
   "id": "3e88619e",
   "metadata": {},
   "source": [
    "## Understand how sorting algorithms work(bubble,selection,insertion). Implement them of your own. Also compare time complexities."
   ]
  },
  {
   "cell_type": "code",
   "execution_count": 11,
   "id": "a010c1db",
   "metadata": {},
   "outputs": [],
   "source": [
    "#1. Bubble Sort\n",
    "\n",
    "# Optimized Bubble sort in Python\n",
    "\n",
    "def bubbleSort(array):  \n",
    "    # loop through each element of array\n",
    "        for i in range(len(array)):\n",
    "            # keep track of swapping\n",
    "            swapped = False\n",
    "    \n",
    "            # loop to compare array elements\n",
    "            for j in range(0, len(array) - i - 1):\n",
    "\n",
    "           # compare two adjacent elements\n",
    "              # change > to < to sort in descending order\n",
    "                  if array[j] > array[j + 1]:\n",
    "\n",
    "                        # swapping occurs if elements are not in the intended order\n",
    "                    temp = array[j]\n",
    "                    array[j] = array[j+1]\n",
    "                    array[j+1] = temp\n",
    "\n",
    "                    swapped = True\n",
    "            if not swapped:\n",
    "                break\n",
    "          \n",
    "    # no swapping means the array is already sorted\n",
    "    # so no need for further comparison\n"
   ]
  },
  {
   "cell_type": "code",
   "execution_count": 12,
   "id": "1d81cace",
   "metadata": {},
   "outputs": [],
   "source": [
    "#insertion sort\n",
    "\n",
    "def insertionSort(array):\n",
    "\n",
    "    for step in range(1, len(array)):\n",
    "        key = array[step]\n",
    "        j = step - 1\n",
    "        \n",
    "        # Compare key with each element on the left of it until an element smaller than it is found\n",
    "        # For descending order, change key<array[j] to key>array[j].        \n",
    "        while j >= 0 and key < array[j]:\n",
    "            array[j + 1] = array[j]\n",
    "            j = j - 1\n",
    "        \n",
    "        # Place key at after the element just smaller than it.\n",
    "        array[j + 1] = key\n"
   ]
  },
  {
   "cell_type": "code",
   "execution_count": 13,
   "id": "84ec7bd1",
   "metadata": {},
   "outputs": [],
   "source": [
    "#selection sort\n",
    "def selectionSort(array, size):\n",
    "    for step in range(size):\n",
    "        min_idx = step\n",
    "\n",
    "        for i in range(step + 1, size):\n",
    "         \n",
    "            # select the minimum element in each loop\n",
    "            if array[i] < array[min_idx]:\n",
    "                min_idx = i\n",
    "         \n",
    "        # put min at the correct position\n",
    "        (array[step], array[min_idx]) = (array[min_idx], array[step])\n"
   ]
  },
  {
   "cell_type": "code",
   "execution_count": 16,
   "id": "70efef3a",
   "metadata": {},
   "outputs": [
    {
     "name": "stdout",
     "output_type": "stream",
     "text": [
      "Running the different sorting algorithms\n",
      "\n",
      "Enter the size of the list :5\n",
      "56\n",
      "23\n",
      "47\n",
      "89\n",
      "87\n",
      "99\n",
      "Bubble Sort\n",
      "Sorted Array in Ascending Order:\n",
      "['56', '23', '47', '89', '87', '99']\n",
      "Insertion Sort\n",
      "Sorted Array in Ascending Order:\n",
      "['23', '47', '56', '87', '89', '99']\n",
      "Selection Sort\n",
      "Sorted Array in Ascending Order:\n",
      "['23', '47', '56', '87', '89', '99']\n",
      "Comparing the time complexities \n",
      "\n",
      "Bubble Sort \t 0.0\n",
      "\n",
      " Insertion Sort \t 0.0\n",
      "Selection Sort \t 0.0\n"
     ]
    }
   ],
   "source": [
    "import time\n",
    "\n",
    "listtosort=[]\n",
    "\n",
    "def readlist():\n",
    "    size = input(\"Enter the size of the list :\")\n",
    "    s = int(size)\n",
    "    for i in range(0,s+1):\n",
    "        element = input()\n",
    "        listtosort.append(element)\n",
    "        \n",
    "print (\"Running the different sorting algorithms\\n\")\n",
    "\n",
    "#reading the array values\n",
    "readlist()\n",
    "\n",
    "#Bubblesort\n",
    "print(\"Bubble Sort\")\n",
    "start_time = time.time()\n",
    "#bubbleSort(listtosort)\n",
    "print('Sorted Array in Ascending Order:')\n",
    "print(listtosort)\n",
    "end_time=time.time()\n",
    "bubb_sort_time = end_time - start_time\n",
    "\n",
    "#insertion sort\n",
    "print(\"Insertion Sort\")\n",
    "start_time = time.time()\n",
    "insertionSort(listtosort)\n",
    "print('Sorted Array in Ascending Order:')\n",
    "print(listtosort)\n",
    "end_time=time.time()\n",
    "insert_sort_time = end_time - start_time\n",
    "\n",
    "#selection sort\n",
    "print(\"Selection Sort\")\n",
    "start_time = time.time()\n",
    "selectionSort(listtosort,2)\n",
    "print('Sorted Array in Ascending Order:')\n",
    "print(listtosort)\n",
    "end_time=time.time()\n",
    "selec_sort_time = end_time - start_time\n",
    "\n",
    "print(\"Comparing the time complexities \\n\")\n",
    "print(\"Bubble Sort \\t\",bubb_sort_time,)\n",
    "print(\"\\n Insertion Sort \\t\",insert_sort_time)\n",
    "print(\"Selection Sort \\t\",selec_sort_time)"
   ]
  },
  {
   "cell_type": "markdown",
   "id": "547e4897",
   "metadata": {},
   "source": [
    "## Functions"
   ]
  },
  {
   "cell_type": "code",
   "execution_count": null,
   "id": "0a1c98da",
   "metadata": {},
   "outputs": [],
   "source": [
    "#1. Write a function **factorial** of a given number"
   ]
  },
  {
   "cell_type": "code",
   "execution_count": 26,
   "id": "accfd674",
   "metadata": {},
   "outputs": [
    {
     "data": {
      "text/plain": [
       "720"
      ]
     },
     "execution_count": 26,
     "metadata": {},
     "output_type": "execute_result"
    }
   ],
   "source": [
    "def findfactorial(n):\n",
    "    \"\"\"\n",
    "    Finds the facotrial of a number.\n",
    "    arugment : n , numeric\n",
    "    returns factorial \n",
    "    \"\"\"\n",
    "    factorial = 1\n",
    "    for i in range(1,n+1):\n",
    "        factorial=factorial * i\n",
    "    return factorial\n",
    "\n",
    "findfactorial(6)"
   ]
  },
  {
   "cell_type": "code",
   "execution_count": 27,
   "id": "83c4b547",
   "metadata": {},
   "outputs": [
    {
     "name": "stdout",
     "output_type": "stream",
     "text": [
      "\n",
      "    Finds the facotrial of a number.\n",
      "    arugment : n , numeric\n",
      "    returns factorial \n",
      "    \n"
     ]
    }
   ],
   "source": [
    "print(findfactorial.__doc__)"
   ]
  },
  {
   "cell_type": "code",
   "execution_count": null,
   "id": "eef14cad",
   "metadata": {},
   "outputs": [],
   "source": []
  }
 ],
 "metadata": {
  "kernelspec": {
   "display_name": "Python 3 (ipykernel)",
   "language": "python",
   "name": "python3"
  },
  "language_info": {
   "codemirror_mode": {
    "name": "ipython",
    "version": 3
   },
   "file_extension": ".py",
   "mimetype": "text/x-python",
   "name": "python",
   "nbconvert_exporter": "python",
   "pygments_lexer": "ipython3",
   "version": "3.10.2"
  }
 },
 "nbformat": 4,
 "nbformat_minor": 5
}
