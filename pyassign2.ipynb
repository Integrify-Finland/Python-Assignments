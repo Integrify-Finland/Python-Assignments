{
 "cells": [
  {
   "cell_type": "markdown",
   "id": "a5c24bbd",
   "metadata": {},
   "source": [
    "**Python Basics: Flow Control, Loops, Functions**"
   ]
  },
  {
   "cell_type": "markdown",
   "id": "d8d1db4c",
   "metadata": {},
   "source": [
    "1. Conditional statements\n"
   ]
  },
  {
   "cell_type": "markdown",
   "id": "a611e39f",
   "metadata": {},
   "source": [
    "1.1 Get the radius value as input and calculate the area of the circle. If the input is numeric, display the result otherwise display any other message."
   ]
  },
  {
   "cell_type": "code",
   "execution_count": 21,
   "id": "475cfff9",
   "metadata": {},
   "outputs": [
    {
     "name": "stdout",
     "output_type": "stream",
     "text": [
      "Please enter the radius of a circle \n",
      "y\n",
      "Please enter a numeric value only for radius\n"
     ]
    }
   ],
   "source": [
    "import math\n",
    "\n",
    "radius = input(\"Please enter the radius of a circle \\n\")\n",
    "if radius.isnumeric():\n",
    "    r=float(radius)\n",
    "    area = math.pi * r * r\n",
    "    print(\"The area of the circle is: {:.2f}\".format(area))\n",
    "else:\n",
    "    print(\"Please enter a numeric value only for radius\")"
   ]
  },
  {
   "cell_type": "markdown",
   "id": "d03170ea",
   "metadata": {},
   "source": [
    "1.2. If the user enters numeric value then asks user to for either perimeter or area calculation and display accordingly"
   ]
  },
  {
   "cell_type": "code",
   "execution_count": 25,
   "id": "3495c660",
   "metadata": {},
   "outputs": [
    {
     "name": "stdout",
     "output_type": "stream",
     "text": [
      "Please enter the radius of a circle \n",
      "7\n",
      "a. Area \n",
      "\n",
      "b. Perimeter \n",
      "\n",
      "Please enter your option \n",
      "b\n",
      "The perimeter of the circle is 43.98\n"
     ]
    }
   ],
   "source": [
    "import math\n",
    "\n",
    "radius = input(\"Please enter the radius of a circle \\n\")\n",
    "if radius.isnumeric():\n",
    "    r=float(radius)\n",
    "    print(\"a. Area \\n\")\n",
    "    print(\"b. Perimeter \\n\")\n",
    "    choice = input(\"Please enter your option \\n\")\n",
    "    if choice == 'a':\n",
    "        area = math.pi * r * r\n",
    "        print(\"The area of the circle is: {:.2f}\".format(area))\n",
    "    else:\n",
    "        perimeter = 2 * math.pi * r\n",
    "        print(\"The perimeter of the circle is {:.2f}\".format((perimeter)))\n",
    "else:\n",
    "    print(\"Please enter a numeric value only for radius\")"
   ]
  },
  {
   "cell_type": "markdown",
   "id": "da13cf6d",
   "metadata": {},
   "source": [
    "3. students\\_profile=\n",
    "\n",
    "{'Duy': ['Python', 'Database', 'ML'], 'Laxmi': ['Python', 'Database', 'ML'],\n",
    "\n",
    "'Antonio': ['Python', 'Database', 'ML'],'Maria': ['Python', 'Database', 'ML']}\n",
    "\n",
    "Check if there is a student named 'Maria' in students\\_profile dictionary. If exists remove 'ML' from her course\n"
   ]
  },
  {
   "cell_type": "code",
   "execution_count": 35,
   "id": "6b5c2c95",
   "metadata": {},
   "outputs": [
    {
     "name": "stdout",
     "output_type": "stream",
     "text": [
      "['Duy', 'Laxmi', 'Antonio', 'Maria']\n",
      "['Python', 'Database', 'ML']\n"
     ]
    }
   ],
   "source": [
    "Students=['Duy', 'Laxmi','Antonio','Maria']\n",
    "Course=[\"Python\",\"Database\",\"ML\"] \n",
    "\n",
    "print(Students)\n",
    "print(Course)"
   ]
  },
  {
   "cell_type": "code",
   "execution_count": 36,
   "id": "c8be4bb1",
   "metadata": {},
   "outputs": [
    {
     "name": "stdout",
     "output_type": "stream",
     "text": [
      "{'Duy': ['Python', 'Database', 'ML'], 'Laxmi': ['Python', 'Database', 'ML'], 'Antonio': ['Python', 'Database', 'ML'], 'Maria': ['Python', 'Database', 'ML']}\n"
     ]
    }
   ],
   "source": [
    "student_profile=dict.fromkeys(Students,Course)\n",
    "print(student_profile)"
   ]
  },
  {
   "cell_type": "code",
   "execution_count": 37,
   "id": "7eeed108",
   "metadata": {},
   "outputs": [],
   "source": [
    "if 'Maria' in student_profile:\n",
    "    student_profile['Maria'].remove('ML')\n",
    "else:\n",
    "    print(\"No student named Maria in the list\")"
   ]
  },
  {
   "cell_type": "code",
   "execution_count": 38,
   "id": "261b7e94",
   "metadata": {},
   "outputs": [
    {
     "name": "stdout",
     "output_type": "stream",
     "text": [
      "['Python', 'Database']\n"
     ]
    }
   ],
   "source": [
    "print(student_profile['Maria'])"
   ]
  },
  {
   "cell_type": "markdown",
   "id": "aa4ff64e",
   "metadata": {},
   "source": [
    "1.4 Take the input from the user as a substring. If that substring is present in string then display substring is present otherwise substring is not present"
   ]
  },
  {
   "cell_type": "code",
   "execution_count": 42,
   "id": "477426a7",
   "metadata": {},
   "outputs": [
    {
     "name": "stdout",
     "output_type": "stream",
     "text": [
      "Please enter a string is a\n",
      "is a  is present in -  This is a python assignment\n"
     ]
    }
   ],
   "source": [
    "sentence = \"This is a python assignment\"\n",
    "substr = input(\"Please enter a string \")\n",
    "if substr in sentence:\n",
    "    print(substr,\" is present in - \",sentence)\n",
    "else:\n",
    "    print(substr, \" is not present in - \", sentence)"
   ]
  },
  {
   "cell_type": "markdown",
   "id": "b78a74e2",
   "metadata": {},
   "source": [
    "1. 5 Distance Metrics are important to calculate the similarity between the vectors. They are used in both supervised and unsupervised machine learning problems. Given the points (1,2,3) and (4,5,6), write a python conditional statement to print the distance for the order 1,2,3,4. If the order is 1 then it is **L1 norm(Manhattan distance)**, order 2 is **L2 norm(Euclidean distance)** and the generalized distance is given by **Minkowski equation**."
   ]
  },
  {
   "cell_type": "markdown",
   "id": "b059c936",
   "metadata": {},
   "source": [
    "### The Manhattan distance between two vectors, A and B, is calculated as:\n",
    "\n",
    "    Σ|Ai – Bi|  where i is the ith element in each vector.\n",
    "   \n",
    "    \n",
    "### The mathematical formula used to compute the euclidean distance between two points.\n",
    "\n",
    "    d = √((x₂ — x₁)² + (y₂ — y₁)²)\n",
    "\n",
    "### Minkowski equation\n",
    "The steps/ algorithm to calculate Minkowshi Distance are as follows:\n",
    "\n",
    "1. Define the two points P1 and P2. \n",
    "2. Let there be N dimensions and set P to a specific value.\n",
    "    For each dimension DI, do the following:\n",
    "    2.1 value = (P1[DI] - P2[DI])^P [Difference between the DI dimension value raised to power of P]\n",
    "3. Minkowshi distance = value ^ (1/P)"
   ]
  },
  {
   "cell_type": "code",
   "execution_count": 19,
   "id": "f7e69a42",
   "metadata": {},
   "outputs": [
    {
     "name": "stdout",
     "output_type": "stream",
     "text": [
      "Enter the order: \n",
      "4\n",
      "Calculating  distance with Minkowski equation \n",
      "\n",
      "Minkowshi distance from x to y:  4.33\n"
     ]
    }
   ],
   "source": [
    "import math\n",
    "x = (1,2,3)\n",
    "y = (4,5,6)\n",
    "\n",
    "order = input(\"Enter the order: \\n\")\n",
    "ordnum = int(order)\n",
    "if (ordnum == 1):\n",
    "    print(\"Calculating L1 norm(Manhattan distance)\\n\")\n",
    "    dist = sum([abs(a - b) for a,b in zip(x,y)])\n",
    "    print(\"Manhattan distance from x to y: \",round(dist,2))\n",
    "elif (ordnum == 2):\n",
    "    print(\"Calculating L2 norm(Euclidean distance)\\n\")\n",
    "    distance = math.sqrt(sum([(a - b) ** 2 for a, b in zip(x, y)]))\n",
    "    print(\"Euclidean distance from x to y: \",round(distance,2))\n",
    "else:\n",
    "    p = 3\n",
    "    print(\"Calculating  distance with Minkowski equation \\n\")\n",
    "    value =sum([pow(abs(a-b), p) for a, b in zip(x, y)])\n",
    "    val = 1 / p\n",
    "    md = pow(value,val)\n",
    "    print(\"Minkowshi distance from x to y: \",round(md,2))"
   ]
  },
  {
   "cell_type": "markdown",
   "id": "aed17071",
   "metadata": {},
   "source": [
    "## 2. Loops"
   ]
  },
  {
   "cell_type": "markdown",
   "id": "fd109f5f",
   "metadata": {},
   "source": [
    "## 2.1. Write a multiplication table for any given number using both for and while loop"
   ]
  },
  {
   "cell_type": "code",
   "execution_count": 58,
   "id": "65186d08",
   "metadata": {},
   "outputs": [
    {
     "name": "stdout",
     "output_type": "stream",
     "text": [
      "Enter a number : 6\n",
      "6  *  1   =  6\n",
      "6  *  2   =  12\n",
      "6  *  3   =  18\n",
      "6  *  4   =  24\n",
      "6  *  5   =  30\n",
      "6  *  6   =  36\n",
      "6  *  7   =  42\n",
      "6  *  8   =  48\n",
      "6  *  9   =  54\n",
      "6  *  10   =  60\n"
     ]
    }
   ],
   "source": [
    "#for loop\n",
    "number = input(\"Enter a number : \")\n",
    "for i in range(1,11):\n",
    "    print(number, \" * \", i, \"  = \", int(number) * i)"
   ]
  },
  {
   "cell_type": "code",
   "execution_count": 59,
   "id": "4bb40b25",
   "metadata": {},
   "outputs": [
    {
     "name": "stdout",
     "output_type": "stream",
     "text": [
      "Enter a number : 7\n",
      "7  *  1   =  7\n",
      "7  *  2   =  14\n",
      "7  *  3   =  21\n",
      "7  *  4   =  28\n",
      "7  *  5   =  35\n",
      "7  *  6   =  42\n",
      "7  *  7   =  49\n",
      "7  *  8   =  56\n",
      "7  *  9   =  63\n",
      "7  *  10   =  70\n"
     ]
    }
   ],
   "source": [
    "#while loop\n",
    "number = input(\"Enter a number : \")\n",
    "i = 1\n",
    "while i <= 10 :\n",
    "     print(number, \" * \", i, \"  = \", int(number) * i)\n",
    "     i = i + 1\n",
    "    "
   ]
  },
  {
   "cell_type": "markdown",
   "id": "07f8ce1e",
   "metadata": {},
   "source": [
    "## DNA is coded using 4 nitrogen bases with the symbols A,T,G,C. Given the template string dna\\_template='AATCCGAAAATTCGGGAATTTTCGCGT' , generate the complementary dna template with the mapping\n",
    "\n",
    "mapper={\"T\":\"A\",\"A\":\"T\",\"G\":\"C\",\"C\":\"G\"}\n"
   ]
  },
  {
   "cell_type": "code",
   "execution_count": 65,
   "id": "ea6e5bca",
   "metadata": {},
   "outputs": [
    {
     "name": "stdout",
     "output_type": "stream",
     "text": [
      "Please enter the DNA sequenceTTGGAACCTAGGGGT\n",
      "The complimentary DNA sequence is :  AACCTTGGATCCCCA\n"
     ]
    }
   ],
   "source": [
    "#2.2 complimentary DNA sequence printing\n",
    "dnaseq = input(\"Please enter the DNA sequence\")\n",
    "seqlen = len(dnaseq)\n",
    "#print(seqlen)\n",
    "compseq = ''\n",
    "\n",
    "for i in range(0, (seqlen + 1)):\n",
    "    if dnaseq[i:i+1] == \"A\":\n",
    "        compseq = compseq + 'T'\n",
    "    elif dnaseq[i:i+1] == 'T':\n",
    "        compseq = compseq + 'A'\n",
    "    elif dnaseq[i:i+1] == 'G':\n",
    "        compseq = compseq + 'C'\n",
    "    elif dnaseq[i:i+1] == 'C':\n",
    "        compseq = compseq + 'G'\n",
    "print(\"The complimentary DNA sequence is : \",compseq)\n",
    "            "
   ]
  },
  {
   "cell_type": "markdown",
   "id": "e7bec765",
   "metadata": {},
   "source": [
    "## 2.3 Generate the list f\\_series=x=[0,1,1,2,3,5,8,13,21,34,55,89,144]. Looks Familiar? This is Fibonacci series where x[0]=0,x[1]=1, and x[n]=x[n-1]+x[n-2] for n\\>1"
   ]
  },
  {
   "cell_type": "code",
   "execution_count": 31,
   "id": "c7991438",
   "metadata": {},
   "outputs": [
    {
     "name": "stdout",
     "output_type": "stream",
     "text": [
      "Please enter a limit \n",
      "15\n",
      "[0, 1, 1, 2, 3, 5, 8, 13, 21, 34, 55, 89, 144, 233, 377]\n"
     ]
    }
   ],
   "source": [
    "#fibonocci list generation\n",
    "\n",
    "def generatefibonoccilist(n):\n",
    "    if n > 0:\n",
    "        if n == 1:\n",
    "            fiblist = [0]\n",
    "        if n > 1:\n",
    "            fiblist = [0,1]\n",
    "        while len(fiblist) <= n - 1:\n",
    "            val = fiblist[len(fiblist)-1] + fiblist[len(fiblist)-2]\n",
    "            fiblist.append(val)\n",
    "        print(fiblist)\n",
    "    else:\n",
    "        print(\"Enter a positive integer limit\")\n",
    "\n",
    "num = input(\"Please enter a limit \\n\")\n",
    "limit =  int(num)\n",
    "generatefibonoccilist(limit)"
   ]
  },
  {
   "cell_type": "markdown",
   "id": "2db65004",
   "metadata": {},
   "source": [
    "## 2.4 Generate a list of n numbers of prime numbers"
   ]
  },
  {
   "cell_type": "code",
   "execution_count": 52,
   "id": "298bc1f4",
   "metadata": {},
   "outputs": [
    {
     "name": "stdout",
     "output_type": "stream",
     "text": [
      "Please enter a limit \n",
      "10\n",
      "{3, 5, 7, 9, 11, 13, 15, 17, 19, 21}\n"
     ]
    }
   ],
   "source": [
    "#prime number list generation\n",
    "\n",
    "def generateprimenumbers(n):\n",
    "    primenumlist = set()\n",
    "    num = 1\n",
    "    while(1):\n",
    "        for i in range(2,num):\n",
    "            if num % i == 0:\n",
    "                break\n",
    "            else:\n",
    "                primenumlist.add(num)\n",
    "        if len(primenumlist) < n:\n",
    "            num = num + 1\n",
    "        else:\n",
    "            break\n",
    "    return primenumlist\n",
    "   \n",
    "\n",
    "    \n",
    "    \n",
    "num = input(\"Please enter a limit \\n\")\n",
    "limit =  int(num)\n",
    "print(generateprimenumbers(limit))\n",
    "\n",
    "\n"
   ]
  },
  {
   "cell_type": "markdown",
   "id": "708aa336",
   "metadata": {},
   "source": [
    "## Perform the **minmax normalization** to the range [0,1] for the data1 and minmax normalization to the range [-1,1] for the data2\n",
    "\n",
    "data1=[1,17,12,15,30,60,48,51,89,92,54,8], use\n",
    "\n",
    "X_scaled = (X - X_min) / (X_max - X_min)\n",
    "\n",
    "data2=[-13,2,-1,7,22,-32,5,15,-9,13,3,-2], use\n",
    "\n",
    "X_scaled = 2 * (X - X_min) / (X_max - X_min) - 1\n",
    "\n",
    "The general formula for scaling in the range [a,b] is\n",
    "\n",
    "X_scaled = (b-a) * (X - X_min) / (X_max - X_min) + a\n",
    "\n"
   ]
  },
  {
   "cell_type": "code",
   "execution_count": 9,
   "id": "2724cfda",
   "metadata": {},
   "outputs": [
    {
     "name": "stdout",
     "output_type": "stream",
     "text": [
      "Data 1 before normalization:  [1, 17, 12, 15, 30, 60, 48, 51, 89, 92, 54, 8]\n",
      "Data 1 after normalization:   [0.0, 0.2, 0.1, 0.2, 0.3, 0.6, 0.5, 0.5, 1.0, 1.0, 0.6, 0.1]\n",
      "Data 2 before normalization:  [-13, 2, -1, 7, 22, -32, 5, 15, -9, 13, 3, -2]\n",
      "Data 2 after normalization:   [-0.3, 0.3, 0.1, 0.4, 1.0, -1.0, 0.4, 0.7, -0.1, 0.7, 0.3, 0.1]\n"
     ]
    }
   ],
   "source": [
    "def X_scalerfunc(dlist,a,b):\n",
    "    X_min = min(dlist)\n",
    "    X_max = max(dlist)\n",
    "    X_scaled=[((b - a) *(var - X_min)/(X_max - X_min) + a) for var in dlist]\n",
    "    return X_scaled\n",
    "    \n",
    "data1 = [1,17,12,15,30,60,48,51,89,92,54,8]\n",
    "xscaled1 = X_scalerfunc(data1,0,1)\n",
    "xscaled1_list = [round(x,1) for x in xscaled1]\n",
    "print(\"Data 1 before normalization: \", data1)\n",
    "print(\"Data 1 after normalization:  \",xscaled1_list)\n",
    "\n",
    "data2 = [-13,2,-1,7,22,-32,5,15,-9,13,3,-2]\n",
    "xscaled2 = X_scalerfunc(data2,-1,1)\n",
    "xscaled2_list = [round(x,1) for x in xscaled2]\n",
    "print(\"Data 2 before normalization: \", data2)\n",
    "print(\"Data 2 after normalization:  \",xscaled2_list)"
   ]
  },
  {
   "cell_type": "markdown",
   "id": "3e88619e",
   "metadata": {},
   "source": [
    "## Understand how sorting algorithms work(bubble,selection,insertion). Implement them of your own. Also compare time complexities."
   ]
  },
  {
   "cell_type": "code",
   "execution_count": 11,
   "id": "a010c1db",
   "metadata": {},
   "outputs": [],
   "source": [
    "#1. Bubble Sort\n",
    "\n",
    "# Optimized Bubble sort in Python\n",
    "\n",
    "def bubbleSort(array):  \n",
    "    # loop through each element of array\n",
    "        for i in range(len(array)):\n",
    "            # keep track of swapping\n",
    "            swapped = False\n",
    "    \n",
    "            # loop to compare array elements\n",
    "            for j in range(0, len(array) - i - 1):\n",
    "\n",
    "           # compare two adjacent elements\n",
    "              # change > to < to sort in descending order\n",
    "                  if array[j] > array[j + 1]:\n",
    "\n",
    "                        # swapping occurs if elements are not in the intended order\n",
    "                    temp = array[j]\n",
    "                    array[j] = array[j+1]\n",
    "                    array[j+1] = temp\n",
    "\n",
    "                    swapped = True\n",
    "            if not swapped:\n",
    "                break\n",
    "          \n",
    "    # no swapping means the array is already sorted\n",
    "    # so no need for further comparison\n"
   ]
  },
  {
   "cell_type": "code",
   "execution_count": 12,
   "id": "1d81cace",
   "metadata": {},
   "outputs": [],
   "source": [
    "#insertion sort\n",
    "\n",
    "def insertionSort(array):\n",
    "\n",
    "    for step in range(1, len(array)):\n",
    "        key = array[step]\n",
    "        j = step - 1\n",
    "        \n",
    "        # Compare key with each element on the left of it until an element smaller than it is found\n",
    "        # For descending order, change key<array[j] to key>array[j].        \n",
    "        while j >= 0 and key < array[j]:\n",
    "            array[j + 1] = array[j]\n",
    "            j = j - 1\n",
    "        \n",
    "        # Place key at after the element just smaller than it.\n",
    "        array[j + 1] = key\n"
   ]
  },
  {
   "cell_type": "code",
   "execution_count": 13,
   "id": "84ec7bd1",
   "metadata": {},
   "outputs": [],
   "source": [
    "#selection sort\n",
    "def selectionSort(array, size):\n",
    "    for step in range(size):\n",
    "        min_idx = step\n",
    "\n",
    "        for i in range(step + 1, size):\n",
    "         \n",
    "            # select the minimum element in each loop\n",
    "            if array[i] < array[min_idx]:\n",
    "                min_idx = i\n",
    "         \n",
    "        # put min at the correct position\n",
    "        (array[step], array[min_idx]) = (array[min_idx], array[step])\n"
   ]
  },
  {
   "cell_type": "code",
   "execution_count": 16,
   "id": "70efef3a",
   "metadata": {},
   "outputs": [
    {
     "name": "stdout",
     "output_type": "stream",
     "text": [
      "Running the different sorting algorithms\n",
      "\n",
      "Enter the size of the list :10\n",
      "67\n",
      "90\n",
      "67\n",
      "3490\n",
      "23\n",
      "85\n",
      "11\n",
      "24\n",
      "96\n",
      "35\n",
      "78\n",
      "Bubble Sort\n",
      "Sorted Array in Ascending Order:\n",
      "['11', '23', '24', '3490', '35', '67', '67', '78', '85', '90', '96']\n",
      "1679687927.056185\n",
      "Insertion Sort\n",
      "Sorted Array in Ascending Order:\n",
      "['11', '23', '24', '3490', '35', '67', '67', '78', '85', '90', '96']\n",
      "Selection Sort\n",
      "Sorted Array in Ascending Order:\n",
      "['11', '23', '24', '3490', '35', '67', '67', '78', '85', '90', '96']\n",
      "Comparing the time complexities \n",
      "\n",
      "Bubble Sort \t 0.0\n",
      "Insertion Sort \t 0.0\n",
      "Selection Sort \t 0.008375883102416992\n"
     ]
    }
   ],
   "source": [
    "import time\n",
    "\n",
    "listtosort=[]\n",
    "\n",
    "def readlist():\n",
    "    size = input(\"Enter the size of the list :\")\n",
    "    s = int(size)\n",
    "    for i in range(0,s+1):\n",
    "        element = input()\n",
    "        listtosort.append(element)\n",
    "        \n",
    "print (\"Running the different sorting algorithms\\n\")\n",
    "\n",
    "#reading the array values\n",
    "readlist()\n",
    "\n",
    "#Bubblesort\n",
    "print(\"Bubble Sort\")\n",
    "start_time = time.time()\n",
    "bubbleSort(listtosort)\n",
    "print('Sorted Array in Ascending Order:')\n",
    "print(listtosort)\n",
    "end_time=time.time()\n",
    "bubb_sort_time = end_time - start_time\n",
    "\n",
    "#insertion sort\n",
    "print(\"Insertion Sort\")\n",
    "start_time = time.time()\n",
    "insertionSort(listtosort)\n",
    "print('Sorted Array in Ascending Order:')\n",
    "print(listtosort)\n",
    "end_time=time.time()\n",
    "insert_sort_time = end_time - start_time\n",
    "\n",
    "#selection sort\n",
    "print(\"Selection Sort\")\n",
    "start_time = time.time()\n",
    "selectionSort(listtosort,2)\n",
    "print('Sorted Array in Ascending Order:')\n",
    "print(listtosort)\n",
    "end_time=time.time()\n",
    "selec_sort_time = end_time - start_time\n",
    "\n",
    "print(\"Comparing the time complexities \\n\")\n",
    "print(\"Bubble Sort \\t\",bubb_sort_time)\n",
    "print(\"Insertion Sort \\t\",insert_sort_time)\n",
    "print(\"Selection Sort \\t\",selec_sort_time)"
   ]
  },
  {
   "cell_type": "markdown",
   "id": "547e4897",
   "metadata": {},
   "source": [
    "## Functions"
   ]
  },
  {
   "cell_type": "code",
   "execution_count": null,
   "id": "0a1c98da",
   "metadata": {},
   "outputs": [],
   "source": [
    "#1. Write a function **factorial** of a given number"
   ]
  },
  {
   "cell_type": "code",
   "execution_count": 26,
   "id": "accfd674",
   "metadata": {},
   "outputs": [
    {
     "data": {
      "text/plain": [
       "720"
      ]
     },
     "execution_count": 26,
     "metadata": {},
     "output_type": "execute_result"
    }
   ],
   "source": [
    "def findfactorial(n):\n",
    "    \"\"\"\n",
    "    Finds the facotrial of a number.\n",
    "    arugment : n , numeric\n",
    "    returns factorial \n",
    "    \"\"\"\n",
    "    factorial = 1\n",
    "    for i in range(1,n+1):\n",
    "        factorial=factorial * i\n",
    "    return factorial\n",
    "\n",
    "findfactorial(6)"
   ]
  },
  {
   "cell_type": "code",
   "execution_count": 27,
   "id": "83c4b547",
   "metadata": {},
   "outputs": [
    {
     "name": "stdout",
     "output_type": "stream",
     "text": [
      "\n",
      "    Finds the facotrial of a number.\n",
      "    arugment : n , numeric\n",
      "    returns factorial \n",
      "    \n"
     ]
    }
   ],
   "source": [
    "print(findfactorial.__doc__)"
   ]
  },
  {
   "cell_type": "markdown",
   "id": "21eb9826",
   "metadata": {},
   "source": [
    "### Write a function that takes two arguments: activation_function name and value that returns the output of specific activation_function. Implement for sigmoid, binary step function, relu, leaky rely, tanh."
   ]
  },
  {
   "cell_type": "markdown",
   "id": "d8eba336",
   "metadata": {},
   "source": [
    "### Eg : activation_function('sigmoid',0) should return 0.5"
   ]
  },
  {
   "cell_type": "code",
   "execution_count": 17,
   "id": "fd878bc8",
   "metadata": {},
   "outputs": [
    {
     "data": {
      "text/plain": [
       "(1, 0)"
      ]
     },
     "execution_count": 17,
     "metadata": {},
     "output_type": "execute_result"
    }
   ],
   "source": [
    "#binary step function\n",
    "def binary_step(x):\n",
    "    \"\"\"\n",
    "    binary step activation function can be represented as\n",
    "    f(x) = 1, x>=0\n",
    "         = 0, x<0\"\"\"\n",
    "    if x<0:\n",
    "        return 0\n",
    "    else:\n",
    "        return 1\n",
    "binary_step(5), binary_step(-1)\n",
    "\n",
    "\n",
    "    "
   ]
  },
  {
   "cell_type": "code",
   "execution_count": 18,
   "id": "0afe240b",
   "metadata": {},
   "outputs": [
    {
     "data": {
      "text/plain": [
       "(16, -8)"
      ]
     },
     "execution_count": 18,
     "metadata": {},
     "output_type": "execute_result"
    }
   ],
   "source": [
    "#Linear function\n",
    "def linear_function(x):\n",
    "    \"\"\"f(x)=ax\n",
    "        variable a can be any constant value\"\"\"\n",
    "    #here let the value of a be 4\n",
    "    return 4*x\n",
    "linear_function(4), linear_function(-2)"
   ]
  },
  {
   "cell_type": "code",
   "execution_count": 20,
   "id": "12795b2e",
   "metadata": {},
   "outputs": [
    {
     "data": {
      "text/plain": [
       "(1, 0)"
      ]
     },
     "execution_count": 20,
     "metadata": {},
     "output_type": "execute_result"
    }
   ],
   "source": [
    "#sigmoid function\n",
    "import numpy as np\n",
    "def sigmoid_function(x):\n",
    "    \"\"\"Sigmoid transforms the values between the range 0 and 1\n",
    "    f(x) = 1/(1+e^-x)\"\"\"\n",
    "    z = (1/(1 + np.exp(-x)))\n",
    "    return round(z)\n",
    "sigmoid_function(7),sigmoid_function(-22)"
   ]
  },
  {
   "cell_type": "code",
   "execution_count": 21,
   "id": "4cf966c3",
   "metadata": {},
   "outputs": [
    {
     "data": {
      "text/plain": [
       "(0, -1)"
      ]
     },
     "execution_count": 21,
     "metadata": {},
     "output_type": "execute_result"
    }
   ],
   "source": [
    "#Tanh function\n",
    "def tanh_function(x):\n",
    "    \"\"\"The range of values in this is from -1 to 1.\n",
    "    tanh(x)=2sigmoid(2x)-1\"\"\"\n",
    "    z = (2/(1 + np.exp(-2*x))) -1\n",
    "    return round(z)\n",
    "tanh_function(0.5), tanh_function(-1)"
   ]
  },
  {
   "cell_type": "code",
   "execution_count": 22,
   "id": "c2fcfb29",
   "metadata": {},
   "outputs": [
    {
     "data": {
      "text/plain": [
       "(7, 0)"
      ]
     },
     "execution_count": 22,
     "metadata": {},
     "output_type": "execute_result"
    }
   ],
   "source": [
    "#ReLU function\n",
    "def relu_function(x):\n",
    "    \"\"\"f(x)=max(0,x)\n",
    "    For the negative input values, the result is zero\"\"\"\n",
    "    if x<0:\n",
    "        return 0\n",
    "    else:\n",
    "        return x\n",
    "    \n",
    "relu_function(7), relu_function(-7)"
   ]
  },
  {
   "cell_type": "code",
   "execution_count": 23,
   "id": "639254d8",
   "metadata": {},
   "outputs": [
    {
     "data": {
      "text/plain": [
       "(7, -0.07)"
      ]
     },
     "execution_count": 23,
     "metadata": {},
     "output_type": "execute_result"
    }
   ],
   "source": [
    "#Leaky ReLU\n",
    "    \n",
    "def leaky_relu_function(x):\n",
    "    \"\"\"\n",
    "    f(x)= 0.01x, x<0\n",
    "    =   x, x>=0\"\"\"\n",
    "    if x<0:\n",
    "        return 0.01*x\n",
    "    else:\n",
    "        return x\n",
    "leaky_relu_function(7), leaky_relu_function(-7)"
   ]
  },
  {
   "cell_type": "code",
   "execution_count": 37,
   "id": "88f4dd70",
   "metadata": {},
   "outputs": [],
   "source": [
    "def performactivation(activefnname,value):\n",
    "    if(activefnname == \"Binary Step\"):\n",
    "        res=binary_step(value)\n",
    "    elif(activefnname == \"Linear\"):\n",
    "        res=linear_function(value)\n",
    "    elif(activefnname == \"Sigmoid\"):\n",
    "        res=sigmoid_function(value)\n",
    "    elif(activefnname == \"Tanh\"):\n",
    "        res=tanh_function(value)\n",
    "    elif(activefnname == \"ReLU\"):\n",
    "        res=relu_function(value)\n",
    "    elif(activefnname == \"Leaky ReLU\"):\n",
    "        res=leaky_relu_function(value)\n",
    "    return res\n",
    "\n"
   ]
  },
  {
   "cell_type": "code",
   "execution_count": 38,
   "id": "b64dcd4b",
   "metadata": {},
   "outputs": [
    {
     "data": {
      "text/plain": [
       "1"
      ]
     },
     "execution_count": 38,
     "metadata": {},
     "output_type": "execute_result"
    }
   ],
   "source": [
    "performactivation(\"Sigmoid\",9)\n"
   ]
  },
  {
   "cell_type": "code",
   "execution_count": 39,
   "id": "fd4f3128",
   "metadata": {},
   "outputs": [
    {
     "data": {
      "text/plain": [
       "1"
      ]
     },
     "execution_count": 39,
     "metadata": {},
     "output_type": "execute_result"
    }
   ],
   "source": [
    "performactivation(\"Binary Step\",9)\n"
   ]
  },
  {
   "cell_type": "code",
   "execution_count": 44,
   "id": "cac5d0d0",
   "metadata": {},
   "outputs": [
    {
     "data": {
      "text/plain": [
       "0"
      ]
     },
     "execution_count": 44,
     "metadata": {},
     "output_type": "execute_result"
    }
   ],
   "source": [
    "performactivation(\"Tanh\",9)\n",
    "performactivation(\"Tanh\",0.5)"
   ]
  },
  {
   "cell_type": "code",
   "execution_count": 41,
   "id": "f7e70b38",
   "metadata": {},
   "outputs": [
    {
     "data": {
      "text/plain": [
       "9"
      ]
     },
     "execution_count": 41,
     "metadata": {},
     "output_type": "execute_result"
    }
   ],
   "source": [
    "performactivation(\"ReLU\",9)\n"
   ]
  },
  {
   "cell_type": "code",
   "execution_count": 43,
   "id": "62b9bb66",
   "metadata": {},
   "outputs": [
    {
     "data": {
      "text/plain": [
       "9"
      ]
     },
     "execution_count": 43,
     "metadata": {},
     "output_type": "execute_result"
    }
   ],
   "source": [
    "performactivation(\"Leaky ReLU\",9)\n"
   ]
  },
  {
   "cell_type": "markdown",
   "id": "2c8250a3",
   "metadata": {},
   "source": [
    "### Write a function that returns permutation. Permutation is the number of ways to arrange 'r' objects form a set of 'n' objects where order matters and the formula is\n",
    "P(n, r) = n! / (n - r)!. Use the factorial function from above exercise."
   ]
  },
  {
   "cell_type": "code",
   "execution_count": 50,
   "id": "ec88c5b1",
   "metadata": {},
   "outputs": [],
   "source": [
    "def findfactorial(n):\n",
    "    \"\"\"\n",
    "    Finds the facotrial of a number.\n",
    "    arugment : n , numeric\n",
    "    returns factorial \n",
    "    \"\"\"\n",
    "    factorial = 1\n",
    "    for i in range(1,n+1):\n",
    "        factorial=factorial * i\n",
    "    return factorial\n"
   ]
  },
  {
   "cell_type": "code",
   "execution_count": 51,
   "id": "513915ab",
   "metadata": {},
   "outputs": [],
   "source": [
    "def findPermutation(n,r):\n",
    "    \"\"\"Find Permuations of n, r\n",
    "    --the number of ways to arrange 'r' objects from a set of n objects \"\"\"\n",
    "    p = findfactorial(n) / findfactorial(n - r)\n",
    "    return p"
   ]
  },
  {
   "cell_type": "code",
   "execution_count": 55,
   "id": "fa64fecb",
   "metadata": {},
   "outputs": [
    {
     "data": {
      "text/plain": [
       "120.0"
      ]
     },
     "execution_count": 55,
     "metadata": {},
     "output_type": "execute_result"
    }
   ],
   "source": [
    "findPermutation(5,4)"
   ]
  },
  {
   "cell_type": "markdown",
   "id": "e7394ca1",
   "metadata": {},
   "source": [
    "### Write a function that takes three arguments. First arguments should determine whether to return permutation or combination or both. Make the first argument optional and default is both if nothing is passed while calling the function.The second argument is n, which is optional and default is 10. Finally the third argument is r, which is also optional and default is 5."
   ]
  },
  {
   "cell_type": "code",
   "execution_count": 71,
   "id": "3fec4e5e",
   "metadata": {},
   "outputs": [
    {
     "name": "stdout",
     "output_type": "stream",
     "text": [
      "[(1, 2), (1, 3), (2, 1), (2, 3), (3, 1), (3, 2)]\n"
     ]
    }
   ],
   "source": [
    "import itertools\n",
    "def myfunction(combpreference =\"permutation\", n=3,r=2):\n",
    "  if combpreference ==\"both\":\n",
    "    return\n",
    "    list(itertools.permutations(range(1,n+1),r))+list(itertools.combinations(range(1,n+1),r))\n",
    "  elif combpreference ==\"permutation\":\n",
    "    return list(itertools.permutations(range(1,n+1),r))\n",
    "  elif combpreference ==\"combinations\":\n",
    "    return list(itertools.combinations(range(1,n+1),r))\n",
    "  else:\n",
    "    return \"Invalid Argument\"\n",
    "\n",
    "print(myfunction())"
   ]
  },
  {
   "cell_type": "markdown",
   "id": "99360cdd",
   "metadata": {},
   "source": [
    "#### To accept any number of positional arguments we can use the * operator when defining this function"
   ]
  },
  {
   "cell_type": "code",
   "execution_count": 63,
   "id": "a24ba194",
   "metadata": {},
   "outputs": [
    {
     "name": "stdout",
     "output_type": "stream",
     "text": [
      "Hello Ahamed\n",
      "Hello Hilja\n",
      "Hello Primi\n"
     ]
    }
   ],
   "source": [
    "def greet(*names):\n",
    "    for name in names:\n",
    "        print(\"Hello\", name)\n",
    "        \n",
    "greet(\"Ahamed\",\"Hilja\",\"Primi\")"
   ]
  },
  {
   "cell_type": "code",
   "execution_count": 64,
   "id": "ea7e0cda",
   "metadata": {},
   "outputs": [
    {
     "name": "stdout",
     "output_type": "stream",
     "text": [
      "1 2 3\n"
     ]
    }
   ],
   "source": [
    "#mixing positional and keyword arguments\n",
    "def foo(a, b, c):\n",
    "    print(a, b, c)\n",
    "    \n",
    "foo(1, c=3, b=2)\n"
   ]
  },
  {
   "cell_type": "code",
   "execution_count": 72,
   "id": "596429f5",
   "metadata": {},
   "outputs": [
    {
     "name": "stdout",
     "output_type": "stream",
     "text": [
      "positional arguments are:(1, 2, 3)\n",
      "keyword arguments are:{'name': 'Manjusha', 'salary': 5000}\n"
     ]
    }
   ],
   "source": [
    "def func2(*args,**kwargs):\n",
    "  print(f\"positional arguments are:{args}\")# acess using args variable\n",
    "  print(f\"keyword arguments are:{kwargs}\")# acess using the kwargs variable\n",
    "func2(1,2,3 ,name =\"Manjusha\", salary= 5000)# function call"
   ]
  },
  {
   "cell_type": "markdown",
   "id": "63cbcd3d",
   "metadata": {},
   "source": [
    "### Understand scope of variables: LEGB Rule 1. Local to the function eg. variable defined in the function 2. Enclosing or nonlocal eg. variables defined in enclosing function in nested function 3. Global eg. variables defined within main program or module 4. Built-in eg. Python keywords"
   ]
  },
  {
   "cell_type": "markdown",
   "id": "da95990d",
   "metadata": {},
   "source": [
    "### LEGB rule\n",
    "The scopes are listed below in terms of hierarchy(highest to lowest/narrowest to broadest):\n",
    "\n",
    "Local(L): Defined inside function/class\n",
    "Enclosed(E): Defined inside enclosing functions(Nested function concept)\n",
    "Global(G): Defined at the uppermost level\n",
    "Built-in(B): Reserved names in Python builtin modules"
   ]
  },
  {
   "cell_type": "code",
   "execution_count": 59,
   "id": "7bb5ea2a",
   "metadata": {},
   "outputs": [
    {
     "name": "stdout",
     "output_type": "stream",
     "text": [
      "The inner variable\n",
      "20\n",
      "Enclosed variable value  30\n",
      "The global scope value :  10\n"
     ]
    }
   ],
   "source": [
    "\n",
    "number1 = 10\n",
    "\n",
    "def func1():\n",
    "    number1 = 20 #inner variable\n",
    "    print(number1) #prints the inner variable number1 value\n",
    "    def func2():\n",
    "        number1 = 30\n",
    "        print(\"Enclosed variable value \",number1 ) #prints the enclosed variable value\n",
    "    func2()\n",
    "    \n",
    "print(\"The inner variable\")\n",
    "func1()\n",
    "print(\"The global scope value : \",number1) #prints the Global variable number1"
   ]
  },
  {
   "cell_type": "code",
   "execution_count": 62,
   "id": "5568f19b",
   "metadata": {},
   "outputs": [
    {
     "name": "stdout",
     "output_type": "stream",
     "text": [
      "3.141592653589793\n",
      "built in scope\n"
     ]
    }
   ],
   "source": [
    "import math\n",
    "print(math.pi)\n",
    "print(\"built in scope\")"
   ]
  },
  {
   "cell_type": "code",
   "execution_count": null,
   "id": "b0230b28",
   "metadata": {},
   "outputs": [],
   "source": []
  }
 ],
 "metadata": {
  "kernelspec": {
   "display_name": "Python 3 (ipykernel)",
   "language": "python",
   "name": "python3"
  },
  "language_info": {
   "codemirror_mode": {
    "name": "ipython",
    "version": 3
   },
   "file_extension": ".py",
   "mimetype": "text/x-python",
   "name": "python",
   "nbconvert_exporter": "python",
   "pygments_lexer": "ipython3",
   "version": "3.10.2"
  }
 },
 "nbformat": 4,
 "nbformat_minor": 5
}
