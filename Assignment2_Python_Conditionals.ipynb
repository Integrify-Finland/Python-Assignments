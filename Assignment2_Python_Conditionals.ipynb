{
 "cells": [
  {
   "cell_type": "markdown",
   "id": "60b02a3a",
   "metadata": {},
   "source": [
    "Conditional\n",
    "Python Basics: Flow Control, Loops, Functions\n",
    "2Get the radius value as input and calculate the area of the circle. \n",
    "If the input is numeric, display the result otherwise display any other message.  "
   ]
  },
  {
   "cell_type": "code",
   "execution_count": 205,
   "id": "e0750bcd",
   "metadata": {},
   "outputs": [
    {
     "name": "stdout",
     "output_type": "stream",
     "text": [
      "radius of circle: =5\n",
      "Area of circle is : 78.53981633974483\n"
     ]
    }
   ],
   "source": [
    "import math\n",
    "\n",
    "radius = input('radius of circle: =')\n",
    "\n",
    "\n",
    "if radius.isnumeric():\n",
    "    area = math.pi*float(radius)**2\n",
    "    print(\"Area of circle is :\", area)\n",
    "else:\n",
    "    print('Invalid input,Please input number')"
   ]
  },
  {
   "cell_type": "markdown",
   "id": "632e91bf",
   "metadata": {},
   "source": [
    "If the user enters numeric value then asks user to for either perimeter or area calculation and display accordingly"
   ]
  },
  {
   "cell_type": "code",
   "execution_count": 207,
   "id": "ee4f6a06",
   "metadata": {},
   "outputs": [
    {
     "name": "stdout",
     "output_type": "stream",
     "text": [
      "radius of circle: = 7\n",
      "What do you like to claculate,please choose p for permimeter and a for area? p/a: p\n",
      "Perimeter of circle is:  43.982297150257104\n"
     ]
    }
   ],
   "source": [
    "\n",
    "radius = input('radius of circle: = ')\n",
    "if radius.isnumeric():\n",
    "    radius = float(radius)\n",
    "    ask_user = input(\"What do you like to claculate,please choose p for permimeter and a for area? p/a: \")\n",
    "    if ask_user == \"p\":\n",
    "        perimeter = 2*math.pi*radius\n",
    "        print('Perimeter of circle is: ',perimeter)\n",
    "    elif ask_user == \"a\":\n",
    "        area = math.pi*radius**2\n",
    "        print(\"Area of circle is : \", area)\n",
    "    else:\n",
    "        print('Please choose either a or p')\n",
    "else:\n",
    "    print ('Invalid input,Please input number')\n",
    "        "
   ]
  },
  {
   "cell_type": "code",
   "execution_count": 29,
   "id": "b7174239",
   "metadata": {},
   "outputs": [
    {
     "name": "stdout",
     "output_type": "stream",
     "text": [
      "{'Duy': ['Python', 'Database', 'ML'], 'Laxmi': ['Python', 'Database', 'ML'], 'Antonio': ['Python', 'Database', 'ML'], 'Maria': ['Python', 'Database']}\n"
     ]
    }
   ],
   "source": [
    "## 4\n",
    "students_profile= {'Duy': ['Python', 'Database', 'ML'], 'Laxmi': ['Python', 'Database', 'ML'],\n",
    "\n",
    "'Antonio': ['Python', 'Database', 'ML'],'Maria': ['Python', 'Database', 'ML']}\n",
    "\n",
    "###Check if there is a student named 'Maria' in students_profile dictionary. If exists remove 'ML' from her course\n",
    "\n",
    "if 'Maria' in students_profile:\n",
    "    students_profile['Maria'].remove('ML')\n",
    "print(students_profile)    "
   ]
  },
  {
   "cell_type": "markdown",
   "id": "cb43dc97",
   "metadata": {},
   "source": [
    "Take the input from the user as a substring. If that substring is present in string then display substring is present\n",
    "otherwise substring is not present"
   ]
  },
  {
   "cell_type": "code",
   "execution_count": 35,
   "id": "342a351f",
   "metadata": {},
   "outputs": [
    {
     "name": "stdout",
     "output_type": "stream",
     "text": [
      "Please input string here: Hello world how are you\n",
      "Please input substring here: HOW\n",
      "Subtring is present\n"
     ]
    }
   ],
   "source": [
    "string = input(\"Please input string here: \").lower()\n",
    "substring = input(\"Please input substring here: \").lower()\n",
    "\n",
    "if substring in string:\n",
    "    print(\"Subtring is present\")\n",
    "else:\n",
    "    print(\"Substring is not present\")"
   ]
  },
  {
   "cell_type": "markdown",
   "id": "1c6309b6",
   "metadata": {},
   "source": [
    "Distance Metrics are important to calculate the similarity between the vectors. \n",
    "They are used in both supervised and unsupervised machine learning problems. \n",
    "Given the points (1,2,3) and (4,5,6), write a python conditional statement to print the distance for \n",
    "the order 1,2,3,4. If the order is 1 then it is L1 norm(Manhattan distance), order 2 is L2 norm(Euclidean distance) \n",
    "and the generalized distance is given by Minkowski equation."
   ]
  },
  {
   "cell_type": "code",
   "execution_count": 9,
   "id": "205ce724",
   "metadata": {},
   "outputs": [
    {
     "name": "stdout",
     "output_type": "stream",
     "text": [
      "L1 Norm is: 9\n",
      "Order 1: Distance =  9.000\n",
      "Order 2: Distance =  5.196\n",
      "Order 3: Distance =  4.327\n"
     ]
    }
   ],
   "source": [
    "\n",
    "\n",
    "import math\n",
    "import numpy as np\n",
    "\n",
    "point1 = (1,2,3)\n",
    "point2 = (4,5,6)\n",
    "order = [1,2,3,4]\n",
    "\n",
    "#print(\"L1 Norm is:\",np.sum(np.abs(np.array(point1)-np.array(point2))))\n",
    "    \n",
    "\n",
    "def distance(point1,point2,order):\n",
    "    \n",
    "    if order == 1:\n",
    "        \n",
    "        # L1 norm(Manhattan distance)\"\n",
    "           return(sum(abs(x-y) for  x, y in zip(point1, point2)))\n",
    "       \n",
    "    if order == 2:\n",
    "        # L2 norm(Euclidean distance)\n",
    "          return  math.sqrt(sum((x-y)**2 for x, y in zip(point1, point2)))\n",
    "        \n",
    "    if order == 3:\n",
    "        # distance is Minkowski equation\n",
    "        return math.pow(sum(abs(x - y) ** order for x, y in zip(point1, point2)), 1.0 / order)\n",
    "\n",
    "for order in [1,2,3]:\n",
    "        print(\"Order {}: Distance =  {:.3f}\".format(order, distance(point1, point2, order)))\n"
   ]
  },
  {
   "cell_type": "code",
   "execution_count": 10,
   "id": "209ad885",
   "metadata": {},
   "outputs": [
    {
     "name": "stdout",
     "output_type": "stream",
     "text": [
      "Enter a number: 5\n",
      "Multiplication table for  5\n",
      "5 x 1 = 5\n",
      "5 x 2 = 10\n",
      "5 x 3 = 15\n",
      "5 x 4 = 20\n",
      "5 x 5 = 25\n",
      "5 x 6 = 30\n",
      "5 x 7 = 35\n",
      "5 x 8 = 40\n",
      "5 x 9 = 45\n",
      "5 x 10 = 50\n",
      "5 x 1 = 5\n",
      "5 x 2 = 10\n",
      "5 x 3 = 15\n",
      "5 x 4 = 20\n",
      "5 x 5 = 25\n",
      "5 x 6 = 30\n",
      "5 x 7 = 35\n",
      "5 x 8 = 40\n",
      "5 x 9 = 45\n",
      "5 x 10 = 50\n"
     ]
    }
   ],
   "source": [
    "###LOOP\n",
    "\n",
    "##Write a multiplication table for any given number using both for and while loop\n",
    "\n",
    "num = int(input(\"Enter a number: \"))\n",
    "print('Multiplication table for ', num)\n",
    "\n",
    " # using for loop\n",
    "for i in range(1, 11):\n",
    "    print (num, \"x\", i, \"=\", num*i)\n",
    "    \n",
    "# using while loop\n",
    "i = 1\n",
    "while i <=10:\n",
    "    print(num, \"x\", i, \"=\", num*i)\n",
    "    i += 1\n"
   ]
  },
  {
   "cell_type": "code",
   "execution_count": 14,
   "id": "92b25e58",
   "metadata": {},
   "outputs": [
    {
     "name": "stdout",
     "output_type": "stream",
     "text": [
      " TTAGGCTTTTAAGCCCTTAAAAGCGCA\n"
     ]
    }
   ],
   "source": [
    "###DNA is coded using 4 nitrogen bases with the symbols A,T,G,C. Given the template string \n",
    "##dna_template='AATCCGAAAATTCGGGAATTTTCGCGT' , generate the complementary dna template with the mapping\n",
    "##mapper={\"T\":\"A\",\"A\":\"T\",\"G\":\"C\",\"C\":\"G\"}\n",
    "\n",
    "dna_template='AATCCGAAAATTCGGGAATTTTCGCGT'\n",
    "mapper={\"T\":\"A\",\"A\":\"T\",\"G\":\"C\",\"C\":\"G\"}\n",
    "\n",
    "complementary_dna = \" \"\n",
    "for base in dna_template:\n",
    "    complementary_dna += mapper[base]\n",
    "\n",
    "print(complementary_dna)"
   ]
  },
  {
   "cell_type": "code",
   "execution_count": 1,
   "id": "4bbace10",
   "metadata": {},
   "outputs": [
    {
     "name": "stdout",
     "output_type": "stream",
     "text": [
      "f_series: [0, 1, 1]\n",
      "f_series: [0, 1, 1, 2]\n",
      "f_series: [0, 1, 1, 2, 3]\n",
      "f_series: [0, 1, 1, 2, 3, 5]\n",
      "f_series: [0, 1, 1, 2, 3, 5, 8]\n",
      "f_series: [0, 1, 1, 2, 3, 5, 8, 13]\n",
      "f_series: [0, 1, 1, 2, 3, 5, 8, 13, 21]\n",
      "f_series: [0, 1, 1, 2, 3, 5, 8, 13, 21, 34]\n",
      "f_series: [0, 1, 1, 2, 3, 5, 8, 13, 21, 34, 55]\n",
      "f_series: [0, 1, 1, 2, 3, 5, 8, 13, 21, 34, 55, 89]\n",
      "f_series: [0, 1, 1, 2, 3, 5, 8, 13, 21, 34, 55, 89, 144]\n"
     ]
    }
   ],
   "source": [
    "##Generate the list f_series : x=[0,1,1,2,3,5,8,13,21,34,55,89,144]. Looks Familiar? This is Fibonacci series where x[0]=0,x[1]=1,\n",
    "#and x[n]=x[n-1]+x[n-2] for n>1\n",
    "\n",
    "x = [0,1] # first two item of series\n",
    "\n",
    "# generate Fibonacci\n",
    "for n in range(2, 13):\n",
    "    x.append(x[n-1]+x[n-2])\n",
    "    \n",
    "    print('f_series:',x)\n"
   ]
  },
  {
   "cell_type": "code",
   "execution_count": 55,
   "id": "79b4add8",
   "metadata": {},
   "outputs": [],
   "source": [
    "##Generate a list of n numbers of prime numbers\n",
    "\n",
    "# to check if a number is prime\n",
    "import math\n",
    "def is_prime(n):\n",
    "    for i in range(2,int(math.sqrt(n))+1):\n",
    "        if (n%i) == 0:\n",
    "            return False\n",
    "    else:\n",
    "        return True\n",
    "    \n",
    "  # generate list of n prime numbers\n",
    "def generate_prime(n):\n",
    "    primes = []\n",
    "    i = 2\n",
    "    while len(primes) < n:\n",
    "        if is_prime(i):\n",
    "            primes.append(i)\n",
    "        i += 1\n",
    "    return primes   "
   ]
  },
  {
   "cell_type": "code",
   "execution_count": 13,
   "id": "590b9e50",
   "metadata": {},
   "outputs": [
    {
     "name": "stdout",
     "output_type": "stream",
     "text": [
      "data1 scaled to [0,1]:  [0.0, 0.17582417582417584, 0.12087912087912088, 0.15384615384615385, 0.31868131868131866, 0.6483516483516484, 0.5164835164835165, 0.5494505494505495, 0.967032967032967, 1.0, 0.5824175824175825, 0.07692307692307693]\n",
      "data2 scaled to [-1,1]:  [-0.2962962962962963, 0.2592592592592593, 0.14814814814814814, 0.4444444444444444, 1.0, -1.0, 0.37037037037037046, 0.7407407407407407, -0.14814814814814814, 0.6666666666666667, 0.2962962962962963, 0.11111111111111116]\n"
     ]
    }
   ],
   "source": [
    "\n",
    "# data1\n",
    "data1 = [1,17,12,15,30,60,48,51,89,92,54,8]\n",
    "X_min1 = min(data1)\n",
    "X_max1 = max(data1)\n",
    "\n",
    "data1_scaled = [(x - X_min1) / (X_max1 - X_min1) for x in data1]\n",
    "\n",
    "\n",
    "# data2\n",
    "data2 = [-13,2,-1,7,22,-32,5,15,-9,13,3,-2]\n",
    "X_min2 = min(data2)\n",
    "X_max2 = max(data2)\n",
    "data2_scaled = [2 * (x - X_min2) / (X_max2 - X_min2) - 1 for x in data2]\n",
    "\n",
    "print(\"data1 scaled to [0,1]: \", data1_scaled)\n",
    "print(\"data2 scaled to [-1,1]: \", data2_scaled)\n"
   ]
  },
  {
   "cell_type": "code",
   "execution_count": 48,
   "id": "7e057b45",
   "metadata": {},
   "outputs": [
    {
     "name": "stdout",
     "output_type": "stream",
     "text": [
      "Bubble Sort Time: 0.28381967544555664\n",
      "Selection Sort Time: 0.12592625617980957\n",
      "Insertion Sort Time: 0.00099945068359375\n"
     ]
    }
   ],
   "source": [
    "###Understand how sorting algorithms work(bubble,selection,insertion). Implement them of your own. \n",
    "##Also compare time complexities.\n",
    "\n",
    "import random\n",
    "import time\n",
    "\n",
    "# for example\n",
    "arr = [random.randint(1, 1000) for i in range(1000)]\n",
    "\n",
    "# Bubble Sort\n",
    "start_time = time.time()\n",
    "n = len(arr)\n",
    "for i in range(n):\n",
    "    for j in range(n - i - 1):\n",
    "        if arr[j] > arr[j + 1]:\n",
    "            arr[j], arr[j + 1] = arr[j + 1], arr[j]       \n",
    "end_time = time.time()\n",
    "print(\"Bubble Sort Time:\", end_time - start_time)\n",
    "\n",
    "# Selection Sort\n",
    "start_time = time.time()\n",
    "n = len(arr)\n",
    "for i in range(n):\n",
    "    min_idx = i\n",
    "    for j in range(i+1, n):\n",
    "        if arr[j] < arr[min_idx]:\n",
    "            min_idx = j\n",
    "    arr[i], arr[min_idx] = arr[min_idx], arr[i]\n",
    "end_time = time.time()\n",
    "print(\"Selection Sort Time:\", end_time - start_time)\n",
    "\n",
    "# Insertion Sort\n",
    "start_time = time.time()\n",
    "n = len(arr)\n",
    "for i in range(1, n):\n",
    "    key = arr[i]\n",
    "    j = i - 1\n",
    "    while j >= 0 and key < arr[j]:\n",
    "        arr[j+1] = arr[j]\n",
    "        j -= 1\n",
    "    arr[j+1] = key\n",
    "end_time = time.time()\n",
    "print(\"Insertion Sort Time:\", end_time - start_time)\n"
   ]
  },
  {
   "cell_type": "code",
   "execution_count": 63,
   "id": "f58b6384",
   "metadata": {},
   "outputs": [
    {
     "name": "stdout",
     "output_type": "stream",
     "text": [
      "My_average Doc string : \n",
      "    finds the average of the given numbers\n",
      "    \n",
      "    lst is list of numbers\n",
      "    \n",
      "    \n",
      "My Add Doc String:  \n",
      "    adds the number and returns its sum\n",
      "    \n"
     ]
    }
   ],
   "source": [
    "##Functions: For each of the functions you create, write the docstrings as well. \n",
    "#Docstring is important to get information about a particular function. Docstring is string literals that should be present right after function definition within triple quotations. One can get information about a function as\n",
    "#an example by running myfunction .__doc__\n",
    "\n",
    "## example\n",
    "def my_add(a,b):\n",
    "    \n",
    "    '''\n",
    "    adds the number and returns its sum\n",
    "    '''\n",
    "    return(a+b)\n",
    "\n",
    "\n",
    "def my_average(lst):\n",
    "    \n",
    "    '''\n",
    "    finds the average of the given numbers\n",
    "    \n",
    "    lst is list of numbers\n",
    "    \n",
    "    '''\n",
    "    if len(lst)==0:\n",
    "        return 0\n",
    "    else:\n",
    "        return sum(lst)/len(lst)\n",
    "print(\"My_average Doc string :\" ,my_average.__doc__)\n",
    "print(\"My_Add Doc String: \",my_add.__doc__)\n"
   ]
  },
  {
   "cell_type": "code",
   "execution_count": 83,
   "id": "7604d6b9",
   "metadata": {},
   "outputs": [
    {
     "name": "stdout",
     "output_type": "stream",
     "text": [
      "Factorial of 7 is  : 5040\n"
     ]
    }
   ],
   "source": [
    "##Write a function factorial of a given number\n",
    "\n",
    "def my_factorial(n):\n",
    "    \n",
    "    '''\n",
    "    n is the number of integer to calcualte factorial of\n",
    "    \n",
    "    '''\n",
    "    if n < 0:\n",
    "        return None # Factorial is not defined for neagative number\n",
    "    elif n == 0:\n",
    "        return 1 # Factoril of 0 is 1\n",
    "    else:\n",
    "        result = 1\n",
    "        for i in range (1,n+1):\n",
    "            result *=i\n",
    "    return result\n",
    "\n",
    "print(\"Factorial of 7 is  :\" ,my_factorial(7))"
   ]
  },
  {
   "cell_type": "code",
   "execution_count": 93,
   "id": "eed85e66",
   "metadata": {},
   "outputs": [
    {
     "name": "stdout",
     "output_type": "stream",
     "text": [
      "Activation_function for sigmoid at avlue 0 is 0.5\n",
      "Activation_function for binary_step is 1\n",
      "Activation_function for 2\n",
      "Activation_function for 0.9640275800758169\n"
     ]
    }
   ],
   "source": [
    "##Write a function that takes two arguments: activation_function name and value that returns the output of specific activation_function. \n",
    "##Implement for sigmoid, binary step function, relu, leaky rely, tanh.\n",
    "\n",
    "import numpy as np\n",
    "\n",
    "def activation_function(name, x):\n",
    "    \"\"\"\n",
    "    Compute the output of a specified activation function for a given input value.\n",
    "\n",
    "    Parameters:\n",
    "    name (str): The name of the activation function. Possible values: 'sigmoid', 'binary_step', 'relu', 'leaky_relu', 'tanh'.\n",
    "    x (float): The input value.\n",
    "\n",
    "    Returns:\n",
    "    float: The output of the specified activation function for the input value.\n",
    "    \"\"\"\n",
    "    if name == 'sigmoid':\n",
    "        return 1 / (1 + np.exp(-x))\n",
    "    elif name == 'binary_step':\n",
    "        return 1 if x >= 0 else 0\n",
    "    elif name == 'relu':\n",
    "        return max(0, x)\n",
    "    elif name == 'leaky_relu':\n",
    "        return max(0.1 * x, x)\n",
    "    elif name == 'tanh':\n",
    "        return np.tanh(x)\n",
    "    else:\n",
    "        raise ValueError('Invalid activation function name')\n",
    "\n",
    "print(\"Activation_function for sigmoid at avlue 0 is\", activation_function('sigmoid', 0))\n",
    "print(\"Activation_function for binary_step is\",activation_function('binary_step', 2))        \n",
    "print(\"Activation_function for\",activation_function('relu', 2))\n",
    "print(\"Activation_function for\",activation_function('tanh', 2))"
   ]
  },
  {
   "cell_type": "code",
   "execution_count": 132,
   "id": "aea611d7",
   "metadata": {},
   "outputs": [
    {
     "data": {
      "text/plain": [
       "77519922480.0"
      ]
     },
     "execution_count": 132,
     "metadata": {},
     "output_type": "execute_result"
    }
   ],
   "source": [
    "#Write a function that returns permutation. Permutation is the number of ways to arrange 'r' objects form a set of 'n' objects where order matters and the formula is\n",
    "#P(n, r) = n! / (n - r)!. Use the factorial function from above exercise.\n",
    "\n",
    "def my_permutation(n,r):\n",
    "    ##return my_factorial(n)/my_factorial(n-r)\n",
    "    def ftrl(n):\n",
    "        if n < 0:\n",
    "            return None\n",
    "        elif n == 0:\n",
    "            return 1\n",
    "        \n",
    "        else:\n",
    "            result = 1\n",
    "            for i in range(1,n+1):\n",
    "                result *= i\n",
    "            return result\n",
    "    return ftrl(n)/ftrl(n-r)        \n",
    "            \n",
    "  ###EG\n",
    "my_permutation(39,7)"
   ]
  },
  {
   "cell_type": "code",
   "execution_count": 150,
   "id": "de337a50",
   "metadata": {},
   "outputs": [],
   "source": [
    "##Write a function that takes three arguments. First arguments should determine whether to return permutation or combination or\n",
    "##both. Make the first argument optional and default is both if nothing is passed while calling the function.The second\n",
    "##argument is n, which is optional and default is 10. Finally the third argument is r, which is also optional and default is 5.\n",
    "\n",
    "import itertools\n",
    "\n",
    "def permutation_combination(option = 'both',n=10,r=5):\n",
    "    \n",
    "    '''\n",
    "    Options are either Permutation Or Combination , default is both\n",
    "    n is int, which is optional and default value is 10\n",
    "    r is int, which is optional and default value is 5    \n",
    "    '''\n",
    "    if option == 'permutation':\n",
    "        \n",
    "        return list(itertools.permutations(range(1, n+1), r))\n",
    "    \n",
    "    elif option == 'combination':\n",
    "        \n",
    "        return list(itertools.combinations(range(1, n+1), r))\n",
    "        \n",
    "    elif option == 'both':\n",
    "        \n",
    "        return  list(itertools.permutations(range(1, n+1), r)), list(itertools.combinations(range(1, n+1), r))\n",
    "        \n",
    "    else:\n",
    "        \n",
    "         raise ValueError('Invalid Option specified')\n",
    "            \n",
    "    \n",
    "    ##example\n"
   ]
  },
  {
   "cell_type": "code",
   "execution_count": 202,
   "id": "d2c9be51",
   "metadata": {},
   "outputs": [],
   "source": [
    "##Implement a function that takes any number of positional and keyword arguments.\n",
    "\n",
    "def my_function(*args, **kwargs):\n",
    "    \n",
    "    '''\n",
    "    A function that takes any number of positional and keyword arguments.\n",
    "    '''\n",
    "    print(\"Positional Arguments: \")\n",
    "    for arg in args:\n",
    "          \n",
    "        print(arg)\n",
    "        \n",
    "        \n",
    "    print(\"\\nKeyword Arguments\")\n",
    "    for key, value in kwargs.items():\n",
    "        \n",
    "        print(key, ':',value)\n",
    "        "
   ]
  },
  {
   "cell_type": "code",
   "execution_count": 203,
   "id": "928aadda",
   "metadata": {},
   "outputs": [
    {
     "name": "stdout",
     "output_type": "stream",
     "text": [
      "Positional Arguments: \n",
      "hello\n",
      "world\n",
      "123\n",
      "\n",
      "Keyword Arguments\n",
      "foo : bar\n",
      "baz : True\n"
     ]
    }
   ],
   "source": [
    "my_function(\"hello\", \"world\", 123, foo=\"bar\", baz=True)\n"
   ]
  },
  {
   "cell_type": "code",
   "execution_count": 204,
   "id": "3b609f18",
   "metadata": {},
   "outputs": [
    {
     "name": "stdout",
     "output_type": "stream",
     "text": [
      "outer(): x = 10\n",
      "inner(): x = 10\n",
      "inner(): y = 20\n",
      "inner(): z = 30\n"
     ]
    }
   ],
   "source": [
    "##Understand scope of variables: LEGB Rule 1. Local to the function eg. variable defined in the function 2. Enclosing or nonlocal eg. variables defined in enclosing function in nested function \n",
    "#3. Global eg. variables defined within main program or module 4. Built-in eg. Python keywords\n",
    "\n",
    "## Example\n",
    "x = 10       # Global variable\n",
    "\n",
    "def outer():\n",
    "    y = 20   # Enclosing variable\n",
    "    \n",
    "    def inner():\n",
    "        z = 30   # Local variable\n",
    "        \n",
    "        print(\"inner(): x =\", x)    # Accesses global variable\n",
    "        print(\"inner(): y =\", y)    # Accesses enclosing variable\n",
    "        print(\"inner(): z =\", z)    # Accesses local variable\n",
    "    \n",
    "    inner()\n",
    "\n",
    "print(\"outer(): x =\", x)    # Accesses global variable\n",
    "outer()\n",
    "## Built in example print(), len() etc"
   ]
  },
  {
   "cell_type": "code",
   "execution_count": null,
   "id": "bbb547b1",
   "metadata": {},
   "outputs": [],
   "source": []
  }
 ],
 "metadata": {
  "kernelspec": {
   "display_name": "Python 3 (ipykernel)",
   "language": "python",
   "name": "python3"
  },
  "language_info": {
   "codemirror_mode": {
    "name": "ipython",
    "version": 3
   },
   "file_extension": ".py",
   "mimetype": "text/x-python",
   "name": "python",
   "nbconvert_exporter": "python",
   "pygments_lexer": "ipython3",
   "version": "3.9.13"
  }
 },
 "nbformat": 4,
 "nbformat_minor": 5
}
