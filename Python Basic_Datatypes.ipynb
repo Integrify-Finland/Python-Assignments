{
 "cells": [
  {
   "cell_type": "markdown",
   "id": "b96167f8",
   "metadata": {},
   "source": [
    "# Python Basics: Datatypes\n"
   ]
  },
  {
   "cell_type": "code",
   "execution_count": null,
   "id": "576fb302",
   "metadata": {},
   "outputs": [],
   "source": [
    "# 1. Use the constructor methods to create different data types in python . Also use object literals to create those data types."
   ]
  },
  {
   "cell_type": "code",
   "execution_count": 204,
   "id": "8e23e680",
   "metadata": {},
   "outputs": [
    {
     "name": "stdout",
     "output_type": "stream",
     "text": [
      "10\n",
      "10\n",
      "3.14\n",
      "3.14\n",
      "Many hands make  light work \n",
      "Good Luck!\n",
      "[10, 20, 30, 40]\n",
      "[10, 20, 30, 40]\n",
      "('apple', 'banana', 'cherry')\n",
      "('apple', 'banana', 'cherry')\n",
      "{'Student': 'Primi', 'RollNo': 25, 'Stream': 'CS'}\n",
      "{'Student': 'Primi', 'RollNo': 25, 'Stream': 'CS'}\n",
      "{1, 2, 3, 4}\n",
      "{1, 3, 5, 7, 9}\n"
     ]
    }
   ],
   "source": [
    "#  using constructor method --- Integer\n",
    "a = int(10)\n",
    "print(a)\n",
    "\n",
    "#  using object literal ---- Integer\n",
    "b = 10\n",
    "print(a)\n",
    "\n",
    "#  using constructor method ---- Float\n",
    "c = float(3.14)\n",
    "print(c)\n",
    "\n",
    "#  using object literal ---- Float\n",
    "d = 3.14\n",
    "print(d)\n",
    "\n",
    "#  using constructor method ---- String\n",
    "e = str(\"Many hands make  light work \")\n",
    "print(e)\n",
    "\n",
    "#  using object literal ---- String\n",
    "f = 'Good Luck!'\n",
    "print(f)\n",
    "\n",
    "# using constructor method --- List\n",
    "g = list([10, 20, 30, 40])\n",
    "print(g)\n",
    "\n",
    "# using object literal ---- List\n",
    "h = [50, 60, 70, 80]\n",
    "print(g)\n",
    "\n",
    "# using constructor method --- Tuple\n",
    "i = tuple(('apple', 'banana', 'cherry'))\n",
    "print(i)\n",
    "\n",
    "# using object literal --- Tuple\n",
    "j = ('apple', 'banana', 'cherry')\n",
    "print(j)\n",
    "\n",
    "# using constructor method --- dictionary\n",
    "k = dict(Student='Primi', RollNo=25, Stream='CS')\n",
    "print(k)\n",
    "\n",
    "# using object literal --- dictionary\n",
    "l = {'Student': 'Primi', 'RollNo': 25, 'Stream': 'CS'}\n",
    "print(k)\n",
    "\n",
    "# using constructor method --- set\n",
    "m = set([1, 2, 3, 4])\n",
    "print(m)\n",
    "\n",
    "# using object literal --- set\n",
    "n = {1, 3, 7, 5, 9}\n",
    "print(n)\n"
   ]
  },
  {
   "cell_type": "code",
   "execution_count": 199,
   "id": "683efa05",
   "metadata": {},
   "outputs": [
    {
     "name": "stdout",
     "output_type": "stream",
     "text": [
      "x+y= 35\n",
      "x-y= -15\n",
      "x*y= 250\n",
      "x/y= 0.4\n",
      "x%y= 10\n",
      "x//y= 0\n",
      "x**y= 10000000000000000000000000\n",
      "x == y False\n",
      "x != y= True\n",
      "x > y False\n",
      "x < y True\n",
      "x >= y False\n",
      "x <= y True\n",
      "x= 10\n",
      "x+= 13\n",
      "x-= 5\n",
      "x*= 20\n",
      "x/= 5.0\n",
      "x%= 10\n",
      "x//= 0\n",
      "x**= 100\n",
      "False\n",
      "True\n",
      "True\n",
      "False\n",
      "True\n",
      "True\n",
      "False\n",
      "8\n",
      "27\n",
      "8\n",
      "-11\n",
      "335544320\n",
      "0\n"
     ]
    }
   ],
   "source": [
    "# create two operands x and y \n",
    "x = 10\n",
    "y = 25\n",
    " # perfroming some arithematic operation\n",
    "    \n",
    "print(\"x+y=\",x+y) # + operator\n",
    "print(\"x-y=\",x-y) # - operator\n",
    "print(\"x*y=\",x*y) # * Operator\n",
    "print(\"x/y=\",x/y) # / operator\n",
    "print(\"x%y=\",x%y) # % operator\n",
    "print(\"x//y=\",x//y) # // operator\n",
    "print(\"x**y=\",x**y) # exponentation\n",
    "\n",
    "#Performing Comparison opertions\n",
    "\n",
    "print(\"x == y\",x==y) # == operator\n",
    "print(\"x != y=\",x!=y) # != operator\n",
    "print(\"x > y\",x>y) # > operator\n",
    "print(\"x < y\", x<y) # < operator\n",
    "print(\"x >= y\",x >= y) # >= operator\n",
    "print(\"x <= y\",x <= y) # <= operator\n",
    "\n",
    "#Performing Assignment opertions\n",
    "print(\"x=\",x) # = operator\n",
    "x=10\n",
    "x+=3\n",
    "print(\"x+=\",x) # += operator\n",
    "x=10\n",
    "x-= 5\n",
    "print(\"x-=\",x) # -= operator\n",
    "x=10\n",
    "x*=2\n",
    "print(\"x*=\",x) # *= operator\n",
    "x=10\n",
    "x/=2\n",
    "print(\"x/=\",x) # /= operator\n",
    "x=10\n",
    "x%= 100\n",
    "print(\"x%=\",x) # %= operator\n",
    "x=10\n",
    "x//=1000\n",
    "print(\"x//=\",x)# //= operator\n",
    "x=10\n",
    "x**=2\n",
    "print(\"x**=\",x) # **= operator\n",
    "\n",
    "#performing Logical Operators\n",
    "print(x<20 and x<15) # and operator\n",
    "print(x>20 or x<15) # or operator\n",
    "print(not(x<20 and x<15)) # not operator\n",
    "\n",
    "#performing Identity and Membership Operators\n",
    "a,b = 'Primi',25\n",
    "print(a is b) # is operator\n",
    "print( a is not b) # is not operator\n",
    " #Memebership Operators\n",
    "c,d = 'Pretty','Pretty Flower'\n",
    "print(c in d) # in operator\n",
    "print(c not in d) # not in operator\n",
    "\n",
    "# Performing Bitwise operator\n",
    "print(10 & 25) # & Operator\n",
    "print(10 | 25) # | Operator\n",
    "print(10^2) #^ Operator\n",
    "print(~10) # ~ Operator\n",
    "print(10 << 25) # << Operator\n",
    "print(10 >> 25) # >> Operator\n",
    "\n",
    "\n",
    "\n",
    "\n",
    "\n",
    "\n",
    "\n",
    "\n",
    "\n",
    "\n",
    "\n"
   ]
  },
  {
   "cell_type": "code",
   "execution_count": 207,
   "id": "623cf502",
   "metadata": {},
   "outputs": [
    {
     "name": "stdout",
     "output_type": "stream",
     "text": [
      "Magic methods and attributes of integer:\n",
      "['__abs__', '__add__', '__and__', '__bool__', '__ceil__', '__class__', '__delattr__', '__dir__', '__divmod__', '__doc__', '__eq__', '__float__', '__floor__', '__floordiv__', '__format__', '__ge__', '__getattribute__', '__getnewargs__', '__gt__', '__hash__', '__index__', '__init__', '__init_subclass__', '__int__', '__invert__', '__le__', '__lshift__', '__lt__', '__mod__', '__mul__', '__ne__', '__neg__', '__new__', '__or__', '__pos__', '__pow__', '__radd__', '__rand__', '__rdivmod__', '__reduce__', '__reduce_ex__', '__repr__', '__rfloordiv__', '__rlshift__', '__rmod__', '__rmul__', '__ror__', '__round__', '__rpow__', '__rrshift__', '__rshift__', '__rsub__', '__rtruediv__', '__rxor__', '__setattr__', '__sizeof__', '__str__', '__sub__', '__subclasshook__', '__truediv__', '__trunc__', '__xor__', 'as_integer_ratio', 'bit_length', 'conjugate', 'denominator', 'from_bytes', 'imag', 'numerator', 'real', 'to_bytes']\n",
      "15\n",
      "True\n",
      "<class 'int'>\n",
      "Magic methods and attributes of float:\n",
      "['__abs__', '__add__', '__bool__', '__ceil__', '__class__', '__delattr__', '__dir__', '__divmod__', '__doc__', '__eq__', '__float__', '__floor__', '__floordiv__', '__format__', '__ge__', '__getattribute__', '__getformat__', '__getnewargs__', '__gt__', '__hash__', '__init__', '__init_subclass__', '__int__', '__le__', '__lt__', '__mod__', '__mul__', '__ne__', '__neg__', '__new__', '__pos__', '__pow__', '__radd__', '__rdivmod__', '__reduce__', '__reduce_ex__', '__repr__', '__rfloordiv__', '__rmod__', '__rmul__', '__round__', '__rpow__', '__rsub__', '__rtruediv__', '__setattr__', '__setformat__', '__sizeof__', '__str__', '__sub__', '__subclasshook__', '__truediv__', '__trunc__', 'as_integer_ratio', 'conjugate', 'fromhex', 'hex', 'imag', 'is_integer', 'real']\n",
      "3\n",
      "True\n",
      "<class 'float'>\n",
      "Magic methods and attributes of string:\n",
      "['__add__', '__class__', '__contains__', '__delattr__', '__dir__', '__doc__', '__eq__', '__format__', '__ge__', '__getattribute__', '__getitem__', '__getnewargs__', '__gt__', '__hash__', '__init__', '__init_subclass__', '__iter__', '__le__', '__len__', '__lt__', '__mod__', '__mul__', '__ne__', '__new__', '__reduce__', '__reduce_ex__', '__repr__', '__rmod__', '__rmul__', '__setattr__', '__sizeof__', '__str__', '__subclasshook__', 'capitalize', 'casefold', 'center', 'count', 'encode', 'endswith', 'expandtabs', 'find', 'format', 'format_map', 'index', 'isalnum', 'isalpha', 'isascii', 'isdecimal', 'isdigit', 'isidentifier', 'islower', 'isnumeric', 'isprintable', 'isspace', 'istitle', 'isupper', 'join', 'ljust', 'lower', 'lstrip', 'maketrans', 'partition', 'removeprefix', 'removesuffix', 'replace', 'rfind', 'rindex', 'rjust', 'rpartition', 'rsplit', 'rstrip', 'split', 'splitlines', 'startswith', 'strip', 'swapcase', 'title', 'translate', 'upper', 'zfill']\n",
      "many hands make  light work\n",
      "True\n",
      "<class 'str'>\n",
      "Magic methods and attributes of boolean:\n",
      "['__abs__', '__add__', '__and__', '__bool__', '__ceil__', '__class__', '__delattr__', '__dir__', '__divmod__', '__doc__', '__eq__', '__float__', '__floor__', '__floordiv__', '__format__', '__ge__', '__getattribute__', '__getnewargs__', '__gt__', '__hash__', '__index__', '__init__', '__init_subclass__', '__int__', '__invert__', '__le__', '__lshift__', '__lt__', '__mod__', '__mul__', '__ne__', '__neg__', '__new__', '__or__', '__pos__', '__pow__', '__radd__', '__rand__', '__rdivmod__', '__reduce__', '__reduce_ex__', '__repr__', '__rfloordiv__', '__rlshift__', '__rmod__', '__rmul__', '__ror__', '__round__', '__rpow__', '__rrshift__', '__rshift__', '__rsub__', '__rtruediv__', '__rxor__', '__setattr__', '__sizeof__', '__str__', '__sub__', '__subclasshook__', '__truediv__', '__trunc__', '__xor__', 'as_integer_ratio', 'bit_length', 'conjugate', 'denominator', 'from_bytes', 'imag', 'numerator', 'real', 'to_bytes']\n",
      "True\n",
      "False\n",
      "<class 'bool'>\n",
      "Magic methods and attributes of list:\n",
      "['__add__', '__class__', '__class_getitem__', '__contains__', '__delattr__', '__delitem__', '__dir__', '__doc__', '__eq__', '__format__', '__ge__', '__getattribute__', '__getitem__', '__gt__', '__hash__', '__iadd__', '__imul__', '__init__', '__init_subclass__', '__iter__', '__le__', '__len__', '__lt__', '__mul__', '__ne__', '__new__', '__reduce__', '__reduce_ex__', '__repr__', '__reversed__', '__rmul__', '__setattr__', '__setitem__', '__sizeof__', '__str__', '__subclasshook__', 'append', 'clear', 'copy', 'count', 'extend', 'index', 'insert', 'pop', 'remove', 'reverse', 'sort']\n",
      "[1, 2, 3, 4]\n",
      "True\n",
      "<class 'list'>\n",
      "Magic methods and attributes of tuple:\n",
      "['__add__', '__class__', '__class_getitem__', '__contains__', '__delattr__', '__dir__', '__doc__', '__eq__', '__format__', '__ge__', '__getattribute__', '__getitem__', '__getnewargs__', '__gt__', '__hash__', '__init__', '__init_subclass__', '__iter__', '__le__', '__len__', '__lt__', '__mul__', '__ne__', '__new__', '__reduce__', '__reduce_ex__', '__repr__', '__rmul__', '__setattr__', '__sizeof__', '__str__', '__subclasshook__', 'count', 'index']\n",
      "1\n",
      "True\n",
      "<class 'tuple'>\n",
      "Magic methods and attributes of dictionary:\n",
      "['__class__', '__class_getitem__', '__contains__', '__delattr__', '__delitem__', '__dir__', '__doc__', '__eq__', '__format__', '__ge__', '__getattribute__', '__getitem__', '__gt__', '__hash__', '__init__', '__init_subclass__', '__ior__', '__iter__', '__le__', '__len__', '__lt__', '__ne__', '__new__', '__or__', '__reduce__', '__reduce_ex__', '__repr__', '__reversed__', '__ror__', '__setattr__', '__setitem__', '__sizeof__', '__str__', '__subclasshook__', 'clear', 'copy', 'fromkeys', 'get', 'items', 'keys', 'pop', 'popitem', 'setdefault', 'update', 'values']\n",
      "{'b': 2, 'c': 3}\n",
      "True\n",
      "<class 'tuple'>\n",
      "Magic methods and attributes of set:\n",
      "['__and__', '__class__', '__class_getitem__', '__contains__', '__delattr__', '__dir__', '__doc__', '__eq__', '__format__', '__ge__', '__getattribute__', '__gt__', '__hash__', '__iand__', '__init__', '__init_subclass__', '__ior__', '__isub__', '__iter__', '__ixor__', '__le__', '__len__', '__lt__', '__ne__', '__new__', '__or__', '__rand__', '__reduce__', '__reduce_ex__', '__repr__', '__ror__', '__rsub__', '__rxor__', '__setattr__', '__sizeof__', '__str__', '__sub__', '__subclasshook__', '__xor__', 'add', 'clear', 'copy', 'difference', 'difference_update', 'discard', 'intersection', 'intersection_update', 'isdisjoint', 'issubset', 'issuperset', 'pop', 'remove', 'symmetric_difference', 'symmetric_difference_update', 'union', 'update']\n",
      "{1, 2, 3, 4}\n",
      "True\n",
      "<class 'set'>\n"
     ]
    }
   ],
   "source": [
    "# Create objects of different data types\n",
    "a = 10           # integer\n",
    "b = 3.14         # float\n",
    "c = \"Many hands make  light work\"      # string\n",
    "d = True\n",
    "e = [1, 2, 3]    # list\n",
    "f = (4, 5, 6)    # tuple\n",
    "g = {\"a\": 1, \"b\": 2, \"c\": 3}    # dictionary\n",
    "h = set([1, 2, 3])  # set\n",
    "\n",
    "\n",
    "# Magic Methods\n",
    "print(\"Magic methods and attributes of integer:\")\n",
    "print(dir(a))\n",
    "print(a.__add__(5))  #  print(a + 5)\n",
    "print(isinstance(a, int))\n",
    "print(type(a))\n",
    "\n",
    "print(\"Magic methods and attributes of float:\")\n",
    "print(dir(b))\n",
    "print(b.__round__())  # print(round(b))\n",
    "print(isinstance(b, float))  \n",
    "print(type(b))\n",
    "\n",
    "print(\"Magic methods and attributes of string:\")\n",
    "print(dir(c))\n",
    "print(c.lower())  # lowercase\n",
    "print(isinstance(c, str))  \n",
    "print(type(c))\n",
    "\n",
    "print(\"Magic methods and attributes of boolean:\")\n",
    "print(dir(d))\n",
    "print(d.__bool__())  # bool(d)\n",
    "print(isinstance(d, str))  \n",
    "print(type(d))\n",
    "\n",
    "print(\"Magic methods and attributes of list:\")\n",
    "print(dir(e))\n",
    "e.append(4)  # adds an element to the end of the list\n",
    "print(e)\n",
    "print(isinstance(e, list))  \n",
    "print(type(e))\n",
    "\n",
    "print(\"Magic methods and attributes of tuple:\")\n",
    "print(dir(f))\n",
    "print(f.count(4))  # counts the number of occurrences of the given element in the tuple\n",
    "print(isinstance(f, tuple))  \n",
    "print(type(f))\n",
    "\n",
    "print(\"Magic methods and attributes of dictionary:\")\n",
    "print(dir(g))\n",
    "g.pop(\"a\")  # removes the element with the given key from the dictionary\n",
    "print(g)\n",
    "print(isinstance(g, dict))  \n",
    "print(type(f))\n",
    "\n",
    "print(\"Magic methods and attributes of set:\")\n",
    "print(dir(h))\n",
    "h.add(4)  # adds an element to the set\n",
    "print(h)\n",
    "print(isinstance(h, set))  \n",
    "print(type(h))\n",
    "\n",
    "\n"
   ]
  },
  {
   "cell_type": "code",
   "execution_count": 97,
   "id": "b112b92a",
   "metadata": {},
   "outputs": [
    {
     "name": "stdout",
     "output_type": "stream",
     "text": [
      "I love python\n",
      "I lovepython\n",
      "I lovepythonversion 3.1\n",
      "I lovepythonversion 3.10\n",
      "I love python version 3.10\n"
     ]
    }
   ],
   "source": [
    "#4. different ways to format the string\n",
    "print(\"I love\",\"python\")\n",
    "print(\"I love\"+\"python\")\n",
    "print(\"I love\"+\"python\"+\"version\",3.10)\n",
    "print(\"I love\"+\"python\"+\"version %.2f\"%3.10)\n",
    "print(\"I love %s version %.2f\"%(\"python\",3.10))\n"
   ]
  },
  {
   "cell_type": "code",
   "execution_count": 98,
   "id": "8d4df7d3",
   "metadata": {},
   "outputs": [
    {
     "name": "stdout",
     "output_type": "stream",
     "text": [
      "I love python version 3.1\n",
      "I love python version 3.10\n",
      "I love python version 3.10\n",
      "I love 3.10 version python\n"
     ]
    }
   ],
   "source": [
    "# Using format positional argument\n",
    "print(\"I love {} version {}\".format(\"python\",3.10))\n",
    "print(\"I love {} version {}\".format(\"python\",\"3.10\"))\n",
    "print(\"I love {} version {:.2f}\".format(\"python\",3.10))\n",
    "print(\"I love {1} version {0}\".format(\"python\",\"3.10\"))\n",
    " \n",
    "\n",
    "\n"
   ]
  },
  {
   "cell_type": "code",
   "execution_count": 99,
   "id": "fa11570b",
   "metadata": {},
   "outputs": [
    {
     "name": "stdout",
     "output_type": "stream",
     "text": [
      "I love python version 3.10\n",
      "I lovepythonversion3.10\n",
      "I lovepythonversion3.10\n",
      "I love python\n"
     ]
    }
   ],
   "source": [
    "# Using format keyword argument\n",
    "print(\"I love {pl} version {version:.2f}\".format(pl=\"python\",version=3.10))\n",
    "#Using f-string literal\n",
    "info={\"pl\":\"python\",\"version\":3.10}\n",
    "print(f\"I love{info.get('pl')}version{info.get('version'):.2f}\")\n",
    "# Using Uppercase f literal and single quote but double quote while accessing dicitionary value\n",
    "print(F'I love{info.get(\"pl\")}version{info.get(\"version\"):.2f}')\n",
    "#f-string conditional\n",
    "batch='ML'\n",
    "print(f'I love {\"javascript\"if batch ==\"FS\" else \"python\"}')"
   ]
  },
  {
   "cell_type": "code",
   "execution_count": 100,
   "id": "32ef349f",
   "metadata": {},
   "outputs": [],
   "source": [
    "#5.Indexing in python"
   ]
  },
  {
   "cell_type": "code",
   "execution_count": 101,
   "id": "87530843",
   "metadata": {},
   "outputs": [
    {
     "data": {
      "text/plain": [
       "['Finland', 'Sweden', 'Denmark', 'Netherlands', 'Germany', 'Norway', 'Iceland']"
      ]
     },
     "execution_count": 101,
     "metadata": {},
     "output_type": "execute_result"
    }
   ],
   "source": [
    "# a.creating a List\n",
    "countries = [\"Finland\",\"Sweden\",\"Denmark\",\"Netherlands\",\"Germany\",\"Norway\",\"Iceland\"]\n",
    "countries"
   ]
  },
  {
   "cell_type": "code",
   "execution_count": 102,
   "id": "992c3ebf",
   "metadata": {},
   "outputs": [
    {
     "data": {
      "text/plain": [
       "1"
      ]
     },
     "execution_count": 102,
     "metadata": {},
     "output_type": "execute_result"
    }
   ],
   "source": [
    "#b.Find the index of “Sweden”. \n",
    "countries.index(\"Sweden\")"
   ]
  },
  {
   "cell_type": "code",
   "execution_count": 103,
   "id": "e67ede5f",
   "metadata": {},
   "outputs": [
    {
     "data": {
      "text/plain": [
       "['Sweden', 'Denmark', 'Netherlands', 'Germany', 'Norway', 'Iceland']"
      ]
     },
     "execution_count": 103,
     "metadata": {},
     "output_type": "execute_result"
    }
   ],
   "source": [
    "# c.Get all the items except the first\n",
    "countries[1:]"
   ]
  },
  {
   "cell_type": "code",
   "execution_count": 104,
   "id": "3b1422ff",
   "metadata": {},
   "outputs": [
    {
     "data": {
      "text/plain": [
       "['Finland', 'Sweden', 'Denmark', 'Netherlands', 'Germany', 'Norway']"
      ]
     },
     "execution_count": 104,
     "metadata": {},
     "output_type": "execute_result"
    }
   ],
   "source": [
    "# d.Get all the items except the last\n",
    "countries[:-1]"
   ]
  },
  {
   "cell_type": "code",
   "execution_count": 105,
   "id": "9142eccf",
   "metadata": {},
   "outputs": [
    {
     "data": {
      "text/plain": [
       "'Iceland'"
      ]
     },
     "execution_count": 105,
     "metadata": {},
     "output_type": "execute_result"
    }
   ],
   "source": [
    "#. e.Find the last item using negative indexing\n",
    "countries[-1]"
   ]
  },
  {
   "cell_type": "code",
   "execution_count": 106,
   "id": "6bb01e87",
   "metadata": {},
   "outputs": [
    {
     "data": {
      "text/plain": [
       "['Germany', 'Norway', 'Iceland']"
      ]
     },
     "execution_count": 106,
     "metadata": {},
     "output_type": "execute_result"
    }
   ],
   "source": [
    "#f.Find the last three item using negative indexing\n",
    "countries[-3:]"
   ]
  },
  {
   "cell_type": "code",
   "execution_count": 107,
   "id": "d2a9d112",
   "metadata": {},
   "outputs": [
    {
     "data": {
      "text/plain": [
       "['Sweden', 'Netherlands', 'Norway']"
      ]
     },
     "execution_count": 107,
     "metadata": {},
     "output_type": "execute_result"
    }
   ],
   "source": [
    "#g.Grab all the items with odd indices\n",
    "countries[1::2] # start slicing from second element and including every other element after that."
   ]
  },
  {
   "cell_type": "code",
   "execution_count": 108,
   "id": "28505a1f",
   "metadata": {},
   "outputs": [
    {
     "name": "stdout",
     "output_type": "stream",
     "text": [
      "First item in the list ---> Finland\n",
      "Last item in the list---> Iceland\n"
     ]
    }
   ],
   "source": [
    "#h. Find the first and last item for the list\n",
    "\n",
    "print(\"First item in the list --->\",countries[0])\n",
    "print(\"Last item in the list--->\",countries[-1])\n"
   ]
  },
  {
   "cell_type": "code",
   "execution_count": 109,
   "id": "b6347141",
   "metadata": {},
   "outputs": [
    {
     "data": {
      "text/plain": [
       "['Netherlands', 'Germany', 'Norway']"
      ]
     },
     "execution_count": 109,
     "metadata": {},
     "output_type": "execute_result"
    }
   ],
   "source": [
    "# i.Get [”Netherlands”,”Germany”,”Norway”] using negative indexing\n",
    "countries[-4:-1]"
   ]
  },
  {
   "cell_type": "code",
   "execution_count": 110,
   "id": "fe03769c",
   "metadata": {},
   "outputs": [
    {
     "data": {
      "text/plain": [
       "['Iceland', 'Norway', 'Germany', 'Netherlands', 'Denmark', 'Sweden', 'Finland']"
      ]
     },
     "execution_count": 110,
     "metadata": {},
     "output_type": "execute_result"
    }
   ],
   "source": [
    "# j.Reverse the list\n",
    "new_countries = countries[::-1]\n",
    "new_countries"
   ]
  },
  {
   "cell_type": "code",
   "execution_count": 111,
   "id": "872945ae",
   "metadata": {},
   "outputs": [
    {
     "data": {
      "text/plain": [
       "['Iceland', 'Germany', 'Denmark', 'Finland']"
      ]
     },
     "execution_count": 111,
     "metadata": {},
     "output_type": "execute_result"
    }
   ],
   "source": [
    "# k.What is the output of countries[::-2]\n",
    "countries[:: -2]"
   ]
  },
  {
   "cell_type": "code",
   "execution_count": 112,
   "id": "0081d11a",
   "metadata": {},
   "outputs": [
    {
     "data": {
      "text/plain": [
       "['Sweden', 'Netherlands', 'Norway']"
      ]
     },
     "execution_count": 112,
     "metadata": {},
     "output_type": "execute_result"
    }
   ],
   "source": [
    "# l.What is the output of countries[1:100:2]?\n",
    "countries[1:100:2]\n"
   ]
  },
  {
   "cell_type": "code",
   "execution_count": 113,
   "id": "4b6b4330",
   "metadata": {},
   "outputs": [
    {
     "data": {
      "text/plain": [
       "[]"
      ]
     },
     "execution_count": 113,
     "metadata": {},
     "output_type": "execute_result"
    }
   ],
   "source": [
    "# m.What is the output of countries[len(countries)-1:0:2]?\n",
    "\n",
    "countries[len(countries)-1:0:2] # output will be an empty list,because the start index is greater than the stop index and also step is +ve and is in the forward direction \n"
   ]
  },
  {
   "cell_type": "code",
   "execution_count": 114,
   "id": "e4db8bac",
   "metadata": {},
   "outputs": [
    {
     "data": {
      "text/plain": [
       "['Finland', 'Sweden', 'Denmark', 'Netherlands', 'Germany', 'Norway', 'Iceland']"
      ]
     },
     "execution_count": 114,
     "metadata": {},
     "output_type": "execute_result"
    }
   ],
   "source": [
    "countries"
   ]
  },
  {
   "cell_type": "code",
   "execution_count": 115,
   "id": "dd3bf3f5",
   "metadata": {},
   "outputs": [
    {
     "data": {
      "text/plain": [
       "['Germany', 'Netherlands', 'Denmark']"
      ]
     },
     "execution_count": 115,
     "metadata": {},
     "output_type": "execute_result"
    }
   ],
   "source": [
    "#n.Get the output ['Germany', 'Netherlands', 'Denmark']\n",
    "countries_list = [countries[4],countries[3],countries[2]]\n",
    "countries_list"
   ]
  },
  {
   "cell_type": "code",
   "execution_count": 116,
   "id": "99f207e9",
   "metadata": {},
   "outputs": [
    {
     "name": "stdout",
     "output_type": "stream",
     "text": [
      "0 Finland\n",
      "1 Sweden\n",
      "2 Denmark\n",
      "3 Netherlands\n",
      "4 Germany\n",
      "5 Norway\n",
      "6 Iceland\n"
     ]
    }
   ],
   "source": [
    "#o.\tUse enumerate method to get index and values in the list\n",
    "for index, value in enumerate(countries):\n",
    "    print(index,value)"
   ]
  },
  {
   "cell_type": "code",
   "execution_count": 117,
   "id": "f0e941be",
   "metadata": {},
   "outputs": [],
   "source": [
    "# 6.Dictionaries"
   ]
  },
  {
   "cell_type": "code",
   "execution_count": 161,
   "id": "30072492",
   "metadata": {},
   "outputs": [
    {
     "name": "stdout",
     "output_type": "stream",
     "text": [
      "{'a': 1, 'b': 2, 'c': 3, 'd': 4}\n"
     ]
    }
   ],
   "source": [
    "# a. Zip method\n",
    "L1 = [\"a\",\"b\",\"c\",\"d\"]\n",
    "L2 = [1,2,3,4]\n",
    "result = dict(zip(L1,L2)) # Zip method\n",
    "print(result)"
   ]
  },
  {
   "cell_type": "code",
   "execution_count": 162,
   "id": "85c02ef7",
   "metadata": {},
   "outputs": [
    {
     "name": "stdout",
     "output_type": "stream",
     "text": [
      "{'Circle': 1, 'Triangle': 2, 'Square': 3, 'Rectangle': 4, 'Pentagon': 5}\n"
     ]
    }
   ],
   "source": [
    "# b.\tCreate two dictionaries, merge them into one.\n",
    "# Hint: update method/dictionary unpacking\n",
    "\n",
    "dict_1 = {\"Circle\": 1 , \"Triangle\": 2 ,\"Square\":3}\n",
    "\n",
    "dict_2 = {\"Rectangle\": 4, \"Pentagon\": 5 }\n",
    "\n",
    "# Merging the two dictionaries using update() function\n",
    "dict_1.update(dict_2)\n",
    "\n",
    "print(dict_1)\n"
   ]
  },
  {
   "cell_type": "code",
   "execution_count": 163,
   "id": "ac2ebb33",
   "metadata": {},
   "outputs": [
    {
     "name": "stdout",
     "output_type": "stream",
     "text": [
      "{'Duy': ['Python', 'Database', 'ML'], 'Laxmi': ['Python', 'Database', 'ML'], 'Antonio': ['Python', 'Database', 'ML'], 'Maria': ['Python', 'Database', 'ML']}\n"
     ]
    }
   ],
   "source": [
    "# c.Given the list of students, assign them the course\n",
    "# list with different length\n",
    "students = [\"Duy\", \"Laxmi\", \"Antonio\", \"Maria\"]\n",
    "courses = [\"Python\", \"Database\", \"ML\"]\n",
    "students_profile = {}\n",
    "# loop to iterate over the students list \n",
    "for student in students:\n",
    "    students_profile.update({student: courses}) # updates students_profile dictionary with new key value for each student\n",
    "\n",
    "print(students_profile)\n"
   ]
  },
  {
   "cell_type": "code",
   "execution_count": 164,
   "id": "ad31e65b",
   "metadata": {},
   "outputs": [
    {
     "data": {
      "text/plain": [
       "{'Duy': ['Python', 'Database', 'ML'],\n",
       " 'Laxmi': ['Python', 'Database', 'ML'],\n",
       " 'Antonio': ['Python', 'Database', 'ML'],\n",
       " 'Maria': ['Python', 'Database', 'ML']}"
      ]
     },
     "execution_count": 164,
     "metadata": {},
     "output_type": "execute_result"
    }
   ],
   "source": [
    "students_profile"
   ]
  },
  {
   "cell_type": "code",
   "execution_count": 165,
   "id": "53874555",
   "metadata": {},
   "outputs": [],
   "source": [
    "#d.Modify Antonio’s course to [\"JavaScript\",\"Database\",\"NodeJS\"]\n",
    "students_profile[\"Antonio\"] = [\"JavaScript\",\"Database\",\"NodeJS\"]"
   ]
  },
  {
   "cell_type": "code",
   "execution_count": 166,
   "id": "a4d03761",
   "metadata": {},
   "outputs": [
    {
     "data": {
      "text/plain": [
       "{'Duy': ['Python', 'Database', 'ML'],\n",
       " 'Laxmi': ['Python', 'Database', 'ML'],\n",
       " 'Antonio': ['JavaScript', 'Database', 'NodeJS'],\n",
       " 'Maria': ['Python', 'Database', 'ML']}"
      ]
     },
     "execution_count": 166,
     "metadata": {},
     "output_type": "execute_result"
    }
   ],
   "source": [
    "students_profile"
   ]
  },
  {
   "cell_type": "code",
   "execution_count": 167,
   "id": "9030d888",
   "metadata": {},
   "outputs": [
    {
     "name": "stdout",
     "output_type": "stream",
     "text": [
      "{'Duy': ['Python', 'Database', 'ML'], 'Laxmi': ['Python', 'Database', 'ML'], 'Antonio': ['JavaScript', 'Database', 'NodeJS', 'ReactJs'], 'Maria': ['Python', 'Database', 'ML']}\n"
     ]
    }
   ],
   "source": [
    "# e. Add “ReactJs” to Antonio’s course\n",
    "students_profile[\"Antonio\"].append(\"ReactJs\") # append() method helps to add the course \"ReactJs \".\n",
    "print(students_profile)\n",
    "\n",
    "\n",
    "\n",
    "\n"
   ]
  },
  {
   "cell_type": "code",
   "execution_count": 168,
   "id": "97b107f0",
   "metadata": {},
   "outputs": [
    {
     "data": {
      "text/plain": [
       "{'Duy': ['Python', 'Database', 'ML'],\n",
       " 'Laxmi': ['Python', 'Database', 'ML'],\n",
       " 'Antonio': ['JavaScript', 'Database', 'NodeJS', 'Vuejs'],\n",
       " 'Maria': ['Python', 'Database', 'ML']}"
      ]
     },
     "execution_count": 168,
     "metadata": {},
     "output_type": "execute_result"
    }
   ],
   "source": [
    "# f.Replace Antonio’s “ReactJs” to “Vuejs”\n",
    "students_profile[\"Antonio\"][3] = \"Vuejs\"\n",
    "students_profile\n",
    "\n",
    "\n",
    "\n"
   ]
  },
  {
   "cell_type": "code",
   "execution_count": 169,
   "id": "d9253350",
   "metadata": {},
   "outputs": [],
   "source": [
    "# g. Remove an item from dictionary\n",
    "# del method\n",
    "del students_profile[\"Maria\"] # removes the  item from the dictionary"
   ]
  },
  {
   "cell_type": "code",
   "execution_count": 170,
   "id": "65b08521",
   "metadata": {},
   "outputs": [
    {
     "data": {
      "text/plain": [
       "{'Duy': ['Python', 'Database', 'ML'],\n",
       " 'Laxmi': ['Python', 'Database', 'ML'],\n",
       " 'Antonio': ['JavaScript', 'Database', 'NodeJS', 'Vuejs']}"
      ]
     },
     "execution_count": 170,
     "metadata": {},
     "output_type": "execute_result"
    }
   ],
   "source": [
    "students_profile"
   ]
  },
  {
   "cell_type": "code",
   "execution_count": 171,
   "id": "0c597a8a",
   "metadata": {},
   "outputs": [
    {
     "data": {
      "text/plain": [
       "['Python', 'Database', 'ML']"
      ]
     },
     "execution_count": 171,
     "metadata": {},
     "output_type": "execute_result"
    }
   ],
   "source": [
    "#pop() method\n",
    "students_profile.pop(\"Duy\")# removes the item from the dictionary, but it returns the item being removed as well"
   ]
  },
  {
   "cell_type": "code",
   "execution_count": 172,
   "id": "d2378aa0",
   "metadata": {},
   "outputs": [
    {
     "data": {
      "text/plain": [
       "{'Laxmi': ['Python', 'Database', 'ML'],\n",
       " 'Antonio': ['JavaScript', 'Database', 'NodeJS', 'Vuejs']}"
      ]
     },
     "execution_count": 172,
     "metadata": {},
     "output_type": "execute_result"
    }
   ],
   "source": [
    "students_profile"
   ]
  },
  {
   "cell_type": "code",
   "execution_count": 173,
   "id": "db08ac98",
   "metadata": {},
   "outputs": [
    {
     "name": "stdout",
     "output_type": "stream",
     "text": [
      "{'Laxmi': ['Python', 'Database', 'ML']}\n"
     ]
    }
   ],
   "source": [
    "#popitem() method\n",
    "students_profile.popitem()# Removes the last item in the dictionary\n",
    "print(students_profile)"
   ]
  },
  {
   "cell_type": "code",
   "execution_count": null,
   "id": "5bdab42f",
   "metadata": {},
   "outputs": [],
   "source": []
  }
 ],
 "metadata": {
  "kernelspec": {
   "display_name": "Python 3 (ipykernel)",
   "language": "python",
   "name": "python3"
  },
  "language_info": {
   "codemirror_mode": {
    "name": "ipython",
    "version": 3
   },
   "file_extension": ".py",
   "mimetype": "text/x-python",
   "name": "python",
   "nbconvert_exporter": "python",
   "pygments_lexer": "ipython3",
   "version": "3.9.12"
  }
 },
 "nbformat": 4,
 "nbformat_minor": 5
}
