{
 "cells": [
  {
   "cell_type": "markdown",
   "id": "b49cd56d",
   "metadata": {},
   "source": [
    "## OOPs in Python"
   ]
  },
  {
   "cell_type": "markdown",
   "id": "b974706a",
   "metadata": {},
   "source": [
    "### Everything in python is class and object. Let's verify that. Run the following code:"
   ]
  },
  {
   "cell_type": "code",
   "execution_count": 4,
   "id": "5f60813f",
   "metadata": {},
   "outputs": [
    {
     "name": "stdout",
     "output_type": "stream",
     "text": [
      "<class 'int'> <class 'str'>\n",
      "<class 'type'>\n",
      "<class 'type'>\n",
      "<class 'type'>\n",
      "<class 'type'>\n",
      "<class 'type'>\n",
      "<class 'builtin_function_or_method'>\n",
      "<class 'function'>\n",
      "<class 'type'>\n"
     ]
    }
   ],
   "source": [
    "a = 5\n",
    "b = \"some string\"\n",
    "print(type(a),type(b))\n",
    "\n",
    "def someFunction():\n",
    "    \"\"\"Defining a function\"\"\"\n",
    "    return\n",
    "\n",
    "class SomeClass:\n",
    "    pass\n",
    "\n",
    "someList = [int,str,tuple,dict,list,print,someFunction,SomeClass]\n",
    "\n",
    "for item in someList:\n",
    "    print(type(item))"
   ]
  },
  {
   "cell_type": "markdown",
   "id": "d3f33c76",
   "metadata": {},
   "source": [
    "### Compare the result of step a and step b:"
   ]
  },
  {
   "cell_type": "code",
   "execution_count": 6,
   "id": "4854a441",
   "metadata": {},
   "outputs": [
    {
     "name": "stdout",
     "output_type": "stream",
     "text": [
      "\n",
      "<class 'int'>\n",
      "<class 'str'>\n",
      "<class 'tuple'>\n",
      "<class 'dict'>\n",
      "<class 'list'>\n",
      "<class 'NoneType'>\n",
      "<class 'NoneType'>\n",
      "<class '__main__.SomeClass'>\n"
     ]
    }
   ],
   "source": [
    "anotherList=[int(),str(),tuple(),dict(),list(),print(),someFunction(),SomeClass()]\n",
    "\n",
    "for item in anotherList:\n",
    "    print(type(item))\n"
   ]
  },
  {
   "cell_type": "markdown",
   "id": "c3f87c50",
   "metadata": {},
   "source": [
    "\n",
    "### 3. Create two classes Pet and Dog \n",
    "1. Requirements for Pet class\n",
    "i. Three class attributes pet_population , pet_instance and current_year()\n",
    "ii. Init constructor __init__(self,name,category,age), name is name of pet,category could be dog,cat,bird etc. and age is age of pet\n",
    "iii. An instance method hellofrompet that prints hello from petname\n",
    "iv. Create a class method timepassedby which takes years as argumentshould automatically increase the age of all the pet object as soon as the method is applied\n",
    "\n",
    "\n",
    "pet_population should show the number of pets created and pet_instance is the list of pet object 1. \n",
    "\n",
    "Requirements for Dog class \n",
    "1. Dog class should inherit Pet class attributes and methods. Apart from that the init constructor takes addition \"breed\" argument \n",
    "2. Define the instance method barks which displays the breed does woof woof.\n",
    "\n",
    "Validate your code: Run the following piece of code"
   ]
  },
  {
   "cell_type": "code",
   "execution_count": 27,
   "id": "49d0dfec",
   "metadata": {},
   "outputs": [
    {
     "name": "stdout",
     "output_type": "stream",
     "text": [
      "2\n",
      "2\n",
      "Micky\n",
      "Sophie\n",
      "6\n",
      "7\n",
      "The  German Shepherd  does woof woof\n"
     ]
    },
    {
     "ename": "AttributeError",
     "evalue": "'Pet' object has no attribute 'barks'",
     "output_type": "error",
     "traceback": [
      "\u001b[1;31m---------------------------------------------------------------------------\u001b[0m",
      "\u001b[1;31mAttributeError\u001b[0m                            Traceback (most recent call last)",
      "Cell \u001b[1;32mIn [27], line 57\u001b[0m\n\u001b[0;32m     54\u001b[0m \u001b[38;5;28mprint\u001b[39m(instance2\u001b[38;5;241m.\u001b[39mage)\n\u001b[0;32m     56\u001b[0m instance2\u001b[38;5;241m.\u001b[39mbarks()\n\u001b[1;32m---> 57\u001b[0m instance1\u001b[38;5;241m.\u001b[39mbarks()\n",
      "\u001b[1;31mAttributeError\u001b[0m: 'Pet' object has no attribute 'barks'"
     ]
    }
   ],
   "source": [
    "#defining the class pet\n",
    "\n",
    "class Pet:\n",
    "    pet_instances = []\n",
    "    pet_population=0\n",
    "    current_year = \"\"\n",
    "    \n",
    "    # constructor function    \n",
    "    def __init__(self, name,category,age):\n",
    "        \"\"\"Constructor function of Pet class\"\"\"\n",
    "        self.name = name\n",
    "        self.category= category\n",
    "        self.age = age\n",
    "        Pet.pet_population +=1\n",
    "        Pet.pet_instances.append(self)\n",
    "        \n",
    "        \n",
    "    def hellofrompet(self):\n",
    "        \"\"\"Function to display Hello from the pet instance\"\"\"\n",
    "        print(\"Hello from \",self.category)\n",
    "    \n",
    "    def timepassedby(years):\n",
    "        \"\"\"Function to increase the age of pet by years passed\"\"\"\n",
    "        for item in Pet.pet_instances:\n",
    "            item.age += years\n",
    "        \n",
    "\n",
    "\n",
    "#Defining the Dog class\n",
    "\n",
    "class Dog(Pet):\n",
    "    def __init__(self, name,category,age, breed):\n",
    "        super().__init__(name,category,age)\n",
    "        self.breed=breed\n",
    "        #Dog.pet_population += 1\n",
    "    \n",
    "    def barks(self):\n",
    "        print(\"The \",self.breed,\" does woof woof\")\n",
    "    \n",
    "        \n",
    "#creating an instance of Pet\n",
    "instance1 = Pet(\"Micky\",\"Cat\",1)\n",
    "instance2 = Dog(\"Sophie\",\"Dog\",2,\"German Shepherd\")\n",
    "\n",
    "print(Pet.pet_population)\n",
    "print(Dog.pet_population)\n",
    "\n",
    "for item in Pet.pet_instances:\n",
    "    print(item.name)\n",
    "    \n",
    "Pet.timepassedby(5)\n",
    "\n",
    "print(instance1.age)\n",
    "print(instance2.age)\n",
    "\n",
    "instance2.barks()\n",
    "instance1.barks()\n",
    "\n",
    "\n",
    "\n",
    "#https://morioh.com/p/adf02a1392d3"
   ]
  },
  {
   "cell_type": "code",
   "execution_count": null,
   "id": "f503e75a",
   "metadata": {},
   "outputs": [],
   "source": []
  }
 ],
 "metadata": {
  "kernelspec": {
   "display_name": "Python 3 (ipykernel)",
   "language": "python",
   "name": "python3"
  },
  "language_info": {
   "codemirror_mode": {
    "name": "ipython",
    "version": 3
   },
   "file_extension": ".py",
   "mimetype": "text/x-python",
   "name": "python",
   "nbconvert_exporter": "python",
   "pygments_lexer": "ipython3",
   "version": "3.10.2"
  }
 },
 "nbformat": 4,
 "nbformat_minor": 5
}
