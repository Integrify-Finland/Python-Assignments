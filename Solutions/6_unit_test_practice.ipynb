{
 "cells": [
  {
   "cell_type": "code",
   "execution_count": 4,
   "id": "cd46adf8",
   "metadata": {},
   "outputs": [],
   "source": [
    "# write unit test case for is_prime function\n",
    "\n",
    "def is_prime(n: int):\n",
    "    if n <= 1:\n",
    "        return False\n",
    "    \n",
    "    for i in range(2, int(n ** 0.5)+1):\n",
    "        if n % i == 0:\n",
    "            return False\n",
    "    \n",
    "    return True\n"
   ]
  },
  {
   "cell_type": "code",
   "execution_count": 6,
   "id": "afd2a455",
   "metadata": {},
   "outputs": [
    {
     "name": "stderr",
     "output_type": "stream",
     "text": [
      "test_0_and_1 (__main__.TestPrime)\n",
      "Test for number 0 and 1 ... ok\n",
      "test_large_composites (__main__.TestPrime)\n",
      "Test for large composite numbers ... ok\n",
      "test_large_primes (__main__.TestPrime)\n",
      "Test for large prime numbers ... ok\n",
      "test_negative (__main__.TestPrime)\n",
      "Test for negative numbers ... ok\n",
      "test_small_composites (__main__.TestPrime)\n",
      "Test for small composite numbers ... ok\n",
      "test_small_primes (__main__.TestPrime)\n",
      "Test for small prime numbers ... ok\n",
      "\n",
      "----------------------------------------------------------------------\n",
      "Ran 6 tests in 0.022s\n",
      "\n",
      "OK\n"
     ]
    }
   ],
   "source": [
    "import unittest\n",
    "\n",
    "class TestPrime(unittest.TestCase):\n",
    "    \"\"\"Test cases to check the number is prime or not\"\"\"\n",
    "    \n",
    "    def test_negative(self):\n",
    "        \"\"\"Test for negative numbers\"\"\"\n",
    "        self.assertFalse(is_prime(-11))\n",
    "        \n",
    "    def test_0_and_1(self):\n",
    "        \"\"\"Test for number 0 and 1\"\"\"\n",
    "        self.assertFalse(is_prime(0))\n",
    "        self.assertFalse(is_prime(1))\n",
    "        \n",
    "    def test_small_primes(self):\n",
    "        \"\"\"Test for small prime numbers\"\"\"\n",
    "        self.assertTrue(is_prime(3))\n",
    "        \n",
    "    def test_small_composites(self):\n",
    "        \"\"\"Test for small composite numbers\"\"\"\n",
    "        self.assertFalse(is_prime(6))\n",
    "        \n",
    "    def test_large_primes(self):\n",
    "        \"\"\"Test for large prime numbers\"\"\"\n",
    "        self.assertTrue(is_prime(109))\n",
    "        \n",
    "    def test_large_composites(self):\n",
    "        \"\"\"Test for large composite numbers\"\"\"\n",
    "        self.assertFalse(is_prime(200))\n",
    "        \n",
    "\n",
    "if __name__ == '__main__':\n",
    "    unittest.main(argv=[''], verbosity=2, exit=False)"
   ]
  },
  {
   "cell_type": "code",
   "execution_count": null,
   "id": "33b65c94",
   "metadata": {},
   "outputs": [],
   "source": []
  }
 ],
 "metadata": {
  "kernelspec": {
   "display_name": "Python 3 (ipykernel)",
   "language": "python",
   "name": "python3"
  },
  "language_info": {
   "codemirror_mode": {
    "name": "ipython",
    "version": 3
   },
   "file_extension": ".py",
   "mimetype": "text/x-python",
   "name": "python",
   "nbconvert_exporter": "python",
   "pygments_lexer": "ipython3",
   "version": "3.10.4"
  }
 },
 "nbformat": 4,
 "nbformat_minor": 5
}
