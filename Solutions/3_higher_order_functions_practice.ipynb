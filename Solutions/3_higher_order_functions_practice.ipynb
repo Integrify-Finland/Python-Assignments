{
 "cells": [
  {
   "cell_type": "code",
   "execution_count": 2,
   "id": "10899eaa",
   "metadata": {},
   "outputs": [
    {
     "name": "stdout",
     "output_type": "stream",
     "text": [
      "Squared list:  [1, 4, 9, 16, 25, 36, 49, 64, 81, 100]\n",
      "Even numbers:  [2, 4, 6, 8, 10]\n",
      "Product of all even numbers:  3840\n"
     ]
    }
   ],
   "source": [
    "from functools import reduce\n",
    "\n",
    "\n",
    "def square(n: int):\n",
    "    \"\"\"Square the given number and return result\"\"\"\n",
    "    return n * n\n",
    "\n",
    "def product(a: int, b: int):\n",
    "    \"\"\"Create product of two numbers and return result\"\"\"\n",
    "    return a * b\n",
    "\n",
    "if __name__ == \"__main__\":\n",
    "    numbers = [1,2,3,4,5,6,7,8,9,10]\n",
    "    \n",
    "    # use map() to square all list elements\n",
    "    squared_list = list(map(square, numbers))\n",
    "    print(\"Squared list: \", squared_list)\n",
    "    \n",
    "    # use filter() to filter even numbers from the list\n",
    "    even_nums = list(filter(lambda x: x%2==0, numbers))\n",
    "    print(f\"Even numbers: \", even_nums)\n",
    "    \n",
    "    # use reduce() to find the product of all even numbers\n",
    "    res = reduce(product, even_nums)\n",
    "    print(f\"Product of all even numbers: \", res)"
   ]
  },
  {
   "cell_type": "code",
   "execution_count": 4,
   "id": "2210a5b0",
   "metadata": {},
   "outputs": [
    {
     "name": "stdout",
     "output_type": "stream",
     "text": [
      "154.5\n"
     ]
    }
   ],
   "source": [
    "v = [13,21,21,40,42,48,52,72]\n",
    "print((sum(v))*0.50)"
   ]
  },
  {
   "cell_type": "code",
   "execution_count": null,
   "id": "397f634a",
   "metadata": {},
   "outputs": [],
   "source": []
  }
 ],
 "metadata": {
  "kernelspec": {
   "display_name": "Python 3 (ipykernel)",
   "language": "python",
   "name": "python3"
  },
  "language_info": {
   "codemirror_mode": {
    "name": "ipython",
    "version": 3
   },
   "file_extension": ".py",
   "mimetype": "text/x-python",
   "name": "python",
   "nbconvert_exporter": "python",
   "pygments_lexer": "ipython3",
   "version": "3.10.4"
  }
 },
 "nbformat": 4,
 "nbformat_minor": 5
}
