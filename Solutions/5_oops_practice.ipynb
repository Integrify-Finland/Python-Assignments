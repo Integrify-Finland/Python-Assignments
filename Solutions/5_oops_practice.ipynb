{
 "cells": [
  {
   "cell_type": "code",
   "execution_count": null,
   "id": "dca6bd71",
   "metadata": {},
   "outputs": [],
   "source": [
    "# OOP\n",
    "\n",
    "Everything in python is class and object. Let's verify that. Run the following code: \n",
    "\n",
    "Compare the result of step a and step b \n",
    "\n",
    "Create two classes Pet and Dog 1. Requirements for Pet class\n",
    "\n",
    "Three class attributes pet_population , pet_instance and current_year\n",
    "Init constructor __init__(self,name,category,age), name is name of pet,category could be dog,cat,bird etc. and age is age of pet\n",
    "An instance method hellofrompet that prints hello from petname\n",
    "Create a class method timepassedby which takes years as argumentshould automatically increase the age of all the pet object as soon as the method is applied\n",
    "pet_population should show the number of pets created and pet_instance is the list of pet object\n",
    "\n",
    "1. Requirements for **Dog** class\n",
    "  1. Dog class should **inherit Pet** class attributes and methods. Apart from that the init constructor takes addition \"breed\" argument\n",
    "  2. Define the instance method **barks** which displays the breed does woof woof.\n",
    "\n",
    "  \n",
    "    "
   ]
  },
  {
   "cell_type": "code",
   "execution_count": 27,
   "id": "f50dfe45",
   "metadata": {},
   "outputs": [],
   "source": [
    "class Pet:\n",
    "    \"Base class for all types of Pet\"\n",
    "    pet_population = 0  # total number of pets\n",
    "    pet_instance = []  # list of pet instances created\n",
    "    current_year = 2023  # current year\n",
    "    \n",
    "    def __init__(self, name, category, age):\n",
    "        self.name = name\n",
    "        self.category = category\n",
    "        self.age = age\n",
    "        \n",
    "        Pet.pet_instance.append(self)\n",
    "        Pet.pet_population += 1\n",
    "\n",
    "        \n",
    "    def hellofrompet(self):\n",
    "        \"\"\"This is a greet method from a pet\"\"\"\n",
    "        print(f\"Hello from {self.name}\")\n",
    "        \n",
    "    @classmethod\n",
    "    def timepassby(cls, years: int):\n",
    "        \"\"\"Updates the all Pets age by given number of years and displays the total number of pets\"\"\"\n",
    "\n",
    "        print(\"--\"*40)\n",
    "        # update age of all pets \n",
    "        for inst in cls.pet_instance:\n",
    "            inst.age += years\n",
    "            print(f\"Updated age for {inst.name}, new age={inst.age}\")\n",
    "            \n",
    "        # display number of pets available\n",
    "        print(f\"Pet population: {cls.pet_population}\")\n",
    "        "
   ]
  },
  {
   "cell_type": "code",
   "execution_count": 28,
   "id": "e473f9ff",
   "metadata": {},
   "outputs": [],
   "source": [
    "class Dog(Pet):\n",
    "    \"\"\"derived class from Pet base class\"\"\"\n",
    "    \n",
    "    def __init__(self, name, category, age, breed):\n",
    "        super().__init__(name, category, age)\n",
    "        self.breed = breed\n",
    "        \n",
    "    def barks(self):\n",
    "        \"\"\"Displays the sound of breed makes\"\"\"\n",
    "        print(\"Woof Woof ...\")"
   ]
  },
  {
   "cell_type": "code",
   "execution_count": 29,
   "id": "1009073e",
   "metadata": {},
   "outputs": [
    {
     "name": "stdout",
     "output_type": "stream",
     "text": [
      "Hello from Tommy\n",
      "Hello from Jack\n",
      "Hello from Milly\n",
      "--------------------------------------------------------------------------------\n",
      "Updated age for Tommy, new age=4\n",
      "Updated age for Jack, new age=6\n",
      "Updated age for Milly, new age=3\n",
      "Pet population: 3\n"
     ]
    }
   ],
   "source": [
    "# main \n",
    "if __name__ == \"__main__\":\n",
    "    d1 = Dog(\"Tommy\", \"Dog\", 2, \"Dane\")\n",
    "    d1.hellofrompet()\n",
    "\n",
    "    d2 = Dog(\"Jack\", \"Dog\", 4, \"German Shepherd\")\n",
    "    d2.hellofrompet()\n",
    "    \n",
    "    c1 = Pet(\"Milly\", \"Cat\", 1)\n",
    "    c1.hellofrompet()\n",
    "    \n",
    "    Dog.timepassby(2)"
   ]
  },
  {
   "cell_type": "code",
   "execution_count": null,
   "id": "9bfd2eb3",
   "metadata": {},
   "outputs": [],
   "source": []
  }
 ],
 "metadata": {
  "kernelspec": {
   "display_name": "Python 3 (ipykernel)",
   "language": "python",
   "name": "python3"
  },
  "language_info": {
   "codemirror_mode": {
    "name": "ipython",
    "version": 3
   },
   "file_extension": ".py",
   "mimetype": "text/x-python",
   "name": "python",
   "nbconvert_exporter": "python",
   "pygments_lexer": "ipython3",
   "version": "3.10.4"
  }
 },
 "nbformat": 4,
 "nbformat_minor": 5
}
