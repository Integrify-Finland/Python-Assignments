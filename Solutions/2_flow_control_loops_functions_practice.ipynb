{
 "cells": [
  {
   "cell_type": "code",
   "execution_count": 33,
   "id": "b3d7ad1a",
   "metadata": {},
   "outputs": [
    {
     "name": "stdout",
     "output_type": "stream",
     "text": [
      "Enter the radius of circle: 4\n",
      "Do you want area/ perimeter of circle? Area: a/A or Perimeter: p/P? a\n",
      "Area of circle is 50.24\n"
     ]
    }
   ],
   "source": [
    "# Get the radius value as input and calculate the area of the circle. \n",
    "# If the input is numeric, display the result otherwise display any other message.\n",
    "# If the user enters numeric value then asks user to for either perimeter or area calculation and display accordingly\n",
    "\n",
    "import re\n",
    "\n",
    "radius = input(\"Enter the radius of circle: \")\n",
    "try:\n",
    "    radius = float(radius)\n",
    "except:\n",
    "    print(\"Entered radius is non numeric value\")\n",
    "\n",
    "# if user provide numeric value\n",
    "if isinstance(radius, float):\n",
    "    choice = input(\"Do you want area/ perimeter of circle? Area: a/A or Perimeter: p/P? \")\n",
    "    \n",
    "    # calculate area\n",
    "    if choice.lower() == 'a':\n",
    "        area = 3.14 * radius * radius\n",
    "        print(f\"Area of circle is {area:.2f}\")\n",
    "    # calculate perimeter \n",
    "    elif choice.lower() == 'p':\n",
    "        perimeter = 2 * 3.14 * radius\n",
    "        print(f\"Perimeter of circle is {perimeter:.2f}\")\n",
    "\n",
    "\n"
   ]
  },
  {
   "cell_type": "code",
   "execution_count": 34,
   "id": "6bd20484",
   "metadata": {},
   "outputs": [
    {
     "name": "stdout",
     "output_type": "stream",
     "text": [
      "Updated students profile \n",
      " {'Duy': ['Python', 'Database', 'ML'], 'Laxmi': ['Python', 'Database', 'ML'], 'Antonio': ['Python', 'Database', 'ML'], 'Maria': ['Python', 'Database']}\n"
     ]
    }
   ],
   "source": [
    "# Check if there is a student named 'Maria' in students_profile dictionary. If exists remove 'ML' from her course\n",
    "students_profile = {'Duy': ['Python', 'Database', 'ML'],\n",
    "                    'Laxmi': ['Python', 'Database', 'ML'],\n",
    "                    'Antonio': ['Python', 'Database', 'ML'],\n",
    "                    'Maria': ['Python', 'Database', 'ML']\n",
    "                   }\n",
    "\n",
    "# check for 'Maria' in profile\n",
    "if 'Maria' in students_profile:\n",
    "    # remove 'ML' from course\n",
    "    students_profile['Maria'].remove('ML')\n",
    "    print(f\"Updated students profile \\n {students_profile}\")\n",
    "else:\n",
    "    print(f\"'Maria' is not present in students profile\")"
   ]
  },
  {
   "cell_type": "code",
   "execution_count": 35,
   "id": "997731b0",
   "metadata": {},
   "outputs": [
    {
     "name": "stdout",
     "output_type": "stream",
     "text": [
      "Enter the substring to serach: data\n",
      "Way 1:\n",
      "data is present in the string\n",
      "Way 2:\n",
      "data is present in the string\n",
      "Way 3:\n",
      "data is present in the string\n"
     ]
    }
   ],
   "source": [
    "# Take the input from the user as a substring. If that substring is present in string then display substring is present \n",
    "# otherwise substring is not present\n",
    "\n",
    "string = \"Hello! Welcome to the world of Data Science.\"\n",
    "input_str = input(\"Enter the substring to serach: \")\n",
    "\n",
    "print(\"Way 1:\")\n",
    "if input_str.lower() in string.lower():\n",
    "    print(f\"{input_str} is present in the string\")\n",
    "else:\n",
    "    print(f\"{input_str} is not present in the string\")\n",
    "    \n",
    "print(\"Way 2:\")\n",
    "if string.lower().index(input_str):\n",
    "    print(f\"{input_str} is present in the string\")\n",
    "else:\n",
    "    print(f\"{input_str} is not present in the string\")\n",
    "    \n",
    "print(\"Way 3:\")\n",
    "if string.lower().find(input_str):\n",
    "    print(f\"{input_str} is present in the string\")\n",
    "else:\n",
    "    print(f\"{input_str} is not present in the string\")\n",
    "    "
   ]
  },
  {
   "cell_type": "code",
   "execution_count": 60,
   "id": "94845706",
   "metadata": {},
   "outputs": [
    {
     "name": "stdout",
     "output_type": "stream",
     "text": [
      "Enter the order: 2\n",
      "Distance is:  5.196152422706632\n"
     ]
    }
   ],
   "source": [
    "# Distance Metrics are important to calculate the similarity between the vectors. \n",
    "# They are used in both supervised and unsupervised machine learning problems. Given the points (1,2,3) and (4,5,6), \n",
    "# write a python conditional statement to print the distance for the order 1,2,3,4. \n",
    "# If the order is 1 then it is L1 norm(Manhattan distance), order 2 is L2 norm(Euclidean distance) and \n",
    "# the generalized distance is given by Minkowski equation.\n",
    "\n",
    "from math import sqrt\n",
    "\n",
    "point1 = (1, 2, 3)\n",
    "point2 = (4, 5, 6)\n",
    "\n",
    "order = int(input(\"Enter the order: \"))\n",
    "\n",
    "if order == 1:\n",
    "    # L1 norm(Manhattan distance)\n",
    "    dist = sum(abs(e1-e2) for e1, e2 in zip(point1, point2))\n",
    "\n",
    "elif order == 2:\n",
    "    # L2 norm(Euclidean distance)\n",
    "    dist = sqrt(sum((e1-e2)**2 for e1, e2 in zip(point1, point2)))\n",
    "    \n",
    "else:\n",
    "    # generalized distance is given by Minkowski equation\n",
    "    dist = sum(abs(e1-e2)**order for e1, e2 in zip(point1, point2))**(1/order)\n",
    "    \n",
    "print(\"Distance is: \", dist)\n",
    "    \n",
    "    "
   ]
  },
  {
   "cell_type": "code",
   "execution_count": 57,
   "id": "b79c7e4f",
   "metadata": {},
   "outputs": [
    {
     "name": "stdout",
     "output_type": "stream",
     "text": [
      "Enter a number: 2\n",
      "2 * 1 = 2\n",
      "2 * 2 = 4\n",
      "2 * 3 = 6\n",
      "2 * 4 = 8\n",
      "2 * 5 = 10\n",
      "2 * 6 = 12\n",
      "2 * 7 = 14\n",
      "2 * 8 = 16\n",
      "2 * 9 = 18\n",
      "2 * 10 = 20\n",
      "------------------------------------------------------------\n",
      "Enter another number: 4\n",
      "4 * 1 = 4\n",
      "4 * 2 = 8\n",
      "4 * 3 = 12\n",
      "4 * 4 = 16\n",
      "4 * 5 = 20\n",
      "4 * 6 = 24\n",
      "4 * 7 = 28\n",
      "4 * 8 = 32\n",
      "4 * 9 = 36\n",
      "4 * 10 = 40\n"
     ]
    }
   ],
   "source": [
    "# Write a multiplication table for any given number using both for and while loop\n",
    "\n",
    "# multiplication table using for loop\n",
    "num = int(input(\"Enter a number: \"))\n",
    "for i in range(1, 11):\n",
    "    print(f\"{num} * {i} = {num*i}\")\n",
    "    \n",
    "# multiplication table using while loop\n",
    "print(\"--\"*30)\n",
    "num1 = int(input(\"Enter another number: \"))\n",
    "inc = 1\n",
    "while inc <= 10:\n",
    "    print(f\"{num1} * {inc} = {num1*inc}\")\n",
    "    inc += 1\n",
    "    "
   ]
  },
  {
   "cell_type": "code",
   "execution_count": 38,
   "id": "0b9356e5",
   "metadata": {},
   "outputs": [
    {
     "name": "stdout",
     "output_type": "stream",
     "text": [
      "Generated complementary dna template is \n",
      "TTAGGCTTTTAAGCCCTTAAAAGCGCA\n"
     ]
    }
   ],
   "source": [
    "# DNA is coded using 4 nitrogen bases with the symbols A,T,G,C. \n",
    "# Given the template string dna_template='AATCCGAAAATTCGGGAATTTTCGCGT' , generate the complementary dna template with the mapping\n",
    "# mapper={\"T\":\"A\",\"A\":\"T\",\"G\":\"C\",\"C\":\"G\"}\n",
    "\n",
    "dna_template='AATCCGAAAATTCGGGAATTTTCGCGT'\n",
    "mapper={\"T\":\"A\",\"A\":\"T\",\"G\":\"C\",\"C\":\"G\"}\n",
    "\n",
    "comp_dna_template = \"\"\n",
    "for char in dna_template:\n",
    "    if char in mapper:\n",
    "        comp_dna_template += mapper[char]\n",
    "    else:\n",
    "        print(f\"Mapping for {char} is absent in mapper. So can't generate the complementary dna template\")\n",
    "        comp_dna_template = \"\"\n",
    "        break\n",
    "        \n",
    "if comp_dna_template:\n",
    "    print(f\"Generated complementary dna template is \\n{comp_dna_template}\")\n"
   ]
  },
  {
   "cell_type": "code",
   "execution_count": 39,
   "id": "1d8caeb6",
   "metadata": {},
   "outputs": [
    {
     "name": "stdout",
     "output_type": "stream",
     "text": [
      "Enter the number to generate fibbonacci series: 12\n",
      "Fibbonacci series is \n",
      " [0, 1, 1, 2, 3, 5, 8, 13, 21, 34, 55, 89, 144]\n"
     ]
    }
   ],
   "source": [
    "# Generate the list f_series=x=[0,1,1,2,3,5,8,13,21,34,55,89,144]. Looks Familiar? \n",
    "# This is Fibonacci series where x[0]=0,x[1]=1, and x[n]=x[n-1]+x[n-2] for n>1\n",
    "\n",
    "n = int(input(\"Enter the number to generate fibbonacci series: \"))\n",
    "fibbo_series = []\n",
    "\n",
    "if n<1:\n",
    "    print(\"Can't generate fibbonacci series\")\n",
    "else:\n",
    "    inc = 0\n",
    "    while inc <= n:\n",
    "        if inc in [0, 1]:\n",
    "            fibbo_series.insert(inc, inc)\n",
    "        else:\n",
    "            fibbo_series.insert(inc, fibbo_series[inc-1] + fibbo_series[inc-2])\n",
    "        \n",
    "        inc += 1\n",
    "\n",
    "    print(f\"Fibbonacci series is \\n {fibbo_series}\")"
   ]
  },
  {
   "cell_type": "code",
   "execution_count": 40,
   "id": "62736be1",
   "metadata": {},
   "outputs": [
    {
     "name": "stdout",
     "output_type": "stream",
     "text": [
      "Enter a number to print prime numbers: 100\n",
      "Prime numbers till number 100 are \n",
      " [1, 2, 3, 5, 7, 11, 13, 17, 19, 23, 29, 31, 37, 41, 43, 47, 53, 59, 61, 67, 71, 73, 79, 83, 89, 97]\n"
     ]
    }
   ],
   "source": [
    "# Generate a list of n numbers of prime numbers\n",
    "\n",
    "n = int(input(\"Enter a number to print prime numbers: \"))\n",
    "prime_numbers = []\n",
    "\n",
    "for num in range(1, n+1):\n",
    "    is_prime = True\n",
    "    for i in range(2, num):\n",
    "        if num%i == 0:\n",
    "            is_prime = False\n",
    "            break\n",
    "    if is_prime:\n",
    "        prime_numbers.append(num)\n",
    "            \n",
    "print(f\"Prime numbers till number {n} are \\n {prime_numbers}\")"
   ]
  },
  {
   "cell_type": "code",
   "execution_count": 41,
   "id": "7c1b5af5",
   "metadata": {},
   "outputs": [
    {
     "name": "stdout",
     "output_type": "stream",
     "text": [
      "Scaled data1 is \n",
      "[0.0, 0.18, 0.12, 0.15, 0.32, 0.65, 0.52, 0.55, 0.97, 1.0, 0.58, 0.08]\n",
      "------------------------------------------------------------\n",
      "Scaled data2 is \n",
      "[-0.3, 0.26, 0.15, 0.44, 1.0, -1.0, 0.37, 0.74, -0.15, 0.67, 0.3, 0.11]\n"
     ]
    }
   ],
   "source": [
    "# Perform the minmax normalization to the range [0,1] for the data1 and minmax normalization to the range [-1,1] for the data2\n",
    "# data1=[1,17,12,15,30,60,48,51,89,92,54,8], use\n",
    "# X_scaled = (X - X_min) / (X_max - X_min)\n",
    "# data2=[-13,2,-1,7,22,-32,5,15,-9,13,3,-2], use\n",
    "# X_scaled = 2 * (X - X_min) / (X_max - X_min) - 1\n",
    "# The general formula for scaling in the range [a,b] is\n",
    "# X_scaled = (b-a) * (X - X_min) / (X_max - X_min) + a\n",
    "\n",
    "# minmax mormalization to range [0,1]\n",
    "data1 = [1,17,12,15,30,60,48,51,89,92,54,8]\n",
    "min_val = min(data1)\n",
    "max_val = max(data1)\n",
    "data1_scaled = [round((x-min_val)/(max_val-min_val), 2) for x in data1]\n",
    "print(f\"Scaled data1 is \\n{data1_scaled}\")\n",
    "print(\"--\"*30)\n",
    "\n",
    "# minmax mormalization to range [-1,1]\n",
    "data2 = [-13,2,-1,7,22,-32,5,15,-9,13,3,-2]\n",
    "min_val = min(data2)\n",
    "max_val = max(data2)\n",
    "data2_scaled = [round(2 * (x-min_val)/(max_val-min_val)-1, 2) for x in data2]\n",
    "print(f\"Scaled data2 is \\n{data2_scaled}\")"
   ]
  },
  {
   "cell_type": "code",
   "execution_count": 34,
   "id": "ae625ad2",
   "metadata": {},
   "outputs": [
    {
     "name": "stdout",
     "output_type": "stream",
     "text": [
      "Before Sorting: [18, 9, 12, 4, 6, 2, 45, 11, 2, 80, 23, 15, 34, 67, 14, 78, 3, 90, 66, 22, 7, 24, 56, 62, 71, 5]\n",
      "\n",
      "After sorting): [2, 2, 3, 4, 5, 6, 7, 9, 11, 12, 14, 15, 18, 22, 23, 24, 34, 45, 56, 62, 66, 67, 71, 78, 80, 90]\n"
     ]
    }
   ],
   "source": [
    "# bubble sort\n",
    "\n",
    "def bubble_sort(list1):\n",
    "    for i in range(len(list1)):\n",
    "        for j in range(len(list1)-i-1):\n",
    "            a = list1[j]\n",
    "            b = list1[j+1]\n",
    "            if a > b:\n",
    "                list1[j] = b\n",
    "                list1[j+1] = a\n",
    "                \n",
    "    return list1\n",
    "\n",
    "if __name__ == \"__main__\":\n",
    "    list1 = [18, 9, 12, 4, 6, 2, 45, 11, 2, 80, 23, 15, 34, 67, 14, 78, 3, 90, 66, 22, 7, 24, 56, 62, 71, 5]\n",
    "    print(f\"Before Sorting: {list1}\")\n",
    "\n",
    "    sorted_list = bubble_sort(list1)\n",
    "\n",
    "    print(f\"\\nAfter sorting): {sorted_list}\")\n"
   ]
  },
  {
   "cell_type": "code",
   "execution_count": 37,
   "id": "548cce6d",
   "metadata": {},
   "outputs": [
    {
     "name": "stdout",
     "output_type": "stream",
     "text": [
      "Before Sorting: [18, 9, 12, 4, 6, 2, 45, 11, 2, 80, 23, 15, 34, 67, 14, 78, 3, 90, 66, 22, 7, 24, 56, 62, 71, 5]\n",
      "\n",
      "After Sorting: [2, 2, 3, 4, 5, 6, 7, 9, 11, 12, 14, 15, 18, 22, 23, 24, 34, 45, 56, 62, 66, 67, 71, 78, 80, 90]\n"
     ]
    }
   ],
   "source": [
    "# insertion sort\n",
    "def insertion_sort(lst):\n",
    "    for i in range(1, len(lst)):\n",
    "        j = i-1\n",
    "\n",
    "        while j >= 0:\n",
    "            if lst[j+1] < lst[j]:\n",
    "                lst[j+1], lst[j] = lst[j], lst[j+1]\n",
    "            j -= 1\n",
    "            \n",
    "    return lst\n",
    "    \n",
    "if __name__ == \"__main__\":\n",
    "    list2 = [18, 9, 12, 4, 6, 2, 45, 11, 2, 80, 23, 15, 34, 67, 14, 78, 3, 90, 66, 22, 7, 24, 56, 62, 71, 5]\n",
    "    print(f\"Before Sorting: {list2}\")\n",
    "    \n",
    "    sorted_list = bubble_sort(list2)\n",
    "    print(f\"\\nAfter Sorting: {sorted_list}\")"
   ]
  },
  {
   "cell_type": "code",
   "execution_count": 36,
   "id": "09d7ca7f",
   "metadata": {},
   "outputs": [
    {
     "name": "stdout",
     "output_type": "stream",
     "text": [
      "Before Sorting: [18, 9, 12, 4, 6, 2, 45, 11, 2, 80, 23, 15, 34, 67, 14, 78, 3, 90, 66, 22, 7, 24, 56, 62, 71, 5]\n",
      "\n",
      "Afetr Sorting: [2, 2, 3, 4, 5, 6, 7, 9, 11, 12, 14, 15, 18, 22, 23, 24, 34, 45, 56, 62, 66, 67, 71, 78, 80, 90]\n"
     ]
    }
   ],
   "source": [
    "# selection sort\n",
    "\n",
    "def selection_sort(lst):\n",
    "    for i in range(0, len(lst)):\n",
    "        min_index = i\n",
    "        \n",
    "        for j in range(i+1, len(lst)):\n",
    "            if lst[min_index] > lst[j]:\n",
    "                min_index = j\n",
    "                \n",
    "        if i != min_index:\n",
    "            lst[i], lst[min_index] = lst[min_index], lst[i]\n",
    "            \n",
    "    return lst\n",
    "\n",
    "if __name__ == \"__main__\":\n",
    "    list3 = [18, 9, 12, 4, 6, 2, 45, 11, 2, 80, 23, 15, 34, 67, 14, 78, 3, 90, 66, 22, 7, 24, 56, 62, 71, 5]\n",
    "    print(f\"Before Sorting: {list3}\")\n",
    "    \n",
    "    sorted_list = selection_sort(list3)\n",
    "    print(f\"\\nAfetr Sorting: {sorted_list}\")"
   ]
  },
  {
   "cell_type": "markdown",
   "id": "d374e7b6",
   "metadata": {},
   "source": [
    "###  Time complexity for insertion, selection and bubble sort is same N^2\n",
    "\n"
   ]
  },
  {
   "cell_type": "code",
   "execution_count": null,
   "id": "37755a6c",
   "metadata": {},
   "outputs": [],
   "source": []
  },
  {
   "cell_type": "code",
   "execution_count": 44,
   "id": "41daa4f3",
   "metadata": {},
   "outputs": [
    {
     "name": "stdout",
     "output_type": "stream",
     "text": [
      "Factorial of number 4 is \n",
      " 24\n",
      "Factorial using lambda function is 24\n"
     ]
    }
   ],
   "source": [
    "# Functions: For each of the functions you create, write the docstrings as well. \n",
    "# Write a function factorial of a given number\n",
    "\n",
    "def factorial(num: int):\n",
    "    \"\"\"Calculates factorial of a give number and returns the result\"\"\"\n",
    "    if num <= 0:\n",
    "        print(\"Given number is less than 0\")\n",
    "        return 0\n",
    "    \n",
    "    result = 1\n",
    "    for i in range(1, num+1):\n",
    "        result *= i\n",
    "        \n",
    "    return result\n",
    "\n",
    "\n",
    "if __name__==\"__main__\":\n",
    "    number = 4\n",
    "    print(f\"Factorial of number {number} is \\n {factorial(number)}\")\n",
    "    \n",
    "    # factorial using lambda function\n",
    "    from functools import reduce\n",
    "    fact = reduce(lambda x,y: x*y, range(1, number+1))\n",
    "    print(f\"Factorial using lambda function is {fact}\")\n",
    "        "
   ]
  },
  {
   "cell_type": "code",
   "execution_count": 45,
   "id": "c19f0dd9",
   "metadata": {},
   "outputs": [
    {
     "name": "stdout",
     "output_type": "stream",
     "text": [
      "0.5\n",
      "0.7615941559557649\n"
     ]
    }
   ],
   "source": [
    "# Write a function that takes two arguments: activation_function name and value that returns the output of \n",
    "# specific activation_function. Implement for sigmoid, binary step function, relu, leaky rely, tanh.\n",
    "# Eg : activation_function('sigmoid',0) should return 0.5\n",
    "\n",
    "\n",
    "import math\n",
    "\n",
    "\n",
    "def activation_function(name, value):\n",
    "    \"\"\"Returns the out of the given activation function\n",
    "    :param name: name of activation function \n",
    "    :param value: input value to activation function\n",
    "    :return: output of given activation function\n",
    "    \"\"\"\n",
    "    output = None\n",
    "    \n",
    "    if name == \"sigmoid\":\n",
    "        # formula = 1/(1+e^-x)\n",
    "        output = 1/(1 + math.exp(-value))\n",
    "        \n",
    "    elif name == \"binary_step_function\":\n",
    "        #  f(x)=1, if x>=0 \n",
    "        #  f(x)=0, if x<0 \n",
    "        if value >= 0:\n",
    "            output = 1\n",
    "        else:\n",
    "            output = 0\n",
    "            \n",
    "    elif name == \"relu\":\n",
    "        #  f(x) = max(0, x) \n",
    "        output = max(0, value)\n",
    "        \n",
    "    elif name == \"leaky_relu\":\n",
    "        # f(x) = ax, x<0 \n",
    "        # f(x) = x, otherwise\n",
    "        if value < 0:\n",
    "            output = 1.0 * value\n",
    "        else:\n",
    "            output = value\n",
    "        \n",
    "    elif name == \"tanh\":\n",
    "        # ƒ(x) = (e^x — e^-x) / (e^x + e^-x)\n",
    "        output = (math.exp(value) - math.exp(-value)) / (math.exp(value) + math.exp(-value))\n",
    "        \n",
    "    else:\n",
    "        print(\"Given name is not a activation function\")\n",
    "    \n",
    "    return output\n",
    "\n",
    "\n",
    "if __name__ == \"__main__\":\n",
    "    print(activation_function('sigmoid',0))\n",
    "    print(activation_function('tanh',1))"
   ]
  },
  {
   "cell_type": "code",
   "execution_count": 46,
   "id": "6015dd6f",
   "metadata": {},
   "outputs": [
    {
     "name": "stdout",
     "output_type": "stream",
     "text": [
      "Result is 60.0\n"
     ]
    }
   ],
   "source": [
    "# Write a function that returns permutation. Permutation is the number of ways to arrange 'r' objects form a set of 'n' objects \n",
    "# where order matters and the formula is P(n, r) = n! / (n - r)!. Use the factorial function from above exercise.\n",
    "\n",
    "def permutation(n: int, r: int):\n",
    "    \"\"\"Find the permutation of n and r and returns the result\"\"\"\n",
    "    return factorial(n)/factorial(n-r)\n",
    "    \n",
    "\n",
    "if __name__==\"__main__\":\n",
    "    n, r = 5, 3\n",
    "    print (f\"Result is {permutation(n, r)}\")"
   ]
  },
  {
   "cell_type": "code",
   "execution_count": 53,
   "id": "3ce61665",
   "metadata": {},
   "outputs": [
    {
     "name": "stdout",
     "output_type": "stream",
     "text": [
      "--------------------------------------------------------------------------------\n",
      "Permutation of 4 with 2 = 12.0\n",
      "--------------------------------------------------------------------------------\n",
      "Combination of 4 and 2 = 6.0\n",
      "--------------------------------------------------------------------------------\n",
      "Permutation of 10 with 5 = 30240.0\n",
      "Combination of 10 and 5 = 252.0\n"
     ]
    }
   ],
   "source": [
    "# Write a function that takes three arguments. First arguments should determine whether to return permutation or combination or \n",
    "# both. Make the first argument optional and default is both if nothing is passed while calling the function.\n",
    "# The second argument is n, which is optional and default is 10. \n",
    "# Finally the third argument is r, which is also optional and default is 5\n",
    "\n",
    "def combination(n: int, r: int):\n",
    "    \"\"\"Find the combination of n and r and returns the result\"\"\"\n",
    "    # n!/r!(n-r)!\n",
    "    return factorial(n)/(factorial(r)*factorial(n-r))\n",
    "\n",
    "def calc(choice='both', n=10, r=5):\n",
    "    \"\"\"Calculates the permutation or combination or both of a given number with given r\"\"\"\n",
    "    \n",
    "    print(\"--\"*40)\n",
    "    if choice == \"permutation\":\n",
    "        print(f\"Permutation of {n} with {r} = {permutation(n, r)}\")\n",
    "        \n",
    "    elif choice == \"combination\":\n",
    "        print(f\"Combination of {n} and {r} = {combination(n, r)}\")\n",
    "        \n",
    "    elif choice == \"both\":\n",
    "        print(f\"Permutation of {n} with {r} = {permutation(n, r)}\")\n",
    "        print(f\"Combination of {n} and {r} = {combination(n, r)}\")\n",
    "        \n",
    "\n",
    "if __name__ == \"__main__\":\n",
    "    calc(\"permutation\", 4, 2)\n",
    "    calc(\"combination\", 4, 2)\n",
    "    calc()"
   ]
  },
  {
   "cell_type": "code",
   "execution_count": 48,
   "id": "b26aa2a8",
   "metadata": {},
   "outputs": [
    {
     "name": "stdout",
     "output_type": "stream",
     "text": [
      "Provided arguments: (1, 2, 3, 4, 5)\n",
      "Average = 3.0\n",
      "Provided arguments: (1, 2, 3, 4, 5, 6, 7, 8, 9, 10)\n",
      "Average = 5.5\n",
      "------------------------------------------------------------------------------------------------------------------------\n",
      "fname : Leif\n",
      "fname : Leif\n",
      "lname : Ericsson\n",
      "contact : 0723986238\n"
     ]
    }
   ],
   "source": [
    "# Implement a function that takes any number of positional and keyword arguments.\n",
    "\n",
    "def avrage(*nums):\n",
    "    \"\"\"Returns average of provided numbers\"\"\"\n",
    "    print(f\"Provided arguments: {nums}\")\n",
    "    return sum(nums)/len(nums)\n",
    "\n",
    "\n",
    "def info(**data):\n",
    "    \"\"\"Displays the given information\"\"\"\n",
    "    for key, val in data.items():\n",
    "        print(f\"{key} : {val}\")\n",
    "        \n",
    "        \n",
    "if __name__==\"__main__\":\n",
    "    print(f\"Average = {avrage(1,2,3,4,5)}\")\n",
    "    print(f\"Average = {avrage(1,2,3,4,5,6,7,8,9,10)}\")\n",
    "    \n",
    "    print(\"---\"*40)\n",
    "    info(fname=\"Leif\" )\n",
    "    info(fname=\"Leif\", lname=\"Ericsson\", contact=\"0723986238\")"
   ]
  },
  {
   "cell_type": "code",
   "execution_count": 65,
   "id": "b09547ce",
   "metadata": {},
   "outputs": [
    {
     "name": "stdout",
     "output_type": "stream",
     "text": [
      "Local var:  20\n",
      "Var in for loop:  1\n",
      "Var in for loop:  2\n",
      "Python keyword, int:  test\n",
      "Global var:  10\n"
     ]
    }
   ],
   "source": [
    "# Understand scope of variables: LEGB \n",
    "#     Rule 1. Local to the function eg. variable defined in the function \n",
    "#     2. Enclosing or nonlocal eg. variables defined in enclosing function in nested function \n",
    "#     3. Global eg. variables defined within main program or module \n",
    "#     4. Built-in eg. Python keywords\n",
    "\n",
    "# Create an example of each case above to illustrate.\n",
    "\n",
    "var = 10\n",
    "\n",
    "def outer_function():\n",
    "    var = 20\n",
    "    print(\"Local var: \", var)\n",
    "    \n",
    "    for var in range(1,3):\n",
    "        print(\"Var in for loop: \", var)\n",
    "        \n",
    "    int = \"test\"\n",
    "    print(\"Python keyword, int: \", int)\n",
    "\n",
    "outer_function()\n",
    "print(\"Global var: \", var)"
   ]
  },
  {
   "cell_type": "code",
   "execution_count": null,
   "id": "c10c19e8",
   "metadata": {},
   "outputs": [],
   "source": []
  }
 ],
 "metadata": {
  "kernelspec": {
   "display_name": "Python 3 (ipykernel)",
   "language": "python",
   "name": "python3"
  },
  "language_info": {
   "codemirror_mode": {
    "name": "ipython",
    "version": 3
   },
   "file_extension": ".py",
   "mimetype": "text/x-python",
   "name": "python",
   "nbconvert_exporter": "python",
   "pygments_lexer": "ipython3",
   "version": "3.10.4"
  }
 },
 "nbformat": 4,
 "nbformat_minor": 5
}
