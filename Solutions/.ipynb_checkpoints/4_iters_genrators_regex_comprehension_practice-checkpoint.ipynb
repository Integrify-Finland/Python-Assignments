{
 "cells": [
  {
   "cell_type": "code",
   "execution_count": null,
   "id": "2854e1ef",
   "metadata": {},
   "outputs": [],
   "source": [
    "# Iterator and generator: (For advanced learners, read from the links ) \n",
    "# a. As you have already known, the iterables objects are the stream of data like string,list, dict, set etc which can be looped over or iterated. Since you have also known that you can convert an iterable into an iterator using iter method and iterators have next method, it's time to play around with the builtin itertools module.\n",
    "# Create a list apply iter method to it and run next method until you get StopIteration error\n",
    "# Import itertools in your notebook and create infinite iterators using count,cycle and and repeat methods. Refer https://docs.python.org/3/library/itertools.html\n",
    "# Use methods from Iterators terminating on the shortest input sequence\n",
    "# User methods from Combinatoric iterator b. Create an infinite generator that generates the fibonacci series\n"
   ]
  },
  {
   "cell_type": "code",
   "execution_count": 16,
   "id": "91770c1b",
   "metadata": {},
   "outputs": [
    {
     "name": "stdout",
     "output_type": "stream",
     "text": [
      "10\n",
      "20\n",
      "30\n",
      "40\n"
     ]
    },
    {
     "ename": "StopIteration",
     "evalue": "",
     "output_type": "error",
     "traceback": [
      "\u001b[1;31m---------------------------------------------------------------------------\u001b[0m",
      "\u001b[1;31mStopIteration\u001b[0m                             Traceback (most recent call last)",
      "Cell \u001b[1;32mIn[16], line 8\u001b[0m\n\u001b[0;32m      6\u001b[0m \u001b[38;5;28mprint\u001b[39m(\u001b[38;5;28mnext\u001b[39m(iterator))\n\u001b[0;32m      7\u001b[0m \u001b[38;5;28mprint\u001b[39m(\u001b[38;5;28mnext\u001b[39m(iterator))\n\u001b[1;32m----> 8\u001b[0m \u001b[38;5;28mprint\u001b[39m(\u001b[38;5;28;43mnext\u001b[39;49m\u001b[43m(\u001b[49m\u001b[43miterator\u001b[49m\u001b[43m)\u001b[49m)\n",
      "\u001b[1;31mStopIteration\u001b[0m: "
     ]
    }
   ],
   "source": [
    "# Create a list apply iter method to it and run next method until you get StopIteration error\n",
    "nums = [10, 20, 30, 40]\n",
    "iterator = iter(nums)\n",
    "print(next(iterator))\n",
    "print(next(iterator))\n",
    "print(next(iterator))\n",
    "print(next(iterator))\n",
    "print(next(iterator))"
   ]
  },
  {
   "cell_type": "code",
   "execution_count": 17,
   "id": "ccfb1d6a",
   "metadata": {},
   "outputs": [],
   "source": [
    "#  Import itertools in your notebook and create infinite iterators using count,cycle and and repeat methods\n",
    "import itertools\n",
    "def count(start=0, step=1):\n",
    "    n = start\n",
    "    while True:\n",
    "        yield n\n",
    "        n += step\n"
   ]
  },
  {
   "cell_type": "code",
   "execution_count": 27,
   "id": "c681d6ad",
   "metadata": {},
   "outputs": [
    {
     "name": "stdout",
     "output_type": "stream",
     "text": [
      "0\n",
      "1\n",
      "1\n",
      "2\n",
      "3\n",
      "5\n",
      "8\n",
      "13\n"
     ]
    }
   ],
   "source": [
    "# Create an infinite generator that generates the fibonacci series\n",
    "\n",
    "def generate_fibbonacci():\n",
    "    p1 = 0\n",
    "    p2 = 1\n",
    "    while True:\n",
    "        if p1 == 0:\n",
    "            yield p1\n",
    "            yield p2 \n",
    "        else:\n",
    "            yield p2\n",
    "            \n",
    "        p1, p2 = p2, p1 + p2\n",
    "        \n",
    "\n",
    "fibbo_series = generate_fibbonacci()\n",
    "\n",
    "print(next(fibbo_series))\n",
    "print(next(fibbo_series))\n",
    "print(next(fibbo_series))\n",
    "print(next(fibbo_series))\n",
    "print(next(fibbo_series))\n",
    "print(next(fibbo_series))\n",
    "print(next(fibbo_series))\n",
    "print(next(fibbo_series))"
   ]
  },
  {
   "cell_type": "code",
   "execution_count": 6,
   "id": "6d7b6a99",
   "metadata": {},
   "outputs": [
    {
     "name": "stdout",
     "output_type": "stream",
     "text": [
      "['example', 'w3resource', 'github', 'stackoverflow']\n",
      "------------------------------------------------------------------------------------------\n",
      "Found b in string\n"
     ]
    }
   ],
   "source": [
    "# Regular expression:\n",
    "# Read and practices more on regex https://www.w3resource.com/python-exercises/re/\n",
    "\n",
    "import re\n",
    "\n",
    "#  remove the parenthesis area in a string.\n",
    "data = [\"example (.com)\", \"w3resource\", \"github (.com)\", \"stackoverflow (.com)\"]\n",
    "\n",
    "updated_data = [re.sub(r\" ?\\([^)]+\\)\", \"\", item) for item in data]\n",
    "    \n",
    "print(updated_data)\n",
    "\n",
    "\n",
    "# matches a string that has an a followed by zero or more b's\n",
    "\n",
    "print(\"---\"*30)\n",
    "text = \"abb\"\n",
    "if re.search(\"^a(b*)$\",  text):\n",
    "        print(\"Found b in string\")\n",
    "else:\n",
    "        print('Not found')\n",
    "\n"
   ]
  },
  {
   "cell_type": "code",
   "execution_count": 1,
   "id": "b2603c67",
   "metadata": {},
   "outputs": [
    {
     "name": "stdout",
     "output_type": "stream",
     "text": [
      "[6, 12, 18, 24, 30, 36, 42, 48, 54, 60]\n"
     ]
    }
   ],
   "source": [
    "# Comprehension:\n",
    "# Write a multiplication table of any given number in a list using list comprehension\n",
    "num = 6\n",
    "table = [num * i for i in range(1, 11)]\n",
    "print(table)"
   ]
  },
  {
   "cell_type": "code",
   "execution_count": 2,
   "id": "2a7f2325",
   "metadata": {},
   "outputs": [
    {
     "name": "stdout",
     "output_type": "stream",
     "text": [
      "[5, 15, 25, 35, 45, 50, 51, 52, 53, 54, 55, 56, 57, 58, 59, 65, 75, 85, 95, 105, 115, 125, 135, 145, 150, 151, 152, 153, 154, 155, 156, 157, 158, 159, 165, 175, 185, 195, 205, 215, 225, 235, 245, 250, 251, 252, 253, 254, 255, 256, 257, 258, 259, 265, 275, 285, 295, 305, 315, 325, 335, 345, 350, 351, 352, 353, 354, 355, 356, 357, 358, 359, 365, 375, 385, 395, 405, 415, 425, 435, 445, 450, 451, 452, 453, 454, 455, 456, 457, 458, 459, 465, 475, 485, 495, 500]\n"
     ]
    }
   ],
   "source": [
    "# Find all numbers from 1 to 500 that has 5 in them\n",
    "filter_5s = [n for n in range(1, 501) if '5' in str(n)]\n",
    "print(filter_5s)"
   ]
  },
  {
   "cell_type": "code",
   "execution_count": 5,
   "id": "b01afccc",
   "metadata": {},
   "outputs": [
    {
     "name": "stdout",
     "output_type": "stream",
     "text": [
      "Non string data is \n",
      "[True, 10, 20, 30, 4.0, False, 0]\n",
      "[True, True, True, True, True, True, True]\n"
     ]
    }
   ],
   "source": [
    "# Given the list of items=[\"apple\",True,10,\"banana\",20,30,4.0,\"grapes\",\"laptop\",\"phone\", False,0], \n",
    "# generate the list of non-string values\n",
    "\n",
    "data = [\"apple\",True,10,\"banana\",20,30,4.0,\"grapes\",\"laptop\",\"phone\", False,0]\n",
    "filter_nonstr = [item for item in data if not(isinstance(item, str))]\n",
    "print(f\"Non string data is \\n{filter_nonstr}\")\n",
    "\n",
    "# Generate the boolean True for numeric and False for non-numeric in above items list\n",
    "set_bool = [isinstance(i, int) or isinstance(i, float) for i in filter_nonstr]\n",
    "print(set_bool)"
   ]
  },
  {
   "cell_type": "code",
   "execution_count": 6,
   "id": "84d88edd",
   "metadata": {},
   "outputs": [
    {
     "name": "stdout",
     "output_type": "stream",
     "text": [
      "Cat files: \n",
      "['cat1.png', 'cat2.png', 'cat3.png', 'cat4.png', 'cat5.png', 'cat6.png']\n",
      "Dog files: \n",
      "['dog1.png', 'dog2.png', 'dog3.png']\n"
     ]
    }
   ],
   "source": [
    "# files=[\"cat1.png\",\"dog1.png\",\"cat2.png\",\"cat3.png\",\"cat4.png\",\"dog2.png\",\"cat5.png\",\"cat6.png\",\"dog3.png\"], \n",
    "# generate two lists of cat and dog image files\n",
    "files=[\"cat1.png\",\"dog1.png\",\"cat2.png\",\"cat3.png\",\"cat4.png\",\"dog2.png\",\"cat5.png\",\"cat6.png\",\"dog3.png\"]\n",
    "cat_files = [name for name in files if 'cat' in name]\n",
    "dog_files = [name for name in files if 'dog' in name]\n",
    "\n",
    "print(f\"Cat files: \\n{cat_files}\")\n",
    "print(f\"Dog files: \\n{dog_files}\")"
   ]
  },
  {
   "cell_type": "code",
   "execution_count": 8,
   "id": "8dc92f51",
   "metadata": {},
   "outputs": [
    {
     "name": "stdout",
     "output_type": "stream",
     "text": [
      "Generated complementary dna template is \n",
      "TTAGGCTTTTAAGCCCTTAAAAGCGCA\n"
     ]
    }
   ],
   "source": [
    "# Use appropriate comprehension method to generate the complementary dna template using information form 8.b\n",
    "\n",
    "dna_template='AATCCGAAAATTCGGGAATTTTCGCGT'\n",
    "mapper={\"T\":\"A\",\"A\":\"T\",\"G\":\"C\",\"C\":\"G\"}\n",
    "\n",
    "comp_dna_template = [mapper[char] for char in dna_template if char in mapper]\n",
    "\n",
    "print(f\"Generated complementary dna template is \\n{''.join(comp_dna_template)}\")\n"
   ]
  },
  {
   "cell_type": "code",
   "execution_count": 11,
   "id": "2d4de2cb",
   "metadata": {},
   "outputs": [
    {
     "name": "stdout",
     "output_type": "stream",
     "text": [
      "For loop time:  5.2095301151275635\n",
      "List comprehension time:  4.195472478866577\n"
     ]
    }
   ],
   "source": [
    "# Run the following command in your notebook. What could be the reason the list comprehension is more elegant?\n",
    "\n",
    "import time\n",
    "\n",
    "# using the loop\n",
    "start_time = time.time()\n",
    "\n",
    "nums = []\n",
    "for i in range(1, 10000001):\n",
    "    nums.append(i**2)\n",
    "    \n",
    "end_time = time.time()\n",
    "for_loop_time = end_time - start_time\n",
    "\n",
    "# using list comprehension\n",
    "start_time = time.time()\n",
    "\n",
    "nums = [i**2 for i in range(1, 10000001)]\n",
    "end_time = time.time()\n",
    "\n",
    "list_comp_time = end_time - start_time\n",
    "\n",
    "print(\"For loop time: \", for_loop_time)\n",
    "print(\"List comprehension time: \", list_comp_time)\n"
   ]
  }
 ],
 "metadata": {
  "kernelspec": {
   "display_name": "Python 3 (ipykernel)",
   "language": "python",
   "name": "python3"
  },
  "language_info": {
   "codemirror_mode": {
    "name": "ipython",
    "version": 3
   },
   "file_extension": ".py",
   "mimetype": "text/x-python",
   "name": "python",
   "nbconvert_exporter": "python",
   "pygments_lexer": "ipython3",
   "version": "3.10.4"
  }
 },
 "nbformat": 4,
 "nbformat_minor": 5
}
