{
 "cells": [
  {
   "cell_type": "markdown",
   "id": "919e772e",
   "metadata": {},
   "source": [
    "Python Basics: Iters and generators,regex, comprehension\n",
    "\n",
    "Iterator and generator: (For advanced learners, read from the links ) a. As you have already known, the iterables objects are the stream of data like string,list, dict, set etc which can be looped over or iterated. Since you have also known that you can convert an iterable into an iterator using iter method and iterators have next method, it's time to play around with the builtin itertools module.\n",
    "i Create a list apply iter method to it and run next method until you get StopIteration error\n",
    "ii. Import itertools in your notebook and create infinite iterators using count,cycle and and repeat methods. Refer https://docs.python.org/3/library/itertools.html\n",
    "iii. Use methods from I terators terminating on the shortest input sequence\n",
    "iv. User methods from Combinatoric iterator \n",
    "vi. Create an infinite generator that generates the fibonacci series"
   ]
  },
  {
   "cell_type": "code",
   "execution_count": 10,
   "id": "d81b28e7",
   "metadata": {},
   "outputs": [
    {
     "name": "stdout",
     "output_type": "stream",
     "text": [
      "<list_iterator object at 0x00000244DF7BDEE0>\n",
      "1\n",
      "2\n",
      "3\n",
      "4\n",
      "5\n"
     ]
    },
    {
     "ename": "StopIteration",
     "evalue": "",
     "output_type": "error",
     "traceback": [
      "\u001b[1;31m---------------------------------------------------------------------------\u001b[0m",
      "\u001b[1;31mStopIteration\u001b[0m                             Traceback (most recent call last)",
      "\u001b[1;32m~\\AppData\\Local\\Temp\\ipykernel_8136\\721233370.py\u001b[0m in \u001b[0;36m<module>\u001b[1;34m\u001b[0m\n\u001b[0;32m      7\u001b[0m \u001b[0mprint\u001b[0m\u001b[1;33m(\u001b[0m\u001b[0mnext\u001b[0m\u001b[1;33m(\u001b[0m\u001b[0mmy_iter\u001b[0m\u001b[1;33m)\u001b[0m\u001b[1;33m)\u001b[0m\u001b[1;33m\u001b[0m\u001b[1;33m\u001b[0m\u001b[0m\n\u001b[0;32m      8\u001b[0m \u001b[0mprint\u001b[0m\u001b[1;33m(\u001b[0m\u001b[0mnext\u001b[0m\u001b[1;33m(\u001b[0m\u001b[0mmy_iter\u001b[0m\u001b[1;33m)\u001b[0m\u001b[1;33m)\u001b[0m\u001b[1;33m\u001b[0m\u001b[1;33m\u001b[0m\u001b[0m\n\u001b[1;32m----> 9\u001b[1;33m \u001b[0mprint\u001b[0m\u001b[1;33m(\u001b[0m\u001b[0mnext\u001b[0m\u001b[1;33m(\u001b[0m\u001b[0mmy_iter\u001b[0m\u001b[1;33m)\u001b[0m\u001b[1;33m)\u001b[0m\u001b[1;33m\u001b[0m\u001b[1;33m\u001b[0m\u001b[0m\n\u001b[0m",
      "\u001b[1;31mStopIteration\u001b[0m: "
     ]
    }
   ],
   "source": [
    "my_list = [1,2,3,4,5]\n",
    "my_iter = iter(my_list)\n",
    "print(my_iter)\n",
    "print(next(my_iter))\n",
    "print(next(my_iter))\n",
    "print(next(my_iter))\n",
    "print(next(my_iter))\n",
    "print(next(my_iter))\n",
    "print(next(my_iter))"
   ]
  },
  {
   "cell_type": "code",
   "execution_count": 22,
   "id": "a04e7160",
   "metadata": {},
   "outputs": [
    {
     "name": "stdout",
     "output_type": "stream",
     "text": [
      "0\n",
      "a\n",
      "hello\n"
     ]
    }
   ],
   "source": [
    "import itertools\n",
    "\n",
    "\n",
    "# count method returns an infinite iterator starting from 0 by default\n",
    "count_iter = itertools.count()\n",
    "\n",
    "# cycle method returns an infinite iterator cycling through the given iterable\n",
    "cycle_iter = itertools.cycle(['a', 'b', 'c'])\n",
    "\n",
    "\n",
    "# repeat method returns an infinite iterator repeating the given element\n",
    "repeat_iter = itertools.repeat('hello')\n",
    "\n",
    "print(next(count_iter))\n",
    "print(next(cycle_iter))\n",
    "print(next(repeat_iter))"
   ]
  },
  {
   "cell_type": "code",
   "execution_count": 24,
   "id": "205496c1",
   "metadata": {},
   "outputs": [
    {
     "name": "stdout",
     "output_type": "stream",
     "text": [
      "(1, 'a')\n",
      "(2, 'b')\n",
      "(3, 'c')\n"
     ]
    }
   ],
   "source": [
    "my_list_1 = [1, 2, 3]\n",
    "my_list_2 = ['a', 'b', 'c', 'd']\n",
    "\n",
    "#  zip function to create an iterator that terminates on the shortest input sequence\n",
    "my_iter = zip(my_list_1, my_list_2)\n",
    "\n",
    "# while loop and the next method to iterate through the iterator\n",
    "while True:\n",
    "    try:\n",
    "        value = next(my_iter)\n",
    "        print(value)\n",
    "    except StopIteration:\n",
    "        break\n"
   ]
  },
  {
   "cell_type": "code",
   "execution_count": null,
   "id": "dcd40b51",
   "metadata": {},
   "outputs": [],
   "source": [
    "iv. User methods from Combinatoric iterator "
   ]
  },
  {
   "cell_type": "code",
   "execution_count": 39,
   "id": "8ccb8409",
   "metadata": {},
   "outputs": [
    {
     "name": "stdout",
     "output_type": "stream",
     "text": [
      "(1, 'x')\n",
      "(1, 'y')\n",
      "(1, 'z')\n",
      "(2, 'x')\n",
      "(2, 'y')\n",
      "(2, 'z')\n",
      "('x', 'y', 'z')\n",
      "('x', 'z', 'y')\n",
      "('y', 'x', 'z')\n",
      "('y', 'z', 'x')\n",
      "('z', 'x', 'y')\n",
      "('z', 'y', 'x')\n",
      "('x', 'y')\n",
      "('x', 'z')\n",
      "('y', 'z')\n"
     ]
    }
   ],
   "source": [
    "import itertools\n",
    "\n",
    "a = [1, 2]\n",
    "b = ['x', 'y', 'z']\n",
    "\n",
    "# the Cartesian product of a and b\n",
    "c = itertools.product(a, b)\n",
    "\n",
    "# Printing each element of the Cartesian product\n",
    "for elem in c:\n",
    "    print( elem)\n",
    "\n",
    "# Getting all permutations of a\n",
    "per = itertools.permutations(b)\n",
    "\n",
    "# Printing each permutation\n",
    "for elem in per:\n",
    "    print(elem)  \n",
    "    \n",
    "# Getting all combinations of b of length 2 \n",
    "comb = itertools.combinations(b, 2)\n",
    "\n",
    "# Print each combination\n",
    "for elem in comb:\n",
    "    print(elem)"
   ]
  },
  {
   "cell_type": "markdown",
   "id": "43e318de",
   "metadata": {},
   "source": [
    "vi. Create an infinite generator that generates the fibonacci series"
   ]
  },
  {
   "cell_type": "code",
   "execution_count": 40,
   "id": "32b2aa2a",
   "metadata": {},
   "outputs": [
    {
     "name": "stdout",
     "output_type": "stream",
     "text": [
      "0\n",
      "1\n",
      "1\n",
      "2\n",
      "3\n",
      "5\n",
      "8\n",
      "13\n",
      "21\n",
      "34\n"
     ]
    }
   ],
   "source": [
    "def fibonacci_generator():\n",
    "    a, b = 0, 1\n",
    "    while True:\n",
    "        yield a\n",
    "        a, b = b, a + b\n",
    "\n",
    "# to generate and print the first 10 Fibonacci numbers\n",
    "gen = fibonacci_generator()\n",
    "for i in range(10):\n",
    "    print(next(gen))  "
   ]
  },
  {
   "cell_type": "markdown",
   "id": "384d63cc",
   "metadata": {},
   "source": [
    "a. Regular expression:\n",
    "Read and practices more on regex\n"
   ]
  },
  {
   "cell_type": "code",
   "execution_count": 43,
   "id": "c9c56746",
   "metadata": {},
   "outputs": [
    {
     "name": "stdout",
     "output_type": "stream",
     "text": [
      "Enter a string: abc\n",
      "Match found!\n"
     ]
    }
   ],
   "source": [
    "## few example\n",
    "## function to find if given string contains a followed by zero  or more b\n",
    "\n",
    "import re\n",
    "\n",
    "# Define the regular expression pattern\n",
    "pattern = r'a[b]*'\n",
    "\n",
    "# Prompt the user for input\n",
    "string = input('Enter a string: ')\n",
    "\n",
    "# Use the match() function to search for a match\n",
    "match = re.match(pattern, string)\n",
    "\n",
    "# Check if a match was found\n",
    "if match:\n",
    "    print('Match found!')\n",
    "else:\n",
    "    print('No match found.')\n"
   ]
  },
  {
   "cell_type": "code",
   "execution_count": 44,
   "id": "a75ab15b",
   "metadata": {},
   "outputs": [
    {
     "name": "stdout",
     "output_type": "stream",
     "text": [
      "Enter a string: vgdjks\n",
      "The string does not end with a number.\n"
     ]
    }
   ],
   "source": [
    "##Example :  that uses regular expressions to check for a number at the end of a string:\n",
    "\n",
    "import re\n",
    "\n",
    "# Define the regular expression pattern\n",
    "pattern = r'\\d+$'\n",
    "\n",
    "# Prompt the user for input\n",
    "string = input('Enter a string: ')\n",
    "\n",
    "# Use the search() function to find a match\n",
    "match = re.search(pattern, string)\n",
    "\n",
    "# Check if a match was found\n",
    "if match:\n",
    "    print('The string ends with a number.')\n",
    "else:\n",
    "    print('The string does not end with a number.')\n"
   ]
  },
  {
   "cell_type": "raw",
   "id": "ff620385",
   "metadata": {},
   "source": [
    "# b. Comprehension:\n",
    "\n",
    "i.Read different types of comprehension in python\n",
    "ii. Write a multiplication table of any given number in a list using list comprehension\n",
    "iii. Find all numbers from 1 to 500 that has 5 in them\n",
    "iv. Given the list of items=[\"apple\",True,10,\"banana\",20,30,4.0,\"grapes\",\"laptop\",\"phone\", False,0], generate the list of non-string values\n",
    "v. Generate the boolean True for numeric and False for non-numeric in above items list\n",
    "vi. files=[\"cat1.png\",\"dog1.png\",\"cat2.png\",\"cat3.png\",\"cat4.png\",\"dog2.png\",\"cat5.png\",\"cat6.png\",\"dog3.png\"], generate two    lists of cat and dog image files\n",
    "vii. Use appropriate comprehension method to generate the complementary dna template using information form Assignment2.2.b\n",
    "viii. Run the following command in your notebook. What could be the reason the list comprehension is more elegant?\n"
   ]
  },
  {
   "cell_type": "code",
   "execution_count": 81,
   "id": "d4e29161",
   "metadata": {},
   "outputs": [],
   "source": [
    "#\"ii Multiplication table for any given number using list comprehension\"\n",
    " ## using for loop\n",
    "#def print_multiplication_table(num):\n",
    "   # for i in range(1, 11):\n",
    "        #print(f\"{num}X{i}={num*i}\")\n",
    "        \n",
    "def multiplication_table(num):      \n",
    "    table = [(f\"{num}X{i}={num*i}\") for i in range(1,11)]  \n",
    "    return \"\\n\".join(table)\n",
    "    \n",
    "\n",
    "          "
   ]
  },
  {
   "cell_type": "code",
   "execution_count": 84,
   "id": "9720ac61",
   "metadata": {},
   "outputs": [
    {
     "name": "stdout",
     "output_type": "stream",
     "text": [
      "5X1=5\n",
      "5X2=10\n",
      "5X3=15\n",
      "5X4=20\n",
      "5X5=25\n",
      "5X6=30\n",
      "5X7=35\n",
      "5X8=40\n",
      "5X9=45\n",
      "5X10=50\n"
     ]
    }
   ],
   "source": [
    "print(multiplication_table(5))"
   ]
  },
  {
   "cell_type": "code",
   "execution_count": 101,
   "id": "14a440f8",
   "metadata": {},
   "outputs": [
    {
     "name": "stdout",
     "output_type": "stream",
     "text": [
      "find_five: [5, 15, 25, 35, 45, 50, 51, 52, 53, 54, 55, 56, 57, 58, 59, 65, 75, 85, 95, 105, 115, 125, 135, 145, 150, 151, 152, 153, 154, 155, 156, 157, 158, 159, 165, 175, 185, 195, 205, 215, 225, 235, 245, 250, 251, 252, 253, 254, 255, 256, 257, 258, 259, 265, 275, 285, 295, 305, 315, 325, 335, 345, 350, 351, 352, 353, 354, 355, 356, 357, 358, 359, 365, 375, 385, 395, 405, 415, 425, 435, 445, 450, 451, 452, 453, 454, 455, 456, 457, 458, 459, 465, 475, 485, 495, 500]\n"
     ]
    },
    {
     "data": {
      "text/plain": [
       "[5,\n",
       " 15,\n",
       " 25,\n",
       " 35,\n",
       " 45,\n",
       " 50,\n",
       " 51,\n",
       " 52,\n",
       " 53,\n",
       " 54,\n",
       " 55,\n",
       " 56,\n",
       " 57,\n",
       " 58,\n",
       " 59,\n",
       " 65,\n",
       " 75,\n",
       " 85,\n",
       " 95,\n",
       " 105,\n",
       " 115,\n",
       " 125,\n",
       " 135,\n",
       " 145,\n",
       " 150,\n",
       " 151,\n",
       " 152,\n",
       " 153,\n",
       " 154,\n",
       " 155,\n",
       " 156,\n",
       " 157,\n",
       " 158,\n",
       " 159,\n",
       " 165,\n",
       " 175,\n",
       " 185,\n",
       " 195,\n",
       " 205,\n",
       " 215,\n",
       " 225,\n",
       " 235,\n",
       " 245,\n",
       " 250,\n",
       " 251,\n",
       " 252,\n",
       " 253,\n",
       " 254,\n",
       " 255,\n",
       " 256,\n",
       " 257,\n",
       " 258,\n",
       " 259,\n",
       " 265,\n",
       " 275,\n",
       " 285,\n",
       " 295,\n",
       " 305,\n",
       " 315,\n",
       " 325,\n",
       " 335,\n",
       " 345,\n",
       " 350,\n",
       " 351,\n",
       " 352,\n",
       " 353,\n",
       " 354,\n",
       " 355,\n",
       " 356,\n",
       " 357,\n",
       " 358,\n",
       " 359,\n",
       " 365,\n",
       " 375,\n",
       " 385,\n",
       " 395,\n",
       " 405,\n",
       " 415,\n",
       " 425,\n",
       " 435,\n",
       " 445,\n",
       " 450,\n",
       " 451,\n",
       " 452,\n",
       " 453,\n",
       " 454,\n",
       " 455,\n",
       " 456,\n",
       " 457,\n",
       " 458,\n",
       " 459,\n",
       " 465,\n",
       " 475,\n",
       " 485,\n",
       " 495,\n",
       " 500]"
      ]
     },
     "execution_count": 101,
     "metadata": {},
     "output_type": "execute_result"
    }
   ],
   "source": [
    "##iii. Find all numbers from 1 to 500 that has 5 in them\n",
    "find_five = []\n",
    "for num in range(1,501):\n",
    "    if '5' in str(num):\n",
    "        find_five.append(num)\n",
    "        \n",
    "        \n",
    "print(\"find_five:\" ,find_five)        \n",
    " \n",
    "#using list comprehension\n",
    "numbers_with_5 = [num for num in range(1, 501) if '5' in str(num)]\n",
    "numbers_with_5"
   ]
  },
  {
   "cell_type": "code",
   "execution_count": 104,
   "id": "3659f161",
   "metadata": {},
   "outputs": [
    {
     "name": "stdout",
     "output_type": "stream",
     "text": [
      "non_string_values:  [True, 10, 20, 30, 4.0, False, 0]\n",
      "numeric_boolean:  [False, True, True, False, True, True, True, False, False, False, True, True]\n"
     ]
    }
   ],
   "source": [
    "##Given the list of items=[\"apple\",True,10,\"banana\",20,30,4.0,\"grapes\",\"laptop\",\"phone\", False,0], generate the list of non-string values\n",
    "items = [\"apple\",True,10,\"banana\",20,30,4.0,\"grapes\",\"laptop\",\"phone\", False,0]\n",
    "non_string_values = [item for item in items if not isinstance(item, str)]\n",
    "print(\"non_string_values: \",non_string_values)\n",
    "\n",
    "numeric_boolean = [isinstance(item, (int, float)) for item in items]\n",
    "print(\"numeric_boolean: \",numeric_boolean)\n"
   ]
  },
  {
   "cell_type": "code",
   "execution_count": 107,
   "id": "50801a6b",
   "metadata": {},
   "outputs": [
    {
     "name": "stdout",
     "output_type": "stream",
     "text": [
      "cat_files:  ['cat1.png', 'cat2.png', 'cat3.png', 'cat4.png', 'cat5.png', 'cat6.png']\n",
      "dog_files:  ['dog1.png', 'dog2.png', 'dog3.png']\n"
     ]
    }
   ],
   "source": [
    "#vi\n",
    "files = [\"cat1.png\",\"dog1.png\",\"cat2.png\",\"cat3.png\",\"cat4.png\",\"dog2.png\",\"cat5.png\",\"cat6.png\",\"dog3.png\"]\n",
    "cat_files = [file for file in files if \"cat\" in file]\n",
    "dog_files = [file for file in files if \"dog\" in file]\n",
    "print(\"cat_files: \",cat_files)\n",
    "print(\"dog_files: \",dog_files)\n"
   ]
  },
  {
   "cell_type": "code",
   "execution_count": 108,
   "id": "9d6db2a6",
   "metadata": {},
   "outputs": [
    {
     "name": "stdout",
     "output_type": "stream",
     "text": [
      "TTAGGCTTTTAAGCCCTTAAAAGCGCA\n"
     ]
    }
   ],
   "source": [
    "##Use appropriate comprehension method to generate the complementary dna template using information form Assignment2.2.b\n",
    "##DNA is coded using 4 nitrogen bases with the symbols A,T,G,C. Given the template string \n",
    "##dna_template='AATCCGAAAATTCGGGAATTTTCGCGT' , generate the complementary dna template with the mapping\n",
    "#mapper={\"T\":\"A\",\"A\":\"T\",\"G\":\"C\",\"C\":\"G\"}\n",
    "\n",
    "dna_template = 'AATCCGAAAATTCGGGAATTTTCGCGT'\n",
    "mapper = {\"T\": \"A\", \"A\": \"T\", \"G\": \"C\", \"C\": \"G\"}\n",
    "\n",
    "## we can use dictionary comprehension method\n",
    "\n",
    "complement_template = ''.join([mapper[base] for base in dna_template])\n",
    "\n",
    "print(complement_template)\n"
   ]
  },
  {
   "cell_type": "markdown",
   "id": "0a1bf4fe",
   "metadata": {},
   "source": [
    "What could be the reason the list comprehension is more elegant?"
   ]
  },
  {
   "cell_type": "code",
   "execution_count": 109,
   "id": "db04face",
   "metadata": {},
   "outputs": [
    {
     "name": "stdout",
     "output_type": "stream",
     "text": [
      "For loop time: 6.660649538040161\n",
      "List Comprehension time:  6.173462629318237\n"
     ]
    }
   ],
   "source": [
    "import time\n",
    "\n",
    "#using for loop\n",
    "start_time = time.time()\n",
    "\n",
    "nums = []\n",
    "for i in range(1, 10000001):\n",
    "    nums.append(i**2)\n",
    "    \n",
    "    \n",
    "end_time= time.time() \n",
    "for_loop_time = end_time - start_time\n",
    "\n",
    "\n",
    "## Using list comprehesion\n",
    "start_time = time.time()\n",
    "nums = [i**2 for i in range(1, 10000001)]\n",
    "\n",
    "end_time = time.time()\n",
    "list_comp_time = end_time-start_time\n",
    "\n",
    "print(\"For loop time:\" , for_loop_time)\n",
    "print(\"List Comprehension time: \", list_comp_time)\n"
   ]
  },
  {
   "cell_type": "markdown",
   "id": "bceb348a",
   "metadata": {},
   "source": [
    "Conciseness: List comprehensions are more concise than for loops because they allow  to express the same logic in fewer lines of code. \n",
    "\n",
    "Readability: List comprehensions can be more readable than for loops because they make it clear what operation is being performed on each element of the list.\n",
    "\n",
    "Efficiency: List comprehensions can be more efficient than for loops because they are implemented at a lower level in the Python interpreter. \n",
    "\n",
    "Ease of use: List comprehensions are easier to use than for loops because they eliminate the need for an extra variable to store the result. This can make  code cleaner and more concise."
   ]
  }
 ],
 "metadata": {
  "kernelspec": {
   "display_name": "Python 3 (ipykernel)",
   "language": "python",
   "name": "python3"
  },
  "language_info": {
   "codemirror_mode": {
    "name": "ipython",
    "version": 3
   },
   "file_extension": ".py",
   "mimetype": "text/x-python",
   "name": "python",
   "nbconvert_exporter": "python",
   "pygments_lexer": "ipython3",
   "version": "3.9.13"
  }
 },
 "nbformat": 4,
 "nbformat_minor": 5
}
