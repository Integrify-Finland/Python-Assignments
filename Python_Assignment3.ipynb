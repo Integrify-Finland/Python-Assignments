{
  "nbformat": 4,
  "nbformat_minor": 0,
  "metadata": {
    "colab": {
      "provenance": [],
      "authorship_tag": "ABX9TyPKwTLcUXfTnvY/bVz7iSz1",
      "include_colab_link": true
    },
    "kernelspec": {
      "name": "python3",
      "display_name": "Python 3"
    },
    "language_info": {
      "name": "python"
    }
  },
  "cells": [
    {
      "cell_type": "markdown",
      "metadata": {
        "id": "view-in-github",
        "colab_type": "text"
      },
      "source": [
        "<a href=\"https://colab.research.google.com/github/afshari-maryam/Python-Assignment1/blob/main/Python_Assignment3.ipynb\" target=\"_parent\"><img src=\"https://colab.research.google.com/assets/colab-badge.svg\" alt=\"Open In Colab\"/></a>"
      ]
    },
    {
      "cell_type": "markdown",
      "source": [
        "#Higher order functions Python"
      ],
      "metadata": {
        "id": "j9UgLWqIHjY_"
      }
    },
    {
      "cell_type": "markdown",
      "source": [
        "Write a Python script to implement the map(), filter(), and reduce() functions on a list of integers.\n",
        "\n",
        "The map() function should square each element of the list,\n",
        "The filter() function should remove all odd numbers from the list.\n",
        "The reduce() function should find the product of all the even numbers in the list.\n",
        "The script should follow Python syntax and conventions.\n",
        "\n",
        "In this solution, we define two helper functions: square() and product(). The square() function takes a number and returns its square, and the product() function takes two numbers and returns their product.\n",
        "\n",
        "We then define a list of integers called numbers. We use the map() function to square each element of the list by passing the square() function as an argument to map(). We convert the resulting map object to a list using the list() function, and print it to the console.\n",
        "\n",
        "We use the filter() function to remove all odd numbers from the list by passing a lambda function as an argument to filter() that checks whether each number is even. We convert the resulting filter object to a list using the list() function, and print it to the console.\n",
        "\n",
        "Finally, we use the reduce() function to find the product of all even numbers in the list by passing the product() function and the evens list as arguments to reduce(). We print the resulting product to the console.\n",
        "\n",
        "The solution follows Python syntax and conventions by using docstrings to document the functions, using meaningful function and variable names, and following the PEP 8 style guide for formatting the code."
      ],
      "metadata": {
        "id": "TzXmqw8jWTW6"
      }
    },
    {
      "cell_type": "markdown",
      "source": [
        "**PEP 8** is a widely used style guide for Python code. Following PEP 8 ensures that your code is consistent, readable, and easy to understand by other Python developers. Here are some of the key guidelines from PEP 8 for formatting Python code:\n",
        "\n",
        "1. Use four spaces for indentation instead of tabs.\n",
        "2. Limit each line to a maximum of 79 characters to avoid horizontal scrolling.\n",
        "3. Use whitespace to improve readability, for example, put a space after commas and around operators.\n",
        "3. Use lowercase letters for variable and function names, and use underscores to separate words.\n",
        "4. Use uppercase letters for constants and class names.\n",
        "5. Avoid using single-letter variable names, except for simple loop counters.\n",
        "6. Use docstrings to document functions, modules, and classes.\n",
        "7. Use a blank line to separate functions, classes, and other logical sections of code.\n",
        "By following these guidelines, your Python code will be easier to read and understand, both by other developers and by automated tools such as linters and style checkers."
      ],
      "metadata": {
        "id": "t9wcHSKpW0eS"
      }
    },
    {
      "cell_type": "code",
      "execution_count": 1,
      "metadata": {
        "id": "v7a7uRTCHTb9"
      },
      "outputs": [],
      "source": [
        "from functools import reduce\n",
        "\n",
        "def square(x):\n",
        "    \"\"\"Returns the square of a number.\"\"\"\n",
        "    return x ** 2\n",
        "\n",
        "def product(x, y):\n",
        "    \"\"\"Returns the product of two numbers.\"\"\"\n",
        "    return x * y"
      ]
    },
    {
      "cell_type": "code",
      "source": [
        "# Define a list of integers\n",
        "numbers = [1, 2, 3, 4, 5, 6, 7, 8, 9, 10]"
      ],
      "metadata": {
        "id": "5Q36KoyMWd_u"
      },
      "execution_count": 2,
      "outputs": []
    },
    {
      "cell_type": "code",
      "source": [
        "# Use map() to square each element of the list\n",
        "squares = list(map(square, numbers))\n",
        "print(squares)"
      ],
      "metadata": {
        "colab": {
          "base_uri": "https://localhost:8080/"
        },
        "id": "v1W3tIrtWgdb",
        "outputId": "86d0889e-04c5-4a8b-ae88-9dde361f0cd9"
      },
      "execution_count": 3,
      "outputs": [
        {
          "output_type": "stream",
          "name": "stdout",
          "text": [
            "[1, 4, 9, 16, 25, 36, 49, 64, 81, 100]\n"
          ]
        }
      ]
    },
    {
      "cell_type": "code",
      "source": [
        "# Use filter() to remove all odd numbers from the list\n",
        "evens = list(filter(lambda x: x % 2 == 0, numbers))\n",
        "print(evens)\n"
      ],
      "metadata": {
        "colab": {
          "base_uri": "https://localhost:8080/"
        },
        "id": "XcKBGgf0WieT",
        "outputId": "3eb87c47-cf50-4a7a-9e5d-1b9b206c0521"
      },
      "execution_count": 4,
      "outputs": [
        {
          "output_type": "stream",
          "name": "stdout",
          "text": [
            "[2, 4, 6, 8, 10]\n"
          ]
        }
      ]
    },
    {
      "cell_type": "code",
      "source": [
        "# Use reduce() to find the product of all even numbers in the list\n",
        "product_of_evens = reduce(product, evens)\n",
        "print(product_of_evens)"
      ],
      "metadata": {
        "colab": {
          "base_uri": "https://localhost:8080/"
        },
        "id": "lvajd6xnWkvC",
        "outputId": "9efc3760-4686-423a-8914-099073cf4db9"
      },
      "execution_count": 5,
      "outputs": [
        {
          "output_type": "stream",
          "name": "stdout",
          "text": [
            "3840\n"
          ]
        }
      ]
    }
  ]
}