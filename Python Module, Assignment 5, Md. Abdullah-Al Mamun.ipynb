{
 "cells": [
  {
   "cell_type": "markdown",
   "id": "b1253b84",
   "metadata": {},
   "source": [
    "# <center>Assignment 5</center>\n",
    "# <center>Python Basics: OOP</center>\n",
    "\n",
    "### <center>Md. Abdullah-Al Mamun</center>\n",
    "\n",
    "## 1. OOP\n",
    "## 2. Everything in python is class and object. Let's verify that. Run the following code:      \n"
   ]
  },
  {
   "cell_type": "code",
   "execution_count": 2,
   "id": "4fcdfe64",
   "metadata": {},
   "outputs": [
    {
     "name": "stdout",
     "output_type": "stream",
     "text": [
      "<class 'int'> <class 'str'>\n",
      "<class 'type'>\n",
      "<class 'type'>\n",
      "<class 'type'>\n",
      "<class 'type'>\n",
      "<class 'type'>\n",
      "<class 'builtin_function_or_method'>\n",
      "<class 'function'>\n",
      "<class 'type'>\n"
     ]
    }
   ],
   "source": [
    "a = 5\n",
    "b = \"some string\"\n",
    "print(type(a), type(b))\n",
    "\n",
    "def someFunction():\n",
    "    return\n",
    "\n",
    "class SomeClass:\n",
    "    pass\n",
    "\n",
    "someList = [int, str, tuple, dict, list, print, someFunction, SomeClass]\n",
    "\n",
    "for item in someList:\n",
    "    print(type(item))\n"
   ]
  },
  {
   "cell_type": "markdown",
   "id": "a5f1695c",
   "metadata": {},
   "source": [
    "## 2. Compare the result of step a and step b:"
   ]
  },
  {
   "cell_type": "code",
   "execution_count": 3,
   "id": "d283d788",
   "metadata": {},
   "outputs": [
    {
     "name": "stdout",
     "output_type": "stream",
     "text": [
      "\n",
      "<class 'int'>\n",
      "<class 'str'>\n",
      "<class 'tuple'>\n",
      "<class 'list'>\n",
      "<class 'NoneType'>\n",
      "<class 'NoneType'>\n",
      "<class '__main__.MyClass'>\n"
     ]
    }
   ],
   "source": [
    "# Let's create an object of each in the list\n",
    "\n",
    "def funct():\n",
    "    return\n",
    "\n",
    "class MyClass:\n",
    "    pass\n",
    "\n",
    "anotherList= [int(), str(), tuple(),list(), print(), funct(), MyClass()]\n",
    "\n",
    "for item in anotherList:\n",
    "    print(type(item))"
   ]
  },
  {
   "cell_type": "markdown",
   "id": "48af0eba",
   "metadata": {},
   "source": [
    "## Everything in Python is class and object. All are class here inside list object. The someList and anotherList are lists that contain objects of different classes."
   ]
  },
  {
   "cell_type": "markdown",
   "id": "c111cc67",
   "metadata": {},
   "source": [
    "# Create two classes Pet and Dog 1. \n",
    "\n",
    "## Requirements for Pet class\n",
    "#### (i) Three class attributes pet_population , pet_instance and current_year\n",
    "#### (ii) Init constructor __init__(self,name,category,age), name is name of pet,category could be dog,cat,bird etc. and age is age of pet\n",
    "#### (iii)  An instance method hellofrompet that prints hello from petname\n",
    "#### (vi)  Create a class method timepassedby which takes years as argumentshould automatically increase the age of all the pet object as soon as the method is applied\n",
    "\n",
    "#### pet_population should show the number of pets created and pet_instance is the list of pet object \n"
   ]
  },
  {
   "cell_type": "code",
   "execution_count": 4,
   "id": "229afa87",
   "metadata": {},
   "outputs": [],
   "source": [
    "class Pet: # Define a Pet class   \n",
    "    \n",
    "    pet_population = 0\n",
    "    pet_instances = []\n",
    "    current_year = 2023\n",
    "\n",
    "    def __init__(self, name, category, age):  # Define a constructor method\n",
    "        self.name = name\n",
    "        self.category = category\n",
    "        self.age = age\n",
    "        self.add_instance()\n",
    "        self.add_population()\n",
    "\n",
    "    # Define a method to add a pet instance to the pet_instances list\n",
    "    def add_instance(self):\n",
    "        Pet.pet_instances.append(self)\n",
    "    \n",
    "    # Define a method to increment the pet_population count\n",
    "    def add_population(self):\n",
    "        Pet.pet_population += 1\n",
    "\n",
    "    # Define a method to print a greeting message from the pet instance\n",
    "    def hellofrompet(self):\n",
    "        print(f\"Hello, my name is {self.name}.\")\n",
    "\n",
    "   # Define a class method that will modify class-level variables\n",
    "    @classmethod\n",
    "    def timepassedby(cls, years):\n",
    "        for pet in cls.pet_instances:\n",
    "            pet.age += years\n",
    "\n",
    "    def __str__(self):\n",
    "        return f\"{self.name} is a {self.category} ({self.age} years old)\""
   ]
  },
  {
   "cell_type": "markdown",
   "id": "1c90287a",
   "metadata": {},
   "source": [
    "### 1. Requirements for Dog class 1. Dog class should inherit Pet class attributes and methods. Apart from that the init constructor takes addition \"breed\" argument 2. Define the instance method barks which displays the breed does woof woof."
   ]
  },
  {
   "cell_type": "code",
   "execution_count": 5,
   "id": "0b6b0c01",
   "metadata": {},
   "outputs": [],
   "source": [
    "# The Dog class is a subclass of the Pet class and inherits its attributes and methods\n",
    "\n",
    "class Dog(Pet):\n",
    "    def __init__(self, name, category, age, breed):\n",
    "        super().__init__(name, category, age) \n",
    "        self.breed = breed \n",
    "    def barks(self):\n",
    "        print(f\"{self.breed} does 'woof woof'.\")"
   ]
  },
  {
   "cell_type": "code",
   "execution_count": 6,
   "id": "38754e58",
   "metadata": {},
   "outputs": [
    {
     "name": "stdout",
     "output_type": "stream",
     "text": [
      "2\n",
      "2\n",
      "Micky\n",
      "Saphie\n",
      "6\n",
      "7\n",
      "Throw an error\n",
      "German Shephard does 'woof woof'.\n"
     ]
    }
   ],
   "source": [
    "# create the pet instance\n",
    "instance1 = Pet(\"Micky\", \"Cat\", 1)\n",
    "\n",
    "# create Dog instance\n",
    "instance2 = Dog(\"Saphie\", \"Dog\", 2, \"German Shephard\")\n",
    "\n",
    "# running Pet.pet_population and Dog.pet_population should return 2\n",
    "print(Pet.pet_population)\n",
    "print(Dog.pet_population)\n",
    "\n",
    "# Display all the names of the pets, should return Micey and Saphie\n",
    "for pet in Pet.pet_instances:\n",
    "    print(pet.name)\n",
    "\n",
    "# Pet.timepassedby(5) should increase every pet ages by 5 years.\n",
    "Pet.timepassedby(5)\n",
    "print(instance1.age) # should result to 6\n",
    "print(instance2.age) # should result to 7\n",
    "\n",
    "try:\n",
    "    instance1.barks() # should throw an error\n",
    "except AttributeError:\n",
    "    print(\"Throw an error\")\n",
    "instance2.barks() # should display \"German Shephard does 'woof woof'.\""
   ]
  },
  {
   "cell_type": "code",
   "execution_count": null,
   "id": "173d210c",
   "metadata": {},
   "outputs": [],
   "source": []
  }
 ],
 "metadata": {
  "kernelspec": {
   "display_name": "Python 3 (ipykernel)",
   "language": "python",
   "name": "python3"
  },
  "language_info": {
   "codemirror_mode": {
    "name": "ipython",
    "version": 3
   },
   "file_extension": ".py",
   "mimetype": "text/x-python",
   "name": "python",
   "nbconvert_exporter": "python",
   "pygments_lexer": "ipython3",
   "version": "3.9.13"
  }
 },
 "nbformat": 4,
 "nbformat_minor": 5
}
