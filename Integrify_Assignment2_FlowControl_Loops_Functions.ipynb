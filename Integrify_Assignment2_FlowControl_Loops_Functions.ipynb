{
 "cells": [
  {
   "cell_type": "markdown",
   "id": "709ea108",
   "metadata": {},
   "source": [
    "# Integrify Assignment 2\n",
    "\n",
    "## Python Basics: Flow Control, Loops, Functions\n",
    "### Date: 2023.03.14"
   ]
  },
  {
   "cell_type": "markdown",
   "id": "19ef2dc8",
   "metadata": {},
   "source": [
    "### Task 1. Conditionals:\n",
    "  1. Get the radius value as input and calculate the area of the circle. If the input is numeric, display the result otherwise display any other message.\n",
    "  2. If the user enters numeric value then asks user to for either perimeter or area calculation and display accordingly\n",
    "  3. students\\_profile=\n",
    "\n",
    "{'Duy': ['Python', 'Database', 'ML'], 'Laxmi': ['Python', 'Database', 'ML'],\n",
    "\n",
    "'Antonio': ['Python', 'Database', 'ML'],'Maria': ['Python', 'Database', 'ML']}\n",
    "\n",
    "Check if there is a student named 'Maria' in students\\_profile dictionary. If exists remove 'ML' from her course\n",
    "\n",
    "  1. Take the input from the user as a substring. If that substring is present in string then display substring is present otherwise substring is not present\n",
    "  2. Distance Metrics are important to calculate the similarity between the vectors. They are used in both supervised and unsupervised machine learning problems. Given the points (1,2,3) and (4,5,6), write a python conditional statement to print the distance for the order 1,2,3,4. If the order is 1 then it is **L1 norm(Manhattan distance)**, order 2 is **L2 norm(Euclidean distance)** and the generalized distance is given by **Minkowski equation**."
   ]
  },
  {
   "cell_type": "code",
   "execution_count": 1,
   "id": "7c692c03",
   "metadata": {},
   "outputs": [],
   "source": [
    "%config Completer.use_jedi = False"
   ]
  },
  {
   "cell_type": "markdown",
   "id": "ea815493",
   "metadata": {},
   "source": [
    "### 1.1 Get the radius value as input and calculate the area of the circle"
   ]
  },
  {
   "cell_type": "code",
   "execution_count": 2,
   "id": "a9ac21bd",
   "metadata": {},
   "outputs": [
    {
     "name": "stdout",
     "output_type": "stream",
     "text": [
      "Input the radius of the circle : 3\n",
      "The area of the circle with radius 3.0 is: 28.274333882308138\n"
     ]
    }
   ],
   "source": [
    "from math import pi\n",
    "radius = (input(\"Input the radius of the circle : \"))\n",
    "# print(radius.isnumeric())\n",
    "if radius.isnumeric():\n",
    "    print (\"The area of the circle with radius \" + str(float(radius)) + \" is: \" + str(pi * float(radius)**2))\n",
    "else:\n",
    "    print('Please ONLY enter nemeric values')"
   ]
  },
  {
   "cell_type": "markdown",
   "id": "cf93df80",
   "metadata": {},
   "source": [
    "### 1.2 If the user enters numeric value then asks user to for either perimeter or area calculation and display accordingly"
   ]
  },
  {
   "cell_type": "code",
   "execution_count": 3,
   "id": "4b5053a2",
   "metadata": {},
   "outputs": [
    {
     "name": "stdout",
     "output_type": "stream",
     "text": [
      "Input a value for use in Area or Perimeter computation: 3\n",
      "Enter 'a' for Area or 'p' for Perimeter : a\n",
      "The area of the circle with radius 3.0 is: 28.274333882308138\n"
     ]
    }
   ],
   "source": [
    "from math import pi\n",
    "val = (input(\"Input a value for use in Area or Perimeter computation: \"))\n",
    "# print(radius.isnumeric())\n",
    "if val.isnumeric():\n",
    "    compute = (input(\"Enter 'a' for Area or 'p' for Perimeter : \"))\n",
    "    if compute == 'a':\n",
    "        print (\"The area of the circle with radius \" + str(float(val)) + \" is: \" + str(pi * float(val)**2))\n",
    "    elif compute == 'p':\n",
    "        print (\"The perimeter of the circle with radius \" + str(float(val)) + \" is: \" + str(2 * pi * float(val)))\n",
    "    else:\n",
    "        print(\"'enter 'a' or 'p' \")\n",
    "else:\n",
    "    print('Please ONLY enter nemeric values')"
   ]
  },
  {
   "cell_type": "markdown",
   "id": "f8414979",
   "metadata": {},
   "source": [
    "### 1.3 Check if there is a student named 'Maria' in students_profile dictionary. If exists remove 'ML' from her course"
   ]
  },
  {
   "cell_type": "code",
   "execution_count": 4,
   "id": "52e8e316",
   "metadata": {},
   "outputs": [
    {
     "name": "stdout",
     "output_type": "stream",
     "text": [
      "Deleted course for Maria: ML\n",
      "Maria remaining courses: ['Python', 'Database']\n"
     ]
    }
   ],
   "source": [
    "students_profile={'Duy': ['Python', 'Database', 'ML'], 'Laxmi': ['Python', 'Database', 'ML'], \n",
    "                  'Antonio': ['Python', 'Database', 'ML'],'Maria': ['Python', 'Database', 'ML']}\n",
    "\n",
    "check = 'Maria'\n",
    "\n",
    "if check in students_profile:\n",
    "    # print(students_profile)\n",
    "    print('Deleted course for', check + ':', students_profile['Maria'][2])\n",
    "    del students_profile['Maria'][2]\n",
    "print(check + ' remaining courses:', students_profile['Maria'])"
   ]
  },
  {
   "cell_type": "markdown",
   "id": "eca7a41a",
   "metadata": {},
   "source": [
    "### 1.4 Take the input from the user as a substring. If that substring is present in string then display substring is present otherwise substring is not present"
   ]
  },
  {
   "cell_type": "code",
   "execution_count": 5,
   "id": "3176f229",
   "metadata": {},
   "outputs": [
    {
     "name": "stdout",
     "output_type": "stream",
     "text": [
      "Input a value of strings: Inter\n",
      "The substring 'Inter' is in 'Intergrify'\n"
     ]
    }
   ],
   "source": [
    "from math import pi\n",
    "main_string = \"Intergrify\"\n",
    "substring = (input(\"Input a value of strings: \"))\n",
    "# using isinstance()\n",
    "# Check if variable is string \n",
    "# res = isinstance(string, str)\n",
    "if substring in main_string:\n",
    "    print (\"The substring \" + \"'\" + (substring) + \"'\" + ' is in', \"'\" + (main_string) + \"'\")\n",
    "else:\n",
    "    print (\"The substring \" + \"'\" + (substring) + \"'\" + ' is not in', \"'\" + (main_string) + \"'\")"
   ]
  },
  {
   "cell_type": "markdown",
   "id": "108b7f7f",
   "metadata": {},
   "source": [
    "### 1.5 Distance Metrics are important to calculate the similarity between the vectors. \n",
    "They are used in both supervised and unsupervised machine learning problems. Given the points (1,2,3) and (4,5,6), write a python conditional statement to print the distance for the order 1,2,3,4. If the order is 1 then it is L1 norm(Manhattan distance), order 2 is L2 norm(Euclidean distance) and the generalized distance is given by Minkowski equation."
   ]
  },
  {
   "cell_type": "code",
   "execution_count": 86,
   "id": "f3a43496",
   "metadata": {},
   "outputs": [
    {
     "name": "stdout",
     "output_type": "stream",
     "text": [
      "Input a value of the order for the distance: 2\n",
      "The value entered is 2\n",
      "Calculated L2 norm(Euclidean distance) between points 5.196152422706632\n"
     ]
    }
   ],
   "source": [
    "## Reference: https://www.statology.org/manhattan-distance-python/\n",
    "## Method 1: Write a Custom Function\n",
    "# The following code shows how to create a custom function to calculate the Manhattan distance between two vectors in Python:\n",
    "\n",
    "from math import sqrt\n",
    "from scipy.spatial import distance\n",
    "\n",
    "#create function to calculate Manhattan distance \n",
    "def manhattan(a, b):\n",
    "    return sum(abs(val1-val2) for val1, val2 in zip(a,b))\n",
    " \n",
    "#define vectors\n",
    "a = [1, 2, 3]\n",
    "b = [4, 5, 6]\n",
    "\n",
    "order = int(input(\"Input a value of the order for the distance: \"))\n",
    "print('The value entered is', order)\n",
    "if order == 1:\n",
    "    #calculate Manhattan distance between vectors\n",
    "    dist = manhattan(a, b)\n",
    "    print('Calculated L1 norm(Manhattan distance) between points', dist)\n",
    "elif order == 2:\n",
    "    dist = distance.euclidean(a, b)\n",
    "    print('Calculated L2 norm(Euclidean distance) between points', dist)\n",
    "else:\n",
    "    print('Make sure you enter 1 for L1 norm(Manhattan distance), or 2 for L2 norm(Euclidean distance) ')"
   ]
  },
  {
   "cell_type": "markdown",
   "id": "58eaaf3c",
   "metadata": {},
   "source": [
    "## Task 2. Loop:\n",
    "  1. Write a multiplication table for any given number using both for and while loop\n",
    "  2. DNA is coded using 4 nitrogen bases with the symbols A,T,G,C. Given the template string dna\\_template='AATCCGAAAATTCGGGAATTTTCGCGT' , generate the complementary dna template with the mapping\n",
    "\n",
    "mapper={\"T\":\"A\",\"A\":\"T\",\"G\":\"C\",\"C\":\"G\"}\n",
    "\n",
    "  1. Generate the list f\\_series=x=[0,1,1,2,3,5,8,13,21,34,55,89,144]. Looks Familiar? This is Fibonacci series where x[0]=0,x[1]=1, and x[n]=x[n-1]+x[n-2] for n\\>1\n",
    "  2. Generate a list of n numbers of prime numbers\n",
    "  3. Perform the **minmax normalization** to the range [0,1] for the data1 and minmax normalization to the range [-1,1] for the data2\n",
    "\n",
    "data1=[1,17,12,15,30,60,48,51,89,92,54,8], use\n",
    "\n",
    "X\\_scaled = (X - X\\_min) / (X\\_max - X\\_min)\n",
    "\n",
    "data2=[-13,2,-1,7,22,-32,5,15,-9,13,3,-2], use\n",
    "\n",
    "X\\_scaled = 2 \\* (X - X\\_min) / (X\\_max - X\\_min) - 1\n",
    "\n",
    "The general formula for scaling in the range [a,b] is\n",
    "\n",
    "X\\_scaled = (b-a) \\* (X - X\\_min) / (X\\_max - X\\_min) + a\n",
    "\n",
    "  1. Understand how sorting algorithms work(bubble,selection,insertion). Implement them of your own. Also compare time complexities."
   ]
  },
  {
   "cell_type": "markdown",
   "id": "e4104818",
   "metadata": {},
   "source": [
    "## 2.1 Write a multiplication table for any given number using both for and while loop"
   ]
  },
  {
   "cell_type": "markdown",
   "id": "24362521",
   "metadata": {},
   "source": [
    "### Using For Loop"
   ]
  },
  {
   "cell_type": "markdown",
   "id": "3209911b",
   "metadata": {},
   "source": [
    "### Option 1"
   ]
  },
  {
   "cell_type": "code",
   "execution_count": 87,
   "id": "6d48b96c",
   "metadata": {},
   "outputs": [
    {
     "name": "stdout",
     "output_type": "stream",
     "text": [
      "Multiplication table for: 3\n",
      "3 * 1  =  3\n",
      "3 * 2  =  6\n",
      "3 * 3  =  9\n",
      "3 * 4  =  12\n",
      "3 * 5  =  15\n",
      "3 * 6  =  18\n",
      "3 * 7  =  21\n",
      "3 * 8  =  24\n",
      "3 * 9  =  27\n",
      "3 * 10  =  30\n",
      "3 * 11  =  33\n",
      "3 * 12  =  36\n"
     ]
    }
   ],
   "source": [
    "def multiplication_table(num, num_s):\n",
    "    \n",
    "    print('Multiplication table for:', num)\n",
    "    for i in range(1, num_s + 1):\n",
    "        a = i\n",
    "        product = num*i\n",
    "        print(num, \"*\", a, \" = \", product)\n",
    "    return None\n",
    "\n",
    "# Run the function\n",
    "# first augument (3) is the multiplier while second argument (12) \n",
    "# the multiplicand (the range of numbers to use with the multiplier)\n",
    "multiplication_table(3, 12)"
   ]
  },
  {
   "cell_type": "markdown",
   "id": "130cf598",
   "metadata": {},
   "source": [
    "### Option 2"
   ]
  },
  {
   "cell_type": "code",
   "execution_count": 88,
   "id": "2e723225",
   "metadata": {},
   "outputs": [
    {
     "name": "stdout",
     "output_type": "stream",
     "text": [
      "Multiplication table for: 1\n",
      "1  *  1  =  1\n",
      "1  *  2  =  2\n",
      "1  *  3  =  3\n",
      "1  *  4  =  4\n",
      "1  *  5  =  5\n",
      "1  *  6  =  6\n",
      "1  *  7  =  7\n",
      "1  *  8  =  8\n",
      "1  *  9  =  9\n",
      "1  *  10  =  10\n",
      "1  *  11  =  11\n",
      "1  *  12  =  12\n",
      "\n",
      "Multiplication table for: 2\n",
      "2  *  1  =  2\n",
      "2  *  2  =  4\n",
      "2  *  3  =  6\n",
      "2  *  4  =  8\n",
      "2  *  5  =  10\n",
      "2  *  6  =  12\n",
      "2  *  7  =  14\n",
      "2  *  8  =  16\n",
      "2  *  9  =  18\n",
      "2  *  10  =  20\n",
      "2  *  11  =  22\n",
      "2  *  12  =  24\n",
      "\n",
      "Multiplication table for: 3\n",
      "3  *  1  =  3\n",
      "3  *  2  =  6\n",
      "3  *  3  =  9\n",
      "3  *  4  =  12\n",
      "3  *  5  =  15\n",
      "3  *  6  =  18\n",
      "3  *  7  =  21\n",
      "3  *  8  =  24\n",
      "3  *  9  =  27\n",
      "3  *  10  =  30\n",
      "3  *  11  =  33\n",
      "3  *  12  =  36\n",
      "\n"
     ]
    }
   ],
   "source": [
    "def multiplication_table(numMax, num_sMax):\n",
    "\n",
    "    for i in range(1,numMax+1):\n",
    "        print('Multiplication table for:', i)\n",
    "        for j in range(1,num_sMax+1):\n",
    "            print(i, \" * \", j, \" = \", i*j)\n",
    "        print(\"\")\n",
    "        \n",
    "# Run the function\n",
    "# first augument (3) is the the range of multiplier while second argument (12) \n",
    "# the multiplicand (the range of numbers to use with the multiplier)\n",
    "multiplication_table(3, 12)"
   ]
  },
  {
   "cell_type": "markdown",
   "id": "b65ec099",
   "metadata": {},
   "source": [
    "### Using While Loop"
   ]
  },
  {
   "cell_type": "code",
   "execution_count": 89,
   "id": "78b7f718",
   "metadata": {},
   "outputs": [
    {
     "name": "stdout",
     "output_type": "stream",
     "text": [
      "Multiplication table for: 3\n",
      "3 * 1  =  3\n",
      "3 * 2  =  6\n",
      "3 * 3  =  9\n",
      "3 * 4  =  12\n",
      "3 * 5  =  15\n",
      "3 * 6  =  18\n",
      "3 * 7  =  21\n",
      "3 * 8  =  24\n",
      "3 * 9  =  27\n",
      "3 * 10  =  30\n",
      "3 * 11  =  33\n",
      "3 * 12  =  36\n"
     ]
    }
   ],
   "source": [
    "def multiplication_table(num, num_s):\n",
    "\n",
    "    i = 1\n",
    "    print('Multiplication table for:', num)\n",
    "    while i <= num_s:\n",
    "        product = num*i\n",
    "        print(num, \"*\", i, \" = \", product)\n",
    "        i = i + 1\n",
    "        \n",
    "# Run the function\n",
    "# first augument (3) is the multiplier while second argument (12) \n",
    "# the multiplicand (the range of numbers to use with the multiplier)\n",
    "multiplication_table(3, 12)"
   ]
  },
  {
   "cell_type": "markdown",
   "id": "1c6fccdc",
   "metadata": {},
   "source": [
    "## Option 2"
   ]
  },
  {
   "cell_type": "code",
   "execution_count": 90,
   "id": "818ab7e5",
   "metadata": {
    "scrolled": false
   },
   "outputs": [
    {
     "name": "stdout",
     "output_type": "stream",
     "text": [
      "Multiplication table for: 1\n",
      "1 * 1  =  1\n",
      "1 * 2  =  2\n",
      "1 * 3  =  3\n",
      "1 * 4  =  4\n",
      "1 * 5  =  5\n",
      "1 * 6  =  6\n",
      "1 * 7  =  7\n",
      "1 * 8  =  8\n",
      "1 * 9  =  9\n",
      "1 * 10  =  10\n",
      "1 * 11  =  11\n",
      "1 * 12  =  12\n",
      "\n",
      "\n",
      "Multiplication table for: 2\n",
      "2 * 1  =  2\n",
      "2 * 2  =  4\n",
      "2 * 3  =  6\n",
      "2 * 4  =  8\n",
      "2 * 5  =  10\n",
      "2 * 6  =  12\n",
      "2 * 7  =  14\n",
      "2 * 8  =  16\n",
      "2 * 9  =  18\n",
      "2 * 10  =  20\n",
      "2 * 11  =  22\n",
      "2 * 12  =  24\n",
      "\n",
      "\n",
      "Multiplication table for: 3\n",
      "3 * 1  =  3\n",
      "3 * 2  =  6\n",
      "3 * 3  =  9\n",
      "3 * 4  =  12\n",
      "3 * 5  =  15\n",
      "3 * 6  =  18\n",
      "3 * 7  =  21\n",
      "3 * 8  =  24\n",
      "3 * 9  =  27\n",
      "3 * 10  =  30\n",
      "3 * 11  =  33\n",
      "3 * 12  =  36\n",
      "\n",
      "\n"
     ]
    }
   ],
   "source": [
    "def multiplication_table(numMax, num_sMax):\n",
    "\n",
    "    i = 1\n",
    "    while i <= numMax:\n",
    "        print('Multiplication table for:', i)\n",
    "        j = 1\n",
    "        while j <= num_sMax:\n",
    "            product = i*j\n",
    "            print(i, \"*\", j, \" = \", product)\n",
    "            j = j + 1\n",
    "        i = i + 1\n",
    "        print(\"\\n\")\n",
    "\n",
    "# Run the function\n",
    "# first augument (3) is the the range of multiplier while second argument (12) \n",
    "# the multiplicand (the range of numbers to use with the multiplier)\n",
    "multiplication_table(3, 12)"
   ]
  },
  {
   "cell_type": "markdown",
   "id": "acea9010",
   "metadata": {},
   "source": [
    "### 2.2 DNA is coded using 4 nitrogen bases with the symbols A,T,G,C. Given the template string dna_template='AATCCGAAAATTCGGGAATTTTCGCGT' , generate the complementary dna template with the mapping\n",
    "mapper={\"T\":\"A\",\"A\":\"T\",\"G\":\"C\",\"C\":\"G\"}"
   ]
  },
  {
   "cell_type": "code",
   "execution_count": 3,
   "id": "48969edb",
   "metadata": {},
   "outputs": [
    {
     "name": "stdout",
     "output_type": "stream",
     "text": [
      "The complementary pairs of four dna: {'T': 'A', 'A': 'T', 'G': 'C', 'C': 'G'}\n"
     ]
    }
   ],
   "source": [
    "dna_template='AATCCGAAAATTCGGGAATTTTCGCGT'\n",
    "\n",
    "mapper={}\n",
    "\n",
    "for val in dna_template:\n",
    "    if val == 'A':\n",
    "        mapper['T'] = val\n",
    "    elif val == 'T':\n",
    "        mapper['A'] = val\n",
    "    elif val == 'C':\n",
    "        mapper['G'] = val\n",
    "    else:\n",
    "        mapper['C'] = \"G\"\n",
    "\n",
    "print('The complementary pairs of four dna:', mapper)"
   ]
  },
  {
   "cell_type": "code",
   "execution_count": 4,
   "id": "8ca8d9a5",
   "metadata": {},
   "outputs": [
    {
     "data": {
      "text/plain": [
       "'TTAGGCTTTTAAGCCCTTAAAAGCGCA'"
      ]
     },
     "execution_count": 4,
     "metadata": {},
     "output_type": "execute_result"
    }
   ],
   "source": [
    "def get_complementary_sequence(seq):\n",
    "    complement = ''\n",
    "    for char in seq:\n",
    "        complement += get_complement(char)\n",
    "    return complement\n",
    "\n",
    "def get_complement(base):\n",
    "    complements = mapper\n",
    "    return complements[base]\n",
    "\n",
    "get_complementary_sequence(dna_template)"
   ]
  },
  {
   "cell_type": "markdown",
   "id": "fc35c2ee",
   "metadata": {},
   "source": [
    "## 2.3 Generate the list f_series=x=[0,1,1,2,3,5,8,13,21,34,55,89,144]. Looks Familiar? This is Fibonacci series where x[0]=0,x[1]=1, and x[n]=x[n-1]+x[n-2] for n>1"
   ]
  },
  {
   "cell_type": "code",
   "execution_count": 92,
   "id": "06667d41",
   "metadata": {},
   "outputs": [
    {
     "name": "stdout",
     "output_type": "stream",
     "text": [
      "Fibonacci sequence:\n",
      "[0, 1, 1, 2, 3, 5, 8, 13, 21, 34, 55, 89, 144]\n"
     ]
    }
   ],
   "source": [
    "# Program to display the Fibonacci sequence up to n-th term\n",
    "def fibonacci_series(nterms):\n",
    "    \n",
    "    # first two terms: x[0]=0, x[1]=1\n",
    "    n0, n1, n2 = 0, 0, 1\n",
    "    count = 0\n",
    "    fibonacci_series = []\n",
    "    \n",
    "    # check if the number of terms is valid\n",
    "    if nterms < 0:\n",
    "        print(\"Please enter a positive integer\")\n",
    "        \n",
    "    # if there is only one term with value = 0, return n0\n",
    "    elif nterms == 0:\n",
    "        print(\"Fibonacci sequence upto\", nterms,\":\")\n",
    "        print(n0)\n",
    "        \n",
    "    # if there is only one term with value = 1, return n1\n",
    "    elif nterms == 1:\n",
    "        print(\"Fibonacci sequence upto\", nterms,\":\")\n",
    "        print(n1)\n",
    "        \n",
    "    # generate fibonacci sequence\n",
    "    else:\n",
    "        print(\"Fibonacci sequence:\")\n",
    "        while count <= nterms:\n",
    "            fibonacci_series.append(n1)\n",
    "            # print(n1)\n",
    "            nth = n1 + n2\n",
    "            # update values\n",
    "            n1 = n2\n",
    "            n2 = nth\n",
    "            count += 1\n",
    "        print(fibonacci_series)\n",
    "\n",
    "\n",
    "# Run the fibonacci_series\n",
    "# The argument is the n-th term in the Fibonacci series\n",
    "fibonacci_series(12)"
   ]
  },
  {
   "cell_type": "markdown",
   "id": "3ab160b8",
   "metadata": {},
   "source": [
    "## 2. 4 Generate a list of n numbers of prime numbers"
   ]
  },
  {
   "cell_type": "code",
   "execution_count": 93,
   "id": "9f122106",
   "metadata": {},
   "outputs": [
    {
     "name": "stdout",
     "output_type": "stream",
     "text": [
      "[1, 3, 5, 7, 9, 11, 13]\n"
     ]
    }
   ],
   "source": [
    "def prime_number_generator(numMax):\n",
    "    \n",
    "    n1 = 1\n",
    "    count = 0\n",
    "    prime_numbers = []\n",
    "    \n",
    "    while count < numMax:\n",
    "        prime_numbers.append(n1)\n",
    "        nth = n1 + 2\n",
    "        n1 = nth\n",
    "        count += 1\n",
    "    print(prime_numbers)\n",
    "    \n",
    "# Run the prime_number_generator function\n",
    "# The argument is the n-th term in the prime number sequence\n",
    "prime_number_generator(7)"
   ]
  },
  {
   "cell_type": "markdown",
   "id": "13b693e8",
   "metadata": {},
   "source": [
    "## 2. 5 Perform the **minmax normalization** to the range [0,1] for the data1 and minmax normalization to the range [-1,1] for the data2\n",
    "\n",
    "data1=[1,17,12,15,30,60,48,51,89,92,54,8], use\n",
    "\n",
    "X\\_scaled = (X - X\\_min) / (X\\_max - X\\_min)\n",
    "\n",
    "data2=[-13,2,-1,7,22,-32,5,15,-9,13,3,-2], use\n",
    "\n",
    "X\\_scaled = 2 \\* (X - X\\_min) / (X\\_max - X\\_min) - 1\n",
    "\n",
    "The general formula for scaling in the range [a,b] is\n",
    "\n",
    "X\\_scaled = (b-a) \\* (X - X\\_min) / (X\\_max - X\\_min) + a"
   ]
  },
  {
   "cell_type": "markdown",
   "id": "a652dc63",
   "metadata": {},
   "source": [
    "### 2.5.1 Perform the minmax normalization to the range [0,1] for the data1\n",
    "\n",
    "use the formular:\n",
    "\n",
    "X_scaled = (X - X_min) / (X_max - X_min)"
   ]
  },
  {
   "cell_type": "code",
   "execution_count": 94,
   "id": "a765088e",
   "metadata": {},
   "outputs": [
    {
     "data": {
      "text/plain": [
       "array([0.        , 0.17582418, 0.12087912, 0.15384615, 0.31868132,\n",
       "       0.64835165, 0.51648352, 0.54945055, 0.96703297, 1.        ,\n",
       "       0.58241758, 0.07692308])"
      ]
     },
     "execution_count": 94,
     "metadata": {},
     "output_type": "execute_result"
    }
   ],
   "source": [
    "import numpy as np\n",
    "\n",
    "data1=[1,17,12,15,30,60,48,51,89,92,54,8]\n",
    "\n",
    "def NormalizeData(data):\n",
    "    return (data - np.min(data)) / (np.max(data) - np.min(data))\n",
    "\n",
    "# Run the NormalizeData function\n",
    "# The argument is the data to be Normalized\n",
    "NormalizeData(data1)"
   ]
  },
  {
   "cell_type": "markdown",
   "id": "54ca7adb",
   "metadata": {},
   "source": [
    "### 2.5.2 Perform the minmax normalization to the range [-1,1] for the data2\n",
    "\n",
    "use the formular:\n",
    "\n",
    "X_scaled = 2 * (X - X_min) / (X_max - X_min) - 1"
   ]
  },
  {
   "cell_type": "code",
   "execution_count": 95,
   "id": "9dc7e3dc",
   "metadata": {},
   "outputs": [
    {
     "data": {
      "text/plain": [
       "array([0.71698113, 1.28301887, 1.16981132, 1.47169811, 2.03773585,\n",
       "       0.        , 1.39622642, 1.77358491, 0.86792453, 1.69811321,\n",
       "       1.32075472, 1.13207547])"
      ]
     },
     "execution_count": 95,
     "metadata": {},
     "output_type": "execute_result"
    }
   ],
   "source": [
    "import numpy as np\n",
    "\n",
    "data2=[-13,2,-1,7,22,-32,5,15,-9,13,3,-2]\n",
    "\n",
    "def NormalizeData(data):\n",
    "    return ((2) * (data - np.min(data))) / ((np.max(data) - np.min(data)) + (-1))\n",
    "#(2 * (data - np.min(data))) / ((np.max(data) - np.min(data)) - 1)\n",
    "\n",
    "# Run the NormalizeData function\n",
    "# The argument is the data to be Normalized\n",
    "NormalizeData(data2)"
   ]
  },
  {
   "cell_type": "markdown",
   "id": "d3a02fde",
   "metadata": {},
   "source": [
    "### Just Testing: The general formula for scaling in the range [a,b] is\n",
    "\n",
    "X\\_scaled = (b-a) \\* (X - X\\_min) / (X\\_max - X\\_min) + a"
   ]
  },
  {
   "cell_type": "code",
   "execution_count": 96,
   "id": "6d57d856",
   "metadata": {},
   "outputs": [
    {
     "name": "stdout",
     "output_type": "stream",
     "text": [
      "minmax normalization to the range: [0, 1] for the data: [1, 17, 12, 15, 30, 60, 48, 51, 89, 92, 54, 8] \n",
      "\n",
      "[0.         0.17582418 0.12087912 0.15384615 0.31868132 0.64835165\n",
      " 0.51648352 0.54945055 0.96703297 1.         0.58241758 0.07692308]\n",
      "\n",
      "\n",
      "minmax normalization to the range: [-1, 1] for the data: [-13, 2, -1, 7, 22, -32, 5, 15, -9, 13, 3, -2] \n",
      "\n",
      "[0.71698113 1.28301887 1.16981132 1.47169811 2.03773585 0.\n",
      " 1.39622642 1.77358491 0.86792453 1.69811321 1.32075472 1.13207547]\n"
     ]
    }
   ],
   "source": [
    "import numpy as np\n",
    "\n",
    "def GeneralNormalizeData(data, norm_range):\n",
    "    print('minmax normalization to the range: {} for the data: {} \\n'.format(norm_range, data))\n",
    "    a = norm_range[0]\n",
    "    b = norm_range[1]\n",
    "    return ((b-a) * (data - np.min(data))) / ((np.max(data) - np.min(data)) + a)\n",
    "\n",
    "\n",
    "# Load data\n",
    "data1=[1,17,12,15,30,60,48,51,89,92,54,8]\n",
    "data2=[-13,2,-1,7,22,-32,5,15,-9,13,3,-2]\n",
    "\n",
    "# Run the GeneralNormalizeData function\n",
    "# The argument is the data to be Normalized\n",
    "print(GeneralNormalizeData(data1, [0, 1]))\n",
    "print('\\n')\n",
    "print(GeneralNormalizeData(data2, [-1, 1]))"
   ]
  },
  {
   "cell_type": "markdown",
   "id": "bd0ac282",
   "metadata": {},
   "source": [
    "### 2. 6 Understand how sorting algorithms work(bubble,selection,insertion). Implement them of your own. Also compare time complexities."
   ]
  },
  {
   "cell_type": "markdown",
   "id": "0112891c",
   "metadata": {},
   "source": [
    "### 2.6.1 Bubble sort\n",
    "\n",
    "Bubble Sort is the simplest sorting algorithm that works by repeatedly swapping the adjacent elements if they are in the wrong order. "
   ]
  },
  {
   "cell_type": "code",
   "execution_count": 97,
   "id": "1d732643",
   "metadata": {},
   "outputs": [
    {
     "name": "stdout",
     "output_type": "stream",
     "text": [
      "Unsorted list is: [39, 12, 18, 85, 72, 10, 2, 18]\n",
      "Sorted Array is:  [2, 10, 12, 18, 18, 39, 72, 85]\n"
     ]
    }
   ],
   "source": [
    "def bubble_sort(elements):\n",
    "    swapped = False\n",
    "    # Looping from size of array from last index[-1] to index [0]\n",
    "    for n in range(len(elements)-1, 0, -1):\n",
    "        for i in range(n):\n",
    "            if elements[i] > elements[i + 1]:\n",
    "                swapped = True\n",
    "                # swapping data if the element is less than next element in the array\n",
    "                elements[i], elements[i + 1] = elements[i + 1], elements[i]\n",
    "        if not swapped:\n",
    "            # exiting the function if we didn't make a single swap\n",
    "            # meaning that the array is already sorted.\n",
    "            # print(\"we didn't make a single swap: meaning that the array is already sorted.\")\n",
    "            return None\n",
    "    #return elements\n",
    "\n",
    "elements = [39, 12, 18, 85, 72, 10, 2, 18]\n",
    "#elements = [2, 10, 12, 18, 18, 39, 72, 85]\n",
    "\n",
    "print(\"Unsorted list is:\", elements)\n",
    "bubble_sort(elements)\n",
    "print(\"Sorted Array is: \", elements)"
   ]
  },
  {
   "cell_type": "markdown",
   "id": "2efbbed2",
   "metadata": {},
   "source": [
    "### 2.6.2 Selection sort\n",
    "https://www.geeksforgeeks.org/selection-sort/"
   ]
  },
  {
   "cell_type": "code",
   "execution_count": 98,
   "id": "b8ab5ac8",
   "metadata": {},
   "outputs": [
    {
     "name": "stdout",
     "output_type": "stream",
     "text": [
      "Sorted array: [11, 12, 22, 25, 64]\n"
     ]
    }
   ],
   "source": [
    "# Python program for implementation of Selection\n",
    "# Sort\n",
    "import sys\n",
    "\n",
    "def selection_sort(array):\n",
    "    \n",
    "    sorted_array = []\n",
    "\n",
    "    # Traverse through all array elements\n",
    "    for i in range(len(array)):\n",
    "\n",
    "        # Find the minimum element in remaining\n",
    "        # unsorted array\n",
    "        min_idx = i\n",
    "        for j in range(i+1, len(array)):\n",
    "            if array[min_idx] > array[j]: \n",
    "                min_idx = j\n",
    "\n",
    "        # Swap the found minimum element with\n",
    "        # the first element       \n",
    "        array[i], array[min_idx] = array[min_idx], array[i]\n",
    "\n",
    "    #return array\n",
    "    # Driver code to test above\n",
    "    #print (\"Sorted array\")\n",
    "    #for i in range(len(array)):\n",
    "        #sorted_array.append(array[i])\n",
    "        #print(\"%d\" %array[i], end=\",\")\n",
    "\n",
    "    #print(\"Sorted array:\", sorted_array)\n",
    "\n",
    "\n",
    "A = [64, 25, 12, 22, 11]\n",
    "selection_sort(A)\n",
    "print(\"Sorted array:\", A)"
   ]
  },
  {
   "cell_type": "markdown",
   "id": "37851ed0",
   "metadata": {},
   "source": [
    "### 2.6.3 Insertion sort"
   ]
  },
  {
   "cell_type": "code",
   "execution_count": 99,
   "id": "218f19c5",
   "metadata": {},
   "outputs": [
    {
     "name": "stdout",
     "output_type": "stream",
     "text": [
      "Sorted array: [5, 6, 11, 12, 13]\n"
     ]
    }
   ],
   "source": [
    "def insertion_sort(array):\n",
    "    \n",
    "    sorted_array = []\n",
    "    \n",
    "    # Traverse through 1 to len(array)\n",
    "    for i in range(1, len(array)):\n",
    " \n",
    "        key = array[i]\n",
    " \n",
    "        # Move elements of arr[0..i-1], that are\n",
    "        # greater than key, to one position ahead\n",
    "        # of their current position\n",
    "        j = i-1\n",
    "        while j >= 0 and key < array[j] :\n",
    "                array[j + 1] = array[j]\n",
    "                j -= 1\n",
    "        array[j + 1] = key\n",
    "     \n",
    "    #return array\n",
    "     # Driver code to test above\n",
    "    #for i in range(len(array)):\n",
    "        #print (\"% d\" % array[i])\n",
    "        #sorted_array.append(array[i])\n",
    "    #print(\"Sorted array:\", sorted_array)\n",
    "        \n",
    "\n",
    "A = [12, 11, 13, 5, 6]\n",
    "insertion_sort(A)\n",
    "print(\"Sorted array:\", A)"
   ]
  },
  {
   "cell_type": "markdown",
   "id": "e49f8b04",
   "metadata": {},
   "source": [
    "## comparing time complexities"
   ]
  },
  {
   "cell_type": "code",
   "execution_count": 100,
   "id": "359b9b92",
   "metadata": {},
   "outputs": [
    {
     "name": "stdout",
     "output_type": "stream",
     "text": [
      "Bubble sort took: 5.870347261428833\n",
      "Selection sort took: 2.4079792499542236\n",
      "Insertion sort took: 2.593224287033081\n"
     ]
    }
   ],
   "source": [
    "import time\n",
    "import random\n",
    "\n",
    "# Generate list of random intergers\n",
    "array = [random.randint(0, 1000) for _ in range(10000)]\n",
    "\n",
    "# Measure the exercution time for each sort algorithm\n",
    "\n",
    "bob_array = array.copy()\n",
    "start_time = time.time()\n",
    "sorted_array = bubble_sort(bob_array)\n",
    "end_time = time.time()\n",
    "print(\"Bubble sort took:\", end_time - start_time)\n",
    "\n",
    "sel_array = array.copy()\n",
    "start_time = time.time()\n",
    "sorted_array = selection_sort(sel_array)\n",
    "end_time = time.time()\n",
    "print(\"Selection sort took:\", end_time - start_time)\n",
    "\n",
    "ins_array = array.copy()\n",
    "start_time = time.time()\n",
    "sorted_array = insertion_sort(ins_array)\n",
    "end_time = time.time()\n",
    "print(\"Insertion sort took:\", end_time - start_time)"
   ]
  },
  {
   "cell_type": "markdown",
   "id": "fd861ac7",
   "metadata": {},
   "source": [
    "## Task 3. Functions:\n",
    "1. Functions: For each of the functions you create, write the docstrings as well. Docstring is important to get information about a particular function. Docstring is string literals that should be present right after function definition within triple quotations. One can get information about a function as an example by running myfunction **.\\_\\_doc\\_\\_**\n",
    "  1. Write a function **factorial** of a given number\n",
    "  2. Write a function that takes two arguments: activation\\_function name and value that returns the output of specific activation\\_function. Implement for **sigmoid, binary step function, relu, leaky rely, tanh**.\n",
    "\n",
    "Eg : activation\\_function('sigmoid',0) should return 0.5\n",
    "\n",
    "  1. Write a function that returns **permutation**. Permutation is the number of ways to arrange 'r' objects form a set of 'n' objects where order matters and the formula is\n",
    "\n",
    "P(n, r) = n! / (n - r)!. Use the factorial function from above exercise.\n",
    "\n",
    "  1. Write a function that takes three arguments. First arguments should determine whether to return permutation or **combination** or both. Make the first argument optional and default is both if nothing is passed while calling the function.The second argument is n, which is optional and default is 10. Finally the third argument is r, which is also optional and default is 5.\n",
    "  2. Implement a function that takes **any number of positional and keyword arguments**.\n",
    "  3. Understand **scope of variables: LEGB Rule**\n",
    "    1. Local to the function eg. variable defined in the function\n",
    "    2. Enclosing or nonlocal eg. variables defined in enclosing function in nested function\n",
    "    3. Global eg. variables defined within main program or module\n",
    "    4. Built-in eg. Python keywords\n",
    "\n",
    "Note: Names of global and built-in can be accessed from anywhere\n",
    "\n",
    "Create an example of each case above to illustrate."
   ]
  },
  {
   "cell_type": "markdown",
   "id": "3ac6db11",
   "metadata": {},
   "source": [
    "### 3. 1 Write a function factorial of a given number\n",
    "\n",
    "Factorial function"
   ]
  },
  {
   "cell_type": "code",
   "execution_count": 28,
   "id": "f4fb11d4",
   "metadata": {},
   "outputs": [
    {
     "name": "stdout",
     "output_type": "stream",
     "text": [
      "The factorial of 5 is 120\n"
     ]
    }
   ],
   "source": [
    "def factorial(x):\n",
    "    \"\"\"\n",
    "    This is a recursive function\n",
    "    to find the factorial of an integer\n",
    "    The interger must be positive\n",
    "    \"\"\"\n",
    "\n",
    "    # check if the number is negative, positive or zero\n",
    "    if x < 0:\n",
    "        val = \": Sorry, factorial does not exist for negative numbers\"\n",
    "        return val\n",
    "    elif x == 0:\n",
    "        return 1  # print(\"The factorial of 0 is 1\")\n",
    "    elif x == 1:\n",
    "        return 1\n",
    "    else:\n",
    "        # recursive call to the function\n",
    "        return (x * factorial(x-1))\n",
    "\n",
    "\n",
    "\n",
    "# change the value for a different result\n",
    "num = 5\n",
    "\n",
    "# call the factorial function\n",
    "result = factorial(num)\n",
    "print(\"The factorial of\", num, \"is\", result)"
   ]
  },
  {
   "cell_type": "markdown",
   "id": "618f1456",
   "metadata": {},
   "source": [
    "### get information about a function: factorial()"
   ]
  },
  {
   "cell_type": "code",
   "execution_count": 103,
   "id": "30393485",
   "metadata": {},
   "outputs": [
    {
     "data": {
      "text/plain": [
       "'\\n    This is a recursive function\\n    to find the factorial of an integer\\n    The interger must be positive\\n    '"
      ]
     },
     "execution_count": 103,
     "metadata": {},
     "output_type": "execute_result"
    }
   ],
   "source": [
    "factorial.__doc__"
   ]
  },
  {
   "cell_type": "markdown",
   "id": "f8c1551a",
   "metadata": {},
   "source": [
    "### 3.2 Write a function that takes two arguments: activation_function name and value that returns the output of specific activation_function. Implement for sigmoid, binary step function, relu, leaky relu, tanh.\n",
    "Eg : activation_function('sigmoid',0) should return 0.5"
   ]
  },
  {
   "attachments": {
    "image-2.png": {
     "image/png": "[encoded data removed]"
    },
    "image-3.png": {
     "image/png": "[encoded data removed]"
    },
    "image-4.png": {
     "image/png": "[encoded data removed]"
    },
    "image-5.png": {
     "image/png": "[encoded data removed]"
    },
    "image-6.png": {
     "image/png": "[encoded data removed]"
    }
   },
   "cell_type": "markdown",
   "id": "47a050f8",
   "metadata": {},
   "source": [
    "**Sigmoid Function**\n",
    "\n",
    "With the help of Sigmoid activation function, we are able to reduce the loss during the time of training because it eliminates the gradient problem in machine learning model while training.\n",
    "\n",
    "![image-6.png](attachment:image-6.png)\n",
    "\n",
    "**Binary Step Function**\n",
    "![image-5.png](attachment:image-5.png)\n",
    "\n",
    "**Rectified Linear Units, ReLU Function**\n",
    "![image-3.png](attachment:image-3.png)\n",
    "\n",
    "**Leaky Rectified Linear Units, Leaky ReLU Function**\n",
    "![image-4.png](attachment:image-4.png)\n",
    "\n",
    "**Hyperbolic Tangent, TanH Function**\n",
    "![image-2.png](attachment:image-2.png)"
   ]
  },
  {
   "cell_type": "code",
   "execution_count": 109,
   "id": "21a1bf75",
   "metadata": {},
   "outputs": [
    {
     "data": {
      "text/plain": [
       "0.5"
      ]
     },
     "execution_count": 109,
     "metadata": {},
     "output_type": "execute_result"
    }
   ],
   "source": [
    "import math\n",
    "import numpy as np\n",
    "\n",
    "def activation_function(funx_name, val):\n",
    "    \"\"\"\n",
    "    This is a function that takes two arguments: \n",
    "    1. The name of the activation_function and \n",
    "    2. A value \n",
    "    It returns the output of the specified activation_function.\n",
    "    Example: activation_function('sigmoid',0) should return 0.5\n",
    "    \"\"\"\n",
    "    \n",
    "    # 1. Sigmoid Function\n",
    "    if funx_name == 'sigmoid':\n",
    "        fx = 1 / (1 + math.exp(-val))\n",
    "    \n",
    "    # 2. Binary Step Function\n",
    "    elif funx_name == 'binary step':\n",
    "        fx=val\n",
    "        if fx<=0:\n",
    "            return 0\n",
    "        else:\n",
    "            return 1\n",
    "        #fx = np.vectorize(lambda x: 1 if x > 0 else 0, otypes=[float])\n",
    "    \n",
    "    # 3. RELU Function\n",
    "    elif funx_name == 'relu':\n",
    "        fx=val\n",
    "        if fx<=0:\n",
    "            return 0\n",
    "        else:\n",
    "            return val\n",
    "        #fx = np.vectorize(lambda val: val if val > 0 else 0, otypes=[float])\n",
    "    \n",
    "    # 4. Leaky RELU Function\n",
    "    elif funx_name == 'leaky relu':\n",
    "        alpha = 0.1\n",
    "        fx = np.maximum(alpha*val, val)\n",
    "        #fx = np.where(val > 0, val, val * 0.1)\n",
    "        #fx = np.vectorize(lambda x: max(0.1 * x, x), otypes=[float])\n",
    "    \n",
    "    # 5. Tanh Function\n",
    "    elif funx_name == 'tanh':\n",
    "        fx = 2 / (1 + np.exp(-2 * val)) -1  # (1-np.exp(-2*val))/(1+np.exp(-2*val))\n",
    "        \n",
    "    return fx\n",
    "\n",
    "activation_function('sigmoid', 0)"
   ]
  },
  {
   "cell_type": "code",
   "execution_count": 110,
   "id": "c9b26d53",
   "metadata": {},
   "outputs": [
    {
     "data": {
      "text/plain": [
       "\"\\n    This is a function that takes two arguments: \\n    1. The name of the activation_function and \\n    2. A value \\n    It returns the output of the specified activation_function.\\n    Example: activation_function('sigmoid',0) should return 0.5\\n    \""
      ]
     },
     "execution_count": 110,
     "metadata": {},
     "output_type": "execute_result"
    }
   ],
   "source": [
    "activation_function.__doc__"
   ]
  },
  {
   "cell_type": "markdown",
   "id": "83c5e0da",
   "metadata": {},
   "source": [
    "### 3.3 Write a function that returns permutation. Permutation is the number of ways to arrange 'r' objects from a set of 'n' objects where order matters and the formula is\n",
    "P(n, r) = n! / (n - r)!. Use the factorial function from above exercise."
   ]
  },
  {
   "cell_type": "code",
   "execution_count": 143,
   "id": "c0d4edf8",
   "metadata": {},
   "outputs": [
    {
     "data": {
      "text/plain": [
       "30240.0"
      ]
     },
     "execution_count": 143,
     "metadata": {},
     "output_type": "execute_result"
    }
   ],
   "source": [
    "def permutation_fnx(n, r):\n",
    "    \n",
    "    \"\"\"\n",
    "    This is a function to find the permutation of a number: P(n, r)\n",
    "    Permutation is the number of ways to arrange 'r' objects from a set of 'n' objects where order matters\n",
    "    \n",
    "    This function makes use of an existing factorial function: factorial()\n",
    "    \"\"\"\n",
    "    \n",
    "    return factorial(n) / factorial(n - r)\n",
    "\n",
    "permutation_fnx(10, 5)"
   ]
  },
  {
   "cell_type": "code",
   "execution_count": 123,
   "id": "94b8c1b7",
   "metadata": {},
   "outputs": [
    {
     "data": {
      "text/plain": [
       "\"\\n    This is a function to find the permutation of a number: P(n, r)\\n    Permutation is the number of ways to arrange 'r' objects from a set of 'n' objects where order matters\\n    \\n    This function makes use of an existing factorial function: factorial()\\n    \""
      ]
     },
     "execution_count": 123,
     "metadata": {},
     "output_type": "execute_result"
    }
   ],
   "source": [
    "permutation_fnx.__doc__"
   ]
  },
  {
   "cell_type": "markdown",
   "id": "a9b882a0",
   "metadata": {},
   "source": [
    "### 3.4 Write a function that takes three arguments. First arguments should determine whether to return permutation or combination or both. Make the first argument optional and default is both if nothing is passed while calling the function.The second argument is n, which is optional and default is 10. Finally the third argument is r, which is also optional and default is 5."
   ]
  },
  {
   "cell_type": "code",
   "execution_count": 22,
   "id": "881ee04c",
   "metadata": {},
   "outputs": [],
   "source": [
    "def select_comb_permut(cp=None, n=None, r=None):\n",
    "    \"\"\"\n",
    "    This function that takes three arguments.\n",
    "    \n",
    "    First argument determines whether to return permutation or combination or both. \n",
    "    The first argument is optional and default is both if nothing is passed while calling the function.\n",
    "    \n",
    "    The second argument is n, which is optional and default is 10. \n",
    "    \n",
    "    The third argument is r, which is also optional and default is 5.\n",
    "    \"\"\"\n",
    "    \n",
    "    if (cp==None or cp=='cp') and n==None and r==None: # or (cp == 'cp' and n==None and r==None):\n",
    "        \n",
    "        n, r = 10, 5\n",
    "        \n",
    "        print('Returning both combination and permutation results:')\n",
    "        \n",
    "        comb = factorial(n) / (factorial(r) * factorial(n - r))\n",
    "        print('Combination result is:', comb)\n",
    "        \n",
    "        permut = factorial(n) / factorial(n - r)\n",
    "        print('Permutation result is:', permut)\n",
    "        \n",
    "        # return comb, permut\n",
    "        \n",
    "    elif (cp==None or cp=='cp') and n==None and r==r:\n",
    "        n = 10\n",
    "        if (n >= r):\n",
    "          # stuff to do if c is provided\n",
    "            print('Returning both combination and permutation results:')\n",
    "\n",
    "            comb = factorial(n) / (factorial(r) * factorial(n - r))\n",
    "            print('Combination result is:', comb)\n",
    "\n",
    "            permut = factorial(n) / factorial(n - r)\n",
    "            print('Permutation result is:', permut)\n",
    "        else:\n",
    "            print('please enter n ≥ default value of r = 5')\n",
    "        \n",
    "    elif (cp==None or cp=='cp') and n==n and r==None:\n",
    "        r = 5\n",
    "        if (n >= r):\n",
    "          # stuff to do if c is provided\n",
    "            print('Returning both combination and permutation results:')\n",
    "\n",
    "            comb = factorial(n) / (factorial(r) * factorial(n - r))\n",
    "            print('Combination result is:', comb)\n",
    "\n",
    "            permut = factorial(n) / factorial(n - r)\n",
    "            print('Permutation result is:', permut)\n",
    "        else:\n",
    "            print('please enter n ≥ default value of r = 5')\n",
    "            \n",
    "    elif (cp==None or cp=='cp') and n==n and r==r:\n",
    "        if (n >= r):\n",
    "          # stuff to do if c is provided\n",
    "            print('Returning both combination and permutation results:')\n",
    "\n",
    "            comb = factorial(n) / (factorial(r) * factorial(n - r))\n",
    "            print('Combination result is:', comb)\n",
    "\n",
    "            permut = factorial(n) / factorial(n - r)\n",
    "            print('Permutation result is:', permut)\n",
    "        else:\n",
    "            print('please enter n ≥ default value of r = 5')\n",
    "\n",
    "# ----------- cp == 'c' ----------\n",
    "            \n",
    "    elif cp == 'c' and n==None and r==None:\n",
    "        n, r = 10, 5\n",
    "          # stuff to do if c is provided\n",
    "        comb = factorial(n) / (factorial(r) * factorial(n - r))\n",
    "        print('Combination result is:', comb)\n",
    "                    \n",
    "    elif cp == 'c' and n==None and r==r:\n",
    "        n = 10\n",
    "        if (n >= r):\n",
    "            # stuff to do if c is provided\n",
    "            comb = factorial(n) / (factorial(r) * factorial(n - r))\n",
    "            print('Combination result is:', comb)\n",
    "            #n=None\n",
    "        else:\n",
    "            print('please enter n ≥ value of r')                \n",
    "\n",
    "    elif cp == 'c' and n==n and r==None:\n",
    "        r = 5\n",
    "        if (n >= r):\n",
    "            # stuff to do if c is provided\n",
    "            comb = factorial(n) / (factorial(r) * factorial(n - r))\n",
    "            print('Combination result is:', comb)\n",
    "            #r=None\n",
    "        else:\n",
    "            print('please enter n ≥ default value of r = 5')\n",
    "            \n",
    "    elif cp == 'c' and n==n and r==r:\n",
    "        if (n >= r):\n",
    "            # stuff to do if c is provided\n",
    "            comb = factorial(n) / (factorial(r) * factorial(n - r))\n",
    "            print('Combination result is:', comb)\n",
    "        else:\n",
    "            print('please enter n ≥ value of r')\n",
    "\n",
    "# ----------- cp == 'p' ------------\n",
    "    elif cp == 'p' and n==None and r==None:\n",
    "        n, r = 10, 5\n",
    "          # stuff to do if d is provided\n",
    "        permut = factorial(n) / factorial(n - r)\n",
    "        print('Permutation result is:', permut)\n",
    "        \n",
    "    elif cp == 'p' and n==None and r==r:\n",
    "        n = 10\n",
    "        if (n >= r):\n",
    "            # stuff to do if c is provided\n",
    "            permut = factorial(n) / factorial(n - r)\n",
    "            print('Permutation result is:', permut)\n",
    "            #n=None\n",
    "        else:\n",
    "            print('please enter n ≥ value of r')                \n",
    "\n",
    "    elif cp == 'p' and n==n and r==None:\n",
    "        r = 5\n",
    "        if (n >= r):\n",
    "            # stuff to do if c is provided\n",
    "            permut = factorial(n) / factorial(n - r)\n",
    "            print('Permutation result is:', permut)\n",
    "            #r=None\n",
    "        else:\n",
    "            print('please enter n ≥ default value of r = 5')\n",
    "            \n",
    "    elif cp == 'c' and n==n and r==r:\n",
    "        if (n >= r):\n",
    "            # stuff to do if c is provided\n",
    "            permut = factorial(n) / factorial(n - r)\n",
    "            print('Permutation result is:', permut)\n",
    "        else:\n",
    "            print('please enter n ≥ value of r')"
   ]
  },
  {
   "cell_type": "code",
   "execution_count": 25,
   "id": "29dfb3f0",
   "metadata": {},
   "outputs": [
    {
     "name": "stdout",
     "output_type": "stream",
     "text": [
      "Returning both combination and permutation results:\n",
      "Combination result is: 252.0\n",
      "Permutation result is: 30240.0\n",
      "Returning both combination and permutation results:\n",
      "Combination result is: 210.0\n",
      "Permutation result is: 151200.0\n"
     ]
    }
   ],
   "source": [
    "select_comb_permut()\n",
    "\n",
    "select_comb_permut(cp=None, n=None, r=6)"
   ]
  },
  {
   "cell_type": "code",
   "execution_count": 29,
   "id": "9b73a166",
   "metadata": {},
   "outputs": [
    {
     "data": {
      "text/plain": [
       "'\\n    This function that takes three arguments.\\n    \\n    First argument determines whether to return permutation or combination or both. \\n    The first argument is optional and default is both if nothing is passed while calling the function.\\n    \\n    The second argument is n, which is optional and default is 10. \\n    \\n    The third argument is r, which is also optional and default is 5.\\n    '"
      ]
     },
     "execution_count": 29,
     "metadata": {},
     "output_type": "execute_result"
    }
   ],
   "source": [
    "select_comb_permut.__doc__"
   ]
  },
  {
   "cell_type": "markdown",
   "id": "a234a43a",
   "metadata": {},
   "source": [
    "### 3. 5 Implement a function that takes **any number of positional and keyword arguments**."
   ]
  },
  {
   "cell_type": "code",
   "execution_count": 115,
   "id": "0d524b6e",
   "metadata": {},
   "outputs": [],
   "source": [
    "def example_function(*args, **kwargs):\n",
    "    \"\"\"\n",
    "    This function takes any number of positional and keyword arguments.\n",
    "    \n",
    "    def example_function(*args, **kwargs):\n",
    "    \"\"\"\n",
    "    a = kwargs.get('a', None)\n",
    "    b = kwargs.get('b', None)\n",
    "    c = kwargs.get('c', None)\n",
    "    d = kwargs.get('d', None)\n",
    "    #etc\n",
    "    #for ar in args:\n",
    "        #print(ar)\n",
    "    val = []\n",
    "    for ar in args:\n",
    "        val.append(ar)\n",
    "    #print(val)\n",
    "        \n",
    "    #a, b =7, 3\n",
    "    return val\n",
    "        \n",
    "#example_function(a='adam', b='bold', c='nick', d='dog',)"
   ]
  },
  {
   "cell_type": "code",
   "execution_count": 116,
   "id": "cf04af2e",
   "metadata": {},
   "outputs": [
    {
     "data": {
      "text/plain": [
       "['hello']"
      ]
     },
     "execution_count": 116,
     "metadata": {},
     "output_type": "execute_result"
    }
   ],
   "source": [
    "# Works for one  parameter\n",
    "example_function(\"hello\")"
   ]
  },
  {
   "cell_type": "code",
   "execution_count": 117,
   "id": "933a60de",
   "metadata": {},
   "outputs": [
    {
     "data": {
      "text/plain": [
       "['hello', 'bye', 'hey']"
      ]
     },
     "execution_count": 117,
     "metadata": {},
     "output_type": "execute_result"
    }
   ],
   "source": [
    "# Works for three parameters\n",
    "example_function(\"hello\", \"bye\", \"hey\")"
   ]
  },
  {
   "cell_type": "code",
   "execution_count": 118,
   "id": "570b0a7b",
   "metadata": {},
   "outputs": [
    {
     "data": {
      "text/plain": [
       "['hello', 'bye', 'hey', 'now']"
      ]
     },
     "execution_count": 118,
     "metadata": {},
     "output_type": "execute_result"
    }
   ],
   "source": [
    "# Works for four parameters\n",
    "example_function(\"hello\", \"bye\", \"hey\", \"now\")"
   ]
  },
  {
   "cell_type": "code",
   "execution_count": 119,
   "id": "dd31e966",
   "metadata": {},
   "outputs": [
    {
     "data": {
      "text/plain": [
       "['hello', 'bye', 'hey', 'now', 'the', 'final', 'test']"
      ]
     },
     "execution_count": 119,
     "metadata": {},
     "output_type": "execute_result"
    }
   ],
   "source": [
    "# Works for four parameters\n",
    "example_function(\"hello\", \"bye\", \"hey\", \"now\", \"the\", \"final\", \"test\")"
   ]
  },
  {
   "cell_type": "code",
   "execution_count": 120,
   "id": "eed5d5cf",
   "metadata": {},
   "outputs": [
    {
     "data": {
      "text/plain": [
       "'\\n    This function takes any number of positional and keyword arguments.\\n    \\n    def example_function(*args, **kwargs):\\n    '"
      ]
     },
     "execution_count": 120,
     "metadata": {},
     "output_type": "execute_result"
    }
   ],
   "source": [
    "example_function.__doc__"
   ]
  },
  {
   "cell_type": "markdown",
   "id": "443f4ae7",
   "metadata": {},
   "source": [
    "### 3.6 Understand **scope of variables: LEGB Rule**\n",
    "    1. Local to the function eg. variable defined in the function\n",
    "    2. Enclosing or nonlocal eg. variables defined in enclosing function in nested function\n",
    "    3. Global eg. variables defined within main program or module\n",
    "    4. Built-in eg. Python keywords\n",
    "\n",
    "Note: Names of global and built-in can be accessed from anywhere\n",
    "\n",
    "Create an example of each case above to illustrate.\n",
    "\n",
    "Reference : https://realpython.com/python-scope-legb-rule/"
   ]
  },
  {
   "cell_type": "markdown",
   "id": "7fc83637",
   "metadata": {},
   "source": [
    "### 3.6.1 Local to the function eg. variable defined in the function\n",
    "\n",
    "square() is a function that computes the square of a given number, base. When you call the function, Python creates a local scope containing the names base (an argument) and result (a local variable). After the first call to square(), base holds a value of 10 and result holds a value of 100. The second time, the local names will not remember the values that were stored in them the first time the function was called. Notice that base now holds the value 20 and result holds 400."
   ]
  },
  {
   "cell_type": "code",
   "execution_count": 5,
   "id": "be359d82",
   "metadata": {},
   "outputs": [],
   "source": [
    "def square(base):\n",
    "    result = base ** 2\n",
    "    print(f'The square of {base} is: {result}')"
   ]
  },
  {
   "cell_type": "code",
   "execution_count": 11,
   "id": "8e3bd3ec",
   "metadata": {},
   "outputs": [
    {
     "name": "stdout",
     "output_type": "stream",
     "text": [
      "The square of 10 is: 100\n"
     ]
    }
   ],
   "source": [
    "square(10)"
   ]
  },
  {
   "cell_type": "code",
   "execution_count": 12,
   "id": "f0c340be",
   "metadata": {},
   "outputs": [
    {
     "ename": "NameError",
     "evalue": "name 'result' is not defined",
     "output_type": "error",
     "traceback": [
      "\u001b[1;31m---------------------------------------------------------------------------\u001b[0m",
      "\u001b[1;31mNameError\u001b[0m                                 Traceback (most recent call last)",
      "Cell \u001b[1;32mIn[12], line 1\u001b[0m\n\u001b[1;32m----> 1\u001b[0m \u001b[43mresult\u001b[49m\n",
      "\u001b[1;31mNameError\u001b[0m: name 'result' is not defined"
     ]
    }
   ],
   "source": [
    "result"
   ]
  },
  {
   "cell_type": "code",
   "execution_count": 8,
   "id": "8e0f90bf",
   "metadata": {},
   "outputs": [
    {
     "ename": "NameError",
     "evalue": "name 'base' is not defined",
     "output_type": "error",
     "traceback": [
      "\u001b[1;31m---------------------------------------------------------------------------\u001b[0m",
      "\u001b[1;31mNameError\u001b[0m                                 Traceback (most recent call last)",
      "Cell \u001b[1;32mIn[8], line 1\u001b[0m\n\u001b[1;32m----> 1\u001b[0m \u001b[43mbase\u001b[49m\n",
      "\u001b[1;31mNameError\u001b[0m: name 'base' is not defined"
     ]
    }
   ],
   "source": [
    "base"
   ]
  },
  {
   "cell_type": "code",
   "execution_count": 13,
   "id": "c415ff30",
   "metadata": {},
   "outputs": [
    {
     "name": "stdout",
     "output_type": "stream",
     "text": [
      "The square of 20 is: 400\n"
     ]
    }
   ],
   "source": [
    "square(20)"
   ]
  },
  {
   "cell_type": "code",
   "execution_count": 14,
   "id": "9a95ec95",
   "metadata": {},
   "outputs": [
    {
     "name": "stdout",
     "output_type": "stream",
     "text": [
      "The cube of 30 is: 27000\n"
     ]
    }
   ],
   "source": [
    "def cube(base):\n",
    "    result = base ** 3\n",
    "    print(f'The cube of {base} is: {result}')\n",
    "\n",
    "cube(30)"
   ]
  },
  {
   "cell_type": "markdown",
   "id": "c192e63d",
   "metadata": {},
   "source": [
    "**Notice** that you define cube() using the same variable and parameter that you used in square(). However, since cube() can’t see the names inside the local scope of square() and vice versa, both functions work as expected without any name collision.\n",
    "\n",
    "You can avoid name collisions in your programs by properly using the local Python scope. This also makes functions more self-contained and creates maintainable program units. Additionally, since you can’t change local names from remote places in your code, your programs will be easier to debug, read, and modify."
   ]
  },
  {
   "cell_type": "markdown",
   "id": "16045c83",
   "metadata": {},
   "source": [
    "### 3.6.2 Enclosing or nonlocal eg. variables defined in enclosing function in nested function\n",
    "Enclosing or nonlocal scope is observed when you nest functions inside other functions.\n",
    "\n",
    "When you call outer_func(), you’re also creating a local scope. The local scope of outer_func() is, at the same time, the enclosing scope of inner_func(). From inside inner_func(), this scope is neither the global scope nor the local scope. It’s a special scope that lies in between those two scopes and is known as the enclosing scope."
   ]
  },
  {
   "cell_type": "code",
   "execution_count": 17,
   "id": "fe2f8077",
   "metadata": {},
   "outputs": [
    {
     "name": "stdout",
     "output_type": "stream",
     "text": [
      "Printing var from inner_func(): 100\n",
      "Printing var from outer_func(): 100\n"
     ]
    },
    {
     "ename": "NameError",
     "evalue": "name 'inner_func' is not defined",
     "output_type": "error",
     "traceback": [
      "\u001b[1;31m---------------------------------------------------------------------------\u001b[0m",
      "\u001b[1;31mNameError\u001b[0m                                 Traceback (most recent call last)",
      "Cell \u001b[1;32mIn[17], line 16\u001b[0m\n\u001b[0;32m     11\u001b[0m     \u001b[38;5;28mprint\u001b[39m(\u001b[38;5;124mf\u001b[39m\u001b[38;5;124m\"\u001b[39m\u001b[38;5;124mPrinting var from outer_func(): \u001b[39m\u001b[38;5;132;01m{\u001b[39;00mvar\u001b[38;5;132;01m}\u001b[39;00m\u001b[38;5;124m\"\u001b[39m)\n\u001b[0;32m     14\u001b[0m outer_func()\n\u001b[1;32m---> 16\u001b[0m \u001b[43minner_func\u001b[49m()\n",
      "\u001b[1;31mNameError\u001b[0m: name 'inner_func' is not defined"
     ]
    }
   ],
   "source": [
    "def outer_func():\n",
    "    # This block is the Local scope of outer_func()\n",
    "    var = 100  # A nonlocal var\n",
    "    # It's also the enclosing scope of inner_func()\n",
    "    def inner_func():\n",
    "        # This block is the Local scope of inner_func()\n",
    "        print(f\"Printing var from inner_func(): {var}\")\n",
    "\n",
    "    inner_func()\n",
    "    \n",
    "    print(f\"Printing var from outer_func(): {var}\")\n",
    "\n",
    "\n",
    "outer_func()\n",
    "\n",
    "inner_func() # NameError: name 'inner_func' is not defined"
   ]
  },
  {
   "cell_type": "markdown",
   "id": "d07bd0a8",
   "metadata": {},
   "source": [
    "### Note: \n",
    "All the names that you create in the enclosing scope are visible from inside inner_func(), except for those created after you call inner_func(). Here’s a new version of outer_fun() that shows this point:"
   ]
  },
  {
   "cell_type": "code",
   "execution_count": 21,
   "id": "7f8c661a",
   "metadata": {},
   "outputs": [
    {
     "name": "stdout",
     "output_type": "stream",
     "text": [
      "Printing var from inner_func(): 100\n"
     ]
    },
    {
     "ename": "NameError",
     "evalue": "free variable 'another_var' referenced before assignment in enclosing scope",
     "output_type": "error",
     "traceback": [
      "\u001b[1;31m---------------------------------------------------------------------------\u001b[0m",
      "\u001b[1;31mNameError\u001b[0m                                 Traceback (most recent call last)",
      "Cell \u001b[1;32mIn[21], line 12\u001b[0m\n\u001b[0;32m      9\u001b[0m     another_var \u001b[38;5;241m=\u001b[39m \u001b[38;5;241m200\u001b[39m  \u001b[38;5;66;03m# This is defined after calling inner_func()\u001b[39;00m\n\u001b[0;32m     10\u001b[0m     \u001b[38;5;28mprint\u001b[39m(\u001b[38;5;124mf\u001b[39m\u001b[38;5;124m\"\u001b[39m\u001b[38;5;124mPrinting var from outer_func(): \u001b[39m\u001b[38;5;132;01m{\u001b[39;00mvar\u001b[38;5;132;01m}\u001b[39;00m\u001b[38;5;124m\"\u001b[39m)\n\u001b[1;32m---> 12\u001b[0m \u001b[43mouter_func\u001b[49m\u001b[43m(\u001b[49m\u001b[43m)\u001b[49m\n",
      "Cell \u001b[1;32mIn[21], line 8\u001b[0m, in \u001b[0;36mouter_func\u001b[1;34m()\u001b[0m\n\u001b[0;32m      5\u001b[0m     \u001b[38;5;28mprint\u001b[39m(\u001b[38;5;124mf\u001b[39m\u001b[38;5;124m\"\u001b[39m\u001b[38;5;124mPrinting another_var from inner_func(): \u001b[39m\u001b[38;5;132;01m{\u001b[39;00manother_var\u001b[38;5;132;01m}\u001b[39;00m\u001b[38;5;124m\"\u001b[39m)\n\u001b[0;32m      6\u001b[0m     \u001b[38;5;66;03m# var = 70   # UnboundLocalError: local variable 'var' referenced before assignment\u001b[39;00m\n\u001b[1;32m----> 8\u001b[0m \u001b[43minner_func\u001b[49m\u001b[43m(\u001b[49m\u001b[43m)\u001b[49m\n\u001b[0;32m      9\u001b[0m another_var \u001b[38;5;241m=\u001b[39m \u001b[38;5;241m200\u001b[39m  \u001b[38;5;66;03m# This is defined after calling inner_func()\u001b[39;00m\n\u001b[0;32m     10\u001b[0m \u001b[38;5;28mprint\u001b[39m(\u001b[38;5;124mf\u001b[39m\u001b[38;5;124m\"\u001b[39m\u001b[38;5;124mPrinting var from outer_func(): \u001b[39m\u001b[38;5;132;01m{\u001b[39;00mvar\u001b[38;5;132;01m}\u001b[39;00m\u001b[38;5;124m\"\u001b[39m)\n",
      "Cell \u001b[1;32mIn[21], line 5\u001b[0m, in \u001b[0;36mouter_func.<locals>.inner_func\u001b[1;34m()\u001b[0m\n\u001b[0;32m      3\u001b[0m \u001b[38;5;28;01mdef\u001b[39;00m \u001b[38;5;21minner_func\u001b[39m():\n\u001b[0;32m      4\u001b[0m     \u001b[38;5;28mprint\u001b[39m(\u001b[38;5;124mf\u001b[39m\u001b[38;5;124m\"\u001b[39m\u001b[38;5;124mPrinting var from inner_func(): \u001b[39m\u001b[38;5;132;01m{\u001b[39;00mvar\u001b[38;5;132;01m}\u001b[39;00m\u001b[38;5;124m\"\u001b[39m)\n\u001b[1;32m----> 5\u001b[0m     \u001b[38;5;28mprint\u001b[39m(\u001b[38;5;124mf\u001b[39m\u001b[38;5;124m\"\u001b[39m\u001b[38;5;124mPrinting another_var from inner_func(): \u001b[39m\u001b[38;5;132;01m{\u001b[39;00manother_var\u001b[38;5;132;01m}\u001b[39;00m\u001b[38;5;124m\"\u001b[39m)\n",
      "\u001b[1;31mNameError\u001b[0m: free variable 'another_var' referenced before assignment in enclosing scope"
     ]
    }
   ],
   "source": [
    "def outer_func():\n",
    "    var = 100\n",
    "    def inner_func():\n",
    "        print(f\"Printing var from inner_func(): {var}\")\n",
    "        print(f\"Printing another_var from inner_func(): {another_var}\")\n",
    "        # var = 70   # UnboundLocalError: local variable 'var' referenced before assignment\n",
    "\n",
    "    inner_func()\n",
    "    another_var = 200  # This is defined after calling inner_func()\n",
    "    print(f\"Printing var from outer_func(): {var}\")\n",
    "\n",
    "outer_func()"
   ]
  },
  {
   "cell_type": "markdown",
   "id": "d6309113",
   "metadata": {},
   "source": [
    "### 3.6.3 Global eg. variables defined within main program or module\n",
    "From the moment you start a Python program, you’re in the global Python scope. Internally, Python turns your program’s main script into a module called __main__ to hold the main program’s execution. The namespace of this module is the main global scope of your program."
   ]
  },
  {
   "cell_type": "code",
   "execution_count": 22,
   "id": "7ecd523f",
   "metadata": {},
   "outputs": [
    {
     "data": {
      "text/plain": [
       "100"
      ]
     },
     "execution_count": 22,
     "metadata": {},
     "output_type": "execute_result"
    }
   ],
   "source": [
    "var = 100 # A global variable\n",
    "def func():\n",
    "    return var  # You can access var from inside func()\n",
    "\n",
    "func()\n",
    "\n",
    "var  # Remains unchanged"
   ]
  },
  {
   "cell_type": "markdown",
   "id": "5bfb8ce5",
   "metadata": {},
   "source": [
    "### Note:\n",
    "Within increment(), you try to increment the global variable, var. Since var isn’t declared global inside increment(), Python creates a new local variable with the same name, var, inside the function. In the process, Python realizes that you’re trying to use the local var before its first assignment (var + 1), so it raises an UnboundLocalError."
   ]
  },
  {
   "cell_type": "code",
   "execution_count": 23,
   "id": "93300837",
   "metadata": {},
   "outputs": [
    {
     "ename": "UnboundLocalError",
     "evalue": "local variable 'var' referenced before assignment",
     "output_type": "error",
     "traceback": [
      "\u001b[1;31m---------------------------------------------------------------------------\u001b[0m",
      "\u001b[1;31mUnboundLocalError\u001b[0m                         Traceback (most recent call last)",
      "Cell \u001b[1;32mIn[23], line 5\u001b[0m\n\u001b[0;32m      2\u001b[0m \u001b[38;5;28;01mdef\u001b[39;00m \u001b[38;5;21mincrement\u001b[39m():\n\u001b[0;32m      3\u001b[0m     var \u001b[38;5;241m=\u001b[39m var \u001b[38;5;241m+\u001b[39m \u001b[38;5;241m1\u001b[39m  \u001b[38;5;66;03m# Try to update a global variable\u001b[39;00m\n\u001b[1;32m----> 5\u001b[0m \u001b[43mincrement\u001b[49m\u001b[43m(\u001b[49m\u001b[43m)\u001b[49m\n",
      "Cell \u001b[1;32mIn[23], line 3\u001b[0m, in \u001b[0;36mincrement\u001b[1;34m()\u001b[0m\n\u001b[0;32m      2\u001b[0m \u001b[38;5;28;01mdef\u001b[39;00m \u001b[38;5;21mincrement\u001b[39m():\n\u001b[1;32m----> 3\u001b[0m     var \u001b[38;5;241m=\u001b[39m \u001b[43mvar\u001b[49m \u001b[38;5;241m+\u001b[39m \u001b[38;5;241m1\u001b[39m\n",
      "\u001b[1;31mUnboundLocalError\u001b[0m: local variable 'var' referenced before assignment"
     ]
    }
   ],
   "source": [
    "var = 100  # A global variable\n",
    "def increment():\n",
    "    var = var + 1  # Try to update a global variable from inside a fuction\n",
    "\n",
    "increment()"
   ]
  },
  {
   "cell_type": "markdown",
   "id": "5ac8c359",
   "metadata": {},
   "source": [
    "### Note:\n",
    "You likely expect to be able to print the global var and be able to update var later, but again you get an UnboundLocalError. What happens here is that when you run the body of func(), Python decides that var is a local variable because it’s assigned within the function scope. This isn’t a bug, but a design choice. Python assumes that names assigned in the body of a function are local to that function."
   ]
  },
  {
   "cell_type": "code",
   "execution_count": 26,
   "id": "4bad8af2",
   "metadata": {},
   "outputs": [
    {
     "ename": "UnboundLocalError",
     "evalue": "local variable 'var' referenced before assignment",
     "output_type": "error",
     "traceback": [
      "\u001b[1;31m---------------------------------------------------------------------------\u001b[0m",
      "\u001b[1;31mUnboundLocalError\u001b[0m                         Traceback (most recent call last)",
      "Cell \u001b[1;32mIn[26], line 6\u001b[0m\n\u001b[0;32m      3\u001b[0m     \u001b[38;5;28mprint\u001b[39m(var)  \u001b[38;5;66;03m# Reference the global variable, var\u001b[39;00m\n\u001b[0;32m      4\u001b[0m     var \u001b[38;5;241m=\u001b[39m \u001b[38;5;241m200\u001b[39m   \u001b[38;5;66;03m# Define a new local variable using the same name, var\u001b[39;00m\n\u001b[1;32m----> 6\u001b[0m \u001b[43mfunc\u001b[49m\u001b[43m(\u001b[49m\u001b[43m)\u001b[49m\n",
      "Cell \u001b[1;32mIn[26], line 3\u001b[0m, in \u001b[0;36mfunc\u001b[1;34m()\u001b[0m\n\u001b[0;32m      2\u001b[0m \u001b[38;5;28;01mdef\u001b[39;00m \u001b[38;5;21mfunc\u001b[39m():\n\u001b[1;32m----> 3\u001b[0m     \u001b[38;5;28mprint\u001b[39m(\u001b[43mvar\u001b[49m)  \u001b[38;5;66;03m# Reference the global variable, var\u001b[39;00m\n\u001b[0;32m      4\u001b[0m     var \u001b[38;5;241m=\u001b[39m \u001b[38;5;241m200\u001b[39m\n",
      "\u001b[1;31mUnboundLocalError\u001b[0m: local variable 'var' referenced before assignment"
     ]
    }
   ],
   "source": [
    "var = 100  # A global variable\n",
    "def func():\n",
    "    print(var)  # Reference the global variable, var\n",
    "    var = 200   # Define a new local variable using the same name, var\n",
    "\n",
    "func()"
   ]
  },
  {
   "cell_type": "markdown",
   "id": "fb115fed",
   "metadata": {},
   "source": [
    "### Summary Implementation:\n",
    "Up to this point, you’ve covered three Python scopes. Check out the following example for a summary on where they’re located in your code and how Python looks up names through them:"
   ]
  },
  {
   "cell_type": "code",
   "execution_count": 46,
   "id": "c15a73cc",
   "metadata": {},
   "outputs": [
    {
     "name": "stdout",
     "output_type": "stream",
     "text": [
      "Printing number from outer_func(): 100\n",
      "Printing number from inner_func(): 100\n"
     ]
    }
   ],
   "source": [
    "# This area is the global or module scope\n",
    "number = 100\n",
    "def outer_func():\n",
    "    \"\"\"\n",
    "    This function explaines the scope of variables using the \n",
    "    LEGB Rule\n",
    "    \n",
    "    1. Local to the function eg. variable defined in the function\n",
    "    2. Enclosing or nonlocal eg. variables defined in enclosing function in nested function\n",
    "    3. Global eg. variables defined within main program or module\n",
    "    4. Built-in eg. Python keywords\n",
    "    \"\"\"\n",
    "    \n",
    "    # This block is the local scope of outer_func()\n",
    "    print(f\"Printing number from outer_func(): {number}\")\n",
    "    # It's also the enclosing scope of inner_func()\n",
    "    def inner_func():\n",
    "        # This block is the local scope of inner_func()\n",
    "        print(f\"Printing number from inner_func(): {number}\")\n",
    "        # print(number)\n",
    "\n",
    "    inner_func()\n",
    "\n",
    "outer_func()"
   ]
  },
  {
   "cell_type": "markdown",
   "id": "b2648a02",
   "metadata": {},
   "source": [
    "### Note:\n",
    "When you call outer_func(), you get 100 printed on your screen. But how does Python look up the name number in this case? Following the LEGB rule, you’ll look up number in the following places:\n",
    "\n",
    "Inside inner_func(): This is the local scope, but number doesn’t exist there.\n",
    "Inside outer_func(): This is the enclosing scope, but number isn’t defined there either.\n",
    "In the module scope: This is the global scope, and you find number there, so you can print number to the screen."
   ]
  },
  {
   "cell_type": "markdown",
   "id": "e628af67",
   "metadata": {},
   "source": [
    "### 3.6.4 Built-in eg. Python keywords\n",
    "If number isn’t defined inside the global scope, then Python continues the search by looking at the built-in scope. This is the last component of the LEGB rule, as you’ll see in the next section.\n",
    "\n",
    "The built-in scope is a special Python scope that’s implemented as a standard library module named builtins in Python 3.x. All of Python’s built-in objects live in this module. They’re automatically loaded to the built-in scope when you run the Python interpreter. Python searches builtins last in its LEGB lookup, so you get all the names it defines for free. This means that you can use them without importing any module.\n",
    "\n",
    "Notice that the names in builtins are always loaded into your global Python scope with the special name __builtins__, as you can see in the following code:"
   ]
  },
  {
   "cell_type": "code",
   "execution_count": 47,
   "id": "0cfea1a1",
   "metadata": {},
   "outputs": [
    {
     "data": {
      "text/plain": [
       "['ArithmeticError',\n",
       " 'AssertionError',\n",
       " 'AttributeError',\n",
       " 'BaseException',\n",
       " 'BlockingIOError',\n",
       " 'BrokenPipeError',\n",
       " 'BufferError',\n",
       " 'BytesWarning',\n",
       " 'ChildProcessError',\n",
       " 'ConnectionAbortedError',\n",
       " 'ConnectionError',\n",
       " 'ConnectionRefusedError',\n",
       " 'ConnectionResetError',\n",
       " 'DeprecationWarning',\n",
       " 'EOFError',\n",
       " 'Ellipsis',\n",
       " 'EncodingWarning',\n",
       " 'EnvironmentError',\n",
       " 'Exception',\n",
       " 'False',\n",
       " 'FileExistsError',\n",
       " 'FileNotFoundError',\n",
       " 'FloatingPointError',\n",
       " 'FutureWarning',\n",
       " 'GeneratorExit',\n",
       " 'IOError',\n",
       " 'ImportError',\n",
       " 'ImportWarning',\n",
       " 'IndentationError',\n",
       " 'IndexError',\n",
       " 'InterruptedError',\n",
       " 'IsADirectoryError',\n",
       " 'KeyError',\n",
       " 'KeyboardInterrupt',\n",
       " 'LookupError',\n",
       " 'MemoryError',\n",
       " 'ModuleNotFoundError',\n",
       " 'NameError',\n",
       " 'None',\n",
       " 'NotADirectoryError',\n",
       " 'NotImplemented',\n",
       " 'NotImplementedError',\n",
       " 'OSError',\n",
       " 'OverflowError',\n",
       " 'PendingDeprecationWarning',\n",
       " 'PermissionError',\n",
       " 'ProcessLookupError',\n",
       " 'RecursionError',\n",
       " 'ReferenceError',\n",
       " 'ResourceWarning',\n",
       " 'RuntimeError',\n",
       " 'RuntimeWarning',\n",
       " 'StopAsyncIteration',\n",
       " 'StopIteration',\n",
       " 'SyntaxError',\n",
       " 'SyntaxWarning',\n",
       " 'SystemError',\n",
       " 'SystemExit',\n",
       " 'TabError',\n",
       " 'TimeoutError',\n",
       " 'True',\n",
       " 'TypeError',\n",
       " 'UnboundLocalError',\n",
       " 'UnicodeDecodeError',\n",
       " 'UnicodeEncodeError',\n",
       " 'UnicodeError',\n",
       " 'UnicodeTranslateError',\n",
       " 'UnicodeWarning',\n",
       " 'UserWarning',\n",
       " 'ValueError',\n",
       " 'Warning',\n",
       " 'WindowsError',\n",
       " 'ZeroDivisionError',\n",
       " '__IPYTHON__',\n",
       " '__build_class__',\n",
       " '__debug__',\n",
       " '__doc__',\n",
       " '__import__',\n",
       " '__loader__',\n",
       " '__name__',\n",
       " '__package__',\n",
       " '__spec__',\n",
       " 'abs',\n",
       " 'aiter',\n",
       " 'all',\n",
       " 'anext',\n",
       " 'any',\n",
       " 'ascii',\n",
       " 'bin',\n",
       " 'bool',\n",
       " 'breakpoint',\n",
       " 'bytearray',\n",
       " 'bytes',\n",
       " 'callable',\n",
       " 'chr',\n",
       " 'classmethod',\n",
       " 'compile',\n",
       " 'complex',\n",
       " 'copyright',\n",
       " 'credits',\n",
       " 'delattr',\n",
       " 'dict',\n",
       " 'dir',\n",
       " 'display',\n",
       " 'divmod',\n",
       " 'enumerate',\n",
       " 'eval',\n",
       " 'exec',\n",
       " 'execfile',\n",
       " 'filter',\n",
       " 'float',\n",
       " 'format',\n",
       " 'frozenset',\n",
       " 'get_ipython',\n",
       " 'getattr',\n",
       " 'globals',\n",
       " 'hasattr',\n",
       " 'hash',\n",
       " 'help',\n",
       " 'hex',\n",
       " 'id',\n",
       " 'input',\n",
       " 'int',\n",
       " 'isinstance',\n",
       " 'issubclass',\n",
       " 'iter',\n",
       " 'len',\n",
       " 'license',\n",
       " 'list',\n",
       " 'locals',\n",
       " 'map',\n",
       " 'max',\n",
       " 'memoryview',\n",
       " 'min',\n",
       " 'next',\n",
       " 'object',\n",
       " 'oct',\n",
       " 'open',\n",
       " 'ord',\n",
       " 'pow',\n",
       " 'print',\n",
       " 'property',\n",
       " 'range',\n",
       " 'repr',\n",
       " 'reversed',\n",
       " 'round',\n",
       " 'runfile',\n",
       " 'set',\n",
       " 'setattr',\n",
       " 'slice',\n",
       " 'sorted',\n",
       " 'staticmethod',\n",
       " 'str',\n",
       " 'sum',\n",
       " 'super',\n",
       " 'tuple',\n",
       " 'type',\n",
       " 'vars',\n",
       " 'zip']"
      ]
     },
     "execution_count": 47,
     "metadata": {},
     "output_type": "execute_result"
    }
   ],
   "source": [
    "dir()\n",
    "\n",
    "dir(__builtins__)"
   ]
  },
  {
   "cell_type": "code",
   "execution_count": 48,
   "id": "1df71f62",
   "metadata": {},
   "outputs": [
    {
     "data": {
      "text/plain": [
       "159"
      ]
     },
     "execution_count": 48,
     "metadata": {},
     "output_type": "execute_result"
    }
   ],
   "source": [
    "len(dir(__builtins__))"
   ]
  },
  {
   "cell_type": "code",
   "execution_count": 49,
   "id": "778f8db3",
   "metadata": {},
   "outputs": [
    {
     "name": "stdout",
     "output_type": "stream",
     "text": [
      "15\n",
      "8\n",
      "[1, 3, 5, 7, 8]\n",
      "100\n"
     ]
    }
   ],
   "source": [
    "import builtins  # Import builtins as a regular module\n",
    "dir(builtins)\n",
    "\n",
    "print(builtins.sum([1, 2, 3, 4, 5]))\n",
    "\n",
    "print(builtins.max([1, 5, 8, 7, 3]))\n",
    "\n",
    "print(builtins.sorted([1, 5, 8, 7, 3]))\n",
    "\n",
    "print(builtins.pow(10, 2))"
   ]
  },
  {
   "cell_type": "markdown",
   "id": "74d7d19a",
   "metadata": {},
   "source": [
    "### Note:\n",
    "You can override or redefine any built-in name in your global scope. If you do so, then keep in mind that this will affect all your code. Take a look at the following example:"
   ]
  },
  {
   "cell_type": "code",
   "execution_count": 50,
   "id": "ae85cd20",
   "metadata": {},
   "outputs": [
    {
     "ename": "TypeError",
     "evalue": "'int' object is not callable",
     "output_type": "error",
     "traceback": [
      "\u001b[1;31m---------------------------------------------------------------------------\u001b[0m",
      "\u001b[1;31mTypeError\u001b[0m                                 Traceback (most recent call last)",
      "Cell \u001b[1;32mIn[50], line 4\u001b[0m\n\u001b[0;32m      1\u001b[0m \u001b[38;5;28mabs\u001b[39m(\u001b[38;5;241m-\u001b[39m\u001b[38;5;241m15\u001b[39m)  \u001b[38;5;66;03m# Standard use of a built-in function\u001b[39;00m\n\u001b[0;32m      3\u001b[0m \u001b[38;5;28mabs\u001b[39m \u001b[38;5;241m=\u001b[39m \u001b[38;5;241m20\u001b[39m  \u001b[38;5;66;03m# Redefine a built-in name in the global scope\u001b[39;00m\n\u001b[1;32m----> 4\u001b[0m \u001b[38;5;28;43mabs\u001b[39;49m\u001b[43m(\u001b[49m\u001b[38;5;241;43m-\u001b[39;49m\u001b[38;5;241;43m15\u001b[39;49m\u001b[43m)\u001b[49m\n",
      "\u001b[1;31mTypeError\u001b[0m: 'int' object is not callable"
     ]
    }
   ],
   "source": [
    "abs(-15)  # Standard use of a built-in function\n",
    "\n",
    "abs = 20  # Redefine a built-in name in the global scope\n",
    "abs(-15)"
   ]
  },
  {
   "cell_type": "code",
   "execution_count": 51,
   "id": "65a47c05",
   "metadata": {},
   "outputs": [
    {
     "data": {
      "text/plain": [
       "15"
      ]
     },
     "execution_count": 51,
     "metadata": {},
     "output_type": "execute_result"
    }
   ],
   "source": [
    "del abs  # Remove the redefined abs from your global scope\n",
    "abs(-15)  # Restore the original abs()"
   ]
  },
  {
   "cell_type": "code",
   "execution_count": 52,
   "id": "812a97d9",
   "metadata": {},
   "outputs": [
    {
     "data": {
      "text/plain": [
       "15"
      ]
     },
     "execution_count": 52,
     "metadata": {},
     "output_type": "execute_result"
    }
   ],
   "source": [
    "import builtins\n",
    "builtins.abs(-15)"
   ]
  },
  {
   "cell_type": "markdown",
   "id": "b3359db7",
   "metadata": {},
   "source": [
    "### Note:\n",
    "Once you explicitly import builtins, you have the module name available in your global Python scope. From this point on, you can use fully-qualified names to unambiguously get the names you need from builtins, just as was done with builtins.abs() in the above example."
   ]
  },
  {
   "cell_type": "markdown",
   "id": "31d5373c",
   "metadata": {},
   "source": [
    "## The End of Assignment 2!"
   ]
  },
  {
   "cell_type": "code",
   "execution_count": null,
   "id": "c2ab5743",
   "metadata": {},
   "outputs": [],
   "source": []
  }
 ],
 "metadata": {
  "kernelspec": {
   "display_name": "Python 3 (ipykernel)",
   "language": "python",
   "name": "python3"
  },
  "language_info": {
   "codemirror_mode": {
    "name": "ipython",
    "version": 3
   },
   "file_extension": ".py",
   "mimetype": "text/x-python",
   "name": "python",
   "nbconvert_exporter": "python",
   "pygments_lexer": "ipython3",
   "version": "3.10.9"
  }
 },
 "nbformat": 4,
 "nbformat_minor": 5
}
