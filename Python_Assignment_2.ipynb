{
  "cells": [
    {
      "cell_type": "markdown",
      "id": "7104cce3",
      "metadata": {
        "id": "7104cce3"
      },
      "source": [
        "# Python Basics: Flow Control, Loops, Functions"
      ]
    },
    {
      "cell_type": "markdown",
      "source": [],
      "metadata": {
        "id": "gpw_6IJBP7aN"
      },
      "id": "gpw_6IJBP7aN"
    },
    {
      "cell_type": "code",
      "execution_count": null,
      "id": "b021637e",
      "metadata": {
        "id": "b021637e"
      },
      "outputs": [],
      "source": [
        "#1.Conditiinals"
      ]
    },
    {
      "cell_type": "markdown",
      "id": "77fab55d",
      "metadata": {
        "id": "77fab55d"
      },
      "source": [
        "#Phython if Statement"
      ]
    },
    {
      "cell_type": "code",
      "execution_count": null,
      "id": "b31d248f",
      "metadata": {
        "id": "b31d248f",
        "outputId": "11fe2f67-2cd4-41ae-abc1-93892a6f7fac"
      },
      "outputs": [
        {
          "name": "stdout",
          "output_type": "stream",
          "text": [
            "Its a positive number\n",
            "Try again\n"
          ]
        }
      ],
      "source": [
        "val1 = 100\n",
        "#val2 = -1 # its a negative number so will be skipping the if statement\n",
        "#if the given number is positive or negative\n",
        "if val1 > 0:\n",
        "    print(\"Its a positive number\")\n",
        "print(\"Try again\")\n"
      ]
    },
    {
      "cell_type": "markdown",
      "id": "cfaae6f9",
      "metadata": {
        "id": "cfaae6f9"
      },
      "source": [
        "#Python if...else Statement"
      ]
    },
    {
      "cell_type": "code",
      "execution_count": null,
      "id": "0f48e0f0",
      "metadata": {
        "id": "0f48e0f0",
        "outputId": "c6e9d220-1fd5-4713-e057-69bc928c2138"
      },
      "outputs": [
        {
          "name": "stdout",
          "output_type": "stream",
          "text": [
            "It is a negative number\n",
            "Try again\n"
          ]
        }
      ],
      "source": [
        "#val1 = 100\n",
        "val2 = -1 # its a negative number it will jump to else statement\n",
        "if val2 > 0:\n",
        "    print(\"It is a positive number\")\n",
        "else:\n",
        "    print(\"It is a negative number\")\n",
        "print(\"Try again\")\n"
      ]
    },
    {
      "cell_type": "markdown",
      "id": "2d3fd66a",
      "metadata": {
        "id": "2d3fd66a"
      },
      "source": [
        "#Python if...elif...else Statement"
      ]
    },
    {
      "cell_type": "code",
      "execution_count": null,
      "id": "b15b1cbf",
      "metadata": {
        "id": "b15b1cbf",
        "outputId": "d1c9fc3c-edb5-4494-8812-586749f01ea6"
      },
      "outputs": [
        {
          "name": "stdout",
          "output_type": "stream",
          "text": [
            "Entered number is equal to 0\n",
            "Try again\n"
          ]
        }
      ],
      "source": [
        "#val1 = 100\n",
        "val2 = 0\n",
        "if val2 > 0:\n",
        "    print(\"It is a positive number\")\n",
        "elif val2 == 0:\n",
        "    print(\"Entered number is equal to 0\")\n",
        "else:\n",
        "    print(\"It is a negative number\")\n",
        "print(\"Try again\")\n"
      ]
    },
    {
      "cell_type": "markdown",
      "id": "1af7b12c",
      "metadata": {
        "id": "1af7b12c"
      },
      "source": [
        "#Python Nested if statements"
      ]
    },
    {
      "cell_type": "code",
      "execution_count": null,
      "id": "98a11067",
      "metadata": {
        "id": "98a11067",
        "outputId": "f5ebbc00-4bdf-4cbb-dadf-359a57283b3c"
      },
      "outputs": [
        {
          "name": "stdout",
          "output_type": "stream",
          "text": [
            "The number is negative\n"
          ]
        }
      ],
      "source": [
        "val1 = 15\n",
        "if (val1 >= 0): # -------Outer if statement\n",
        "    if val1==0:\n",
        "        print(\"The number entered is 0\")# -----inner if statement\n",
        "    else:\n",
        "        print(\"Its a positive number\")\n",
        "else:\n",
        "    print(\"The number is negative\")"
      ]
    },
    {
      "cell_type": "code",
      "execution_count": null,
      "id": "01dbc675",
      "metadata": {
        "id": "01dbc675",
        "outputId": "03550ce5-b1d9-461e-e3d3-9322dc497b97"
      },
      "outputs": [
        {
          "name": "stdout",
          "output_type": "stream",
          "text": [
            "Enter the radius of the circle2.5\n",
            "Try Again,enter a numeric value\n"
          ]
        }
      ],
      "source": [
        "# 2. Calculate the area of the circle\n",
        "pi =3.14\n",
        "r =input(\"Enter the radius of the circle\")\n",
        "if r.isnumeric():\n",
        "    r = float(r)   \n",
        "    area = pi *r**2\n",
        "    print(\"Area of the circle is \",area)\n",
        "else:\n",
        "    print(\"Try Again,enter a numeric value\")"
      ]
    },
    {
      "cell_type": "code",
      "execution_count": null,
      "id": "f6602d7c",
      "metadata": {
        "id": "f6602d7c",
        "outputId": "70e9252b-b8ea-4ae8-f251-4c94d93b9c95"
      },
      "outputs": [
        {
          "name": "stdout",
          "output_type": "stream",
          "text": [
            "Maria found in the student_profile\n",
            "Successfully removed ML from Maria's course\n"
          ]
        }
      ],
      "source": [
        "# Question 4\n",
        "students_profile={'Duy': ['Python', 'Database', 'ML'], 'Laxmi': ['Python', 'Database', 'ML'],\n",
        "'Antonio': ['Python', 'Database', 'ML'],'Maria': ['Python', 'Database', 'ML']}\n",
        "students_profile\n",
        "# check if Maria is found in the student_profile\n",
        "if 'Maria' in students_profile:\n",
        "    print(\"Maria found in the student_profile\")\n",
        "    students_profile['Maria'].remove('ML')# remove ML \n",
        "    print(\"Successfully removed ML from Maria's course\")\n",
        "else:\n",
        "    print(\"Maria not found in the student_profile dictionary\")"
      ]
    },
    {
      "cell_type": "code",
      "execution_count": null,
      "id": "85aae44f",
      "metadata": {
        "id": "85aae44f",
        "outputId": "7c1adbd0-ca58-4d03-dfc7-a6b1d5787d11"
      },
      "outputs": [
        {
          "name": "stdout",
          "output_type": "stream",
          "text": [
            "Enter a stringHello World!\n",
            "Enter a substringWorld\n",
            "The substring is found in string\n"
          ]
        }
      ],
      "source": [
        "# Taking input from the user as substring\n",
        "\n",
        "user1 = input(\"Enter a string\")# inputting a string from the user\n",
        "user_sub = input(\"Enter a substring\") # inputing a substring from the user\n",
        "# checking if the substring is present in the string\n",
        "if user_sub  in user1:\n",
        "    print(\"The substring is found in string\")\n",
        "else:\n",
        "    print(\"The substring is not found in string\")\n",
        "\n",
        "\n"
      ]
    },
    {
      "cell_type": "code",
      "execution_count": null,
      "id": "41bc16b1",
      "metadata": {
        "id": "41bc16b1",
        "outputId": "69242143-b553-42c3-9b92-f10d7f40a54b"
      },
      "outputs": [
        {
          "name": "stdout",
          "output_type": "stream",
          "text": [
            "Please enter the order (1,2,3):1\n",
            "9\n"
          ]
        }
      ],
      "source": [
        "# Distance Metrics are important to calculate the similarity between the vectors. \n",
        "#defining the points\n",
        "\n",
        "point1 = (1,2,3)\n",
        "point2 = (4,5,6)\n",
        "\n",
        "# Now we calculate the distance based on the order\n",
        "order =int(input(\"Please enter the order (1,2,3):\"))\n",
        "if order == 1:\n",
        "    dist = abs(point1[0]-point2[0]) + abs(point1[1]-point2[1]) + abs(point1[2]-point2[2])\n",
        "elif order == 2:\n",
        "    dist = ((point1[0]-point2[0])**2 + (point1[1]-point2[1])**2 + (point1[2]-point2[2])**2)**(1/2)\n",
        "else:\n",
        "    dist = (abs(point1[0]-point2[0])**order + abs(point1[1]-point2[1])**order + abs(point1[2]-point2[2])**order)**(1/order)\n",
        "\n",
        "#Print\n",
        "print(dist)\n",
        "    \n",
        "    \n",
        "    \n",
        "               \n"
      ]
    },
    {
      "cell_type": "code",
      "execution_count": null,
      "id": "12442f0c",
      "metadata": {
        "id": "12442f0c"
      },
      "outputs": [],
      "source": [
        "# 3. Loop:\n"
      ]
    },
    {
      "cell_type": "markdown",
      "id": "fb91c63f",
      "metadata": {
        "id": "fb91c63f"
      },
      "source": [
        "#Python For Loops"
      ]
    },
    {
      "cell_type": "code",
      "execution_count": null,
      "id": "87ff76f8",
      "metadata": {
        "id": "87ff76f8",
        "outputId": "a1974383-0bd7-4dc9-d9d0-2928f0085fb9"
      },
      "outputs": [
        {
          "name": "stdout",
          "output_type": "stream",
          "text": [
            "UK\n",
            "USA\n",
            "UAE\n",
            "SE\n",
            "ZW\n",
            "KW\n"
          ]
        }
      ],
      "source": [
        "#creating a list of items\n",
        "country = ['UK','USA','UAE','SE','ZW','KW']\n",
        "for i in country:\n",
        "    print(i)"
      ]
    },
    {
      "cell_type": "code",
      "execution_count": null,
      "id": "cdf97784",
      "metadata": {
        "id": "cdf97784",
        "outputId": "c544227b-7fb6-4be8-d13a-8d38aa98cc58"
      },
      "outputs": [
        {
          "name": "stdout",
          "output_type": "stream",
          "text": [
            "P\n",
            "r\n",
            "i\n",
            "m\n",
            "i\n"
          ]
        }
      ],
      "source": [
        "#Looping through a string\n",
        "for i in \"Primi\":\n",
        "    print(i)"
      ]
    },
    {
      "cell_type": "code",
      "execution_count": null,
      "id": "7ee702f6",
      "metadata": {
        "id": "7ee702f6",
        "outputId": "f20e27ad-c2a2-4bc5-c6b0-12207f820393"
      },
      "outputs": [
        {
          "name": "stdout",
          "output_type": "stream",
          "text": [
            "apple\n",
            "Mango\n"
          ]
        }
      ],
      "source": [
        "#break\n",
        "fruits = [\"apple\",\"Mango\",\"Orange\",\"Fig\"]\n",
        "for i in fruits:\n",
        "    if i == \"Orange\":\n",
        "        break\n",
        "    print(i)"
      ]
    },
    {
      "cell_type": "code",
      "execution_count": null,
      "id": "7b800529",
      "metadata": {
        "id": "7b800529",
        "outputId": "77ae3084-99ee-43b5-b329-5288245b9813"
      },
      "outputs": [
        {
          "name": "stdout",
          "output_type": "stream",
          "text": [
            "apple\n",
            "Mango\n",
            "Orange\n"
          ]
        }
      ],
      "source": [
        "#continue\n",
        "fruits = [\"apple\",\"Mango\",\"Orange\",\"Fig\"]\n",
        "for i in fruits:\n",
        "    if i == \"Fig\":\n",
        "        continue\n",
        "    print(i)"
      ]
    },
    {
      "cell_type": "code",
      "execution_count": null,
      "id": "4b747d5b",
      "metadata": {
        "id": "4b747d5b",
        "outputId": "5579a42b-8b99-441f-cf7c-bb1a1da176b9"
      },
      "outputs": [
        {
          "name": "stdout",
          "output_type": "stream",
          "text": [
            "0\n",
            "1\n",
            "2\n",
            "3\n",
            "4\n",
            "5\n"
          ]
        }
      ],
      "source": [
        "#range()\n",
        "num_val = range(6)\n",
        "# iterate through values range from 0 to 5\n",
        "for i in num_val:\n",
        "    print(i)"
      ]
    },
    {
      "cell_type": "code",
      "execution_count": null,
      "id": "bae653ce",
      "metadata": {
        "id": "bae653ce",
        "outputId": "5fe12a27-8177-4ef2-ffee-b530f7d3112e"
      },
      "outputs": [
        {
          "name": "stdout",
          "output_type": "stream",
          "text": [
            "0\n",
            "1\n",
            "2\n",
            "3\n",
            "4\n",
            "5\n",
            "6\n",
            "7\n",
            "8\n",
            "9\n",
            "Done!!\n"
          ]
        }
      ],
      "source": [
        "# range() use of else in for loop\n",
        "for i in range(10):\n",
        "    print(i)\n",
        "else:\n",
        "    print(\"Done!!\")"
      ]
    },
    {
      "cell_type": "code",
      "execution_count": null,
      "id": "0b3076ed",
      "metadata": {
        "id": "0b3076ed",
        "outputId": "2e3cacca-752b-4903-b7cc-697302ecc2e7"
      },
      "outputs": [
        {
          "name": "stdout",
          "output_type": "stream",
          "text": [
            "0\n",
            "1\n",
            "2\n",
            "3\n",
            "4\n"
          ]
        }
      ],
      "source": [
        "#Using break statement\n",
        "\n",
        "for i in range(10):\n",
        "    if i == 5: break # loop breaks when it reachs this condition,and executes the else condition\n",
        "    print(i)\n",
        "else:\n",
        "    print(\"Done!!\")"
      ]
    },
    {
      "cell_type": "code",
      "execution_count": null,
      "id": "f9c94f5e",
      "metadata": {
        "id": "f9c94f5e",
        "outputId": "81dedc53-e969-4afd-b98e-83f50141ede2"
      },
      "outputs": [
        {
          "name": "stdout",
          "output_type": "stream",
          "text": [
            "ford Red\n",
            "ford white\n",
            "ford black\n",
            "BMW Red\n",
            "BMW white\n",
            "BMW black\n",
            "Benz Red\n",
            "Benz white\n",
            "Benz black\n",
            "Volvo Red\n",
            "Volvo white\n",
            "Volvo black\n",
            "Audi Red\n",
            "Audi white\n",
            "Audi black\n",
            "Kia Red\n",
            "Kia white\n",
            "Kia black\n"
          ]
        }
      ],
      "source": [
        "#Nested Loop\n",
        "cars = [\"ford\",\"BMW\",\"Benz\",\"Volvo\",\"Audi\",\"Kia\"]\n",
        "colors =[\"Red\",\"white\",\"black\"]\n",
        "for x in cars:\n",
        "    for y in colors:\n",
        "        print(x,y)"
      ]
    },
    {
      "cell_type": "markdown",
      "id": "39e5929d",
      "metadata": {
        "id": "39e5929d"
      },
      "source": [
        "#Python While Loop"
      ]
    },
    {
      "cell_type": "code",
      "execution_count": null,
      "id": "a13b4dd6",
      "metadata": {
        "id": "a13b4dd6",
        "outputId": "7d065cd0-f7c4-4494-cab2-729622dd0a0c"
      },
      "outputs": [
        {
          "name": "stdout",
          "output_type": "stream",
          "text": [
            "1\n",
            "2\n",
            "3\n",
            "4\n",
            "5\n",
            "6\n",
            "7\n",
            "8\n",
            "9\n"
          ]
        }
      ],
      "source": [
        "# Displaying numbers from 1 to 10\n",
        "i = 1 # intialize i to 1\n",
        "while i< 10:\n",
        "    print(i)\n",
        "    i+=1"
      ]
    },
    {
      "cell_type": "code",
      "execution_count": null,
      "id": "e82151f2",
      "metadata": {
        "id": "e82151f2",
        "outputId": "b0e0de9d-312e-43a8-d9d2-b9548757ca7d"
      },
      "outputs": [
        {
          "name": "stdout",
          "output_type": "stream",
          "text": [
            "2\n",
            "4\n",
            "5\n",
            "6\n",
            "7\n",
            "8\n",
            "9\n",
            "10\n"
          ]
        }
      ],
      "source": [
        "# continue statement\n",
        "i = 1\n",
        "while i < 10:\n",
        "    i += 1\n",
        "    if i == 3:\n",
        "        continue\n",
        "    print(i) \n",
        "  \n",
        "\n"
      ]
    },
    {
      "cell_type": "code",
      "execution_count": null,
      "id": "1afc443f",
      "metadata": {
        "id": "1afc443f",
        "outputId": "08c36b13-932d-4559-8e96-3832e2b219b3"
      },
      "outputs": [
        {
          "name": "stdout",
          "output_type": "stream",
          "text": [
            "1\n",
            "2\n",
            "3\n",
            "4\n",
            "5\n",
            "6\n",
            "7\n",
            "8\n",
            "9\n",
            "I is no longer less than 10\n"
          ]
        }
      ],
      "source": [
        "#else Statement\n",
        "i = 1\n",
        "while i < 10:\n",
        "      print(i)\n",
        "      i += 1\n",
        "else:\n",
        "       print(\"i is no longer less than 10\") \n",
        "        \n",
        "      \n",
        "\n",
        "        \n",
        "   \n",
        "  \n"
      ]
    },
    {
      "cell_type": "code",
      "execution_count": null,
      "id": "a0d7b3bb",
      "metadata": {
        "id": "a0d7b3bb",
        "outputId": "dc24b331-968b-4967-c484-322e19331066"
      },
      "outputs": [
        {
          "name": "stdout",
          "output_type": "stream",
          "text": [
            "Enter a number2\n",
            "Table of : 2\n",
            "2 * 1 = 2\n",
            "2 * 2 = 4\n",
            "2 * 3 = 6\n",
            "2 * 4 = 8\n",
            "2 * 5 = 10\n",
            "2 * 6 = 12\n",
            "2 * 7 = 14\n",
            "2 * 8 = 16\n",
            "2 * 9 = 18\n",
            "2 * 10 = 20\n"
          ]
        }
      ],
      "source": [
        "# multiplication table for any given number\n",
        "# for loop\n",
        "num = int(input(\"Enter a number\"))\n",
        "print(\"Multiplication Table of :\",num)\n",
        "for i in range (1,11):\n",
        "    print(num,'*',i,'=',num*i)\n"
      ]
    },
    {
      "cell_type": "code",
      "execution_count": null,
      "id": "31d8781c",
      "metadata": {
        "colab": {
          "base_uri": "https://localhost:8080/"
        },
        "id": "31d8781c",
        "outputId": "427e17f6-c183-4113-dea2-69478651ead4"
      },
      "outputs": [
        {
          "output_type": "stream",
          "name": "stdout",
          "text": [
            "Enter a number: 2\n",
            "2 x 1 = 2\n",
            "2 x 2 = 4\n",
            "2 x 3 = 6\n",
            "2 x 4 = 8\n",
            "2 x 5 = 10\n",
            "2 x 6 = 12\n",
            "2 x 7 = 14\n",
            "2 x 8 = 16\n",
            "2 x 9 = 18\n",
            "2 x 10 = 20\n"
          ]
        }
      ],
      "source": [
        "# multiplication table for any given number\n",
        "# while loop\n",
        "num = int(input(\"Enter a number: \"))\n",
        "print(\"Multiplication Table\",num)\n",
        "# intialize i to 1 and iterating from 1 to 10\n",
        "i = 1\n",
        "# Using While loop\n",
        "while i <= 10:\n",
        "   print(num, 'x', i, '=', num*i)\n",
        "   i += 1"
      ]
    },
    {
      "cell_type": "code",
      "source": [
        "#generate the complementary dna template with the mapping\n",
        "# define the template and the mapping\n",
        "dna_template='AATCCGAAAATTCGGGAATTTTCGCGT'\n",
        "#dna_template\n",
        "mapper={\"T\":\"A\",\"A\":\"T\",\"G\":\"C\",\"C\":\"G\"}\n",
        "# initalize an empty string  to store  complementary dna\n",
        "comp_dna = \"\"\n",
        "# now generate the complementary dna template\n",
        "# iterate using loop over each nitrogenous base in the dna_template \n",
        "for i in dna_template:\n",
        "  comp_dna = comp_dna+mapper[i] # Generating the comp_dna,with the corresponding nitogeous base in the mapping\n",
        "  #Print \n",
        "  print(comp_dna)\n",
        "\n"
      ],
      "metadata": {
        "colab": {
          "base_uri": "https://localhost:8080/"
        },
        "id": "KJGIGqcuwy-Z",
        "outputId": "34428ab5-cd67-4849-e5d1-8c796cf89ed6"
      },
      "id": "KJGIGqcuwy-Z",
      "execution_count": null,
      "outputs": [
        {
          "output_type": "stream",
          "name": "stdout",
          "text": [
            "T\n",
            "TT\n",
            "TTA\n",
            "TTAG\n",
            "TTAGG\n",
            "TTAGGC\n",
            "TTAGGCT\n",
            "TTAGGCTT\n",
            "TTAGGCTTT\n",
            "TTAGGCTTTT\n",
            "TTAGGCTTTTA\n",
            "TTAGGCTTTTAA\n",
            "TTAGGCTTTTAAG\n",
            "TTAGGCTTTTAAGC\n",
            "TTAGGCTTTTAAGCC\n",
            "TTAGGCTTTTAAGCCC\n",
            "TTAGGCTTTTAAGCCCT\n",
            "TTAGGCTTTTAAGCCCTT\n",
            "TTAGGCTTTTAAGCCCTTA\n",
            "TTAGGCTTTTAAGCCCTTAA\n",
            "TTAGGCTTTTAAGCCCTTAAA\n",
            "TTAGGCTTTTAAGCCCTTAAAA\n",
            "TTAGGCTTTTAAGCCCTTAAAAG\n",
            "TTAGGCTTTTAAGCCCTTAAAAGC\n",
            "TTAGGCTTTTAAGCCCTTAAAAGCG\n",
            "TTAGGCTTTTAAGCCCTTAAAAGCGC\n",
            "TTAGGCTTTTAAGCCCTTAAAAGCGCA\n"
          ]
        }
      ]
    },
    {
      "cell_type": "code",
      "source": [
        "#Fibanocci Series\n",
        "# Initialize the first two numbers in the list\n",
        "x = [0,1]\n",
        "for i in range(2,13): #we start the loop from 2 and it goes up to till 13\n",
        "# so in each iteration we will append the sum of the previous two numbers in the list'x'\n",
        "  x.append(x[i-1]+x[i-2]) \n",
        "  print(\"Fibanocci series is:\",x)\n",
        "\n",
        "\n"
      ],
      "metadata": {
        "colab": {
          "base_uri": "https://localhost:8080/"
        },
        "id": "Gu0YCvZ_wzA1",
        "outputId": "34b16783-8b6e-4412-d0a2-423d33c095c4"
      },
      "id": "Gu0YCvZ_wzA1",
      "execution_count": null,
      "outputs": [
        {
          "output_type": "stream",
          "name": "stdout",
          "text": [
            "Fibanocci series is: [0, 1, 1]\n",
            "Fibanocci series is: [0, 1, 1, 2]\n",
            "Fibanocci series is: [0, 1, 1, 2, 3]\n",
            "Fibanocci series is: [0, 1, 1, 2, 3, 5]\n",
            "Fibanocci series is: [0, 1, 1, 2, 3, 5, 8]\n",
            "Fibanocci series is: [0, 1, 1, 2, 3, 5, 8, 13]\n",
            "Fibanocci series is: [0, 1, 1, 2, 3, 5, 8, 13, 21]\n",
            "Fibanocci series is: [0, 1, 1, 2, 3, 5, 8, 13, 21, 34]\n",
            "Fibanocci series is: [0, 1, 1, 2, 3, 5, 8, 13, 21, 34, 55]\n",
            "Fibanocci series is: [0, 1, 1, 2, 3, 5, 8, 13, 21, 34, 55, 89]\n",
            "Fibanocci series is: [0, 1, 1, 2, 3, 5, 8, 13, 21, 34, 55, 89, 144]\n"
          ]
        }
      ]
    },
    {
      "cell_type": "code",
      "source": [
        "def prime_or_not(n): # define a fucntion to check prime or not\n",
        "# intialize the first number as 2\n",
        "    k = [2]\n",
        "    num = 3\n",
        "    #generate the set of prime numbers\n",
        "    while len(k) < n:\n",
        "        for i in range(2, num): # now check whether it is prime or not\n",
        "            if num % i == 0: # if divisible it is not prime\n",
        "                break\n",
        "        else:\n",
        "            k.append(num) # if prime no: then append it to the list of prime no:\n",
        "        num += 1\n",
        "    return k\n",
        "\n",
        "# enter the input from the user\n",
        "n = int(input(\"Enter the number\"))\n",
        "k = prime_or_not(n) # call the function prime_or_not()\n",
        "print(f\"The first {n} prime numbers are:\", k) #printing the list of prime numbers"
      ],
      "metadata": {
        "colab": {
          "base_uri": "https://localhost:8080/"
        },
        "id": "SciPiDKD3N9E",
        "outputId": "b85255ea-5ff3-4473-ac87-0eac173840e7"
      },
      "id": "SciPiDKD3N9E",
      "execution_count": null,
      "outputs": [
        {
          "output_type": "stream",
          "name": "stdout",
          "text": [
            "Enter the number5\n",
            "The first 5 prime numbers are: [2, 3, 5, 7, 11]\n"
          ]
        }
      ]
    },
    {
      "cell_type": "code",
      "source": [
        "#Min-max Normalization\n",
        "#define a function for minmax\n",
        "def min_max_norm(data,min=0,max =1):\n",
        "  val_min = data[0]\n",
        "  val_max = data[0]\n",
        "  # Iterating to find the min and max values\n",
        "  for i in data:\n",
        "    if i< val_min:\n",
        "      val_min = i\n",
        "    if i >val_max:\n",
        "      val_max = i\n",
        "      return [(i-val_min)/(val_max-val_min)*(max-min)+min for i in data] \n",
        "# given sample example to test\n",
        "data1=[1,17,12,15,30,60,48,51,89,92,54,8]\n",
        "data2=[-13,2,-1,7,22,-32,5,15,-9,13,3,-2]\n",
        "data1_norm = min_max_norm(data1) # range will be [0,1]\n",
        "data2_norm = min_max_norm(data2,-1,1) # range [-1,1]\n",
        "print(\"Before Normalized\",data1)\n",
        "print(\"Normalized data\",data1_norm)\n",
        "print(\"Before Normalized\",data2)\n",
        "print(\"Normalized data \",data2_norm)\n",
        "\n",
        "\n"
      ],
      "metadata": {
        "colab": {
          "base_uri": "https://localhost:8080/"
        },
        "id": "lPGp0FQL9flx",
        "outputId": "ac910250-e6dc-4e75-fb0c-bd2c995b666b"
      },
      "id": "lPGp0FQL9flx",
      "execution_count": null,
      "outputs": [
        {
          "output_type": "stream",
          "name": "stdout",
          "text": [
            "Before Normalized [1, 17, 12, 15, 30, 60, 48, 51, 89, 92, 54, 8]\n",
            "Normalized data [0.0, 1.0, 0.6875, 0.875, 1.8125, 3.6875, 2.9375, 3.125, 5.5, 5.6875, 3.3125, 0.4375]\n",
            "Before Normalized [-13, 2, -1, 7, 22, -32, 5, 15, -9, 13, 3, -2]\n",
            "Normalized data  [-1.0, 1.0, 0.6000000000000001, 1.6666666666666665, 3.666666666666667, -3.533333333333333, 1.4, 2.7333333333333334, -0.4666666666666667, 2.466666666666667, 1.1333333333333333, 0.46666666666666656]\n"
          ]
        }
      ]
    },
    {
      "cell_type": "code",
      "source": [
        "import time\n",
        "# Bubble sort\n",
        "def bubble_sort(arr):\n",
        "    n = len(arr)\n",
        "    for i in range(n): # Traverse through all the elements\n",
        "        for j in range(0, n-i-1): # Traverse the array from 0 to n-i-1\n",
        "        # swap if the element found is greater than the next element\n",
        "            if arr[j] > arr[j+1]:\n",
        "                arr[j], arr[j+1] = arr[j+1], arr[j]\n",
        "#selection sort\n",
        "def selection_sort(arr):\n",
        "    n = len(arr)\n",
        "    for i in range(n):\n",
        "        min_idx = i\n",
        "        for j in range(i+1, n):\n",
        "          # select the minimum element in every iteration\n",
        "            if arr[min_idx] > arr[j]:\n",
        "                min_idx = j\n",
        "                #swapping the elements to sort the array\n",
        "        arr[i], arr[min_idx] = arr[min_idx], arr[i]\n",
        "#insertion sort\n",
        "def insertion_sort(arr):\n",
        "    n = len(arr)\n",
        "    for i in range(1, n):\n",
        "        key = arr[i]\n",
        "        j = i - 1\n",
        "        # Compare key with each element on the left of it until an element smaller than it is found\n",
        "        # For descending order, change key<array[j] to key>array[j].\n",
        "        while j >= 0 and key < arr[j]:\n",
        "            arr[j+1] = arr[j]\n",
        "            j -= 1\n",
        "        arr[j+1] = key\n",
        "\n",
        "#array of numbers\n",
        "arr = [2, 11, 15, 4, 19, 16, 1,9]\n",
        "print(\"Numbers to be sorted:\", arr)\n",
        "\n",
        "arr = [2, 11, 15, 4, 19, 16, 1,9]\n",
        "start_time = time.time()\n",
        "bubble_sort(arr)\n",
        "print(\"Bubble sorted array:\", arr)\n",
        "print(\"Bubble sort time:\", time.time() - start_time)\n",
        "\n",
        "arr = [2, 11, 15, 4, 19, 16, 1,9]\n",
        "start_time = time.time()\n",
        "selection_sort(arr)\n",
        "print(\"Selection sorted array:\", arr)\n",
        "print(\"Selection sort time:\", time.time() - start_time)\n",
        "\n",
        "arr = [2, 11, 15, 4, 19, 16, 1,9]\n",
        "start_time = time.time()\n",
        "insertion_sort(arr)\n",
        "print(\"Insertion sorted array:\", arr)\n",
        "print(\"Insertion sort time:\", time.time() - start_time)"
      ],
      "metadata": {
        "colab": {
          "base_uri": "https://localhost:8080/"
        },
        "id": "ZjVkTySSHyoa",
        "outputId": "74d5f8f0-a5be-4ea6-a5e8-97e7761cb0ee"
      },
      "id": "ZjVkTySSHyoa",
      "execution_count": 3,
      "outputs": [
        {
          "output_type": "stream",
          "name": "stdout",
          "text": [
            "Numbers to be sorted: [2, 11, 15, 4, 19, 16, 1, 9]\n",
            "Bubble sorted array: [1, 2, 4, 9, 11, 15, 16, 19]\n",
            "Bubble sort time: 0.0002002716064453125\n",
            "Selection sorted array: [1, 2, 4, 9, 11, 15, 16, 19]\n",
            "Selection sort time: 0.00015974044799804688\n",
            "Insertion sorted array: [1, 2, 4, 9, 11, 15, 16, 19]\n",
            "Insertion sort time: 0.00016760826110839844\n"
          ]
        }
      ]
    },
    {
      "cell_type": "code",
      "source": [
        "#python -- doc -- attribute\n",
        "#printing docstring\n",
        "def square(n):\n",
        "  ''' Takes in a number n,returns the square of n'''\n",
        "print(square.__doc__)"
      ],
      "metadata": {
        "colab": {
          "base_uri": "https://localhost:8080/"
        },
        "id": "R_sUy-9SVirQ",
        "outputId": "d3b926e6-28ac-4740-f403-e67a2f520a9f"
      },
      "id": "R_sUy-9SVirQ",
      "execution_count": null,
      "outputs": [
        {
          "output_type": "stream",
          "name": "stdout",
          "text": [
            " Takes in a number n,returns the square of n\n"
          ]
        }
      ]
    },
    {
      "cell_type": "code",
      "source": [
        "# Docstring for the built-in-print()\n",
        "print(print.__doc__)\n"
      ],
      "metadata": {
        "colab": {
          "base_uri": "https://localhost:8080/"
        },
        "id": "uY-C3xNFTrES",
        "outputId": "c5febc16-cbbb-4583-dd16-0f6c4b222e8a"
      },
      "id": "uY-C3xNFTrES",
      "execution_count": null,
      "outputs": [
        {
          "output_type": "stream",
          "name": "stdout",
          "text": [
            "print(value, ..., sep=' ', end='\\n', file=sys.stdout, flush=False)\n",
            "\n",
            "Prints the values to a stream, or to sys.stdout by default.\n",
            "Optional keyword arguments:\n",
            "file:  a file-like object (stream); defaults to the current sys.stdout.\n",
            "sep:   string inserted between values, default a space.\n",
            "end:   string appended after the last value, default a newline.\n",
            "flush: whether to forcibly flush the stream.\n"
          ]
        }
      ]
    },
    {
      "cell_type": "code",
      "source": [
        "# Docstrings for python functions\n",
        "def add_binary(a,b):\n",
        "  ''' Returns the sum of two decimal numbers in binary didgits.\n",
        "     Parameters :\n",
        "     a(int): A decimal integer\n",
        "     b(int):Another decimal integer\n",
        "     Returns:\n",
        "        binary_sum(str : Binary string of the sum of a and b)\n",
        "        '''\n",
        "  binary_sum = bin(a+b)[2:]\n",
        "  return binary_sum\n",
        "print(add_binary.__doc__)\n",
        "\n",
        "         \n"
      ],
      "metadata": {
        "colab": {
          "base_uri": "https://localhost:8080/"
        },
        "id": "uLntzhRjTrPV",
        "outputId": "88629e64-0824-4a70-b409-e00989c93baa"
      },
      "id": "uLntzhRjTrPV",
      "execution_count": null,
      "outputs": [
        {
          "output_type": "stream",
          "name": "stdout",
          "text": [
            " Returns the sum of two decimal numbers in binary didgits.\n",
            "     Parameters :\n",
            "     a(int): A decimal integer\n",
            "     b(int):Another decimal integer\n",
            "     Returns:\n",
            "        binary_sum(str : Binary string of the sum of a and b)\n",
            "        \n"
          ]
        }
      ]
    },
    {
      "cell_type": "code",
      "source": [
        "#Find factorial of the number\n",
        "def factorial(n):\n",
        "  if n==0: \n",
        "    return 1\n",
        "  else:\n",
        "    return n*factorial(n-1)\n",
        "num = int(input(\"Enter the number\"))\n",
        "print(\"Factorial of\",num,\"is\",factorial(num))\n"
      ],
      "metadata": {
        "colab": {
          "base_uri": "https://localhost:8080/"
        },
        "id": "DJhKcyM8rIi5",
        "outputId": "c1d56f19-8752-42b5-83b4-7f41d4f8f9b3"
      },
      "id": "DJhKcyM8rIi5",
      "execution_count": null,
      "outputs": [
        {
          "output_type": "stream",
          "name": "stdout",
          "text": [
            "Enter the number5\n",
            "Factorial of 5 is 120\n"
          ]
        }
      ]
    },
    {
      "cell_type": "code",
      "source": [
        "import math\n",
        "def activation_fun(activ_name,value):\n",
        "  if activ_name == 'sigmoid':\n",
        "    return 1/(1+math.exp(-value))\n",
        "  elif activ_name == 'binary step function':\n",
        "    if value <0:\n",
        "      return 0\n",
        "    else:\n",
        "      return 1\n",
        "  elif activ_name =='relu':\n",
        "    if value <0:\n",
        "      return 0\n",
        "    else:\n",
        "      return value\n",
        "  elif activ_name == 'leaky relu':\n",
        "    if value < 0 :\n",
        "      return 0.01 * value\n",
        "    else:\n",
        "      return value\n",
        "  elif activ_name == 'tanh':\n",
        "    return math.tanh(value)\n",
        "  else:\n",
        "    print(\"Nothing!!\")\n",
        "n = input(\"Enter activation function\")\n",
        "value = float(input(\"enter the value:\"))\n",
        "print(activation_fun(n,value))\n",
        "\n",
        "\n"
      ],
      "metadata": {
        "colab": {
          "base_uri": "https://localhost:8080/"
        },
        "id": "nSUbv_7Nwaj4",
        "outputId": "5e218faf-12d5-4a6e-9c56-112e9afd532f"
      },
      "id": "nSUbv_7Nwaj4",
      "execution_count": null,
      "outputs": [
        {
          "output_type": "stream",
          "name": "stdout",
          "text": [
            "Enter activation functionleaky relu\n",
            "enter the value:1.0\n",
            "1.0\n"
          ]
        }
      ]
    },
    {
      "cell_type": "code",
      "source": [
        "#function that returns permutation\n",
        "def factorial(n):\n",
        "    if n == 0:\n",
        "      return 1\n",
        "    else:\n",
        "     return n* factorial(n-1)\n",
        "def permutation (n,r):\n",
        "     return factorial(n)/factorial(n-r)\n",
        "n = int(input(\"Value of n--->\"))\n",
        "r = int(input(\"Value of r--->\"))\n",
        "print (\"P(%d,%d) = %d\" %(n,r,permutation(n,r)))\n"
      ],
      "metadata": {
        "colab": {
          "base_uri": "https://localhost:8080/"
        },
        "id": "Em-Ml2Yt2_F_",
        "outputId": "00038f3c-7ad9-4833-fa9b-c50dfeb78c0d"
      },
      "id": "Em-Ml2Yt2_F_",
      "execution_count": null,
      "outputs": [
        {
          "output_type": "stream",
          "name": "stdout",
          "text": [
            "Value of n--->5\n",
            "Value of r--->3\n",
            "P(5,3) = 60\n"
          ]
        }
      ]
    },
    {
      "cell_type": "code",
      "source": [
        "import itertools"
      ],
      "metadata": {
        "id": "1cb4tbYulsrK"
      },
      "id": "1cb4tbYulsrK",
      "execution_count": null,
      "outputs": []
    },
    {
      "cell_type": "code",
      "source": [
        "def fun_both (per_comb =\"both\", n=10,r=5):\n",
        "  if per_comb ==\"both\":\n",
        "    return\n",
        "    list(itertools.permutations(range(1,n+1),r))+list(itertools.combinations(range(1,n+1),r))\n",
        "  elif per_comb ==\"permutation\":\n",
        "    return list(itertools.permutations(range(1,n+1),r))\n",
        "  elif per_comb ==\"combinations\":\n",
        "    return list(itertools.combinations(range(1,n+1),r))\n",
        "  else:\n",
        "    return \"Invalid Argument\"\n",
        "print(fun_both())\n",
        "\n"
      ],
      "metadata": {
        "colab": {
          "base_uri": "https://localhost:8080/"
        },
        "id": "WBr1U7Y9lsvE",
        "outputId": "28c3921c-2a2c-4273-ef03-065dfb232281"
      },
      "id": "WBr1U7Y9lsvE",
      "execution_count": null,
      "outputs": [
        {
          "output_type": "stream",
          "name": "stdout",
          "text": [
            "None\n"
          ]
        }
      ]
    },
    {
      "cell_type": "code",
      "source": [
        "# Implement a function that takes any number of positional and keyword arguments.\n",
        "#*args pass no: of ositional arguments\n",
        "#**kwargs pass no:of keyword arguments\n",
        "def fun_1(*args,**kwargs):\n",
        "  print(f\"positional arguments are:{args}\")# acess using args variable\n",
        "  print(f\"keyword arguments are:{kwargs}\")# acess using the kwargs variable\n",
        "fun_1(1,2,3 ,name =\"Kiara\", age= 25)# function call"
      ],
      "metadata": {
        "id": "zM9qvs-Mls0R",
        "colab": {
          "base_uri": "https://localhost:8080/"
        },
        "outputId": "af939f3e-3036-431f-aa3d-82baea679ced"
      },
      "id": "zM9qvs-Mls0R",
      "execution_count": null,
      "outputs": [
        {
          "output_type": "stream",
          "name": "stdout",
          "text": [
            "positional arguments are:(1, 2, 3)\n",
            "keyword arguments are:{'name': 'Kiara', 'age': 25}\n"
          ]
        }
      ]
    },
    {
      "cell_type": "code",
      "source": [
        "#LEGB Rule\n",
        "#1. Local Scope\n",
        "def square(base):\n",
        "  result = base**2\n",
        "  print(f\"The square of{base} is:\",result)\n",
        "square(10)\n",
        "#result # Isnt accessible from outside square()\n",
        "#base # Isnt accessible outside square()\n",
        "\n",
        "\n"
      ],
      "metadata": {
        "id": "2fxYWBnNls3n",
        "colab": {
          "base_uri": "https://localhost:8080/"
        },
        "outputId": "71a11a1f-0d24-4c1c-993b-f87117c805ed"
      },
      "id": "2fxYWBnNls3n",
      "execution_count": null,
      "outputs": [
        {
          "output_type": "stream",
          "name": "stdout",
          "text": [
            "The square of10 is: 100\n"
          ]
        }
      ]
    },
    {
      "cell_type": "code",
      "source": [
        "# 2.Enclosing or nonlocal scope\n",
        "def outer_func():\n",
        "  #local scope of outer_func()\n",
        "  var = 100 #a nonlocal var\n",
        "  #enclosing scope of inner_func()\n",
        "  def inner_func():\n",
        "     #local scope of inner_func()\n",
        "     print(f\"printing var from inner_func():{var}\")\n",
        "  inner_func()\n",
        "  print(f\"printing var from outer_func():{var}\")\n",
        "outer_func()\n",
        "\n",
        "\n"
      ],
      "metadata": {
        "colab": {
          "base_uri": "https://localhost:8080/"
        },
        "id": "n8FWTaLPD6nu",
        "outputId": "93127c96-26db-47a2-d6e0-f8b388fd5e42"
      },
      "id": "n8FWTaLPD6nu",
      "execution_count": null,
      "outputs": [
        {
          "output_type": "stream",
          "name": "stdout",
          "text": [
            "printing var from inner_func():100\n",
            "printing var from outer_func():100\n"
          ]
        }
      ]
    },
    {
      "cell_type": "code",
      "source": [
        "#3. The global scope\n",
        "var =100\n",
        "def fun():\n",
        "  return var # Accesible from inside func()\n",
        "fun()\n",
        "var # remains unchanged\n"
      ],
      "metadata": {
        "colab": {
          "base_uri": "https://localhost:8080/"
        },
        "id": "421Lxa5mH24a",
        "outputId": "7ec1186d-1b2e-4a51-ddfa-8e0bc91c8aa0"
      },
      "id": "421Lxa5mH24a",
      "execution_count": null,
      "outputs": [
        {
          "output_type": "execute_result",
          "data": {
            "text/plain": [
              "100"
            ]
          },
          "metadata": {},
          "execution_count": 27
        }
      ]
    },
    {
      "cell_type": "code",
      "source": [
        "# This area is the global or module scope\n",
        "number = 100\n",
        "def outer_func():\n",
        "       # This block is the local scope of outer_func()\n",
        "       # It's also the enclosing scope of inner_func()\n",
        "        def inner_func():\n",
        "            # This block is the local scope of inner_func()\n",
        "            print(number)\n",
        "\n",
        "        inner_func()\n",
        "outer_func()\n"
      ],
      "metadata": {
        "colab": {
          "base_uri": "https://localhost:8080/"
        },
        "id": "NrwSDKxQI7fd",
        "outputId": "c989186f-e851-4e14-c2d7-ae527d3aea8e"
      },
      "id": "NrwSDKxQI7fd",
      "execution_count": null,
      "outputs": [
        {
          "output_type": "stream",
          "name": "stdout",
          "text": [
            "100\n"
          ]
        }
      ]
    }
  ],
  "metadata": {
    "kernelspec": {
      "display_name": "Python 3 (ipykernel)",
      "language": "python",
      "name": "python3"
    },
    "language_info": {
      "codemirror_mode": {
        "name": "ipython",
        "version": 3
      },
      "file_extension": ".py",
      "mimetype": "text/x-python",
      "name": "python",
      "nbconvert_exporter": "python",
      "pygments_lexer": "ipython3",
      "version": "3.9.12"
    },
    "colab": {
      "provenance": []
    }
  },
  "nbformat": 4,
  "nbformat_minor": 5
}