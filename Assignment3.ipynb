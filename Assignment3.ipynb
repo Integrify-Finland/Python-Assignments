{
 "cells": [
  {
   "cell_type": "code",
   "execution_count": 1,
   "id": "cfa548e6",
   "metadata": {},
   "outputs": [
    {
     "name": "stdout",
     "output_type": "stream",
     "text": [
      "[1, 4, 9, 16, 25, 36, 49, 64, 81, 100]\n",
      "[2, 4, 6, 8, 10]\n",
      "3840\n"
     ]
    }
   ],
   "source": [
    "\"\"\"\n",
    "Higher order functions Python:\n",
    "\n",
    "Write a Python script to implement the map(), filter(), and reduce() functions on a list of integers.\n",
    "\n",
    "The map() function should square each element of the list,\n",
    "The filter() function should remove all odd numbers from the list.\n",
    "The reduce() function should find the product of all the even numbers in the list.\n",
    "The script should follow Python syntax and conventions.\n",
    "\n",
    "In this solution, we define two helper functions: square() and product(). The square() function takes a number and returns its square, and the product() function takes two numbers and returns their product.\n",
    "We then define a list of integers called numbers. We use the map() function to square each element of the list by passing the square() function as an argument to map(). We convert the resulting map object to a list using the list() function, and print it to the console.\n",
    "We use the filter() function to remove all odd numbers from the list by passing a lambda function as an argument to filter() that checks whether each number is even. We convert the resulting filter object to a list using the list() function, and print it to the console.\n",
    "Finally, we use the reduce() function to find the product of all even numbers in the list by passing the product() function and the evens list as arguments to reduce(). We print the resulting product to the console.\n",
    "The solution follows Python syntax and conventions by using docstrings to document the functions, using meaningful function and variable names, and following the PEP 8 style guide for formatting the code.\n",
    "\"\"\"\n",
    "\n",
    "from functools import reduce\n",
    "\n",
    "def square(num):\n",
    "    \"\"\"Return the square of a number.\"\"\"\n",
    "    return num ** 2\n",
    "\n",
    "def product(num1, num2):\n",
    "    \"\"\"Return the product of two numbers.\"\"\"\n",
    "    return num1 * num2\n",
    "\n",
    "# Define a list of integers\n",
    "numbers = [1, 2, 3, 4, 5, 6, 7, 8, 9, 10]\n",
    "\n",
    "# Use the map() function to square each element of the list\n",
    "squares = list(map(square, numbers))\n",
    "print(squares)\n",
    "\n",
    "# Use the filter() function to remove all odd numbers from the list\n",
    "evens = list(filter(lambda x: x % 2 == 0, numbers))\n",
    "print(evens)\n",
    "\n",
    "# Use the reduce() function to find the product of all even numbers in the list\n",
    "product = reduce(product, evens)\n",
    "print(product)\n",
    "\n"
   ]
  },
  {
   "cell_type": "code",
   "execution_count": null,
   "id": "6f63888d",
   "metadata": {},
   "outputs": [],
   "source": []
  }
 ],
 "metadata": {
  "kernelspec": {
   "display_name": "Python 3 (ipykernel)",
   "language": "python",
   "name": "python3"
  },
  "language_info": {
   "codemirror_mode": {
    "name": "ipython",
    "version": 3
   },
   "file_extension": ".py",
   "mimetype": "text/x-python",
   "name": "python",
   "nbconvert_exporter": "python",
   "pygments_lexer": "ipython3",
   "version": "3.10.7"
  }
 },
 "nbformat": 4,
 "nbformat_minor": 5
}
