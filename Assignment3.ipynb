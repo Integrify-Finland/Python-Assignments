{
 "cells": [
  {
   "cell_type": "code",
   "execution_count": 64,
   "id": "fb3a6083",
   "metadata": {},
   "outputs": [],
   "source": [
    "#3. Higher order functions Python"
   ]
  },
  {
   "cell_type": "code",
   "execution_count": 65,
   "id": "770b4419",
   "metadata": {},
   "outputs": [],
   "source": [
    "#The map() function should square each element of the list,\n",
    "#The filter() function should remove all odd numbers from the list.\n",
    "#The reduce() function should find the product of all the even numbers in the list."
   ]
  },
  {
   "cell_type": "code",
   "execution_count": 66,
   "id": "9bac7498",
   "metadata": {},
   "outputs": [],
   "source": [
    "#In this solution, we define two helper functions: square() and product(). \n",
    "#The square() function takes a number and returns its square, \n",
    "#and the product() function takes two numbers and returns their product."
   ]
  },
  {
   "cell_type": "code",
   "execution_count": 67,
   "id": "68432aa6",
   "metadata": {},
   "outputs": [],
   "source": [
    "from functools import reduce\n",
    "\n",
    "def square(x):\n",
    "    return x**2\n",
    "\n",
    "def product(a, b):\n",
    "    return a*b\n",
    "\n",
    "numbers = [1,2,3,4,5,6,7,8,9]"
   ]
  },
  {
   "cell_type": "code",
   "execution_count": 68,
   "id": "edc0eb45",
   "metadata": {},
   "outputs": [],
   "source": [
    "#We use the map() function to square each element of the list by passing the square() function as an argument to map(). \n",
    "#We convert the resulting map object to a list using the list() function, and print it to the console."
   ]
  },
  {
   "cell_type": "code",
   "execution_count": 69,
   "id": "7dc595f9",
   "metadata": {},
   "outputs": [
    {
     "name": "stdout",
     "output_type": "stream",
     "text": [
      "[1, 4, 9, 16, 25, 36, 49, 64, 81]\n"
     ]
    }
   ],
   "source": [
    "squares = list(map(square, numbers))\n",
    "print(squares)"
   ]
  },
  {
   "cell_type": "code",
   "execution_count": 71,
   "id": "7b311eac",
   "metadata": {},
   "outputs": [],
   "source": [
    "#We use the filter() function to remove all odd numbers from the list by passing a lambda function as an argument to filter() that checks whether each number is even. \n",
    "#We convert the resulting filter object to a list using the list() function, and print it to the console."
   ]
  },
  {
   "cell_type": "code",
   "execution_count": 75,
   "id": "45eb894f",
   "metadata": {},
   "outputs": [
    {
     "name": "stdout",
     "output_type": "stream",
     "text": [
      "<filter object at 0x000001B67892A6E0>\n",
      "[2, 4, 6, 8]\n"
     ]
    }
   ],
   "source": [
    "even_numbers = filter(lambda item: item%2 == 0, numbers)\n",
    "print(even_numbers)\n",
    "list_even_numbers = list(even_numbers)\n",
    "print(list_even_numbers)"
   ]
  },
  {
   "cell_type": "code",
   "execution_count": null,
   "id": "24daa9b5",
   "metadata": {},
   "outputs": [],
   "source": [
    "#Finally, we use the reduce() function to find the product of all even numbers in the list by passing the product() function and the evens list as arguments to reduce(). \n",
    "#We print the resulting product to the console."
   ]
  },
  {
   "cell_type": "code",
   "execution_count": 78,
   "id": "c29f8ed5",
   "metadata": {},
   "outputs": [
    {
     "name": "stdout",
     "output_type": "stream",
     "text": [
      "384\n"
     ]
    }
   ],
   "source": [
    "product = reduce(product, list_even_numbers)\n",
    "print(product)"
   ]
  }
 ],
 "metadata": {
  "kernelspec": {
   "display_name": "Python 3 (ipykernel)",
   "language": "python",
   "name": "python3"
  },
  "language_info": {
   "codemirror_mode": {
    "name": "ipython",
    "version": 3
   },
   "file_extension": ".py",
   "mimetype": "text/x-python",
   "name": "python",
   "nbconvert_exporter": "python",
   "pygments_lexer": "ipython3",
   "version": "3.10.10"
  }
 },
 "nbformat": 4,
 "nbformat_minor": 5
}
