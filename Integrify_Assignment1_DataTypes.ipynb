{
 "cells": [
  {
   "cell_type": "markdown",
   "id": "53cb9069",
   "metadata": {},
   "source": [
    "# Integrify Assignment 1\n",
    "\n",
    "## Python Basics: Data types\n",
    "### Date: 2023.03.09"
   ]
  },
  {
   "cell_type": "markdown",
   "id": "48a9b494",
   "metadata": {},
   "source": [
    "### Task1:\n",
    "Use the constructor methods to create different data types in python (integer,float,string,list,tuple,dictionary,set etc.).\n",
    "\n",
    "Also use object literals to create those data types."
   ]
  },
  {
   "cell_type": "code",
   "execution_count": 1,
   "id": "a234c64b",
   "metadata": {},
   "outputs": [
    {
     "name": "stdout",
     "output_type": "stream",
     "text": [
      "Creating datatypes using Constructor function:\n",
      "7\n",
      "3.7\n",
      "integrify\n",
      "[1, 3, 5, 7, 9]\n",
      "('apple', 'banana', 'cherry', 'apple', 'cherry')\n",
      "{'brand': 'Ford', 'model': 'Mustang', 'year': 1964}\n",
      "{'apple', 'cherry', 'banana'}\n",
      "\n",
      "\n",
      "Creating datatypes using Object Literal:\n",
      "7\n",
      "3.7\n",
      "integrify\n",
      "[1, 3, 5, 7, 9]\n",
      "('apple', 'banana', 'cherry', 'apple', 'cherry')\n",
      "{'brand': 'Ford', 'model': 'Mustang', 'year': 1964}\n",
      "{'apple', 'cherry', 'banana'}\n"
     ]
    }
   ],
   "source": [
    "# Constructor function\n",
    "print(\"Creating datatypes using Constructor function:\")\n",
    "my_int = int(7)\n",
    "my_float = float(3.7)\n",
    "mt_string = str(\"integrify\")\n",
    "mylist = list((1, 3, 5, 7, 9))\n",
    "my_tuple = tuple((\"apple\", \"banana\", \"cherry\", \"apple\", \"cherry\"))\n",
    "car_dict = dict(brand=\"Ford\", model=\"Mustang\", year=1964)\n",
    "a_set = set((\"apple\", \"banana\", \"cherry\", \"apple\"))\n",
    "\n",
    "print(my_int)\n",
    "print(my_float)\n",
    "print(mt_string)\n",
    "print(mylist)\n",
    "print(my_tuple)\n",
    "print(car_dict)\n",
    "print(a_set)\n",
    "\n",
    "print('\\n')\n",
    "\n",
    "# Literal function\n",
    "print(\"Creating datatypes using Object Literal:\")\n",
    "my_int = 7\n",
    "my_float = 3.7\n",
    "my_string = \"integrify\"\n",
    "mylist = [1, 3, 5, 7, 9]\n",
    "my_tuple = (\"apple\", \"banana\", \"cherry\", \"apple\", \"cherry\")\n",
    "car_dict = {\n",
    "    \"brand\": \"Ford\",\n",
    "    \"model\": \"Mustang\",\n",
    "    \"year\": 1964\n",
    "}\n",
    "a_set = {\"apple\", \"banana\", \"cherry\", \"apple\"}\n",
    "\n",
    "print(my_int)\n",
    "print(my_float)\n",
    "print(my_string)\n",
    "print(mylist)\n",
    "print(my_tuple)\n",
    "print(car_dict)\n",
    "print(a_set)"
   ]
  },
  {
   "cell_type": "markdown",
   "id": "5be93fab",
   "metadata": {},
   "source": [
    "### Task 2:\n",
    "Operators in python https://www.w3schools.com/python/python_operators.asp\n",
    "\n",
    "Create two operands and play around using different operators"
   ]
  },
  {
   "cell_type": "code",
   "execution_count": 2,
   "id": "41bbde72",
   "metadata": {},
   "outputs": [
    {
     "name": "stdout",
     "output_type": "stream",
     "text": [
      "Operands are:  3 and 4 \n",
      "\n",
      "Addition:  7\n",
      "Subtraction:  -1\n",
      "Multiplication:  12\n",
      "Divition:  0.75\n",
      "Modulus: 3\n",
      "Exponential:  81\n",
      "Floor division:  1\n",
      "Operator Precedence:  6\n"
     ]
    }
   ],
   "source": [
    "# Declare operands\n",
    "x_factor = 3\n",
    "y_factor = 4\n",
    "\n",
    "print(\"Operands are: \", x_factor, \"and\", y_factor, \"\\n\")\n",
    "\n",
    "# Addition\n",
    "print(\"Addition: \", x_factor + y_factor)\n",
    "\n",
    "# Subtraction\n",
    "print(\"Subtraction: \", x_factor - y_factor)\n",
    "\n",
    "# Multiplication\n",
    "print(\"Multiplication: \", x_factor * y_factor)\n",
    "\n",
    "# Divition\n",
    "print(\"Divition: \", x_factor / y_factor)\n",
    "\n",
    "# Modulus\n",
    "print(\"Modulus:\", x_factor % y_factor)\n",
    "\n",
    "# Exponential\n",
    "print(\"Exponential: \", x_factor ** y_factor)\n",
    "\n",
    "# Floor division\n",
    "print(\"Floor division: \", y_factor // x_factor)\n",
    "\n",
    "# Operator Precedence\n",
    "print(\"Operator Precedence: \", (x_factor + y_factor) - (y_factor - x_factor))"
   ]
  },
  {
   "cell_type": "markdown",
   "id": "d6329f72",
   "metadata": {},
   "source": [
    "### Task 3:\n",
    "Once you create an object of each data type, run dir(object). Navigate the magic methods/dunder methods and other methods and attributes of each object. Try to implement those methods and attributes as many as possible.\n",
    "\n",
    "Eg:  a=int(5)\n",
    "       dir(a)\n",
    "       print(a.__add__(5))\n",
    "       \n",
    "Implementing above dunder method is same as print(a+5)\n",
    "\n",
    "Verify the data types using methods type and isinstance."
   ]
  },
  {
   "cell_type": "code",
   "execution_count": 3,
   "id": "dc0567e5",
   "metadata": {},
   "outputs": [
    {
     "name": "stdout",
     "output_type": "stream",
     "text": [
      "['__and__', '__class__', '__class_getitem__', '__contains__', '__delattr__', '__dir__', '__doc__', '__eq__', '__format__', '__ge__', '__getattribute__', '__gt__', '__hash__', '__iand__', '__init__', '__init_subclass__', '__ior__', '__isub__', '__iter__', '__ixor__', '__le__', '__len__', '__lt__', '__ne__', '__new__', '__or__', '__rand__', '__reduce__', '__reduce_ex__', '__repr__', '__ror__', '__rsub__', '__rxor__', '__setattr__', '__sizeof__', '__str__', '__sub__', '__subclasshook__', '__xor__', 'add', 'clear', 'copy', 'difference', 'difference_update', 'discard', 'intersection', 'intersection_update', 'isdisjoint', 'issubset', 'issuperset', 'pop', 'remove', 'symmetric_difference', 'symmetric_difference_update', 'union', 'update']\n",
      "12\n",
      "<class 'int'> \n",
      "\n",
      "['__abs__', '__add__', '__bool__', '__ceil__', '__class__', '__delattr__', '__dir__', '__divmod__', '__doc__', '__eq__', '__float__', '__floor__', '__floordiv__', '__format__', '__ge__', '__getattribute__', '__getformat__', '__getnewargs__', '__gt__', '__hash__', '__init__', '__init_subclass__', '__int__', '__le__', '__lt__', '__mod__', '__mul__', '__ne__', '__neg__', '__new__', '__pos__', '__pow__', '__radd__', '__rdivmod__', '__reduce__', '__reduce_ex__', '__repr__', '__rfloordiv__', '__rmod__', '__rmul__', '__round__', '__rpow__', '__rsub__', '__rtruediv__', '__setattr__', '__setformat__', '__sizeof__', '__str__', '__sub__', '__subclasshook__', '__truediv__', '__trunc__', 'as_integer_ratio', 'conjugate', 'fromhex', 'hex', 'imag', 'is_integer', 'real']\n",
      "3.7\n",
      "<class 'str'> \n",
      "\n",
      "['__add__', '__class__', '__contains__', '__delattr__', '__dir__', '__doc__', '__eq__', '__format__', '__ge__', '__getattribute__', '__getitem__', '__getnewargs__', '__gt__', '__hash__', '__init__', '__init_subclass__', '__iter__', '__le__', '__len__', '__lt__', '__mod__', '__mul__', '__ne__', '__new__', '__reduce__', '__reduce_ex__', '__repr__', '__rmod__', '__rmul__', '__setattr__', '__sizeof__', '__str__', '__subclasshook__', 'capitalize', 'casefold', 'center', 'count', 'encode', 'endswith', 'expandtabs', 'find', 'format', 'format_map', 'index', 'isalnum', 'isalpha', 'isascii', 'isdecimal', 'isdigit', 'isidentifier', 'islower', 'isnumeric', 'isprintable', 'isspace', 'istitle', 'isupper', 'join', 'ljust', 'lower', 'lstrip', 'maketrans', 'partition', 'removeprefix', 'removesuffix', 'replace', 'rfind', 'rindex', 'rjust', 'rpartition', 'rsplit', 'rstrip', 'split', 'splitlines', 'startswith', 'strip', 'swapcase', 'title', 'translate', 'upper', 'zfill']\n",
      "58\n",
      "<class 'int'> \n",
      "\n",
      "['__add__', '__class__', '__class_getitem__', '__contains__', '__delattr__', '__delitem__', '__dir__', '__doc__', '__eq__', '__format__', '__ge__', '__getattribute__', '__getitem__', '__gt__', '__hash__', '__iadd__', '__imul__', '__init__', '__init_subclass__', '__iter__', '__le__', '__len__', '__lt__', '__mul__', '__ne__', '__new__', '__reduce__', '__reduce_ex__', '__repr__', '__reversed__', '__rmul__', '__setattr__', '__setitem__', '__sizeof__', '__str__', '__subclasshook__', 'append', 'clear', 'copy', 'count', 'extend', 'index', 'insert', 'pop', 'remove', 'reverse', 'sort']\n",
      "[1, 3, 5, 7, 9]\n",
      "<class 'str'> \n",
      "\n",
      "['__add__', '__class__', '__class_getitem__', '__contains__', '__delattr__', '__dir__', '__doc__', '__eq__', '__format__', '__ge__', '__getattribute__', '__getitem__', '__getnewargs__', '__gt__', '__hash__', '__init__', '__init_subclass__', '__iter__', '__le__', '__len__', '__lt__', '__mul__', '__ne__', '__new__', '__reduce__', '__reduce_ex__', '__repr__', '__rmul__', '__setattr__', '__sizeof__', '__str__', '__subclasshook__', 'count', 'index']\n",
      "('apple', 'banana', 'cherry', 'apple', 'cherry', 'apple', 'banana', 'cherry', 'apple', 'cherry', 'apple', 'banana', 'cherry', 'apple', 'cherry')\n",
      "<class 'tuple'> \n",
      "\n",
      "['__class__', '__class_getitem__', '__contains__', '__delattr__', '__delitem__', '__dir__', '__doc__', '__eq__', '__format__', '__ge__', '__getattribute__', '__getitem__', '__gt__', '__hash__', '__init__', '__init_subclass__', '__ior__', '__iter__', '__le__', '__len__', '__lt__', '__ne__', '__new__', '__or__', '__reduce__', '__reduce_ex__', '__repr__', '__reversed__', '__ror__', '__setattr__', '__setitem__', '__sizeof__', '__str__', '__subclasshook__', 'clear', 'copy', 'fromkeys', 'get', 'items', 'keys', 'pop', 'popitem', 'setdefault', 'update', 'values']\n",
      "3\n",
      "<class 'int'> \n",
      "\n",
      "['__and__', '__class__', '__class_getitem__', '__contains__', '__delattr__', '__dir__', '__doc__', '__eq__', '__format__', '__ge__', '__getattribute__', '__gt__', '__hash__', '__iand__', '__init__', '__init_subclass__', '__ior__', '__isub__', '__iter__', '__ixor__', '__le__', '__len__', '__lt__', '__ne__', '__new__', '__or__', '__rand__', '__reduce__', '__reduce_ex__', '__repr__', '__ror__', '__rsub__', '__rxor__', '__setattr__', '__sizeof__', '__str__', '__sub__', '__subclasshook__', '__xor__', 'add', 'clear', 'copy', 'difference', 'difference_update', 'discard', 'intersection', 'intersection_update', 'isdisjoint', 'issubset', 'issuperset', 'pop', 'remove', 'symmetric_difference', 'symmetric_difference_update', 'union', 'update']\n",
      "<set_iterator object at 0x000001F49CF58980>\n",
      "<class 'set_iterator'>\n"
     ]
    }
   ],
   "source": [
    "print(dir(a_set))\n",
    "val = my_int.__add__(5)\n",
    "print(val)\n",
    "print(type(val), '\\n')\n",
    "\n",
    "print(dir(my_float))\n",
    "val = my_float.__str__()\n",
    "print(val)\n",
    "print(type(val), '\\n')\n",
    "\n",
    "print(dir(my_string))\n",
    "val = my_string.__sizeof__()\n",
    "print(val)\n",
    "print(type(val), '\\n')\n",
    "\n",
    "print(dir(mylist))\n",
    "val = mylist.__str__()\n",
    "print(val)\n",
    "print(type(val), '\\n')\n",
    "\n",
    "print(dir(my_tuple))\n",
    "val = my_tuple.__mul__(3)\n",
    "print(val)\n",
    "print(type(val), '\\n')\n",
    "\n",
    "print(dir(car_dict))\n",
    "val = car_dict.__len__()\n",
    "print(val)\n",
    "print(type(val), '\\n')\n",
    "\n",
    "print(dir(a_set))\n",
    "val = a_set.__iter__()\n",
    "print(val)\n",
    "print(type(val))"
   ]
  },
  {
   "attachments": {
    "image.png": {
     "image/png": "[encoded data removed]"
    }
   },
   "cell_type": "markdown",
   "id": "1bc2ddfd",
   "metadata": {},
   "source": [
    "### Task 4:\n",
    "Learn different ways to format the string. \n",
    "\n",
    "Tutorials on https://realpython.com/python-formatted-output/\n",
    "\n",
    "Try: \n",
    "\n",
    "![image.png](attachment:image.png)"
   ]
  },
  {
   "cell_type": "code",
   "execution_count": 4,
   "id": "d664a21a",
   "metadata": {},
   "outputs": [
    {
     "name": "stdout",
     "output_type": "stream",
     "text": [
      "I love python\n",
      "I lovepython\n",
      "I lovepythonversion 3.1\n",
      "I lovepythonversion 3.10\n",
      "I love python version 3.10\n",
      "\n",
      "Using format positional argument:\n",
      "I love python version 3.1\n",
      "I love python version 3.10\n",
      "I love python version 3.10\n",
      "I love 3.10 version python\n",
      "\n",
      "Using format keyword argument:\n",
      "I love python version 3.10\n",
      "\n",
      "Using f-string literal:\n",
      "I love python version 3.10\n",
      "\n",
      "Can be done with uppercase f literal and single quote but double quote while accessing dictionary value:\n",
      "I love python version 3.10\n",
      "\n",
      "f-string conditional:\n",
      "I love python\n"
     ]
    }
   ],
   "source": [
    "print(\"I love\", \"python\")\n",
    "print(\"I love\" + \"python\")\n",
    "print(\"I love\" + \"python\" + \"version\", 3.10)\n",
    "print(\"I love\" + \"python\" + \"version %.2f\"%3.10)\n",
    "print(\"I love %s version %.2f\"%(\"python\", 3.10))\n",
    "\n",
    "# Using format positional argument\n",
    "print(\"\\nUsing format positional argument:\")\n",
    "print(\"I love {} version {}\".format(\"python\", 3.10))\n",
    "print(\"I love {} version {}\".format(\"python\", \"3.10\"))\n",
    "print(\"I love {} version {:.2f}\".format(\"python\", 3.10))\n",
    "print(\"I love {1} version {0}\".format(\"python\", \"3.10\"))\n",
    "\n",
    "# Using format keyword argument\n",
    "print(\"\\nUsing format keyword argument:\")\n",
    "print(\"I love {pl} version {version:.2f}\".format(pl=\"python\", version=3.10))\n",
    "\n",
    "# Using f-string literal\n",
    "print(\"\\nUsing f-string literal:\")\n",
    "info={\"pl\":\"python\", \"version\":3.10}\n",
    "print(f\"I love {info.get('pl')} version {info.get('version'):.2f}\")\n",
    "\n",
    "# Can be done with uppercase f literal and single quote but double quote while accessing dictionary value\n",
    "print(\"\\nCan be done with uppercase f literal and single quote but double quote while accessing dictionary value:\")\n",
    "print(F'I love {info[\"pl\"]} version {info[\"version\"]:.2f}')\n",
    "\n",
    "# f-string conditional\n",
    "print(\"\\nf-string conditional:\")\n",
    "batch='ML'\n",
    "print(f'I love {\"javascript\" if batch==\"FS\" else \"python\"}')"
   ]
  },
  {
   "cell_type": "markdown",
   "id": "55aa8524",
   "metadata": {},
   "source": [
    "### Task 5:\n",
    "Familiarize yourself with indexing in python.\n",
    "\n",
    "Iterables can be accessed using index values in python. Eg: list, tuple,dict, set\n",
    "\n",
    "Create a list of items.\n",
    "\n",
    "Eg:\n",
    "\n",
    "countries = [“Finland”,“Sweden”,”Denmark”,”Netherlands”,”Germany”,”Norway”,”Iceland”]\n",
    "\n",
    "- Find the index of “Sweden”. \n",
    "- Get all the items except the first\n",
    "- Get all the items except the last\n",
    "- Find the last item using negative indexing\n",
    "- Find the last three item using negative indexing\n",
    "- Grab all the items with odd indices\n",
    "- Find the first and last item for the list\n",
    "- Get [”Netherlands”,”Germany”,”Norway”] using negative indexing\n",
    "- Reverse the list\n",
    "- What is the output of countries[::-2]\n",
    "- What is the output of countries[1:100:2]?\n",
    "- What is the output of countries[len(countries)-1:0:2]?\n",
    "- Get the output ['Germany', 'Netherlands', 'Denmark']\n",
    "- Use enumerate method to get index and values in the list"
   ]
  },
  {
   "cell_type": "code",
   "execution_count": 5,
   "id": "49bee880",
   "metadata": {},
   "outputs": [],
   "source": [
    "countries = [\"Finland\",\"Sweden\",\"Denmark\",\"Netherlands\",\"Germany\",\"Norway\",\"Iceland\"]"
   ]
  },
  {
   "cell_type": "code",
   "execution_count": 6,
   "id": "a151c87f",
   "metadata": {},
   "outputs": [
    {
     "name": "stdout",
     "output_type": "stream",
     "text": [
      "Index of Sweden in country list: 1\n"
     ]
    }
   ],
   "source": [
    "# 1. Find the index of “Sweden”.\n",
    "index = countries.index('Sweden')\n",
    "print(\"Index of Sweden in country list:\", index)"
   ]
  },
  {
   "cell_type": "code",
   "execution_count": 7,
   "id": "9d6230b9",
   "metadata": {},
   "outputs": [
    {
     "name": "stdout",
     "output_type": "stream",
     "text": [
      "All the items except the first in country list: ['Sweden', 'Denmark', 'Netherlands', 'Germany', 'Norway', 'Iceland']\n"
     ]
    }
   ],
   "source": [
    "# 2. Get all the items except the first\n",
    "all_but_first = countries[1:]\n",
    "print(\"All the items except the first in country list:\", all_but_first)"
   ]
  },
  {
   "cell_type": "code",
   "execution_count": 8,
   "id": "e2e85a9b",
   "metadata": {},
   "outputs": [
    {
     "name": "stdout",
     "output_type": "stream",
     "text": [
      "All the items except the first in country list: ['Finland', 'Sweden', 'Denmark', 'Netherlands', 'Germany', 'Norway']\n"
     ]
    }
   ],
   "source": [
    "# 3. Get all the items except the last\n",
    "all_but_last = countries[:-1]\n",
    "print(\"All the items except the first in country list:\", all_but_last)"
   ]
  },
  {
   "cell_type": "code",
   "execution_count": 9,
   "id": "51c6b963",
   "metadata": {},
   "outputs": [
    {
     "name": "stdout",
     "output_type": "stream",
     "text": [
      "last item using negative indexing in country list: Iceland\n"
     ]
    }
   ],
   "source": [
    "# 4. Find the last item using negative indexing\n",
    "last_neg = countries[-1]\n",
    "print(\"last item using negative indexing in country list:\", last_neg)"
   ]
  },
  {
   "cell_type": "code",
   "execution_count": 10,
   "id": "1e7eb2f6",
   "metadata": {},
   "outputs": [
    {
     "name": "stdout",
     "output_type": "stream",
     "text": [
      "last 3 item using negative indexing in country list: ['Germany', 'Norway', 'Iceland']\n"
     ]
    }
   ],
   "source": [
    "# 5. Find the last three item using negative indexing\n",
    "last_3_neg = countries[-3:]\n",
    "print(\"last 3 item using negative indexing in country list:\", last_3_neg)"
   ]
  },
  {
   "cell_type": "code",
   "execution_count": 11,
   "id": "98b7a8e4",
   "metadata": {},
   "outputs": [
    {
     "name": "stdout",
     "output_type": "stream",
     "text": [
      "items with odd indices in country list: ['Sweden', 'Netherlands', 'Norway']\n"
     ]
    }
   ],
   "source": [
    "# 6. Grab all the items with odd indices\n",
    "all_odd_indices = countries[1::2] # You could also slice the list.\n",
    "print(\"items with odd indices in country list:\", all_odd_indices)"
   ]
  },
  {
   "cell_type": "code",
   "execution_count": 12,
   "id": "4d384393",
   "metadata": {},
   "outputs": [
    {
     "name": "stdout",
     "output_type": "stream",
     "text": [
      "first and last item in country list: ['Finland', 'Iceland']\n"
     ]
    }
   ],
   "source": [
    "# 7. Find the first and last item for the list\n",
    "first_and_last = [countries[0], countries[-1]]\n",
    "print(\"first and last item in country list:\", first_and_last)"
   ]
  },
  {
   "cell_type": "code",
   "execution_count": 13,
   "id": "60cd256b",
   "metadata": {},
   "outputs": [
    {
     "name": "stdout",
     "output_type": "stream",
     "text": [
      "Get [”Netherlands”,”Germany”,”Norway”] using negative indexing:  ['Netherlands', 'Germany', 'Norway']\n"
     ]
    }
   ],
   "source": [
    "# 8. Get [”Netherlands”,”Germany”,”Norway”] using negative indexing\n",
    "using_neg_index = [countries[-4], countries[-3], countries[-2]]\n",
    "print(\"Get [”Netherlands”,”Germany”,”Norway”] using negative indexing: \", using_neg_index)"
   ]
  },
  {
   "cell_type": "code",
   "execution_count": 14,
   "id": "da146803",
   "metadata": {},
   "outputs": [
    {
     "name": "stdout",
     "output_type": "stream",
     "text": [
      "Reverse the country list:  ['Iceland', 'Norway', 'Germany', 'Netherlands', 'Denmark', 'Sweden', 'Finland']\n"
     ]
    }
   ],
   "source": [
    "# 9. Reverse the list\n",
    "reversed_list = countries[::-1]\n",
    "print(\"Reverse the country list: \", reversed_list)"
   ]
  },
  {
   "cell_type": "code",
   "execution_count": 15,
   "id": "25fab6cf",
   "metadata": {},
   "outputs": [
    {
     "name": "stdout",
     "output_type": "stream",
     "text": [
      "output of countries[::-2]:  ['Iceland', 'Germany', 'Denmark', 'Finland']\n"
     ]
    }
   ],
   "source": [
    "# 10. What is the output of countries[::-2]?\n",
    "output_1 = countries[::-2]\n",
    "print(\"output of countries[::-2]: \", output_1)"
   ]
  },
  {
   "cell_type": "code",
   "execution_count": 16,
   "id": "23bf86c1",
   "metadata": {},
   "outputs": [
    {
     "name": "stdout",
     "output_type": "stream",
     "text": [
      "output of countries[1:100:2]:  ['Sweden', 'Netherlands', 'Norway']\n"
     ]
    }
   ],
   "source": [
    "# 11. What is the output of countries[1:100:2]?\n",
    "output_2 = countries[1:100:2]\n",
    "print(\"output of countries[1:100:2]: \", output_2)"
   ]
  },
  {
   "cell_type": "code",
   "execution_count": 17,
   "id": "43eca2a9",
   "metadata": {},
   "outputs": [
    {
     "name": "stdout",
     "output_type": "stream",
     "text": [
      "output of countries[len(countries)-1:0:2]:  []\n"
     ]
    }
   ],
   "source": [
    "# 12. What is the output of countries[len(countries)-1:0:2]?\n",
    "output_3 = countries[len(countries)-1:0:2]\n",
    "print(\"output of countries[len(countries)-1:0:2]: \", output_3)"
   ]
  },
  {
   "cell_type": "code",
   "execution_count": 18,
   "id": "ea932a63",
   "metadata": {},
   "outputs": [
    {
     "name": "stdout",
     "output_type": "stream",
     "text": [
      "output of countries[len(countries)-1:0:2]:  ['Germany', 'Netherlands', 'Denmark']\n"
     ]
    }
   ],
   "source": [
    "# 13. Get the output ['Germany', 'Netherlands', 'Denmark']\n",
    "output_4 = countries[-3:1:-1]\n",
    "print(\"output of countries[len(countries)-1:0:2]: \", output_4)"
   ]
  },
  {
   "cell_type": "code",
   "execution_count": 19,
   "id": "1a762e26",
   "metadata": {},
   "outputs": [
    {
     "name": "stdout",
     "output_type": "stream",
     "text": [
      "Using enumerate method to get index and values in the countries list: \n",
      "index: 0 and value: Finland\n",
      "index: 1 and value: Sweden\n",
      "index: 2 and value: Denmark\n",
      "index: 3 and value: Netherlands\n",
      "index: 4 and value: Germany\n",
      "index: 5 and value: Norway\n",
      "index: 6 and value: Iceland\n"
     ]
    }
   ],
   "source": [
    "# 14. Use enumerate method to get index and values in the list\n",
    "print(\"Using enumerate method to get index and values in the countries list: \")\n",
    "\n",
    "index = 0\n",
    "\n",
    "for value in countries:\n",
    "    print(\"index: {} and value: {}\".format(index, value))\n",
    "    index +=1"
   ]
  },
  {
   "cell_type": "markdown",
   "id": "50ada4b4",
   "metadata": {},
   "source": [
    "### Task 6:\n",
    "**Exercise on dictionaries**\n",
    "\n",
    "Given the two lists of same length, create a dictionary using a list as keys and another list as values without using loop\n",
    "\n",
    "Eg: [\"a\",\"b\",\"c\",\"d\"],[1,2,3,4] lists should be made {'a': 1, 'b': 2, 'c': 3, 'd': 4}\n",
    "\n",
    "**Hint: zip method**\n",
    "\n",
    "- Create two dictionaries, merge them into one.\n",
    "**Hint: update method/dictionary unpacking**\n",
    "\n",
    "- Given the list of students, assign them the course.\n",
    "    Students=[“Duy”, “Laxmi”,”Antonio”,”Maria”]\n",
    "    \n",
    "    Course=[\"Python\",\"Database\",\"ML\"]\n",
    "    \n",
    "    Move result to the new dictionary students_profile=\n",
    "            {'Duy': ['Python', 'Database', 'ML'], 'Laxmi': ['Python', 'Database', 'ML'],\n",
    "             'Antonio': ['Python', 'Database', 'ML'],'Maria': ['Python', 'Database', 'ML']}\n",
    "     \n",
    "- Modify Antonio’s course to [\"JavaScript\",\"Database\",\"NodeJS\"]\n",
    "- Add “ReactJs” to Anonio’s course\n",
    "- Replace Antonio’s “ReactJs” to “Vuejs”\n",
    "- Remove an item from dictionary **Hint: use del statement or pop/ popitem method. Observe the differences**"
   ]
  },
  {
   "cell_type": "code",
   "execution_count": 20,
   "id": "d4a7abf5",
   "metadata": {},
   "outputs": [
    {
     "name": "stdout",
     "output_type": "stream",
     "text": [
      "{'a': 1, 'b': 2, 'c': 3, 'd': 4}\n"
     ]
    }
   ],
   "source": [
    "# 1. Given the two lists of same length, create a dictionary using a list as keys and another list as values without using loop\n",
    "# Hint: zip method\n",
    "\n",
    "list_a = [\"a\",\"b\",\"c\",\"d\"]\n",
    "list_b = [1,2,3,4]\n",
    "dict_1 = dict(zip(list_a, list_b))\n",
    "print(dict_1)"
   ]
  },
  {
   "cell_type": "code",
   "execution_count": 21,
   "id": "c6501b7b",
   "metadata": {},
   "outputs": [
    {
     "name": "stdout",
     "output_type": "stream",
     "text": [
      "{'brand': 'Ford', 'model': 'Mustang', 'color': 'White', 'year': 1964, 'a': 1, 'b': 2, 'c': 3, 'd': 4}\n",
      "None\n",
      "{'brand': 'Ford', 'model': 'Mustang', 'color': 'White', 'year': 1964, 'a': 1, 'b': 2, 'c': 3, 'd': 4}\n"
     ]
    }
   ],
   "source": [
    "# 2. #Create two dictionaries, merge them into one. Hint: update method/dictionary unpacking\n",
    "\"\"\"\n",
    "Python code to merge dict using update() method\n",
    "# By using the method update() in Python, one list can be merged into another. \n",
    "# But in this, the second list is merged into the first list and no new list is created.\n",
    "# It returns None.\n",
    "\"\"\"\n",
    "\n",
    "dict_2 = {\n",
    "  \"brand\": \"Ford\",\n",
    "  \"model\": \"Mustang\",\n",
    "  \"color\": \"White\",\n",
    "  \"year\": 1964\n",
    "}\n",
    "\n",
    "dict_2.update(dict_1)\n",
    "\n",
    "print(dict_2)\n",
    "\n",
    "# OR:\n",
    "def Merge(dict_1, dict_2):\n",
    "    return(dict_2.update(dict_1))\n",
    " \n",
    "# This returns None\n",
    "print(Merge(dict_1, dict_2))\n",
    " \n",
    "# changes made in dict_2\n",
    "print(dict_2)"
   ]
  },
  {
   "cell_type": "code",
   "execution_count": 22,
   "id": "5d186c6a",
   "metadata": {},
   "outputs": [
    {
     "name": "stdout",
     "output_type": "stream",
     "text": [
      "{'Duy': ['Python', 'Database', 'ML'], 'Laxmi': ['Python', 'Database', 'ML'], 'Antonio': ['Python', 'Database', 'ML'], 'Maria': ['Python', 'Database', 'ML']}\n"
     ]
    }
   ],
   "source": [
    "# 3. Move result to the new dictionary students_profile\n",
    "\n",
    "Students=[\"Duy\", \"Laxmi\",\"Antonio\",\"Maria\"]\n",
    "Course=[\"Python\",\"Database\",\"ML\"]\n",
    "\n",
    "students_profile = {}\n",
    "\n",
    "for ii in Students:\n",
    "    students_profile[ii] = Course\n",
    "    \n",
    "print(students_profile)"
   ]
  },
  {
   "cell_type": "code",
   "execution_count": 23,
   "id": "b1b22ba8",
   "metadata": {},
   "outputs": [
    {
     "name": "stdout",
     "output_type": "stream",
     "text": [
      "{'Duy': ['Python', 'Database', 'ML'], 'Laxmi': ['Python', 'Database', 'ML'], 'Antonio': ['JavaScript', 'Database', 'NodeJS'], 'Maria': ['Python', 'Database', 'ML']}\n"
     ]
    }
   ],
   "source": [
    "# 4. Modify Antonio’s course to [\"JavaScript\",\"Database\",\"NodeJS\"]\n",
    "\n",
    "students_profile.update({\"Antonio\" : [\"JavaScript\",\"Database\",\"NodeJS\"]})\n",
    "print(students_profile)"
   ]
  },
  {
   "cell_type": "code",
   "execution_count": 24,
   "id": "b9fa7ba0",
   "metadata": {},
   "outputs": [
    {
     "name": "stdout",
     "output_type": "stream",
     "text": [
      "{'Duy': ['Python', 'Database', 'ML'], 'Laxmi': ['Python', 'Database', 'ML'], 'Antonio': ['JavaScript', 'Database', 'NodeJS', 'ReactJs'], 'Maria': ['Python', 'Database', 'ML']}\n"
     ]
    }
   ],
   "source": [
    "# 5. Add “ReactJs” to Anonio’s course\n",
    "students_profile.update({\"Antonio\" : [\"JavaScript\",\"Database\",\"NodeJS\", \"ReactJs\"]})\n",
    "print(students_profile)"
   ]
  },
  {
   "cell_type": "code",
   "execution_count": 25,
   "id": "5c294d39",
   "metadata": {},
   "outputs": [
    {
     "name": "stdout",
     "output_type": "stream",
     "text": [
      "{'Duy': ['Python', 'Database', 'ML'], 'Laxmi': ['Python', 'Database', 'ML'], 'Antonio': ['JavaScript', 'Database', 'NodeJS', 'Vuejs'], 'Maria': ['Python', 'Database', 'ML']}\n"
     ]
    }
   ],
   "source": [
    "# 6. Replace Antonio’s “ReactJs” to “Vuejs”\n",
    "students_profile.update({\"Antonio\" : [\"JavaScript\",\"Database\",\"NodeJS\", \"Vuejs\"]})\n",
    "print(students_profile)"
   ]
  },
  {
   "cell_type": "code",
   "execution_count": 26,
   "id": "90e5d4ae",
   "metadata": {},
   "outputs": [
    {
     "name": "stdout",
     "output_type": "stream",
     "text": [
      "Deleted Value =  ['Python', 'Database', 'ML']\n",
      "{'Laxmi': ['Python', 'Database', 'ML'], 'Antonio': ['JavaScript', 'Database', 'NodeJS', 'Vuejs'], 'Maria': ['Python', 'Database', 'ML']}\n"
     ]
    }
   ],
   "source": [
    "# 7. Remove an item from dictionary Hint: use del statement or pop/ popitem method. Observe the differences\n",
    "# https://www.programiz.com/python-programming/methods/dictionary/pop\n",
    "\n",
    "# 7.1. use del statement\n",
    "print('Deleted Value = ', students_profile['Duy'])\n",
    "del students_profile['Duy']\n",
    "print(students_profile)"
   ]
  },
  {
   "cell_type": "code",
   "execution_count": 27,
   "id": "f8884e35",
   "metadata": {},
   "outputs": [
    {
     "name": "stdout",
     "output_type": "stream",
     "text": [
      "{'Antonio': ['JavaScript', 'Database', 'NodeJS', 'Vuejs'], 'Maria': ['Python', 'Database', 'ML']}\n",
      "Poped Value =  ['Python', 'Database', 'ML']\n"
     ]
    }
   ],
   "source": [
    "# 7.2. Remove a Key from a Dictionary using pop()\n",
    "# The pop() method removes and returns an element from a dictionary having the given key.\n",
    "\n",
    "removed_value = students_profile.pop('Laxmi', 'No Key found')\n",
    "print(students_profile)\n",
    "print('Poped Value = ', removed_value)"
   ]
  },
  {
   "cell_type": "code",
   "execution_count": 28,
   "id": "edb69b55",
   "metadata": {},
   "outputs": [
    {
     "name": "stdout",
     "output_type": "stream",
     "text": [
      "Poped Value =  ('Maria', ['Python', 'Database', 'ML'])\n",
      "{'Antonio': ['JavaScript', 'Database', 'NodeJS', 'Vuejs']}\n"
     ]
    }
   ],
   "source": [
    "# 7.3. popitem method\n",
    "# The Python popitem() method removes and returns the last element (key, value) pair inserted into the dictionary.\n",
    "\n",
    "result = students_profile.popitem()\n",
    "\n",
    "print('Poped Value = ', result)\n",
    "print(students_profile)"
   ]
  },
  {
   "cell_type": "code",
   "execution_count": null,
   "id": "5b0ac32c",
   "metadata": {},
   "outputs": [],
   "source": []
  }
 ],
 "metadata": {
  "kernelspec": {
   "display_name": "Python 3 (ipykernel)",
   "language": "python",
   "name": "python3"
  },
  "language_info": {
   "codemirror_mode": {
    "name": "ipython",
    "version": 3
   },
   "file_extension": ".py",
   "mimetype": "text/x-python",
   "name": "python",
   "nbconvert_exporter": "python",
   "pygments_lexer": "ipython3",
   "version": "3.10.9"
  }
 },
 "nbformat": 4,
 "nbformat_minor": 5
}
