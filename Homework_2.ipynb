{
 "cells": [
  {
   "cell_type": "markdown",
   "id": "225d1b29",
   "metadata": {},
   "source": [
    "## Compute the covariance between three variables"
   ]
  },
  {
   "cell_type": "code",
   "execution_count": 2,
   "id": "c37932ce",
   "metadata": {},
   "outputs": [
    {
     "data": {
      "text/html": [
       "<div>\n",
       "<style scoped>\n",
       "    .dataframe tbody tr th:only-of-type {\n",
       "        vertical-align: middle;\n",
       "    }\n",
       "\n",
       "    .dataframe tbody tr th {\n",
       "        vertical-align: top;\n",
       "    }\n",
       "\n",
       "    .dataframe thead th {\n",
       "        text-align: right;\n",
       "    }\n",
       "</style>\n",
       "<table border=\"1\" class=\"dataframe\">\n",
       "  <thead>\n",
       "    <tr style=\"text-align: right;\">\n",
       "      <th></th>\n",
       "      <th>S1</th>\n",
       "      <th>S2</th>\n",
       "      <th>S3</th>\n",
       "    </tr>\n",
       "  </thead>\n",
       "  <tbody>\n",
       "    <tr>\n",
       "      <th>S1</th>\n",
       "      <td>403.333112</td>\n",
       "      <td>501.950304</td>\n",
       "      <td>512.664400</td>\n",
       "    </tr>\n",
       "    <tr>\n",
       "      <th>S2</th>\n",
       "      <td>501.950304</td>\n",
       "      <td>3528.406081</td>\n",
       "      <td>2911.589497</td>\n",
       "    </tr>\n",
       "    <tr>\n",
       "      <th>S3</th>\n",
       "      <td>512.664400</td>\n",
       "      <td>2911.589497</td>\n",
       "      <td>3778.218684</td>\n",
       "    </tr>\n",
       "  </tbody>\n",
       "</table>\n",
       "</div>"
      ],
      "text/plain": [
       "            S1           S2           S3\n",
       "S1  403.333112   501.950304   512.664400\n",
       "S2  501.950304  3528.406081  2911.589497\n",
       "S3  512.664400  2911.589497  3778.218684"
      ]
     },
     "execution_count": 2,
     "metadata": {},
     "output_type": "execute_result"
    }
   ],
   "source": [
    "import pandas as pd\n",
    "import numpy as np\n",
    "import matplotlib.pyplot as plt\n",
    "\n",
    "\n",
    "df = pd.read_csv(\"Group1.csv\")\n",
    "# df.head()\n",
    "# df.describe()\n",
    "\n",
    "df.cov()"
   ]
  },
  {
   "cell_type": "markdown",
   "id": "e4aa1931",
   "metadata": {},
   "source": [
    "## Compute the correlation coefficients between three variables"
   ]
  },
  {
   "cell_type": "code",
   "execution_count": 3,
   "id": "5eb91a37",
   "metadata": {},
   "outputs": [
    {
     "data": {
      "text/html": [
       "<div>\n",
       "<style scoped>\n",
       "    .dataframe tbody tr th:only-of-type {\n",
       "        vertical-align: middle;\n",
       "    }\n",
       "\n",
       "    .dataframe tbody tr th {\n",
       "        vertical-align: top;\n",
       "    }\n",
       "\n",
       "    .dataframe thead th {\n",
       "        text-align: right;\n",
       "    }\n",
       "</style>\n",
       "<table border=\"1\" class=\"dataframe\">\n",
       "  <thead>\n",
       "    <tr style=\"text-align: right;\">\n",
       "      <th></th>\n",
       "      <th>S1</th>\n",
       "      <th>S2</th>\n",
       "      <th>S3</th>\n",
       "    </tr>\n",
       "  </thead>\n",
       "  <tbody>\n",
       "    <tr>\n",
       "      <th>S1</th>\n",
       "      <td>1.000000</td>\n",
       "      <td>0.420765</td>\n",
       "      <td>0.415296</td>\n",
       "    </tr>\n",
       "    <tr>\n",
       "      <th>S2</th>\n",
       "      <td>0.420765</td>\n",
       "      <td>1.000000</td>\n",
       "      <td>0.797439</td>\n",
       "    </tr>\n",
       "    <tr>\n",
       "      <th>S3</th>\n",
       "      <td>0.415296</td>\n",
       "      <td>0.797439</td>\n",
       "      <td>1.000000</td>\n",
       "    </tr>\n",
       "  </tbody>\n",
       "</table>\n",
       "</div>"
      ],
      "text/plain": [
       "          S1        S2        S3\n",
       "S1  1.000000  0.420765  0.415296\n",
       "S2  0.420765  1.000000  0.797439\n",
       "S3  0.415296  0.797439  1.000000"
      ]
     },
     "execution_count": 3,
     "metadata": {},
     "output_type": "execute_result"
    }
   ],
   "source": [
    "df.corr()"
   ]
  },
  {
   "cell_type": "markdown",
   "id": "760f1976",
   "metadata": {},
   "source": [
    "## Plot and report the relationships between the variables"
   ]
  },
  {
   "cell_type": "code",
   "execution_count": 4,
   "id": "33825c8e",
   "metadata": {},
   "outputs": [
    {
     "data": {
      "text/plain": [
       "array([[<Axes: xlabel='S1', ylabel='S1'>,\n",
       "        <Axes: xlabel='S2', ylabel='S1'>,\n",
       "        <Axes: xlabel='S3', ylabel='S1'>],\n",
       "       [<Axes: xlabel='S1', ylabel='S2'>,\n",
       "        <Axes: xlabel='S2', ylabel='S2'>,\n",
       "        <Axes: xlabel='S3', ylabel='S2'>],\n",
       "       [<Axes: xlabel='S1', ylabel='S3'>,\n",
       "        <Axes: xlabel='S2', ylabel='S3'>,\n",
       "        <Axes: xlabel='S3', ylabel='S3'>]], dtype=object)"
      ]
     },
     "execution_count": 4,
     "metadata": {},
     "output_type": "execute_result"
    },
    {
     "data": {
      "image/png": "[encoded data removed]",
      "text/plain": [
       "<Figure size 640x480 with 9 Axes>"
      ]
     },
     "metadata": {},
     "output_type": "display_data"
    }
   ],
   "source": [
    "pd.plotting.scatter_matrix(df)"
   ]
  },
  {
   "cell_type": "markdown",
   "id": "6903d517",
   "metadata": {},
   "source": [
    "## Generate a random sample of 50 observations for each sensor\n",
    "## Compute the upper and the lower bounds with confidence intervals 90%, 95%, 99%.\n",
    "## Compare the population means of each sample with the estimated one given the samples\n"
   ]
  },
  {
   "cell_type": "code",
   "execution_count": 9,
   "id": "2d9fd3dc",
   "metadata": {},
   "outputs": [
    {
     "name": "stdout",
     "output_type": "stream",
     "text": [
      "\n",
      "Mean of the sample : 432.54\n",
      "Mean of the whole population is 428.65\n",
      "For 90% confident interval for S1 it's range from 428.77 to 436.31, pop. mean is inside: False\n",
      "For 95% confident interval for S1 it's range from 428.05 to 437.03, pop. mean is inside: True\n",
      "For 99% confident interval for S1 it's range from 426.64 to 438.44, pop. mean is inside: True\n",
      "\n",
      "Mean of the sample : 290.3\n",
      "Mean of the whole population is 304.84\n",
      "For 90% confident interval for S2 it's range from 275.23 to 305.37, pop. mean is inside: True\n",
      "For 95% confident interval for S2 it's range from 272.34 to 308.26, pop. mean is inside: True\n",
      "For 99% confident interval for S2 it's range from 266.70 to 313.90, pop. mean is inside: True\n",
      "\n",
      "Mean of the sample : 294.46\n",
      "Mean of the whole population is 296.68\n",
      "For 90% confident interval for S3 it's range from 280.26 to 308.66, pop. mean is inside: True\n",
      "For 95% confident interval for S3 it's range from 277.54 to 311.38, pop. mean is inside: True\n",
      "For 99% confident interval for S3 it's range from 272.22 to 316.70, pop. mean is inside: True\n"
     ]
    }
   ],
   "source": [
    "z_values = [[90, 1.645], [95, 1.96], [99, 2.576]]\n",
    "    \n",
    "for col in df:\n",
    "    p_mean = df[col].mean()\n",
    "    s = df[col].sample(n=50)\n",
    "    mean = s.mean()\n",
    "    size = s.size\n",
    "    std = s.std()\n",
    "    print('\\nMean of the sample :', mean)\n",
    "    print('Mean of the whole population is {:.2f}'.format(p_mean))\n",
    "    for item in z_values:\n",
    "        ampl = item[1] * std / size ** 0.5\n",
    "        lower = mean - ampl\n",
    "        upper = mean + ampl\n",
    "        print(\"For {}% confident interval for {} it's range from {:.2f} to {:.2f}, pop. mean is inside: {}\".format(\n",
    "        item[0], col, lower, upper, lower <= p_mean <= upper))\n",
    "    "
   ]
  },
  {
   "cell_type": "markdown",
   "id": "35428379",
   "metadata": {},
   "source": [
    "# _Additional_"
   ]
  },
  {
   "cell_type": "markdown",
   "id": "9294b46b",
   "metadata": {},
   "source": [
    "**Let's make the script harder and check how many times p_mean will occur outside the confidence interval in 10,000 experiments**"
   ]
  },
  {
   "cell_type": "code",
   "execution_count": 69,
   "id": "daf4bd2e",
   "metadata": {},
   "outputs": [
    {
     "name": "stdout",
     "output_type": "stream",
     "text": [
      "in S1 516 out of 10,000 times population mean occured outside the 90% CI\n",
      "in S1 249 out of 10,000 times population mean occured outside the 95% CI\n",
      "in S1 47 out of 10,000 times population mean occured outside the 99% CI\n",
      "\n",
      "in S2 438 out of 10,000 times population mean occured outside the 90% CI\n",
      "in S2 197 out of 10,000 times population mean occured outside the 95% CI\n",
      "in S2 21 out of 10,000 times population mean occured outside the 99% CI\n",
      "\n",
      "in S3 417 out of 10,000 times population mean occured outside the 90% CI\n",
      "in S3 151 out of 10,000 times population mean occured outside the 95% CI\n",
      "in S3 30 out of 10,000 times population mean occured outside the 99% CI\n",
      "\n"
     ]
    }
   ],
   "source": [
    "z_values = [[90, 1.645], [95, 1.96], [99, 2.576]]\n",
    "\n",
    "for col in df:\n",
    "    p_mean = df[col].mean()    \n",
    "    for item in z_values:        \n",
    "        counter = 0\n",
    "        for _ in range(10000):\n",
    "            s = df[col].sample(n=50,)\n",
    "            mean = s.mean()\n",
    "            ampl = item[1] * s.std() / s.size ** 0.5\n",
    "            if not mean - ampl <= p_mean <= mean + ampl:\n",
    "                counter += 1\n",
    "        print(\"in {} {} out of 10,000 times population mean occured outside the {}% CI\".format(\n",
    "        col, counter, item[0]))\n",
    "    print()    "
   ]
  },
  {
   "cell_type": "markdown",
   "id": "60a66f4a",
   "metadata": {},
   "source": [
    "**It's look like results are twice or even less than expected**"
   ]
  },
  {
   "cell_type": "markdown",
   "id": "f03c5662",
   "metadata": {},
   "source": [
    "Okay then, maybe it's because of population, let's have a normal distributed population"
   ]
  },
  {
   "cell_type": "code",
   "execution_count": 70,
   "id": "4a259bfe",
   "metadata": {},
   "outputs": [
    {
     "name": "stdout",
     "output_type": "stream",
     "text": [
      "There is 427 out of 10,000 times population mean occured outside the 90% CI\n",
      "There is 160 out of 10,000 times population mean occured outside the 95% CI\n",
      "There is 24 out of 10,000 times population mean occured outside the 99% CI\n"
     ]
    }
   ],
   "source": [
    "df_norm = pd.DataFrame(np.random.normal(400, 40, 135), columns=['S1'])\n",
    "p_mean = df_norm['S1'].mean()\n",
    "z_values = [[90, 1.645], [95, 1.96], [99, 2.576]]\n",
    "\n",
    "for item in z_values:        \n",
    "    counter = 0\n",
    "    for _ in range(10000):\n",
    "        s = df_norm['S1'].sample(n=50)\n",
    "        mean = s.mean()\n",
    "        ampl = item[1] * s.std() / (s.size ** 0.5)\n",
    "        if not mean - ampl <= p_mean <= mean + ampl:\n",
    "            counter += 1\n",
    "    print(\"There is {} out of 10,000 times population mean occured outside the {}% CI\".format(\n",
    "    counter, item[0]))  "
   ]
  },
  {
   "cell_type": "markdown",
   "id": "3956f9e3",
   "metadata": {},
   "source": [
    "No, the same result:(\n",
    "\n",
    "**Let's try the same with a bigger population (135 -> 10,000) :**"
   ]
  },
  {
   "cell_type": "code",
   "execution_count": 71,
   "id": "402fafd6",
   "metadata": {},
   "outputs": [
    {
     "name": "stdout",
     "output_type": "stream",
     "text": [
      "There is 1032 out of 10,000 times population mean occured outside the 90% CI\n",
      "There is 506 out of 10,000 times population mean occured outside the 95% CI\n",
      "There is 141 out of 10,000 times population mean occured outside the 99% CI\n"
     ]
    }
   ],
   "source": [
    "df_norm = pd.DataFrame(np.random.normal(400, 40, 10000), columns=['S1'])\n",
    "p_mean = df_norm['S1'].mean()\n",
    "z_values = [[90, 1.645], [95, 1.96], [99, 2.576]]\n",
    "\n",
    "for item in z_values:        \n",
    "    counter = 0\n",
    "    for _ in range(10000):\n",
    "        s = df_norm['S1'].sample(n=50)\n",
    "        mean = s.mean()\n",
    "        ampl = item[1] * s.std() / (s.size ** 0.5)\n",
    "        if not mean - ampl <= p_mean <= mean + ampl:\n",
    "            counter += 1\n",
    "    print(\"There is {} out of 10,000 times population mean occured outside the {}% CI\".format(\n",
    "    counter, item[0]))  \n",
    "    "
   ]
  },
  {
   "cell_type": "markdown",
   "id": "780d9818",
   "metadata": {},
   "source": [
    "**Perfect!**\n",
    "**So, Ronald gave me another clue: the 'replace' parameter in DataFrame.sample, let's try that out**"
   ]
  },
  {
   "cell_type": "code",
   "execution_count": 72,
   "id": "2a8cc133",
   "metadata": {},
   "outputs": [
    {
     "name": "stdout",
     "output_type": "stream",
     "text": [
      "There is 1064 out of 10,000 times population mean occured outside the 90% CI\n",
      "There is 547 out of 10,000 times population mean occured outside the 95% CI\n",
      "There is 134 out of 10,000 times population mean occured outside the 99% CI\n"
     ]
    }
   ],
   "source": [
    "df_norm = pd.DataFrame(np.random.normal(400, 40, 135), columns=['S1'])\n",
    "p_mean = df_norm['S1'].mean()\n",
    "z_values = [[90, 1.645], [95, 1.96], [99, 2.576]]\n",
    "\n",
    "for item in z_values:        \n",
    "    counter = 0\n",
    "    for _ in range(10000):\n",
    "        s = df_norm['S1'].sample(n=50, replace=True)\n",
    "        mean = s.mean()\n",
    "        ampl = item[1] * s.std() / (s.size ** 0.5)\n",
    "        if not mean - ampl <= p_mean <= mean + ampl:\n",
    "            counter += 1\n",
    "    print(\"There is {} out of 10,000 times population mean occured outside the {}% CI\".format(\n",
    "    counter, item[0]))  "
   ]
  },
  {
   "cell_type": "markdown",
   "id": "5959a19e",
   "metadata": {},
   "source": [
    "**It works!**"
   ]
  },
  {
   "cell_type": "code",
   "execution_count": 75,
   "id": "adf9a0fe",
   "metadata": {},
   "outputs": [
    {
     "name": "stdout",
     "output_type": "stream",
     "text": [
      "z value for 50% CI = 0.674\n",
      "z value for 95% CI = 1.960\n",
      "z value for 99% CI = 2.576\n"
     ]
    }
   ],
   "source": [
    "from scipy.stats import norm\n",
    "\n",
    "z_50 = norm.ppf(0.75)    # we want 25.0% in each tail, so use .750\n",
    "z_95 = norm.ppf(0.975)   # we want  2.5% in each tail, so use .975\n",
    "z_99 = norm.ppf(0.995)   # we want  0.5% in each tail, so use .995\n",
    "print(f'z value for 50% CI = {z_50:.3f}')\n",
    "print(f'z value for 95% CI = {z_95:.3f}')\n",
    "print(f'z value for 99% CI = {z_99:.3f}')"
   ]
  },
  {
   "cell_type": "code",
   "execution_count": null,
   "id": "263e9ba6",
   "metadata": {},
   "outputs": [],
   "source": []
  }
 ],
 "metadata": {
  "kernelspec": {
   "display_name": "Python 3 (ipykernel)",
   "language": "python",
   "name": "python3"
  },
  "language_info": {
   "codemirror_mode": {
    "name": "ipython",
    "version": 3
   },
   "file_extension": ".py",
   "mimetype": "text/x-python",
   "name": "python",
   "nbconvert_exporter": "python",
   "pygments_lexer": "ipython3",
   "version": "3.9.10"
  }
 },
 "nbformat": 4,
 "nbformat_minor": 5
}
