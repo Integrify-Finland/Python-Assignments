{
 "cells": [
  {
   "cell_type": "markdown",
   "id": "cc90a687",
   "metadata": {},
   "source": [
    "#### Create a list apply iter method to it and run next method until you get StopIteration error"
   ]
  },
  {
   "cell_type": "code",
   "execution_count": 1,
   "id": "91510118",
   "metadata": {},
   "outputs": [
    {
     "name": "stdout",
     "output_type": "stream",
     "text": [
      "1\n",
      "2\n",
      "3\n",
      "4\n",
      "5\n"
     ]
    },
    {
     "ename": "StopIteration",
     "evalue": "",
     "output_type": "error",
     "traceback": [
      "\u001b[1;31m---------------------------------------------------------------------------\u001b[0m",
      "\u001b[1;31mStopIteration\u001b[0m                             Traceback (most recent call last)",
      "Input \u001b[1;32mIn [1]\u001b[0m, in \u001b[0;36m<cell line: 22>\u001b[1;34m()\u001b[0m\n\u001b[0;32m     19\u001b[0m element \u001b[38;5;241m=\u001b[39m \u001b[38;5;28mnext\u001b[39m(my_iter)\n\u001b[0;32m     20\u001b[0m \u001b[38;5;28mprint\u001b[39m(element)\n\u001b[1;32m---> 22\u001b[0m element \u001b[38;5;241m=\u001b[39m \u001b[38;5;28;43mnext\u001b[39;49m\u001b[43m(\u001b[49m\u001b[43mmy_iter\u001b[49m\u001b[43m)\u001b[49m\n\u001b[0;32m     23\u001b[0m \u001b[38;5;28mprint\u001b[39m(element)\n",
      "\u001b[1;31mStopIteration\u001b[0m: "
     ]
    }
   ],
   "source": [
    "# create a list of integers\n",
    "my_list = [1, 2, 3, 4, 5]\n",
    "\n",
    "# create an iterator from the list\n",
    "my_iter = iter(my_list)\n",
    "\n",
    "element = next(my_iter)\n",
    "print(element)\n",
    "\n",
    "element = next(my_iter)\n",
    "print(element)\n",
    "\n",
    "element = next(my_iter)\n",
    "print(element)\n",
    "\n",
    "element = next(my_iter)\n",
    "print(element)\n",
    "\n",
    "element = next(my_iter)\n",
    "print(element)\n",
    "\n",
    "element = next(my_iter)\n",
    "print(element)"
   ]
  },
  {
   "cell_type": "markdown",
   "id": "ba85172a",
   "metadata": {},
   "source": [
    "#### Import itertools in your notebook and create infinite iterators using count,cycle and and repeat methods."
   ]
  },
  {
   "cell_type": "code",
   "execution_count": null,
   "id": "bae9fcd7",
   "metadata": {},
   "outputs": [],
   "source": [
    "import itertools\n",
    "\n",
    "#for num in itertools.count(start=1, step=2):\n",
    "#    print(num)\n",
    "\n",
    "\n",
    "#my_list = [1, 2, 3]\n",
    "#for num in itertools.cycle(my_list):\n",
    "#    print(num)\n",
    "    \n",
    "    \n",
    "#for num in itertools.repeat(5):\n",
    "#   print(num)\n",
    "\n"
   ]
  },
  {
   "cell_type": "markdown",
   "id": "2c9f08be",
   "metadata": {},
   "source": [
    "#### Use methods from Iterators terminating on the shortest input sequence"
   ]
  },
  {
   "cell_type": "code",
   "execution_count": 4,
   "id": "0a70ce15",
   "metadata": {},
   "outputs": [
    {
     "name": "stdout",
     "output_type": "stream",
     "text": [
      "The sum after each iteration is : [1, 5, 10, 17]\n",
      "The product after each iteration is : [1, 4, 20, 140]\n"
     ]
    }
   ],
   "source": [
    "import itertools\n",
    "import operator\n",
    " \n",
    "# initializing list 1\n",
    "li1 = [1, 4, 5, 7]\n",
    "   \n",
    "# using accumulate()\n",
    "# prints the successive summation of elements\n",
    "print (\"The sum after each iteration is : \", end =\"\")\n",
    "print (list(itertools.accumulate(li1)))\n",
    "   \n",
    "# using accumulate()\n",
    "# prints the successive multiplication of elements\n",
    "print (\"The product after each iteration is : \", end =\"\")\n",
    "print (list(itertools.accumulate(li1, operator.mul)))"
   ]
  },
  {
   "cell_type": "markdown",
   "id": "e0c157a6",
   "metadata": {},
   "source": [
    "#### Create an infinite generator that generates the fibonacci series"
   ]
  },
  {
   "cell_type": "code",
   "execution_count": 3,
   "id": "8c979641",
   "metadata": {},
   "outputs": [],
   "source": [
    "def fibonacci():\n",
    "    a, b = 0, 1\n",
    "    while True:\n",
    "        yield a\n",
    "        a, b = b, a + b"
   ]
  },
  {
   "cell_type": "markdown",
   "id": "2ef2c8ad",
   "metadata": {},
   "source": [
    "#### Comprehension\n"
   ]
  },
  {
   "cell_type": "code",
   "execution_count": 5,
   "id": "1a1dcef1",
   "metadata": {},
   "outputs": [
    {
     "name": "stdout",
     "output_type": "stream",
     "text": [
      "[5, 10, 15, 20, 25, 30, 35, 40, 45, 50]\n"
     ]
    }
   ],
   "source": [
    "#Write a multiplication table of any given number in a list using list comprehension\n",
    "num = 5\n",
    "table = [num * i for i in range(1, 11)]\n",
    "print(table)"
   ]
  },
  {
   "cell_type": "code",
   "execution_count": 6,
   "id": "b89e98f5",
   "metadata": {},
   "outputs": [
    {
     "name": "stdout",
     "output_type": "stream",
     "text": [
      "[5, 15, 25, 35, 45, 50, 51, 52, 53, 54, 55, 56, 57, 58, 59, 65, 75, 85, 95, 105, 115, 125, 135, 145, 150, 151, 152, 153, 154, 155, 156, 157, 158, 159, 165, 175, 185, 195, 205, 215, 225, 235, 245, 250, 251, 252, 253, 254, 255, 256, 257, 258, 259, 265, 275, 285, 295, 305, 315, 325, 335, 345, 350, 351, 352, 353, 354, 355, 356, 357, 358, 359, 365, 375, 385, 395, 405, 415, 425, 435, 445, 450, 451, 452, 453, 454, 455, 456, 457, 458, 459, 465, 475, 485, 495, 500]\n"
     ]
    }
   ],
   "source": [
    "#Find all numbers from 1 to 500 that has 5 in them\n",
    "\n",
    "numbers = [num for num in range(1, 501) if '5' in str(num)]\n",
    "print(numbers)"
   ]
  },
  {
   "cell_type": "code",
   "execution_count": 7,
   "id": "86ed145d",
   "metadata": {},
   "outputs": [
    {
     "name": "stdout",
     "output_type": "stream",
     "text": [
      "[True, 10, 20, 30, 4.0, False, 0]\n"
     ]
    }
   ],
   "source": [
    "#Given the list of items=[\"apple\",True,10,\"banana\",20,30,4.0,\"grapes\",\"laptop\",\"phone\", False,0], generate the list of non-string values\n",
    "\n",
    "my_list = [\"apple\", True, 10, \"banana\", 20, 30, 4.0, \"grapes\", \"laptop\", \"phone\", False, 0]\n",
    "non_strings = [item for item in my_list if not isinstance(item, str)]\n",
    "print(non_strings)"
   ]
  },
  {
   "cell_type": "code",
   "execution_count": 9,
   "id": "bc3b9154",
   "metadata": {},
   "outputs": [
    {
     "name": "stdout",
     "output_type": "stream",
     "text": [
      "[False, True, True, False, True, True, True, False, False, False, True, True]\n"
     ]
    }
   ],
   "source": [
    "#Generate the boolean True for numeric and False for non-numeric in above items list\n",
    "numeric = [isinstance(item, (int, float)) for item in my_list]\n",
    "print(numeric)"
   ]
  },
  {
   "cell_type": "markdown",
   "id": "d0cd5e15",
   "metadata": {},
   "source": [
    "#files=[\"cat1.png\",\"dog1.png\",\"cat2.png\",\"cat3.png\",\"cat4.png\",\"dog2.png\",\"cat5.png\",\"cat6.png\",\"dog3.png\"],\n",
    "generate two lists of cat and dog image files"
   ]
  },
  {
   "cell_type": "code",
   "execution_count": 10,
   "id": "35be608c",
   "metadata": {},
   "outputs": [
    {
     "name": "stdout",
     "output_type": "stream",
     "text": [
      "['cat1.png', 'cat2.png', 'cat3.png', 'cat4.png', 'cat5.png', 'cat6.png']\n",
      "['dog1.png', 'dog2.png', 'dog3.png']\n"
     ]
    }
   ],
   "source": [
    "files = [\"cat1.png\", \"dog1.png\", \"cat2.png\", \"cat3.png\", \"cat4.png\", \"dog2.png\", \"cat5.png\", \"cat6.png\", \"dog3.png\"]\n",
    "cats = [item for item in files if \"cat\" in item]\n",
    "dogs = [item for item in files if \"dog\" in item]\n",
    "print(cats)\n",
    "print(dogs)"
   ]
  },
  {
   "cell_type": "markdown",
   "id": "d554d65a",
   "metadata": {},
   "source": [
    "#### Run the following command in your notebook. What could be the reason the list comprehension is more elegant?\n"
   ]
  },
  {
   "cell_type": "code",
   "execution_count": 14,
   "id": "64c333e7",
   "metadata": {},
   "outputs": [
    {
     "name": "stdout",
     "output_type": "stream",
     "text": [
      "for loop time:_ 2.6864099502563477\n",
      "List comprehension time: 2.2128942012786865\n"
     ]
    }
   ],
   "source": [
    "import time\n",
    "\n",
    "start_time=time.time()\n",
    "nums=[]\n",
    "for i in range(1,10000001):\n",
    "    nums.append(i**2)\n",
    "end_time=time.time()\n",
    "for_loop_time=end_time-start_time\n",
    "\n",
    "start_time=time.time()\n",
    "nums=[i**2 for i in range(1,10000001)]\n",
    "end_time=time.time()\n",
    "list_comp_time=end_time-start_time\n",
    "print(\"for loop time:_\",for_loop_time)\n",
    "print(\"List comprehension time:\",list_comp_time)\n"
   ]
  },
  {
   "cell_type": "code",
   "execution_count": null,
   "id": "de9a04ec",
   "metadata": {},
   "outputs": [],
   "source": []
  }
 ],
 "metadata": {
  "kernelspec": {
   "display_name": "Python 3 (ipykernel)",
   "language": "python",
   "name": "python3"
  },
  "language_info": {
   "codemirror_mode": {
    "name": "ipython",
    "version": 3
   },
   "file_extension": ".py",
   "mimetype": "text/x-python",
   "name": "python",
   "nbconvert_exporter": "python",
   "pygments_lexer": "ipython3",
   "version": "3.9.0"
  }
 },
 "nbformat": 4,
 "nbformat_minor": 5
}
