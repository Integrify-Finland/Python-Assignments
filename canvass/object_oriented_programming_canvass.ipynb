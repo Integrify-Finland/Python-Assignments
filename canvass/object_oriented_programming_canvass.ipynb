{
 "cells": [
  {
   "cell_type": "markdown",
   "id": "c6bc539f",
   "metadata": {},
   "source": [
    "#### Class Creation"
   ]
  },
  {
   "cell_type": "code",
   "execution_count": 6,
   "id": "9421b2e8",
   "metadata": {},
   "outputs": [],
   "source": [
    "class Person:\n",
    "    def __init__(self, name, age):\n",
    "        self.name = name\n",
    "        self.age = age\n",
    "        \n",
    "    def my_function(self):\n",
    "        print(\"Hello, my name is \"+ self.name)\n",
    "    "
   ]
  },
  {
   "cell_type": "code",
   "execution_count": 7,
   "id": "5df4038d",
   "metadata": {},
   "outputs": [],
   "source": [
    "p1 = Person('James', 20)"
   ]
  },
  {
   "cell_type": "code",
   "execution_count": 8,
   "id": "e82986de",
   "metadata": {},
   "outputs": [
    {
     "data": {
      "text/plain": [
       "'James'"
      ]
     },
     "execution_count": 8,
     "metadata": {},
     "output_type": "execute_result"
    }
   ],
   "source": [
    "p1.name"
   ]
  },
  {
   "cell_type": "code",
   "execution_count": 9,
   "id": "2433f789",
   "metadata": {},
   "outputs": [
    {
     "data": {
      "text/plain": [
       "20"
      ]
     },
     "execution_count": 9,
     "metadata": {},
     "output_type": "execute_result"
    }
   ],
   "source": [
    "p1.age"
   ]
  },
  {
   "cell_type": "code",
   "execution_count": 12,
   "id": "a628c5ca",
   "metadata": {},
   "outputs": [
    {
     "name": "stdout",
     "output_type": "stream",
     "text": [
      "Hello, my name is James\n"
     ]
    }
   ],
   "source": [
    "p1.my_function()"
   ]
  },
  {
   "cell_type": "markdown",
   "id": "b81abf09",
   "metadata": {},
   "source": [
    "#### Access Modifiers"
   ]
  },
  {
   "cell_type": "code",
   "execution_count": 31,
   "id": "d21ef786",
   "metadata": {},
   "outputs": [],
   "source": [
    "class Super:\n",
    "    var1 = None #public variable\n",
    "    _var2 = None #protected\n",
    "    __var3 = None #private"
   ]
  },
  {
   "cell_type": "code",
   "execution_count": 32,
   "id": "cece5d54",
   "metadata": {},
   "outputs": [],
   "source": [
    "# constructor \n",
    "def __init__(self, var1,var2,var3):\n",
    "    self.var1 = var1\n",
    "    self.var2 = var2\n",
    "    self.var3 = var3"
   ]
  },
  {
   "cell_type": "code",
   "execution_count": 33,
   "id": "8c39380c",
   "metadata": {},
   "outputs": [],
   "source": [
    "\n",
    "# public member function\n",
    "def displayPublicMembers(self):\n",
    "    print(\"Public Memeber Data: \", self.var1)\n",
    "    \n",
    "def _displayProtectedMembers(self):\n",
    "    print(\"Protected Memeber Data: \", self._var2)\n",
    "    \n",
    "def _displayPrivateMembers(self):\n",
    "    print(\"Private Memeber Data: \", self.__var3)\n",
    "    \n",
    "def accessPrivateMembers(self):\n",
    "    self.__displayPrivateMembers()"
   ]
  },
  {
   "cell_type": "code",
   "execution_count": 34,
   "id": "3aa33b87",
   "metadata": {
    "scrolled": true
   },
   "outputs": [],
   "source": [
    "# derived class\n",
    "class Sub(Super):\n",
    "    #constructor\n",
    "    def __init__(self, var1, var2, var3):\n",
    "        Super.__init__(self,var1, var2, var3)\n",
    "    \n",
    "    #public member function\n",
    "    def accessProtectedMembers(self):\n",
    "        self.displayProtectedMembers()"
   ]
  },
  {
   "cell_type": "markdown",
   "id": "e7f97632",
   "metadata": {},
   "source": [
    "## another example"
   ]
  },
  {
   "cell_type": "code",
   "execution_count": 49,
   "id": "a29eda4a",
   "metadata": {},
   "outputs": [],
   "source": [
    "class Person:\n",
    "    def __init__(self, fname, lname):\n",
    "        self.fname = fname\n",
    "        self.lname = lname\n",
    "    def printname(self):\n",
    "        print(self.fname, self.lname)\n",
    "        \n",
    "class Actor1(Person):\n",
    "    def __init__(self, fname, lname):\n",
    "        \n",
    "        Person.__init__(self,fname, lname)\n",
    "        \n",
    "class Actor2(Person):\n",
    "    def __init__(self, fname, lname):\n",
    "        super(). __init__(fname, lname)   "
   ]
  },
  {
   "cell_type": "code",
   "execution_count": 50,
   "id": "75cb6543",
   "metadata": {},
   "outputs": [
    {
     "name": "stdout",
     "output_type": "stream",
     "text": [
      "james\n"
     ]
    }
   ],
   "source": [
    "y1 = Actor1(\"james\", \"Blandine\")\n",
    "print(y1.fname)"
   ]
  },
  {
   "cell_type": "code",
   "execution_count": 18,
   "id": "511e2fb6",
   "metadata": {},
   "outputs": [
    {
     "name": "stdout",
     "output_type": "stream",
     "text": [
      "james Blandine\n"
     ]
    }
   ],
   "source": [
    "y1.printname()"
   ]
  },
  {
   "cell_type": "markdown",
   "id": "fdf2aa59",
   "metadata": {},
   "source": [
    "#### Inheritance "
   ]
  },
  {
   "cell_type": "code",
   "execution_count": 45,
   "id": "294cc3a9",
   "metadata": {},
   "outputs": [],
   "source": [
    "class People:\n",
    "    def __int__(self, fname, lname):\n",
    "        self.fname = fname\n",
    "        self.lname = lname\n",
    "    def printname(self):\n",
    "        print(self.fname, self.lname)\n",
    "        \n",
    "class Student(People):\n",
    "    def __init__(self, fname, lname, year):\n",
    "        People.__init__(fname, lname)\n",
    "        \n",
    "        #new public memeber attribute\n",
    "        self.graduation_year = year\n",
    "    def welcome(self):\n",
    "        print(\"welcome\", self.fname, self.lname, \\\n",
    "               \"to ML and DS course\",self.graduation_year)\n",
    "   "
   ]
  },
  {
   "cell_type": "code",
   "execution_count": 46,
   "id": "7494690e",
   "metadata": {},
   "outputs": [],
   "source": [
    "c = Student(\"jerry\", \"aremu\", 2023)"
   ]
  },
  {
   "cell_type": "markdown",
   "id": "a6e3cbab",
   "metadata": {},
   "source": [
    "#### Polymorphism"
   ]
  },
  {
   "cell_type": "code",
   "execution_count": 61,
   "id": "31e25cdc",
   "metadata": {},
   "outputs": [
    {
     "name": "stdout",
     "output_type": "stream",
     "text": [
      "12\n",
      "9\n"
     ]
    }
   ],
   "source": [
    "# polymorhism\n",
    "def additional(x,y):\n",
    "    return x + y\n",
    "\n",
    "def additional(x,y,z = 0):\n",
    "    return x + y + z\n",
    "\n",
    "print(additional(7,5))\n",
    "print(additional(2,3,4))\n"
   ]
  },
  {
   "cell_type": "code",
   "execution_count": 64,
   "id": "d7db3a57",
   "metadata": {},
   "outputs": [],
   "source": [
    "class Finland:\n",
    "    def capital(self):\n",
    "        print(\"Helsinki is the capital of Finaland\")\n",
    "        \n",
    "    def language(self):\n",
    "        print(\"Suomi is the spoken language\")\n",
    "    \n",
    "    def type(self):\n",
    "        print(\"Finland is a developed country\")\n",
    "        \n",
    "        \n",
    "class USA:\n",
    "    def capital(self):\n",
    "        print(\"Washington is the capital of Finaland\")\n",
    "        \n",
    "    def language(self):\n",
    "        print(\"English is the spoken language\")\n",
    "    \n",
    "    def type(self):\n",
    "        print(\"USA is a developed country\")\n",
    "        \n",
    "obj_fi = Finland()\n",
    "\n",
    "obj_usa = USA()\n",
    "        \n",
    "        "
   ]
  },
  {
   "cell_type": "code",
   "execution_count": 65,
   "id": "9377226a",
   "metadata": {},
   "outputs": [
    {
     "name": "stdout",
     "output_type": "stream",
     "text": [
      "Washington is the capital of Finaland\n"
     ]
    }
   ],
   "source": [
    "obj_usa.capital()"
   ]
  },
  {
   "cell_type": "code",
   "execution_count": 66,
   "id": "b4669ff4",
   "metadata": {},
   "outputs": [
    {
     "name": "stdout",
     "output_type": "stream",
     "text": [
      "Helsinki is the capital of Finaland\n",
      "Suomi is the spoken language\n",
      "Finland is a developed country\n",
      "Washington is the capital of Finaland\n",
      "English is the spoken language\n",
      "USA is a developed country\n"
     ]
    }
   ],
   "source": [
    "for country in (obj_fi, obj_usa):\n",
    "    country.capital()\n",
    "    country.language()\n",
    "    country.type()\n",
    "    "
   ]
  },
  {
   "cell_type": "code",
   "execution_count": 68,
   "id": "21e87111",
   "metadata": {},
   "outputs": [],
   "source": [
    "class Bird:\n",
    "    def intro(self):\n",
    "        print(\"there are many types of bird.\")\n",
    "        \n",
    "    def flight(self):\n",
    "        print(\"Most of the bird can fly but some cannot\")\n",
    "        \n",
    "class sparrow(Bird):\n",
    "    def flight(self):\n",
    "        print(\"Sparrow cannot fly.\")\n",
    "        \n",
    "class ostritch(Bird):\n",
    "    def flight(self):\n",
    "        print(\"ostritch cannot fly.\")\n",
    "        \n",
    "        \n",
    "        \n",
    "obj_bird = Bird()\n",
    "obj_sparrow = sparrow()\n",
    "obj_ost = ostritch()\n",
    "        "
   ]
  },
  {
   "cell_type": "code",
   "execution_count": 69,
   "id": "cc22feea",
   "metadata": {},
   "outputs": [
    {
     "name": "stdout",
     "output_type": "stream",
     "text": [
      "there are many types of bird.\n"
     ]
    }
   ],
   "source": [
    "obj_sparrow.intro()"
   ]
  },
  {
   "cell_type": "code",
   "execution_count": 70,
   "id": "a330e3d3",
   "metadata": {},
   "outputs": [
    {
     "name": "stdout",
     "output_type": "stream",
     "text": [
      "Sparrow cannot fly.\n"
     ]
    }
   ],
   "source": [
    "obj_sparrow.flight()"
   ]
  },
  {
   "cell_type": "code",
   "execution_count": 71,
   "id": "04721300",
   "metadata": {},
   "outputs": [
    {
     "name": "stdout",
     "output_type": "stream",
     "text": [
      "Most of the bird can fly but some cannot\n"
     ]
    }
   ],
   "source": [
    "obj_bird.flight()"
   ]
  }
 ],
 "metadata": {
  "kernelspec": {
   "display_name": "Python 3 (ipykernel)",
   "language": "python",
   "name": "python3"
  },
  "language_info": {
   "codemirror_mode": {
    "name": "ipython",
    "version": 3
   },
   "file_extension": ".py",
   "mimetype": "text/x-python",
   "name": "python",
   "nbconvert_exporter": "python",
   "pygments_lexer": "ipython3",
   "version": "3.9.12"
  }
 },
 "nbformat": 4,
 "nbformat_minor": 5
}
