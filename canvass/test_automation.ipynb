{
 "cells": [
  {
   "cell_type": "code",
   "execution_count": 1,
   "id": "870e861d",
   "metadata": {},
   "outputs": [],
   "source": [
    "# import libraries\n",
    "import unittest\n",
    "import math\n",
    "#from my_sum import sum"
   ]
  },
  {
   "cell_type": "code",
   "execution_count": 4,
   "id": "e9637785",
   "metadata": {},
   "outputs": [
    {
     "name": "stdout",
     "output_type": "stream",
     "text": [
      "Everything passed\n"
     ]
    }
   ],
   "source": [
    "#simple assert manual unit tests\n",
    "def test_sum():\n",
    "    assert sum([1,2,3]) ==6, \"Should be 6\"\n",
    "    \n",
    "def test_sum_tuple():\n",
    "    assert sum((1,2,3)) ==6, \"Should be 6\"\n",
    "    \n",
    "if __name__ == \"__main__\":\n",
    "    test_sum()exit\n",
    "    test_sum_tuple()\n",
    "    print(\"Everything passed\")"
   ]
  },
  {
   "cell_type": "code",
   "execution_count": 9,
   "id": "8dd18155",
   "metadata": {},
   "outputs": [
    {
     "name": "stderr",
     "output_type": "stream",
     "text": [
      "E\n",
      "======================================================================\n",
      "ERROR: C:\\Users\\jerea\\AppData\\Roaming\\jupyter\\runtime\\kernel-9614f157-ca2b-4964-a895-d940ee022761 (unittest.loader._FailedTest)\n",
      "----------------------------------------------------------------------\n",
      "AttributeError: module '__main__' has no attribute 'C:\\Users\\jerea\\AppData\\Roaming\\jupyter\\runtime\\kernel-9614f157-ca2b-4964-a895-d940ee022761'\n",
      "\n",
      "----------------------------------------------------------------------\n",
      "Ran 1 test in 0.001s\n",
      "\n",
      "FAILED (errors=1)\n"
     ]
    },
    {
     "ename": "SystemExit",
     "evalue": "True",
     "output_type": "error",
     "traceback": [
      "An exception has occurred, use %tb to see the full traceback.\n",
      "\u001b[1;31mSystemExit\u001b[0m\u001b[1;31m:\u001b[0m True\n"
     ]
    },
    {
     "name": "stderr",
     "output_type": "stream",
     "text": [
      "C:\\Users\\jerea\\anaconda3\\lib\\site-packages\\IPython\\core\\interactiveshell.py:3377: UserWarning: To exit: use 'exit', 'quit', or Ctrl-D.\n",
      "  warn(\"To exit: use 'exit', 'quit', or Ctrl-D.\", stacklevel=1)\n"
     ]
    }
   ],
   "source": [
    "class Test_Sum(unittest.TestCase):\n",
    "    def test_sum_list(self):\n",
    "        data = [1,2,3]\n",
    "        result = sum (data)\n",
    "        self.assertEquaal(result, 6)\n",
    "        \n",
    "        \n",
    "    def test_sum_tuple(self):\n",
    "        data = (1,2,3)\n",
    "        result = sum(data)\n",
    "        self.assertEqual(result,6)\n",
    "if __name__ == \"__main__\":\n",
    "    unittest.main()"
   ]
  },
  {
   "cell_type": "code",
   "execution_count": 3,
   "id": "b426def2",
   "metadata": {},
   "outputs": [
    {
     "name": "stdout",
     "output_type": "stream",
     "text": [
      "Evrything passed\n"
     ]
    }
   ],
   "source": [
    "def test_sum():\n",
    "    assert sum([1,2,3])==6, \"Should be 6\"\n",
    "    \n",
    "def test_sum_tuple():\n",
    "    assert sum((1,2,3))==6, \"Should be 6\"\n",
    "    \n",
    "if __name__==\"__main__\":\n",
    "    test_sum()\n",
    "    test_sum_tuple()\n",
    "    print(\"Evrything passed\")"
   ]
  },
  {
   "cell_type": "code",
   "execution_count": 9,
   "id": "9882cd45",
   "metadata": {},
   "outputs": [],
   "source": [
    "def is_prime(num):\n",
    "    \"\"\"\n",
    "    Check if num is prime or not.\n",
    "    \"\"\"\n",
    "    #riase TypeError for invalid input type\n",
    "    if type(num) != int:\n",
    "        raise TypeError('num is of invalid type')\n",
    "    \n",
    "    #raise valueError for invalid input value\n",
    "    if num <0:\n",
    "        raise ValueError('Check the value of num;\\\n",
    "                        is num a non-negative integer?')\n",
    "    \n",
    "    #for valid input, proceed to check if num is prime\n",
    "    for i in range(2, int(math.sqrt(num))+1):\n",
    "        if num%i ==0:\n",
    "            return False\n",
    "    return True\n"
   ]
  },
  {
   "cell_type": "code",
   "execution_count": 12,
   "id": "dc46b17a",
   "metadata": {},
   "outputs": [
    {
     "ename": "ValueError",
     "evalue": "Check the value of num;                        is num a non-negative integer?",
     "output_type": "error",
     "traceback": [
      "\u001b[1;31m---------------------------------------------------------------------------\u001b[0m",
      "\u001b[1;31mValueError\u001b[0m                                Traceback (most recent call last)",
      "Input \u001b[1;32mIn [12]\u001b[0m, in \u001b[0;36m<cell line: 1>\u001b[1;34m()\u001b[0m\n\u001b[1;32m----> 1\u001b[0m \u001b[43mis_prime\u001b[49m\u001b[43m(\u001b[49m\u001b[38;5;241;43m-\u001b[39;49m\u001b[38;5;241;43m2\u001b[39;49m\u001b[43m)\u001b[49m\n",
      "Input \u001b[1;32mIn [9]\u001b[0m, in \u001b[0;36mis_prime\u001b[1;34m(num)\u001b[0m\n\u001b[0;32m      9\u001b[0m \u001b[38;5;66;03m#raise valueError for invalid input value\u001b[39;00m\n\u001b[0;32m     10\u001b[0m \u001b[38;5;28;01mif\u001b[39;00m num \u001b[38;5;241m<\u001b[39m\u001b[38;5;241m0\u001b[39m:\n\u001b[1;32m---> 11\u001b[0m     \u001b[38;5;28;01mraise\u001b[39;00m \u001b[38;5;167;01mValueError\u001b[39;00m(\u001b[38;5;124m'\u001b[39m\u001b[38;5;124mCheck the value of num;\u001b[39m\u001b[38;5;130;01m\\\u001b[39;00m\n\u001b[0;32m     12\u001b[0m \u001b[38;5;124m                    is num a non-negative integer?\u001b[39m\u001b[38;5;124m'\u001b[39m)\n\u001b[0;32m     14\u001b[0m \u001b[38;5;66;03m#for valid input, proceed to check if num is prime\u001b[39;00m\n\u001b[0;32m     15\u001b[0m \u001b[38;5;28;01mfor\u001b[39;00m i \u001b[38;5;129;01min\u001b[39;00m \u001b[38;5;28mrange\u001b[39m(\u001b[38;5;241m2\u001b[39m, \u001b[38;5;28mint\u001b[39m(math\u001b[38;5;241m.\u001b[39msqrt(num))\u001b[38;5;241m+\u001b[39m\u001b[38;5;241m1\u001b[39m):\n",
      "\u001b[1;31mValueError\u001b[0m: Check the value of num;                        is num a non-negative integer?"
     ]
    }
   ],
   "source": [
    "is_prime(-2)"
   ]
  },
  {
   "cell_type": "code",
   "execution_count": 1,
   "id": "ade80741",
   "metadata": {},
   "outputs": [],
   "source": [
    "import"
   ]
  },
  {
   "cell_type": "code",
   "execution_count": 9,
   "id": "6499f107",
   "metadata": {},
   "outputs": [
    {
     "name": "stdout",
     "output_type": "stream",
     "text": [
      "1\n",
      "4\n",
      "2\n",
      "3\n"
     ]
    },
    {
     "data": {
      "text/plain": [
       "[None, None, None, None]"
      ]
     },
     "execution_count": 9,
     "metadata": {},
     "output_type": "execute_result"
    }
   ],
   "source": [
    "[print(x) for x in k2]"
   ]
  },
  {
   "cell_type": "code",
   "execution_count": 15,
   "id": "b1b06cf5",
   "metadata": {},
   "outputs": [],
   "source": [
    "X = ['25','78', 'Inegrify', 'ML']\n"
   ]
  },
  {
   "cell_type": "code",
   "execution_count": 16,
   "id": "9ca0b886",
   "metadata": {},
   "outputs": [],
   "source": [
    "a = iter(X)"
   ]
  },
  {
   "cell_type": "code",
   "execution_count": 17,
   "id": "ba91f95d",
   "metadata": {},
   "outputs": [
    {
     "name": "stdout",
     "output_type": "stream",
     "text": [
      "<list_iterator object at 0x000001E94DFEE790>\n"
     ]
    }
   ],
   "source": [
    "print(a)"
   ]
  },
  {
   "cell_type": "code",
   "execution_count": 20,
   "id": "bd4e785f",
   "metadata": {},
   "outputs": [
    {
     "name": "stdout",
     "output_type": "stream",
     "text": [
      "Inegrify\n"
     ]
    }
   ],
   "source": [
    "print(next(a))"
   ]
  },
  {
   "cell_type": "code",
   "execution_count": 34,
   "id": "297d792a",
   "metadata": {},
   "outputs": [],
   "source": [
    "import numpy as np"
   ]
  },
  {
   "cell_type": "code",
   "execution_count": 35,
   "id": "158a08a4",
   "metadata": {},
   "outputs": [],
   "source": [
    "grade = [1,2,3,5,6,7]"
   ]
  },
  {
   "cell_type": "code",
   "execution_count": 37,
   "id": "3c2a41d4",
   "metadata": {},
   "outputs": [
    {
     "data": {
      "text/plain": [
       "array([[1],\n",
       "       [2],\n",
       "       [3],\n",
       "       [5],\n",
       "       [6],\n",
       "       [7]])"
      ]
     },
     "execution_count": 37,
     "metadata": {},
     "output_type": "execute_result"
    }
   ],
   "source": [
    "x = np.array(Studyhours).reshape((-1,1))\n",
    "x"
   ]
  },
  {
   "cell_type": "code",
   "execution_count": 38,
   "id": "fc3e8bfe",
   "metadata": {},
   "outputs": [],
   "source": [
    "y = np.array(grade)"
   ]
  },
  {
   "cell_type": "code",
   "execution_count": 39,
   "id": "fb3c6d22",
   "metadata": {},
   "outputs": [
    {
     "data": {
      "text/plain": [
       "array([1, 2, 3, 5, 6, 7])"
      ]
     },
     "execution_count": 39,
     "metadata": {},
     "output_type": "execute_result"
    }
   ],
   "source": [
    "y"
   ]
  },
  {
   "cell_type": "code",
   "execution_count": null,
   "id": "2f1c7afa",
   "metadata": {},
   "outputs": [],
   "source": []
  }
 ],
 "metadata": {
  "kernelspec": {
   "display_name": "Python 3 (ipykernel)",
   "language": "python",
   "name": "python3"
  },
  "language_info": {
   "codemirror_mode": {
    "name": "ipython",
    "version": 3
   },
   "file_extension": ".py",
   "mimetype": "text/x-python",
   "name": "python",
   "nbconvert_exporter": "python",
   "pygments_lexer": "ipython3",
   "version": "3.9.12"
  }
 },
 "nbformat": 4,
 "nbformat_minor": 5
}
