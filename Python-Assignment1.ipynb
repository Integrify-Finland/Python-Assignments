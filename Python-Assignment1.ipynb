{
 "cells": [
  {
   "cell_type": "markdown",
   "id": "a48d3104",
   "metadata": {},
   "source": [
    "1.Use the **constructor methods** to create different data types in python (integer,float,string,list,tuple,dictionary,set etc.). Also use **object literals** to create those data types."
   ]
  },
  {
   "cell_type": "code",
   "execution_count": 18,
   "id": "23f04861",
   "metadata": {},
   "outputs": [
    {
     "name": "stdout",
     "output_type": "stream",
     "text": [
      "float(interger) = 7.0\n",
      "int(float_num) = 5\n",
      "type(float_num) = <class 'float'> but type(str(float_num)) = <class 'str'>\n",
      "bool(string) = True\n",
      "list(dictionary) = [7, 5.34, 'Hello World'] and list(string) = ['H', 'e', 'l', 'l', 'o', ' ', 'W', 'o', 'r', 'l', 'd']\n",
      "tuple(dictionary) = (7, 5.34, 'Hello World') and tuple(string) = ('H', 'e', 'l', 'l', 'o', ' ', 'W', 'o', 'r', 'l', 'd')\n",
      "dict(int = integer, float = float_num, string = string) = {'int': 7, 'float': 5.34, 'string': 'Hello World'}\n",
      "set(dictionary) = {'Hello World', 5.34, 7} and set(string) = {'l', ' ', 'H', 'd', 'r', 'W', 'o', 'e'}\n"
     ]
    }
   ],
   "source": [
    "integer = 7\n",
    "float_num = 5.34\n",
    "string = \"Hello World\"\n",
    "boolean = True\n",
    "l = [integer, float_num, string]\n",
    "tup = (integer, float_num, string)\n",
    "dictionary = {integer: 1, float_num: 2, string: 3}\n",
    "s = {integer, float_num, string}\n",
    "\n",
    "#With the constructor methods change and create different data types.\n",
    "#The float() constructor turn the integer into a float.\n",
    "print(f'float(interger) = {float(integer)}')\n",
    "\n",
    "#The int() constructor turn the float into a integer.\n",
    "print(f'int(float_num) = {int(float_num)}')\n",
    "\n",
    "#The str() constructor turn the datatype into a string.\n",
    "print(f'type(float_num) = {type(float_num)} but type(str(float_num)) = {type(str(float_num))}')\n",
    "\n",
    "#The bool() constructor will return True if string, list, tuple ect. is not empty and i number is not 0.\n",
    "print(f'bool(string) = {bool(string)}')\n",
    "\n",
    "#The list() constructor will turn an interable object into a list.\n",
    "print(f'list(dictionary) = {list(dictionary)} and list(string) = {list(string)}')\n",
    "\n",
    "#The tuple() constructor will turn an interable object into a tuple.\n",
    "print(f'tuple(dictionary) = {tuple(dictionary)} and tuple(string) = {tuple(string)}')\n",
    "\n",
    "#The dict() constructor allows you to create a dictionary.\n",
    "print(f'dict(int = integer, float = float_num, string = string) = {dict(int = integer, float = float_num, string = string)}')\n",
    "\n",
    "#The set() constructor allows you to turn an interable into a set. A set is unordered and does not contain dublicates.\n",
    "print(f'set(dictionary) = {set(dictionary)} and set(string) = {set(string)}')\n"
   ]
  },
  {
   "cell_type": "markdown",
   "id": "e608472c",
   "metadata": {},
   "source": [
    "2.Operators in python https://www.w3schools.com/python/python_operators.asp\n",
    "\n",
    "3.Create two operands and play around using different operators"
   ]
  },
  {
   "cell_type": "code",
   "execution_count": 30,
   "id": "bbebf9d3",
   "metadata": {},
   "outputs": [
    {
     "name": "stdout",
     "output_type": "stream",
     "text": [
      "Using different arithmetic operators on a and b\n",
      "5 + 10 = 15\n",
      "5 - 10 = -5\n",
      "5 * 10 = 50\n",
      "5 / 10 = 0.5\n",
      "5 ** 10 = 9765625\n",
      "5 // 10 = 0\n",
      "5 % 10 = 5\n",
      "Using different comparison operators on a and b\n",
      "5 == 10 = False\n",
      "5 != 10 = True\n",
      "5 <= 10 = True\n",
      "5 >= 10 = False\n",
      "5 < 10 = True\n",
      "5 > 10 = False\n",
      "Using different logical operators on a and b\n",
      "7 > 5 and 7 > 10 = False\n",
      "7 > 5 or 7 > 10 = True\n",
      "not 5 > 10 = True\n",
      "Using identity operators on a and b\n",
      "5 is 10 = False\n",
      "5 is not 10 = True\n",
      "Using membership operators on a and b\n",
      "5 in [(5, 10)] = True\n",
      "5 not in [(5, 10)] = False\n"
     ]
    }
   ],
   "source": [
    "a = 5\n",
    "b = 10\n",
    "print('Using different arithmetic operators on a and b')\n",
    "print(f'{a} + {b} = {a+b}')\n",
    "print(f'{a} - {b} = {a-b}')\n",
    "print(f'{a} * {b} = {a*b}')\n",
    "print(f'{a} / {b} = {a/b}')\n",
    "print(f'{a} ** {b} = {a**b}')\n",
    "print(f'{a} // {b} = {a//b}')\n",
    "print(f'{a} % {b} = {a%b}')\n",
    "\n",
    "print('Using different comparison operators on a and b')\n",
    "print(f'{a} == {b} = {a == b}')\n",
    "print(f'{a} != {b} = {a != b}')\n",
    "print(f'{a} <= {b} = {a <= b}')\n",
    "print(f'{a} >= {b} = {a >= b}')\n",
    "print(f'{a} < {b} = {a < b}')\n",
    "print(f'{a} > {b} = {a > b}')\n",
    "\n",
    "print('Using different logical operators on a and b')\n",
    "print(f'7 > {a} and 7 > {b} = {7 > a and 7 > b}')\n",
    "print(f'7 > {a} or 7 > {b} = {7 > a or 7 > b}')\n",
    "print(f'not {a} > {b} = {not a > b}')\n",
    "\n",
    "print('Using identity operators on a and b')\n",
    "print(f'{a} is {b} = {a is b}')\n",
    "print(f'{a} is not {b} = {a is not b}')\n",
    "\n",
    "print('Using membership operators on a and b')\n",
    "print(f'{a} in [{a, b}] = {a in [a, b]}')\n",
    "print(f'{a} not in [{a, b}] = {a not in [a, b]}')\n"
   ]
  },
  {
   "cell_type": "markdown",
   "id": "4109a14b",
   "metadata": {},
   "source": [
    "4.Once you create an object of each data type, run dir(object). Navigate the magic methods/dunder methods and other methods and attributes of each object. Try to implement those methods and attributes as many as possible."
   ]
  },
  {
   "cell_type": "code",
   "execution_count": 173,
   "id": "59079ffe",
   "metadata": {},
   "outputs": [
    {
     "name": "stdout",
     "output_type": "stream",
     "text": [
      "<class 'int'>\n",
      "['__abs__', '__add__', '__and__', '__bool__', '__ceil__', '__class__', '__delattr__', '__dir__', '__divmod__', '__doc__', '__eq__', '__float__', '__floor__', '__floordiv__', '__format__', '__ge__', '__getattribute__', '__getnewargs__', '__getstate__', '__gt__', '__hash__', '__index__', '__init__', '__init_subclass__', '__int__', '__invert__', '__le__', '__lshift__', '__lt__', '__mod__', '__mul__', '__ne__', '__neg__', '__new__', '__or__', '__pos__', '__pow__', '__radd__', '__rand__', '__rdivmod__', '__reduce__', '__reduce_ex__', '__repr__', '__rfloordiv__', '__rlshift__', '__rmod__', '__rmul__', '__ror__', '__round__', '__rpow__', '__rrshift__', '__rshift__', '__rsub__', '__rtruediv__', '__rxor__', '__setattr__', '__sizeof__', '__str__', '__sub__', '__subclasshook__', '__truediv__', '__trunc__', '__xor__', 'as_integer_ratio', 'bit_count', 'bit_length', 'conjugate', 'denominator', 'from_bytes', 'imag', 'numerator', 'real', 'to_bytes']\n",
      "(-5).__abs__() = 5\n",
      "(-5).__add__(7) = 2\n",
      "(-5).__float__() = -5.0\n",
      "(-5).__pow__(3) = -125\n",
      "(-5).__sub__(7) = -12\n",
      "(-5).__truediv__(2) = -2.5\n",
      "(-5).__floordiv__(2) = -3\n",
      "(-5).__bool__() = True\n"
     ]
    }
   ],
   "source": [
    "num = -5\n",
    "print(type(num))\n",
    "print(dir(num))\n",
    "{num}\n",
    "\n",
    "#Implementing some magic and dunder methods on datatype integer.\n",
    "print(f'({num}).__abs__() = {num.__abs__()}')\n",
    "print(f'({num}).__add__(7) = {num.__add__(7)}')\n",
    "print(f'({num}).__float__() = {num.__float__()}')\n",
    "print(f'({num}).__pow__(3) = {num.__pow__(3)}')\n",
    "print(f'({num}).__sub__(7) = {num.__sub__(7)}')\n",
    "print(f'({num}).__truediv__(2) = {num.__truediv__(2)}')\n",
    "print(f'({num}).__floordiv__(2) = {num.__floordiv__(2)}')\n",
    "print(f'({num}).__bool__() = {num.__bool__()}')"
   ]
  },
  {
   "cell_type": "code",
   "execution_count": 172,
   "id": "07351c38",
   "metadata": {},
   "outputs": [
    {
     "name": "stdout",
     "output_type": "stream",
     "text": [
      "<class 'float'>\n",
      "['__abs__', '__add__', '__bool__', '__ceil__', '__class__', '__delattr__', '__dir__', '__divmod__', '__doc__', '__eq__', '__float__', '__floor__', '__floordiv__', '__format__', '__ge__', '__getattribute__', '__getformat__', '__getnewargs__', '__getstate__', '__gt__', '__hash__', '__init__', '__init_subclass__', '__int__', '__le__', '__lt__', '__mod__', '__mul__', '__ne__', '__neg__', '__new__', '__pos__', '__pow__', '__radd__', '__rdivmod__', '__reduce__', '__reduce_ex__', '__repr__', '__rfloordiv__', '__rmod__', '__rmul__', '__round__', '__rpow__', '__rsub__', '__rtruediv__', '__setattr__', '__sizeof__', '__str__', '__sub__', '__subclasshook__', '__truediv__', '__trunc__', 'as_integer_ratio', 'conjugate', 'fromhex', 'hex', 'imag', 'is_integer', 'real']\n",
      "(5.5).__bool__() = True\n",
      "(5.5).__ceil__() = 6\n",
      "(5.5).__floor__() = 5\n",
      "(5.5).__round__() = 6\n",
      "(5.5).__divmod__(2) = (2.0, 1.5)\n",
      "(5.5).__truediv__(4) = 1.375\n",
      "(5.5).__floordiv__(4) = 1.0\n"
     ]
    }
   ],
   "source": [
    "float_num = 5.5\n",
    "print(type(float_num))\n",
    "print(dir(float_num))\n",
    "\n",
    "#Implementing some magic and dunder methods on datatype float.\n",
    "print(f'({float_num}).__bool__() = {float_num.__bool__()}')\n",
    "print(f'({float_num}).__ceil__() = {float_num.__ceil__()}')\n",
    "print(f'({float_num}).__floor__() = {float_num.__floor__()}')\n",
    "print(f'({float_num}).__round__() = {float_num.__round__()}')\n",
    "print(f'({float_num}).__divmod__(2) = {float_num.__divmod__(2)}')\n",
    "print(f'({float_num}).__truediv__(4) = {float_num.__truediv__(4)}')\n",
    "print(f'({float_num}).__floordiv__(4) = {float_num.__floordiv__(4)}')"
   ]
  },
  {
   "cell_type": "code",
   "execution_count": 171,
   "id": "7b2b98a7",
   "metadata": {},
   "outputs": [
    {
     "name": "stdout",
     "output_type": "stream",
     "text": [
      "<class 'str'>\n",
      "['__add__', '__class__', '__contains__', '__delattr__', '__dir__', '__doc__', '__eq__', '__format__', '__ge__', '__getattribute__', '__getitem__', '__getnewargs__', '__getstate__', '__gt__', '__hash__', '__init__', '__init_subclass__', '__iter__', '__le__', '__len__', '__lt__', '__mod__', '__mul__', '__ne__', '__new__', '__reduce__', '__reduce_ex__', '__repr__', '__rmod__', '__rmul__', '__setattr__', '__sizeof__', '__str__', '__subclasshook__', 'capitalize', 'casefold', 'center', 'count', 'encode', 'endswith', 'expandtabs', 'find', 'format', 'format_map', 'index', 'isalnum', 'isalpha', 'isascii', 'isdecimal', 'isdigit', 'isidentifier', 'islower', 'isnumeric', 'isprintable', 'isspace', 'istitle', 'isupper', 'join', 'ljust', 'lower', 'lstrip', 'maketrans', 'partition', 'removeprefix', 'removesuffix', 'replace', 'rfind', 'rindex', 'rjust', 'rpartition', 'rsplit', 'rstrip', 'split', 'splitlines', 'startswith', 'strip', 'swapcase', 'title', 'translate', 'upper', 'zfill']\n",
      "(Hello World).__add__(\"bob\") = Hello Worldbob\n",
      "(Hello World).__len__() = 11\n",
      "(Hello World).__getitem__(6) = W\n"
     ]
    }
   ],
   "source": [
    "string = 'Hello World'\n",
    "print(type(string))\n",
    "print(dir(string))\n",
    "\n",
    "#Implementing some magic and dunder methods on datatype string.\n",
    "print(f'({string}).__add__(\"bob\") = {string.__add__(\"bob\")}')\n",
    "print(f'({string}).__len__() = {string.__len__()}')\n",
    "print(f'({string}).__getitem__(6) = {string.__getitem__(6)}')"
   ]
  },
  {
   "cell_type": "code",
   "execution_count": 170,
   "id": "10df5642",
   "metadata": {},
   "outputs": [
    {
     "name": "stdout",
     "output_type": "stream",
     "text": [
      "<class 'list'>\n",
      "['__add__', '__class__', '__class_getitem__', '__contains__', '__delattr__', '__delitem__', '__dir__', '__doc__', '__eq__', '__format__', '__ge__', '__getattribute__', '__getitem__', '__getstate__', '__gt__', '__hash__', '__iadd__', '__imul__', '__init__', '__init_subclass__', '__iter__', '__le__', '__len__', '__lt__', '__mul__', '__ne__', '__new__', '__reduce__', '__reduce_ex__', '__repr__', '__reversed__', '__rmul__', '__setattr__', '__setitem__', '__sizeof__', '__str__', '__subclasshook__', 'append', 'clear', 'copy', 'count', 'extend', 'index', 'insert', 'pop', 'remove', 'reverse', 'sort']\n",
      "([3, 6.6, 'Hey', True]).__add__([6,2]) = [3, 6.6, 'Hey', True, 6, 2]\n",
      "([3, 6.6, 'Hey', True]).__contains__([\"bob\"]) = False\n",
      "([3, 6.6, 'Hey', True]).__len__() = 4\n"
     ]
    }
   ],
   "source": [
    "l = [3, 6.6, 'Hey', True]\n",
    "print(type(l))\n",
    "print(dir(l))\n",
    "\n",
    "#Implementing some magic and dunder methods on datatype list.\n",
    "print(f'({l}).__add__([6,2]) = {l.__add__([6,2])}')\n",
    "print(f'({l}).__contains__([\"bob\"]) = {l.__contains__([\"bob\"])}')\n",
    "print(f'({l}).__len__() = {l.__len__()}')"
   ]
  },
  {
   "cell_type": "code",
   "execution_count": 169,
   "id": "9a0c9c17",
   "metadata": {},
   "outputs": [
    {
     "name": "stdout",
     "output_type": "stream",
     "text": [
      "<class 'tuple'>\n",
      "['__add__', '__class__', '__class_getitem__', '__contains__', '__delattr__', '__dir__', '__doc__', '__eq__', '__format__', '__ge__', '__getattribute__', '__getitem__', '__getnewargs__', '__getstate__', '__gt__', '__hash__', '__init__', '__init_subclass__', '__iter__', '__le__', '__len__', '__lt__', '__mul__', '__ne__', '__new__', '__reduce__', '__reduce_ex__', '__repr__', '__rmul__', '__setattr__', '__sizeof__', '__str__', '__subclasshook__', 'count', 'index']\n",
      "((3, 6.6, 'Hey', True)).__add__((6,2)) = (3, 6.6, 'Hey', True, 6, 2)\n",
      "((3, 6.6, 'Hey', True)).__contains__((3)) = True\n",
      "((3, 6.6, 'Hey', True)).__len__() = 4\n"
     ]
    }
   ],
   "source": [
    "tup = (3, 6.6, 'Hey', True)\n",
    "print(type(tup))\n",
    "print(dir(tup))\n",
    "\n",
    "#Implementing some magic and dunder methods on datatype tuple.\n",
    "print(f'({tup}).__add__((6,2)) = {tup.__add__((6,2))}')\n",
    "print(f'({tup}).__contains__((3)) = {tup.__contains__((3))}')\n",
    "print(f'({tup}).__len__() = {tup.__len__()}')"
   ]
  },
  {
   "cell_type": "code",
   "execution_count": 167,
   "id": "21f29524",
   "metadata": {},
   "outputs": [
    {
     "name": "stdout",
     "output_type": "stream",
     "text": [
      "<class 'set'>\n",
      "['__and__', '__class__', '__class_getitem__', '__contains__', '__delattr__', '__dir__', '__doc__', '__eq__', '__format__', '__ge__', '__getattribute__', '__getstate__', '__gt__', '__hash__', '__iand__', '__init__', '__init_subclass__', '__ior__', '__isub__', '__iter__', '__ixor__', '__le__', '__len__', '__lt__', '__ne__', '__new__', '__or__', '__rand__', '__reduce__', '__reduce_ex__', '__repr__', '__ror__', '__rsub__', '__rxor__', '__setattr__', '__sizeof__', '__str__', '__sub__', '__subclasshook__', '__xor__', 'add', 'clear', 'copy', 'difference', 'difference_update', 'discard', 'intersection', 'intersection_update', 'isdisjoint', 'issubset', 'issuperset', 'pop', 'remove', 'symmetric_difference', 'symmetric_difference_update', 'union', 'update']\n",
      "({True, 'Hey', 3, 6.6}).__contains__(\"hey\") = True\n",
      "({True, 'Hey', 3, 6.6}).__len__() = 4\n",
      "({True, 'Hey', 3, 6.6}).__getattribute__(\"copy\") = <built-in method copy of set object at 0x1145a5c40>\n"
     ]
    }
   ],
   "source": [
    "s = {3, 6.6, 'Hey', True}\n",
    "print(type(s))\n",
    "print(dir(s))\n",
    "\n",
    "#Implementing some magic and dunder methods on datatype set.\n",
    "print(f'({s}).__contains__(\"hey\") = {s.__contains__(\"Hey\")}')\n",
    "print(f'({s}).__len__() = {s.__len__()}')\n",
    "print(f'({s}).__getattribute__(\"copy\") = {s.__getattribute__(\"copy\")}')"
   ]
  },
  {
   "cell_type": "code",
   "execution_count": 168,
   "id": "ac05663e",
   "metadata": {},
   "outputs": [
    {
     "name": "stdout",
     "output_type": "stream",
     "text": [
      "<class 'dict'>\n",
      "['__class__', '__class_getitem__', '__contains__', '__delattr__', '__delitem__', '__dir__', '__doc__', '__eq__', '__format__', '__ge__', '__getattribute__', '__getitem__', '__getstate__', '__gt__', '__hash__', '__init__', '__init_subclass__', '__ior__', '__iter__', '__le__', '__len__', '__lt__', '__ne__', '__new__', '__or__', '__reduce__', '__reduce_ex__', '__repr__', '__reversed__', '__ror__', '__setattr__', '__setitem__', '__sizeof__', '__str__', '__subclasshook__', 'clear', 'copy', 'fromkeys', 'get', 'items', 'keys', 'pop', 'popitem', 'setdefault', 'update', 'values']\n",
      "({'tom': 1, 'john': 2, 'bob': 3}).__contains__(\"tom\") = True\n",
      "({'tom': 1, 'john': 2, 'bob': 3}).__getitem__(\"john\") = 2\n",
      "({'tom': 1, 'john': 2, 'bob': 3}).__len__() = 3\n",
      "({'tom': 1, 'john': 2, 'bob': 3}).__delitem__(\"tom\") = None\n",
      "{'john': 2, 'bob': 3}\n"
     ]
    }
   ],
   "source": [
    "di = dict(tom = 1, john = 2, bob = 3)\n",
    "print(type(di))\n",
    "print(dir(di))\n",
    "\n",
    "#Implementing some magic and dunder methods on datatype dict.\n",
    "print(f'({di}).__contains__(\"tom\") = {di.__contains__(\"tom\")}')\n",
    "print(f'({di}).__getitem__(\"john\") = {di.__getitem__(\"john\")}')\n",
    "print(f'({di}).__len__() = {di.__len__()}')\n",
    "print(f'({di}).__delitem__(\"tom\") = {di.__delitem__(\"tom\")}')\n",
    "print(di)"
   ]
  },
  {
   "cell_type": "markdown",
   "id": "99f9a670",
   "metadata": {},
   "source": [
    "Learn different ways to format the string."
   ]
  },
  {
   "cell_type": "code",
   "execution_count": 182,
   "id": "c06557e7",
   "metadata": {},
   "outputs": [
    {
     "name": "stdout",
     "output_type": "stream",
     "text": [
      "Hello my name is Christian, I play football 2 times a week\n",
      "Hello my name is Christian, I play football 2 times a week\n",
      "Hey, 5 / 2.95 = don't know :/\n",
      "The third number in the alphabet is c, the first is a and the fifth is e\n"
     ]
    }
   ],
   "source": [
    "#Have used f-string in the above tasks.\n",
    "#Using the string .format() method\n",
    "print(\"Hello my name is {}, I play {} {} times a week\".format(\"Christian\", \"football\", \"2\"))\n",
    "print(\"Hello my name is {name}, I play {sport} {times} times a week\".format(sport = \"football\", times = \"2\", name = \"Christian\"))\n",
    "print(\"Hey, %d / %.2f = %s\"%(5, 2.9525, \"don't know :/\"))\n",
    "print(\"The third number in the alphabet is {2}, the first is {0} and the fifth is {4}\".format(\"a\", \"b\", \"c\", \"d\", \"e\"))"
   ]
  },
  {
   "cell_type": "markdown",
   "id": "99e59aa3",
   "metadata": {},
   "source": [
    "Familiarize yourself with indexing in python.Iterables can be accessed using index values in python. Eg: list, tuple,dict, set"
   ]
  },
  {
   "cell_type": "code",
   "execution_count": 183,
   "id": "70bec565",
   "metadata": {},
   "outputs": [
    {
     "name": "stdout",
     "output_type": "stream",
     "text": [
      "1\n"
     ]
    }
   ],
   "source": [
    "#List of countries:\n",
    "countries= [\"Finland\",\"Sweden\",\"Denmark\",\"Netherlands\",\"Germany\",\"Norway\",\"Iceland\"]\n",
    "\n",
    "#Finding index of Sweden\n",
    "print(countries.index(\"Sweden\"))"
   ]
  },
  {
   "cell_type": "code",
   "execution_count": 184,
   "id": "6e7784a6",
   "metadata": {},
   "outputs": [
    {
     "name": "stdout",
     "output_type": "stream",
     "text": [
      "['Sweden', 'Denmark', 'Netherlands', 'Germany', 'Norway', 'Iceland']\n"
     ]
    }
   ],
   "source": [
    "#Get all the items except the first\n",
    "print(countries[1:])"
   ]
  },
  {
   "cell_type": "code",
   "execution_count": 185,
   "id": "1676184e",
   "metadata": {},
   "outputs": [
    {
     "name": "stdout",
     "output_type": "stream",
     "text": [
      "['Finland', 'Sweden', 'Denmark', 'Netherlands', 'Germany', 'Norway']\n"
     ]
    }
   ],
   "source": [
    "#Get all the items except the last\n",
    "print(countries[:-1])"
   ]
  },
  {
   "cell_type": "code",
   "execution_count": 186,
   "id": "4d6c1c22",
   "metadata": {},
   "outputs": [
    {
     "name": "stdout",
     "output_type": "stream",
     "text": [
      "Iceland\n"
     ]
    }
   ],
   "source": [
    "#Find the last item using negative indexing\n",
    "print(countries[-1])"
   ]
  },
  {
   "cell_type": "code",
   "execution_count": 187,
   "id": "ea46fdd9",
   "metadata": {},
   "outputs": [
    {
     "name": "stdout",
     "output_type": "stream",
     "text": [
      "['Germany', 'Norway', 'Iceland']\n"
     ]
    }
   ],
   "source": [
    "#Find the last three item using negative indexing\n",
    "print(countries[-3:])"
   ]
  },
  {
   "cell_type": "code",
   "execution_count": 196,
   "id": "df947552",
   "metadata": {},
   "outputs": [
    {
     "name": "stdout",
     "output_type": "stream",
     "text": [
      "['Sweden', 'Netherlands', 'Norway']\n"
     ]
    }
   ],
   "source": [
    "#Grab all the items with odd indices\n",
    "print(countries[1::2])"
   ]
  },
  {
   "cell_type": "code",
   "execution_count": 197,
   "id": "d9648447",
   "metadata": {},
   "outputs": [
    {
     "name": "stdout",
     "output_type": "stream",
     "text": [
      "Finland Iceland\n",
      "['Finland', 'Iceland']\n",
      "['Finland', 'Iceland']\n"
     ]
    }
   ],
   "source": [
    "#Find the first and last item for the list\n",
    "print(countries[0], countries[-1])\n",
    "print(countries[::len(countries)-1])\n",
    "print([countries[i] for i in [0,-1]])"
   ]
  },
  {
   "cell_type": "code",
   "execution_count": 200,
   "id": "d4220fd8",
   "metadata": {},
   "outputs": [
    {
     "name": "stdout",
     "output_type": "stream",
     "text": [
      "['Netherlands', 'Germany', 'Norway']\n"
     ]
    }
   ],
   "source": [
    "#Get [\"Netherlands\",\"Germany\",\"Norway\"] using negative indexing\n",
    "print(countries[-4:-1])"
   ]
  },
  {
   "cell_type": "code",
   "execution_count": 201,
   "id": "16a2ff85",
   "metadata": {},
   "outputs": [
    {
     "name": "stdout",
     "output_type": "stream",
     "text": [
      "['Iceland', 'Norway', 'Germany', 'Netherlands', 'Denmark', 'Sweden', 'Finland']\n"
     ]
    }
   ],
   "source": [
    "#Reverse the list\n",
    "print(countries[::-1])"
   ]
  },
  {
   "cell_type": "code",
   "execution_count": 202,
   "id": "6d87294a",
   "metadata": {},
   "outputs": [
    {
     "name": "stdout",
     "output_type": "stream",
     "text": [
      "['Iceland', 'Germany', 'Denmark', 'Finland']\n"
     ]
    }
   ],
   "source": [
    "#What is the output of countries[::-2]\n",
    "print(countries[::-2])\n",
    "#It reverse the list because of - and takes every other item in the list."
   ]
  },
  {
   "cell_type": "code",
   "execution_count": 204,
   "id": "6d0186ef",
   "metadata": {},
   "outputs": [
    {
     "name": "stdout",
     "output_type": "stream",
     "text": [
      "['Sweden', 'Netherlands', 'Norway']\n"
     ]
    }
   ],
   "source": [
    "#What is the output of countries[1💯2]? You mean [1::2]?\n",
    "print(countries[1::2])\n",
    "#It grabs all items with odd indices. Same as above."
   ]
  },
  {
   "cell_type": "code",
   "execution_count": 205,
   "id": "412e41d6",
   "metadata": {},
   "outputs": [
    {
     "name": "stdout",
     "output_type": "stream",
     "text": [
      "[]\n"
     ]
    }
   ],
   "source": [
    "#What is the output of countries[len(countries)-1:0:2]?\n",
    "print(countries[len(countries)-1:0:2])\n",
    "#Returns empty list as it starts from last index and only take every other item."
   ]
  },
  {
   "cell_type": "code",
   "execution_count": 209,
   "id": "e2e4eb7c",
   "metadata": {},
   "outputs": [
    {
     "name": "stdout",
     "output_type": "stream",
     "text": [
      "['Germany', 'Netherlands', 'Denmark']\n"
     ]
    }
   ],
   "source": [
    "#Get the output ['Germany', 'Netherlands', 'Denmark']\n",
    "print(countries[-3:-6:-1])"
   ]
  },
  {
   "cell_type": "code",
   "execution_count": 215,
   "id": "4b031bf0",
   "metadata": {},
   "outputs": [
    {
     "name": "stdout",
     "output_type": "stream",
     "text": [
      "{0: 'Finland', 1: 'Sweden', 2: 'Denmark', 3: 'Netherlands', 4: 'Germany', 5: 'Norway', 6: 'Iceland'}\n"
     ]
    }
   ],
   "source": [
    "#Use enumerate method to get index and values in the list\n",
    "dic = dict(enumerate(countries))\n",
    "print(dic)"
   ]
  },
  {
   "cell_type": "markdown",
   "id": "fd215635",
   "metadata": {},
   "source": [
    "Exercises on dictionaries\n",
    "Given the two lists of same length, create a dictionary using a list as keys and another list as values without using loop"
   ]
  },
  {
   "cell_type": "code",
   "execution_count": 217,
   "id": "cbbe1427",
   "metadata": {},
   "outputs": [
    {
     "name": "stdout",
     "output_type": "stream",
     "text": [
      "[0, 1, 2, 3, 4, 5, 6]\n",
      "['Finland', 'Sweden', 'Denmark', 'Netherlands', 'Germany', 'Norway', 'Iceland']\n"
     ]
    }
   ],
   "source": [
    "#First I split my country dictionary into lists.\n",
    "keys = list(dic.keys())\n",
    "values = list(dic.values())\n",
    "print(keys)\n",
    "print(values)"
   ]
  },
  {
   "cell_type": "code",
   "execution_count": 218,
   "id": "e2f2d086",
   "metadata": {},
   "outputs": [
    {
     "name": "stdout",
     "output_type": "stream",
     "text": [
      "{0: 'Finland', 1: 'Sweden', 2: 'Denmark', 3: 'Netherlands', 4: 'Germany', 5: 'Norway', 6: 'Iceland'}\n"
     ]
    }
   ],
   "source": [
    "#Now I'll create the same dict again.\n",
    "country_dict = dict(zip(keys, values))\n",
    "print(country_dict)"
   ]
  },
  {
   "cell_type": "code",
   "execution_count": 221,
   "id": "f7f8af79",
   "metadata": {},
   "outputs": [
    {
     "name": "stdout",
     "output_type": "stream",
     "text": [
      "{'Duy': ['Python', 'Database', 'ML'], 'Laxmi': ['Python', 'Database', 'ML'], 'Antonio': ['Python', 'Database', 'ML'], 'Maria': ['Python', 'Database', 'ML']}\n"
     ]
    }
   ],
   "source": [
    "#Given the list of students, assign them the course.\n",
    "Students=[\"Duy\", \"Laxmi\",\"Antonio\",\"Maria\"]\n",
    "Course = [\"Python\",\"Database\",\"ML\"]\n",
    "student_dict = dict([(student, Course) for student in Students])\n",
    "print(student_dict)"
   ]
  },
  {
   "cell_type": "code",
   "execution_count": 227,
   "id": "f71b7b0d",
   "metadata": {},
   "outputs": [
    {
     "name": "stdout",
     "output_type": "stream",
     "text": [
      "['JavaScript', 'Database', 'NodeJS']\n"
     ]
    }
   ],
   "source": [
    "#Modify Antonio's course to [\"JavaScript\",\"Database\",\"NodeJS\"]\n",
    "student_dict['Antonio'] = [\"JavaScript\",\"Database\",\"NodeJS\"]\n",
    "print(student_dict['Antonio'])"
   ]
  },
  {
   "cell_type": "code",
   "execution_count": 228,
   "id": "cc48e586",
   "metadata": {},
   "outputs": [
    {
     "name": "stdout",
     "output_type": "stream",
     "text": [
      "['JavaScript', 'Database', 'NodeJS', 'ReactJs']\n"
     ]
    }
   ],
   "source": [
    "#Add \"ReactJs\" to Anonio's course\n",
    "student_dict['Antonio'] += [\"ReactJs\"]\n",
    "print(student_dict['Antonio'])"
   ]
  },
  {
   "cell_type": "code",
   "execution_count": 231,
   "id": "19fe89e1",
   "metadata": {},
   "outputs": [
    {
     "name": "stdout",
     "output_type": "stream",
     "text": [
      "['JavaScript', 'Database', 'NodeJS', 'Vuejs']\n"
     ]
    }
   ],
   "source": [
    "#Replace Antonio's \"ReactJs\" to \"Vuejs\"\n",
    "student_dict['Antonio'][-1] = \"Vuejs\"\n",
    "print(student_dict['Antonio'])"
   ]
  },
  {
   "cell_type": "code",
   "execution_count": 233,
   "id": "aee54d8d",
   "metadata": {},
   "outputs": [
    {
     "name": "stdout",
     "output_type": "stream",
     "text": [
      "{'Laxmi': ['Python', 'Database', 'ML'], 'Antonio': ['JavaScript', 'Database', 'NodeJS', 'Vuejs'], 'Maria': ['Python', 'Database', 'ML']}\n"
     ]
    }
   ],
   "source": [
    "#Remove an item from dictionary\n",
    "student_dict.pop(\"Duy\")\n",
    "print(student_dict)"
   ]
  },
  {
   "cell_type": "code",
   "execution_count": null,
   "id": "261fb151",
   "metadata": {},
   "outputs": [],
   "source": []
  }
 ],
 "metadata": {
  "kernelspec": {
   "display_name": "Python 3 (ipykernel)",
   "language": "python",
   "name": "python3"
  },
  "language_info": {
   "codemirror_mode": {
    "name": "ipython",
    "version": 3
   },
   "file_extension": ".py",
   "mimetype": "text/x-python",
   "name": "python",
   "nbconvert_exporter": "python",
   "pygments_lexer": "ipython3",
   "version": "3.11.2"
  }
 },
 "nbformat": 4,
 "nbformat_minor": 5
}
