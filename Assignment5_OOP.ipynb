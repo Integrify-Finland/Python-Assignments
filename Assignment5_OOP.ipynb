{
 "cells": [
  {
   "cell_type": "markdown",
   "id": "fc6df03e",
   "metadata": {},
   "source": [
    "# 1 OOP"
   ]
  },
  {
   "cell_type": "markdown",
   "id": "96c36603",
   "metadata": {},
   "source": [
    "2.Everything in python is class and object. Let's verify that. Run the following code:"
   ]
  },
  {
   "cell_type": "code",
   "execution_count": 5,
   "id": "e2d1fdd1",
   "metadata": {},
   "outputs": [
    {
     "name": "stdout",
     "output_type": "stream",
     "text": [
      "<class 'int'> <class 'str'>\n",
      "<class 'type'>\n",
      "<class 'type'>\n",
      "<class 'type'>\n",
      "<class 'type'>\n",
      "<class 'type'>\n",
      "<class 'builtin_function_or_method'>\n",
      "<class 'function'>\n",
      "<class 'type'>\n",
      "\n",
      "<class 'int'>\n",
      "<class 'str'>\n",
      "<class 'tuple'>\n",
      "<class 'dict'>\n",
      "<class 'list'>\n",
      "<class 'NoneType'>\n",
      "<class 'NoneType'>\n",
      "<class '__main__.Someclass'>\n"
     ]
    }
   ],
   "source": [
    "#step a\n",
    "a = 5\n",
    "b= \"some string\"\n",
    "print(type(a), type(b))\n",
    "\n",
    "def someFunction():\n",
    "    return\n",
    "\n",
    "class Someclass:\n",
    "    pass\n",
    "\n",
    "someList = [int, str, tuple, dict, list, print, someFunction, Someclass]\n",
    "for item in someList:\n",
    "    print(type(item))\n",
    "    \n",
    "#step b\n",
    "anotherList= [int(), str(), tuple(), dict(), list(), print(), someFunction(), Someclass()]\n",
    "for item in anotherList:\n",
    "    print(type(item))\n",
    "    \n",
    "  ## Compare the result of step a and step b\n",
    "   "
   ]
  },
  {
   "cell_type": "markdown",
   "id": "eb8aa7fa",
   "metadata": {},
   "source": [
    "Create two classes Pet and Dog 1. Requirements for Pet class\n",
    "Three class attributes pet_population , pet_instance and current_year\n",
    "Init constructor __init__(self,name,category,age), name is name of pet,category could be dog,cat,bird etc. and age is age of pet\n",
    "An instance method hellofrompet that prints hello from petname\n",
    "Create a class method timepassedby which takes years as argumentshould automatically increase the age of all the pet object as soon as the method is applied\n",
    "pet_population should show the number of pets created and pet_instance is the list of pet object 1. Requirements for Dog class 1. Dog class should inherit Pet class attributes and methods. Apart from that the init constructor takes addition \"breed\" argument 2. Define the instance method barks which displays the breed does woof woof.\n",
    "\n",
    "Validate your code: Run the following piece of code"
   ]
  },
  {
   "cell_type": "code",
   "execution_count": 1,
   "id": "8a8b0a32",
   "metadata": {},
   "outputs": [],
   "source": [
    "class Pet:\n",
    "    pet_population = 0\n",
    "    pet_instance = []\n",
    "    current_year = 2023\n",
    "    \n",
    "    def __init__ (self, name, category, age):\n",
    "        self.name = name\n",
    "        self.category = category\n",
    "        self.age = age\n",
    "        Pet.pet_population += 1\n",
    "        Pet.pet_instance.append(self)\n",
    "    \n",
    "    \n",
    "    def hellofrompet(self):\n",
    "        print(f\"Hello from {self.name}!\")\n",
    "        \n",
    "        \n",
    "    @classmethod\n",
    "    def timepassedby (cls, years):\n",
    "        for pet in cls.pet_instance:\n",
    "            pet.age += years\n",
    "\n",
    "            \n",
    "class Dog(Pet):\n",
    "    def __init__(self, name, category, age, breed):\n",
    "        super().__init__(name, category, age)\n",
    "        self.breed = breed\n",
    "        \n",
    "        \n",
    "    def barks(self):\n",
    "        print(f\"{self.breed} does woof woof!\")    \n",
    "    "
   ]
  },
  {
   "cell_type": "code",
   "execution_count": 2,
   "id": "d521f0c7",
   "metadata": {},
   "outputs": [
    {
     "name": "stdout",
     "output_type": "stream",
     "text": [
      "2\n",
      "2\n"
     ]
    }
   ],
   "source": [
    "##\n",
    "# create the pet insatnce\n",
    "instance1 = Pet(\"Micky\", \"Cat\",1)\n",
    "#create Dog instance\n",
    "instance2 = Dog(\"Saphie\", \"Dog\", 2, \"German Shephard\")\n",
    "\n",
    "print(Pet.pet_population)\n",
    "print(Dog.pet_population)\n",
    "\n"
   ]
  },
  {
   "cell_type": "code",
   "execution_count": 3,
   "id": "9fa344e3",
   "metadata": {},
   "outputs": [
    {
     "name": "stdout",
     "output_type": "stream",
     "text": [
      "Micky\n",
      "Saphie\n"
     ]
    }
   ],
   "source": [
    "for item in Pet.pet_instance:\n",
    "    print(item.name)"
   ]
  },
  {
   "cell_type": "code",
   "execution_count": 4,
   "id": "5f164e67",
   "metadata": {},
   "outputs": [
    {
     "name": "stdout",
     "output_type": "stream",
     "text": [
      "6\n",
      "7\n"
     ]
    }
   ],
   "source": [
    "Pet.timepassedby(5)\n",
    "print(instance1.age)\n",
    "print(instance2.age)"
   ]
  },
  {
   "cell_type": "code",
   "execution_count": 5,
   "id": "f1cf14df",
   "metadata": {},
   "outputs": [
    {
     "ename": "AttributeError",
     "evalue": "'Pet' object has no attribute 'barks'",
     "output_type": "error",
     "traceback": [
      "\u001b[1;31m---------------------------------------------------------------------------\u001b[0m",
      "\u001b[1;31mAttributeError\u001b[0m                            Traceback (most recent call last)",
      "\u001b[1;32m~\\AppData\\Local\\Temp\\ipykernel_4256\\1450723109.py\u001b[0m in \u001b[0;36m<module>\u001b[1;34m\u001b[0m\n\u001b[1;32m----> 1\u001b[1;33m \u001b[0minstance1\u001b[0m\u001b[1;33m.\u001b[0m\u001b[0mbarks\u001b[0m\u001b[1;33m(\u001b[0m\u001b[1;33m)\u001b[0m\u001b[1;33m\u001b[0m\u001b[1;33m\u001b[0m\u001b[0m\n\u001b[0m",
      "\u001b[1;31mAttributeError\u001b[0m: 'Pet' object has no attribute 'barks'"
     ]
    }
   ],
   "source": [
    "instance1.barks()"
   ]
  },
  {
   "cell_type": "code",
   "execution_count": 6,
   "id": "9b4ee177",
   "metadata": {},
   "outputs": [
    {
     "name": "stdout",
     "output_type": "stream",
     "text": [
      "German Shephard does woof woof!\n"
     ]
    }
   ],
   "source": [
    "instance2.barks()"
   ]
  },
  {
   "cell_type": "code",
   "execution_count": null,
   "id": "dfb7af19",
   "metadata": {},
   "outputs": [],
   "source": []
  },
  {
   "cell_type": "code",
   "execution_count": null,
   "id": "c2cd0dce",
   "metadata": {},
   "outputs": [],
   "source": []
  },
  {
   "cell_type": "code",
   "execution_count": null,
   "id": "8d7d720f",
   "metadata": {},
   "outputs": [],
   "source": []
  }
 ],
 "metadata": {
  "kernelspec": {
   "display_name": "Python 3 (ipykernel)",
   "language": "python",
   "name": "python3"
  },
  "language_info": {
   "codemirror_mode": {
    "name": "ipython",
    "version": 3
   },
   "file_extension": ".py",
   "mimetype": "text/x-python",
   "name": "python",
   "nbconvert_exporter": "python",
   "pygments_lexer": "ipython3",
   "version": "3.9.13"
  }
 },
 "nbformat": 4,
 "nbformat_minor": 5
}
